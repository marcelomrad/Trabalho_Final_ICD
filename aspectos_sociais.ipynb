{
 "cells": [
  {
   "cell_type": "markdown",
   "metadata": {},
   "source": [
    "## Relação entre `aspectos sociais` e `expectativa de vida `\n",
    "\n",
    "### IDH e Desemprego"
   ]
  },
  {
   "cell_type": "code",
   "execution_count": 1,
   "metadata": {},
   "outputs": [],
   "source": [
    "import pandas as pd\n",
    "import matplotlib.pyplot as plt\n",
    "import seaborn as sns\n",
    "import scipy.stats as stats\n",
    "from sklearn.impute import SimpleImputer\n",
    "import plotly.express as px\n"
   ]
  },
  {
   "cell_type": "code",
   "execution_count": 2,
   "metadata": {},
   "outputs": [
    {
     "data": {
      "text/html": [
       "<div>\n",
       "<style scoped>\n",
       "    .dataframe tbody tr th:only-of-type {\n",
       "        vertical-align: middle;\n",
       "    }\n",
       "\n",
       "    .dataframe tbody tr th {\n",
       "        vertical-align: top;\n",
       "    }\n",
       "\n",
       "    .dataframe thead th {\n",
       "        text-align: right;\n",
       "    }\n",
       "</style>\n",
       "<table border=\"1\" class=\"dataframe\">\n",
       "  <thead>\n",
       "    <tr style=\"text-align: right;\">\n",
       "      <th>Period</th>\n",
       "      <th>Indicator</th>\n",
       "      <th>ParentLocation</th>\n",
       "      <th>Country</th>\n",
       "      <th>Dim1</th>\n",
       "      <th>2000</th>\n",
       "      <th>2010</th>\n",
       "      <th>2015</th>\n",
       "      <th>2019</th>\n",
       "    </tr>\n",
       "  </thead>\n",
       "  <tbody>\n",
       "    <tr>\n",
       "      <th>0</th>\n",
       "      <td>Life expectancy at age 60 (years)</td>\n",
       "      <td>Africa</td>\n",
       "      <td>Algeria</td>\n",
       "      <td>Both sexes</td>\n",
       "      <td>19.81</td>\n",
       "      <td>21.37</td>\n",
       "      <td>21.81</td>\n",
       "      <td>22.04</td>\n",
       "    </tr>\n",
       "    <tr>\n",
       "      <th>1</th>\n",
       "      <td>Life expectancy at age 60 (years)</td>\n",
       "      <td>Africa</td>\n",
       "      <td>Algeria</td>\n",
       "      <td>Female</td>\n",
       "      <td>20.25</td>\n",
       "      <td>21.85</td>\n",
       "      <td>22.33</td>\n",
       "      <td>22.62</td>\n",
       "    </tr>\n",
       "    <tr>\n",
       "      <th>2</th>\n",
       "      <td>Life expectancy at age 60 (years)</td>\n",
       "      <td>Africa</td>\n",
       "      <td>Algeria</td>\n",
       "      <td>Male</td>\n",
       "      <td>19.36</td>\n",
       "      <td>20.89</td>\n",
       "      <td>21.33</td>\n",
       "      <td>21.53</td>\n",
       "    </tr>\n",
       "    <tr>\n",
       "      <th>3</th>\n",
       "      <td>Life expectancy at age 60 (years)</td>\n",
       "      <td>Africa</td>\n",
       "      <td>Angola</td>\n",
       "      <td>Both sexes</td>\n",
       "      <td>14.42</td>\n",
       "      <td>15.97</td>\n",
       "      <td>16.71</td>\n",
       "      <td>16.98</td>\n",
       "    </tr>\n",
       "    <tr>\n",
       "      <th>4</th>\n",
       "      <td>Life expectancy at age 60 (years)</td>\n",
       "      <td>Africa</td>\n",
       "      <td>Angola</td>\n",
       "      <td>Female</td>\n",
       "      <td>16.01</td>\n",
       "      <td>17.54</td>\n",
       "      <td>18.42</td>\n",
       "      <td>18.55</td>\n",
       "    </tr>\n",
       "  </tbody>\n",
       "</table>\n",
       "</div>"
      ],
      "text/plain": [
       "Period                          Indicator ParentLocation  Country        Dim1  \\\n",
       "0       Life expectancy at age 60 (years)         Africa  Algeria  Both sexes   \n",
       "1       Life expectancy at age 60 (years)         Africa  Algeria      Female   \n",
       "2       Life expectancy at age 60 (years)         Africa  Algeria        Male   \n",
       "3       Life expectancy at age 60 (years)         Africa   Angola  Both sexes   \n",
       "4       Life expectancy at age 60 (years)         Africa   Angola      Female   \n",
       "\n",
       "Period   2000   2010   2015   2019  \n",
       "0       19.81  21.37  21.81  22.04  \n",
       "1       20.25  21.85  22.33  22.62  \n",
       "2       19.36  20.89  21.33  21.53  \n",
       "3       14.42  15.97  16.71  16.98  \n",
       "4       16.01  17.54  18.42  18.55  "
      ]
     },
     "execution_count": 2,
     "metadata": {},
     "output_type": "execute_result"
    }
   ],
   "source": [
    "df_expectativa_vida = pd.read_csv('./dataset/expectativa_vida.csv', sep=',')\n",
    "\n",
    "df_expectativa_vida  = df_expectativa_vida[['Indicator','ParentLocation','Country', 'Period', 'Dim1', 'Value']]\n",
    "\n",
    "# Pivotando o dataframe para transformar a coluna 'Period' em colunas separadas para os anos desejados\n",
    "df_expectativa_vida = df_expectativa_vida.pivot_table(index=['Indicator', 'ParentLocation', 'Country', 'Dim1'], columns='Period', values='Value').reset_index()\n",
    "\n",
    "# Selecionando apenas as colunas desejadas\n",
    "df_expectativa_vida = df_expectativa_vida[['Indicator', 'ParentLocation', 'Country', 'Dim1', 2000, 2010, 2015, 2019]]\n",
    "df_expectativa_vida.head()\n",
    "\n",
    "\n"
   ]
  },
  {
   "cell_type": "code",
   "execution_count": 3,
   "metadata": {},
   "outputs": [
    {
     "data": {
      "text/html": [
       "<div>\n",
       "<style scoped>\n",
       "    .dataframe tbody tr th:only-of-type {\n",
       "        vertical-align: middle;\n",
       "    }\n",
       "\n",
       "    .dataframe tbody tr th {\n",
       "        vertical-align: top;\n",
       "    }\n",
       "\n",
       "    .dataframe thead th {\n",
       "        text-align: right;\n",
       "    }\n",
       "</style>\n",
       "<table border=\"1\" class=\"dataframe\">\n",
       "  <thead>\n",
       "    <tr style=\"text-align: right;\">\n",
       "      <th>Period</th>\n",
       "      <th>Indicator</th>\n",
       "      <th>ParentLocation</th>\n",
       "      <th>Country</th>\n",
       "      <th>Dim1</th>\n",
       "      <th>2000</th>\n",
       "      <th>2010</th>\n",
       "      <th>2015</th>\n",
       "      <th>2019</th>\n",
       "    </tr>\n",
       "  </thead>\n",
       "  <tbody>\n",
       "    <tr>\n",
       "      <th>549</th>\n",
       "      <td>Life expectancy at birth (years)</td>\n",
       "      <td>Africa</td>\n",
       "      <td>Algeria</td>\n",
       "      <td>Both sexes</td>\n",
       "      <td>72.21</td>\n",
       "      <td>75.85</td>\n",
       "      <td>76.54</td>\n",
       "      <td>77.13</td>\n",
       "    </tr>\n",
       "    <tr>\n",
       "      <th>552</th>\n",
       "      <td>Life expectancy at birth (years)</td>\n",
       "      <td>Africa</td>\n",
       "      <td>Angola</td>\n",
       "      <td>Both sexes</td>\n",
       "      <td>49.30</td>\n",
       "      <td>58.07</td>\n",
       "      <td>61.72</td>\n",
       "      <td>63.06</td>\n",
       "    </tr>\n",
       "    <tr>\n",
       "      <th>555</th>\n",
       "      <td>Life expectancy at birth (years)</td>\n",
       "      <td>Africa</td>\n",
       "      <td>Benin</td>\n",
       "      <td>Both sexes</td>\n",
       "      <td>56.59</td>\n",
       "      <td>60.47</td>\n",
       "      <td>61.96</td>\n",
       "      <td>63.43</td>\n",
       "    </tr>\n",
       "    <tr>\n",
       "      <th>558</th>\n",
       "      <td>Life expectancy at birth (years)</td>\n",
       "      <td>Africa</td>\n",
       "      <td>Botswana</td>\n",
       "      <td>Both sexes</td>\n",
       "      <td>45.59</td>\n",
       "      <td>58.14</td>\n",
       "      <td>60.93</td>\n",
       "      <td>62.25</td>\n",
       "    </tr>\n",
       "    <tr>\n",
       "      <th>561</th>\n",
       "      <td>Life expectancy at birth (years)</td>\n",
       "      <td>Africa</td>\n",
       "      <td>Burkina Faso</td>\n",
       "      <td>Both sexes</td>\n",
       "      <td>51.64</td>\n",
       "      <td>58.59</td>\n",
       "      <td>60.92</td>\n",
       "      <td>62.70</td>\n",
       "    </tr>\n",
       "  </tbody>\n",
       "</table>\n",
       "</div>"
      ],
      "text/plain": [
       "Period                         Indicator ParentLocation       Country  \\\n",
       "549     Life expectancy at birth (years)         Africa       Algeria   \n",
       "552     Life expectancy at birth (years)         Africa        Angola   \n",
       "555     Life expectancy at birth (years)         Africa         Benin   \n",
       "558     Life expectancy at birth (years)         Africa      Botswana   \n",
       "561     Life expectancy at birth (years)         Africa  Burkina Faso   \n",
       "\n",
       "Period        Dim1   2000   2010   2015   2019  \n",
       "549     Both sexes  72.21  75.85  76.54  77.13  \n",
       "552     Both sexes  49.30  58.07  61.72  63.06  \n",
       "555     Both sexes  56.59  60.47  61.96  63.43  \n",
       "558     Both sexes  45.59  58.14  60.93  62.25  \n",
       "561     Both sexes  51.64  58.59  60.92  62.70  "
      ]
     },
     "execution_count": 3,
     "metadata": {},
     "output_type": "execute_result"
    }
   ],
   "source": [
    "# Separando os dados com base no indicador - Expectativa de vida ao nascer\n",
    "df_expectativa_ao_nascer = df_expectativa_vida[df_expectativa_vida['Indicator'] == 'Life expectancy at birth (years)']\n",
    "df_expectativa_ao_nascer= df_expectativa_ao_nascer[df_expectativa_ao_nascer['Dim1'] == 'Both sexes']\n",
    "\n",
    "df_expectativa_ao_nascer.head()\n"
   ]
  },
  {
   "cell_type": "code",
   "execution_count": 4,
   "metadata": {},
   "outputs": [
    {
     "data": {
      "text/html": [
       "<div>\n",
       "<style scoped>\n",
       "    .dataframe tbody tr th:only-of-type {\n",
       "        vertical-align: middle;\n",
       "    }\n",
       "\n",
       "    .dataframe tbody tr th {\n",
       "        vertical-align: top;\n",
       "    }\n",
       "\n",
       "    .dataframe thead th {\n",
       "        text-align: right;\n",
       "    }\n",
       "</style>\n",
       "<table border=\"1\" class=\"dataframe\">\n",
       "  <thead>\n",
       "    <tr style=\"text-align: right;\">\n",
       "      <th>Period</th>\n",
       "      <th>Indicator</th>\n",
       "      <th>ParentLocation</th>\n",
       "      <th>Country</th>\n",
       "      <th>Dim1</th>\n",
       "      <th>2000</th>\n",
       "      <th>2010</th>\n",
       "      <th>2015</th>\n",
       "      <th>2019</th>\n",
       "    </tr>\n",
       "  </thead>\n",
       "  <tbody>\n",
       "    <tr>\n",
       "      <th>0</th>\n",
       "      <td>Life expectancy at age 60 (years)</td>\n",
       "      <td>Africa</td>\n",
       "      <td>Algeria</td>\n",
       "      <td>Both sexes</td>\n",
       "      <td>19.81</td>\n",
       "      <td>21.37</td>\n",
       "      <td>21.81</td>\n",
       "      <td>22.04</td>\n",
       "    </tr>\n",
       "    <tr>\n",
       "      <th>3</th>\n",
       "      <td>Life expectancy at age 60 (years)</td>\n",
       "      <td>Africa</td>\n",
       "      <td>Angola</td>\n",
       "      <td>Both sexes</td>\n",
       "      <td>14.42</td>\n",
       "      <td>15.97</td>\n",
       "      <td>16.71</td>\n",
       "      <td>16.98</td>\n",
       "    </tr>\n",
       "    <tr>\n",
       "      <th>6</th>\n",
       "      <td>Life expectancy at age 60 (years)</td>\n",
       "      <td>Africa</td>\n",
       "      <td>Benin</td>\n",
       "      <td>Both sexes</td>\n",
       "      <td>16.08</td>\n",
       "      <td>16.69</td>\n",
       "      <td>17.01</td>\n",
       "      <td>17.40</td>\n",
       "    </tr>\n",
       "    <tr>\n",
       "      <th>9</th>\n",
       "      <td>Life expectancy at age 60 (years)</td>\n",
       "      <td>Africa</td>\n",
       "      <td>Botswana</td>\n",
       "      <td>Both sexes</td>\n",
       "      <td>12.92</td>\n",
       "      <td>15.26</td>\n",
       "      <td>15.89</td>\n",
       "      <td>16.25</td>\n",
       "    </tr>\n",
       "    <tr>\n",
       "      <th>12</th>\n",
       "      <td>Life expectancy at age 60 (years)</td>\n",
       "      <td>Africa</td>\n",
       "      <td>Burkina Faso</td>\n",
       "      <td>Both sexes</td>\n",
       "      <td>15.52</td>\n",
       "      <td>16.17</td>\n",
       "      <td>16.44</td>\n",
       "      <td>16.82</td>\n",
       "    </tr>\n",
       "  </tbody>\n",
       "</table>\n",
       "</div>"
      ],
      "text/plain": [
       "Period                          Indicator ParentLocation       Country  \\\n",
       "0       Life expectancy at age 60 (years)         Africa       Algeria   \n",
       "3       Life expectancy at age 60 (years)         Africa        Angola   \n",
       "6       Life expectancy at age 60 (years)         Africa         Benin   \n",
       "9       Life expectancy at age 60 (years)         Africa      Botswana   \n",
       "12      Life expectancy at age 60 (years)         Africa  Burkina Faso   \n",
       "\n",
       "Period        Dim1   2000   2010   2015   2019  \n",
       "0       Both sexes  19.81  21.37  21.81  22.04  \n",
       "3       Both sexes  14.42  15.97  16.71  16.98  \n",
       "6       Both sexes  16.08  16.69  17.01  17.40  \n",
       "9       Both sexes  12.92  15.26  15.89  16.25  \n",
       "12      Both sexes  15.52  16.17  16.44  16.82  "
      ]
     },
     "execution_count": 4,
     "metadata": {},
     "output_type": "execute_result"
    }
   ],
   "source": [
    "# Separando os dados com base no indicador - Expectativa de vida aos 60 anos\n",
    "df_expectativa_aos_60 = df_expectativa_vida[df_expectativa_vida['Indicator'] == 'Life expectancy at age 60 (years)']\n",
    "df_expectativa_aos_60 = df_expectativa_aos_60[df_expectativa_aos_60['Dim1'] == 'Both sexes']\n",
    "df_expectativa_aos_60.head()\n"
   ]
  },
  {
   "cell_type": "code",
   "execution_count": 5,
   "metadata": {},
   "outputs": [
    {
     "data": {
      "text/html": [
       "<div>\n",
       "<style scoped>\n",
       "    .dataframe tbody tr th:only-of-type {\n",
       "        vertical-align: middle;\n",
       "    }\n",
       "\n",
       "    .dataframe tbody tr th {\n",
       "        vertical-align: top;\n",
       "    }\n",
       "\n",
       "    .dataframe thead th {\n",
       "        text-align: right;\n",
       "    }\n",
       "</style>\n",
       "<table border=\"1\" class=\"dataframe\">\n",
       "  <thead>\n",
       "    <tr style=\"text-align: right;\">\n",
       "      <th></th>\n",
       "      <th>Country</th>\n",
       "      <th>HDI Rank</th>\n",
       "      <th>2000</th>\n",
       "      <th>2010</th>\n",
       "      <th>2015</th>\n",
       "      <th>2019</th>\n",
       "    </tr>\n",
       "  </thead>\n",
       "  <tbody>\n",
       "    <tr>\n",
       "      <th>0</th>\n",
       "      <td>Afghanistan</td>\n",
       "      <td>169.0</td>\n",
       "      <td>0.350</td>\n",
       "      <td>0.472</td>\n",
       "      <td>0.500</td>\n",
       "      <td>0.511</td>\n",
       "    </tr>\n",
       "    <tr>\n",
       "      <th>1</th>\n",
       "      <td>Albania</td>\n",
       "      <td>69.0</td>\n",
       "      <td>0.671</td>\n",
       "      <td>0.745</td>\n",
       "      <td>0.788</td>\n",
       "      <td>0.795</td>\n",
       "    </tr>\n",
       "    <tr>\n",
       "      <th>2</th>\n",
       "      <td>Algeria</td>\n",
       "      <td>91.0</td>\n",
       "      <td>0.637</td>\n",
       "      <td>0.721</td>\n",
       "      <td>0.740</td>\n",
       "      <td>0.748</td>\n",
       "    </tr>\n",
       "    <tr>\n",
       "      <th>3</th>\n",
       "      <td>Andorra</td>\n",
       "      <td>36.0</td>\n",
       "      <td>0.813</td>\n",
       "      <td>0.837</td>\n",
       "      <td>0.862</td>\n",
       "      <td>0.868</td>\n",
       "    </tr>\n",
       "    <tr>\n",
       "      <th>4</th>\n",
       "      <td>Angola</td>\n",
       "      <td>148.0</td>\n",
       "      <td>0.400</td>\n",
       "      <td>0.517</td>\n",
       "      <td>0.572</td>\n",
       "      <td>0.581</td>\n",
       "    </tr>\n",
       "  </tbody>\n",
       "</table>\n",
       "</div>"
      ],
      "text/plain": [
       "       Country  HDI Rank   2000   2010   2015   2019\n",
       "0  Afghanistan     169.0  0.350  0.472  0.500  0.511\n",
       "1      Albania      69.0  0.671  0.745  0.788  0.795\n",
       "2      Algeria      91.0  0.637  0.721  0.740  0.748\n",
       "3      Andorra      36.0  0.813  0.837  0.862  0.868\n",
       "4       Angola     148.0  0.400  0.517  0.572  0.581"
      ]
     },
     "execution_count": 5,
     "metadata": {},
     "output_type": "execute_result"
    }
   ],
   "source": [
    "df_hdi = pd.read_csv('./dataset/hdi.csv', sep=',', encoding='ISO-8859-1')\n",
    "df_hdi = df_hdi[['Country', 'HDI Rank', '2000','2010', '2015', '2019']]\n",
    "\n",
    "\n",
    "# Criando o imputer\n",
    "imputer = SimpleImputer(strategy='mean')\n",
    "\n",
    "# Preenchendo os valores faltantes com a média\n",
    "df_hdi['2000'] = imputer.fit_transform(df_hdi[['2000']])\n",
    "df_hdi['2010'] = imputer.fit_transform(df_hdi[['2010']])\n",
    "df_hdi['2015'] = imputer.fit_transform(df_hdi[['2015']])\n",
    "df_hdi['HDI Rank'] = imputer.fit_transform(df_hdi[['HDI Rank']])\n",
    "\n",
    "df_hdi.head()\n"
   ]
  },
  {
   "cell_type": "code",
   "execution_count": 6,
   "metadata": {},
   "outputs": [
    {
     "name": "stdout",
     "output_type": "stream",
     "text": [
      "1175\n"
     ]
    },
    {
     "data": {
      "text/html": [
       "<div>\n",
       "<style scoped>\n",
       "    .dataframe tbody tr th:only-of-type {\n",
       "        vertical-align: middle;\n",
       "    }\n",
       "\n",
       "    .dataframe tbody tr th {\n",
       "        vertical-align: top;\n",
       "    }\n",
       "\n",
       "    .dataframe thead th {\n",
       "        text-align: right;\n",
       "    }\n",
       "</style>\n",
       "<table border=\"1\" class=\"dataframe\">\n",
       "  <thead>\n",
       "    <tr style=\"text-align: right;\">\n",
       "      <th></th>\n",
       "      <th>Country</th>\n",
       "      <th>2000</th>\n",
       "      <th>2010</th>\n",
       "      <th>2015</th>\n",
       "      <th>2019</th>\n",
       "    </tr>\n",
       "  </thead>\n",
       "  <tbody>\n",
       "    <tr>\n",
       "      <th>0</th>\n",
       "      <td>Africa Eastern and Southern</td>\n",
       "      <td>7.72</td>\n",
       "      <td>6.87</td>\n",
       "      <td>6.49</td>\n",
       "      <td>6.91</td>\n",
       "    </tr>\n",
       "    <tr>\n",
       "      <th>1</th>\n",
       "      <td>Afghanistan</td>\n",
       "      <td>10.81</td>\n",
       "      <td>11.35</td>\n",
       "      <td>11.13</td>\n",
       "      <td>11.22</td>\n",
       "    </tr>\n",
       "    <tr>\n",
       "      <th>2</th>\n",
       "      <td>Africa Western and Central</td>\n",
       "      <td>4.92</td>\n",
       "      <td>4.55</td>\n",
       "      <td>4.63</td>\n",
       "      <td>6.06</td>\n",
       "    </tr>\n",
       "    <tr>\n",
       "      <th>3</th>\n",
       "      <td>Angola</td>\n",
       "      <td>4.03</td>\n",
       "      <td>9.43</td>\n",
       "      <td>7.39</td>\n",
       "      <td>7.42</td>\n",
       "    </tr>\n",
       "    <tr>\n",
       "      <th>4</th>\n",
       "      <td>Albania</td>\n",
       "      <td>19.03</td>\n",
       "      <td>14.09</td>\n",
       "      <td>17.19</td>\n",
       "      <td>11.47</td>\n",
       "    </tr>\n",
       "  </tbody>\n",
       "</table>\n",
       "</div>"
      ],
      "text/plain": [
       "                       Country   2000   2010   2015   2019\n",
       "0  Africa Eastern and Southern   7.72   6.87   6.49   6.91\n",
       "1                  Afghanistan  10.81  11.35  11.13  11.22\n",
       "2   Africa Western and Central   4.92   4.55   4.63   6.06\n",
       "3                       Angola   4.03   9.43   7.39   7.42\n",
       "4                      Albania  19.03  14.09  17.19  11.47"
      ]
     },
     "execution_count": 6,
     "metadata": {},
     "output_type": "execute_result"
    }
   ],
   "source": [
    "df_desemprego = pd.read_csv('./dataset/desemprego.csv', sep=',')\n",
    "df_desemprego = df_desemprego[['Country', '2000','2010', '2015', '2019']]\n",
    "print(df_desemprego.size)\n",
    "df_desemprego.head()"
   ]
  },
  {
   "cell_type": "code",
   "execution_count": 7,
   "metadata": {},
   "outputs": [],
   "source": [
    "df_expectativa_ao_nascer = df_expectativa_ao_nascer.rename(columns={2000: 'LifeExp_2000', 2010: 'LifeExp_2010', 2015: 'LifeExp_2015', 2019: 'LifeExp_2019'})\n",
    "df_hdi = df_hdi.rename(columns={'2000': 'HDI_2000', '2010': 'HDI_2010', '2015': 'HDI_2015', '2019': 'HDI_2019'})\n",
    "df_desemprego = df_desemprego.rename(columns={'2000': 'Unemployment_2000', '2010': 'Unemployment_2010', '2015': 'Unemployment_2015', '2019': 'Unemployment_2019'})\n"
   ]
  },
  {
   "cell_type": "code",
   "execution_count": 8,
   "metadata": {},
   "outputs": [
    {
     "name": "stdout",
     "output_type": "stream",
     "text": [
      "2567\n"
     ]
    },
    {
     "data": {
      "text/html": [
       "<div>\n",
       "<style scoped>\n",
       "    .dataframe tbody tr th:only-of-type {\n",
       "        vertical-align: middle;\n",
       "    }\n",
       "\n",
       "    .dataframe tbody tr th {\n",
       "        vertical-align: top;\n",
       "    }\n",
       "\n",
       "    .dataframe thead th {\n",
       "        text-align: right;\n",
       "    }\n",
       "</style>\n",
       "<table border=\"1\" class=\"dataframe\">\n",
       "  <thead>\n",
       "    <tr style=\"text-align: right;\">\n",
       "      <th></th>\n",
       "      <th>Indicator</th>\n",
       "      <th>ParentLocation</th>\n",
       "      <th>Country</th>\n",
       "      <th>Dim1</th>\n",
       "      <th>LifeExp_2000</th>\n",
       "      <th>LifeExp_2010</th>\n",
       "      <th>LifeExp_2015</th>\n",
       "      <th>LifeExp_2019</th>\n",
       "      <th>HDI Rank</th>\n",
       "      <th>HDI_2000</th>\n",
       "      <th>HDI_2010</th>\n",
       "      <th>HDI_2015</th>\n",
       "      <th>HDI_2019</th>\n",
       "      <th>Unemployment_2000</th>\n",
       "      <th>Unemployment_2010</th>\n",
       "      <th>Unemployment_2015</th>\n",
       "      <th>Unemployment_2019</th>\n",
       "    </tr>\n",
       "  </thead>\n",
       "  <tbody>\n",
       "    <tr>\n",
       "      <th>0</th>\n",
       "      <td>Life expectancy at birth (years)</td>\n",
       "      <td>Africa</td>\n",
       "      <td>Algeria</td>\n",
       "      <td>Both sexes</td>\n",
       "      <td>72.21</td>\n",
       "      <td>75.85</td>\n",
       "      <td>76.54</td>\n",
       "      <td>77.13</td>\n",
       "      <td>91.0</td>\n",
       "      <td>0.637000</td>\n",
       "      <td>0.721</td>\n",
       "      <td>0.740</td>\n",
       "      <td>0.748</td>\n",
       "      <td>29.77</td>\n",
       "      <td>9.96</td>\n",
       "      <td>11.21</td>\n",
       "      <td>10.51</td>\n",
       "    </tr>\n",
       "    <tr>\n",
       "      <th>1</th>\n",
       "      <td>Life expectancy at birth (years)</td>\n",
       "      <td>Africa</td>\n",
       "      <td>Angola</td>\n",
       "      <td>Both sexes</td>\n",
       "      <td>49.30</td>\n",
       "      <td>58.07</td>\n",
       "      <td>61.72</td>\n",
       "      <td>63.06</td>\n",
       "      <td>148.0</td>\n",
       "      <td>0.400000</td>\n",
       "      <td>0.517</td>\n",
       "      <td>0.572</td>\n",
       "      <td>0.581</td>\n",
       "      <td>4.03</td>\n",
       "      <td>9.43</td>\n",
       "      <td>7.39</td>\n",
       "      <td>7.42</td>\n",
       "    </tr>\n",
       "    <tr>\n",
       "      <th>2</th>\n",
       "      <td>Life expectancy at birth (years)</td>\n",
       "      <td>Africa</td>\n",
       "      <td>Benin</td>\n",
       "      <td>Both sexes</td>\n",
       "      <td>56.59</td>\n",
       "      <td>60.47</td>\n",
       "      <td>61.96</td>\n",
       "      <td>63.43</td>\n",
       "      <td>158.0</td>\n",
       "      <td>0.416000</td>\n",
       "      <td>0.494</td>\n",
       "      <td>0.532</td>\n",
       "      <td>0.545</td>\n",
       "      <td>0.85</td>\n",
       "      <td>1.04</td>\n",
       "      <td>2.01</td>\n",
       "      <td>1.47</td>\n",
       "    </tr>\n",
       "    <tr>\n",
       "      <th>3</th>\n",
       "      <td>Life expectancy at birth (years)</td>\n",
       "      <td>Africa</td>\n",
       "      <td>Botswana</td>\n",
       "      <td>Both sexes</td>\n",
       "      <td>45.59</td>\n",
       "      <td>58.14</td>\n",
       "      <td>60.93</td>\n",
       "      <td>62.25</td>\n",
       "      <td>100.0</td>\n",
       "      <td>0.581000</td>\n",
       "      <td>0.663</td>\n",
       "      <td>0.717</td>\n",
       "      <td>0.735</td>\n",
       "      <td>15.88</td>\n",
       "      <td>17.86</td>\n",
       "      <td>20.57</td>\n",
       "      <td>22.61</td>\n",
       "    </tr>\n",
       "    <tr>\n",
       "      <th>4</th>\n",
       "      <td>Life expectancy at birth (years)</td>\n",
       "      <td>Africa</td>\n",
       "      <td>Burkina Faso</td>\n",
       "      <td>Both sexes</td>\n",
       "      <td>51.64</td>\n",
       "      <td>58.59</td>\n",
       "      <td>60.92</td>\n",
       "      <td>62.70</td>\n",
       "      <td>182.0</td>\n",
       "      <td>0.293000</td>\n",
       "      <td>0.384</td>\n",
       "      <td>0.422</td>\n",
       "      <td>0.452</td>\n",
       "      <td>2.61</td>\n",
       "      <td>3.64</td>\n",
       "      <td>4.32</td>\n",
       "      <td>4.69</td>\n",
       "    </tr>\n",
       "    <tr>\n",
       "      <th>...</th>\n",
       "      <td>...</td>\n",
       "      <td>...</td>\n",
       "      <td>...</td>\n",
       "      <td>...</td>\n",
       "      <td>...</td>\n",
       "      <td>...</td>\n",
       "      <td>...</td>\n",
       "      <td>...</td>\n",
       "      <td>...</td>\n",
       "      <td>...</td>\n",
       "      <td>...</td>\n",
       "      <td>...</td>\n",
       "      <td>...</td>\n",
       "      <td>...</td>\n",
       "      <td>...</td>\n",
       "      <td>...</td>\n",
       "      <td>...</td>\n",
       "    </tr>\n",
       "    <tr>\n",
       "      <th>146</th>\n",
       "      <td>Life expectancy at birth (years)</td>\n",
       "      <td>Western Pacific</td>\n",
       "      <td>Samoa</td>\n",
       "      <td>Both sexes</td>\n",
       "      <td>68.51</td>\n",
       "      <td>69.57</td>\n",
       "      <td>70.04</td>\n",
       "      <td>70.45</td>\n",
       "      <td>111.0</td>\n",
       "      <td>0.651000</td>\n",
       "      <td>0.698</td>\n",
       "      <td>0.707</td>\n",
       "      <td>0.715</td>\n",
       "      <td>4.66</td>\n",
       "      <td>5.73</td>\n",
       "      <td>8.50</td>\n",
       "      <td>8.41</td>\n",
       "    </tr>\n",
       "    <tr>\n",
       "      <th>147</th>\n",
       "      <td>Life expectancy at birth (years)</td>\n",
       "      <td>Western Pacific</td>\n",
       "      <td>Singapore</td>\n",
       "      <td>Both sexes</td>\n",
       "      <td>78.44</td>\n",
       "      <td>81.70</td>\n",
       "      <td>82.81</td>\n",
       "      <td>83.22</td>\n",
       "      <td>11.0</td>\n",
       "      <td>0.821000</td>\n",
       "      <td>0.909</td>\n",
       "      <td>0.931</td>\n",
       "      <td>0.938</td>\n",
       "      <td>3.70</td>\n",
       "      <td>4.12</td>\n",
       "      <td>3.79</td>\n",
       "      <td>3.10</td>\n",
       "    </tr>\n",
       "    <tr>\n",
       "      <th>148</th>\n",
       "      <td>Life expectancy at birth (years)</td>\n",
       "      <td>Western Pacific</td>\n",
       "      <td>Solomon Islands</td>\n",
       "      <td>Both sexes</td>\n",
       "      <td>62.51</td>\n",
       "      <td>63.69</td>\n",
       "      <td>64.74</td>\n",
       "      <td>65.25</td>\n",
       "      <td>151.0</td>\n",
       "      <td>0.475000</td>\n",
       "      <td>0.537</td>\n",
       "      <td>0.563</td>\n",
       "      <td>0.567</td>\n",
       "      <td>2.03</td>\n",
       "      <td>1.58</td>\n",
       "      <td>0.73</td>\n",
       "      <td>0.75</td>\n",
       "    </tr>\n",
       "    <tr>\n",
       "      <th>149</th>\n",
       "      <td>Life expectancy at birth (years)</td>\n",
       "      <td>Western Pacific</td>\n",
       "      <td>Tonga</td>\n",
       "      <td>Both sexes</td>\n",
       "      <td>70.92</td>\n",
       "      <td>72.22</td>\n",
       "      <td>72.33</td>\n",
       "      <td>72.57</td>\n",
       "      <td>104.0</td>\n",
       "      <td>0.675000</td>\n",
       "      <td>0.699</td>\n",
       "      <td>0.720</td>\n",
       "      <td>0.725</td>\n",
       "      <td>4.08</td>\n",
       "      <td>1.74</td>\n",
       "      <td>2.55</td>\n",
       "      <td>3.06</td>\n",
       "    </tr>\n",
       "    <tr>\n",
       "      <th>150</th>\n",
       "      <td>Life expectancy at birth (years)</td>\n",
       "      <td>Western Pacific</td>\n",
       "      <td>Vanuatu</td>\n",
       "      <td>Both sexes</td>\n",
       "      <td>63.90</td>\n",
       "      <td>64.52</td>\n",
       "      <td>64.64</td>\n",
       "      <td>65.31</td>\n",
       "      <td>140.0</td>\n",
       "      <td>0.629725</td>\n",
       "      <td>0.590</td>\n",
       "      <td>0.598</td>\n",
       "      <td>0.609</td>\n",
       "      <td>1.69</td>\n",
       "      <td>1.85</td>\n",
       "      <td>1.86</td>\n",
       "      <td>1.80</td>\n",
       "    </tr>\n",
       "  </tbody>\n",
       "</table>\n",
       "<p>151 rows × 17 columns</p>\n",
       "</div>"
      ],
      "text/plain": [
       "                            Indicator   ParentLocation          Country  \\\n",
       "0    Life expectancy at birth (years)           Africa          Algeria   \n",
       "1    Life expectancy at birth (years)           Africa           Angola   \n",
       "2    Life expectancy at birth (years)           Africa            Benin   \n",
       "3    Life expectancy at birth (years)           Africa         Botswana   \n",
       "4    Life expectancy at birth (years)           Africa     Burkina Faso   \n",
       "..                                ...              ...              ...   \n",
       "146  Life expectancy at birth (years)  Western Pacific            Samoa   \n",
       "147  Life expectancy at birth (years)  Western Pacific        Singapore   \n",
       "148  Life expectancy at birth (years)  Western Pacific  Solomon Islands   \n",
       "149  Life expectancy at birth (years)  Western Pacific            Tonga   \n",
       "150  Life expectancy at birth (years)  Western Pacific          Vanuatu   \n",
       "\n",
       "           Dim1  LifeExp_2000  LifeExp_2010  LifeExp_2015  LifeExp_2019  \\\n",
       "0    Both sexes         72.21         75.85         76.54         77.13   \n",
       "1    Both sexes         49.30         58.07         61.72         63.06   \n",
       "2    Both sexes         56.59         60.47         61.96         63.43   \n",
       "3    Both sexes         45.59         58.14         60.93         62.25   \n",
       "4    Both sexes         51.64         58.59         60.92         62.70   \n",
       "..          ...           ...           ...           ...           ...   \n",
       "146  Both sexes         68.51         69.57         70.04         70.45   \n",
       "147  Both sexes         78.44         81.70         82.81         83.22   \n",
       "148  Both sexes         62.51         63.69         64.74         65.25   \n",
       "149  Both sexes         70.92         72.22         72.33         72.57   \n",
       "150  Both sexes         63.90         64.52         64.64         65.31   \n",
       "\n",
       "     HDI Rank  HDI_2000  HDI_2010  HDI_2015  HDI_2019  Unemployment_2000  \\\n",
       "0        91.0  0.637000     0.721     0.740     0.748              29.77   \n",
       "1       148.0  0.400000     0.517     0.572     0.581               4.03   \n",
       "2       158.0  0.416000     0.494     0.532     0.545               0.85   \n",
       "3       100.0  0.581000     0.663     0.717     0.735              15.88   \n",
       "4       182.0  0.293000     0.384     0.422     0.452               2.61   \n",
       "..        ...       ...       ...       ...       ...                ...   \n",
       "146     111.0  0.651000     0.698     0.707     0.715               4.66   \n",
       "147      11.0  0.821000     0.909     0.931     0.938               3.70   \n",
       "148     151.0  0.475000     0.537     0.563     0.567               2.03   \n",
       "149     104.0  0.675000     0.699     0.720     0.725               4.08   \n",
       "150     140.0  0.629725     0.590     0.598     0.609               1.69   \n",
       "\n",
       "     Unemployment_2010  Unemployment_2015  Unemployment_2019  \n",
       "0                 9.96              11.21              10.51  \n",
       "1                 9.43               7.39               7.42  \n",
       "2                 1.04               2.01               1.47  \n",
       "3                17.86              20.57              22.61  \n",
       "4                 3.64               4.32               4.69  \n",
       "..                 ...                ...                ...  \n",
       "146               5.73               8.50               8.41  \n",
       "147               4.12               3.79               3.10  \n",
       "148               1.58               0.73               0.75  \n",
       "149               1.74               2.55               3.06  \n",
       "150               1.85               1.86               1.80  \n",
       "\n",
       "[151 rows x 17 columns]"
      ]
     },
     "execution_count": 8,
     "metadata": {},
     "output_type": "execute_result"
    }
   ],
   "source": [
    "merged_df_12 = pd.merge(df_expectativa_ao_nascer, df_hdi, on='Country', how='inner')\n",
    "df = pd.merge(merged_df_12, df_desemprego, on='Country', how='inner')\n",
    "\n",
    "print(df.size)\n",
    "df.head(300)"
   ]
  },
  {
   "cell_type": "code",
   "execution_count": 9,
   "metadata": {},
   "outputs": [
    {
     "name": "stdout",
     "output_type": "stream",
     "text": [
      "                   LifeExp_2000  LifeExp_2010  LifeExp_2015  LifeExp_2019\n",
      "HDI_2000               0.860896      0.825360      0.848646      0.847382\n",
      "HDI_2010               0.891106      0.869915      0.898962      0.900383\n",
      "HDI_2015               0.871255      0.854159      0.897002      0.892339\n",
      "HDI_2019               0.870460      0.854067      0.896231      0.893152\n",
      "Unemployment_2000      0.048448     -0.006887     -0.017772     -0.015635\n",
      "Unemployment_2010      0.055214     -0.007211      0.012765      0.016582\n",
      "Unemployment_2015      0.082969      0.020457      0.030892      0.032881\n",
      "Unemployment_2019     -0.063497     -0.128913     -0.121823     -0.122491\n"
     ]
    },
    {
     "name": "stderr",
     "output_type": "stream",
     "text": [
      "C:\\Users\\marce\\AppData\\Local\\Temp\\ipykernel_10764\\966662274.py:1: FutureWarning: The default value of numeric_only in DataFrame.corr is deprecated. In a future version, it will default to False. Select only valid columns or specify the value of numeric_only to silence this warning.\n",
      "  correlation_matrix = df.corr()\n"
     ]
    },
    {
     "data": {
      "image/png": "[encoded data removed]",
      "text/plain": [
       "<Figure size 1200x800 with 2 Axes>"
      ]
     },
     "metadata": {},
     "output_type": "display_data"
    }
   ],
   "source": [
    "correlation_matrix = df.corr()\n",
    "\n",
    "# Remova as linhas indesejadas\n",
    "columns_to_keep = ['LifeExp_2000', 'LifeExp_2010', 'LifeExp_2015', 'LifeExp_2019']\n",
    "correlation_matrix = correlation_matrix[columns_to_keep]\n",
    "\n",
    "rows_to_remove = ['HDI Rank', 'LifeExp_2000', 'LifeExp_2010','LifeExp_2015', 'LifeExp_2019']\n",
    "correlation_matrix = correlation_matrix.drop(rows_to_remove)\n",
    "\n",
    "print(correlation_matrix)\n",
    "\n",
    "\n",
    "plt.figure(figsize=(12, 8))\n",
    "sns.heatmap(correlation_matrix, annot=True, cmap=\"coolwarm\")\n",
    "plt.show()\n",
    "\n"
   ]
  },
  {
   "cell_type": "code",
   "execution_count": 10,
   "metadata": {},
   "outputs": [
    {
     "data": {
      "text/html": [
       "<div>\n",
       "<style scoped>\n",
       "    .dataframe tbody tr th:only-of-type {\n",
       "        vertical-align: middle;\n",
       "    }\n",
       "\n",
       "    .dataframe tbody tr th {\n",
       "        vertical-align: top;\n",
       "    }\n",
       "\n",
       "    .dataframe thead th {\n",
       "        text-align: right;\n",
       "    }\n",
       "</style>\n",
       "<table border=\"1\" class=\"dataframe\">\n",
       "  <thead>\n",
       "    <tr style=\"text-align: right;\">\n",
       "      <th></th>\n",
       "      <th>LifeExp_2000</th>\n",
       "      <th>LifeExp_2010</th>\n",
       "      <th>LifeExp_2015</th>\n",
       "      <th>LifeExp_2019</th>\n",
       "      <th>HDI Rank</th>\n",
       "      <th>HDI_2000</th>\n",
       "      <th>HDI_2010</th>\n",
       "      <th>HDI_2015</th>\n",
       "      <th>HDI_2019</th>\n",
       "      <th>Unemployment_2000</th>\n",
       "      <th>Unemployment_2010</th>\n",
       "      <th>Unemployment_2015</th>\n",
       "      <th>Unemployment_2019</th>\n",
       "    </tr>\n",
       "  </thead>\n",
       "  <tbody>\n",
       "    <tr>\n",
       "      <th>count</th>\n",
       "      <td>151.000000</td>\n",
       "      <td>151.000000</td>\n",
       "      <td>151.000000</td>\n",
       "      <td>151.000000</td>\n",
       "      <td>151.000000</td>\n",
       "      <td>151.000000</td>\n",
       "      <td>151.000000</td>\n",
       "      <td>151.000000</td>\n",
       "      <td>151.000000</td>\n",
       "      <td>151.000000</td>\n",
       "      <td>151.000000</td>\n",
       "      <td>151.000000</td>\n",
       "      <td>151.000000</td>\n",
       "    </tr>\n",
       "    <tr>\n",
       "      <th>mean</th>\n",
       "      <td>66.921457</td>\n",
       "      <td>70.217417</td>\n",
       "      <td>71.757550</td>\n",
       "      <td>72.806623</td>\n",
       "      <td>95.443709</td>\n",
       "      <td>0.630108</td>\n",
       "      <td>0.683199</td>\n",
       "      <td>0.706682</td>\n",
       "      <td>0.719338</td>\n",
       "      <td>8.335033</td>\n",
       "      <td>7.893576</td>\n",
       "      <td>7.689205</td>\n",
       "      <td>6.908742</td>\n",
       "    </tr>\n",
       "    <tr>\n",
       "      <th>std</th>\n",
       "      <td>9.981555</td>\n",
       "      <td>8.853955</td>\n",
       "      <td>7.692528</td>\n",
       "      <td>7.172872</td>\n",
       "      <td>56.051005</td>\n",
       "      <td>0.167871</td>\n",
       "      <td>0.160616</td>\n",
       "      <td>0.155875</td>\n",
       "      <td>0.154211</td>\n",
       "      <td>6.506300</td>\n",
       "      <td>5.788660</td>\n",
       "      <td>5.796361</td>\n",
       "      <td>5.318303</td>\n",
       "    </tr>\n",
       "    <tr>\n",
       "      <th>min</th>\n",
       "      <td>43.780000</td>\n",
       "      <td>31.280000</td>\n",
       "      <td>47.670000</td>\n",
       "      <td>50.750000</td>\n",
       "      <td>1.000000</td>\n",
       "      <td>0.262000</td>\n",
       "      <td>0.331000</td>\n",
       "      <td>0.372000</td>\n",
       "      <td>0.394000</td>\n",
       "      <td>0.580000</td>\n",
       "      <td>0.450000</td>\n",
       "      <td>0.170000</td>\n",
       "      <td>0.100000</td>\n",
       "    </tr>\n",
       "    <tr>\n",
       "      <th>25%</th>\n",
       "      <td>59.915000</td>\n",
       "      <td>64.065000</td>\n",
       "      <td>64.835000</td>\n",
       "      <td>66.580000</td>\n",
       "      <td>46.500000</td>\n",
       "      <td>0.489000</td>\n",
       "      <td>0.538000</td>\n",
       "      <td>0.571000</td>\n",
       "      <td>0.588000</td>\n",
       "      <td>3.675000</td>\n",
       "      <td>4.015000</td>\n",
       "      <td>3.885000</td>\n",
       "      <td>3.495000</td>\n",
       "    </tr>\n",
       "    <tr>\n",
       "      <th>50%</th>\n",
       "      <td>70.340000</td>\n",
       "      <td>72.220000</td>\n",
       "      <td>73.250000</td>\n",
       "      <td>74.070000</td>\n",
       "      <td>95.000000</td>\n",
       "      <td>0.643000</td>\n",
       "      <td>0.715000</td>\n",
       "      <td>0.735000</td>\n",
       "      <td>0.740000</td>\n",
       "      <td>6.280000</td>\n",
       "      <td>6.560000</td>\n",
       "      <td>6.150000</td>\n",
       "      <td>5.210000</td>\n",
       "    </tr>\n",
       "    <tr>\n",
       "      <th>75%</th>\n",
       "      <td>74.415000</td>\n",
       "      <td>76.250000</td>\n",
       "      <td>77.495000</td>\n",
       "      <td>77.935000</td>\n",
       "      <td>145.500000</td>\n",
       "      <td>0.759500</td>\n",
       "      <td>0.804000</td>\n",
       "      <td>0.838500</td>\n",
       "      <td>0.841500</td>\n",
       "      <td>11.745000</td>\n",
       "      <td>10.270000</td>\n",
       "      <td>9.420000</td>\n",
       "      <td>8.605000</td>\n",
       "    </tr>\n",
       "    <tr>\n",
       "      <th>max</th>\n",
       "      <td>81.120000</td>\n",
       "      <td>82.680000</td>\n",
       "      <td>83.620000</td>\n",
       "      <td>84.260000</td>\n",
       "      <td>189.000000</td>\n",
       "      <td>0.915000</td>\n",
       "      <td>0.941000</td>\n",
       "      <td>0.947000</td>\n",
       "      <td>0.957000</td>\n",
       "      <td>35.460000</td>\n",
       "      <td>27.310000</td>\n",
       "      <td>27.690000</td>\n",
       "      <td>28.470000</td>\n",
       "    </tr>\n",
       "  </tbody>\n",
       "</table>\n",
       "</div>"
      ],
      "text/plain": [
       "       LifeExp_2000  LifeExp_2010  LifeExp_2015  LifeExp_2019    HDI Rank  \\\n",
       "count    151.000000    151.000000    151.000000    151.000000  151.000000   \n",
       "mean      66.921457     70.217417     71.757550     72.806623   95.443709   \n",
       "std        9.981555      8.853955      7.692528      7.172872   56.051005   \n",
       "min       43.780000     31.280000     47.670000     50.750000    1.000000   \n",
       "25%       59.915000     64.065000     64.835000     66.580000   46.500000   \n",
       "50%       70.340000     72.220000     73.250000     74.070000   95.000000   \n",
       "75%       74.415000     76.250000     77.495000     77.935000  145.500000   \n",
       "max       81.120000     82.680000     83.620000     84.260000  189.000000   \n",
       "\n",
       "         HDI_2000    HDI_2010    HDI_2015    HDI_2019  Unemployment_2000  \\\n",
       "count  151.000000  151.000000  151.000000  151.000000         151.000000   \n",
       "mean     0.630108    0.683199    0.706682    0.719338           8.335033   \n",
       "std      0.167871    0.160616    0.155875    0.154211           6.506300   \n",
       "min      0.262000    0.331000    0.372000    0.394000           0.580000   \n",
       "25%      0.489000    0.538000    0.571000    0.588000           3.675000   \n",
       "50%      0.643000    0.715000    0.735000    0.740000           6.280000   \n",
       "75%      0.759500    0.804000    0.838500    0.841500          11.745000   \n",
       "max      0.915000    0.941000    0.947000    0.957000          35.460000   \n",
       "\n",
       "       Unemployment_2010  Unemployment_2015  Unemployment_2019  \n",
       "count         151.000000         151.000000         151.000000  \n",
       "mean            7.893576           7.689205           6.908742  \n",
       "std             5.788660           5.796361           5.318303  \n",
       "min             0.450000           0.170000           0.100000  \n",
       "25%             4.015000           3.885000           3.495000  \n",
       "50%             6.560000           6.150000           5.210000  \n",
       "75%            10.270000           9.420000           8.605000  \n",
       "max            27.310000          27.690000          28.470000  "
      ]
     },
     "execution_count": 10,
     "metadata": {},
     "output_type": "execute_result"
    }
   ],
   "source": [
    "df.describe()"
   ]
  },
  {
   "cell_type": "code",
   "execution_count": 11,
   "metadata": {},
   "outputs": [
    {
     "data": {
      "image/png": "[encoded data removed]",
      "text/plain": [
       "<Figure size 640x480 with 1 Axes>"
      ]
     },
     "metadata": {},
     "output_type": "display_data"
    }
   ],
   "source": [
    "mean_life_exp = df[['LifeExp_2000', 'LifeExp_2010', 'LifeExp_2015', 'LifeExp_2019']].mean()\n",
    "mean_life_exp.plot()\n",
    "plt.title(\"Média da Expectativa de Vida ao Longo dos Anos\")\n",
    "plt.ylabel(\"Expectativa de Vida\")\n",
    "plt.xlabel(\"Ano\")\n",
    "plt.show()\n"
   ]
  },
  {
   "cell_type": "code",
   "execution_count": 12,
   "metadata": {},
   "outputs": [
    {
     "data": {
      "application/vnd.plotly.v1+json": {
       "config": {
        "plotlyServerURL": "https://plot.ly"
       },
       "data": [
        {
         "hovertemplate": "Country=Algeria<br>LifeExp_2000=%{x}<br>HDI_2000=%{y}<extra></extra>",
         "legendgroup": "Algeria",
         "marker": {
          "color": "#636efa",
          "opacity": 0.6,
          "symbol": "circle"
         },
         "mode": "markers",
         "name": "Algeria",
         "orientation": "v",
         "showlegend": true,
         "type": "scatter",
         "x": [
          72.21
         ],
         "xaxis": "x",
         "y": [
          0.637
         ],
         "yaxis": "y"
        },
        {
         "hovertemplate": "Country=Angola<br>LifeExp_2000=%{x}<br>HDI_2000=%{y}<extra></extra>",
         "legendgroup": "Angola",
         "marker": {
          "color": "#EF553B",
          "opacity": 0.6,
          "symbol": "circle"
         },
         "mode": "markers",
         "name": "Angola",
         "orientation": "v",
         "showlegend": true,
         "type": "scatter",
         "x": [
          49.3
         ],
         "xaxis": "x",
         "y": [
          0.4
         ],
         "yaxis": "y"
        },
        {
         "hovertemplate": "Country=Benin<br>LifeExp_2000=%{x}<br>HDI_2000=%{y}<extra></extra>",
         "legendgroup": "Benin",
         "marker": {
          "color": "#00cc96",
          "opacity": 0.6,
          "symbol": "circle"
         },
         "mode": "markers",
         "name": "Benin",
         "orientation": "v",
         "showlegend": true,
         "type": "scatter",
         "x": [
          56.59
         ],
         "xaxis": "x",
         "y": [
          0.416
         ],
         "yaxis": "y"
        },
        {
         "hovertemplate": "Country=Botswana<br>LifeExp_2000=%{x}<br>HDI_2000=%{y}<extra></extra>",
         "legendgroup": "Botswana",
         "marker": {
          "color": "#ab63fa",
          "opacity": 0.6,
          "symbol": "circle"
         },
         "mode": "markers",
         "name": "Botswana",
         "orientation": "v",
         "showlegend": true,
         "type": "scatter",
         "x": [
          45.59
         ],
         "xaxis": "x",
         "y": [
          0.581
         ],
         "yaxis": "y"
        },
        {
         "hovertemplate": "Country=Burkina Faso<br>LifeExp_2000=%{x}<br>HDI_2000=%{y}<extra></extra>",
         "legendgroup": "Burkina Faso",
         "marker": {
          "color": "#FFA15A",
          "opacity": 0.6,
          "symbol": "circle"
         },
         "mode": "markers",
         "name": "Burkina Faso",
         "orientation": "v",
         "showlegend": true,
         "type": "scatter",
         "x": [
          51.64
         ],
         "xaxis": "x",
         "y": [
          0.293
         ],
         "yaxis": "y"
        },
        {
         "hovertemplate": "Country=Burundi<br>LifeExp_2000=%{x}<br>HDI_2000=%{y}<extra></extra>",
         "legendgroup": "Burundi",
         "marker": {
          "color": "#19d3f3",
          "opacity": 0.6,
          "symbol": "circle"
         },
         "mode": "markers",
         "name": "Burundi",
         "orientation": "v",
         "showlegend": true,
         "type": "scatter",
         "x": [
          43.78
         ],
         "xaxis": "x",
         "y": [
          0.3
         ],
         "yaxis": "y"
        },
        {
         "hovertemplate": "Country=Cabo Verde<br>LifeExp_2000=%{x}<br>HDI_2000=%{y}<extra></extra>",
         "legendgroup": "Cabo Verde",
         "marker": {
          "color": "#FF6692",
          "opacity": 0.6,
          "symbol": "circle"
         },
         "mode": "markers",
         "name": "Cabo Verde",
         "orientation": "v",
         "showlegend": true,
         "type": "scatter",
         "x": [
          70.97
         ],
         "xaxis": "x",
         "y": [
          0.569
         ],
         "yaxis": "y"
        },
        {
         "hovertemplate": "Country=Cameroon<br>LifeExp_2000=%{x}<br>HDI_2000=%{y}<extra></extra>",
         "legendgroup": "Cameroon",
         "marker": {
          "color": "#B6E880",
          "opacity": 0.6,
          "symbol": "circle"
         },
         "mode": "markers",
         "name": "Cameroon",
         "orientation": "v",
         "showlegend": true,
         "type": "scatter",
         "x": [
          52.82
         ],
         "xaxis": "x",
         "y": [
          0.44
         ],
         "yaxis": "y"
        },
        {
         "hovertemplate": "Country=Central African Republic<br>LifeExp_2000=%{x}<br>HDI_2000=%{y}<extra></extra>",
         "legendgroup": "Central African Republic",
         "marker": {
          "color": "#FF97FF",
          "opacity": 0.6,
          "symbol": "circle"
         },
         "mode": "markers",
         "name": "Central African Republic",
         "orientation": "v",
         "showlegend": true,
         "type": "scatter",
         "x": [
          44.34
         ],
         "xaxis": "x",
         "y": [
          0.325
         ],
         "yaxis": "y"
        },
        {
         "hovertemplate": "Country=Chad<br>LifeExp_2000=%{x}<br>HDI_2000=%{y}<extra></extra>",
         "legendgroup": "Chad",
         "marker": {
          "color": "#FECB52",
          "opacity": 0.6,
          "symbol": "circle"
         },
         "mode": "markers",
         "name": "Chad",
         "orientation": "v",
         "showlegend": true,
         "type": "scatter",
         "x": [
          51.08
         ],
         "xaxis": "x",
         "y": [
          0.293
         ],
         "yaxis": "y"
        },
        {
         "hovertemplate": "Country=Comoros<br>LifeExp_2000=%{x}<br>HDI_2000=%{y}<extra></extra>",
         "legendgroup": "Comoros",
         "marker": {
          "color": "#636efa",
          "opacity": 0.6,
          "symbol": "circle"
         },
         "mode": "markers",
         "name": "Comoros",
         "orientation": "v",
         "showlegend": true,
         "type": "scatter",
         "x": [
          61.51
         ],
         "xaxis": "x",
         "y": [
          0.465
         ],
         "yaxis": "y"
        },
        {
         "hovertemplate": "Country=Equatorial Guinea<br>LifeExp_2000=%{x}<br>HDI_2000=%{y}<extra></extra>",
         "legendgroup": "Equatorial Guinea",
         "marker": {
          "color": "#EF553B",
          "opacity": 0.6,
          "symbol": "circle"
         },
         "mode": "markers",
         "name": "Equatorial Guinea",
         "orientation": "v",
         "showlegend": true,
         "type": "scatter",
         "x": [
          54.31
         ],
         "xaxis": "x",
         "y": [
          0.525
         ],
         "yaxis": "y"
        },
        {
         "hovertemplate": "Country=Eritrea<br>LifeExp_2000=%{x}<br>HDI_2000=%{y}<extra></extra>",
         "legendgroup": "Eritrea",
         "marker": {
          "color": "#00cc96",
          "opacity": 0.6,
          "symbol": "circle"
         },
         "mode": "markers",
         "name": "Eritrea",
         "orientation": "v",
         "showlegend": true,
         "type": "scatter",
         "x": [
          54.51
         ],
         "xaxis": "x",
         "y": [
          0.6297248677248677
         ],
         "yaxis": "y"
        },
        {
         "hovertemplate": "Country=Ethiopia<br>LifeExp_2000=%{x}<br>HDI_2000=%{y}<extra></extra>",
         "legendgroup": "Ethiopia",
         "marker": {
          "color": "#ab63fa",
          "opacity": 0.6,
          "symbol": "circle"
         },
         "mode": "markers",
         "name": "Ethiopia",
         "orientation": "v",
         "showlegend": true,
         "type": "scatter",
         "x": [
          50.58
         ],
         "xaxis": "x",
         "y": [
          0.292
         ],
         "yaxis": "y"
        },
        {
         "hovertemplate": "Country=Gabon<br>LifeExp_2000=%{x}<br>HDI_2000=%{y}<extra></extra>",
         "legendgroup": "Gabon",
         "marker": {
          "color": "#FFA15A",
          "opacity": 0.6,
          "symbol": "circle"
         },
         "mode": "markers",
         "name": "Gabon",
         "orientation": "v",
         "showlegend": true,
         "type": "scatter",
         "x": [
          58.1
         ],
         "xaxis": "x",
         "y": [
          0.621
         ],
         "yaxis": "y"
        },
        {
         "hovertemplate": "Country=Ghana<br>LifeExp_2000=%{x}<br>HDI_2000=%{y}<extra></extra>",
         "legendgroup": "Ghana",
         "marker": {
          "color": "#19d3f3",
          "opacity": 0.6,
          "symbol": "circle"
         },
         "mode": "markers",
         "name": "Ghana",
         "orientation": "v",
         "showlegend": true,
         "type": "scatter",
         "x": [
          59.24
         ],
         "xaxis": "x",
         "y": [
          0.494
         ],
         "yaxis": "y"
        },
        {
         "hovertemplate": "Country=Guinea<br>LifeExp_2000=%{x}<br>HDI_2000=%{y}<extra></extra>",
         "legendgroup": "Guinea",
         "marker": {
          "color": "#FF6692",
          "opacity": 0.6,
          "symbol": "circle"
         },
         "mode": "markers",
         "name": "Guinea",
         "orientation": "v",
         "showlegend": true,
         "type": "scatter",
         "x": [
          54.26
         ],
         "xaxis": "x",
         "y": [
          0.34
         ],
         "yaxis": "y"
        },
        {
         "hovertemplate": "Country=Guinea-Bissau<br>LifeExp_2000=%{x}<br>HDI_2000=%{y}<extra></extra>",
         "legendgroup": "Guinea-Bissau",
         "marker": {
          "color": "#B6E880",
          "opacity": 0.6,
          "symbol": "circle"
         },
         "mode": "markers",
         "name": "Guinea-Bissau",
         "orientation": "v",
         "showlegend": true,
         "type": "scatter",
         "x": [
          50.28
         ],
         "xaxis": "x",
         "y": [
          0.6297248677248677
         ],
         "yaxis": "y"
        },
        {
         "hovertemplate": "Country=Kenya<br>LifeExp_2000=%{x}<br>HDI_2000=%{y}<extra></extra>",
         "legendgroup": "Kenya",
         "marker": {
          "color": "#FF97FF",
          "opacity": 0.6,
          "symbol": "circle"
         },
         "mode": "markers",
         "name": "Kenya",
         "orientation": "v",
         "showlegend": true,
         "type": "scatter",
         "x": [
          53.87
         ],
         "xaxis": "x",
         "y": [
          0.461
         ],
         "yaxis": "y"
        },
        {
         "hovertemplate": "Country=Lesotho<br>LifeExp_2000=%{x}<br>HDI_2000=%{y}<extra></extra>",
         "legendgroup": "Lesotho",
         "marker": {
          "color": "#FECB52",
          "opacity": 0.6,
          "symbol": "circle"
         },
         "mode": "markers",
         "name": "Lesotho",
         "orientation": "v",
         "showlegend": true,
         "type": "scatter",
         "x": [
          47.82
         ],
         "xaxis": "x",
         "y": [
          0.459
         ],
         "yaxis": "y"
        },
        {
         "hovertemplate": "Country=Liberia<br>LifeExp_2000=%{x}<br>HDI_2000=%{y}<extra></extra>",
         "legendgroup": "Liberia",
         "marker": {
          "color": "#636efa",
          "opacity": 0.6,
          "symbol": "circle"
         },
         "mode": "markers",
         "name": "Liberia",
         "orientation": "v",
         "showlegend": true,
         "type": "scatter",
         "x": [
          53.77
         ],
         "xaxis": "x",
         "y": [
          0.435
         ],
         "yaxis": "y"
        },
        {
         "hovertemplate": "Country=Madagascar<br>LifeExp_2000=%{x}<br>HDI_2000=%{y}<extra></extra>",
         "legendgroup": "Madagascar",
         "marker": {
          "color": "#EF553B",
          "opacity": 0.6,
          "symbol": "circle"
         },
         "mode": "markers",
         "name": "Madagascar",
         "orientation": "v",
         "showlegend": true,
         "type": "scatter",
         "x": [
          58.82
         ],
         "xaxis": "x",
         "y": [
          0.462
         ],
         "yaxis": "y"
        },
        {
         "hovertemplate": "Country=Malawi<br>LifeExp_2000=%{x}<br>HDI_2000=%{y}<extra></extra>",
         "legendgroup": "Malawi",
         "marker": {
          "color": "#00cc96",
          "opacity": 0.6,
          "symbol": "circle"
         },
         "mode": "markers",
         "name": "Malawi",
         "orientation": "v",
         "showlegend": true,
         "type": "scatter",
         "x": [
          44.73
         ],
         "xaxis": "x",
         "y": [
          0.388
         ],
         "yaxis": "y"
        },
        {
         "hovertemplate": "Country=Mali<br>LifeExp_2000=%{x}<br>HDI_2000=%{y}<extra></extra>",
         "legendgroup": "Mali",
         "marker": {
          "color": "#ab63fa",
          "opacity": 0.6,
          "symbol": "circle"
         },
         "mode": "markers",
         "name": "Mali",
         "orientation": "v",
         "showlegend": true,
         "type": "scatter",
         "x": [
          52.64
         ],
         "xaxis": "x",
         "y": [
          0.312
         ],
         "yaxis": "y"
        },
        {
         "hovertemplate": "Country=Mauritania<br>LifeExp_2000=%{x}<br>HDI_2000=%{y}<extra></extra>",
         "legendgroup": "Mauritania",
         "marker": {
          "color": "#FFA15A",
          "opacity": 0.6,
          "symbol": "circle"
         },
         "mode": "markers",
         "name": "Mauritania",
         "orientation": "v",
         "showlegend": true,
         "type": "scatter",
         "x": [
          61.96
         ],
         "xaxis": "x",
         "y": [
          0.464
         ],
         "yaxis": "y"
        },
        {
         "hovertemplate": "Country=Mauritius<br>LifeExp_2000=%{x}<br>HDI_2000=%{y}<extra></extra>",
         "legendgroup": "Mauritius",
         "marker": {
          "color": "#19d3f3",
          "opacity": 0.6,
          "symbol": "circle"
         },
         "mode": "markers",
         "name": "Mauritius",
         "orientation": "v",
         "showlegend": true,
         "type": "scatter",
         "x": [
          71.17
         ],
         "xaxis": "x",
         "y": [
          0.678
         ],
         "yaxis": "y"
        },
        {
         "hovertemplate": "Country=Mozambique<br>LifeExp_2000=%{x}<br>HDI_2000=%{y}<extra></extra>",
         "legendgroup": "Mozambique",
         "marker": {
          "color": "#FF6692",
          "opacity": 0.6,
          "symbol": "circle"
         },
         "mode": "markers",
         "name": "Mozambique",
         "orientation": "v",
         "showlegend": true,
         "type": "scatter",
         "x": [
          50.69
         ],
         "xaxis": "x",
         "y": [
          0.307
         ],
         "yaxis": "y"
        },
        {
         "hovertemplate": "Country=Namibia<br>LifeExp_2000=%{x}<br>HDI_2000=%{y}<extra></extra>",
         "legendgroup": "Namibia",
         "marker": {
          "color": "#B6E880",
          "opacity": 0.6,
          "symbol": "circle"
         },
         "mode": "markers",
         "name": "Namibia",
         "orientation": "v",
         "showlegend": true,
         "type": "scatter",
         "x": [
          53.32
         ],
         "xaxis": "x",
         "y": [
          0.544
         ],
         "yaxis": "y"
        },
        {
         "hovertemplate": "Country=Niger<br>LifeExp_2000=%{x}<br>HDI_2000=%{y}<extra></extra>",
         "legendgroup": "Niger",
         "marker": {
          "color": "#FF97FF",
          "opacity": 0.6,
          "symbol": "circle"
         },
         "mode": "markers",
         "name": "Niger",
         "orientation": "v",
         "showlegend": true,
         "type": "scatter",
         "x": [
          50.35
         ],
         "xaxis": "x",
         "y": [
          0.262
         ],
         "yaxis": "y"
        },
        {
         "hovertemplate": "Country=Nigeria<br>LifeExp_2000=%{x}<br>HDI_2000=%{y}<extra></extra>",
         "legendgroup": "Nigeria",
         "marker": {
          "color": "#FECB52",
          "opacity": 0.6,
          "symbol": "circle"
         },
         "mode": "markers",
         "name": "Nigeria",
         "orientation": "v",
         "showlegend": true,
         "type": "scatter",
         "x": [
          53.63
         ],
         "xaxis": "x",
         "y": [
          0.6297248677248677
         ],
         "yaxis": "y"
        },
        {
         "hovertemplate": "Country=Rwanda<br>LifeExp_2000=%{x}<br>HDI_2000=%{y}<extra></extra>",
         "legendgroup": "Rwanda",
         "marker": {
          "color": "#636efa",
          "opacity": 0.6,
          "symbol": "circle"
         },
         "mode": "markers",
         "name": "Rwanda",
         "orientation": "v",
         "showlegend": true,
         "type": "scatter",
         "x": [
          47.51
         ],
         "xaxis": "x",
         "y": [
          0.341
         ],
         "yaxis": "y"
        },
        {
         "hovertemplate": "Country=Sao Tome and Principe<br>LifeExp_2000=%{x}<br>HDI_2000=%{y}<extra></extra>",
         "legendgroup": "Sao Tome and Principe",
         "marker": {
          "color": "#EF553B",
          "opacity": 0.6,
          "symbol": "circle"
         },
         "mode": "markers",
         "name": "Sao Tome and Principe",
         "orientation": "v",
         "showlegend": true,
         "type": "scatter",
         "x": [
          63.45
         ],
         "xaxis": "x",
         "y": [
          0.498
         ],
         "yaxis": "y"
        },
        {
         "hovertemplate": "Country=Senegal<br>LifeExp_2000=%{x}<br>HDI_2000=%{y}<extra></extra>",
         "legendgroup": "Senegal",
         "marker": {
          "color": "#00cc96",
          "opacity": 0.6,
          "symbol": "circle"
         },
         "mode": "markers",
         "name": "Senegal",
         "orientation": "v",
         "showlegend": true,
         "type": "scatter",
         "x": [
          58.6
         ],
         "xaxis": "x",
         "y": [
          0.39
         ],
         "yaxis": "y"
        },
        {
         "hovertemplate": "Country=Sierra Leone<br>LifeExp_2000=%{x}<br>HDI_2000=%{y}<extra></extra>",
         "legendgroup": "Sierra Leone",
         "marker": {
          "color": "#ab63fa",
          "opacity": 0.6,
          "symbol": "circle"
         },
         "mode": "markers",
         "name": "Sierra Leone",
         "orientation": "v",
         "showlegend": true,
         "type": "scatter",
         "x": [
          48.73
         ],
         "xaxis": "x",
         "y": [
          0.295
         ],
         "yaxis": "y"
        },
        {
         "hovertemplate": "Country=South Africa<br>LifeExp_2000=%{x}<br>HDI_2000=%{y}<extra></extra>",
         "legendgroup": "South Africa",
         "marker": {
          "color": "#FFA15A",
          "opacity": 0.6,
          "symbol": "circle"
         },
         "mode": "markers",
         "name": "South Africa",
         "orientation": "v",
         "showlegend": true,
         "type": "scatter",
         "x": [
          55.75
         ],
         "xaxis": "x",
         "y": [
          0.631
         ],
         "yaxis": "y"
        },
        {
         "hovertemplate": "Country=South Sudan<br>LifeExp_2000=%{x}<br>HDI_2000=%{y}<extra></extra>",
         "legendgroup": "South Sudan",
         "marker": {
          "color": "#19d3f3",
          "opacity": 0.6,
          "symbol": "circle"
         },
         "mode": "markers",
         "name": "South Sudan",
         "orientation": "v",
         "showlegend": true,
         "type": "scatter",
         "x": [
          54.15
         ],
         "xaxis": "x",
         "y": [
          0.6297248677248677
         ],
         "yaxis": "y"
        },
        {
         "hovertemplate": "Country=Togo<br>LifeExp_2000=%{x}<br>HDI_2000=%{y}<extra></extra>",
         "legendgroup": "Togo",
         "marker": {
          "color": "#FF6692",
          "opacity": 0.6,
          "symbol": "circle"
         },
         "mode": "markers",
         "name": "Togo",
         "orientation": "v",
         "showlegend": true,
         "type": "scatter",
         "x": [
          55.95
         ],
         "xaxis": "x",
         "y": [
          0.427
         ],
         "yaxis": "y"
        },
        {
         "hovertemplate": "Country=Uganda<br>LifeExp_2000=%{x}<br>HDI_2000=%{y}<extra></extra>",
         "legendgroup": "Uganda",
         "marker": {
          "color": "#B6E880",
          "opacity": 0.6,
          "symbol": "circle"
         },
         "mode": "markers",
         "name": "Uganda",
         "orientation": "v",
         "showlegend": true,
         "type": "scatter",
         "x": [
          48.76
         ],
         "xaxis": "x",
         "y": [
          0.404
         ],
         "yaxis": "y"
        },
        {
         "hovertemplate": "Country=Zambia<br>LifeExp_2000=%{x}<br>HDI_2000=%{y}<extra></extra>",
         "legendgroup": "Zambia",
         "marker": {
          "color": "#FF97FF",
          "opacity": 0.6,
          "symbol": "circle"
         },
         "mode": "markers",
         "name": "Zambia",
         "orientation": "v",
         "showlegend": true,
         "type": "scatter",
         "x": [
          44.46
         ],
         "xaxis": "x",
         "y": [
          0.425
         ],
         "yaxis": "y"
        },
        {
         "hovertemplate": "Country=Zimbabwe<br>LifeExp_2000=%{x}<br>HDI_2000=%{y}<extra></extra>",
         "legendgroup": "Zimbabwe",
         "marker": {
          "color": "#FECB52",
          "opacity": 0.6,
          "symbol": "circle"
         },
         "mode": "markers",
         "name": "Zimbabwe",
         "orientation": "v",
         "showlegend": true,
         "type": "scatter",
         "x": [
          46.57
         ],
         "xaxis": "x",
         "y": [
          0.43
         ],
         "yaxis": "y"
        },
        {
         "hovertemplate": "Country=Argentina<br>LifeExp_2000=%{x}<br>HDI_2000=%{y}<extra></extra>",
         "legendgroup": "Argentina",
         "marker": {
          "color": "#636efa",
          "opacity": 0.6,
          "symbol": "circle"
         },
         "mode": "markers",
         "name": "Argentina",
         "orientation": "v",
         "showlegend": true,
         "type": "scatter",
         "x": [
          74.09
         ],
         "xaxis": "x",
         "y": [
          0.781
         ],
         "yaxis": "y"
        },
        {
         "hovertemplate": "Country=Barbados<br>LifeExp_2000=%{x}<br>HDI_2000=%{y}<extra></extra>",
         "legendgroup": "Barbados",
         "marker": {
          "color": "#EF553B",
          "opacity": 0.6,
          "symbol": "circle"
         },
         "mode": "markers",
         "name": "Barbados",
         "orientation": "v",
         "showlegend": true,
         "type": "scatter",
         "x": [
          74.5
         ],
         "xaxis": "x",
         "y": [
          0.771
         ],
         "yaxis": "y"
        },
        {
         "hovertemplate": "Country=Belize<br>LifeExp_2000=%{x}<br>HDI_2000=%{y}<extra></extra>",
         "legendgroup": "Belize",
         "marker": {
          "color": "#00cc96",
          "opacity": 0.6,
          "symbol": "circle"
         },
         "mode": "markers",
         "name": "Belize",
         "orientation": "v",
         "showlegend": true,
         "type": "scatter",
         "x": [
          70.34
         ],
         "xaxis": "x",
         "y": [
          0.64
         ],
         "yaxis": "y"
        },
        {
         "hovertemplate": "Country=Brazil<br>LifeExp_2000=%{x}<br>HDI_2000=%{y}<extra></extra>",
         "legendgroup": "Brazil",
         "marker": {
          "color": "#ab63fa",
          "opacity": 0.6,
          "symbol": "circle"
         },
         "mode": "markers",
         "name": "Brazil",
         "orientation": "v",
         "showlegend": true,
         "type": "scatter",
         "x": [
          71.47
         ],
         "xaxis": "x",
         "y": [
          0.685
         ],
         "yaxis": "y"
        },
        {
         "hovertemplate": "Country=Canada<br>LifeExp_2000=%{x}<br>HDI_2000=%{y}<extra></extra>",
         "legendgroup": "Canada",
         "marker": {
          "color": "#FFA15A",
          "opacity": 0.6,
          "symbol": "circle"
         },
         "mode": "markers",
         "name": "Canada",
         "orientation": "v",
         "showlegend": true,
         "type": "scatter",
         "x": [
          79.1
         ],
         "xaxis": "x",
         "y": [
          0.867
         ],
         "yaxis": "y"
        },
        {
         "hovertemplate": "Country=Chile<br>LifeExp_2000=%{x}<br>HDI_2000=%{y}<extra></extra>",
         "legendgroup": "Chile",
         "marker": {
          "color": "#19d3f3",
          "opacity": 0.6,
          "symbol": "circle"
         },
         "mode": "markers",
         "name": "Chile",
         "orientation": "v",
         "showlegend": true,
         "type": "scatter",
         "x": [
          76.77
         ],
         "xaxis": "x",
         "y": [
          0.756
         ],
         "yaxis": "y"
        },
        {
         "hovertemplate": "Country=Colombia<br>LifeExp_2000=%{x}<br>HDI_2000=%{y}<extra></extra>",
         "legendgroup": "Colombia",
         "marker": {
          "color": "#FF6692",
          "opacity": 0.6,
          "symbol": "circle"
         },
         "mode": "markers",
         "name": "Colombia",
         "orientation": "v",
         "showlegend": true,
         "type": "scatter",
         "x": [
          73.75
         ],
         "xaxis": "x",
         "y": [
          0.666
         ],
         "yaxis": "y"
        },
        {
         "hovertemplate": "Country=Costa Rica<br>LifeExp_2000=%{x}<br>HDI_2000=%{y}<extra></extra>",
         "legendgroup": "Costa Rica",
         "marker": {
          "color": "#B6E880",
          "opacity": 0.6,
          "symbol": "circle"
         },
         "mode": "markers",
         "name": "Costa Rica",
         "orientation": "v",
         "showlegend": true,
         "type": "scatter",
         "x": [
          78
         ],
         "xaxis": "x",
         "y": [
          0.721
         ],
         "yaxis": "y"
        },
        {
         "hovertemplate": "Country=Cuba<br>LifeExp_2000=%{x}<br>HDI_2000=%{y}<extra></extra>",
         "legendgroup": "Cuba",
         "marker": {
          "color": "#FF97FF",
          "opacity": 0.6,
          "symbol": "circle"
         },
         "mode": "markers",
         "name": "Cuba",
         "orientation": "v",
         "showlegend": true,
         "type": "scatter",
         "x": [
          76.76
         ],
         "xaxis": "x",
         "y": [
          0.691
         ],
         "yaxis": "y"
        },
        {
         "hovertemplate": "Country=Dominican Republic<br>LifeExp_2000=%{x}<br>HDI_2000=%{y}<extra></extra>",
         "legendgroup": "Dominican Republic",
         "marker": {
          "color": "#FECB52",
          "opacity": 0.6,
          "symbol": "circle"
         },
         "mode": "markers",
         "name": "Dominican Republic",
         "orientation": "v",
         "showlegend": true,
         "type": "scatter",
         "x": [
          73.22
         ],
         "xaxis": "x",
         "y": [
          0.659
         ],
         "yaxis": "y"
        },
        {
         "hovertemplate": "Country=Ecuador<br>LifeExp_2000=%{x}<br>HDI_2000=%{y}<extra></extra>",
         "legendgroup": "Ecuador",
         "marker": {
          "color": "#636efa",
          "opacity": 0.6,
          "symbol": "circle"
         },
         "mode": "markers",
         "name": "Ecuador",
         "orientation": "v",
         "showlegend": true,
         "type": "scatter",
         "x": [
          74.53
         ],
         "xaxis": "x",
         "y": [
          0.675
         ],
         "yaxis": "y"
        },
        {
         "hovertemplate": "Country=El Salvador<br>LifeExp_2000=%{x}<br>HDI_2000=%{y}<extra></extra>",
         "legendgroup": "El Salvador",
         "marker": {
          "color": "#EF553B",
          "opacity": 0.6,
          "symbol": "circle"
         },
         "mode": "markers",
         "name": "El Salvador",
         "orientation": "v",
         "showlegend": true,
         "type": "scatter",
         "x": [
          72.5
         ],
         "xaxis": "x",
         "y": [
          0.615
         ],
         "yaxis": "y"
        },
        {
         "hovertemplate": "Country=Guatemala<br>LifeExp_2000=%{x}<br>HDI_2000=%{y}<extra></extra>",
         "legendgroup": "Guatemala",
         "marker": {
          "color": "#00cc96",
          "opacity": 0.6,
          "symbol": "circle"
         },
         "mode": "markers",
         "name": "Guatemala",
         "orientation": "v",
         "showlegend": true,
         "type": "scatter",
         "x": [
          66.78
         ],
         "xaxis": "x",
         "y": [
          0.549
         ],
         "yaxis": "y"
        },
        {
         "hovertemplate": "Country=Guyana<br>LifeExp_2000=%{x}<br>HDI_2000=%{y}<extra></extra>",
         "legendgroup": "Guyana",
         "marker": {
          "color": "#ab63fa",
          "opacity": 0.6,
          "symbol": "circle"
         },
         "mode": "markers",
         "name": "Guyana",
         "orientation": "v",
         "showlegend": true,
         "type": "scatter",
         "x": [
          62.96
         ],
         "xaxis": "x",
         "y": [
          0.616
         ],
         "yaxis": "y"
        },
        {
         "hovertemplate": "Country=Haiti<br>LifeExp_2000=%{x}<br>HDI_2000=%{y}<extra></extra>",
         "legendgroup": "Haiti",
         "marker": {
          "color": "#FFA15A",
          "opacity": 0.6,
          "symbol": "circle"
         },
         "mode": "markers",
         "name": "Haiti",
         "orientation": "v",
         "showlegend": true,
         "type": "scatter",
         "x": [
          57.05
         ],
         "xaxis": "x",
         "y": [
          0.442
         ],
         "yaxis": "y"
        },
        {
         "hovertemplate": "Country=Honduras<br>LifeExp_2000=%{x}<br>HDI_2000=%{y}<extra></extra>",
         "legendgroup": "Honduras",
         "marker": {
          "color": "#19d3f3",
          "opacity": 0.6,
          "symbol": "circle"
         },
         "mode": "markers",
         "name": "Honduras",
         "orientation": "v",
         "showlegend": true,
         "type": "scatter",
         "x": [
          70.04
         ],
         "xaxis": "x",
         "y": [
          0.566
         ],
         "yaxis": "y"
        },
        {
         "hovertemplate": "Country=Jamaica<br>LifeExp_2000=%{x}<br>HDI_2000=%{y}<extra></extra>",
         "legendgroup": "Jamaica",
         "marker": {
          "color": "#FF6692",
          "opacity": 0.6,
          "symbol": "circle"
         },
         "mode": "markers",
         "name": "Jamaica",
         "orientation": "v",
         "showlegend": true,
         "type": "scatter",
         "x": [
          74.22
         ],
         "xaxis": "x",
         "y": [
          0.678
         ],
         "yaxis": "y"
        },
        {
         "hovertemplate": "Country=Mexico<br>LifeExp_2000=%{x}<br>HDI_2000=%{y}<extra></extra>",
         "legendgroup": "Mexico",
         "marker": {
          "color": "#B6E880",
          "opacity": 0.6,
          "symbol": "circle"
         },
         "mode": "markers",
         "name": "Mexico",
         "orientation": "v",
         "showlegend": true,
         "type": "scatter",
         "x": [
          74.41
         ],
         "xaxis": "x",
         "y": [
          0.708
         ],
         "yaxis": "y"
        },
        {
         "hovertemplate": "Country=Nicaragua<br>LifeExp_2000=%{x}<br>HDI_2000=%{y}<extra></extra>",
         "legendgroup": "Nicaragua",
         "marker": {
          "color": "#FF97FF",
          "opacity": 0.6,
          "symbol": "circle"
         },
         "mode": "markers",
         "name": "Nicaragua",
         "orientation": "v",
         "showlegend": true,
         "type": "scatter",
         "x": [
          73.26
         ],
         "xaxis": "x",
         "y": [
          0.577
         ],
         "yaxis": "y"
        },
        {
         "hovertemplate": "Country=Panama<br>LifeExp_2000=%{x}<br>HDI_2000=%{y}<extra></extra>",
         "legendgroup": "Panama",
         "marker": {
          "color": "#FECB52",
          "opacity": 0.6,
          "symbol": "circle"
         },
         "mode": "markers",
         "name": "Panama",
         "orientation": "v",
         "showlegend": true,
         "type": "scatter",
         "x": [
          77.23
         ],
         "xaxis": "x",
         "y": [
          0.735
         ],
         "yaxis": "y"
        },
        {
         "hovertemplate": "Country=Paraguay<br>LifeExp_2000=%{x}<br>HDI_2000=%{y}<extra></extra>",
         "legendgroup": "Paraguay",
         "marker": {
          "color": "#636efa",
          "opacity": 0.6,
          "symbol": "circle"
         },
         "mode": "markers",
         "name": "Paraguay",
         "orientation": "v",
         "showlegend": true,
         "type": "scatter",
         "x": [
          74.8
         ],
         "xaxis": "x",
         "y": [
          0.643
         ],
         "yaxis": "y"
        },
        {
         "hovertemplate": "Country=Peru<br>LifeExp_2000=%{x}<br>HDI_2000=%{y}<extra></extra>",
         "legendgroup": "Peru",
         "marker": {
          "color": "#EF553B",
          "opacity": 0.6,
          "symbol": "circle"
         },
         "mode": "markers",
         "name": "Peru",
         "orientation": "v",
         "showlegend": true,
         "type": "scatter",
         "x": [
          74.42
         ],
         "xaxis": "x",
         "y": [
          0.679
         ],
         "yaxis": "y"
        },
        {
         "hovertemplate": "Country=Suriname<br>LifeExp_2000=%{x}<br>HDI_2000=%{y}<extra></extra>",
         "legendgroup": "Suriname",
         "marker": {
          "color": "#00cc96",
          "opacity": 0.6,
          "symbol": "circle"
         },
         "mode": "markers",
         "name": "Suriname",
         "orientation": "v",
         "showlegend": true,
         "type": "scatter",
         "x": [
          69.94
         ],
         "xaxis": "x",
         "y": [
          0.6297248677248677
         ],
         "yaxis": "y"
        },
        {
         "hovertemplate": "Country=Trinidad and Tobago<br>LifeExp_2000=%{x}<br>HDI_2000=%{y}<extra></extra>",
         "legendgroup": "Trinidad and Tobago",
         "marker": {
          "color": "#ab63fa",
          "opacity": 0.6,
          "symbol": "circle"
         },
         "mode": "markers",
         "name": "Trinidad and Tobago",
         "orientation": "v",
         "showlegend": true,
         "type": "scatter",
         "x": [
          69.7
         ],
         "xaxis": "x",
         "y": [
          0.717
         ],
         "yaxis": "y"
        },
        {
         "hovertemplate": "Country=Uruguay<br>LifeExp_2000=%{x}<br>HDI_2000=%{y}<extra></extra>",
         "legendgroup": "Uruguay",
         "marker": {
          "color": "#FFA15A",
          "opacity": 0.6,
          "symbol": "circle"
         },
         "mode": "markers",
         "name": "Uruguay",
         "orientation": "v",
         "showlegend": true,
         "type": "scatter",
         "x": [
          74.82
         ],
         "xaxis": "x",
         "y": [
          0.743
         ],
         "yaxis": "y"
        },
        {
         "hovertemplate": "Country=Afghanistan<br>LifeExp_2000=%{x}<br>HDI_2000=%{y}<extra></extra>",
         "legendgroup": "Afghanistan",
         "marker": {
          "color": "#19d3f3",
          "opacity": 0.6,
          "symbol": "circle"
         },
         "mode": "markers",
         "name": "Afghanistan",
         "orientation": "v",
         "showlegend": true,
         "type": "scatter",
         "x": [
          54.99
         ],
         "xaxis": "x",
         "y": [
          0.35
         ],
         "yaxis": "y"
        },
        {
         "hovertemplate": "Country=Bahrain<br>LifeExp_2000=%{x}<br>HDI_2000=%{y}<extra></extra>",
         "legendgroup": "Bahrain",
         "marker": {
          "color": "#FF6692",
          "opacity": 0.6,
          "symbol": "circle"
         },
         "mode": "markers",
         "name": "Bahrain",
         "orientation": "v",
         "showlegend": true,
         "type": "scatter",
         "x": [
          70.47
         ],
         "xaxis": "x",
         "y": [
          0.795
         ],
         "yaxis": "y"
        },
        {
         "hovertemplate": "Country=Djibouti<br>LifeExp_2000=%{x}<br>HDI_2000=%{y}<extra></extra>",
         "legendgroup": "Djibouti",
         "marker": {
          "color": "#B6E880",
          "opacity": 0.6,
          "symbol": "circle"
         },
         "mode": "markers",
         "name": "Djibouti",
         "orientation": "v",
         "showlegend": true,
         "type": "scatter",
         "x": [
          59.84
         ],
         "xaxis": "x",
         "y": [
          0.36
         ],
         "yaxis": "y"
        },
        {
         "hovertemplate": "Country=Iraq<br>LifeExp_2000=%{x}<br>HDI_2000=%{y}<extra></extra>",
         "legendgroup": "Iraq",
         "marker": {
          "color": "#FF97FF",
          "opacity": 0.6,
          "symbol": "circle"
         },
         "mode": "markers",
         "name": "Iraq",
         "orientation": "v",
         "showlegend": true,
         "type": "scatter",
         "x": [
          68.77
         ],
         "xaxis": "x",
         "y": [
          0.595
         ],
         "yaxis": "y"
        },
        {
         "hovertemplate": "Country=Jordan<br>LifeExp_2000=%{x}<br>HDI_2000=%{y}<extra></extra>",
         "legendgroup": "Jordan",
         "marker": {
          "color": "#FECB52",
          "opacity": 0.6,
          "symbol": "circle"
         },
         "mode": "markers",
         "name": "Jordan",
         "orientation": "v",
         "showlegend": true,
         "type": "scatter",
         "x": [
          72.65
         ],
         "xaxis": "x",
         "y": [
          0.711
         ],
         "yaxis": "y"
        },
        {
         "hovertemplate": "Country=Kuwait<br>LifeExp_2000=%{x}<br>HDI_2000=%{y}<extra></extra>",
         "legendgroup": "Kuwait",
         "marker": {
          "color": "#636efa",
          "opacity": 0.6,
          "symbol": "circle"
         },
         "mode": "markers",
         "name": "Kuwait",
         "orientation": "v",
         "showlegend": true,
         "type": "scatter",
         "x": [
          77.86
         ],
         "xaxis": "x",
         "y": [
          0.781
         ],
         "yaxis": "y"
        },
        {
         "hovertemplate": "Country=Lebanon<br>LifeExp_2000=%{x}<br>HDI_2000=%{y}<extra></extra>",
         "legendgroup": "Lebanon",
         "marker": {
          "color": "#EF553B",
          "opacity": 0.6,
          "symbol": "circle"
         },
         "mode": "markers",
         "name": "Lebanon",
         "orientation": "v",
         "showlegend": true,
         "type": "scatter",
         "x": [
          74.61
         ],
         "xaxis": "x",
         "y": [
          0.6297248677248677
         ],
         "yaxis": "y"
        },
        {
         "hovertemplate": "Country=Libya<br>LifeExp_2000=%{x}<br>HDI_2000=%{y}<extra></extra>",
         "legendgroup": "Libya",
         "marker": {
          "color": "#00cc96",
          "opacity": 0.6,
          "symbol": "circle"
         },
         "mode": "markers",
         "name": "Libya",
         "orientation": "v",
         "showlegend": true,
         "type": "scatter",
         "x": [
          74.4
         ],
         "xaxis": "x",
         "y": [
          0.78
         ],
         "yaxis": "y"
        },
        {
         "hovertemplate": "Country=Morocco<br>LifeExp_2000=%{x}<br>HDI_2000=%{y}<extra></extra>",
         "legendgroup": "Morocco",
         "marker": {
          "color": "#ab63fa",
          "opacity": 0.6,
          "symbol": "circle"
         },
         "mode": "markers",
         "name": "Morocco",
         "orientation": "v",
         "showlegend": true,
         "type": "scatter",
         "x": [
          69.35
         ],
         "xaxis": "x",
         "y": [
          0.529
         ],
         "yaxis": "y"
        },
        {
         "hovertemplate": "Country=Oman<br>LifeExp_2000=%{x}<br>HDI_2000=%{y}<extra></extra>",
         "legendgroup": "Oman",
         "marker": {
          "color": "#FFA15A",
          "opacity": 0.6,
          "symbol": "circle"
         },
         "mode": "markers",
         "name": "Oman",
         "orientation": "v",
         "showlegend": true,
         "type": "scatter",
         "x": [
          69.07
         ],
         "xaxis": "x",
         "y": [
          0.693
         ],
         "yaxis": "y"
        },
        {
         "hovertemplate": "Country=Pakistan<br>LifeExp_2000=%{x}<br>HDI_2000=%{y}<extra></extra>",
         "legendgroup": "Pakistan",
         "marker": {
          "color": "#19d3f3",
          "opacity": 0.6,
          "symbol": "circle"
         },
         "mode": "markers",
         "name": "Pakistan",
         "orientation": "v",
         "showlegend": true,
         "type": "scatter",
         "x": [
          60.08
         ],
         "xaxis": "x",
         "y": [
          0.447
         ],
         "yaxis": "y"
        },
        {
         "hovertemplate": "Country=Qatar<br>LifeExp_2000=%{x}<br>HDI_2000=%{y}<extra></extra>",
         "legendgroup": "Qatar",
         "marker": {
          "color": "#FF6692",
          "opacity": 0.6,
          "symbol": "circle"
         },
         "mode": "markers",
         "name": "Qatar",
         "orientation": "v",
         "showlegend": true,
         "type": "scatter",
         "x": [
          71.29
         ],
         "xaxis": "x",
         "y": [
          0.816
         ],
         "yaxis": "y"
        },
        {
         "hovertemplate": "Country=Saudi Arabia<br>LifeExp_2000=%{x}<br>HDI_2000=%{y}<extra></extra>",
         "legendgroup": "Saudi Arabia",
         "marker": {
          "color": "#B6E880",
          "opacity": 0.6,
          "symbol": "circle"
         },
         "mode": "markers",
         "name": "Saudi Arabia",
         "orientation": "v",
         "showlegend": true,
         "type": "scatter",
         "x": [
          70.52
         ],
         "xaxis": "x",
         "y": [
          0.743
         ],
         "yaxis": "y"
        },
        {
         "hovertemplate": "Country=Sudan<br>LifeExp_2000=%{x}<br>HDI_2000=%{y}<extra></extra>",
         "legendgroup": "Sudan",
         "marker": {
          "color": "#FF97FF",
          "opacity": 0.6,
          "symbol": "circle"
         },
         "mode": "markers",
         "name": "Sudan",
         "orientation": "v",
         "showlegend": true,
         "type": "scatter",
         "x": [
          62.47
         ],
         "xaxis": "x",
         "y": [
          0.403
         ],
         "yaxis": "y"
        },
        {
         "hovertemplate": "Country=Syrian Arab Republic<br>LifeExp_2000=%{x}<br>HDI_2000=%{y}<extra></extra>",
         "legendgroup": "Syrian Arab Republic",
         "marker": {
          "color": "#FECB52",
          "opacity": 0.6,
          "symbol": "circle"
         },
         "mode": "markers",
         "name": "Syrian Arab Republic",
         "orientation": "v",
         "showlegend": true,
         "type": "scatter",
         "x": [
          71.46
         ],
         "xaxis": "x",
         "y": [
          0.6
         ],
         "yaxis": "y"
        },
        {
         "hovertemplate": "Country=Tunisia<br>LifeExp_2000=%{x}<br>HDI_2000=%{y}<extra></extra>",
         "legendgroup": "Tunisia",
         "marker": {
          "color": "#636efa",
          "opacity": 0.6,
          "symbol": "circle"
         },
         "mode": "markers",
         "name": "Tunisia",
         "orientation": "v",
         "showlegend": true,
         "type": "scatter",
         "x": [
          74.12
         ],
         "xaxis": "x",
         "y": [
          0.651
         ],
         "yaxis": "y"
        },
        {
         "hovertemplate": "Country=United Arab Emirates<br>LifeExp_2000=%{x}<br>HDI_2000=%{y}<extra></extra>",
         "legendgroup": "United Arab Emirates",
         "marker": {
          "color": "#EF553B",
          "opacity": 0.6,
          "symbol": "circle"
         },
         "mode": "markers",
         "name": "United Arab Emirates",
         "orientation": "v",
         "showlegend": true,
         "type": "scatter",
         "x": [
          73.18
         ],
         "xaxis": "x",
         "y": [
          0.782
         ],
         "yaxis": "y"
        },
        {
         "hovertemplate": "Country=Albania<br>LifeExp_2000=%{x}<br>HDI_2000=%{y}<extra></extra>",
         "legendgroup": "Albania",
         "marker": {
          "color": "#00cc96",
          "opacity": 0.6,
          "symbol": "circle"
         },
         "mode": "markers",
         "name": "Albania",
         "orientation": "v",
         "showlegend": true,
         "type": "scatter",
         "x": [
          73.55
         ],
         "xaxis": "x",
         "y": [
          0.671
         ],
         "yaxis": "y"
        },
        {
         "hovertemplate": "Country=Armenia<br>LifeExp_2000=%{x}<br>HDI_2000=%{y}<extra></extra>",
         "legendgroup": "Armenia",
         "marker": {
          "color": "#ab63fa",
          "opacity": 0.6,
          "symbol": "circle"
         },
         "mode": "markers",
         "name": "Armenia",
         "orientation": "v",
         "showlegend": true,
         "type": "scatter",
         "x": [
          71.88
         ],
         "xaxis": "x",
         "y": [
          0.669
         ],
         "yaxis": "y"
        },
        {
         "hovertemplate": "Country=Austria<br>LifeExp_2000=%{x}<br>HDI_2000=%{y}<extra></extra>",
         "legendgroup": "Austria",
         "marker": {
          "color": "#FFA15A",
          "opacity": 0.6,
          "symbol": "circle"
         },
         "mode": "markers",
         "name": "Austria",
         "orientation": "v",
         "showlegend": true,
         "type": "scatter",
         "x": [
          78.17
         ],
         "xaxis": "x",
         "y": [
          0.847
         ],
         "yaxis": "y"
        },
        {
         "hovertemplate": "Country=Azerbaijan<br>LifeExp_2000=%{x}<br>HDI_2000=%{y}<extra></extra>",
         "legendgroup": "Azerbaijan",
         "marker": {
          "color": "#19d3f3",
          "opacity": 0.6,
          "symbol": "circle"
         },
         "mode": "markers",
         "name": "Azerbaijan",
         "orientation": "v",
         "showlegend": true,
         "type": "scatter",
         "x": [
          65.52
         ],
         "xaxis": "x",
         "y": [
          0.635
         ],
         "yaxis": "y"
        },
        {
         "hovertemplate": "Country=Belarus<br>LifeExp_2000=%{x}<br>HDI_2000=%{y}<extra></extra>",
         "legendgroup": "Belarus",
         "marker": {
          "color": "#FF6692",
          "opacity": 0.6,
          "symbol": "circle"
         },
         "mode": "markers",
         "name": "Belarus",
         "orientation": "v",
         "showlegend": true,
         "type": "scatter",
         "x": [
          68.85
         ],
         "xaxis": "x",
         "y": [
          0.686
         ],
         "yaxis": "y"
        },
        {
         "hovertemplate": "Country=Belgium<br>LifeExp_2000=%{x}<br>HDI_2000=%{y}<extra></extra>",
         "legendgroup": "Belgium",
         "marker": {
          "color": "#B6E880",
          "opacity": 0.6,
          "symbol": "circle"
         },
         "mode": "markers",
         "name": "Belgium",
         "orientation": "v",
         "showlegend": true,
         "type": "scatter",
         "x": [
          77.66
         ],
         "xaxis": "x",
         "y": [
          0.88
         ],
         "yaxis": "y"
        },
        {
         "hovertemplate": "Country=Bosnia and Herzegovina<br>LifeExp_2000=%{x}<br>HDI_2000=%{y}<extra></extra>",
         "legendgroup": "Bosnia and Herzegovina",
         "marker": {
          "color": "#FF97FF",
          "opacity": 0.6,
          "symbol": "circle"
         },
         "mode": "markers",
         "name": "Bosnia and Herzegovina",
         "orientation": "v",
         "showlegend": true,
         "type": "scatter",
         "x": [
          75.42
         ],
         "xaxis": "x",
         "y": [
          0.679
         ],
         "yaxis": "y"
        },
        {
         "hovertemplate": "Country=Bulgaria<br>LifeExp_2000=%{x}<br>HDI_2000=%{y}<extra></extra>",
         "legendgroup": "Bulgaria",
         "marker": {
          "color": "#FECB52",
          "opacity": 0.6,
          "symbol": "circle"
         },
         "mode": "markers",
         "name": "Bulgaria",
         "orientation": "v",
         "showlegend": true,
         "type": "scatter",
         "x": [
          71.61
         ],
         "xaxis": "x",
         "y": [
          0.72
         ],
         "yaxis": "y"
        },
        {
         "hovertemplate": "Country=Croatia<br>LifeExp_2000=%{x}<br>HDI_2000=%{y}<extra></extra>",
         "legendgroup": "Croatia",
         "marker": {
          "color": "#636efa",
          "opacity": 0.6,
          "symbol": "circle"
         },
         "mode": "markers",
         "name": "Croatia",
         "orientation": "v",
         "showlegend": true,
         "type": "scatter",
         "x": [
          74.36
         ],
         "xaxis": "x",
         "y": [
          0.757
         ],
         "yaxis": "y"
        },
        {
         "hovertemplate": "Country=Cyprus<br>LifeExp_2000=%{x}<br>HDI_2000=%{y}<extra></extra>",
         "legendgroup": "Cyprus",
         "marker": {
          "color": "#EF553B",
          "opacity": 0.6,
          "symbol": "circle"
         },
         "mode": "markers",
         "name": "Cyprus",
         "orientation": "v",
         "showlegend": true,
         "type": "scatter",
         "x": [
          78.75
         ],
         "xaxis": "x",
         "y": [
          0.804
         ],
         "yaxis": "y"
        },
        {
         "hovertemplate": "Country=Denmark<br>LifeExp_2000=%{x}<br>HDI_2000=%{y}<extra></extra>",
         "legendgroup": "Denmark",
         "marker": {
          "color": "#00cc96",
          "opacity": 0.6,
          "symbol": "circle"
         },
         "mode": "markers",
         "name": "Denmark",
         "orientation": "v",
         "showlegend": true,
         "type": "scatter",
         "x": [
          76.93
         ],
         "xaxis": "x",
         "y": [
          0.87
         ],
         "yaxis": "y"
        },
        {
         "hovertemplate": "Country=Estonia<br>LifeExp_2000=%{x}<br>HDI_2000=%{y}<extra></extra>",
         "legendgroup": "Estonia",
         "marker": {
          "color": "#ab63fa",
          "opacity": 0.6,
          "symbol": "circle"
         },
         "mode": "markers",
         "name": "Estonia",
         "orientation": "v",
         "showlegend": true,
         "type": "scatter",
         "x": [
          70.94
         ],
         "xaxis": "x",
         "y": [
          0.787
         ],
         "yaxis": "y"
        },
        {
         "hovertemplate": "Country=Finland<br>LifeExp_2000=%{x}<br>HDI_2000=%{y}<extra></extra>",
         "legendgroup": "Finland",
         "marker": {
          "color": "#FFA15A",
          "opacity": 0.6,
          "symbol": "circle"
         },
         "mode": "markers",
         "name": "Finland",
         "orientation": "v",
         "showlegend": true,
         "type": "scatter",
         "x": [
          77.6
         ],
         "xaxis": "x",
         "y": [
          0.864
         ],
         "yaxis": "y"
        },
        {
         "hovertemplate": "Country=France<br>LifeExp_2000=%{x}<br>HDI_2000=%{y}<extra></extra>",
         "legendgroup": "France",
         "marker": {
          "color": "#19d3f3",
          "opacity": 0.6,
          "symbol": "circle"
         },
         "mode": "markers",
         "name": "France",
         "orientation": "v",
         "showlegend": true,
         "type": "scatter",
         "x": [
          78.91
         ],
         "xaxis": "x",
         "y": [
          0.849
         ],
         "yaxis": "y"
        },
        {
         "hovertemplate": "Country=Georgia<br>LifeExp_2000=%{x}<br>HDI_2000=%{y}<extra></extra>",
         "legendgroup": "Georgia",
         "marker": {
          "color": "#FF6692",
          "opacity": 0.6,
          "symbol": "circle"
         },
         "mode": "markers",
         "name": "Georgia",
         "orientation": "v",
         "showlegend": true,
         "type": "scatter",
         "x": [
          69.41
         ],
         "xaxis": "x",
         "y": [
          0.69
         ],
         "yaxis": "y"
        },
        {
         "hovertemplate": "Country=Germany<br>LifeExp_2000=%{x}<br>HDI_2000=%{y}<extra></extra>",
         "legendgroup": "Germany",
         "marker": {
          "color": "#B6E880",
          "opacity": 0.6,
          "symbol": "circle"
         },
         "mode": "markers",
         "name": "Germany",
         "orientation": "v",
         "showlegend": true,
         "type": "scatter",
         "x": [
          78.09
         ],
         "xaxis": "x",
         "y": [
          0.876
         ],
         "yaxis": "y"
        },
        {
         "hovertemplate": "Country=Greece<br>LifeExp_2000=%{x}<br>HDI_2000=%{y}<extra></extra>",
         "legendgroup": "Greece",
         "marker": {
          "color": "#FF97FF",
          "opacity": 0.6,
          "symbol": "circle"
         },
         "mode": "markers",
         "name": "Greece",
         "orientation": "v",
         "showlegend": true,
         "type": "scatter",
         "x": [
          78.17
         ],
         "xaxis": "x",
         "y": [
          0.804
         ],
         "yaxis": "y"
        },
        {
         "hovertemplate": "Country=Hungary<br>LifeExp_2000=%{x}<br>HDI_2000=%{y}<extra></extra>",
         "legendgroup": "Hungary",
         "marker": {
          "color": "#FECB52",
          "opacity": 0.6,
          "symbol": "circle"
         },
         "mode": "markers",
         "name": "Hungary",
         "orientation": "v",
         "showlegend": true,
         "type": "scatter",
         "x": [
          71.34
         ],
         "xaxis": "x",
         "y": [
          0.772
         ],
         "yaxis": "y"
        },
        {
         "hovertemplate": "Country=Iceland<br>LifeExp_2000=%{x}<br>HDI_2000=%{y}<extra></extra>",
         "legendgroup": "Iceland",
         "marker": {
          "color": "#636efa",
          "opacity": 0.6,
          "symbol": "circle"
         },
         "mode": "markers",
         "name": "Iceland",
         "orientation": "v",
         "showlegend": true,
         "type": "scatter",
         "x": [
          79.7
         ],
         "xaxis": "x",
         "y": [
          0.867
         ],
         "yaxis": "y"
        },
        {
         "hovertemplate": "Country=Ireland<br>LifeExp_2000=%{x}<br>HDI_2000=%{y}<extra></extra>",
         "legendgroup": "Ireland",
         "marker": {
          "color": "#EF553B",
          "opacity": 0.6,
          "symbol": "circle"
         },
         "mode": "markers",
         "name": "Ireland",
         "orientation": "v",
         "showlegend": true,
         "type": "scatter",
         "x": [
          76.41
         ],
         "xaxis": "x",
         "y": [
          0.867
         ],
         "yaxis": "y"
        },
        {
         "hovertemplate": "Country=Israel<br>LifeExp_2000=%{x}<br>HDI_2000=%{y}<extra></extra>",
         "legendgroup": "Israel",
         "marker": {
          "color": "#00cc96",
          "opacity": 0.6,
          "symbol": "circle"
         },
         "mode": "markers",
         "name": "Israel",
         "orientation": "v",
         "showlegend": true,
         "type": "scatter",
         "x": [
          78.57
         ],
         "xaxis": "x",
         "y": [
          0.861
         ],
         "yaxis": "y"
        },
        {
         "hovertemplate": "Country=Italy<br>LifeExp_2000=%{x}<br>HDI_2000=%{y}<extra></extra>",
         "legendgroup": "Italy",
         "marker": {
          "color": "#ab63fa",
          "opacity": 0.6,
          "symbol": "circle"
         },
         "mode": "markers",
         "name": "Italy",
         "orientation": "v",
         "showlegend": true,
         "type": "scatter",
         "x": [
          79.36
         ],
         "xaxis": "x",
         "y": [
          0.838
         ],
         "yaxis": "y"
        },
        {
         "hovertemplate": "Country=Kazakhstan<br>LifeExp_2000=%{x}<br>HDI_2000=%{y}<extra></extra>",
         "legendgroup": "Kazakhstan",
         "marker": {
          "color": "#FFA15A",
          "opacity": 0.6,
          "symbol": "circle"
         },
         "mode": "markers",
         "name": "Kazakhstan",
         "orientation": "v",
         "showlegend": true,
         "type": "scatter",
         "x": [
          63.15
         ],
         "xaxis": "x",
         "y": [
          0.685
         ],
         "yaxis": "y"
        },
        {
         "hovertemplate": "Country=Latvia<br>LifeExp_2000=%{x}<br>HDI_2000=%{y}<extra></extra>",
         "legendgroup": "Latvia",
         "marker": {
          "color": "#19d3f3",
          "opacity": 0.6,
          "symbol": "circle"
         },
         "mode": "markers",
         "name": "Latvia",
         "orientation": "v",
         "showlegend": true,
         "type": "scatter",
         "x": [
          70.18
         ],
         "xaxis": "x",
         "y": [
          0.735
         ],
         "yaxis": "y"
        },
        {
         "hovertemplate": "Country=Lithuania<br>LifeExp_2000=%{x}<br>HDI_2000=%{y}<extra></extra>",
         "legendgroup": "Lithuania",
         "marker": {
          "color": "#FF6692",
          "opacity": 0.6,
          "symbol": "circle"
         },
         "mode": "markers",
         "name": "Lithuania",
         "orientation": "v",
         "showlegend": true,
         "type": "scatter",
         "x": [
          72.04
         ],
         "xaxis": "x",
         "y": [
          0.762
         ],
         "yaxis": "y"
        },
        {
         "hovertemplate": "Country=Luxembourg<br>LifeExp_2000=%{x}<br>HDI_2000=%{y}<extra></extra>",
         "legendgroup": "Luxembourg",
         "marker": {
          "color": "#B6E880",
          "opacity": 0.6,
          "symbol": "circle"
         },
         "mode": "markers",
         "name": "Luxembourg",
         "orientation": "v",
         "showlegend": true,
         "type": "scatter",
         "x": [
          78.24
         ],
         "xaxis": "x",
         "y": [
          0.86
         ],
         "yaxis": "y"
        },
        {
         "hovertemplate": "Country=Malta<br>LifeExp_2000=%{x}<br>HDI_2000=%{y}<extra></extra>",
         "legendgroup": "Malta",
         "marker": {
          "color": "#FF97FF",
          "opacity": 0.6,
          "symbol": "circle"
         },
         "mode": "markers",
         "name": "Malta",
         "orientation": "v",
         "showlegend": true,
         "type": "scatter",
         "x": [
          77.87
         ],
         "xaxis": "x",
         "y": [
          0.795
         ],
         "yaxis": "y"
        },
        {
         "hovertemplate": "Country=Montenegro<br>LifeExp_2000=%{x}<br>HDI_2000=%{y}<extra></extra>",
         "legendgroup": "Montenegro",
         "marker": {
          "color": "#FECB52",
          "opacity": 0.6,
          "symbol": "circle"
         },
         "mode": "markers",
         "name": "Montenegro",
         "orientation": "v",
         "showlegend": true,
         "type": "scatter",
         "x": [
          73.56
         ],
         "xaxis": "x",
         "y": [
          0.6297248677248677
         ],
         "yaxis": "y"
        },
        {
         "hovertemplate": "Country=Netherlands<br>LifeExp_2000=%{x}<br>HDI_2000=%{y}<extra></extra>",
         "legendgroup": "Netherlands",
         "marker": {
          "color": "#636efa",
          "opacity": 0.6,
          "symbol": "circle"
         },
         "mode": "markers",
         "name": "Netherlands",
         "orientation": "v",
         "showlegend": true,
         "type": "scatter",
         "x": [
          78.01
         ],
         "xaxis": "x",
         "y": [
          0.882
         ],
         "yaxis": "y"
        },
        {
         "hovertemplate": "Country=Norway<br>LifeExp_2000=%{x}<br>HDI_2000=%{y}<extra></extra>",
         "legendgroup": "Norway",
         "marker": {
          "color": "#EF553B",
          "opacity": 0.6,
          "symbol": "circle"
         },
         "mode": "markers",
         "name": "Norway",
         "orientation": "v",
         "showlegend": true,
         "type": "scatter",
         "x": [
          78.53
         ],
         "xaxis": "x",
         "y": [
          0.915
         ],
         "yaxis": "y"
        },
        {
         "hovertemplate": "Country=Poland<br>LifeExp_2000=%{x}<br>HDI_2000=%{y}<extra></extra>",
         "legendgroup": "Poland",
         "marker": {
          "color": "#00cc96",
          "opacity": 0.6,
          "symbol": "circle"
         },
         "mode": "markers",
         "name": "Poland",
         "orientation": "v",
         "showlegend": true,
         "type": "scatter",
         "x": [
          73.7
         ],
         "xaxis": "x",
         "y": [
          0.79
         ],
         "yaxis": "y"
        },
        {
         "hovertemplate": "Country=Portugal<br>LifeExp_2000=%{x}<br>HDI_2000=%{y}<extra></extra>",
         "legendgroup": "Portugal",
         "marker": {
          "color": "#ab63fa",
          "opacity": 0.6,
          "symbol": "circle"
         },
         "mode": "markers",
         "name": "Portugal",
         "orientation": "v",
         "showlegend": true,
         "type": "scatter",
         "x": [
          76.58
         ],
         "xaxis": "x",
         "y": [
          0.792
         ],
         "yaxis": "y"
        },
        {
         "hovertemplate": "Country=Romania<br>LifeExp_2000=%{x}<br>HDI_2000=%{y}<extra></extra>",
         "legendgroup": "Romania",
         "marker": {
          "color": "#FFA15A",
          "opacity": 0.6,
          "symbol": "circle"
         },
         "mode": "markers",
         "name": "Romania",
         "orientation": "v",
         "showlegend": true,
         "type": "scatter",
         "x": [
          71.39
         ],
         "xaxis": "x",
         "y": [
          0.716
         ],
         "yaxis": "y"
        },
        {
         "hovertemplate": "Country=Russian Federation<br>LifeExp_2000=%{x}<br>HDI_2000=%{y}<extra></extra>",
         "legendgroup": "Russian Federation",
         "marker": {
          "color": "#19d3f3",
          "opacity": 0.6,
          "symbol": "circle"
         },
         "mode": "markers",
         "name": "Russian Federation",
         "orientation": "v",
         "showlegend": true,
         "type": "scatter",
         "x": [
          65.29
         ],
         "xaxis": "x",
         "y": [
          0.722
         ],
         "yaxis": "y"
        },
        {
         "hovertemplate": "Country=Serbia<br>LifeExp_2000=%{x}<br>HDI_2000=%{y}<extra></extra>",
         "legendgroup": "Serbia",
         "marker": {
          "color": "#FF6692",
          "opacity": 0.6,
          "symbol": "circle"
         },
         "mode": "markers",
         "name": "Serbia",
         "orientation": "v",
         "showlegend": true,
         "type": "scatter",
         "x": [
          71.43
         ],
         "xaxis": "x",
         "y": [
          0.716
         ],
         "yaxis": "y"
        },
        {
         "hovertemplate": "Country=Slovenia<br>LifeExp_2000=%{x}<br>HDI_2000=%{y}<extra></extra>",
         "legendgroup": "Slovenia",
         "marker": {
          "color": "#B6E880",
          "opacity": 0.6,
          "symbol": "circle"
         },
         "mode": "markers",
         "name": "Slovenia",
         "orientation": "v",
         "showlegend": true,
         "type": "scatter",
         "x": [
          76.05
         ],
         "xaxis": "x",
         "y": [
          0.832
         ],
         "yaxis": "y"
        },
        {
         "hovertemplate": "Country=Spain<br>LifeExp_2000=%{x}<br>HDI_2000=%{y}<extra></extra>",
         "legendgroup": "Spain",
         "marker": {
          "color": "#FF97FF",
          "opacity": 0.6,
          "symbol": "circle"
         },
         "mode": "markers",
         "name": "Spain",
         "orientation": "v",
         "showlegend": true,
         "type": "scatter",
         "x": [
          79.08
         ],
         "xaxis": "x",
         "y": [
          0.832
         ],
         "yaxis": "y"
        },
        {
         "hovertemplate": "Country=Sweden<br>LifeExp_2000=%{x}<br>HDI_2000=%{y}<extra></extra>",
         "legendgroup": "Sweden",
         "marker": {
          "color": "#FECB52",
          "opacity": 0.6,
          "symbol": "circle"
         },
         "mode": "markers",
         "name": "Sweden",
         "orientation": "v",
         "showlegend": true,
         "type": "scatter",
         "x": [
          79.57
         ],
         "xaxis": "x",
         "y": [
          0.903
         ],
         "yaxis": "y"
        },
        {
         "hovertemplate": "Country=Switzerland<br>LifeExp_2000=%{x}<br>HDI_2000=%{y}<extra></extra>",
         "legendgroup": "Switzerland",
         "marker": {
          "color": "#636efa",
          "opacity": 0.6,
          "symbol": "circle"
         },
         "mode": "markers",
         "name": "Switzerland",
         "orientation": "v",
         "showlegend": true,
         "type": "scatter",
         "x": [
          79.72
         ],
         "xaxis": "x",
         "y": [
          0.898
         ],
         "yaxis": "y"
        },
        {
         "hovertemplate": "Country=Tajikistan<br>LifeExp_2000=%{x}<br>HDI_2000=%{y}<extra></extra>",
         "legendgroup": "Tajikistan",
         "marker": {
          "color": "#EF553B",
          "opacity": 0.6,
          "symbol": "circle"
         },
         "mode": "markers",
         "name": "Tajikistan",
         "orientation": "v",
         "showlegend": true,
         "type": "scatter",
         "x": [
          65.58
         ],
         "xaxis": "x",
         "y": [
          0.555
         ],
         "yaxis": "y"
        },
        {
         "hovertemplate": "Country=Turkmenistan<br>LifeExp_2000=%{x}<br>HDI_2000=%{y}<extra></extra>",
         "legendgroup": "Turkmenistan",
         "marker": {
          "color": "#00cc96",
          "opacity": 0.6,
          "symbol": "circle"
         },
         "mode": "markers",
         "name": "Turkmenistan",
         "orientation": "v",
         "showlegend": true,
         "type": "scatter",
         "x": [
          63.32
         ],
         "xaxis": "x",
         "y": [
          0.6297248677248677
         ],
         "yaxis": "y"
        },
        {
         "hovertemplate": "Country=Ukraine<br>LifeExp_2000=%{x}<br>HDI_2000=%{y}<extra></extra>",
         "legendgroup": "Ukraine",
         "marker": {
          "color": "#ab63fa",
          "opacity": 0.6,
          "symbol": "circle"
         },
         "mode": "markers",
         "name": "Ukraine",
         "orientation": "v",
         "showlegend": true,
         "type": "scatter",
         "x": [
          67.53
         ],
         "xaxis": "x",
         "y": [
          0.694
         ],
         "yaxis": "y"
        },
        {
         "hovertemplate": "Country=Uzbekistan<br>LifeExp_2000=%{x}<br>HDI_2000=%{y}<extra></extra>",
         "legendgroup": "Uzbekistan",
         "marker": {
          "color": "#FFA15A",
          "opacity": 0.6,
          "symbol": "circle"
         },
         "mode": "markers",
         "name": "Uzbekistan",
         "orientation": "v",
         "showlegend": true,
         "type": "scatter",
         "x": [
          65.27
         ],
         "xaxis": "x",
         "y": [
          0.599
         ],
         "yaxis": "y"
        },
        {
         "hovertemplate": "Country=Bangladesh<br>LifeExp_2000=%{x}<br>HDI_2000=%{y}<extra></extra>",
         "legendgroup": "Bangladesh",
         "marker": {
          "color": "#19d3f3",
          "opacity": 0.6,
          "symbol": "circle"
         },
         "mode": "markers",
         "name": "Bangladesh",
         "orientation": "v",
         "showlegend": true,
         "type": "scatter",
         "x": [
          65.59
         ],
         "xaxis": "x",
         "y": [
          0.478
         ],
         "yaxis": "y"
        },
        {
         "hovertemplate": "Country=Bhutan<br>LifeExp_2000=%{x}<br>HDI_2000=%{y}<extra></extra>",
         "legendgroup": "Bhutan",
         "marker": {
          "color": "#FF6692",
          "opacity": 0.6,
          "symbol": "circle"
         },
         "mode": "markers",
         "name": "Bhutan",
         "orientation": "v",
         "showlegend": true,
         "type": "scatter",
         "x": [
          65.7
         ],
         "xaxis": "x",
         "y": [
          0.6297248677248677
         ],
         "yaxis": "y"
        },
        {
         "hovertemplate": "Country=India<br>LifeExp_2000=%{x}<br>HDI_2000=%{y}<extra></extra>",
         "legendgroup": "India",
         "marker": {
          "color": "#B6E880",
          "opacity": 0.6,
          "symbol": "circle"
         },
         "mode": "markers",
         "name": "India",
         "orientation": "v",
         "showlegend": true,
         "type": "scatter",
         "x": [
          62.11
         ],
         "xaxis": "x",
         "y": [
          0.495
         ],
         "yaxis": "y"
        },
        {
         "hovertemplate": "Country=Indonesia<br>LifeExp_2000=%{x}<br>HDI_2000=%{y}<extra></extra>",
         "legendgroup": "Indonesia",
         "marker": {
          "color": "#FF97FF",
          "opacity": 0.6,
          "symbol": "circle"
         },
         "mode": "markers",
         "name": "Indonesia",
         "orientation": "v",
         "showlegend": true,
         "type": "scatter",
         "x": [
          67.17
         ],
         "xaxis": "x",
         "y": [
          0.603
         ],
         "yaxis": "y"
        },
        {
         "hovertemplate": "Country=Maldives<br>LifeExp_2000=%{x}<br>HDI_2000=%{y}<extra></extra>",
         "legendgroup": "Maldives",
         "marker": {
          "color": "#FECB52",
          "opacity": 0.6,
          "symbol": "circle"
         },
         "mode": "markers",
         "name": "Maldives",
         "orientation": "v",
         "showlegend": true,
         "type": "scatter",
         "x": [
          70.96
         ],
         "xaxis": "x",
         "y": [
          0.622
         ],
         "yaxis": "y"
        },
        {
         "hovertemplate": "Country=Myanmar<br>LifeExp_2000=%{x}<br>HDI_2000=%{y}<extra></extra>",
         "legendgroup": "Myanmar",
         "marker": {
          "color": "#636efa",
          "opacity": 0.6,
          "symbol": "circle"
         },
         "mode": "markers",
         "name": "Myanmar",
         "orientation": "v",
         "showlegend": true,
         "type": "scatter",
         "x": [
          59.99
         ],
         "xaxis": "x",
         "y": [
          0.414
         ],
         "yaxis": "y"
        },
        {
         "hovertemplate": "Country=Nepal<br>LifeExp_2000=%{x}<br>HDI_2000=%{y}<extra></extra>",
         "legendgroup": "Nepal",
         "marker": {
          "color": "#EF553B",
          "opacity": 0.6,
          "symbol": "circle"
         },
         "mode": "markers",
         "name": "Nepal",
         "orientation": "v",
         "showlegend": true,
         "type": "scatter",
         "x": [
          65.26
         ],
         "xaxis": "x",
         "y": [
          0.453
         ],
         "yaxis": "y"
        },
        {
         "hovertemplate": "Country=Sri Lanka<br>LifeExp_2000=%{x}<br>HDI_2000=%{y}<extra></extra>",
         "legendgroup": "Sri Lanka",
         "marker": {
          "color": "#00cc96",
          "opacity": 0.6,
          "symbol": "circle"
         },
         "mode": "markers",
         "name": "Sri Lanka",
         "orientation": "v",
         "showlegend": true,
         "type": "scatter",
         "x": [
          71.89
         ],
         "xaxis": "x",
         "y": [
          0.691
         ],
         "yaxis": "y"
        },
        {
         "hovertemplate": "Country=Thailand<br>LifeExp_2000=%{x}<br>HDI_2000=%{y}<extra></extra>",
         "legendgroup": "Thailand",
         "marker": {
          "color": "#ab63fa",
          "opacity": 0.6,
          "symbol": "circle"
         },
         "mode": "markers",
         "name": "Thailand",
         "orientation": "v",
         "showlegend": true,
         "type": "scatter",
         "x": [
          71.25
         ],
         "xaxis": "x",
         "y": [
          0.652
         ],
         "yaxis": "y"
        },
        {
         "hovertemplate": "Country=Timor-Leste<br>LifeExp_2000=%{x}<br>HDI_2000=%{y}<extra></extra>",
         "legendgroup": "Timor-Leste",
         "marker": {
          "color": "#FFA15A",
          "opacity": 0.6,
          "symbol": "circle"
         },
         "mode": "markers",
         "name": "Timor-Leste",
         "orientation": "v",
         "showlegend": true,
         "type": "scatter",
         "x": [
          62.67
         ],
         "xaxis": "x",
         "y": [
          0.484
         ],
         "yaxis": "y"
        },
        {
         "hovertemplate": "Country=Australia<br>LifeExp_2000=%{x}<br>HDI_2000=%{y}<extra></extra>",
         "legendgroup": "Australia",
         "marker": {
          "color": "#19d3f3",
          "opacity": 0.6,
          "symbol": "circle"
         },
         "mode": "markers",
         "name": "Australia",
         "orientation": "v",
         "showlegend": true,
         "type": "scatter",
         "x": [
          79.69
         ],
         "xaxis": "x",
         "y": [
          0.903
         ],
         "yaxis": "y"
        },
        {
         "hovertemplate": "Country=Brunei Darussalam<br>LifeExp_2000=%{x}<br>HDI_2000=%{y}<extra></extra>",
         "legendgroup": "Brunei Darussalam",
         "marker": {
          "color": "#FF6692",
          "opacity": 0.6,
          "symbol": "circle"
         },
         "mode": "markers",
         "name": "Brunei Darussalam",
         "orientation": "v",
         "showlegend": true,
         "type": "scatter",
         "x": [
          72.2
         ],
         "xaxis": "x",
         "y": [
          0.802
         ],
         "yaxis": "y"
        },
        {
         "hovertemplate": "Country=Cambodia<br>LifeExp_2000=%{x}<br>HDI_2000=%{y}<extra></extra>",
         "legendgroup": "Cambodia",
         "marker": {
          "color": "#B6E880",
          "opacity": 0.6,
          "symbol": "circle"
         },
         "mode": "markers",
         "name": "Cambodia",
         "orientation": "v",
         "showlegend": true,
         "type": "scatter",
         "x": [
          58.68
         ],
         "xaxis": "x",
         "y": [
          0.424
         ],
         "yaxis": "y"
        },
        {
         "hovertemplate": "Country=China<br>LifeExp_2000=%{x}<br>HDI_2000=%{y}<extra></extra>",
         "legendgroup": "China",
         "marker": {
          "color": "#FF97FF",
          "opacity": 0.6,
          "symbol": "circle"
         },
         "mode": "markers",
         "name": "China",
         "orientation": "v",
         "showlegend": true,
         "type": "scatter",
         "x": [
          71.58
         ],
         "xaxis": "x",
         "y": [
          0.588
         ],
         "yaxis": "y"
        },
        {
         "hovertemplate": "Country=Fiji<br>LifeExp_2000=%{x}<br>HDI_2000=%{y}<extra></extra>",
         "legendgroup": "Fiji",
         "marker": {
          "color": "#FECB52",
          "opacity": 0.6,
          "symbol": "circle"
         },
         "mode": "markers",
         "name": "Fiji",
         "orientation": "v",
         "showlegend": true,
         "type": "scatter",
         "x": [
          65.9
         ],
         "xaxis": "x",
         "y": [
          0.695
         ],
         "yaxis": "y"
        },
        {
         "hovertemplate": "Country=Japan<br>LifeExp_2000=%{x}<br>HDI_2000=%{y}<extra></extra>",
         "legendgroup": "Japan",
         "marker": {
          "color": "#636efa",
          "opacity": 0.6,
          "symbol": "circle"
         },
         "mode": "markers",
         "name": "Japan",
         "orientation": "v",
         "showlegend": true,
         "type": "scatter",
         "x": [
          81.12
         ],
         "xaxis": "x",
         "y": [
          0.858
         ],
         "yaxis": "y"
        },
        {
         "hovertemplate": "Country=Malaysia<br>LifeExp_2000=%{x}<br>HDI_2000=%{y}<extra></extra>",
         "legendgroup": "Malaysia",
         "marker": {
          "color": "#EF553B",
          "opacity": 0.6,
          "symbol": "circle"
         },
         "mode": "markers",
         "name": "Malaysia",
         "orientation": "v",
         "showlegend": true,
         "type": "scatter",
         "x": [
          72.8
         ],
         "xaxis": "x",
         "y": [
          0.723
         ],
         "yaxis": "y"
        },
        {
         "hovertemplate": "Country=Mongolia<br>LifeExp_2000=%{x}<br>HDI_2000=%{y}<extra></extra>",
         "legendgroup": "Mongolia",
         "marker": {
          "color": "#00cc96",
          "opacity": 0.6,
          "symbol": "circle"
         },
         "mode": "markers",
         "name": "Mongolia",
         "orientation": "v",
         "showlegend": true,
         "type": "scatter",
         "x": [
          60.52
         ],
         "xaxis": "x",
         "y": [
          0.588
         ],
         "yaxis": "y"
        },
        {
         "hovertemplate": "Country=New Zealand<br>LifeExp_2000=%{x}<br>HDI_2000=%{y}<extra></extra>",
         "legendgroup": "New Zealand",
         "marker": {
          "color": "#ab63fa",
          "opacity": 0.6,
          "symbol": "circle"
         },
         "mode": "markers",
         "name": "New Zealand",
         "orientation": "v",
         "showlegend": true,
         "type": "scatter",
         "x": [
          78.57
         ],
         "xaxis": "x",
         "y": [
          0.876
         ],
         "yaxis": "y"
        },
        {
         "hovertemplate": "Country=Papua New Guinea<br>LifeExp_2000=%{x}<br>HDI_2000=%{y}<extra></extra>",
         "legendgroup": "Papua New Guinea",
         "marker": {
          "color": "#FFA15A",
          "opacity": 0.6,
          "symbol": "circle"
         },
         "mode": "markers",
         "name": "Papua New Guinea",
         "orientation": "v",
         "showlegend": true,
         "type": "scatter",
         "x": [
          63.29
         ],
         "xaxis": "x",
         "y": [
          0.45
         ],
         "yaxis": "y"
        },
        {
         "hovertemplate": "Country=Philippines<br>LifeExp_2000=%{x}<br>HDI_2000=%{y}<extra></extra>",
         "legendgroup": "Philippines",
         "marker": {
          "color": "#19d3f3",
          "opacity": 0.6,
          "symbol": "circle"
         },
         "mode": "markers",
         "name": "Philippines",
         "orientation": "v",
         "showlegend": true,
         "type": "scatter",
         "x": [
          69.03
         ],
         "xaxis": "x",
         "y": [
          0.632
         ],
         "yaxis": "y"
        },
        {
         "hovertemplate": "Country=Samoa<br>LifeExp_2000=%{x}<br>HDI_2000=%{y}<extra></extra>",
         "legendgroup": "Samoa",
         "marker": {
          "color": "#FF6692",
          "opacity": 0.6,
          "symbol": "circle"
         },
         "mode": "markers",
         "name": "Samoa",
         "orientation": "v",
         "showlegend": true,
         "type": "scatter",
         "x": [
          68.51
         ],
         "xaxis": "x",
         "y": [
          0.651
         ],
         "yaxis": "y"
        },
        {
         "hovertemplate": "Country=Singapore<br>LifeExp_2000=%{x}<br>HDI_2000=%{y}<extra></extra>",
         "legendgroup": "Singapore",
         "marker": {
          "color": "#B6E880",
          "opacity": 0.6,
          "symbol": "circle"
         },
         "mode": "markers",
         "name": "Singapore",
         "orientation": "v",
         "showlegend": true,
         "type": "scatter",
         "x": [
          78.44
         ],
         "xaxis": "x",
         "y": [
          0.821
         ],
         "yaxis": "y"
        },
        {
         "hovertemplate": "Country=Solomon Islands<br>LifeExp_2000=%{x}<br>HDI_2000=%{y}<extra></extra>",
         "legendgroup": "Solomon Islands",
         "marker": {
          "color": "#FF97FF",
          "opacity": 0.6,
          "symbol": "circle"
         },
         "mode": "markers",
         "name": "Solomon Islands",
         "orientation": "v",
         "showlegend": true,
         "type": "scatter",
         "x": [
          62.51
         ],
         "xaxis": "x",
         "y": [
          0.475
         ],
         "yaxis": "y"
        },
        {
         "hovertemplate": "Country=Tonga<br>LifeExp_2000=%{x}<br>HDI_2000=%{y}<extra></extra>",
         "legendgroup": "Tonga",
         "marker": {
          "color": "#FECB52",
          "opacity": 0.6,
          "symbol": "circle"
         },
         "mode": "markers",
         "name": "Tonga",
         "orientation": "v",
         "showlegend": true,
         "type": "scatter",
         "x": [
          70.92
         ],
         "xaxis": "x",
         "y": [
          0.675
         ],
         "yaxis": "y"
        },
        {
         "hovertemplate": "Country=Vanuatu<br>LifeExp_2000=%{x}<br>HDI_2000=%{y}<extra></extra>",
         "legendgroup": "Vanuatu",
         "marker": {
          "color": "#636efa",
          "opacity": 0.6,
          "symbol": "circle"
         },
         "mode": "markers",
         "name": "Vanuatu",
         "orientation": "v",
         "showlegend": true,
         "type": "scatter",
         "x": [
          63.9
         ],
         "xaxis": "x",
         "y": [
          0.6297248677248677
         ],
         "yaxis": "y"
        }
       ],
       "layout": {
        "legend": {
         "title": {
          "text": "Country"
         },
         "tracegroupgap": 0
        },
        "template": {
         "data": {
          "bar": [
           {
            "error_x": {
             "color": "#f2f5fa"
            },
            "error_y": {
             "color": "#f2f5fa"
            },
            "marker": {
             "line": {
              "color": "rgb(17,17,17)",
              "width": 0.5
             },
             "pattern": {
              "fillmode": "overlay",
              "size": 10,
              "solidity": 0.2
             }
            },
            "type": "bar"
           }
          ],
          "barpolar": [
           {
            "marker": {
             "line": {
              "color": "rgb(17,17,17)",
              "width": 0.5
             },
             "pattern": {
              "fillmode": "overlay",
              "size": 10,
              "solidity": 0.2
             }
            },
            "type": "barpolar"
           }
          ],
          "carpet": [
           {
            "aaxis": {
             "endlinecolor": "#A2B1C6",
             "gridcolor": "#506784",
             "linecolor": "#506784",
             "minorgridcolor": "#506784",
             "startlinecolor": "#A2B1C6"
            },
            "baxis": {
             "endlinecolor": "#A2B1C6",
             "gridcolor": "#506784",
             "linecolor": "#506784",
             "minorgridcolor": "#506784",
             "startlinecolor": "#A2B1C6"
            },
            "type": "carpet"
           }
          ],
          "choropleth": [
           {
            "colorbar": {
             "outlinewidth": 0,
             "ticks": ""
            },
            "type": "choropleth"
           }
          ],
          "contour": [
           {
            "colorbar": {
             "outlinewidth": 0,
             "ticks": ""
            },
            "colorscale": [
             [
              0,
              "#0d0887"
             ],
             [
              0.1111111111111111,
              "#46039f"
             ],
             [
              0.2222222222222222,
              "#7201a8"
             ],
             [
              0.3333333333333333,
              "#9c179e"
             ],
             [
              0.4444444444444444,
              "#bd3786"
             ],
             [
              0.5555555555555556,
              "#d8576b"
             ],
             [
              0.6666666666666666,
              "#ed7953"
             ],
             [
              0.7777777777777778,
              "#fb9f3a"
             ],
             [
              0.8888888888888888,
              "#fdca26"
             ],
             [
              1,
              "#f0f921"
             ]
            ],
            "type": "contour"
           }
          ],
          "contourcarpet": [
           {
            "colorbar": {
             "outlinewidth": 0,
             "ticks": ""
            },
            "type": "contourcarpet"
           }
          ],
          "heatmap": [
           {
            "colorbar": {
             "outlinewidth": 0,
             "ticks": ""
            },
            "colorscale": [
             [
              0,
              "#0d0887"
             ],
             [
              0.1111111111111111,
              "#46039f"
             ],
             [
              0.2222222222222222,
              "#7201a8"
             ],
             [
              0.3333333333333333,
              "#9c179e"
             ],
             [
              0.4444444444444444,
              "#bd3786"
             ],
             [
              0.5555555555555556,
              "#d8576b"
             ],
             [
              0.6666666666666666,
              "#ed7953"
             ],
             [
              0.7777777777777778,
              "#fb9f3a"
             ],
             [
              0.8888888888888888,
              "#fdca26"
             ],
             [
              1,
              "#f0f921"
             ]
            ],
            "type": "heatmap"
           }
          ],
          "heatmapgl": [
           {
            "colorbar": {
             "outlinewidth": 0,
             "ticks": ""
            },
            "colorscale": [
             [
              0,
              "#0d0887"
             ],
             [
              0.1111111111111111,
              "#46039f"
             ],
             [
              0.2222222222222222,
              "#7201a8"
             ],
             [
              0.3333333333333333,
              "#9c179e"
             ],
             [
              0.4444444444444444,
              "#bd3786"
             ],
             [
              0.5555555555555556,
              "#d8576b"
             ],
             [
              0.6666666666666666,
              "#ed7953"
             ],
             [
              0.7777777777777778,
              "#fb9f3a"
             ],
             [
              0.8888888888888888,
              "#fdca26"
             ],
             [
              1,
              "#f0f921"
             ]
            ],
            "type": "heatmapgl"
           }
          ],
          "histogram": [
           {
            "marker": {
             "pattern": {
              "fillmode": "overlay",
              "size": 10,
              "solidity": 0.2
             }
            },
            "type": "histogram"
           }
          ],
          "histogram2d": [
           {
            "colorbar": {
             "outlinewidth": 0,
             "ticks": ""
            },
            "colorscale": [
             [
              0,
              "#0d0887"
             ],
             [
              0.1111111111111111,
              "#46039f"
             ],
             [
              0.2222222222222222,
              "#7201a8"
             ],
             [
              0.3333333333333333,
              "#9c179e"
             ],
             [
              0.4444444444444444,
              "#bd3786"
             ],
             [
              0.5555555555555556,
              "#d8576b"
             ],
             [
              0.6666666666666666,
              "#ed7953"
             ],
             [
              0.7777777777777778,
              "#fb9f3a"
             ],
             [
              0.8888888888888888,
              "#fdca26"
             ],
             [
              1,
              "#f0f921"
             ]
            ],
            "type": "histogram2d"
           }
          ],
          "histogram2dcontour": [
           {
            "colorbar": {
             "outlinewidth": 0,
             "ticks": ""
            },
            "colorscale": [
             [
              0,
              "#0d0887"
             ],
             [
              0.1111111111111111,
              "#46039f"
             ],
             [
              0.2222222222222222,
              "#7201a8"
             ],
             [
              0.3333333333333333,
              "#9c179e"
             ],
             [
              0.4444444444444444,
              "#bd3786"
             ],
             [
              0.5555555555555556,
              "#d8576b"
             ],
             [
              0.6666666666666666,
              "#ed7953"
             ],
             [
              0.7777777777777778,
              "#fb9f3a"
             ],
             [
              0.8888888888888888,
              "#fdca26"
             ],
             [
              1,
              "#f0f921"
             ]
            ],
            "type": "histogram2dcontour"
           }
          ],
          "mesh3d": [
           {
            "colorbar": {
             "outlinewidth": 0,
             "ticks": ""
            },
            "type": "mesh3d"
           }
          ],
          "parcoords": [
           {
            "line": {
             "colorbar": {
              "outlinewidth": 0,
              "ticks": ""
             }
            },
            "type": "parcoords"
           }
          ],
          "pie": [
           {
            "automargin": true,
            "type": "pie"
           }
          ],
          "scatter": [
           {
            "marker": {
             "line": {
              "color": "#283442"
             }
            },
            "type": "scatter"
           }
          ],
          "scatter3d": [
           {
            "line": {
             "colorbar": {
              "outlinewidth": 0,
              "ticks": ""
             }
            },
            "marker": {
             "colorbar": {
              "outlinewidth": 0,
              "ticks": ""
             }
            },
            "type": "scatter3d"
           }
          ],
          "scattercarpet": [
           {
            "marker": {
             "colorbar": {
              "outlinewidth": 0,
              "ticks": ""
             }
            },
            "type": "scattercarpet"
           }
          ],
          "scattergeo": [
           {
            "marker": {
             "colorbar": {
              "outlinewidth": 0,
              "ticks": ""
             }
            },
            "type": "scattergeo"
           }
          ],
          "scattergl": [
           {
            "marker": {
             "line": {
              "color": "#283442"
             }
            },
            "type": "scattergl"
           }
          ],
          "scattermapbox": [
           {
            "marker": {
             "colorbar": {
              "outlinewidth": 0,
              "ticks": ""
             }
            },
            "type": "scattermapbox"
           }
          ],
          "scatterpolar": [
           {
            "marker": {
             "colorbar": {
              "outlinewidth": 0,
              "ticks": ""
             }
            },
            "type": "scatterpolar"
           }
          ],
          "scatterpolargl": [
           {
            "marker": {
             "colorbar": {
              "outlinewidth": 0,
              "ticks": ""
             }
            },
            "type": "scatterpolargl"
           }
          ],
          "scatterternary": [
           {
            "marker": {
             "colorbar": {
              "outlinewidth": 0,
              "ticks": ""
             }
            },
            "type": "scatterternary"
           }
          ],
          "surface": [
           {
            "colorbar": {
             "outlinewidth": 0,
             "ticks": ""
            },
            "colorscale": [
             [
              0,
              "#0d0887"
             ],
             [
              0.1111111111111111,
              "#46039f"
             ],
             [
              0.2222222222222222,
              "#7201a8"
             ],
             [
              0.3333333333333333,
              "#9c179e"
             ],
             [
              0.4444444444444444,
              "#bd3786"
             ],
             [
              0.5555555555555556,
              "#d8576b"
             ],
             [
              0.6666666666666666,
              "#ed7953"
             ],
             [
              0.7777777777777778,
              "#fb9f3a"
             ],
             [
              0.8888888888888888,
              "#fdca26"
             ],
             [
              1,
              "#f0f921"
             ]
            ],
            "type": "surface"
           }
          ],
          "table": [
           {
            "cells": {
             "fill": {
              "color": "#506784"
             },
             "line": {
              "color": "rgb(17,17,17)"
             }
            },
            "header": {
             "fill": {
              "color": "#2a3f5f"
             },
             "line": {
              "color": "rgb(17,17,17)"
             }
            },
            "type": "table"
           }
          ]
         },
         "layout": {
          "annotationdefaults": {
           "arrowcolor": "#f2f5fa",
           "arrowhead": 0,
           "arrowwidth": 1
          },
          "autotypenumbers": "strict",
          "coloraxis": {
           "colorbar": {
            "outlinewidth": 0,
            "ticks": ""
           }
          },
          "colorscale": {
           "diverging": [
            [
             0,
             "#8e0152"
            ],
            [
             0.1,
             "#c51b7d"
            ],
            [
             0.2,
             "#de77ae"
            ],
            [
             0.3,
             "#f1b6da"
            ],
            [
             0.4,
             "#fde0ef"
            ],
            [
             0.5,
             "#f7f7f7"
            ],
            [
             0.6,
             "#e6f5d0"
            ],
            [
             0.7,
             "#b8e186"
            ],
            [
             0.8,
             "#7fbc41"
            ],
            [
             0.9,
             "#4d9221"
            ],
            [
             1,
             "#276419"
            ]
           ],
           "sequential": [
            [
             0,
             "#0d0887"
            ],
            [
             0.1111111111111111,
             "#46039f"
            ],
            [
             0.2222222222222222,
             "#7201a8"
            ],
            [
             0.3333333333333333,
             "#9c179e"
            ],
            [
             0.4444444444444444,
             "#bd3786"
            ],
            [
             0.5555555555555556,
             "#d8576b"
            ],
            [
             0.6666666666666666,
             "#ed7953"
            ],
            [
             0.7777777777777778,
             "#fb9f3a"
            ],
            [
             0.8888888888888888,
             "#fdca26"
            ],
            [
             1,
             "#f0f921"
            ]
           ],
           "sequentialminus": [
            [
             0,
             "#0d0887"
            ],
            [
             0.1111111111111111,
             "#46039f"
            ],
            [
             0.2222222222222222,
             "#7201a8"
            ],
            [
             0.3333333333333333,
             "#9c179e"
            ],
            [
             0.4444444444444444,
             "#bd3786"
            ],
            [
             0.5555555555555556,
             "#d8576b"
            ],
            [
             0.6666666666666666,
             "#ed7953"
            ],
            [
             0.7777777777777778,
             "#fb9f3a"
            ],
            [
             0.8888888888888888,
             "#fdca26"
            ],
            [
             1,
             "#f0f921"
            ]
           ]
          },
          "colorway": [
           "#636efa",
           "#EF553B",
           "#00cc96",
           "#ab63fa",
           "#FFA15A",
           "#19d3f3",
           "#FF6692",
           "#B6E880",
           "#FF97FF",
           "#FECB52"
          ],
          "font": {
           "color": "#f2f5fa"
          },
          "geo": {
           "bgcolor": "rgb(17,17,17)",
           "lakecolor": "rgb(17,17,17)",
           "landcolor": "rgb(17,17,17)",
           "showlakes": true,
           "showland": true,
           "subunitcolor": "#506784"
          },
          "hoverlabel": {
           "align": "left"
          },
          "hovermode": "closest",
          "mapbox": {
           "style": "dark"
          },
          "paper_bgcolor": "rgb(17,17,17)",
          "plot_bgcolor": "rgb(17,17,17)",
          "polar": {
           "angularaxis": {
            "gridcolor": "#506784",
            "linecolor": "#506784",
            "ticks": ""
           },
           "bgcolor": "rgb(17,17,17)",
           "radialaxis": {
            "gridcolor": "#506784",
            "linecolor": "#506784",
            "ticks": ""
           }
          },
          "scene": {
           "xaxis": {
            "backgroundcolor": "rgb(17,17,17)",
            "gridcolor": "#506784",
            "gridwidth": 2,
            "linecolor": "#506784",
            "showbackground": true,
            "ticks": "",
            "zerolinecolor": "#C8D4E3"
           },
           "yaxis": {
            "backgroundcolor": "rgb(17,17,17)",
            "gridcolor": "#506784",
            "gridwidth": 2,
            "linecolor": "#506784",
            "showbackground": true,
            "ticks": "",
            "zerolinecolor": "#C8D4E3"
           },
           "zaxis": {
            "backgroundcolor": "rgb(17,17,17)",
            "gridcolor": "#506784",
            "gridwidth": 2,
            "linecolor": "#506784",
            "showbackground": true,
            "ticks": "",
            "zerolinecolor": "#C8D4E3"
           }
          },
          "shapedefaults": {
           "line": {
            "color": "#f2f5fa"
           }
          },
          "sliderdefaults": {
           "bgcolor": "#C8D4E3",
           "bordercolor": "rgb(17,17,17)",
           "borderwidth": 1,
           "tickwidth": 0
          },
          "ternary": {
           "aaxis": {
            "gridcolor": "#506784",
            "linecolor": "#506784",
            "ticks": ""
           },
           "baxis": {
            "gridcolor": "#506784",
            "linecolor": "#506784",
            "ticks": ""
           },
           "bgcolor": "rgb(17,17,17)",
           "caxis": {
            "gridcolor": "#506784",
            "linecolor": "#506784",
            "ticks": ""
           }
          },
          "title": {
           "x": 0.05
          },
          "updatemenudefaults": {
           "bgcolor": "#506784",
           "borderwidth": 0
          },
          "xaxis": {
           "automargin": true,
           "gridcolor": "#283442",
           "linecolor": "#506784",
           "ticks": "",
           "title": {
            "standoff": 15
           },
           "zerolinecolor": "#283442",
           "zerolinewidth": 2
          },
          "yaxis": {
           "automargin": true,
           "gridcolor": "#283442",
           "linecolor": "#506784",
           "ticks": "",
           "title": {
            "standoff": 15
           },
           "zerolinecolor": "#283442",
           "zerolinewidth": 2
          }
         }
        },
        "title": {
         "text": "<b> Life Expectancy Versus HDI in 2000 </b>"
        },
        "xaxis": {
         "anchor": "y",
         "domain": [
          0,
          1
         ],
         "title": {
          "text": "LifeExp_2000"
         }
        },
        "yaxis": {
         "anchor": "x",
         "domain": [
          0,
          1
         ],
         "title": {
          "text": "HDI_2000"
         }
        }
       }
      }
     },
     "metadata": {},
     "output_type": "display_data"
    }
   ],
   "source": [
    "px.scatter(df,y='HDI_2000',x='LifeExp_2000',color='Country',template='plotly_dark',opacity=0.6,title='<b> Life Expectancy Versus HDI in 2000 </b>')\n"
   ]
  },
  {
   "cell_type": "code",
   "execution_count": 13,
   "metadata": {},
   "outputs": [
    {
     "data": {
      "application/vnd.plotly.v1+json": {
       "config": {
        "plotlyServerURL": "https://plot.ly"
       },
       "data": [
        {
         "hovertemplate": "Country=Algeria<br>LifeExp_2010=%{x}<br>HDI_2010=%{y}<extra></extra>",
         "legendgroup": "Algeria",
         "marker": {
          "color": "#636efa",
          "opacity": 0.6,
          "symbol": "circle"
         },
         "mode": "markers",
         "name": "Algeria",
         "orientation": "v",
         "showlegend": true,
         "type": "scatter",
         "x": [
          75.85
         ],
         "xaxis": "x",
         "y": [
          0.721
         ],
         "yaxis": "y"
        },
        {
         "hovertemplate": "Country=Angola<br>LifeExp_2010=%{x}<br>HDI_2010=%{y}<extra></extra>",
         "legendgroup": "Angola",
         "marker": {
          "color": "#EF553B",
          "opacity": 0.6,
          "symbol": "circle"
         },
         "mode": "markers",
         "name": "Angola",
         "orientation": "v",
         "showlegend": true,
         "type": "scatter",
         "x": [
          58.07
         ],
         "xaxis": "x",
         "y": [
          0.517
         ],
         "yaxis": "y"
        },
        {
         "hovertemplate": "Country=Benin<br>LifeExp_2010=%{x}<br>HDI_2010=%{y}<extra></extra>",
         "legendgroup": "Benin",
         "marker": {
          "color": "#00cc96",
          "opacity": 0.6,
          "symbol": "circle"
         },
         "mode": "markers",
         "name": "Benin",
         "orientation": "v",
         "showlegend": true,
         "type": "scatter",
         "x": [
          60.47
         ],
         "xaxis": "x",
         "y": [
          0.494
         ],
         "yaxis": "y"
        },
        {
         "hovertemplate": "Country=Botswana<br>LifeExp_2010=%{x}<br>HDI_2010=%{y}<extra></extra>",
         "legendgroup": "Botswana",
         "marker": {
          "color": "#ab63fa",
          "opacity": 0.6,
          "symbol": "circle"
         },
         "mode": "markers",
         "name": "Botswana",
         "orientation": "v",
         "showlegend": true,
         "type": "scatter",
         "x": [
          58.14
         ],
         "xaxis": "x",
         "y": [
          0.663
         ],
         "yaxis": "y"
        },
        {
         "hovertemplate": "Country=Burkina Faso<br>LifeExp_2010=%{x}<br>HDI_2010=%{y}<extra></extra>",
         "legendgroup": "Burkina Faso",
         "marker": {
          "color": "#FFA15A",
          "opacity": 0.6,
          "symbol": "circle"
         },
         "mode": "markers",
         "name": "Burkina Faso",
         "orientation": "v",
         "showlegend": true,
         "type": "scatter",
         "x": [
          58.59
         ],
         "xaxis": "x",
         "y": [
          0.384
         ],
         "yaxis": "y"
        },
        {
         "hovertemplate": "Country=Burundi<br>LifeExp_2010=%{x}<br>HDI_2010=%{y}<extra></extra>",
         "legendgroup": "Burundi",
         "marker": {
          "color": "#19d3f3",
          "opacity": 0.6,
          "symbol": "circle"
         },
         "mode": "markers",
         "name": "Burundi",
         "orientation": "v",
         "showlegend": true,
         "type": "scatter",
         "x": [
          58.6
         ],
         "xaxis": "x",
         "y": [
          0.411
         ],
         "yaxis": "y"
        },
        {
         "hovertemplate": "Country=Cabo Verde<br>LifeExp_2010=%{x}<br>HDI_2010=%{y}<extra></extra>",
         "legendgroup": "Cabo Verde",
         "marker": {
          "color": "#FF6692",
          "opacity": 0.6,
          "symbol": "circle"
         },
         "mode": "markers",
         "name": "Cabo Verde",
         "orientation": "v",
         "showlegend": true,
         "type": "scatter",
         "x": [
          74.12
         ],
         "xaxis": "x",
         "y": [
          0.632
         ],
         "yaxis": "y"
        },
        {
         "hovertemplate": "Country=Cameroon<br>LifeExp_2010=%{x}<br>HDI_2010=%{y}<extra></extra>",
         "legendgroup": "Cameroon",
         "marker": {
          "color": "#B6E880",
          "opacity": 0.6,
          "symbol": "circle"
         },
         "mode": "markers",
         "name": "Cameroon",
         "orientation": "v",
         "showlegend": true,
         "type": "scatter",
         "x": [
          56.58
         ],
         "xaxis": "x",
         "y": [
          0.505
         ],
         "yaxis": "y"
        },
        {
         "hovertemplate": "Country=Central African Republic<br>LifeExp_2010=%{x}<br>HDI_2010=%{y}<extra></extra>",
         "legendgroup": "Central African Republic",
         "marker": {
          "color": "#FF97FF",
          "opacity": 0.6,
          "symbol": "circle"
         },
         "mode": "markers",
         "name": "Central African Republic",
         "orientation": "v",
         "showlegend": true,
         "type": "scatter",
         "x": [
          48.51
         ],
         "xaxis": "x",
         "y": [
          0.365
         ],
         "yaxis": "y"
        },
        {
         "hovertemplate": "Country=Chad<br>LifeExp_2010=%{x}<br>HDI_2010=%{y}<extra></extra>",
         "legendgroup": "Chad",
         "marker": {
          "color": "#FECB52",
          "opacity": 0.6,
          "symbol": "circle"
         },
         "mode": "markers",
         "name": "Chad",
         "orientation": "v",
         "showlegend": true,
         "type": "scatter",
         "x": [
          55.65
         ],
         "xaxis": "x",
         "y": [
          0.369
         ],
         "yaxis": "y"
        },
        {
         "hovertemplate": "Country=Comoros<br>LifeExp_2010=%{x}<br>HDI_2010=%{y}<extra></extra>",
         "legendgroup": "Comoros",
         "marker": {
          "color": "#636efa",
          "opacity": 0.6,
          "symbol": "circle"
         },
         "mode": "markers",
         "name": "Comoros",
         "orientation": "v",
         "showlegend": true,
         "type": "scatter",
         "x": [
          64.98
         ],
         "xaxis": "x",
         "y": [
          0.521
         ],
         "yaxis": "y"
        },
        {
         "hovertemplate": "Country=Equatorial Guinea<br>LifeExp_2010=%{x}<br>HDI_2010=%{y}<extra></extra>",
         "legendgroup": "Equatorial Guinea",
         "marker": {
          "color": "#EF553B",
          "opacity": 0.6,
          "symbol": "circle"
         },
         "mode": "markers",
         "name": "Equatorial Guinea",
         "orientation": "v",
         "showlegend": true,
         "type": "scatter",
         "x": [
          59.65
         ],
         "xaxis": "x",
         "y": [
          0.576
         ],
         "yaxis": "y"
        },
        {
         "hovertemplate": "Country=Eritrea<br>LifeExp_2010=%{x}<br>HDI_2010=%{y}<extra></extra>",
         "legendgroup": "Eritrea",
         "marker": {
          "color": "#00cc96",
          "opacity": 0.6,
          "symbol": "circle"
         },
         "mode": "markers",
         "name": "Eritrea",
         "orientation": "v",
         "showlegend": true,
         "type": "scatter",
         "x": [
          60.7
         ],
         "xaxis": "x",
         "y": [
          0.436
         ],
         "yaxis": "y"
        },
        {
         "hovertemplate": "Country=Ethiopia<br>LifeExp_2010=%{x}<br>HDI_2010=%{y}<extra></extra>",
         "legendgroup": "Ethiopia",
         "marker": {
          "color": "#ab63fa",
          "opacity": 0.6,
          "symbol": "circle"
         },
         "mode": "markers",
         "name": "Ethiopia",
         "orientation": "v",
         "showlegend": true,
         "type": "scatter",
         "x": [
          62.92
         ],
         "xaxis": "x",
         "y": [
          0.421
         ],
         "yaxis": "y"
        },
        {
         "hovertemplate": "Country=Gabon<br>LifeExp_2010=%{x}<br>HDI_2010=%{y}<extra></extra>",
         "legendgroup": "Gabon",
         "marker": {
          "color": "#FFA15A",
          "opacity": 0.6,
          "symbol": "circle"
         },
         "mode": "markers",
         "name": "Gabon",
         "orientation": "v",
         "showlegend": true,
         "type": "scatter",
         "x": [
          62.16
         ],
         "xaxis": "x",
         "y": [
          0.652
         ],
         "yaxis": "y"
        },
        {
         "hovertemplate": "Country=Ghana<br>LifeExp_2010=%{x}<br>HDI_2010=%{y}<extra></extra>",
         "legendgroup": "Ghana",
         "marker": {
          "color": "#19d3f3",
          "opacity": 0.6,
          "symbol": "circle"
         },
         "mode": "markers",
         "name": "Ghana",
         "orientation": "v",
         "showlegend": true,
         "type": "scatter",
         "x": [
          62
         ],
         "xaxis": "x",
         "y": [
          0.565
         ],
         "yaxis": "y"
        },
        {
         "hovertemplate": "Country=Guinea<br>LifeExp_2010=%{x}<br>HDI_2010=%{y}<extra></extra>",
         "legendgroup": "Guinea",
         "marker": {
          "color": "#FF6692",
          "opacity": 0.6,
          "symbol": "circle"
         },
         "mode": "markers",
         "name": "Guinea",
         "orientation": "v",
         "showlegend": true,
         "type": "scatter",
         "x": [
          58.07
         ],
         "xaxis": "x",
         "y": [
          0.416
         ],
         "yaxis": "y"
        },
        {
         "hovertemplate": "Country=Guinea-Bissau<br>LifeExp_2010=%{x}<br>HDI_2010=%{y}<extra></extra>",
         "legendgroup": "Guinea-Bissau",
         "marker": {
          "color": "#B6E880",
          "opacity": 0.6,
          "symbol": "circle"
         },
         "mode": "markers",
         "name": "Guinea-Bissau",
         "orientation": "v",
         "showlegend": true,
         "type": "scatter",
         "x": [
          55.43
         ],
         "xaxis": "x",
         "y": [
          0.436
         ],
         "yaxis": "y"
        },
        {
         "hovertemplate": "Country=Kenya<br>LifeExp_2010=%{x}<br>HDI_2010=%{y}<extra></extra>",
         "legendgroup": "Kenya",
         "marker": {
          "color": "#FF97FF",
          "opacity": 0.6,
          "symbol": "circle"
         },
         "mode": "markers",
         "name": "Kenya",
         "orientation": "v",
         "showlegend": true,
         "type": "scatter",
         "x": [
          61.18
         ],
         "xaxis": "x",
         "y": [
          0.551
         ],
         "yaxis": "y"
        },
        {
         "hovertemplate": "Country=Lesotho<br>LifeExp_2010=%{x}<br>HDI_2010=%{y}<extra></extra>",
         "legendgroup": "Lesotho",
         "marker": {
          "color": "#FECB52",
          "opacity": 0.6,
          "symbol": "circle"
         },
         "mode": "markers",
         "name": "Lesotho",
         "orientation": "v",
         "showlegend": true,
         "type": "scatter",
         "x": [
          47.38
         ],
         "xaxis": "x",
         "y": [
          0.46
         ],
         "yaxis": "y"
        },
        {
         "hovertemplate": "Country=Liberia<br>LifeExp_2010=%{x}<br>HDI_2010=%{y}<extra></extra>",
         "legendgroup": "Liberia",
         "marker": {
          "color": "#636efa",
          "opacity": 0.6,
          "symbol": "circle"
         },
         "mode": "markers",
         "name": "Liberia",
         "orientation": "v",
         "showlegend": true,
         "type": "scatter",
         "x": [
          60.7
         ],
         "xaxis": "x",
         "y": [
          0.455
         ],
         "yaxis": "y"
        },
        {
         "hovertemplate": "Country=Madagascar<br>LifeExp_2010=%{x}<br>HDI_2010=%{y}<extra></extra>",
         "legendgroup": "Madagascar",
         "marker": {
          "color": "#EF553B",
          "opacity": 0.6,
          "symbol": "circle"
         },
         "mode": "markers",
         "name": "Madagascar",
         "orientation": "v",
         "showlegend": true,
         "type": "scatter",
         "x": [
          62.79
         ],
         "xaxis": "x",
         "y": [
          0.511
         ],
         "yaxis": "y"
        },
        {
         "hovertemplate": "Country=Malawi<br>LifeExp_2010=%{x}<br>HDI_2010=%{y}<extra></extra>",
         "legendgroup": "Malawi",
         "marker": {
          "color": "#00cc96",
          "opacity": 0.6,
          "symbol": "circle"
         },
         "mode": "markers",
         "name": "Malawi",
         "orientation": "v",
         "showlegend": true,
         "type": "scatter",
         "x": [
          56.8
         ],
         "xaxis": "x",
         "y": [
          0.431
         ],
         "yaxis": "y"
        },
        {
         "hovertemplate": "Country=Mali<br>LifeExp_2010=%{x}<br>HDI_2010=%{y}<extra></extra>",
         "legendgroup": "Mali",
         "marker": {
          "color": "#ab63fa",
          "opacity": 0.6,
          "symbol": "circle"
         },
         "mode": "markers",
         "name": "Mali",
         "orientation": "v",
         "showlegend": true,
         "type": "scatter",
         "x": [
          59.05
         ],
         "xaxis": "x",
         "y": [
          0.408
         ],
         "yaxis": "y"
        },
        {
         "hovertemplate": "Country=Mauritania<br>LifeExp_2010=%{x}<br>HDI_2010=%{y}<extra></extra>",
         "legendgroup": "Mauritania",
         "marker": {
          "color": "#FFA15A",
          "opacity": 0.6,
          "symbol": "circle"
         },
         "mode": "markers",
         "name": "Mauritania",
         "orientation": "v",
         "showlegend": true,
         "type": "scatter",
         "x": [
          65.59
         ],
         "xaxis": "x",
         "y": [
          0.505
         ],
         "yaxis": "y"
        },
        {
         "hovertemplate": "Country=Mauritius<br>LifeExp_2010=%{x}<br>HDI_2010=%{y}<extra></extra>",
         "legendgroup": "Mauritius",
         "marker": {
          "color": "#19d3f3",
          "opacity": 0.6,
          "symbol": "circle"
         },
         "mode": "markers",
         "name": "Mauritius",
         "orientation": "v",
         "showlegend": true,
         "type": "scatter",
         "x": [
          73.24
         ],
         "xaxis": "x",
         "y": [
          0.751
         ],
         "yaxis": "y"
        },
        {
         "hovertemplate": "Country=Mozambique<br>LifeExp_2010=%{x}<br>HDI_2010=%{y}<extra></extra>",
         "legendgroup": "Mozambique",
         "marker": {
          "color": "#FF6692",
          "opacity": 0.6,
          "symbol": "circle"
         },
         "mode": "markers",
         "name": "Mozambique",
         "orientation": "v",
         "showlegend": true,
         "type": "scatter",
         "x": [
          53.48
         ],
         "xaxis": "x",
         "y": [
          0.401
         ],
         "yaxis": "y"
        },
        {
         "hovertemplate": "Country=Namibia<br>LifeExp_2010=%{x}<br>HDI_2010=%{y}<extra></extra>",
         "legendgroup": "Namibia",
         "marker": {
          "color": "#B6E880",
          "opacity": 0.6,
          "symbol": "circle"
         },
         "mode": "markers",
         "name": "Namibia",
         "orientation": "v",
         "showlegend": true,
         "type": "scatter",
         "x": [
          60.94
         ],
         "xaxis": "x",
         "y": [
          0.589
         ],
         "yaxis": "y"
        },
        {
         "hovertemplate": "Country=Niger<br>LifeExp_2010=%{x}<br>HDI_2010=%{y}<extra></extra>",
         "legendgroup": "Niger",
         "marker": {
          "color": "#FF97FF",
          "opacity": 0.6,
          "symbol": "circle"
         },
         "mode": "markers",
         "name": "Niger",
         "orientation": "v",
         "showlegend": true,
         "type": "scatter",
         "x": [
          58.95
         ],
         "xaxis": "x",
         "y": [
          0.331
         ],
         "yaxis": "y"
        },
        {
         "hovertemplate": "Country=Nigeria<br>LifeExp_2010=%{x}<br>HDI_2010=%{y}<extra></extra>",
         "legendgroup": "Nigeria",
         "marker": {
          "color": "#FECB52",
          "opacity": 0.6,
          "symbol": "circle"
         },
         "mode": "markers",
         "name": "Nigeria",
         "orientation": "v",
         "showlegend": true,
         "type": "scatter",
         "x": [
          59.24
         ],
         "xaxis": "x",
         "y": [
          0.482
         ],
         "yaxis": "y"
        },
        {
         "hovertemplate": "Country=Rwanda<br>LifeExp_2010=%{x}<br>HDI_2010=%{y}<extra></extra>",
         "legendgroup": "Rwanda",
         "marker": {
          "color": "#636efa",
          "opacity": 0.6,
          "symbol": "circle"
         },
         "mode": "markers",
         "name": "Rwanda",
         "orientation": "v",
         "showlegend": true,
         "type": "scatter",
         "x": [
          64.44
         ],
         "xaxis": "x",
         "y": [
          0.492
         ],
         "yaxis": "y"
        },
        {
         "hovertemplate": "Country=Sao Tome and Principe<br>LifeExp_2010=%{x}<br>HDI_2010=%{y}<extra></extra>",
         "legendgroup": "Sao Tome and Principe",
         "marker": {
          "color": "#EF553B",
          "opacity": 0.6,
          "symbol": "circle"
         },
         "mode": "markers",
         "name": "Sao Tome and Principe",
         "orientation": "v",
         "showlegend": true,
         "type": "scatter",
         "x": [
          68.24
         ],
         "xaxis": "x",
         "y": [
          0.561
         ],
         "yaxis": "y"
        },
        {
         "hovertemplate": "Country=Senegal<br>LifeExp_2010=%{x}<br>HDI_2010=%{y}<extra></extra>",
         "legendgroup": "Senegal",
         "marker": {
          "color": "#00cc96",
          "opacity": 0.6,
          "symbol": "circle"
         },
         "mode": "markers",
         "name": "Senegal",
         "orientation": "v",
         "showlegend": true,
         "type": "scatter",
         "x": [
          65.47
         ],
         "xaxis": "x",
         "y": [
          0.468
         ],
         "yaxis": "y"
        },
        {
         "hovertemplate": "Country=Sierra Leone<br>LifeExp_2010=%{x}<br>HDI_2010=%{y}<extra></extra>",
         "legendgroup": "Sierra Leone",
         "marker": {
          "color": "#ab63fa",
          "opacity": 0.6,
          "symbol": "circle"
         },
         "mode": "markers",
         "name": "Sierra Leone",
         "orientation": "v",
         "showlegend": true,
         "type": "scatter",
         "x": [
          54.74
         ],
         "xaxis": "x",
         "y": [
          0.399
         ],
         "yaxis": "y"
        },
        {
         "hovertemplate": "Country=South Africa<br>LifeExp_2010=%{x}<br>HDI_2010=%{y}<extra></extra>",
         "legendgroup": "South Africa",
         "marker": {
          "color": "#FFA15A",
          "opacity": 0.6,
          "symbol": "circle"
         },
         "mode": "markers",
         "name": "South Africa",
         "orientation": "v",
         "showlegend": true,
         "type": "scatter",
         "x": [
          57.14
         ],
         "xaxis": "x",
         "y": [
          0.664
         ],
         "yaxis": "y"
        },
        {
         "hovertemplate": "Country=South Sudan<br>LifeExp_2010=%{x}<br>HDI_2010=%{y}<extra></extra>",
         "legendgroup": "South Sudan",
         "marker": {
          "color": "#19d3f3",
          "opacity": 0.6,
          "symbol": "circle"
         },
         "mode": "markers",
         "name": "South Sudan",
         "orientation": "v",
         "showlegend": true,
         "type": "scatter",
         "x": [
          61.1
         ],
         "xaxis": "x",
         "y": [
          0.41
         ],
         "yaxis": "y"
        },
        {
         "hovertemplate": "Country=Togo<br>LifeExp_2010=%{x}<br>HDI_2010=%{y}<extra></extra>",
         "legendgroup": "Togo",
         "marker": {
          "color": "#FF6692",
          "opacity": 0.6,
          "symbol": "circle"
         },
         "mode": "markers",
         "name": "Togo",
         "orientation": "v",
         "showlegend": true,
         "type": "scatter",
         "x": [
          59.33
         ],
         "xaxis": "x",
         "y": [
          0.466
         ],
         "yaxis": "y"
        },
        {
         "hovertemplate": "Country=Uganda<br>LifeExp_2010=%{x}<br>HDI_2010=%{y}<extra></extra>",
         "legendgroup": "Uganda",
         "marker": {
          "color": "#B6E880",
          "opacity": 0.6,
          "symbol": "circle"
         },
         "mode": "markers",
         "name": "Uganda",
         "orientation": "v",
         "showlegend": true,
         "type": "scatter",
         "x": [
          59.67
         ],
         "xaxis": "x",
         "y": [
          0.498
         ],
         "yaxis": "y"
        },
        {
         "hovertemplate": "Country=Zambia<br>LifeExp_2010=%{x}<br>HDI_2010=%{y}<extra></extra>",
         "legendgroup": "Zambia",
         "marker": {
          "color": "#FF97FF",
          "opacity": 0.6,
          "symbol": "circle"
         },
         "mode": "markers",
         "name": "Zambia",
         "orientation": "v",
         "showlegend": true,
         "type": "scatter",
         "x": [
          56.67
         ],
         "xaxis": "x",
         "y": [
          0.527
         ],
         "yaxis": "y"
        },
        {
         "hovertemplate": "Country=Zimbabwe<br>LifeExp_2010=%{x}<br>HDI_2010=%{y}<extra></extra>",
         "legendgroup": "Zimbabwe",
         "marker": {
          "color": "#FECB52",
          "opacity": 0.6,
          "symbol": "circle"
         },
         "mode": "markers",
         "name": "Zimbabwe",
         "orientation": "v",
         "showlegend": true,
         "type": "scatter",
         "x": [
          51.49
         ],
         "xaxis": "x",
         "y": [
          0.482
         ],
         "yaxis": "y"
        },
        {
         "hovertemplate": "Country=Argentina<br>LifeExp_2010=%{x}<br>HDI_2010=%{y}<extra></extra>",
         "legendgroup": "Argentina",
         "marker": {
          "color": "#636efa",
          "opacity": 0.6,
          "symbol": "circle"
         },
         "mode": "markers",
         "name": "Argentina",
         "orientation": "v",
         "showlegend": true,
         "type": "scatter",
         "x": [
          75.44
         ],
         "xaxis": "x",
         "y": [
          0.829
         ],
         "yaxis": "y"
        },
        {
         "hovertemplate": "Country=Barbados<br>LifeExp_2010=%{x}<br>HDI_2010=%{y}<extra></extra>",
         "legendgroup": "Barbados",
         "marker": {
          "color": "#EF553B",
          "opacity": 0.6,
          "symbol": "circle"
         },
         "mode": "markers",
         "name": "Barbados",
         "orientation": "v",
         "showlegend": true,
         "type": "scatter",
         "x": [
          75.88
         ],
         "xaxis": "x",
         "y": [
          0.797
         ],
         "yaxis": "y"
        },
        {
         "hovertemplate": "Country=Belize<br>LifeExp_2010=%{x}<br>HDI_2010=%{y}<extra></extra>",
         "legendgroup": "Belize",
         "marker": {
          "color": "#00cc96",
          "opacity": 0.6,
          "symbol": "circle"
         },
         "mode": "markers",
         "name": "Belize",
         "orientation": "v",
         "showlegend": true,
         "type": "scatter",
         "x": [
          73.39
         ],
         "xaxis": "x",
         "y": [
          0.695
         ],
         "yaxis": "y"
        },
        {
         "hovertemplate": "Country=Brazil<br>LifeExp_2010=%{x}<br>HDI_2010=%{y}<extra></extra>",
         "legendgroup": "Brazil",
         "marker": {
          "color": "#ab63fa",
          "opacity": 0.6,
          "symbol": "circle"
         },
         "mode": "markers",
         "name": "Brazil",
         "orientation": "v",
         "showlegend": true,
         "type": "scatter",
         "x": [
          74.09
         ],
         "xaxis": "x",
         "y": [
          0.727
         ],
         "yaxis": "y"
        },
        {
         "hovertemplate": "Country=Canada<br>LifeExp_2010=%{x}<br>HDI_2010=%{y}<extra></extra>",
         "legendgroup": "Canada",
         "marker": {
          "color": "#FFA15A",
          "opacity": 0.6,
          "symbol": "circle"
         },
         "mode": "markers",
         "name": "Canada",
         "orientation": "v",
         "showlegend": true,
         "type": "scatter",
         "x": [
          81.31
         ],
         "xaxis": "x",
         "y": [
          0.901
         ],
         "yaxis": "y"
        },
        {
         "hovertemplate": "Country=Chile<br>LifeExp_2010=%{x}<br>HDI_2010=%{y}<extra></extra>",
         "legendgroup": "Chile",
         "marker": {
          "color": "#19d3f3",
          "opacity": 0.6,
          "symbol": "circle"
         },
         "mode": "markers",
         "name": "Chile",
         "orientation": "v",
         "showlegend": true,
         "type": "scatter",
         "x": [
          78.46
         ],
         "xaxis": "x",
         "y": [
          0.803
         ],
         "yaxis": "y"
        },
        {
         "hovertemplate": "Country=Colombia<br>LifeExp_2010=%{x}<br>HDI_2010=%{y}<extra></extra>",
         "legendgroup": "Colombia",
         "marker": {
          "color": "#FF6692",
          "opacity": 0.6,
          "symbol": "circle"
         },
         "mode": "markers",
         "name": "Colombia",
         "orientation": "v",
         "showlegend": true,
         "type": "scatter",
         "x": [
          77.09
         ],
         "xaxis": "x",
         "y": [
          0.729
         ],
         "yaxis": "y"
        },
        {
         "hovertemplate": "Country=Costa Rica<br>LifeExp_2010=%{x}<br>HDI_2010=%{y}<extra></extra>",
         "legendgroup": "Costa Rica",
         "marker": {
          "color": "#B6E880",
          "opacity": 0.6,
          "symbol": "circle"
         },
         "mode": "markers",
         "name": "Costa Rica",
         "orientation": "v",
         "showlegend": true,
         "type": "scatter",
         "x": [
          79.56
         ],
         "xaxis": "x",
         "y": [
          0.765
         ],
         "yaxis": "y"
        },
        {
         "hovertemplate": "Country=Cuba<br>LifeExp_2010=%{x}<br>HDI_2010=%{y}<extra></extra>",
         "legendgroup": "Cuba",
         "marker": {
          "color": "#FF97FF",
          "opacity": 0.6,
          "symbol": "circle"
         },
         "mode": "markers",
         "name": "Cuba",
         "orientation": "v",
         "showlegend": true,
         "type": "scatter",
         "x": [
          77.65
         ],
         "xaxis": "x",
         "y": [
          0.781
         ],
         "yaxis": "y"
        },
        {
         "hovertemplate": "Country=Dominican Republic<br>LifeExp_2010=%{x}<br>HDI_2010=%{y}<extra></extra>",
         "legendgroup": "Dominican Republic",
         "marker": {
          "color": "#FECB52",
          "opacity": 0.6,
          "symbol": "circle"
         },
         "mode": "markers",
         "name": "Dominican Republic",
         "orientation": "v",
         "showlegend": true,
         "type": "scatter",
         "x": [
          73.17
         ],
         "xaxis": "x",
         "y": [
          0.706
         ],
         "yaxis": "y"
        },
        {
         "hovertemplate": "Country=Ecuador<br>LifeExp_2010=%{x}<br>HDI_2010=%{y}<extra></extra>",
         "legendgroup": "Ecuador",
         "marker": {
          "color": "#636efa",
          "opacity": 0.6,
          "symbol": "circle"
         },
         "mode": "markers",
         "name": "Ecuador",
         "orientation": "v",
         "showlegend": true,
         "type": "scatter",
         "x": [
          75.02
         ],
         "xaxis": "x",
         "y": [
          0.726
         ],
         "yaxis": "y"
        },
        {
         "hovertemplate": "Country=El Salvador<br>LifeExp_2010=%{x}<br>HDI_2010=%{y}<extra></extra>",
         "legendgroup": "El Salvador",
         "marker": {
          "color": "#EF553B",
          "opacity": 0.6,
          "symbol": "circle"
         },
         "mode": "markers",
         "name": "El Salvador",
         "orientation": "v",
         "showlegend": true,
         "type": "scatter",
         "x": [
          74.5
         ],
         "xaxis": "x",
         "y": [
          0.668
         ],
         "yaxis": "y"
        },
        {
         "hovertemplate": "Country=Guatemala<br>LifeExp_2010=%{x}<br>HDI_2010=%{y}<extra></extra>",
         "legendgroup": "Guatemala",
         "marker": {
          "color": "#00cc96",
          "opacity": 0.6,
          "symbol": "circle"
         },
         "mode": "markers",
         "name": "Guatemala",
         "orientation": "v",
         "showlegend": true,
         "type": "scatter",
         "x": [
          69.3
         ],
         "xaxis": "x",
         "y": [
          0.606
         ],
         "yaxis": "y"
        },
        {
         "hovertemplate": "Country=Guyana<br>LifeExp_2010=%{x}<br>HDI_2010=%{y}<extra></extra>",
         "legendgroup": "Guyana",
         "marker": {
          "color": "#ab63fa",
          "opacity": 0.6,
          "symbol": "circle"
         },
         "mode": "markers",
         "name": "Guyana",
         "orientation": "v",
         "showlegend": true,
         "type": "scatter",
         "x": [
          64.77
         ],
         "xaxis": "x",
         "y": [
          0.649
         ],
         "yaxis": "y"
        },
        {
         "hovertemplate": "Country=Haiti<br>LifeExp_2010=%{x}<br>HDI_2010=%{y}<extra></extra>",
         "legendgroup": "Haiti",
         "marker": {
          "color": "#FFA15A",
          "opacity": 0.6,
          "symbol": "circle"
         },
         "mode": "markers",
         "name": "Haiti",
         "orientation": "v",
         "showlegend": true,
         "type": "scatter",
         "x": [
          31.28
         ],
         "xaxis": "x",
         "y": [
          0.471
         ],
         "yaxis": "y"
        },
        {
         "hovertemplate": "Country=Honduras<br>LifeExp_2010=%{x}<br>HDI_2010=%{y}<extra></extra>",
         "legendgroup": "Honduras",
         "marker": {
          "color": "#19d3f3",
          "opacity": 0.6,
          "symbol": "circle"
         },
         "mode": "markers",
         "name": "Honduras",
         "orientation": "v",
         "showlegend": true,
         "type": "scatter",
         "x": [
          71.15
         ],
         "xaxis": "x",
         "y": [
          0.61
         ],
         "yaxis": "y"
        },
        {
         "hovertemplate": "Country=Jamaica<br>LifeExp_2010=%{x}<br>HDI_2010=%{y}<extra></extra>",
         "legendgroup": "Jamaica",
         "marker": {
          "color": "#FF6692",
          "opacity": 0.6,
          "symbol": "circle"
         },
         "mode": "markers",
         "name": "Jamaica",
         "orientation": "v",
         "showlegend": true,
         "type": "scatter",
         "x": [
          75.77
         ],
         "xaxis": "x",
         "y": [
          0.732
         ],
         "yaxis": "y"
        },
        {
         "hovertemplate": "Country=Mexico<br>LifeExp_2010=%{x}<br>HDI_2010=%{y}<extra></extra>",
         "legendgroup": "Mexico",
         "marker": {
          "color": "#B6E880",
          "opacity": 0.6,
          "symbol": "circle"
         },
         "mode": "markers",
         "name": "Mexico",
         "orientation": "v",
         "showlegend": true,
         "type": "scatter",
         "x": [
          75.13
         ],
         "xaxis": "x",
         "y": [
          0.748
         ],
         "yaxis": "y"
        },
        {
         "hovertemplate": "Country=Nicaragua<br>LifeExp_2010=%{x}<br>HDI_2010=%{y}<extra></extra>",
         "legendgroup": "Nicaragua",
         "marker": {
          "color": "#FF97FF",
          "opacity": 0.6,
          "symbol": "circle"
         },
         "mode": "markers",
         "name": "Nicaragua",
         "orientation": "v",
         "showlegend": true,
         "type": "scatter",
         "x": [
          74.05
         ],
         "xaxis": "x",
         "y": [
          0.622
         ],
         "yaxis": "y"
        },
        {
         "hovertemplate": "Country=Panama<br>LifeExp_2010=%{x}<br>HDI_2010=%{y}<extra></extra>",
         "legendgroup": "Panama",
         "marker": {
          "color": "#FECB52",
          "opacity": 0.6,
          "symbol": "circle"
         },
         "mode": "markers",
         "name": "Panama",
         "orientation": "v",
         "showlegend": true,
         "type": "scatter",
         "x": [
          77.53
         ],
         "xaxis": "x",
         "y": [
          0.774
         ],
         "yaxis": "y"
        },
        {
         "hovertemplate": "Country=Paraguay<br>LifeExp_2010=%{x}<br>HDI_2010=%{y}<extra></extra>",
         "legendgroup": "Paraguay",
         "marker": {
          "color": "#636efa",
          "opacity": 0.6,
          "symbol": "circle"
         },
         "mode": "markers",
         "name": "Paraguay",
         "orientation": "v",
         "showlegend": true,
         "type": "scatter",
         "x": [
          74.99
         ],
         "xaxis": "x",
         "y": [
          0.696
         ],
         "yaxis": "y"
        },
        {
         "hovertemplate": "Country=Peru<br>LifeExp_2010=%{x}<br>HDI_2010=%{y}<extra></extra>",
         "legendgroup": "Peru",
         "marker": {
          "color": "#EF553B",
          "opacity": 0.6,
          "symbol": "circle"
         },
         "mode": "markers",
         "name": "Peru",
         "orientation": "v",
         "showlegend": true,
         "type": "scatter",
         "x": [
          77.28
         ],
         "xaxis": "x",
         "y": [
          0.721
         ],
         "yaxis": "y"
        },
        {
         "hovertemplate": "Country=Suriname<br>LifeExp_2010=%{x}<br>HDI_2010=%{y}<extra></extra>",
         "legendgroup": "Suriname",
         "marker": {
          "color": "#00cc96",
          "opacity": 0.6,
          "symbol": "circle"
         },
         "mode": "markers",
         "name": "Suriname",
         "orientation": "v",
         "showlegend": true,
         "type": "scatter",
         "x": [
          71.83
         ],
         "xaxis": "x",
         "y": [
          0.71
         ],
         "yaxis": "y"
        },
        {
         "hovertemplate": "Country=Trinidad and Tobago<br>LifeExp_2010=%{x}<br>HDI_2010=%{y}<extra></extra>",
         "legendgroup": "Trinidad and Tobago",
         "marker": {
          "color": "#ab63fa",
          "opacity": 0.6,
          "symbol": "circle"
         },
         "mode": "markers",
         "name": "Trinidad and Tobago",
         "orientation": "v",
         "showlegend": true,
         "type": "scatter",
         "x": [
          72.12
         ],
         "xaxis": "x",
         "y": [
          0.784
         ],
         "yaxis": "y"
        },
        {
         "hovertemplate": "Country=Uruguay<br>LifeExp_2010=%{x}<br>HDI_2010=%{y}<extra></extra>",
         "legendgroup": "Uruguay",
         "marker": {
          "color": "#FFA15A",
          "opacity": 0.6,
          "symbol": "circle"
         },
         "mode": "markers",
         "name": "Uruguay",
         "orientation": "v",
         "showlegend": true,
         "type": "scatter",
         "x": [
          76.36
         ],
         "xaxis": "x",
         "y": [
          0.782
         ],
         "yaxis": "y"
        },
        {
         "hovertemplate": "Country=Afghanistan<br>LifeExp_2010=%{x}<br>HDI_2010=%{y}<extra></extra>",
         "legendgroup": "Afghanistan",
         "marker": {
          "color": "#19d3f3",
          "opacity": 0.6,
          "symbol": "circle"
         },
         "mode": "markers",
         "name": "Afghanistan",
         "orientation": "v",
         "showlegend": true,
         "type": "scatter",
         "x": [
          59.94
         ],
         "xaxis": "x",
         "y": [
          0.472
         ],
         "yaxis": "y"
        },
        {
         "hovertemplate": "Country=Bahrain<br>LifeExp_2010=%{x}<br>HDI_2010=%{y}<extra></extra>",
         "legendgroup": "Bahrain",
         "marker": {
          "color": "#FF6692",
          "opacity": 0.6,
          "symbol": "circle"
         },
         "mode": "markers",
         "name": "Bahrain",
         "orientation": "v",
         "showlegend": true,
         "type": "scatter",
         "x": [
          74.52
         ],
         "xaxis": "x",
         "y": [
          0.8
         ],
         "yaxis": "y"
        },
        {
         "hovertemplate": "Country=Djibouti<br>LifeExp_2010=%{x}<br>HDI_2010=%{y}<extra></extra>",
         "legendgroup": "Djibouti",
         "marker": {
          "color": "#B6E880",
          "opacity": 0.6,
          "symbol": "circle"
         },
         "mode": "markers",
         "name": "Djibouti",
         "orientation": "v",
         "showlegend": true,
         "type": "scatter",
         "x": [
          61.87
         ],
         "xaxis": "x",
         "y": [
          0.454
         ],
         "yaxis": "y"
        },
        {
         "hovertemplate": "Country=Iraq<br>LifeExp_2010=%{x}<br>HDI_2010=%{y}<extra></extra>",
         "legendgroup": "Iraq",
         "marker": {
          "color": "#FF97FF",
          "opacity": 0.6,
          "symbol": "circle"
         },
         "mode": "markers",
         "name": "Iraq",
         "orientation": "v",
         "showlegend": true,
         "type": "scatter",
         "x": [
          70.24
         ],
         "xaxis": "x",
         "y": [
          0.636
         ],
         "yaxis": "y"
        },
        {
         "hovertemplate": "Country=Jordan<br>LifeExp_2010=%{x}<br>HDI_2010=%{y}<extra></extra>",
         "legendgroup": "Jordan",
         "marker": {
          "color": "#FECB52",
          "opacity": 0.6,
          "symbol": "circle"
         },
         "mode": "markers",
         "name": "Jordan",
         "orientation": "v",
         "showlegend": true,
         "type": "scatter",
         "x": [
          76.59
         ],
         "xaxis": "x",
         "y": [
          0.737
         ],
         "yaxis": "y"
        },
        {
         "hovertemplate": "Country=Kuwait<br>LifeExp_2010=%{x}<br>HDI_2010=%{y}<extra></extra>",
         "legendgroup": "Kuwait",
         "marker": {
          "color": "#636efa",
          "opacity": 0.6,
          "symbol": "circle"
         },
         "mode": "markers",
         "name": "Kuwait",
         "orientation": "v",
         "showlegend": true,
         "type": "scatter",
         "x": [
          79.83
         ],
         "xaxis": "x",
         "y": [
          0.788
         ],
         "yaxis": "y"
        },
        {
         "hovertemplate": "Country=Lebanon<br>LifeExp_2010=%{x}<br>HDI_2010=%{y}<extra></extra>",
         "legendgroup": "Lebanon",
         "marker": {
          "color": "#EF553B",
          "opacity": 0.6,
          "symbol": "circle"
         },
         "mode": "markers",
         "name": "Lebanon",
         "orientation": "v",
         "showlegend": true,
         "type": "scatter",
         "x": [
          75.53
         ],
         "xaxis": "x",
         "y": [
          0.766
         ],
         "yaxis": "y"
        },
        {
         "hovertemplate": "Country=Libya<br>LifeExp_2010=%{x}<br>HDI_2010=%{y}<extra></extra>",
         "legendgroup": "Libya",
         "marker": {
          "color": "#00cc96",
          "opacity": 0.6,
          "symbol": "circle"
         },
         "mode": "markers",
         "name": "Libya",
         "orientation": "v",
         "showlegend": true,
         "type": "scatter",
         "x": [
          76.04
         ],
         "xaxis": "x",
         "y": [
          0.798
         ],
         "yaxis": "y"
        },
        {
         "hovertemplate": "Country=Morocco<br>LifeExp_2010=%{x}<br>HDI_2010=%{y}<extra></extra>",
         "legendgroup": "Morocco",
         "marker": {
          "color": "#ab63fa",
          "opacity": 0.6,
          "symbol": "circle"
         },
         "mode": "markers",
         "name": "Morocco",
         "orientation": "v",
         "showlegend": true,
         "type": "scatter",
         "x": [
          71.6
         ],
         "xaxis": "x",
         "y": [
          0.616
         ],
         "yaxis": "y"
        },
        {
         "hovertemplate": "Country=Oman<br>LifeExp_2010=%{x}<br>HDI_2010=%{y}<extra></extra>",
         "legendgroup": "Oman",
         "marker": {
          "color": "#FFA15A",
          "opacity": 0.6,
          "symbol": "circle"
         },
         "mode": "markers",
         "name": "Oman",
         "orientation": "v",
         "showlegend": true,
         "type": "scatter",
         "x": [
          70.36
         ],
         "xaxis": "x",
         "y": [
          0.782
         ],
         "yaxis": "y"
        },
        {
         "hovertemplate": "Country=Pakistan<br>LifeExp_2010=%{x}<br>HDI_2010=%{y}<extra></extra>",
         "legendgroup": "Pakistan",
         "marker": {
          "color": "#19d3f3",
          "opacity": 0.6,
          "symbol": "circle"
         },
         "mode": "markers",
         "name": "Pakistan",
         "orientation": "v",
         "showlegend": true,
         "type": "scatter",
         "x": [
          62.64
         ],
         "xaxis": "x",
         "y": [
          0.512
         ],
         "yaxis": "y"
        },
        {
         "hovertemplate": "Country=Qatar<br>LifeExp_2010=%{x}<br>HDI_2010=%{y}<extra></extra>",
         "legendgroup": "Qatar",
         "marker": {
          "color": "#FF6692",
          "opacity": 0.6,
          "symbol": "circle"
         },
         "mode": "markers",
         "name": "Qatar",
         "orientation": "v",
         "showlegend": true,
         "type": "scatter",
         "x": [
          74.08
         ],
         "xaxis": "x",
         "y": [
          0.834
         ],
         "yaxis": "y"
        },
        {
         "hovertemplate": "Country=Saudi Arabia<br>LifeExp_2010=%{x}<br>HDI_2010=%{y}<extra></extra>",
         "legendgroup": "Saudi Arabia",
         "marker": {
          "color": "#B6E880",
          "opacity": 0.6,
          "symbol": "circle"
         },
         "mode": "markers",
         "name": "Saudi Arabia",
         "orientation": "v",
         "showlegend": true,
         "type": "scatter",
         "x": [
          71.76
         ],
         "xaxis": "x",
         "y": [
          0.809
         ],
         "yaxis": "y"
        },
        {
         "hovertemplate": "Country=Sudan<br>LifeExp_2010=%{x}<br>HDI_2010=%{y}<extra></extra>",
         "legendgroup": "Sudan",
         "marker": {
          "color": "#FF97FF",
          "opacity": 0.6,
          "symbol": "circle"
         },
         "mode": "markers",
         "name": "Sudan",
         "orientation": "v",
         "showlegend": true,
         "type": "scatter",
         "x": [
          66.56
         ],
         "xaxis": "x",
         "y": [
          0.469
         ],
         "yaxis": "y"
        },
        {
         "hovertemplate": "Country=Syrian Arab Republic<br>LifeExp_2010=%{x}<br>HDI_2010=%{y}<extra></extra>",
         "legendgroup": "Syrian Arab Republic",
         "marker": {
          "color": "#FECB52",
          "opacity": 0.6,
          "symbol": "circle"
         },
         "mode": "markers",
         "name": "Syrian Arab Republic",
         "orientation": "v",
         "showlegend": true,
         "type": "scatter",
         "x": [
          74.35
         ],
         "xaxis": "x",
         "y": [
          0.672
         ],
         "yaxis": "y"
        },
        {
         "hovertemplate": "Country=Tunisia<br>LifeExp_2010=%{x}<br>HDI_2010=%{y}<extra></extra>",
         "legendgroup": "Tunisia",
         "marker": {
          "color": "#636efa",
          "opacity": 0.6,
          "symbol": "circle"
         },
         "mode": "markers",
         "name": "Tunisia",
         "orientation": "v",
         "showlegend": true,
         "type": "scatter",
         "x": [
          76.05
         ],
         "xaxis": "x",
         "y": [
          0.716
         ],
         "yaxis": "y"
        },
        {
         "hovertemplate": "Country=United Arab Emirates<br>LifeExp_2010=%{x}<br>HDI_2010=%{y}<extra></extra>",
         "legendgroup": "United Arab Emirates",
         "marker": {
          "color": "#EF553B",
          "opacity": 0.6,
          "symbol": "circle"
         },
         "mode": "markers",
         "name": "United Arab Emirates",
         "orientation": "v",
         "showlegend": true,
         "type": "scatter",
         "x": [
          74.86
         ],
         "xaxis": "x",
         "y": [
          0.82
         ],
         "yaxis": "y"
        },
        {
         "hovertemplate": "Country=Albania<br>LifeExp_2010=%{x}<br>HDI_2010=%{y}<extra></extra>",
         "legendgroup": "Albania",
         "marker": {
          "color": "#00cc96",
          "opacity": 0.6,
          "symbol": "circle"
         },
         "mode": "markers",
         "name": "Albania",
         "orientation": "v",
         "showlegend": true,
         "type": "scatter",
         "x": [
          76.25
         ],
         "xaxis": "x",
         "y": [
          0.745
         ],
         "yaxis": "y"
        },
        {
         "hovertemplate": "Country=Armenia<br>LifeExp_2010=%{x}<br>HDI_2010=%{y}<extra></extra>",
         "legendgroup": "Armenia",
         "marker": {
          "color": "#ab63fa",
          "opacity": 0.6,
          "symbol": "circle"
         },
         "mode": "markers",
         "name": "Armenia",
         "orientation": "v",
         "showlegend": true,
         "type": "scatter",
         "x": [
          73.12
         ],
         "xaxis": "x",
         "y": [
          0.747
         ],
         "yaxis": "y"
        },
        {
         "hovertemplate": "Country=Austria<br>LifeExp_2010=%{x}<br>HDI_2010=%{y}<extra></extra>",
         "legendgroup": "Austria",
         "marker": {
          "color": "#FFA15A",
          "opacity": 0.6,
          "symbol": "circle"
         },
         "mode": "markers",
         "name": "Austria",
         "orientation": "v",
         "showlegend": true,
         "type": "scatter",
         "x": [
          80.39
         ],
         "xaxis": "x",
         "y": [
          0.904
         ],
         "yaxis": "y"
        },
        {
         "hovertemplate": "Country=Azerbaijan<br>LifeExp_2010=%{x}<br>HDI_2010=%{y}<extra></extra>",
         "legendgroup": "Azerbaijan",
         "marker": {
          "color": "#19d3f3",
          "opacity": 0.6,
          "symbol": "circle"
         },
         "mode": "markers",
         "name": "Azerbaijan",
         "orientation": "v",
         "showlegend": true,
         "type": "scatter",
         "x": [
          69.03
         ],
         "xaxis": "x",
         "y": [
          0.726
         ],
         "yaxis": "y"
        },
        {
         "hovertemplate": "Country=Belarus<br>LifeExp_2010=%{x}<br>HDI_2010=%{y}<extra></extra>",
         "legendgroup": "Belarus",
         "marker": {
          "color": "#FF6692",
          "opacity": 0.6,
          "symbol": "circle"
         },
         "mode": "markers",
         "name": "Belarus",
         "orientation": "v",
         "showlegend": true,
         "type": "scatter",
         "x": [
          70.39
         ],
         "xaxis": "x",
         "y": [
          0.795
         ],
         "yaxis": "y"
        },
        {
         "hovertemplate": "Country=Belgium<br>LifeExp_2010=%{x}<br>HDI_2010=%{y}<extra></extra>",
         "legendgroup": "Belgium",
         "marker": {
          "color": "#B6E880",
          "opacity": 0.6,
          "symbol": "circle"
         },
         "mode": "markers",
         "name": "Belgium",
         "orientation": "v",
         "showlegend": true,
         "type": "scatter",
         "x": [
          79.85
         ],
         "xaxis": "x",
         "y": [
          0.91
         ],
         "yaxis": "y"
        },
        {
         "hovertemplate": "Country=Bosnia and Herzegovina<br>LifeExp_2010=%{x}<br>HDI_2010=%{y}<extra></extra>",
         "legendgroup": "Bosnia and Herzegovina",
         "marker": {
          "color": "#FF97FF",
          "opacity": 0.6,
          "symbol": "circle"
         },
         "mode": "markers",
         "name": "Bosnia and Herzegovina",
         "orientation": "v",
         "showlegend": true,
         "type": "scatter",
         "x": [
          76.19
         ],
         "xaxis": "x",
         "y": [
          0.721
         ],
         "yaxis": "y"
        },
        {
         "hovertemplate": "Country=Bulgaria<br>LifeExp_2010=%{x}<br>HDI_2010=%{y}<extra></extra>",
         "legendgroup": "Bulgaria",
         "marker": {
          "color": "#FECB52",
          "opacity": 0.6,
          "symbol": "circle"
         },
         "mode": "markers",
         "name": "Bulgaria",
         "orientation": "v",
         "showlegend": true,
         "type": "scatter",
         "x": [
          73.64
         ],
         "xaxis": "x",
         "y": [
          0.788
         ],
         "yaxis": "y"
        },
        {
         "hovertemplate": "Country=Croatia<br>LifeExp_2010=%{x}<br>HDI_2010=%{y}<extra></extra>",
         "legendgroup": "Croatia",
         "marker": {
          "color": "#636efa",
          "opacity": 0.6,
          "symbol": "circle"
         },
         "mode": "markers",
         "name": "Croatia",
         "orientation": "v",
         "showlegend": true,
         "type": "scatter",
         "x": [
          76.72
         ],
         "xaxis": "x",
         "y": [
          0.815
         ],
         "yaxis": "y"
        },
        {
         "hovertemplate": "Country=Cyprus<br>LifeExp_2010=%{x}<br>HDI_2010=%{y}<extra></extra>",
         "legendgroup": "Cyprus",
         "marker": {
          "color": "#EF553B",
          "opacity": 0.6,
          "symbol": "circle"
         },
         "mode": "markers",
         "name": "Cyprus",
         "orientation": "v",
         "showlegend": true,
         "type": "scatter",
         "x": [
          81.02
         ],
         "xaxis": "x",
         "y": [
          0.856
         ],
         "yaxis": "y"
        },
        {
         "hovertemplate": "Country=Denmark<br>LifeExp_2010=%{x}<br>HDI_2010=%{y}<extra></extra>",
         "legendgroup": "Denmark",
         "marker": {
          "color": "#00cc96",
          "opacity": 0.6,
          "symbol": "circle"
         },
         "mode": "markers",
         "name": "Denmark",
         "orientation": "v",
         "showlegend": true,
         "type": "scatter",
         "x": [
          79.17
         ],
         "xaxis": "x",
         "y": [
          0.917
         ],
         "yaxis": "y"
        },
        {
         "hovertemplate": "Country=Estonia<br>LifeExp_2010=%{x}<br>HDI_2010=%{y}<extra></extra>",
         "legendgroup": "Estonia",
         "marker": {
          "color": "#ab63fa",
          "opacity": 0.6,
          "symbol": "circle"
         },
         "mode": "markers",
         "name": "Estonia",
         "orientation": "v",
         "showlegend": true,
         "type": "scatter",
         "x": [
          75.87
         ],
         "xaxis": "x",
         "y": [
          0.852
         ],
         "yaxis": "y"
        },
        {
         "hovertemplate": "Country=Finland<br>LifeExp_2010=%{x}<br>HDI_2010=%{y}<extra></extra>",
         "legendgroup": "Finland",
         "marker": {
          "color": "#FFA15A",
          "opacity": 0.6,
          "symbol": "circle"
         },
         "mode": "markers",
         "name": "Finland",
         "orientation": "v",
         "showlegend": true,
         "type": "scatter",
         "x": [
          79.88
         ],
         "xaxis": "x",
         "y": [
          0.916
         ],
         "yaxis": "y"
        },
        {
         "hovertemplate": "Country=France<br>LifeExp_2010=%{x}<br>HDI_2010=%{y}<extra></extra>",
         "legendgroup": "France",
         "marker": {
          "color": "#19d3f3",
          "opacity": 0.6,
          "symbol": "circle"
         },
         "mode": "markers",
         "name": "France",
         "orientation": "v",
         "showlegend": true,
         "type": "scatter",
         "x": [
          81.22
         ],
         "xaxis": "x",
         "y": [
          0.879
         ],
         "yaxis": "y"
        },
        {
         "hovertemplate": "Country=Georgia<br>LifeExp_2010=%{x}<br>HDI_2010=%{y}<extra></extra>",
         "legendgroup": "Georgia",
         "marker": {
          "color": "#FF6692",
          "opacity": 0.6,
          "symbol": "circle"
         },
         "mode": "markers",
         "name": "Georgia",
         "orientation": "v",
         "showlegend": true,
         "type": "scatter",
         "x": [
          71.87
         ],
         "xaxis": "x",
         "y": [
          0.751
         ],
         "yaxis": "y"
        },
        {
         "hovertemplate": "Country=Germany<br>LifeExp_2010=%{x}<br>HDI_2010=%{y}<extra></extra>",
         "legendgroup": "Germany",
         "marker": {
          "color": "#B6E880",
          "opacity": 0.6,
          "symbol": "circle"
         },
         "mode": "markers",
         "name": "Germany",
         "orientation": "v",
         "showlegend": true,
         "type": "scatter",
         "x": [
          80.17
         ],
         "xaxis": "x",
         "y": [
          0.927
         ],
         "yaxis": "y"
        },
        {
         "hovertemplate": "Country=Greece<br>LifeExp_2010=%{x}<br>HDI_2010=%{y}<extra></extra>",
         "legendgroup": "Greece",
         "marker": {
          "color": "#FF97FF",
          "opacity": 0.6,
          "symbol": "circle"
         },
         "mode": "markers",
         "name": "Greece",
         "orientation": "v",
         "showlegend": true,
         "type": "scatter",
         "x": [
          80.1
         ],
         "xaxis": "x",
         "y": [
          0.865
         ],
         "yaxis": "y"
        },
        {
         "hovertemplate": "Country=Hungary<br>LifeExp_2010=%{x}<br>HDI_2010=%{y}<extra></extra>",
         "legendgroup": "Hungary",
         "marker": {
          "color": "#FECB52",
          "opacity": 0.6,
          "symbol": "circle"
         },
         "mode": "markers",
         "name": "Hungary",
         "orientation": "v",
         "showlegend": true,
         "type": "scatter",
         "x": [
          74.58
         ],
         "xaxis": "x",
         "y": [
          0.831
         ],
         "yaxis": "y"
        },
        {
         "hovertemplate": "Country=Iceland<br>LifeExp_2010=%{x}<br>HDI_2010=%{y}<extra></extra>",
         "legendgroup": "Iceland",
         "marker": {
          "color": "#636efa",
          "opacity": 0.6,
          "symbol": "circle"
         },
         "mode": "markers",
         "name": "Iceland",
         "orientation": "v",
         "showlegend": true,
         "type": "scatter",
         "x": [
          81.68
         ],
         "xaxis": "x",
         "y": [
          0.898
         ],
         "yaxis": "y"
        },
        {
         "hovertemplate": "Country=Ireland<br>LifeExp_2010=%{x}<br>HDI_2010=%{y}<extra></extra>",
         "legendgroup": "Ireland",
         "marker": {
          "color": "#EF553B",
          "opacity": 0.6,
          "symbol": "circle"
         },
         "mode": "markers",
         "name": "Ireland",
         "orientation": "v",
         "showlegend": true,
         "type": "scatter",
         "x": [
          80.41
         ],
         "xaxis": "x",
         "y": [
          0.901
         ],
         "yaxis": "y"
        },
        {
         "hovertemplate": "Country=Israel<br>LifeExp_2010=%{x}<br>HDI_2010=%{y}<extra></extra>",
         "legendgroup": "Israel",
         "marker": {
          "color": "#00cc96",
          "opacity": 0.6,
          "symbol": "circle"
         },
         "mode": "markers",
         "name": "Israel",
         "orientation": "v",
         "showlegend": true,
         "type": "scatter",
         "x": [
          81.56
         ],
         "xaxis": "x",
         "y": [
          0.895
         ],
         "yaxis": "y"
        },
        {
         "hovertemplate": "Country=Italy<br>LifeExp_2010=%{x}<br>HDI_2010=%{y}<extra></extra>",
         "legendgroup": "Italy",
         "marker": {
          "color": "#ab63fa",
          "opacity": 0.6,
          "symbol": "circle"
         },
         "mode": "markers",
         "name": "Italy",
         "orientation": "v",
         "showlegend": true,
         "type": "scatter",
         "x": [
          81.9
         ],
         "xaxis": "x",
         "y": [
          0.879
         ],
         "yaxis": "y"
        },
        {
         "hovertemplate": "Country=Kazakhstan<br>LifeExp_2010=%{x}<br>HDI_2010=%{y}<extra></extra>",
         "legendgroup": "Kazakhstan",
         "marker": {
          "color": "#FFA15A",
          "opacity": 0.6,
          "symbol": "circle"
         },
         "mode": "markers",
         "name": "Kazakhstan",
         "orientation": "v",
         "showlegend": true,
         "type": "scatter",
         "x": [
          68.43
         ],
         "xaxis": "x",
         "y": [
          0.764
         ],
         "yaxis": "y"
        },
        {
         "hovertemplate": "Country=Latvia<br>LifeExp_2010=%{x}<br>HDI_2010=%{y}<extra></extra>",
         "legendgroup": "Latvia",
         "marker": {
          "color": "#19d3f3",
          "opacity": 0.6,
          "symbol": "circle"
         },
         "mode": "markers",
         "name": "Latvia",
         "orientation": "v",
         "showlegend": true,
         "type": "scatter",
         "x": [
          72.94
         ],
         "xaxis": "x",
         "y": [
          0.824
         ],
         "yaxis": "y"
        },
        {
         "hovertemplate": "Country=Lithuania<br>LifeExp_2010=%{x}<br>HDI_2010=%{y}<extra></extra>",
         "legendgroup": "Lithuania",
         "marker": {
          "color": "#FF6692",
          "opacity": 0.6,
          "symbol": "circle"
         },
         "mode": "markers",
         "name": "Lithuania",
         "orientation": "v",
         "showlegend": true,
         "type": "scatter",
         "x": [
          73.14
         ],
         "xaxis": "x",
         "y": [
          0.831
         ],
         "yaxis": "y"
        },
        {
         "hovertemplate": "Country=Luxembourg<br>LifeExp_2010=%{x}<br>HDI_2010=%{y}<extra></extra>",
         "legendgroup": "Luxembourg",
         "marker": {
          "color": "#B6E880",
          "opacity": 0.6,
          "symbol": "circle"
         },
         "mode": "markers",
         "name": "Luxembourg",
         "orientation": "v",
         "showlegend": true,
         "type": "scatter",
         "x": [
          80.94
         ],
         "xaxis": "x",
         "y": [
          0.898
         ],
         "yaxis": "y"
        },
        {
         "hovertemplate": "Country=Malta<br>LifeExp_2010=%{x}<br>HDI_2010=%{y}<extra></extra>",
         "legendgroup": "Malta",
         "marker": {
          "color": "#FF97FF",
          "opacity": 0.6,
          "symbol": "circle"
         },
         "mode": "markers",
         "name": "Malta",
         "orientation": "v",
         "showlegend": true,
         "type": "scatter",
         "x": [
          80.45
         ],
         "xaxis": "x",
         "y": [
          0.853
         ],
         "yaxis": "y"
        },
        {
         "hovertemplate": "Country=Montenegro<br>LifeExp_2010=%{x}<br>HDI_2010=%{y}<extra></extra>",
         "legendgroup": "Montenegro",
         "marker": {
          "color": "#FECB52",
          "opacity": 0.6,
          "symbol": "circle"
         },
         "mode": "markers",
         "name": "Montenegro",
         "orientation": "v",
         "showlegend": true,
         "type": "scatter",
         "x": [
          74.69
         ],
         "xaxis": "x",
         "y": [
          0.802
         ],
         "yaxis": "y"
        },
        {
         "hovertemplate": "Country=Netherlands<br>LifeExp_2010=%{x}<br>HDI_2010=%{y}<extra></extra>",
         "legendgroup": "Netherlands",
         "marker": {
          "color": "#636efa",
          "opacity": 0.6,
          "symbol": "circle"
         },
         "mode": "markers",
         "name": "Netherlands",
         "orientation": "v",
         "showlegend": true,
         "type": "scatter",
         "x": [
          80.68
         ],
         "xaxis": "x",
         "y": [
          0.917
         ],
         "yaxis": "y"
        },
        {
         "hovertemplate": "Country=Norway<br>LifeExp_2010=%{x}<br>HDI_2010=%{y}<extra></extra>",
         "legendgroup": "Norway",
         "marker": {
          "color": "#EF553B",
          "opacity": 0.6,
          "symbol": "circle"
         },
         "mode": "markers",
         "name": "Norway",
         "orientation": "v",
         "showlegend": true,
         "type": "scatter",
         "x": [
          80.87
         ],
         "xaxis": "x",
         "y": [
          0.94
         ],
         "yaxis": "y"
        },
        {
         "hovertemplate": "Country=Poland<br>LifeExp_2010=%{x}<br>HDI_2010=%{y}<extra></extra>",
         "legendgroup": "Poland",
         "marker": {
          "color": "#00cc96",
          "opacity": 0.6,
          "symbol": "circle"
         },
         "mode": "markers",
         "name": "Poland",
         "orientation": "v",
         "showlegend": true,
         "type": "scatter",
         "x": [
          76.25
         ],
         "xaxis": "x",
         "y": [
          0.84
         ],
         "yaxis": "y"
        },
        {
         "hovertemplate": "Country=Portugal<br>LifeExp_2010=%{x}<br>HDI_2010=%{y}<extra></extra>",
         "legendgroup": "Portugal",
         "marker": {
          "color": "#ab63fa",
          "opacity": 0.6,
          "symbol": "circle"
         },
         "mode": "markers",
         "name": "Portugal",
         "orientation": "v",
         "showlegend": true,
         "type": "scatter",
         "x": [
          79.73
         ],
         "xaxis": "x",
         "y": [
          0.829
         ],
         "yaxis": "y"
        },
        {
         "hovertemplate": "Country=Romania<br>LifeExp_2010=%{x}<br>HDI_2010=%{y}<extra></extra>",
         "legendgroup": "Romania",
         "marker": {
          "color": "#FFA15A",
          "opacity": 0.6,
          "symbol": "circle"
         },
         "mode": "markers",
         "name": "Romania",
         "orientation": "v",
         "showlegend": true,
         "type": "scatter",
         "x": [
          73.7
         ],
         "xaxis": "x",
         "y": [
          0.805
         ],
         "yaxis": "y"
        },
        {
         "hovertemplate": "Country=Russian Federation<br>LifeExp_2010=%{x}<br>HDI_2010=%{y}<extra></extra>",
         "legendgroup": "Russian Federation",
         "marker": {
          "color": "#19d3f3",
          "opacity": 0.6,
          "symbol": "circle"
         },
         "mode": "markers",
         "name": "Russian Federation",
         "orientation": "v",
         "showlegend": true,
         "type": "scatter",
         "x": [
          68.76
         ],
         "xaxis": "x",
         "y": [
          0.781
         ],
         "yaxis": "y"
        },
        {
         "hovertemplate": "Country=Serbia<br>LifeExp_2010=%{x}<br>HDI_2010=%{y}<extra></extra>",
         "legendgroup": "Serbia",
         "marker": {
          "color": "#FF6692",
          "opacity": 0.6,
          "symbol": "circle"
         },
         "mode": "markers",
         "name": "Serbia",
         "orientation": "v",
         "showlegend": true,
         "type": "scatter",
         "x": [
          74.2
         ],
         "xaxis": "x",
         "y": [
          0.766
         ],
         "yaxis": "y"
        },
        {
         "hovertemplate": "Country=Slovenia<br>LifeExp_2010=%{x}<br>HDI_2010=%{y}<extra></extra>",
         "legendgroup": "Slovenia",
         "marker": {
          "color": "#B6E880",
          "opacity": 0.6,
          "symbol": "circle"
         },
         "mode": "markers",
         "name": "Slovenia",
         "orientation": "v",
         "showlegend": true,
         "type": "scatter",
         "x": [
          79.55
         ],
         "xaxis": "x",
         "y": [
          0.889
         ],
         "yaxis": "y"
        },
        {
         "hovertemplate": "Country=Spain<br>LifeExp_2010=%{x}<br>HDI_2010=%{y}<extra></extra>",
         "legendgroup": "Spain",
         "marker": {
          "color": "#FF97FF",
          "opacity": 0.6,
          "symbol": "circle"
         },
         "mode": "markers",
         "name": "Spain",
         "orientation": "v",
         "showlegend": true,
         "type": "scatter",
         "x": [
          81.69
         ],
         "xaxis": "x",
         "y": [
          0.872
         ],
         "yaxis": "y"
        },
        {
         "hovertemplate": "Country=Sweden<br>LifeExp_2010=%{x}<br>HDI_2010=%{y}<extra></extra>",
         "legendgroup": "Sweden",
         "marker": {
          "color": "#FECB52",
          "opacity": 0.6,
          "symbol": "circle"
         },
         "mode": "markers",
         "name": "Sweden",
         "orientation": "v",
         "showlegend": true,
         "type": "scatter",
         "x": [
          81.3
         ],
         "xaxis": "x",
         "y": [
          0.911
         ],
         "yaxis": "y"
        },
        {
         "hovertemplate": "Country=Switzerland<br>LifeExp_2010=%{x}<br>HDI_2010=%{y}<extra></extra>",
         "legendgroup": "Switzerland",
         "marker": {
          "color": "#636efa",
          "opacity": 0.6,
          "symbol": "circle"
         },
         "mode": "markers",
         "name": "Switzerland",
         "orientation": "v",
         "showlegend": true,
         "type": "scatter",
         "x": [
          82.19
         ],
         "xaxis": "x",
         "y": [
          0.941
         ],
         "yaxis": "y"
        },
        {
         "hovertemplate": "Country=Tajikistan<br>LifeExp_2010=%{x}<br>HDI_2010=%{y}<extra></extra>",
         "legendgroup": "Tajikistan",
         "marker": {
          "color": "#EF553B",
          "opacity": 0.6,
          "symbol": "circle"
         },
         "mode": "markers",
         "name": "Tajikistan",
         "orientation": "v",
         "showlegend": true,
         "type": "scatter",
         "x": [
          68.01
         ],
         "xaxis": "x",
         "y": [
          0.638
         ],
         "yaxis": "y"
        },
        {
         "hovertemplate": "Country=Turkmenistan<br>LifeExp_2010=%{x}<br>HDI_2010=%{y}<extra></extra>",
         "legendgroup": "Turkmenistan",
         "marker": {
          "color": "#00cc96",
          "opacity": 0.6,
          "symbol": "circle"
         },
         "mode": "markers",
         "name": "Turkmenistan",
         "orientation": "v",
         "showlegend": true,
         "type": "scatter",
         "x": [
          67.31
         ],
         "xaxis": "x",
         "y": [
          0.666
         ],
         "yaxis": "y"
        },
        {
         "hovertemplate": "Country=Ukraine<br>LifeExp_2010=%{x}<br>HDI_2010=%{y}<extra></extra>",
         "legendgroup": "Ukraine",
         "marker": {
          "color": "#ab63fa",
          "opacity": 0.6,
          "symbol": "circle"
         },
         "mode": "markers",
         "name": "Ukraine",
         "orientation": "v",
         "showlegend": true,
         "type": "scatter",
         "x": [
          70.2
         ],
         "xaxis": "x",
         "y": [
          0.755
         ],
         "yaxis": "y"
        },
        {
         "hovertemplate": "Country=Uzbekistan<br>LifeExp_2010=%{x}<br>HDI_2010=%{y}<extra></extra>",
         "legendgroup": "Uzbekistan",
         "marker": {
          "color": "#FFA15A",
          "opacity": 0.6,
          "symbol": "circle"
         },
         "mode": "markers",
         "name": "Uzbekistan",
         "orientation": "v",
         "showlegend": true,
         "type": "scatter",
         "x": [
          70.19
         ],
         "xaxis": "x",
         "y": [
          0.669
         ],
         "yaxis": "y"
        },
        {
         "hovertemplate": "Country=Bangladesh<br>LifeExp_2010=%{x}<br>HDI_2010=%{y}<extra></extra>",
         "legendgroup": "Bangladesh",
         "marker": {
          "color": "#19d3f3",
          "opacity": 0.6,
          "symbol": "circle"
         },
         "mode": "markers",
         "name": "Bangladesh",
         "orientation": "v",
         "showlegend": true,
         "type": "scatter",
         "x": [
          70.29
         ],
         "xaxis": "x",
         "y": [
          0.557
         ],
         "yaxis": "y"
        },
        {
         "hovertemplate": "Country=Bhutan<br>LifeExp_2010=%{x}<br>HDI_2010=%{y}<extra></extra>",
         "legendgroup": "Bhutan",
         "marker": {
          "color": "#FF6692",
          "opacity": 0.6,
          "symbol": "circle"
         },
         "mode": "markers",
         "name": "Bhutan",
         "orientation": "v",
         "showlegend": true,
         "type": "scatter",
         "x": [
          71.01
         ],
         "xaxis": "x",
         "y": [
          0.574
         ],
         "yaxis": "y"
        },
        {
         "hovertemplate": "Country=India<br>LifeExp_2010=%{x}<br>HDI_2010=%{y}<extra></extra>",
         "legendgroup": "India",
         "marker": {
          "color": "#B6E880",
          "opacity": 0.6,
          "symbol": "circle"
         },
         "mode": "markers",
         "name": "India",
         "orientation": "v",
         "showlegend": true,
         "type": "scatter",
         "x": [
          67.23
         ],
         "xaxis": "x",
         "y": [
          0.579
         ],
         "yaxis": "y"
        },
        {
         "hovertemplate": "Country=Indonesia<br>LifeExp_2010=%{x}<br>HDI_2010=%{y}<extra></extra>",
         "legendgroup": "Indonesia",
         "marker": {
          "color": "#FF97FF",
          "opacity": 0.6,
          "symbol": "circle"
         },
         "mode": "markers",
         "name": "Indonesia",
         "orientation": "v",
         "showlegend": true,
         "type": "scatter",
         "x": [
          69.26
         ],
         "xaxis": "x",
         "y": [
          0.665
         ],
         "yaxis": "y"
        },
        {
         "hovertemplate": "Country=Maldives<br>LifeExp_2010=%{x}<br>HDI_2010=%{y}<extra></extra>",
         "legendgroup": "Maldives",
         "marker": {
          "color": "#FECB52",
          "opacity": 0.6,
          "symbol": "circle"
         },
         "mode": "markers",
         "name": "Maldives",
         "orientation": "v",
         "showlegend": true,
         "type": "scatter",
         "x": [
          76.99
         ],
         "xaxis": "x",
         "y": [
          0.685
         ],
         "yaxis": "y"
        },
        {
         "hovertemplate": "Country=Myanmar<br>LifeExp_2010=%{x}<br>HDI_2010=%{y}<extra></extra>",
         "legendgroup": "Myanmar",
         "marker": {
          "color": "#636efa",
          "opacity": 0.6,
          "symbol": "circle"
         },
         "mode": "markers",
         "name": "Myanmar",
         "orientation": "v",
         "showlegend": true,
         "type": "scatter",
         "x": [
          64.79
         ],
         "xaxis": "x",
         "y": [
          0.515
         ],
         "yaxis": "y"
        },
        {
         "hovertemplate": "Country=Nepal<br>LifeExp_2010=%{x}<br>HDI_2010=%{y}<extra></extra>",
         "legendgroup": "Nepal",
         "marker": {
          "color": "#EF553B",
          "opacity": 0.6,
          "symbol": "circle"
         },
         "mode": "markers",
         "name": "Nepal",
         "orientation": "v",
         "showlegend": true,
         "type": "scatter",
         "x": [
          69.18
         ],
         "xaxis": "x",
         "y": [
          0.537
         ],
         "yaxis": "y"
        },
        {
         "hovertemplate": "Country=Sri Lanka<br>LifeExp_2010=%{x}<br>HDI_2010=%{y}<extra></extra>",
         "legendgroup": "Sri Lanka",
         "marker": {
          "color": "#00cc96",
          "opacity": 0.6,
          "symbol": "circle"
         },
         "mode": "markers",
         "name": "Sri Lanka",
         "orientation": "v",
         "showlegend": true,
         "type": "scatter",
         "x": [
          73.3
         ],
         "xaxis": "x",
         "y": [
          0.754
         ],
         "yaxis": "y"
        },
        {
         "hovertemplate": "Country=Thailand<br>LifeExp_2010=%{x}<br>HDI_2010=%{y}<extra></extra>",
         "legendgroup": "Thailand",
         "marker": {
          "color": "#ab63fa",
          "opacity": 0.6,
          "symbol": "circle"
         },
         "mode": "markers",
         "name": "Thailand",
         "orientation": "v",
         "showlegend": true,
         "type": "scatter",
         "x": [
          76.25
         ],
         "xaxis": "x",
         "y": [
          0.724
         ],
         "yaxis": "y"
        },
        {
         "hovertemplate": "Country=Timor-Leste<br>LifeExp_2010=%{x}<br>HDI_2010=%{y}<extra></extra>",
         "legendgroup": "Timor-Leste",
         "marker": {
          "color": "#FFA15A",
          "opacity": 0.6,
          "symbol": "circle"
         },
         "mode": "markers",
         "name": "Timor-Leste",
         "orientation": "v",
         "showlegend": true,
         "type": "scatter",
         "x": [
          68.06
         ],
         "xaxis": "x",
         "y": [
          0.628
         ],
         "yaxis": "y"
        },
        {
         "hovertemplate": "Country=Australia<br>LifeExp_2010=%{x}<br>HDI_2010=%{y}<extra></extra>",
         "legendgroup": "Australia",
         "marker": {
          "color": "#19d3f3",
          "opacity": 0.6,
          "symbol": "circle"
         },
         "mode": "markers",
         "name": "Australia",
         "orientation": "v",
         "showlegend": true,
         "type": "scatter",
         "x": [
          81.9
         ],
         "xaxis": "x",
         "y": [
          0.93
         ],
         "yaxis": "y"
        },
        {
         "hovertemplate": "Country=Brunei Darussalam<br>LifeExp_2010=%{x}<br>HDI_2010=%{y}<extra></extra>",
         "legendgroup": "Brunei Darussalam",
         "marker": {
          "color": "#FF6692",
          "opacity": 0.6,
          "symbol": "circle"
         },
         "mode": "markers",
         "name": "Brunei Darussalam",
         "orientation": "v",
         "showlegend": true,
         "type": "scatter",
         "x": [
          74.57
         ],
         "xaxis": "x",
         "y": [
          0.827
         ],
         "yaxis": "y"
        },
        {
         "hovertemplate": "Country=Cambodia<br>LifeExp_2010=%{x}<br>HDI_2010=%{y}<extra></extra>",
         "legendgroup": "Cambodia",
         "marker": {
          "color": "#B6E880",
          "opacity": 0.6,
          "symbol": "circle"
         },
         "mode": "markers",
         "name": "Cambodia",
         "orientation": "v",
         "showlegend": true,
         "type": "scatter",
         "x": [
          67.22
         ],
         "xaxis": "x",
         "y": [
          0.539
         ],
         "yaxis": "y"
        },
        {
         "hovertemplate": "Country=China<br>LifeExp_2010=%{x}<br>HDI_2010=%{y}<extra></extra>",
         "legendgroup": "China",
         "marker": {
          "color": "#FF97FF",
          "opacity": 0.6,
          "symbol": "circle"
         },
         "mode": "markers",
         "name": "China",
         "orientation": "v",
         "showlegend": true,
         "type": "scatter",
         "x": [
          74.89
         ],
         "xaxis": "x",
         "y": [
          0.699
         ],
         "yaxis": "y"
        },
        {
         "hovertemplate": "Country=Fiji<br>LifeExp_2010=%{x}<br>HDI_2010=%{y}<extra></extra>",
         "legendgroup": "Fiji",
         "marker": {
          "color": "#FECB52",
          "opacity": 0.6,
          "symbol": "circle"
         },
         "mode": "markers",
         "name": "Fiji",
         "orientation": "v",
         "showlegend": true,
         "type": "scatter",
         "x": [
          67.6
         ],
         "xaxis": "x",
         "y": [
          0.715
         ],
         "yaxis": "y"
        },
        {
         "hovertemplate": "Country=Japan<br>LifeExp_2010=%{x}<br>HDI_2010=%{y}<extra></extra>",
         "legendgroup": "Japan",
         "marker": {
          "color": "#636efa",
          "opacity": 0.6,
          "symbol": "circle"
         },
         "mode": "markers",
         "name": "Japan",
         "orientation": "v",
         "showlegend": true,
         "type": "scatter",
         "x": [
          82.68
         ],
         "xaxis": "x",
         "y": [
          0.887
         ],
         "yaxis": "y"
        },
        {
         "hovertemplate": "Country=Malaysia<br>LifeExp_2010=%{x}<br>HDI_2010=%{y}<extra></extra>",
         "legendgroup": "Malaysia",
         "marker": {
          "color": "#EF553B",
          "opacity": 0.6,
          "symbol": "circle"
         },
         "mode": "markers",
         "name": "Malaysia",
         "orientation": "v",
         "showlegend": true,
         "type": "scatter",
         "x": [
          74.25
         ],
         "xaxis": "x",
         "y": [
          0.772
         ],
         "yaxis": "y"
        },
        {
         "hovertemplate": "Country=Mongolia<br>LifeExp_2010=%{x}<br>HDI_2010=%{y}<extra></extra>",
         "legendgroup": "Mongolia",
         "marker": {
          "color": "#00cc96",
          "opacity": 0.6,
          "symbol": "circle"
         },
         "mode": "markers",
         "name": "Mongolia",
         "orientation": "v",
         "showlegend": true,
         "type": "scatter",
         "x": [
          65.05
         ],
         "xaxis": "x",
         "y": [
          0.696
         ],
         "yaxis": "y"
        },
        {
         "hovertemplate": "Country=New Zealand<br>LifeExp_2010=%{x}<br>HDI_2010=%{y}<extra></extra>",
         "legendgroup": "New Zealand",
         "marker": {
          "color": "#ab63fa",
          "opacity": 0.6,
          "symbol": "circle"
         },
         "mode": "markers",
         "name": "New Zealand",
         "orientation": "v",
         "showlegend": true,
         "type": "scatter",
         "x": [
          80.94
         ],
         "xaxis": "x",
         "y": [
          0.906
         ],
         "yaxis": "y"
        },
        {
         "hovertemplate": "Country=Papua New Guinea<br>LifeExp_2010=%{x}<br>HDI_2010=%{y}<extra></extra>",
         "legendgroup": "Papua New Guinea",
         "marker": {
          "color": "#FFA15A",
          "opacity": 0.6,
          "symbol": "circle"
         },
         "mode": "markers",
         "name": "Papua New Guinea",
         "orientation": "v",
         "showlegend": true,
         "type": "scatter",
         "x": [
          63.42
         ],
         "xaxis": "x",
         "y": [
          0.522
         ],
         "yaxis": "y"
        },
        {
         "hovertemplate": "Country=Philippines<br>LifeExp_2010=%{x}<br>HDI_2010=%{y}<extra></extra>",
         "legendgroup": "Philippines",
         "marker": {
          "color": "#19d3f3",
          "opacity": 0.6,
          "symbol": "circle"
         },
         "mode": "markers",
         "name": "Philippines",
         "orientation": "v",
         "showlegend": true,
         "type": "scatter",
         "x": [
          69.96
         ],
         "xaxis": "x",
         "y": [
          0.671
         ],
         "yaxis": "y"
        },
        {
         "hovertemplate": "Country=Samoa<br>LifeExp_2010=%{x}<br>HDI_2010=%{y}<extra></extra>",
         "legendgroup": "Samoa",
         "marker": {
          "color": "#FF6692",
          "opacity": 0.6,
          "symbol": "circle"
         },
         "mode": "markers",
         "name": "Samoa",
         "orientation": "v",
         "showlegend": true,
         "type": "scatter",
         "x": [
          69.57
         ],
         "xaxis": "x",
         "y": [
          0.698
         ],
         "yaxis": "y"
        },
        {
         "hovertemplate": "Country=Singapore<br>LifeExp_2010=%{x}<br>HDI_2010=%{y}<extra></extra>",
         "legendgroup": "Singapore",
         "marker": {
          "color": "#B6E880",
          "opacity": 0.6,
          "symbol": "circle"
         },
         "mode": "markers",
         "name": "Singapore",
         "orientation": "v",
         "showlegend": true,
         "type": "scatter",
         "x": [
          81.7
         ],
         "xaxis": "x",
         "y": [
          0.909
         ],
         "yaxis": "y"
        },
        {
         "hovertemplate": "Country=Solomon Islands<br>LifeExp_2010=%{x}<br>HDI_2010=%{y}<extra></extra>",
         "legendgroup": "Solomon Islands",
         "marker": {
          "color": "#FF97FF",
          "opacity": 0.6,
          "symbol": "circle"
         },
         "mode": "markers",
         "name": "Solomon Islands",
         "orientation": "v",
         "showlegend": true,
         "type": "scatter",
         "x": [
          63.69
         ],
         "xaxis": "x",
         "y": [
          0.537
         ],
         "yaxis": "y"
        },
        {
         "hovertemplate": "Country=Tonga<br>LifeExp_2010=%{x}<br>HDI_2010=%{y}<extra></extra>",
         "legendgroup": "Tonga",
         "marker": {
          "color": "#FECB52",
          "opacity": 0.6,
          "symbol": "circle"
         },
         "mode": "markers",
         "name": "Tonga",
         "orientation": "v",
         "showlegend": true,
         "type": "scatter",
         "x": [
          72.22
         ],
         "xaxis": "x",
         "y": [
          0.699
         ],
         "yaxis": "y"
        },
        {
         "hovertemplate": "Country=Vanuatu<br>LifeExp_2010=%{x}<br>HDI_2010=%{y}<extra></extra>",
         "legendgroup": "Vanuatu",
         "marker": {
          "color": "#636efa",
          "opacity": 0.6,
          "symbol": "circle"
         },
         "mode": "markers",
         "name": "Vanuatu",
         "orientation": "v",
         "showlegend": true,
         "type": "scatter",
         "x": [
          64.52
         ],
         "xaxis": "x",
         "y": [
          0.59
         ],
         "yaxis": "y"
        }
       ],
       "layout": {
        "legend": {
         "title": {
          "text": "Country"
         },
         "tracegroupgap": 0
        },
        "template": {
         "data": {
          "bar": [
           {
            "error_x": {
             "color": "#f2f5fa"
            },
            "error_y": {
             "color": "#f2f5fa"
            },
            "marker": {
             "line": {
              "color": "rgb(17,17,17)",
              "width": 0.5
             },
             "pattern": {
              "fillmode": "overlay",
              "size": 10,
              "solidity": 0.2
             }
            },
            "type": "bar"
           }
          ],
          "barpolar": [
           {
            "marker": {
             "line": {
              "color": "rgb(17,17,17)",
              "width": 0.5
             },
             "pattern": {
              "fillmode": "overlay",
              "size": 10,
              "solidity": 0.2
             }
            },
            "type": "barpolar"
           }
          ],
          "carpet": [
           {
            "aaxis": {
             "endlinecolor": "#A2B1C6",
             "gridcolor": "#506784",
             "linecolor": "#506784",
             "minorgridcolor": "#506784",
             "startlinecolor": "#A2B1C6"
            },
            "baxis": {
             "endlinecolor": "#A2B1C6",
             "gridcolor": "#506784",
             "linecolor": "#506784",
             "minorgridcolor": "#506784",
             "startlinecolor": "#A2B1C6"
            },
            "type": "carpet"
           }
          ],
          "choropleth": [
           {
            "colorbar": {
             "outlinewidth": 0,
             "ticks": ""
            },
            "type": "choropleth"
           }
          ],
          "contour": [
           {
            "colorbar": {
             "outlinewidth": 0,
             "ticks": ""
            },
            "colorscale": [
             [
              0,
              "#0d0887"
             ],
             [
              0.1111111111111111,
              "#46039f"
             ],
             [
              0.2222222222222222,
              "#7201a8"
             ],
             [
              0.3333333333333333,
              "#9c179e"
             ],
             [
              0.4444444444444444,
              "#bd3786"
             ],
             [
              0.5555555555555556,
              "#d8576b"
             ],
             [
              0.6666666666666666,
              "#ed7953"
             ],
             [
              0.7777777777777778,
              "#fb9f3a"
             ],
             [
              0.8888888888888888,
              "#fdca26"
             ],
             [
              1,
              "#f0f921"
             ]
            ],
            "type": "contour"
           }
          ],
          "contourcarpet": [
           {
            "colorbar": {
             "outlinewidth": 0,
             "ticks": ""
            },
            "type": "contourcarpet"
           }
          ],
          "heatmap": [
           {
            "colorbar": {
             "outlinewidth": 0,
             "ticks": ""
            },
            "colorscale": [
             [
              0,
              "#0d0887"
             ],
             [
              0.1111111111111111,
              "#46039f"
             ],
             [
              0.2222222222222222,
              "#7201a8"
             ],
             [
              0.3333333333333333,
              "#9c179e"
             ],
             [
              0.4444444444444444,
              "#bd3786"
             ],
             [
              0.5555555555555556,
              "#d8576b"
             ],
             [
              0.6666666666666666,
              "#ed7953"
             ],
             [
              0.7777777777777778,
              "#fb9f3a"
             ],
             [
              0.8888888888888888,
              "#fdca26"
             ],
             [
              1,
              "#f0f921"
             ]
            ],
            "type": "heatmap"
           }
          ],
          "heatmapgl": [
           {
            "colorbar": {
             "outlinewidth": 0,
             "ticks": ""
            },
            "colorscale": [
             [
              0,
              "#0d0887"
             ],
             [
              0.1111111111111111,
              "#46039f"
             ],
             [
              0.2222222222222222,
              "#7201a8"
             ],
             [
              0.3333333333333333,
              "#9c179e"
             ],
             [
              0.4444444444444444,
              "#bd3786"
             ],
             [
              0.5555555555555556,
              "#d8576b"
             ],
             [
              0.6666666666666666,
              "#ed7953"
             ],
             [
              0.7777777777777778,
              "#fb9f3a"
             ],
             [
              0.8888888888888888,
              "#fdca26"
             ],
             [
              1,
              "#f0f921"
             ]
            ],
            "type": "heatmapgl"
           }
          ],
          "histogram": [
           {
            "marker": {
             "pattern": {
              "fillmode": "overlay",
              "size": 10,
              "solidity": 0.2
             }
            },
            "type": "histogram"
           }
          ],
          "histogram2d": [
           {
            "colorbar": {
             "outlinewidth": 0,
             "ticks": ""
            },
            "colorscale": [
             [
              0,
              "#0d0887"
             ],
             [
              0.1111111111111111,
              "#46039f"
             ],
             [
              0.2222222222222222,
              "#7201a8"
             ],
             [
              0.3333333333333333,
              "#9c179e"
             ],
             [
              0.4444444444444444,
              "#bd3786"
             ],
             [
              0.5555555555555556,
              "#d8576b"
             ],
             [
              0.6666666666666666,
              "#ed7953"
             ],
             [
              0.7777777777777778,
              "#fb9f3a"
             ],
             [
              0.8888888888888888,
              "#fdca26"
             ],
             [
              1,
              "#f0f921"
             ]
            ],
            "type": "histogram2d"
           }
          ],
          "histogram2dcontour": [
           {
            "colorbar": {
             "outlinewidth": 0,
             "ticks": ""
            },
            "colorscale": [
             [
              0,
              "#0d0887"
             ],
             [
              0.1111111111111111,
              "#46039f"
             ],
             [
              0.2222222222222222,
              "#7201a8"
             ],
             [
              0.3333333333333333,
              "#9c179e"
             ],
             [
              0.4444444444444444,
              "#bd3786"
             ],
             [
              0.5555555555555556,
              "#d8576b"
             ],
             [
              0.6666666666666666,
              "#ed7953"
             ],
             [
              0.7777777777777778,
              "#fb9f3a"
             ],
             [
              0.8888888888888888,
              "#fdca26"
             ],
             [
              1,
              "#f0f921"
             ]
            ],
            "type": "histogram2dcontour"
           }
          ],
          "mesh3d": [
           {
            "colorbar": {
             "outlinewidth": 0,
             "ticks": ""
            },
            "type": "mesh3d"
           }
          ],
          "parcoords": [
           {
            "line": {
             "colorbar": {
              "outlinewidth": 0,
              "ticks": ""
             }
            },
            "type": "parcoords"
           }
          ],
          "pie": [
           {
            "automargin": true,
            "type": "pie"
           }
          ],
          "scatter": [
           {
            "marker": {
             "line": {
              "color": "#283442"
             }
            },
            "type": "scatter"
           }
          ],
          "scatter3d": [
           {
            "line": {
             "colorbar": {
              "outlinewidth": 0,
              "ticks": ""
             }
            },
            "marker": {
             "colorbar": {
              "outlinewidth": 0,
              "ticks": ""
             }
            },
            "type": "scatter3d"
           }
          ],
          "scattercarpet": [
           {
            "marker": {
             "colorbar": {
              "outlinewidth": 0,
              "ticks": ""
             }
            },
            "type": "scattercarpet"
           }
          ],
          "scattergeo": [
           {
            "marker": {
             "colorbar": {
              "outlinewidth": 0,
              "ticks": ""
             }
            },
            "type": "scattergeo"
           }
          ],
          "scattergl": [
           {
            "marker": {
             "line": {
              "color": "#283442"
             }
            },
            "type": "scattergl"
           }
          ],
          "scattermapbox": [
           {
            "marker": {
             "colorbar": {
              "outlinewidth": 0,
              "ticks": ""
             }
            },
            "type": "scattermapbox"
           }
          ],
          "scatterpolar": [
           {
            "marker": {
             "colorbar": {
              "outlinewidth": 0,
              "ticks": ""
             }
            },
            "type": "scatterpolar"
           }
          ],
          "scatterpolargl": [
           {
            "marker": {
             "colorbar": {
              "outlinewidth": 0,
              "ticks": ""
             }
            },
            "type": "scatterpolargl"
           }
          ],
          "scatterternary": [
           {
            "marker": {
             "colorbar": {
              "outlinewidth": 0,
              "ticks": ""
             }
            },
            "type": "scatterternary"
           }
          ],
          "surface": [
           {
            "colorbar": {
             "outlinewidth": 0,
             "ticks": ""
            },
            "colorscale": [
             [
              0,
              "#0d0887"
             ],
             [
              0.1111111111111111,
              "#46039f"
             ],
             [
              0.2222222222222222,
              "#7201a8"
             ],
             [
              0.3333333333333333,
              "#9c179e"
             ],
             [
              0.4444444444444444,
              "#bd3786"
             ],
             [
              0.5555555555555556,
              "#d8576b"
             ],
             [
              0.6666666666666666,
              "#ed7953"
             ],
             [
              0.7777777777777778,
              "#fb9f3a"
             ],
             [
              0.8888888888888888,
              "#fdca26"
             ],
             [
              1,
              "#f0f921"
             ]
            ],
            "type": "surface"
           }
          ],
          "table": [
           {
            "cells": {
             "fill": {
              "color": "#506784"
             },
             "line": {
              "color": "rgb(17,17,17)"
             }
            },
            "header": {
             "fill": {
              "color": "#2a3f5f"
             },
             "line": {
              "color": "rgb(17,17,17)"
             }
            },
            "type": "table"
           }
          ]
         },
         "layout": {
          "annotationdefaults": {
           "arrowcolor": "#f2f5fa",
           "arrowhead": 0,
           "arrowwidth": 1
          },
          "autotypenumbers": "strict",
          "coloraxis": {
           "colorbar": {
            "outlinewidth": 0,
            "ticks": ""
           }
          },
          "colorscale": {
           "diverging": [
            [
             0,
             "#8e0152"
            ],
            [
             0.1,
             "#c51b7d"
            ],
            [
             0.2,
             "#de77ae"
            ],
            [
             0.3,
             "#f1b6da"
            ],
            [
             0.4,
             "#fde0ef"
            ],
            [
             0.5,
             "#f7f7f7"
            ],
            [
             0.6,
             "#e6f5d0"
            ],
            [
             0.7,
             "#b8e186"
            ],
            [
             0.8,
             "#7fbc41"
            ],
            [
             0.9,
             "#4d9221"
            ],
            [
             1,
             "#276419"
            ]
           ],
           "sequential": [
            [
             0,
             "#0d0887"
            ],
            [
             0.1111111111111111,
             "#46039f"
            ],
            [
             0.2222222222222222,
             "#7201a8"
            ],
            [
             0.3333333333333333,
             "#9c179e"
            ],
            [
             0.4444444444444444,
             "#bd3786"
            ],
            [
             0.5555555555555556,
             "#d8576b"
            ],
            [
             0.6666666666666666,
             "#ed7953"
            ],
            [
             0.7777777777777778,
             "#fb9f3a"
            ],
            [
             0.8888888888888888,
             "#fdca26"
            ],
            [
             1,
             "#f0f921"
            ]
           ],
           "sequentialminus": [
            [
             0,
             "#0d0887"
            ],
            [
             0.1111111111111111,
             "#46039f"
            ],
            [
             0.2222222222222222,
             "#7201a8"
            ],
            [
             0.3333333333333333,
             "#9c179e"
            ],
            [
             0.4444444444444444,
             "#bd3786"
            ],
            [
             0.5555555555555556,
             "#d8576b"
            ],
            [
             0.6666666666666666,
             "#ed7953"
            ],
            [
             0.7777777777777778,
             "#fb9f3a"
            ],
            [
             0.8888888888888888,
             "#fdca26"
            ],
            [
             1,
             "#f0f921"
            ]
           ]
          },
          "colorway": [
           "#636efa",
           "#EF553B",
           "#00cc96",
           "#ab63fa",
           "#FFA15A",
           "#19d3f3",
           "#FF6692",
           "#B6E880",
           "#FF97FF",
           "#FECB52"
          ],
          "font": {
           "color": "#f2f5fa"
          },
          "geo": {
           "bgcolor": "rgb(17,17,17)",
           "lakecolor": "rgb(17,17,17)",
           "landcolor": "rgb(17,17,17)",
           "showlakes": true,
           "showland": true,
           "subunitcolor": "#506784"
          },
          "hoverlabel": {
           "align": "left"
          },
          "hovermode": "closest",
          "mapbox": {
           "style": "dark"
          },
          "paper_bgcolor": "rgb(17,17,17)",
          "plot_bgcolor": "rgb(17,17,17)",
          "polar": {
           "angularaxis": {
            "gridcolor": "#506784",
            "linecolor": "#506784",
            "ticks": ""
           },
           "bgcolor": "rgb(17,17,17)",
           "radialaxis": {
            "gridcolor": "#506784",
            "linecolor": "#506784",
            "ticks": ""
           }
          },
          "scene": {
           "xaxis": {
            "backgroundcolor": "rgb(17,17,17)",
            "gridcolor": "#506784",
            "gridwidth": 2,
            "linecolor": "#506784",
            "showbackground": true,
            "ticks": "",
            "zerolinecolor": "#C8D4E3"
           },
           "yaxis": {
            "backgroundcolor": "rgb(17,17,17)",
            "gridcolor": "#506784",
            "gridwidth": 2,
            "linecolor": "#506784",
            "showbackground": true,
            "ticks": "",
            "zerolinecolor": "#C8D4E3"
           },
           "zaxis": {
            "backgroundcolor": "rgb(17,17,17)",
            "gridcolor": "#506784",
            "gridwidth": 2,
            "linecolor": "#506784",
            "showbackground": true,
            "ticks": "",
            "zerolinecolor": "#C8D4E3"
           }
          },
          "shapedefaults": {
           "line": {
            "color": "#f2f5fa"
           }
          },
          "sliderdefaults": {
           "bgcolor": "#C8D4E3",
           "bordercolor": "rgb(17,17,17)",
           "borderwidth": 1,
           "tickwidth": 0
          },
          "ternary": {
           "aaxis": {
            "gridcolor": "#506784",
            "linecolor": "#506784",
            "ticks": ""
           },
           "baxis": {
            "gridcolor": "#506784",
            "linecolor": "#506784",
            "ticks": ""
           },
           "bgcolor": "rgb(17,17,17)",
           "caxis": {
            "gridcolor": "#506784",
            "linecolor": "#506784",
            "ticks": ""
           }
          },
          "title": {
           "x": 0.05
          },
          "updatemenudefaults": {
           "bgcolor": "#506784",
           "borderwidth": 0
          },
          "xaxis": {
           "automargin": true,
           "gridcolor": "#283442",
           "linecolor": "#506784",
           "ticks": "",
           "title": {
            "standoff": 15
           },
           "zerolinecolor": "#283442",
           "zerolinewidth": 2
          },
          "yaxis": {
           "automargin": true,
           "gridcolor": "#283442",
           "linecolor": "#506784",
           "ticks": "",
           "title": {
            "standoff": 15
           },
           "zerolinecolor": "#283442",
           "zerolinewidth": 2
          }
         }
        },
        "title": {
         "text": "<b> Life Expectancy Versus HDI in 2010 </b>"
        },
        "xaxis": {
         "anchor": "y",
         "domain": [
          0,
          1
         ],
         "title": {
          "text": "LifeExp_2010"
         }
        },
        "yaxis": {
         "anchor": "x",
         "domain": [
          0,
          1
         ],
         "title": {
          "text": "HDI_2010"
         }
        }
       }
      }
     },
     "metadata": {},
     "output_type": "display_data"
    }
   ],
   "source": [
    "px.scatter(df,y='HDI_2010',x='LifeExp_2010',color='Country',template='plotly_dark',opacity=0.6,title='<b> Life Expectancy Versus HDI in 2010 </b>')\n"
   ]
  },
  {
   "cell_type": "code",
   "execution_count": 14,
   "metadata": {},
   "outputs": [
    {
     "data": {
      "application/vnd.plotly.v1+json": {
       "config": {
        "plotlyServerURL": "https://plot.ly"
       },
       "data": [
        {
         "hovertemplate": "Country=Algeria<br>LifeExp_2015=%{x}<br>HDI_2015=%{y}<extra></extra>",
         "legendgroup": "Algeria",
         "marker": {
          "color": "#636efa",
          "opacity": 0.6,
          "symbol": "circle"
         },
         "mode": "markers",
         "name": "Algeria",
         "orientation": "v",
         "showlegend": true,
         "type": "scatter",
         "x": [
          76.54
         ],
         "xaxis": "x",
         "y": [
          0.74
         ],
         "yaxis": "y"
        },
        {
         "hovertemplate": "Country=Angola<br>LifeExp_2015=%{x}<br>HDI_2015=%{y}<extra></extra>",
         "legendgroup": "Angola",
         "marker": {
          "color": "#EF553B",
          "opacity": 0.6,
          "symbol": "circle"
         },
         "mode": "markers",
         "name": "Angola",
         "orientation": "v",
         "showlegend": true,
         "type": "scatter",
         "x": [
          61.72
         ],
         "xaxis": "x",
         "y": [
          0.572
         ],
         "yaxis": "y"
        },
        {
         "hovertemplate": "Country=Benin<br>LifeExp_2015=%{x}<br>HDI_2015=%{y}<extra></extra>",
         "legendgroup": "Benin",
         "marker": {
          "color": "#00cc96",
          "opacity": 0.6,
          "symbol": "circle"
         },
         "mode": "markers",
         "name": "Benin",
         "orientation": "v",
         "showlegend": true,
         "type": "scatter",
         "x": [
          61.96
         ],
         "xaxis": "x",
         "y": [
          0.532
         ],
         "yaxis": "y"
        },
        {
         "hovertemplate": "Country=Botswana<br>LifeExp_2015=%{x}<br>HDI_2015=%{y}<extra></extra>",
         "legendgroup": "Botswana",
         "marker": {
          "color": "#ab63fa",
          "opacity": 0.6,
          "symbol": "circle"
         },
         "mode": "markers",
         "name": "Botswana",
         "orientation": "v",
         "showlegend": true,
         "type": "scatter",
         "x": [
          60.93
         ],
         "xaxis": "x",
         "y": [
          0.717
         ],
         "yaxis": "y"
        },
        {
         "hovertemplate": "Country=Burkina Faso<br>LifeExp_2015=%{x}<br>HDI_2015=%{y}<extra></extra>",
         "legendgroup": "Burkina Faso",
         "marker": {
          "color": "#FFA15A",
          "opacity": 0.6,
          "symbol": "circle"
         },
         "mode": "markers",
         "name": "Burkina Faso",
         "orientation": "v",
         "showlegend": true,
         "type": "scatter",
         "x": [
          60.92
         ],
         "xaxis": "x",
         "y": [
          0.422
         ],
         "yaxis": "y"
        },
        {
         "hovertemplate": "Country=Burundi<br>LifeExp_2015=%{x}<br>HDI_2015=%{y}<extra></extra>",
         "legendgroup": "Burundi",
         "marker": {
          "color": "#19d3f3",
          "opacity": 0.6,
          "symbol": "circle"
         },
         "mode": "markers",
         "name": "Burundi",
         "orientation": "v",
         "showlegend": true,
         "type": "scatter",
         "x": [
          62.05
         ],
         "xaxis": "x",
         "y": [
          0.437
         ],
         "yaxis": "y"
        },
        {
         "hovertemplate": "Country=Cabo Verde<br>LifeExp_2015=%{x}<br>HDI_2015=%{y}<extra></extra>",
         "legendgroup": "Cabo Verde",
         "marker": {
          "color": "#FF6692",
          "opacity": 0.6,
          "symbol": "circle"
         },
         "mode": "markers",
         "name": "Cabo Verde",
         "orientation": "v",
         "showlegend": true,
         "type": "scatter",
         "x": [
          74.88
         ],
         "xaxis": "x",
         "y": [
          0.656
         ],
         "yaxis": "y"
        },
        {
         "hovertemplate": "Country=Cameroon<br>LifeExp_2015=%{x}<br>HDI_2015=%{y}<extra></extra>",
         "legendgroup": "Cameroon",
         "marker": {
          "color": "#B6E880",
          "opacity": 0.6,
          "symbol": "circle"
         },
         "mode": "markers",
         "name": "Cameroon",
         "orientation": "v",
         "showlegend": true,
         "type": "scatter",
         "x": [
          59.11
         ],
         "xaxis": "x",
         "y": [
          0.549
         ],
         "yaxis": "y"
        },
        {
         "hovertemplate": "Country=Central African Republic<br>LifeExp_2015=%{x}<br>HDI_2015=%{y}<extra></extra>",
         "legendgroup": "Central African Republic",
         "marker": {
          "color": "#FF97FF",
          "opacity": 0.6,
          "symbol": "circle"
         },
         "mode": "markers",
         "name": "Central African Republic",
         "orientation": "v",
         "showlegend": true,
         "type": "scatter",
         "x": [
          50.53
         ],
         "xaxis": "x",
         "y": [
          0.375
         ],
         "yaxis": "y"
        },
        {
         "hovertemplate": "Country=Chad<br>LifeExp_2015=%{x}<br>HDI_2015=%{y}<extra></extra>",
         "legendgroup": "Chad",
         "marker": {
          "color": "#FECB52",
          "opacity": 0.6,
          "symbol": "circle"
         },
         "mode": "markers",
         "name": "Chad",
         "orientation": "v",
         "showlegend": true,
         "type": "scatter",
         "x": [
          57.91
         ],
         "xaxis": "x",
         "y": [
          0.398
         ],
         "yaxis": "y"
        },
        {
         "hovertemplate": "Country=Comoros<br>LifeExp_2015=%{x}<br>HDI_2015=%{y}<extra></extra>",
         "legendgroup": "Comoros",
         "marker": {
          "color": "#636efa",
          "opacity": 0.6,
          "symbol": "circle"
         },
         "mode": "markers",
         "name": "Comoros",
         "orientation": "v",
         "showlegend": true,
         "type": "scatter",
         "x": [
          66.45
         ],
         "xaxis": "x",
         "y": [
          0.545
         ],
         "yaxis": "y"
        },
        {
         "hovertemplate": "Country=Equatorial Guinea<br>LifeExp_2015=%{x}<br>HDI_2015=%{y}<extra></extra>",
         "legendgroup": "Equatorial Guinea",
         "marker": {
          "color": "#EF553B",
          "opacity": 0.6,
          "symbol": "circle"
         },
         "mode": "markers",
         "name": "Equatorial Guinea",
         "orientation": "v",
         "showlegend": true,
         "type": "scatter",
         "x": [
          61.13
         ],
         "xaxis": "x",
         "y": [
          0.589
         ],
         "yaxis": "y"
        },
        {
         "hovertemplate": "Country=Eritrea<br>LifeExp_2015=%{x}<br>HDI_2015=%{y}<extra></extra>",
         "legendgroup": "Eritrea",
         "marker": {
          "color": "#00cc96",
          "opacity": 0.6,
          "symbol": "circle"
         },
         "mode": "markers",
         "name": "Eritrea",
         "orientation": "v",
         "showlegend": true,
         "type": "scatter",
         "x": [
          62.29
         ],
         "xaxis": "x",
         "y": [
          0.454
         ],
         "yaxis": "y"
        },
        {
         "hovertemplate": "Country=Ethiopia<br>LifeExp_2015=%{x}<br>HDI_2015=%{y}<extra></extra>",
         "legendgroup": "Ethiopia",
         "marker": {
          "color": "#ab63fa",
          "opacity": 0.6,
          "symbol": "circle"
         },
         "mode": "markers",
         "name": "Ethiopia",
         "orientation": "v",
         "showlegend": true,
         "type": "scatter",
         "x": [
          66.82
         ],
         "xaxis": "x",
         "y": [
          0.462
         ],
         "yaxis": "y"
        },
        {
         "hovertemplate": "Country=Gabon<br>LifeExp_2015=%{x}<br>HDI_2015=%{y}<extra></extra>",
         "legendgroup": "Gabon",
         "marker": {
          "color": "#FFA15A",
          "opacity": 0.6,
          "symbol": "circle"
         },
         "mode": "markers",
         "name": "Gabon",
         "orientation": "v",
         "showlegend": true,
         "type": "scatter",
         "x": [
          64.93
         ],
         "xaxis": "x",
         "y": [
          0.685
         ],
         "yaxis": "y"
        },
        {
         "hovertemplate": "Country=Ghana<br>LifeExp_2015=%{x}<br>HDI_2015=%{y}<extra></extra>",
         "legendgroup": "Ghana",
         "marker": {
          "color": "#19d3f3",
          "opacity": 0.6,
          "symbol": "circle"
         },
         "mode": "markers",
         "name": "Ghana",
         "orientation": "v",
         "showlegend": true,
         "type": "scatter",
         "x": [
          64.55
         ],
         "xaxis": "x",
         "y": [
          0.59
         ],
         "yaxis": "y"
        },
        {
         "hovertemplate": "Country=Guinea<br>LifeExp_2015=%{x}<br>HDI_2015=%{y}<extra></extra>",
         "legendgroup": "Guinea",
         "marker": {
          "color": "#FF6692",
          "opacity": 0.6,
          "symbol": "circle"
         },
         "mode": "markers",
         "name": "Guinea",
         "orientation": "v",
         "showlegend": true,
         "type": "scatter",
         "x": [
          58.81
         ],
         "xaxis": "x",
         "y": [
          0.457
         ],
         "yaxis": "y"
        },
        {
         "hovertemplate": "Country=Guinea-Bissau<br>LifeExp_2015=%{x}<br>HDI_2015=%{y}<extra></extra>",
         "legendgroup": "Guinea-Bissau",
         "marker": {
          "color": "#B6E880",
          "opacity": 0.6,
          "symbol": "circle"
         },
         "mode": "markers",
         "name": "Guinea-Bissau",
         "orientation": "v",
         "showlegend": true,
         "type": "scatter",
         "x": [
          58.23
         ],
         "xaxis": "x",
         "y": [
          0.464
         ],
         "yaxis": "y"
        },
        {
         "hovertemplate": "Country=Kenya<br>LifeExp_2015=%{x}<br>HDI_2015=%{y}<extra></extra>",
         "legendgroup": "Kenya",
         "marker": {
          "color": "#FF97FF",
          "opacity": 0.6,
          "symbol": "circle"
         },
         "mode": "markers",
         "name": "Kenya",
         "orientation": "v",
         "showlegend": true,
         "type": "scatter",
         "x": [
          64.17
         ],
         "xaxis": "x",
         "y": [
          0.587
         ],
         "yaxis": "y"
        },
        {
         "hovertemplate": "Country=Lesotho<br>LifeExp_2015=%{x}<br>HDI_2015=%{y}<extra></extra>",
         "legendgroup": "Lesotho",
         "marker": {
          "color": "#FECB52",
          "opacity": 0.6,
          "symbol": "circle"
         },
         "mode": "markers",
         "name": "Lesotho",
         "orientation": "v",
         "showlegend": true,
         "type": "scatter",
         "x": [
          47.67
         ],
         "xaxis": "x",
         "y": [
          0.503
         ],
         "yaxis": "y"
        },
        {
         "hovertemplate": "Country=Liberia<br>LifeExp_2015=%{x}<br>HDI_2015=%{y}<extra></extra>",
         "legendgroup": "Liberia",
         "marker": {
          "color": "#636efa",
          "opacity": 0.6,
          "symbol": "circle"
         },
         "mode": "markers",
         "name": "Liberia",
         "orientation": "v",
         "showlegend": true,
         "type": "scatter",
         "x": [
          61.17
         ],
         "xaxis": "x",
         "y": [
          0.477
         ],
         "yaxis": "y"
        },
        {
         "hovertemplate": "Country=Madagascar<br>LifeExp_2015=%{x}<br>HDI_2015=%{y}<extra></extra>",
         "legendgroup": "Madagascar",
         "marker": {
          "color": "#EF553B",
          "opacity": 0.6,
          "symbol": "circle"
         },
         "mode": "markers",
         "name": "Madagascar",
         "orientation": "v",
         "showlegend": true,
         "type": "scatter",
         "x": [
          64.19
         ],
         "xaxis": "x",
         "y": [
          0.522
         ],
         "yaxis": "y"
        },
        {
         "hovertemplate": "Country=Malawi<br>LifeExp_2015=%{x}<br>HDI_2015=%{y}<extra></extra>",
         "legendgroup": "Malawi",
         "marker": {
          "color": "#00cc96",
          "opacity": 0.6,
          "symbol": "circle"
         },
         "mode": "markers",
         "name": "Malawi",
         "orientation": "v",
         "showlegend": true,
         "type": "scatter",
         "x": [
          63.04
         ],
         "xaxis": "x",
         "y": [
          0.468
         ],
         "yaxis": "y"
        },
        {
         "hovertemplate": "Country=Mali<br>LifeExp_2015=%{x}<br>HDI_2015=%{y}<extra></extra>",
         "legendgroup": "Mali",
         "marker": {
          "color": "#ab63fa",
          "opacity": 0.6,
          "symbol": "circle"
         },
         "mode": "markers",
         "name": "Mali",
         "orientation": "v",
         "showlegend": true,
         "type": "scatter",
         "x": [
          60.89
         ],
         "xaxis": "x",
         "y": [
          0.417
         ],
         "yaxis": "y"
        },
        {
         "hovertemplate": "Country=Mauritania<br>LifeExp_2015=%{x}<br>HDI_2015=%{y}<extra></extra>",
         "legendgroup": "Mauritania",
         "marker": {
          "color": "#FFA15A",
          "opacity": 0.6,
          "symbol": "circle"
         },
         "mode": "markers",
         "name": "Mauritania",
         "orientation": "v",
         "showlegend": true,
         "type": "scatter",
         "x": [
          67.41
         ],
         "xaxis": "x",
         "y": [
          0.536
         ],
         "yaxis": "y"
        },
        {
         "hovertemplate": "Country=Mauritius<br>LifeExp_2015=%{x}<br>HDI_2015=%{y}<extra></extra>",
         "legendgroup": "Mauritius",
         "marker": {
          "color": "#19d3f3",
          "opacity": 0.6,
          "symbol": "circle"
         },
         "mode": "markers",
         "name": "Mauritius",
         "orientation": "v",
         "showlegend": true,
         "type": "scatter",
         "x": [
          74.14
         ],
         "xaxis": "x",
         "y": [
          0.789
         ],
         "yaxis": "y"
        },
        {
         "hovertemplate": "Country=Mozambique<br>LifeExp_2015=%{x}<br>HDI_2015=%{y}<extra></extra>",
         "legendgroup": "Mozambique",
         "marker": {
          "color": "#FF6692",
          "opacity": 0.6,
          "symbol": "circle"
         },
         "mode": "markers",
         "name": "Mozambique",
         "orientation": "v",
         "showlegend": true,
         "type": "scatter",
         "x": [
          55.95
         ],
         "xaxis": "x",
         "y": [
          0.433
         ],
         "yaxis": "y"
        },
        {
         "hovertemplate": "Country=Namibia<br>LifeExp_2015=%{x}<br>HDI_2015=%{y}<extra></extra>",
         "legendgroup": "Namibia",
         "marker": {
          "color": "#B6E880",
          "opacity": 0.6,
          "symbol": "circle"
         },
         "mode": "markers",
         "name": "Namibia",
         "orientation": "v",
         "showlegend": true,
         "type": "scatter",
         "x": [
          62.87
         ],
         "xaxis": "x",
         "y": [
          0.638
         ],
         "yaxis": "y"
        },
        {
         "hovertemplate": "Country=Niger<br>LifeExp_2015=%{x}<br>HDI_2015=%{y}<extra></extra>",
         "legendgroup": "Niger",
         "marker": {
          "color": "#FF97FF",
          "opacity": 0.6,
          "symbol": "circle"
         },
         "mode": "markers",
         "name": "Niger",
         "orientation": "v",
         "showlegend": true,
         "type": "scatter",
         "x": [
          61.54
         ],
         "xaxis": "x",
         "y": [
          0.372
         ],
         "yaxis": "y"
        },
        {
         "hovertemplate": "Country=Nigeria<br>LifeExp_2015=%{x}<br>HDI_2015=%{y}<extra></extra>",
         "legendgroup": "Nigeria",
         "marker": {
          "color": "#FECB52",
          "opacity": 0.6,
          "symbol": "circle"
         },
         "mode": "markers",
         "name": "Nigeria",
         "orientation": "v",
         "showlegend": true,
         "type": "scatter",
         "x": [
          61.16
         ],
         "xaxis": "x",
         "y": [
          0.526
         ],
         "yaxis": "y"
        },
        {
         "hovertemplate": "Country=Rwanda<br>LifeExp_2015=%{x}<br>HDI_2015=%{y}<extra></extra>",
         "legendgroup": "Rwanda",
         "marker": {
          "color": "#636efa",
          "opacity": 0.6,
          "symbol": "circle"
         },
         "mode": "markers",
         "name": "Rwanda",
         "orientation": "v",
         "showlegend": true,
         "type": "scatter",
         "x": [
          67.69
         ],
         "xaxis": "x",
         "y": [
          0.526
         ],
         "yaxis": "y"
        },
        {
         "hovertemplate": "Country=Sao Tome and Principe<br>LifeExp_2015=%{x}<br>HDI_2015=%{y}<extra></extra>",
         "legendgroup": "Sao Tome and Principe",
         "marker": {
          "color": "#EF553B",
          "opacity": 0.6,
          "symbol": "circle"
         },
         "mode": "markers",
         "name": "Sao Tome and Principe",
         "orientation": "v",
         "showlegend": true,
         "type": "scatter",
         "x": [
          69.6
         ],
         "xaxis": "x",
         "y": [
          0.604
         ],
         "yaxis": "y"
        },
        {
         "hovertemplate": "Country=Senegal<br>LifeExp_2015=%{x}<br>HDI_2015=%{y}<extra></extra>",
         "legendgroup": "Senegal",
         "marker": {
          "color": "#00cc96",
          "opacity": 0.6,
          "symbol": "circle"
         },
         "mode": "markers",
         "name": "Senegal",
         "orientation": "v",
         "showlegend": true,
         "type": "scatter",
         "x": [
          67.2
         ],
         "xaxis": "x",
         "y": [
          0.506
         ],
         "yaxis": "y"
        },
        {
         "hovertemplate": "Country=Sierra Leone<br>LifeExp_2015=%{x}<br>HDI_2015=%{y}<extra></extra>",
         "legendgroup": "Sierra Leone",
         "marker": {
          "color": "#ab63fa",
          "opacity": 0.6,
          "symbol": "circle"
         },
         "mode": "markers",
         "name": "Sierra Leone",
         "orientation": "v",
         "showlegend": true,
         "type": "scatter",
         "x": [
          56.94
         ],
         "xaxis": "x",
         "y": [
          0.431
         ],
         "yaxis": "y"
        },
        {
         "hovertemplate": "Country=South Africa<br>LifeExp_2015=%{x}<br>HDI_2015=%{y}<extra></extra>",
         "legendgroup": "South Africa",
         "marker": {
          "color": "#FFA15A",
          "opacity": 0.6,
          "symbol": "circle"
         },
         "mode": "markers",
         "name": "South Africa",
         "orientation": "v",
         "showlegend": true,
         "type": "scatter",
         "x": [
          62.57
         ],
         "xaxis": "x",
         "y": [
          0.701
         ],
         "yaxis": "y"
        },
        {
         "hovertemplate": "Country=South Sudan<br>LifeExp_2015=%{x}<br>HDI_2015=%{y}<extra></extra>",
         "legendgroup": "South Sudan",
         "marker": {
          "color": "#19d3f3",
          "opacity": 0.6,
          "symbol": "circle"
         },
         "mode": "markers",
         "name": "South Sudan",
         "orientation": "v",
         "showlegend": true,
         "type": "scatter",
         "x": [
          61.99
         ],
         "xaxis": "x",
         "y": [
          0.425
         ],
         "yaxis": "y"
        },
        {
         "hovertemplate": "Country=Togo<br>LifeExp_2015=%{x}<br>HDI_2015=%{y}<extra></extra>",
         "legendgroup": "Togo",
         "marker": {
          "color": "#FF6692",
          "opacity": 0.6,
          "symbol": "circle"
         },
         "mode": "markers",
         "name": "Togo",
         "orientation": "v",
         "showlegend": true,
         "type": "scatter",
         "x": [
          61.92
         ],
         "xaxis": "x",
         "y": [
          0.499
         ],
         "yaxis": "y"
        },
        {
         "hovertemplate": "Country=Uganda<br>LifeExp_2015=%{x}<br>HDI_2015=%{y}<extra></extra>",
         "legendgroup": "Uganda",
         "marker": {
          "color": "#B6E880",
          "opacity": 0.6,
          "symbol": "circle"
         },
         "mode": "markers",
         "name": "Uganda",
         "orientation": "v",
         "showlegend": true,
         "type": "scatter",
         "x": [
          64.47
         ],
         "xaxis": "x",
         "y": [
          0.525
         ],
         "yaxis": "y"
        },
        {
         "hovertemplate": "Country=Zambia<br>LifeExp_2015=%{x}<br>HDI_2015=%{y}<extra></extra>",
         "legendgroup": "Zambia",
         "marker": {
          "color": "#FF97FF",
          "opacity": 0.6,
          "symbol": "circle"
         },
         "mode": "markers",
         "name": "Zambia",
         "orientation": "v",
         "showlegend": true,
         "type": "scatter",
         "x": [
          60.5
         ],
         "xaxis": "x",
         "y": [
          0.569
         ],
         "yaxis": "y"
        },
        {
         "hovertemplate": "Country=Zimbabwe<br>LifeExp_2015=%{x}<br>HDI_2015=%{y}<extra></extra>",
         "legendgroup": "Zimbabwe",
         "marker": {
          "color": "#FECB52",
          "opacity": 0.6,
          "symbol": "circle"
         },
         "mode": "markers",
         "name": "Zimbabwe",
         "orientation": "v",
         "showlegend": true,
         "type": "scatter",
         "x": [
          58.48
         ],
         "xaxis": "x",
         "y": [
          0.553
         ],
         "yaxis": "y"
        },
        {
         "hovertemplate": "Country=Argentina<br>LifeExp_2015=%{x}<br>HDI_2015=%{y}<extra></extra>",
         "legendgroup": "Argentina",
         "marker": {
          "color": "#636efa",
          "opacity": 0.6,
          "symbol": "circle"
         },
         "mode": "markers",
         "name": "Argentina",
         "orientation": "v",
         "showlegend": true,
         "type": "scatter",
         "x": [
          76.17
         ],
         "xaxis": "x",
         "y": [
          0.84
         ],
         "yaxis": "y"
        },
        {
         "hovertemplate": "Country=Barbados<br>LifeExp_2015=%{x}<br>HDI_2015=%{y}<extra></extra>",
         "legendgroup": "Barbados",
         "marker": {
          "color": "#EF553B",
          "opacity": 0.6,
          "symbol": "circle"
         },
         "mode": "markers",
         "name": "Barbados",
         "orientation": "v",
         "showlegend": true,
         "type": "scatter",
         "x": [
          76.22
         ],
         "xaxis": "x",
         "y": [
          0.809
         ],
         "yaxis": "y"
        },
        {
         "hovertemplate": "Country=Belize<br>LifeExp_2015=%{x}<br>HDI_2015=%{y}<extra></extra>",
         "legendgroup": "Belize",
         "marker": {
          "color": "#00cc96",
          "opacity": 0.6,
          "symbol": "circle"
         },
         "mode": "markers",
         "name": "Belize",
         "orientation": "v",
         "showlegend": true,
         "type": "scatter",
         "x": [
          74.05
         ],
         "xaxis": "x",
         "y": [
          0.71
         ],
         "yaxis": "y"
        },
        {
         "hovertemplate": "Country=Brazil<br>LifeExp_2015=%{x}<br>HDI_2015=%{y}<extra></extra>",
         "legendgroup": "Brazil",
         "marker": {
          "color": "#ab63fa",
          "opacity": 0.6,
          "symbol": "circle"
         },
         "mode": "markers",
         "name": "Brazil",
         "orientation": "v",
         "showlegend": true,
         "type": "scatter",
         "x": [
          75.13
         ],
         "xaxis": "x",
         "y": [
          0.756
         ],
         "yaxis": "y"
        },
        {
         "hovertemplate": "Country=Canada<br>LifeExp_2015=%{x}<br>HDI_2015=%{y}<extra></extra>",
         "legendgroup": "Canada",
         "marker": {
          "color": "#FFA15A",
          "opacity": 0.6,
          "symbol": "circle"
         },
         "mode": "markers",
         "name": "Canada",
         "orientation": "v",
         "showlegend": true,
         "type": "scatter",
         "x": [
          81.76
         ],
         "xaxis": "x",
         "y": [
          0.921
         ],
         "yaxis": "y"
        },
        {
         "hovertemplate": "Country=Chile<br>LifeExp_2015=%{x}<br>HDI_2015=%{y}<extra></extra>",
         "legendgroup": "Chile",
         "marker": {
          "color": "#19d3f3",
          "opacity": 0.6,
          "symbol": "circle"
         },
         "mode": "markers",
         "name": "Chile",
         "orientation": "v",
         "showlegend": true,
         "type": "scatter",
         "x": [
          79.82
         ],
         "xaxis": "x",
         "y": [
          0.842
         ],
         "yaxis": "y"
        },
        {
         "hovertemplate": "Country=Colombia<br>LifeExp_2015=%{x}<br>HDI_2015=%{y}<extra></extra>",
         "legendgroup": "Colombia",
         "marker": {
          "color": "#FF6692",
          "opacity": 0.6,
          "symbol": "circle"
         },
         "mode": "markers",
         "name": "Colombia",
         "orientation": "v",
         "showlegend": true,
         "type": "scatter",
         "x": [
          78.35
         ],
         "xaxis": "x",
         "y": [
          0.756
         ],
         "yaxis": "y"
        },
        {
         "hovertemplate": "Country=Costa Rica<br>LifeExp_2015=%{x}<br>HDI_2015=%{y}<extra></extra>",
         "legendgroup": "Costa Rica",
         "marker": {
          "color": "#B6E880",
          "opacity": 0.6,
          "symbol": "circle"
         },
         "mode": "markers",
         "name": "Costa Rica",
         "orientation": "v",
         "showlegend": true,
         "type": "scatter",
         "x": [
          80.78
         ],
         "xaxis": "x",
         "y": [
          0.797
         ],
         "yaxis": "y"
        },
        {
         "hovertemplate": "Country=Cuba<br>LifeExp_2015=%{x}<br>HDI_2015=%{y}<extra></extra>",
         "legendgroup": "Cuba",
         "marker": {
          "color": "#FF97FF",
          "opacity": 0.6,
          "symbol": "circle"
         },
         "mode": "markers",
         "name": "Cuba",
         "orientation": "v",
         "showlegend": true,
         "type": "scatter",
         "x": [
          77.91
         ],
         "xaxis": "x",
         "y": [
          0.772
         ],
         "yaxis": "y"
        },
        {
         "hovertemplate": "Country=Dominican Republic<br>LifeExp_2015=%{x}<br>HDI_2015=%{y}<extra></extra>",
         "legendgroup": "Dominican Republic",
         "marker": {
          "color": "#FECB52",
          "opacity": 0.6,
          "symbol": "circle"
         },
         "mode": "markers",
         "name": "Dominican Republic",
         "orientation": "v",
         "showlegend": true,
         "type": "scatter",
         "x": [
          71.75
         ],
         "xaxis": "x",
         "y": [
          0.738
         ],
         "yaxis": "y"
        },
        {
         "hovertemplate": "Country=Ecuador<br>LifeExp_2015=%{x}<br>HDI_2015=%{y}<extra></extra>",
         "legendgroup": "Ecuador",
         "marker": {
          "color": "#636efa",
          "opacity": 0.6,
          "symbol": "circle"
         },
         "mode": "markers",
         "name": "Ecuador",
         "orientation": "v",
         "showlegend": true,
         "type": "scatter",
         "x": [
          77.18
         ],
         "xaxis": "x",
         "y": [
          0.764
         ],
         "yaxis": "y"
        },
        {
         "hovertemplate": "Country=El Salvador<br>LifeExp_2015=%{x}<br>HDI_2015=%{y}<extra></extra>",
         "legendgroup": "El Salvador",
         "marker": {
          "color": "#EF553B",
          "opacity": 0.6,
          "symbol": "circle"
         },
         "mode": "markers",
         "name": "El Salvador",
         "orientation": "v",
         "showlegend": true,
         "type": "scatter",
         "x": [
          73.25
         ],
         "xaxis": "x",
         "y": [
          0.668
         ],
         "yaxis": "y"
        },
        {
         "hovertemplate": "Country=Guatemala<br>LifeExp_2015=%{x}<br>HDI_2015=%{y}<extra></extra>",
         "legendgroup": "Guatemala",
         "marker": {
          "color": "#00cc96",
          "opacity": 0.6,
          "symbol": "circle"
         },
         "mode": "markers",
         "name": "Guatemala",
         "orientation": "v",
         "showlegend": true,
         "type": "scatter",
         "x": [
          70.95
         ],
         "xaxis": "x",
         "y": [
          0.652
         ],
         "yaxis": "y"
        },
        {
         "hovertemplate": "Country=Guyana<br>LifeExp_2015=%{x}<br>HDI_2015=%{y}<extra></extra>",
         "legendgroup": "Guyana",
         "marker": {
          "color": "#ab63fa",
          "opacity": 0.6,
          "symbol": "circle"
         },
         "mode": "markers",
         "name": "Guyana",
         "orientation": "v",
         "showlegend": true,
         "type": "scatter",
         "x": [
          65.59
         ],
         "xaxis": "x",
         "y": [
          0.674
         ],
         "yaxis": "y"
        },
        {
         "hovertemplate": "Country=Haiti<br>LifeExp_2015=%{x}<br>HDI_2015=%{y}<extra></extra>",
         "legendgroup": "Haiti",
         "marker": {
          "color": "#FFA15A",
          "opacity": 0.6,
          "symbol": "circle"
         },
         "mode": "markers",
         "name": "Haiti",
         "orientation": "v",
         "showlegend": true,
         "type": "scatter",
         "x": [
          62.61
         ],
         "xaxis": "x",
         "y": [
          0.496
         ],
         "yaxis": "y"
        },
        {
         "hovertemplate": "Country=Honduras<br>LifeExp_2015=%{x}<br>HDI_2015=%{y}<extra></extra>",
         "legendgroup": "Honduras",
         "marker": {
          "color": "#19d3f3",
          "opacity": 0.6,
          "symbol": "circle"
         },
         "mode": "markers",
         "name": "Honduras",
         "orientation": "v",
         "showlegend": true,
         "type": "scatter",
         "x": [
          69.82
         ],
         "xaxis": "x",
         "y": [
          0.618
         ],
         "yaxis": "y"
        },
        {
         "hovertemplate": "Country=Jamaica<br>LifeExp_2015=%{x}<br>HDI_2015=%{y}<extra></extra>",
         "legendgroup": "Jamaica",
         "marker": {
          "color": "#FF6692",
          "opacity": 0.6,
          "symbol": "circle"
         },
         "mode": "markers",
         "name": "Jamaica",
         "orientation": "v",
         "showlegend": true,
         "type": "scatter",
         "x": [
          75.85
         ],
         "xaxis": "x",
         "y": [
          0.731
         ],
         "yaxis": "y"
        },
        {
         "hovertemplate": "Country=Mexico<br>LifeExp_2015=%{x}<br>HDI_2015=%{y}<extra></extra>",
         "legendgroup": "Mexico",
         "marker": {
          "color": "#B6E880",
          "opacity": 0.6,
          "symbol": "circle"
         },
         "mode": "markers",
         "name": "Mexico",
         "orientation": "v",
         "showlegend": true,
         "type": "scatter",
         "x": [
          75.87
         ],
         "xaxis": "x",
         "y": [
          0.766
         ],
         "yaxis": "y"
        },
        {
         "hovertemplate": "Country=Nicaragua<br>LifeExp_2015=%{x}<br>HDI_2015=%{y}<extra></extra>",
         "legendgroup": "Nicaragua",
         "marker": {
          "color": "#FF97FF",
          "opacity": 0.6,
          "symbol": "circle"
         },
         "mode": "markers",
         "name": "Nicaragua",
         "orientation": "v",
         "showlegend": true,
         "type": "scatter",
         "x": [
          74.62
         ],
         "xaxis": "x",
         "y": [
          0.652
         ],
         "yaxis": "y"
        },
        {
         "hovertemplate": "Country=Panama<br>LifeExp_2015=%{x}<br>HDI_2015=%{y}<extra></extra>",
         "legendgroup": "Panama",
         "marker": {
          "color": "#FECB52",
          "opacity": 0.6,
          "symbol": "circle"
         },
         "mode": "markers",
         "name": "Panama",
         "orientation": "v",
         "showlegend": true,
         "type": "scatter",
         "x": [
          78.72
         ],
         "xaxis": "x",
         "y": [
          0.799
         ],
         "yaxis": "y"
        },
        {
         "hovertemplate": "Country=Paraguay<br>LifeExp_2015=%{x}<br>HDI_2015=%{y}<extra></extra>",
         "legendgroup": "Paraguay",
         "marker": {
          "color": "#636efa",
          "opacity": 0.6,
          "symbol": "circle"
         },
         "mode": "markers",
         "name": "Paraguay",
         "orientation": "v",
         "showlegend": true,
         "type": "scatter",
         "x": [
          75.56
         ],
         "xaxis": "x",
         "y": [
          0.721
         ],
         "yaxis": "y"
        },
        {
         "hovertemplate": "Country=Peru<br>LifeExp_2015=%{x}<br>HDI_2015=%{y}<extra></extra>",
         "legendgroup": "Peru",
         "marker": {
          "color": "#EF553B",
          "opacity": 0.6,
          "symbol": "circle"
         },
         "mode": "markers",
         "name": "Peru",
         "orientation": "v",
         "showlegend": true,
         "type": "scatter",
         "x": [
          79.08
         ],
         "xaxis": "x",
         "y": [
          0.759
         ],
         "yaxis": "y"
        },
        {
         "hovertemplate": "Country=Suriname<br>LifeExp_2015=%{x}<br>HDI_2015=%{y}<extra></extra>",
         "legendgroup": "Suriname",
         "marker": {
          "color": "#00cc96",
          "opacity": 0.6,
          "symbol": "circle"
         },
         "mode": "markers",
         "name": "Suriname",
         "orientation": "v",
         "showlegend": true,
         "type": "scatter",
         "x": [
          72.6
         ],
         "xaxis": "x",
         "y": [
          0.74
         ],
         "yaxis": "y"
        },
        {
         "hovertemplate": "Country=Trinidad and Tobago<br>LifeExp_2015=%{x}<br>HDI_2015=%{y}<extra></extra>",
         "legendgroup": "Trinidad and Tobago",
         "marker": {
          "color": "#ab63fa",
          "opacity": 0.6,
          "symbol": "circle"
         },
         "mode": "markers",
         "name": "Trinidad and Tobago",
         "orientation": "v",
         "showlegend": true,
         "type": "scatter",
         "x": [
          74.61
         ],
         "xaxis": "x",
         "y": [
          0.792
         ],
         "yaxis": "y"
        },
        {
         "hovertemplate": "Country=Uruguay<br>LifeExp_2015=%{x}<br>HDI_2015=%{y}<extra></extra>",
         "legendgroup": "Uruguay",
         "marker": {
          "color": "#FFA15A",
          "opacity": 0.6,
          "symbol": "circle"
         },
         "mode": "markers",
         "name": "Uruguay",
         "orientation": "v",
         "showlegend": true,
         "type": "scatter",
         "x": [
          77.03
         ],
         "xaxis": "x",
         "y": [
          0.806
         ],
         "yaxis": "y"
        },
        {
         "hovertemplate": "Country=Afghanistan<br>LifeExp_2015=%{x}<br>HDI_2015=%{y}<extra></extra>",
         "legendgroup": "Afghanistan",
         "marker": {
          "color": "#19d3f3",
          "opacity": 0.6,
          "symbol": "circle"
         },
         "mode": "markers",
         "name": "Afghanistan",
         "orientation": "v",
         "showlegend": true,
         "type": "scatter",
         "x": [
          61.65
         ],
         "xaxis": "x",
         "y": [
          0.5
         ],
         "yaxis": "y"
        },
        {
         "hovertemplate": "Country=Bahrain<br>LifeExp_2015=%{x}<br>HDI_2015=%{y}<extra></extra>",
         "legendgroup": "Bahrain",
         "marker": {
          "color": "#FF6692",
          "opacity": 0.6,
          "symbol": "circle"
         },
         "mode": "markers",
         "name": "Bahrain",
         "orientation": "v",
         "showlegend": true,
         "type": "scatter",
         "x": [
          76.46
         ],
         "xaxis": "x",
         "y": [
          0.848
         ],
         "yaxis": "y"
        },
        {
         "hovertemplate": "Country=Djibouti<br>LifeExp_2015=%{x}<br>HDI_2015=%{y}<extra></extra>",
         "legendgroup": "Djibouti",
         "marker": {
          "color": "#B6E880",
          "opacity": 0.6,
          "symbol": "circle"
         },
         "mode": "markers",
         "name": "Djibouti",
         "orientation": "v",
         "showlegend": true,
         "type": "scatter",
         "x": [
          64.64
         ],
         "xaxis": "x",
         "y": [
          0.499
         ],
         "yaxis": "y"
        },
        {
         "hovertemplate": "Country=Iraq<br>LifeExp_2015=%{x}<br>HDI_2015=%{y}<extra></extra>",
         "legendgroup": "Iraq",
         "marker": {
          "color": "#FF97FF",
          "opacity": 0.6,
          "symbol": "circle"
         },
         "mode": "markers",
         "name": "Iraq",
         "orientation": "v",
         "showlegend": true,
         "type": "scatter",
         "x": [
          70.29
         ],
         "xaxis": "x",
         "y": [
          0.649
         ],
         "yaxis": "y"
        },
        {
         "hovertemplate": "Country=Jordan<br>LifeExp_2015=%{x}<br>HDI_2015=%{y}<extra></extra>",
         "legendgroup": "Jordan",
         "marker": {
          "color": "#FECB52",
          "opacity": 0.6,
          "symbol": "circle"
         },
         "mode": "markers",
         "name": "Jordan",
         "orientation": "v",
         "showlegend": true,
         "type": "scatter",
         "x": [
          77.82
         ],
         "xaxis": "x",
         "y": [
          0.73
         ],
         "yaxis": "y"
        },
        {
         "hovertemplate": "Country=Kuwait<br>LifeExp_2015=%{x}<br>HDI_2015=%{y}<extra></extra>",
         "legendgroup": "Kuwait",
         "marker": {
          "color": "#636efa",
          "opacity": 0.6,
          "symbol": "circle"
         },
         "mode": "markers",
         "name": "Kuwait",
         "orientation": "v",
         "showlegend": true,
         "type": "scatter",
         "x": [
          81.13
         ],
         "xaxis": "x",
         "y": [
          0.801
         ],
         "yaxis": "y"
        },
        {
         "hovertemplate": "Country=Lebanon<br>LifeExp_2015=%{x}<br>HDI_2015=%{y}<extra></extra>",
         "legendgroup": "Lebanon",
         "marker": {
          "color": "#EF553B",
          "opacity": 0.6,
          "symbol": "circle"
         },
         "mode": "markers",
         "name": "Lebanon",
         "orientation": "v",
         "showlegend": true,
         "type": "scatter",
         "x": [
          75.98
         ],
         "xaxis": "x",
         "y": [
          0.744
         ],
         "yaxis": "y"
        },
        {
         "hovertemplate": "Country=Libya<br>LifeExp_2015=%{x}<br>HDI_2015=%{y}<extra></extra>",
         "legendgroup": "Libya",
         "marker": {
          "color": "#00cc96",
          "opacity": 0.6,
          "symbol": "circle"
         },
         "mode": "markers",
         "name": "Libya",
         "orientation": "v",
         "showlegend": true,
         "type": "scatter",
         "x": [
          74.6
         ],
         "xaxis": "x",
         "y": [
          0.697
         ],
         "yaxis": "y"
        },
        {
         "hovertemplate": "Country=Morocco<br>LifeExp_2015=%{x}<br>HDI_2015=%{y}<extra></extra>",
         "legendgroup": "Morocco",
         "marker": {
          "color": "#ab63fa",
          "opacity": 0.6,
          "symbol": "circle"
         },
         "mode": "markers",
         "name": "Morocco",
         "orientation": "v",
         "showlegend": true,
         "type": "scatter",
         "x": [
          72.46
         ],
         "xaxis": "x",
         "y": [
          0.658
         ],
         "yaxis": "y"
        },
        {
         "hovertemplate": "Country=Oman<br>LifeExp_2015=%{x}<br>HDI_2015=%{y}<extra></extra>",
         "legendgroup": "Oman",
         "marker": {
          "color": "#FFA15A",
          "opacity": 0.6,
          "symbol": "circle"
         },
         "mode": "markers",
         "name": "Oman",
         "orientation": "v",
         "showlegend": true,
         "type": "scatter",
         "x": [
          72.52
         ],
         "xaxis": "x",
         "y": [
          0.814
         ],
         "yaxis": "y"
        },
        {
         "hovertemplate": "Country=Pakistan<br>LifeExp_2015=%{x}<br>HDI_2015=%{y}<extra></extra>",
         "legendgroup": "Pakistan",
         "marker": {
          "color": "#19d3f3",
          "opacity": 0.6,
          "symbol": "circle"
         },
         "mode": "markers",
         "name": "Pakistan",
         "orientation": "v",
         "showlegend": true,
         "type": "scatter",
         "x": [
          64.18
         ],
         "xaxis": "x",
         "y": [
          0.536
         ],
         "yaxis": "y"
        },
        {
         "hovertemplate": "Country=Qatar<br>LifeExp_2015=%{x}<br>HDI_2015=%{y}<extra></extra>",
         "legendgroup": "Qatar",
         "marker": {
          "color": "#FF6692",
          "opacity": 0.6,
          "symbol": "circle"
         },
         "mode": "markers",
         "name": "Qatar",
         "orientation": "v",
         "showlegend": true,
         "type": "scatter",
         "x": [
          76.41
         ],
         "xaxis": "x",
         "y": [
          0.839
         ],
         "yaxis": "y"
        },
        {
         "hovertemplate": "Country=Saudi Arabia<br>LifeExp_2015=%{x}<br>HDI_2015=%{y}<extra></extra>",
         "legendgroup": "Saudi Arabia",
         "marker": {
          "color": "#B6E880",
          "opacity": 0.6,
          "symbol": "circle"
         },
         "mode": "markers",
         "name": "Saudi Arabia",
         "orientation": "v",
         "showlegend": true,
         "type": "scatter",
         "x": [
          73.15
         ],
         "xaxis": "x",
         "y": [
          0.859
         ],
         "yaxis": "y"
        },
        {
         "hovertemplate": "Country=Sudan<br>LifeExp_2015=%{x}<br>HDI_2015=%{y}<extra></extra>",
         "legendgroup": "Sudan",
         "marker": {
          "color": "#FF97FF",
          "opacity": 0.6,
          "symbol": "circle"
         },
         "mode": "markers",
         "name": "Sudan",
         "orientation": "v",
         "showlegend": true,
         "type": "scatter",
         "x": [
          67.94
         ],
         "xaxis": "x",
         "y": [
          0.504
         ],
         "yaxis": "y"
        },
        {
         "hovertemplate": "Country=Syrian Arab Republic<br>LifeExp_2015=%{x}<br>HDI_2015=%{y}<extra></extra>",
         "legendgroup": "Syrian Arab Republic",
         "marker": {
          "color": "#FECB52",
          "opacity": 0.6,
          "symbol": "circle"
         },
         "mode": "markers",
         "name": "Syrian Arab Republic",
         "orientation": "v",
         "showlegend": true,
         "type": "scatter",
         "x": [
          64.4
         ],
         "xaxis": "x",
         "y": [
          0.537
         ],
         "yaxis": "y"
        },
        {
         "hovertemplate": "Country=Tunisia<br>LifeExp_2015=%{x}<br>HDI_2015=%{y}<extra></extra>",
         "legendgroup": "Tunisia",
         "marker": {
          "color": "#636efa",
          "opacity": 0.6,
          "symbol": "circle"
         },
         "mode": "markers",
         "name": "Tunisia",
         "orientation": "v",
         "showlegend": true,
         "type": "scatter",
         "x": [
          76.7
         ],
         "xaxis": "x",
         "y": [
          0.729
         ],
         "yaxis": "y"
        },
        {
         "hovertemplate": "Country=United Arab Emirates<br>LifeExp_2015=%{x}<br>HDI_2015=%{y}<extra></extra>",
         "legendgroup": "United Arab Emirates",
         "marker": {
          "color": "#EF553B",
          "opacity": 0.6,
          "symbol": "circle"
         },
         "mode": "markers",
         "name": "United Arab Emirates",
         "orientation": "v",
         "showlegend": true,
         "type": "scatter",
         "x": [
          75.31
         ],
         "xaxis": "x",
         "y": [
          0.859
         ],
         "yaxis": "y"
        },
        {
         "hovertemplate": "Country=Albania<br>LifeExp_2015=%{x}<br>HDI_2015=%{y}<extra></extra>",
         "legendgroup": "Albania",
         "marker": {
          "color": "#00cc96",
          "opacity": 0.6,
          "symbol": "circle"
         },
         "mode": "markers",
         "name": "Albania",
         "orientation": "v",
         "showlegend": true,
         "type": "scatter",
         "x": [
          77.84
         ],
         "xaxis": "x",
         "y": [
          0.788
         ],
         "yaxis": "y"
        },
        {
         "hovertemplate": "Country=Armenia<br>LifeExp_2015=%{x}<br>HDI_2015=%{y}<extra></extra>",
         "legendgroup": "Armenia",
         "marker": {
          "color": "#ab63fa",
          "opacity": 0.6,
          "symbol": "circle"
         },
         "mode": "markers",
         "name": "Armenia",
         "orientation": "v",
         "showlegend": true,
         "type": "scatter",
         "x": [
          74.51
         ],
         "xaxis": "x",
         "y": [
          0.768
         ],
         "yaxis": "y"
        },
        {
         "hovertemplate": "Country=Austria<br>LifeExp_2015=%{x}<br>HDI_2015=%{y}<extra></extra>",
         "legendgroup": "Austria",
         "marker": {
          "color": "#FFA15A",
          "opacity": 0.6,
          "symbol": "circle"
         },
         "mode": "markers",
         "name": "Austria",
         "orientation": "v",
         "showlegend": true,
         "type": "scatter",
         "x": [
          80.98
         ],
         "xaxis": "x",
         "y": [
          0.915
         ],
         "yaxis": "y"
        },
        {
         "hovertemplate": "Country=Azerbaijan<br>LifeExp_2015=%{x}<br>HDI_2015=%{y}<extra></extra>",
         "legendgroup": "Azerbaijan",
         "marker": {
          "color": "#19d3f3",
          "opacity": 0.6,
          "symbol": "circle"
         },
         "mode": "markers",
         "name": "Azerbaijan",
         "orientation": "v",
         "showlegend": true,
         "type": "scatter",
         "x": [
          70.67
         ],
         "xaxis": "x",
         "y": [
          0.744
         ],
         "yaxis": "y"
        },
        {
         "hovertemplate": "Country=Belarus<br>LifeExp_2015=%{x}<br>HDI_2015=%{y}<extra></extra>",
         "legendgroup": "Belarus",
         "marker": {
          "color": "#FF6692",
          "opacity": 0.6,
          "symbol": "circle"
         },
         "mode": "markers",
         "name": "Belarus",
         "orientation": "v",
         "showlegend": true,
         "type": "scatter",
         "x": [
          73.82
         ],
         "xaxis": "x",
         "y": [
          0.814
         ],
         "yaxis": "y"
        },
        {
         "hovertemplate": "Country=Belgium<br>LifeExp_2015=%{x}<br>HDI_2015=%{y}<extra></extra>",
         "legendgroup": "Belgium",
         "marker": {
          "color": "#B6E880",
          "opacity": 0.6,
          "symbol": "circle"
         },
         "mode": "markers",
         "name": "Belgium",
         "orientation": "v",
         "showlegend": true,
         "type": "scatter",
         "x": [
          80.71
         ],
         "xaxis": "x",
         "y": [
          0.922
         ],
         "yaxis": "y"
        },
        {
         "hovertemplate": "Country=Bosnia and Herzegovina<br>LifeExp_2015=%{x}<br>HDI_2015=%{y}<extra></extra>",
         "legendgroup": "Bosnia and Herzegovina",
         "marker": {
          "color": "#FF97FF",
          "opacity": 0.6,
          "symbol": "circle"
         },
         "mode": "markers",
         "name": "Bosnia and Herzegovina",
         "orientation": "v",
         "showlegend": true,
         "type": "scatter",
         "x": [
          76.32
         ],
         "xaxis": "x",
         "y": [
          0.761
         ],
         "yaxis": "y"
        },
        {
         "hovertemplate": "Country=Bulgaria<br>LifeExp_2015=%{x}<br>HDI_2015=%{y}<extra></extra>",
         "legendgroup": "Bulgaria",
         "marker": {
          "color": "#FECB52",
          "opacity": 0.6,
          "symbol": "circle"
         },
         "mode": "markers",
         "name": "Bulgaria",
         "orientation": "v",
         "showlegend": true,
         "type": "scatter",
         "x": [
          74.55
         ],
         "xaxis": "x",
         "y": [
          0.809
         ],
         "yaxis": "y"
        },
        {
         "hovertemplate": "Country=Croatia<br>LifeExp_2015=%{x}<br>HDI_2015=%{y}<extra></extra>",
         "legendgroup": "Croatia",
         "marker": {
          "color": "#636efa",
          "opacity": 0.6,
          "symbol": "circle"
         },
         "mode": "markers",
         "name": "Croatia",
         "orientation": "v",
         "showlegend": true,
         "type": "scatter",
         "x": [
          77.58
         ],
         "xaxis": "x",
         "y": [
          0.84
         ],
         "yaxis": "y"
        },
        {
         "hovertemplate": "Country=Cyprus<br>LifeExp_2015=%{x}<br>HDI_2015=%{y}<extra></extra>",
         "legendgroup": "Cyprus",
         "marker": {
          "color": "#EF553B",
          "opacity": 0.6,
          "symbol": "circle"
         },
         "mode": "markers",
         "name": "Cyprus",
         "orientation": "v",
         "showlegend": true,
         "type": "scatter",
         "x": [
          82.01
         ],
         "xaxis": "x",
         "y": [
          0.865
         ],
         "yaxis": "y"
        },
        {
         "hovertemplate": "Country=Denmark<br>LifeExp_2015=%{x}<br>HDI_2015=%{y}<extra></extra>",
         "legendgroup": "Denmark",
         "marker": {
          "color": "#00cc96",
          "opacity": 0.6,
          "symbol": "circle"
         },
         "mode": "markers",
         "name": "Denmark",
         "orientation": "v",
         "showlegend": true,
         "type": "scatter",
         "x": [
          80.59
         ],
         "xaxis": "x",
         "y": [
          0.933
         ],
         "yaxis": "y"
        },
        {
         "hovertemplate": "Country=Estonia<br>LifeExp_2015=%{x}<br>HDI_2015=%{y}<extra></extra>",
         "legendgroup": "Estonia",
         "marker": {
          "color": "#ab63fa",
          "opacity": 0.6,
          "symbol": "circle"
         },
         "mode": "markers",
         "name": "Estonia",
         "orientation": "v",
         "showlegend": true,
         "type": "scatter",
         "x": [
          77.6
         ],
         "xaxis": "x",
         "y": [
          0.877
         ],
         "yaxis": "y"
        },
        {
         "hovertemplate": "Country=Finland<br>LifeExp_2015=%{x}<br>HDI_2015=%{y}<extra></extra>",
         "legendgroup": "Finland",
         "marker": {
          "color": "#FFA15A",
          "opacity": 0.6,
          "symbol": "circle"
         },
         "mode": "markers",
         "name": "Finland",
         "orientation": "v",
         "showlegend": true,
         "type": "scatter",
         "x": [
          81.21
         ],
         "xaxis": "x",
         "y": [
          0.93
         ],
         "yaxis": "y"
        },
        {
         "hovertemplate": "Country=France<br>LifeExp_2015=%{x}<br>HDI_2015=%{y}<extra></extra>",
         "legendgroup": "France",
         "marker": {
          "color": "#19d3f3",
          "opacity": 0.6,
          "symbol": "circle"
         },
         "mode": "markers",
         "name": "France",
         "orientation": "v",
         "showlegend": true,
         "type": "scatter",
         "x": [
          81.91
         ],
         "xaxis": "x",
         "y": [
          0.895
         ],
         "yaxis": "y"
        },
        {
         "hovertemplate": "Country=Georgia<br>LifeExp_2015=%{x}<br>HDI_2015=%{y}<extra></extra>",
         "legendgroup": "Georgia",
         "marker": {
          "color": "#FF6692",
          "opacity": 0.6,
          "symbol": "circle"
         },
         "mode": "markers",
         "name": "Georgia",
         "orientation": "v",
         "showlegend": true,
         "type": "scatter",
         "x": [
          72.58
         ],
         "xaxis": "x",
         "y": [
          0.79
         ],
         "yaxis": "y"
        },
        {
         "hovertemplate": "Country=Germany<br>LifeExp_2015=%{x}<br>HDI_2015=%{y}<extra></extra>",
         "legendgroup": "Germany",
         "marker": {
          "color": "#B6E880",
          "opacity": 0.6,
          "symbol": "circle"
         },
         "mode": "markers",
         "name": "Germany",
         "orientation": "v",
         "showlegend": true,
         "type": "scatter",
         "x": [
          80.42
         ],
         "xaxis": "x",
         "y": [
          0.938
         ],
         "yaxis": "y"
        },
        {
         "hovertemplate": "Country=Greece<br>LifeExp_2015=%{x}<br>HDI_2015=%{y}<extra></extra>",
         "legendgroup": "Greece",
         "marker": {
          "color": "#FF97FF",
          "opacity": 0.6,
          "symbol": "circle"
         },
         "mode": "markers",
         "name": "Greece",
         "orientation": "v",
         "showlegend": true,
         "type": "scatter",
         "x": [
          80.38
         ],
         "xaxis": "x",
         "y": [
          0.877
         ],
         "yaxis": "y"
        },
        {
         "hovertemplate": "Country=Hungary<br>LifeExp_2015=%{x}<br>HDI_2015=%{y}<extra></extra>",
         "legendgroup": "Hungary",
         "marker": {
          "color": "#FECB52",
          "opacity": 0.6,
          "symbol": "circle"
         },
         "mode": "markers",
         "name": "Hungary",
         "orientation": "v",
         "showlegend": true,
         "type": "scatter",
         "x": [
          75.57
         ],
         "xaxis": "x",
         "y": [
          0.842
         ],
         "yaxis": "y"
        },
        {
         "hovertemplate": "Country=Iceland<br>LifeExp_2015=%{x}<br>HDI_2015=%{y}<extra></extra>",
         "legendgroup": "Iceland",
         "marker": {
          "color": "#636efa",
          "opacity": 0.6,
          "symbol": "circle"
         },
         "mode": "markers",
         "name": "Iceland",
         "orientation": "v",
         "showlegend": true,
         "type": "scatter",
         "x": [
          82.14
         ],
         "xaxis": "x",
         "y": [
          0.934
         ],
         "yaxis": "y"
        },
        {
         "hovertemplate": "Country=Ireland<br>LifeExp_2015=%{x}<br>HDI_2015=%{y}<extra></extra>",
         "legendgroup": "Ireland",
         "marker": {
          "color": "#EF553B",
          "opacity": 0.6,
          "symbol": "circle"
         },
         "mode": "markers",
         "name": "Ireland",
         "orientation": "v",
         "showlegend": true,
         "type": "scatter",
         "x": [
          81.14
         ],
         "xaxis": "x",
         "y": [
          0.935
         ],
         "yaxis": "y"
        },
        {
         "hovertemplate": "Country=Israel<br>LifeExp_2015=%{x}<br>HDI_2015=%{y}<extra></extra>",
         "legendgroup": "Israel",
         "marker": {
          "color": "#00cc96",
          "opacity": 0.6,
          "symbol": "circle"
         },
         "mode": "markers",
         "name": "Israel",
         "orientation": "v",
         "showlegend": true,
         "type": "scatter",
         "x": [
          81.93
         ],
         "xaxis": "x",
         "y": [
          0.91
         ],
         "yaxis": "y"
        },
        {
         "hovertemplate": "Country=Italy<br>LifeExp_2015=%{x}<br>HDI_2015=%{y}<extra></extra>",
         "legendgroup": "Italy",
         "marker": {
          "color": "#ab63fa",
          "opacity": 0.6,
          "symbol": "circle"
         },
         "mode": "markers",
         "name": "Italy",
         "orientation": "v",
         "showlegend": true,
         "type": "scatter",
         "x": [
          82.21
         ],
         "xaxis": "x",
         "y": [
          0.882
         ],
         "yaxis": "y"
        },
        {
         "hovertemplate": "Country=Kazakhstan<br>LifeExp_2015=%{x}<br>HDI_2015=%{y}<extra></extra>",
         "legendgroup": "Kazakhstan",
         "marker": {
          "color": "#FFA15A",
          "opacity": 0.6,
          "symbol": "circle"
         },
         "mode": "markers",
         "name": "Kazakhstan",
         "orientation": "v",
         "showlegend": true,
         "type": "scatter",
         "x": [
          71.91
         ],
         "xaxis": "x",
         "y": [
          0.806
         ],
         "yaxis": "y"
        },
        {
         "hovertemplate": "Country=Latvia<br>LifeExp_2015=%{x}<br>HDI_2015=%{y}<extra></extra>",
         "legendgroup": "Latvia",
         "marker": {
          "color": "#19d3f3",
          "opacity": 0.6,
          "symbol": "circle"
         },
         "mode": "markers",
         "name": "Latvia",
         "orientation": "v",
         "showlegend": true,
         "type": "scatter",
         "x": [
          74.8
         ],
         "xaxis": "x",
         "y": [
          0.849
         ],
         "yaxis": "y"
        },
        {
         "hovertemplate": "Country=Lithuania<br>LifeExp_2015=%{x}<br>HDI_2015=%{y}<extra></extra>",
         "legendgroup": "Lithuania",
         "marker": {
          "color": "#FF6692",
          "opacity": 0.6,
          "symbol": "circle"
         },
         "mode": "markers",
         "name": "Lithuania",
         "orientation": "v",
         "showlegend": true,
         "type": "scatter",
         "x": [
          74.38
         ],
         "xaxis": "x",
         "y": [
          0.862
         ],
         "yaxis": "y"
        },
        {
         "hovertemplate": "Country=Luxembourg<br>LifeExp_2015=%{x}<br>HDI_2015=%{y}<extra></extra>",
         "legendgroup": "Luxembourg",
         "marker": {
          "color": "#B6E880",
          "opacity": 0.6,
          "symbol": "circle"
         },
         "mode": "markers",
         "name": "Luxembourg",
         "orientation": "v",
         "showlegend": true,
         "type": "scatter",
         "x": [
          82.31
         ],
         "xaxis": "x",
         "y": [
          0.906
         ],
         "yaxis": "y"
        },
        {
         "hovertemplate": "Country=Malta<br>LifeExp_2015=%{x}<br>HDI_2015=%{y}<extra></extra>",
         "legendgroup": "Malta",
         "marker": {
          "color": "#FF97FF",
          "opacity": 0.6,
          "symbol": "circle"
         },
         "mode": "markers",
         "name": "Malta",
         "orientation": "v",
         "showlegend": true,
         "type": "scatter",
         "x": [
          81.65
         ],
         "xaxis": "x",
         "y": [
          0.88
         ],
         "yaxis": "y"
        },
        {
         "hovertemplate": "Country=Montenegro<br>LifeExp_2015=%{x}<br>HDI_2015=%{y}<extra></extra>",
         "legendgroup": "Montenegro",
         "marker": {
          "color": "#FECB52",
          "opacity": 0.6,
          "symbol": "circle"
         },
         "mode": "markers",
         "name": "Montenegro",
         "orientation": "v",
         "showlegend": true,
         "type": "scatter",
         "x": [
          75.27
         ],
         "xaxis": "x",
         "y": [
          0.816
         ],
         "yaxis": "y"
        },
        {
         "hovertemplate": "Country=Netherlands<br>LifeExp_2015=%{x}<br>HDI_2015=%{y}<extra></extra>",
         "legendgroup": "Netherlands",
         "marker": {
          "color": "#636efa",
          "opacity": 0.6,
          "symbol": "circle"
         },
         "mode": "markers",
         "name": "Netherlands",
         "orientation": "v",
         "showlegend": true,
         "type": "scatter",
         "x": [
          81.28
         ],
         "xaxis": "x",
         "y": [
          0.934
         ],
         "yaxis": "y"
        },
        {
         "hovertemplate": "Country=Norway<br>LifeExp_2015=%{x}<br>HDI_2015=%{y}<extra></extra>",
         "legendgroup": "Norway",
         "marker": {
          "color": "#EF553B",
          "opacity": 0.6,
          "symbol": "circle"
         },
         "mode": "markers",
         "name": "Norway",
         "orientation": "v",
         "showlegend": true,
         "type": "scatter",
         "x": [
          82.01
         ],
         "xaxis": "x",
         "y": [
          0.947
         ],
         "yaxis": "y"
        },
        {
         "hovertemplate": "Country=Poland<br>LifeExp_2015=%{x}<br>HDI_2015=%{y}<extra></extra>",
         "legendgroup": "Poland",
         "marker": {
          "color": "#00cc96",
          "opacity": 0.6,
          "symbol": "circle"
         },
         "mode": "markers",
         "name": "Poland",
         "orientation": "v",
         "showlegend": true,
         "type": "scatter",
         "x": [
          77.29
         ],
         "xaxis": "x",
         "y": [
          0.863
         ],
         "yaxis": "y"
        },
        {
         "hovertemplate": "Country=Portugal<br>LifeExp_2015=%{x}<br>HDI_2015=%{y}<extra></extra>",
         "legendgroup": "Portugal",
         "marker": {
          "color": "#ab63fa",
          "opacity": 0.6,
          "symbol": "circle"
         },
         "mode": "markers",
         "name": "Portugal",
         "orientation": "v",
         "showlegend": true,
         "type": "scatter",
         "x": [
          80.89
         ],
         "xaxis": "x",
         "y": [
          0.854
         ],
         "yaxis": "y"
        },
        {
         "hovertemplate": "Country=Romania<br>LifeExp_2015=%{x}<br>HDI_2015=%{y}<extra></extra>",
         "legendgroup": "Romania",
         "marker": {
          "color": "#FFA15A",
          "opacity": 0.6,
          "symbol": "circle"
         },
         "mode": "markers",
         "name": "Romania",
         "orientation": "v",
         "showlegend": true,
         "type": "scatter",
         "x": [
          74.82
         ],
         "xaxis": "x",
         "y": [
          0.815
         ],
         "yaxis": "y"
        },
        {
         "hovertemplate": "Country=Russian Federation<br>LifeExp_2015=%{x}<br>HDI_2015=%{y}<extra></extra>",
         "legendgroup": "Russian Federation",
         "marker": {
          "color": "#19d3f3",
          "opacity": 0.6,
          "symbol": "circle"
         },
         "mode": "markers",
         "name": "Russian Federation",
         "orientation": "v",
         "showlegend": true,
         "type": "scatter",
         "x": [
          71.3
         ],
         "xaxis": "x",
         "y": [
          0.809
         ],
         "yaxis": "y"
        },
        {
         "hovertemplate": "Country=Serbia<br>LifeExp_2015=%{x}<br>HDI_2015=%{y}<extra></extra>",
         "legendgroup": "Serbia",
         "marker": {
          "color": "#FF6692",
          "opacity": 0.6,
          "symbol": "circle"
         },
         "mode": "markers",
         "name": "Serbia",
         "orientation": "v",
         "showlegend": true,
         "type": "scatter",
         "x": [
          75.21
         ],
         "xaxis": "x",
         "y": [
          0.789
         ],
         "yaxis": "y"
        },
        {
         "hovertemplate": "Country=Slovenia<br>LifeExp_2015=%{x}<br>HDI_2015=%{y}<extra></extra>",
         "legendgroup": "Slovenia",
         "marker": {
          "color": "#B6E880",
          "opacity": 0.6,
          "symbol": "circle"
         },
         "mode": "markers",
         "name": "Slovenia",
         "orientation": "v",
         "showlegend": true,
         "type": "scatter",
         "x": [
          80.47
         ],
         "xaxis": "x",
         "y": [
          0.894
         ],
         "yaxis": "y"
        },
        {
         "hovertemplate": "Country=Spain<br>LifeExp_2015=%{x}<br>HDI_2015=%{y}<extra></extra>",
         "legendgroup": "Spain",
         "marker": {
          "color": "#FF97FF",
          "opacity": 0.6,
          "symbol": "circle"
         },
         "mode": "markers",
         "name": "Spain",
         "orientation": "v",
         "showlegend": true,
         "type": "scatter",
         "x": [
          82.33
         ],
         "xaxis": "x",
         "y": [
          0.895
         ],
         "yaxis": "y"
        },
        {
         "hovertemplate": "Country=Sweden<br>LifeExp_2015=%{x}<br>HDI_2015=%{y}<extra></extra>",
         "legendgroup": "Sweden",
         "marker": {
          "color": "#FECB52",
          "opacity": 0.6,
          "symbol": "circle"
         },
         "mode": "markers",
         "name": "Sweden",
         "orientation": "v",
         "showlegend": true,
         "type": "scatter",
         "x": [
          81.75
         ],
         "xaxis": "x",
         "y": [
          0.938
         ],
         "yaxis": "y"
        },
        {
         "hovertemplate": "Country=Switzerland<br>LifeExp_2015=%{x}<br>HDI_2015=%{y}<extra></extra>",
         "legendgroup": "Switzerland",
         "marker": {
          "color": "#636efa",
          "opacity": 0.6,
          "symbol": "circle"
         },
         "mode": "markers",
         "name": "Switzerland",
         "orientation": "v",
         "showlegend": true,
         "type": "scatter",
         "x": [
          82.61
         ],
         "xaxis": "x",
         "y": [
          0.947
         ],
         "yaxis": "y"
        },
        {
         "hovertemplate": "Country=Tajikistan<br>LifeExp_2015=%{x}<br>HDI_2015=%{y}<extra></extra>",
         "legendgroup": "Tajikistan",
         "marker": {
          "color": "#EF553B",
          "opacity": 0.6,
          "symbol": "circle"
         },
         "mode": "markers",
         "name": "Tajikistan",
         "orientation": "v",
         "showlegend": true,
         "type": "scatter",
         "x": [
          68.66
         ],
         "xaxis": "x",
         "y": [
          0.652
         ],
         "yaxis": "y"
        },
        {
         "hovertemplate": "Country=Turkmenistan<br>LifeExp_2015=%{x}<br>HDI_2015=%{y}<extra></extra>",
         "legendgroup": "Turkmenistan",
         "marker": {
          "color": "#00cc96",
          "opacity": 0.6,
          "symbol": "circle"
         },
         "mode": "markers",
         "name": "Turkmenistan",
         "orientation": "v",
         "showlegend": true,
         "type": "scatter",
         "x": [
          69.11
         ],
         "xaxis": "x",
         "y": [
          0.694
         ],
         "yaxis": "y"
        },
        {
         "hovertemplate": "Country=Ukraine<br>LifeExp_2015=%{x}<br>HDI_2015=%{y}<extra></extra>",
         "legendgroup": "Ukraine",
         "marker": {
          "color": "#ab63fa",
          "opacity": 0.6,
          "symbol": "circle"
         },
         "mode": "markers",
         "name": "Ukraine",
         "orientation": "v",
         "showlegend": true,
         "type": "scatter",
         "x": [
          72.2
         ],
         "xaxis": "x",
         "y": [
          0.765
         ],
         "yaxis": "y"
        },
        {
         "hovertemplate": "Country=Uzbekistan<br>LifeExp_2015=%{x}<br>HDI_2015=%{y}<extra></extra>",
         "legendgroup": "Uzbekistan",
         "marker": {
          "color": "#FFA15A",
          "opacity": 0.6,
          "symbol": "circle"
         },
         "mode": "markers",
         "name": "Uzbekistan",
         "orientation": "v",
         "showlegend": true,
         "type": "scatter",
         "x": [
          71.45
         ],
         "xaxis": "x",
         "y": [
          0.701
         ],
         "yaxis": "y"
        },
        {
         "hovertemplate": "Country=Bangladesh<br>LifeExp_2015=%{x}<br>HDI_2015=%{y}<extra></extra>",
         "legendgroup": "Bangladesh",
         "marker": {
          "color": "#19d3f3",
          "opacity": 0.6,
          "symbol": "circle"
         },
         "mode": "markers",
         "name": "Bangladesh",
         "orientation": "v",
         "showlegend": true,
         "type": "scatter",
         "x": [
          73.58
         ],
         "xaxis": "x",
         "y": [
          0.595
         ],
         "yaxis": "y"
        },
        {
         "hovertemplate": "Country=Bhutan<br>LifeExp_2015=%{x}<br>HDI_2015=%{y}<extra></extra>",
         "legendgroup": "Bhutan",
         "marker": {
          "color": "#FF6692",
          "opacity": 0.6,
          "symbol": "circle"
         },
         "mode": "markers",
         "name": "Bhutan",
         "orientation": "v",
         "showlegend": true,
         "type": "scatter",
         "x": [
          72.15
         ],
         "xaxis": "x",
         "y": [
          0.628
         ],
         "yaxis": "y"
        },
        {
         "hovertemplate": "Country=India<br>LifeExp_2015=%{x}<br>HDI_2015=%{y}<extra></extra>",
         "legendgroup": "India",
         "marker": {
          "color": "#B6E880",
          "opacity": 0.6,
          "symbol": "circle"
         },
         "mode": "markers",
         "name": "India",
         "orientation": "v",
         "showlegend": true,
         "type": "scatter",
         "x": [
          69.31
         ],
         "xaxis": "x",
         "y": [
          0.624
         ],
         "yaxis": "y"
        },
        {
         "hovertemplate": "Country=Indonesia<br>LifeExp_2015=%{x}<br>HDI_2015=%{y}<extra></extra>",
         "legendgroup": "Indonesia",
         "marker": {
          "color": "#FF97FF",
          "opacity": 0.6,
          "symbol": "circle"
         },
         "mode": "markers",
         "name": "Indonesia",
         "orientation": "v",
         "showlegend": true,
         "type": "scatter",
         "x": [
          70.61
         ],
         "xaxis": "x",
         "y": [
          0.695
         ],
         "yaxis": "y"
        },
        {
         "hovertemplate": "Country=Maldives<br>LifeExp_2015=%{x}<br>HDI_2015=%{y}<extra></extra>",
         "legendgroup": "Maldives",
         "marker": {
          "color": "#FECB52",
          "opacity": 0.6,
          "symbol": "circle"
         },
         "mode": "markers",
         "name": "Maldives",
         "orientation": "v",
         "showlegend": true,
         "type": "scatter",
         "x": [
          78.41
         ],
         "xaxis": "x",
         "y": [
          0.724
         ],
         "yaxis": "y"
        },
        {
         "hovertemplate": "Country=Myanmar<br>LifeExp_2015=%{x}<br>HDI_2015=%{y}<extra></extra>",
         "legendgroup": "Myanmar",
         "marker": {
          "color": "#636efa",
          "opacity": 0.6,
          "symbol": "circle"
         },
         "mode": "markers",
         "name": "Myanmar",
         "orientation": "v",
         "showlegend": true,
         "type": "scatter",
         "x": [
          67.58
         ],
         "xaxis": "x",
         "y": [
          0.557
         ],
         "yaxis": "y"
        },
        {
         "hovertemplate": "Country=Nepal<br>LifeExp_2015=%{x}<br>HDI_2015=%{y}<extra></extra>",
         "legendgroup": "Nepal",
         "marker": {
          "color": "#EF553B",
          "opacity": 0.6,
          "symbol": "circle"
         },
         "mode": "markers",
         "name": "Nepal",
         "orientation": "v",
         "showlegend": true,
         "type": "scatter",
         "x": [
          69.43
         ],
         "xaxis": "x",
         "y": [
          0.583
         ],
         "yaxis": "y"
        },
        {
         "hovertemplate": "Country=Sri Lanka<br>LifeExp_2015=%{x}<br>HDI_2015=%{y}<extra></extra>",
         "legendgroup": "Sri Lanka",
         "marker": {
          "color": "#00cc96",
          "opacity": 0.6,
          "symbol": "circle"
         },
         "mode": "markers",
         "name": "Sri Lanka",
         "orientation": "v",
         "showlegend": true,
         "type": "scatter",
         "x": [
          76.27
         ],
         "xaxis": "x",
         "y": [
          0.776
         ],
         "yaxis": "y"
        },
        {
         "hovertemplate": "Country=Thailand<br>LifeExp_2015=%{x}<br>HDI_2015=%{y}<extra></extra>",
         "legendgroup": "Thailand",
         "marker": {
          "color": "#ab63fa",
          "opacity": 0.6,
          "symbol": "circle"
         },
         "mode": "markers",
         "name": "Thailand",
         "orientation": "v",
         "showlegend": true,
         "type": "scatter",
         "x": [
          77.41
         ],
         "xaxis": "x",
         "y": [
          0.749
         ],
         "yaxis": "y"
        },
        {
         "hovertemplate": "Country=Timor-Leste<br>LifeExp_2015=%{x}<br>HDI_2015=%{y}<extra></extra>",
         "legendgroup": "Timor-Leste",
         "marker": {
          "color": "#FFA15A",
          "opacity": 0.6,
          "symbol": "circle"
         },
         "mode": "markers",
         "name": "Timor-Leste",
         "orientation": "v",
         "showlegend": true,
         "type": "scatter",
         "x": [
          68.87
         ],
         "xaxis": "x",
         "y": [
          0.61
         ],
         "yaxis": "y"
        },
        {
         "hovertemplate": "Country=Australia<br>LifeExp_2015=%{x}<br>HDI_2015=%{y}<extra></extra>",
         "legendgroup": "Australia",
         "marker": {
          "color": "#19d3f3",
          "opacity": 0.6,
          "symbol": "circle"
         },
         "mode": "markers",
         "name": "Australia",
         "orientation": "v",
         "showlegend": true,
         "type": "scatter",
         "x": [
          82.28
         ],
         "xaxis": "x",
         "y": [
          0.938
         ],
         "yaxis": "y"
        },
        {
         "hovertemplate": "Country=Brunei Darussalam<br>LifeExp_2015=%{x}<br>HDI_2015=%{y}<extra></extra>",
         "legendgroup": "Brunei Darussalam",
         "marker": {
          "color": "#FF6692",
          "opacity": 0.6,
          "symbol": "circle"
         },
         "mode": "markers",
         "name": "Brunei Darussalam",
         "orientation": "v",
         "showlegend": true,
         "type": "scatter",
         "x": [
          74.4
         ],
         "xaxis": "x",
         "y": [
          0.838
         ],
         "yaxis": "y"
        },
        {
         "hovertemplate": "Country=Cambodia<br>LifeExp_2015=%{x}<br>HDI_2015=%{y}<extra></extra>",
         "legendgroup": "Cambodia",
         "marker": {
          "color": "#B6E880",
          "opacity": 0.6,
          "symbol": "circle"
         },
         "mode": "markers",
         "name": "Cambodia",
         "orientation": "v",
         "showlegend": true,
         "type": "scatter",
         "x": [
          69.17
         ],
         "xaxis": "x",
         "y": [
          0.57
         ],
         "yaxis": "y"
        },
        {
         "hovertemplate": "Country=China<br>LifeExp_2015=%{x}<br>HDI_2015=%{y}<extra></extra>",
         "legendgroup": "China",
         "marker": {
          "color": "#FF97FF",
          "opacity": 0.6,
          "symbol": "circle"
         },
         "mode": "markers",
         "name": "China",
         "orientation": "v",
         "showlegend": true,
         "type": "scatter",
         "x": [
          76.64
         ],
         "xaxis": "x",
         "y": [
          0.739
         ],
         "yaxis": "y"
        },
        {
         "hovertemplate": "Country=Fiji<br>LifeExp_2015=%{x}<br>HDI_2015=%{y}<extra></extra>",
         "legendgroup": "Fiji",
         "marker": {
          "color": "#FECB52",
          "opacity": 0.6,
          "symbol": "circle"
         },
         "mode": "markers",
         "name": "Fiji",
         "orientation": "v",
         "showlegend": true,
         "type": "scatter",
         "x": [
          67.83
         ],
         "xaxis": "x",
         "y": [
          0.737
         ],
         "yaxis": "y"
        },
        {
         "hovertemplate": "Country=Japan<br>LifeExp_2015=%{x}<br>HDI_2015=%{y}<extra></extra>",
         "legendgroup": "Japan",
         "marker": {
          "color": "#636efa",
          "opacity": 0.6,
          "symbol": "circle"
         },
         "mode": "markers",
         "name": "Japan",
         "orientation": "v",
         "showlegend": true,
         "type": "scatter",
         "x": [
          83.62
         ],
         "xaxis": "x",
         "y": [
          0.908
         ],
         "yaxis": "y"
        },
        {
         "hovertemplate": "Country=Malaysia<br>LifeExp_2015=%{x}<br>HDI_2015=%{y}<extra></extra>",
         "legendgroup": "Malaysia",
         "marker": {
          "color": "#EF553B",
          "opacity": 0.6,
          "symbol": "circle"
         },
         "mode": "markers",
         "name": "Malaysia",
         "orientation": "v",
         "showlegend": true,
         "type": "scatter",
         "x": [
          74.95
         ],
         "xaxis": "x",
         "y": [
          0.796
         ],
         "yaxis": "y"
        },
        {
         "hovertemplate": "Country=Mongolia<br>LifeExp_2015=%{x}<br>HDI_2015=%{y}<extra></extra>",
         "legendgroup": "Mongolia",
         "marker": {
          "color": "#00cc96",
          "opacity": 0.6,
          "symbol": "circle"
         },
         "mode": "markers",
         "name": "Mongolia",
         "orientation": "v",
         "showlegend": true,
         "type": "scatter",
         "x": [
          67.61
         ],
         "xaxis": "x",
         "y": [
          0.735
         ],
         "yaxis": "y"
        },
        {
         "hovertemplate": "Country=New Zealand<br>LifeExp_2015=%{x}<br>HDI_2015=%{y}<extra></extra>",
         "legendgroup": "New Zealand",
         "marker": {
          "color": "#ab63fa",
          "opacity": 0.6,
          "symbol": "circle"
         },
         "mode": "markers",
         "name": "New Zealand",
         "orientation": "v",
         "showlegend": true,
         "type": "scatter",
         "x": [
          81.31
         ],
         "xaxis": "x",
         "y": [
          0.921
         ],
         "yaxis": "y"
        },
        {
         "hovertemplate": "Country=Papua New Guinea<br>LifeExp_2015=%{x}<br>HDI_2015=%{y}<extra></extra>",
         "legendgroup": "Papua New Guinea",
         "marker": {
          "color": "#FFA15A",
          "opacity": 0.6,
          "symbol": "circle"
         },
         "mode": "markers",
         "name": "Papua New Guinea",
         "orientation": "v",
         "showlegend": true,
         "type": "scatter",
         "x": [
          64.49
         ],
         "xaxis": "x",
         "y": [
          0.548
         ],
         "yaxis": "y"
        },
        {
         "hovertemplate": "Country=Philippines<br>LifeExp_2015=%{x}<br>HDI_2015=%{y}<extra></extra>",
         "legendgroup": "Philippines",
         "marker": {
          "color": "#19d3f3",
          "opacity": 0.6,
          "symbol": "circle"
         },
         "mode": "markers",
         "name": "Philippines",
         "orientation": "v",
         "showlegend": true,
         "type": "scatter",
         "x": [
          70.3
         ],
         "xaxis": "x",
         "y": [
          0.701
         ],
         "yaxis": "y"
        },
        {
         "hovertemplate": "Country=Samoa<br>LifeExp_2015=%{x}<br>HDI_2015=%{y}<extra></extra>",
         "legendgroup": "Samoa",
         "marker": {
          "color": "#FF6692",
          "opacity": 0.6,
          "symbol": "circle"
         },
         "mode": "markers",
         "name": "Samoa",
         "orientation": "v",
         "showlegend": true,
         "type": "scatter",
         "x": [
          70.04
         ],
         "xaxis": "x",
         "y": [
          0.707
         ],
         "yaxis": "y"
        },
        {
         "hovertemplate": "Country=Singapore<br>LifeExp_2015=%{x}<br>HDI_2015=%{y}<extra></extra>",
         "legendgroup": "Singapore",
         "marker": {
          "color": "#B6E880",
          "opacity": 0.6,
          "symbol": "circle"
         },
         "mode": "markers",
         "name": "Singapore",
         "orientation": "v",
         "showlegend": true,
         "type": "scatter",
         "x": [
          82.81
         ],
         "xaxis": "x",
         "y": [
          0.931
         ],
         "yaxis": "y"
        },
        {
         "hovertemplate": "Country=Solomon Islands<br>LifeExp_2015=%{x}<br>HDI_2015=%{y}<extra></extra>",
         "legendgroup": "Solomon Islands",
         "marker": {
          "color": "#FF97FF",
          "opacity": 0.6,
          "symbol": "circle"
         },
         "mode": "markers",
         "name": "Solomon Islands",
         "orientation": "v",
         "showlegend": true,
         "type": "scatter",
         "x": [
          64.74
         ],
         "xaxis": "x",
         "y": [
          0.563
         ],
         "yaxis": "y"
        },
        {
         "hovertemplate": "Country=Tonga<br>LifeExp_2015=%{x}<br>HDI_2015=%{y}<extra></extra>",
         "legendgroup": "Tonga",
         "marker": {
          "color": "#FECB52",
          "opacity": 0.6,
          "symbol": "circle"
         },
         "mode": "markers",
         "name": "Tonga",
         "orientation": "v",
         "showlegend": true,
         "type": "scatter",
         "x": [
          72.33
         ],
         "xaxis": "x",
         "y": [
          0.72
         ],
         "yaxis": "y"
        },
        {
         "hovertemplate": "Country=Vanuatu<br>LifeExp_2015=%{x}<br>HDI_2015=%{y}<extra></extra>",
         "legendgroup": "Vanuatu",
         "marker": {
          "color": "#636efa",
          "opacity": 0.6,
          "symbol": "circle"
         },
         "mode": "markers",
         "name": "Vanuatu",
         "orientation": "v",
         "showlegend": true,
         "type": "scatter",
         "x": [
          64.64
         ],
         "xaxis": "x",
         "y": [
          0.598
         ],
         "yaxis": "y"
        }
       ],
       "layout": {
        "legend": {
         "title": {
          "text": "Country"
         },
         "tracegroupgap": 0
        },
        "template": {
         "data": {
          "bar": [
           {
            "error_x": {
             "color": "#f2f5fa"
            },
            "error_y": {
             "color": "#f2f5fa"
            },
            "marker": {
             "line": {
              "color": "rgb(17,17,17)",
              "width": 0.5
             },
             "pattern": {
              "fillmode": "overlay",
              "size": 10,
              "solidity": 0.2
             }
            },
            "type": "bar"
           }
          ],
          "barpolar": [
           {
            "marker": {
             "line": {
              "color": "rgb(17,17,17)",
              "width": 0.5
             },
             "pattern": {
              "fillmode": "overlay",
              "size": 10,
              "solidity": 0.2
             }
            },
            "type": "barpolar"
           }
          ],
          "carpet": [
           {
            "aaxis": {
             "endlinecolor": "#A2B1C6",
             "gridcolor": "#506784",
             "linecolor": "#506784",
             "minorgridcolor": "#506784",
             "startlinecolor": "#A2B1C6"
            },
            "baxis": {
             "endlinecolor": "#A2B1C6",
             "gridcolor": "#506784",
             "linecolor": "#506784",
             "minorgridcolor": "#506784",
             "startlinecolor": "#A2B1C6"
            },
            "type": "carpet"
           }
          ],
          "choropleth": [
           {
            "colorbar": {
             "outlinewidth": 0,
             "ticks": ""
            },
            "type": "choropleth"
           }
          ],
          "contour": [
           {
            "colorbar": {
             "outlinewidth": 0,
             "ticks": ""
            },
            "colorscale": [
             [
              0,
              "#0d0887"
             ],
             [
              0.1111111111111111,
              "#46039f"
             ],
             [
              0.2222222222222222,
              "#7201a8"
             ],
             [
              0.3333333333333333,
              "#9c179e"
             ],
             [
              0.4444444444444444,
              "#bd3786"
             ],
             [
              0.5555555555555556,
              "#d8576b"
             ],
             [
              0.6666666666666666,
              "#ed7953"
             ],
             [
              0.7777777777777778,
              "#fb9f3a"
             ],
             [
              0.8888888888888888,
              "#fdca26"
             ],
             [
              1,
              "#f0f921"
             ]
            ],
            "type": "contour"
           }
          ],
          "contourcarpet": [
           {
            "colorbar": {
             "outlinewidth": 0,
             "ticks": ""
            },
            "type": "contourcarpet"
           }
          ],
          "heatmap": [
           {
            "colorbar": {
             "outlinewidth": 0,
             "ticks": ""
            },
            "colorscale": [
             [
              0,
              "#0d0887"
             ],
             [
              0.1111111111111111,
              "#46039f"
             ],
             [
              0.2222222222222222,
              "#7201a8"
             ],
             [
              0.3333333333333333,
              "#9c179e"
             ],
             [
              0.4444444444444444,
              "#bd3786"
             ],
             [
              0.5555555555555556,
              "#d8576b"
             ],
             [
              0.6666666666666666,
              "#ed7953"
             ],
             [
              0.7777777777777778,
              "#fb9f3a"
             ],
             [
              0.8888888888888888,
              "#fdca26"
             ],
             [
              1,
              "#f0f921"
             ]
            ],
            "type": "heatmap"
           }
          ],
          "heatmapgl": [
           {
            "colorbar": {
             "outlinewidth": 0,
             "ticks": ""
            },
            "colorscale": [
             [
              0,
              "#0d0887"
             ],
             [
              0.1111111111111111,
              "#46039f"
             ],
             [
              0.2222222222222222,
              "#7201a8"
             ],
             [
              0.3333333333333333,
              "#9c179e"
             ],
             [
              0.4444444444444444,
              "#bd3786"
             ],
             [
              0.5555555555555556,
              "#d8576b"
             ],
             [
              0.6666666666666666,
              "#ed7953"
             ],
             [
              0.7777777777777778,
              "#fb9f3a"
             ],
             [
              0.8888888888888888,
              "#fdca26"
             ],
             [
              1,
              "#f0f921"
             ]
            ],
            "type": "heatmapgl"
           }
          ],
          "histogram": [
           {
            "marker": {
             "pattern": {
              "fillmode": "overlay",
              "size": 10,
              "solidity": 0.2
             }
            },
            "type": "histogram"
           }
          ],
          "histogram2d": [
           {
            "colorbar": {
             "outlinewidth": 0,
             "ticks": ""
            },
            "colorscale": [
             [
              0,
              "#0d0887"
             ],
             [
              0.1111111111111111,
              "#46039f"
             ],
             [
              0.2222222222222222,
              "#7201a8"
             ],
             [
              0.3333333333333333,
              "#9c179e"
             ],
             [
              0.4444444444444444,
              "#bd3786"
             ],
             [
              0.5555555555555556,
              "#d8576b"
             ],
             [
              0.6666666666666666,
              "#ed7953"
             ],
             [
              0.7777777777777778,
              "#fb9f3a"
             ],
             [
              0.8888888888888888,
              "#fdca26"
             ],
             [
              1,
              "#f0f921"
             ]
            ],
            "type": "histogram2d"
           }
          ],
          "histogram2dcontour": [
           {
            "colorbar": {
             "outlinewidth": 0,
             "ticks": ""
            },
            "colorscale": [
             [
              0,
              "#0d0887"
             ],
             [
              0.1111111111111111,
              "#46039f"
             ],
             [
              0.2222222222222222,
              "#7201a8"
             ],
             [
              0.3333333333333333,
              "#9c179e"
             ],
             [
              0.4444444444444444,
              "#bd3786"
             ],
             [
              0.5555555555555556,
              "#d8576b"
             ],
             [
              0.6666666666666666,
              "#ed7953"
             ],
             [
              0.7777777777777778,
              "#fb9f3a"
             ],
             [
              0.8888888888888888,
              "#fdca26"
             ],
             [
              1,
              "#f0f921"
             ]
            ],
            "type": "histogram2dcontour"
           }
          ],
          "mesh3d": [
           {
            "colorbar": {
             "outlinewidth": 0,
             "ticks": ""
            },
            "type": "mesh3d"
           }
          ],
          "parcoords": [
           {
            "line": {
             "colorbar": {
              "outlinewidth": 0,
              "ticks": ""
             }
            },
            "type": "parcoords"
           }
          ],
          "pie": [
           {
            "automargin": true,
            "type": "pie"
           }
          ],
          "scatter": [
           {
            "marker": {
             "line": {
              "color": "#283442"
             }
            },
            "type": "scatter"
           }
          ],
          "scatter3d": [
           {
            "line": {
             "colorbar": {
              "outlinewidth": 0,
              "ticks": ""
             }
            },
            "marker": {
             "colorbar": {
              "outlinewidth": 0,
              "ticks": ""
             }
            },
            "type": "scatter3d"
           }
          ],
          "scattercarpet": [
           {
            "marker": {
             "colorbar": {
              "outlinewidth": 0,
              "ticks": ""
             }
            },
            "type": "scattercarpet"
           }
          ],
          "scattergeo": [
           {
            "marker": {
             "colorbar": {
              "outlinewidth": 0,
              "ticks": ""
             }
            },
            "type": "scattergeo"
           }
          ],
          "scattergl": [
           {
            "marker": {
             "line": {
              "color": "#283442"
             }
            },
            "type": "scattergl"
           }
          ],
          "scattermapbox": [
           {
            "marker": {
             "colorbar": {
              "outlinewidth": 0,
              "ticks": ""
             }
            },
            "type": "scattermapbox"
           }
          ],
          "scatterpolar": [
           {
            "marker": {
             "colorbar": {
              "outlinewidth": 0,
              "ticks": ""
             }
            },
            "type": "scatterpolar"
           }
          ],
          "scatterpolargl": [
           {
            "marker": {
             "colorbar": {
              "outlinewidth": 0,
              "ticks": ""
             }
            },
            "type": "scatterpolargl"
           }
          ],
          "scatterternary": [
           {
            "marker": {
             "colorbar": {
              "outlinewidth": 0,
              "ticks": ""
             }
            },
            "type": "scatterternary"
           }
          ],
          "surface": [
           {
            "colorbar": {
             "outlinewidth": 0,
             "ticks": ""
            },
            "colorscale": [
             [
              0,
              "#0d0887"
             ],
             [
              0.1111111111111111,
              "#46039f"
             ],
             [
              0.2222222222222222,
              "#7201a8"
             ],
             [
              0.3333333333333333,
              "#9c179e"
             ],
             [
              0.4444444444444444,
              "#bd3786"
             ],
             [
              0.5555555555555556,
              "#d8576b"
             ],
             [
              0.6666666666666666,
              "#ed7953"
             ],
             [
              0.7777777777777778,
              "#fb9f3a"
             ],
             [
              0.8888888888888888,
              "#fdca26"
             ],
             [
              1,
              "#f0f921"
             ]
            ],
            "type": "surface"
           }
          ],
          "table": [
           {
            "cells": {
             "fill": {
              "color": "#506784"
             },
             "line": {
              "color": "rgb(17,17,17)"
             }
            },
            "header": {
             "fill": {
              "color": "#2a3f5f"
             },
             "line": {
              "color": "rgb(17,17,17)"
             }
            },
            "type": "table"
           }
          ]
         },
         "layout": {
          "annotationdefaults": {
           "arrowcolor": "#f2f5fa",
           "arrowhead": 0,
           "arrowwidth": 1
          },
          "autotypenumbers": "strict",
          "coloraxis": {
           "colorbar": {
            "outlinewidth": 0,
            "ticks": ""
           }
          },
          "colorscale": {
           "diverging": [
            [
             0,
             "#8e0152"
            ],
            [
             0.1,
             "#c51b7d"
            ],
            [
             0.2,
             "#de77ae"
            ],
            [
             0.3,
             "#f1b6da"
            ],
            [
             0.4,
             "#fde0ef"
            ],
            [
             0.5,
             "#f7f7f7"
            ],
            [
             0.6,
             "#e6f5d0"
            ],
            [
             0.7,
             "#b8e186"
            ],
            [
             0.8,
             "#7fbc41"
            ],
            [
             0.9,
             "#4d9221"
            ],
            [
             1,
             "#276419"
            ]
           ],
           "sequential": [
            [
             0,
             "#0d0887"
            ],
            [
             0.1111111111111111,
             "#46039f"
            ],
            [
             0.2222222222222222,
             "#7201a8"
            ],
            [
             0.3333333333333333,
             "#9c179e"
            ],
            [
             0.4444444444444444,
             "#bd3786"
            ],
            [
             0.5555555555555556,
             "#d8576b"
            ],
            [
             0.6666666666666666,
             "#ed7953"
            ],
            [
             0.7777777777777778,
             "#fb9f3a"
            ],
            [
             0.8888888888888888,
             "#fdca26"
            ],
            [
             1,
             "#f0f921"
            ]
           ],
           "sequentialminus": [
            [
             0,
             "#0d0887"
            ],
            [
             0.1111111111111111,
             "#46039f"
            ],
            [
             0.2222222222222222,
             "#7201a8"
            ],
            [
             0.3333333333333333,
             "#9c179e"
            ],
            [
             0.4444444444444444,
             "#bd3786"
            ],
            [
             0.5555555555555556,
             "#d8576b"
            ],
            [
             0.6666666666666666,
             "#ed7953"
            ],
            [
             0.7777777777777778,
             "#fb9f3a"
            ],
            [
             0.8888888888888888,
             "#fdca26"
            ],
            [
             1,
             "#f0f921"
            ]
           ]
          },
          "colorway": [
           "#636efa",
           "#EF553B",
           "#00cc96",
           "#ab63fa",
           "#FFA15A",
           "#19d3f3",
           "#FF6692",
           "#B6E880",
           "#FF97FF",
           "#FECB52"
          ],
          "font": {
           "color": "#f2f5fa"
          },
          "geo": {
           "bgcolor": "rgb(17,17,17)",
           "lakecolor": "rgb(17,17,17)",
           "landcolor": "rgb(17,17,17)",
           "showlakes": true,
           "showland": true,
           "subunitcolor": "#506784"
          },
          "hoverlabel": {
           "align": "left"
          },
          "hovermode": "closest",
          "mapbox": {
           "style": "dark"
          },
          "paper_bgcolor": "rgb(17,17,17)",
          "plot_bgcolor": "rgb(17,17,17)",
          "polar": {
           "angularaxis": {
            "gridcolor": "#506784",
            "linecolor": "#506784",
            "ticks": ""
           },
           "bgcolor": "rgb(17,17,17)",
           "radialaxis": {
            "gridcolor": "#506784",
            "linecolor": "#506784",
            "ticks": ""
           }
          },
          "scene": {
           "xaxis": {
            "backgroundcolor": "rgb(17,17,17)",
            "gridcolor": "#506784",
            "gridwidth": 2,
            "linecolor": "#506784",
            "showbackground": true,
            "ticks": "",
            "zerolinecolor": "#C8D4E3"
           },
           "yaxis": {
            "backgroundcolor": "rgb(17,17,17)",
            "gridcolor": "#506784",
            "gridwidth": 2,
            "linecolor": "#506784",
            "showbackground": true,
            "ticks": "",
            "zerolinecolor": "#C8D4E3"
           },
           "zaxis": {
            "backgroundcolor": "rgb(17,17,17)",
            "gridcolor": "#506784",
            "gridwidth": 2,
            "linecolor": "#506784",
            "showbackground": true,
            "ticks": "",
            "zerolinecolor": "#C8D4E3"
           }
          },
          "shapedefaults": {
           "line": {
            "color": "#f2f5fa"
           }
          },
          "sliderdefaults": {
           "bgcolor": "#C8D4E3",
           "bordercolor": "rgb(17,17,17)",
           "borderwidth": 1,
           "tickwidth": 0
          },
          "ternary": {
           "aaxis": {
            "gridcolor": "#506784",
            "linecolor": "#506784",
            "ticks": ""
           },
           "baxis": {
            "gridcolor": "#506784",
            "linecolor": "#506784",
            "ticks": ""
           },
           "bgcolor": "rgb(17,17,17)",
           "caxis": {
            "gridcolor": "#506784",
            "linecolor": "#506784",
            "ticks": ""
           }
          },
          "title": {
           "x": 0.05
          },
          "updatemenudefaults": {
           "bgcolor": "#506784",
           "borderwidth": 0
          },
          "xaxis": {
           "automargin": true,
           "gridcolor": "#283442",
           "linecolor": "#506784",
           "ticks": "",
           "title": {
            "standoff": 15
           },
           "zerolinecolor": "#283442",
           "zerolinewidth": 2
          },
          "yaxis": {
           "automargin": true,
           "gridcolor": "#283442",
           "linecolor": "#506784",
           "ticks": "",
           "title": {
            "standoff": 15
           },
           "zerolinecolor": "#283442",
           "zerolinewidth": 2
          }
         }
        },
        "title": {
         "text": "<b> Life Expectancy Versus HDI in 2015 </b>"
        },
        "xaxis": {
         "anchor": "y",
         "domain": [
          0,
          1
         ],
         "title": {
          "text": "LifeExp_2015"
         }
        },
        "yaxis": {
         "anchor": "x",
         "domain": [
          0,
          1
         ],
         "title": {
          "text": "HDI_2015"
         }
        }
       }
      }
     },
     "metadata": {},
     "output_type": "display_data"
    }
   ],
   "source": [
    "px.scatter(df,y='HDI_2015',x='LifeExp_2015',color='Country',template='plotly_dark',opacity=0.6,title='<b> Life Expectancy Versus HDI in 2015 </b>')"
   ]
  },
  {
   "cell_type": "code",
   "execution_count": 15,
   "metadata": {},
   "outputs": [
    {
     "data": {
      "application/vnd.plotly.v1+json": {
       "config": {
        "plotlyServerURL": "https://plot.ly"
       },
       "data": [
        {
         "hovertemplate": "Country=Algeria<br>LifeExp_2019=%{x}<br>HDI_2019=%{y}<extra></extra>",
         "legendgroup": "Algeria",
         "marker": {
          "color": "#636efa",
          "opacity": 0.6,
          "symbol": "circle"
         },
         "mode": "markers",
         "name": "Algeria",
         "orientation": "v",
         "showlegend": true,
         "type": "scatter",
         "x": [
          77.13
         ],
         "xaxis": "x",
         "y": [
          0.748
         ],
         "yaxis": "y"
        },
        {
         "hovertemplate": "Country=Angola<br>LifeExp_2019=%{x}<br>HDI_2019=%{y}<extra></extra>",
         "legendgroup": "Angola",
         "marker": {
          "color": "#EF553B",
          "opacity": 0.6,
          "symbol": "circle"
         },
         "mode": "markers",
         "name": "Angola",
         "orientation": "v",
         "showlegend": true,
         "type": "scatter",
         "x": [
          63.06
         ],
         "xaxis": "x",
         "y": [
          0.581
         ],
         "yaxis": "y"
        },
        {
         "hovertemplate": "Country=Benin<br>LifeExp_2019=%{x}<br>HDI_2019=%{y}<extra></extra>",
         "legendgroup": "Benin",
         "marker": {
          "color": "#00cc96",
          "opacity": 0.6,
          "symbol": "circle"
         },
         "mode": "markers",
         "name": "Benin",
         "orientation": "v",
         "showlegend": true,
         "type": "scatter",
         "x": [
          63.43
         ],
         "xaxis": "x",
         "y": [
          0.545
         ],
         "yaxis": "y"
        },
        {
         "hovertemplate": "Country=Botswana<br>LifeExp_2019=%{x}<br>HDI_2019=%{y}<extra></extra>",
         "legendgroup": "Botswana",
         "marker": {
          "color": "#ab63fa",
          "opacity": 0.6,
          "symbol": "circle"
         },
         "mode": "markers",
         "name": "Botswana",
         "orientation": "v",
         "showlegend": true,
         "type": "scatter",
         "x": [
          62.25
         ],
         "xaxis": "x",
         "y": [
          0.735
         ],
         "yaxis": "y"
        },
        {
         "hovertemplate": "Country=Burkina Faso<br>LifeExp_2019=%{x}<br>HDI_2019=%{y}<extra></extra>",
         "legendgroup": "Burkina Faso",
         "marker": {
          "color": "#FFA15A",
          "opacity": 0.6,
          "symbol": "circle"
         },
         "mode": "markers",
         "name": "Burkina Faso",
         "orientation": "v",
         "showlegend": true,
         "type": "scatter",
         "x": [
          62.7
         ],
         "xaxis": "x",
         "y": [
          0.452
         ],
         "yaxis": "y"
        },
        {
         "hovertemplate": "Country=Burundi<br>LifeExp_2019=%{x}<br>HDI_2019=%{y}<extra></extra>",
         "legendgroup": "Burundi",
         "marker": {
          "color": "#19d3f3",
          "opacity": 0.6,
          "symbol": "circle"
         },
         "mode": "markers",
         "name": "Burundi",
         "orientation": "v",
         "showlegend": true,
         "type": "scatter",
         "x": [
          63.84
         ],
         "xaxis": "x",
         "y": [
          0.433
         ],
         "yaxis": "y"
        },
        {
         "hovertemplate": "Country=Cabo Verde<br>LifeExp_2019=%{x}<br>HDI_2019=%{y}<extra></extra>",
         "legendgroup": "Cabo Verde",
         "marker": {
          "color": "#FF6692",
          "opacity": 0.6,
          "symbol": "circle"
         },
         "mode": "markers",
         "name": "Cabo Verde",
         "orientation": "v",
         "showlegend": true,
         "type": "scatter",
         "x": [
          74.03
         ],
         "xaxis": "x",
         "y": [
          0.665
         ],
         "yaxis": "y"
        },
        {
         "hovertemplate": "Country=Cameroon<br>LifeExp_2019=%{x}<br>HDI_2019=%{y}<extra></extra>",
         "legendgroup": "Cameroon",
         "marker": {
          "color": "#B6E880",
          "opacity": 0.6,
          "symbol": "circle"
         },
         "mode": "markers",
         "name": "Cameroon",
         "orientation": "v",
         "showlegend": true,
         "type": "scatter",
         "x": [
          62.36
         ],
         "xaxis": "x",
         "y": [
          0.563
         ],
         "yaxis": "y"
        },
        {
         "hovertemplate": "Country=Central African Republic<br>LifeExp_2019=%{x}<br>HDI_2019=%{y}<extra></extra>",
         "legendgroup": "Central African Republic",
         "marker": {
          "color": "#FF97FF",
          "opacity": 0.6,
          "symbol": "circle"
         },
         "mode": "markers",
         "name": "Central African Republic",
         "orientation": "v",
         "showlegend": true,
         "type": "scatter",
         "x": [
          53.1
         ],
         "xaxis": "x",
         "y": [
          0.397
         ],
         "yaxis": "y"
        },
        {
         "hovertemplate": "Country=Chad<br>LifeExp_2019=%{x}<br>HDI_2019=%{y}<extra></extra>",
         "legendgroup": "Chad",
         "marker": {
          "color": "#FECB52",
          "opacity": 0.6,
          "symbol": "circle"
         },
         "mode": "markers",
         "name": "Chad",
         "orientation": "v",
         "showlegend": true,
         "type": "scatter",
         "x": [
          59.63
         ],
         "xaxis": "x",
         "y": [
          0.398
         ],
         "yaxis": "y"
        },
        {
         "hovertemplate": "Country=Comoros<br>LifeExp_2019=%{x}<br>HDI_2019=%{y}<extra></extra>",
         "legendgroup": "Comoros",
         "marker": {
          "color": "#636efa",
          "opacity": 0.6,
          "symbol": "circle"
         },
         "mode": "markers",
         "name": "Comoros",
         "orientation": "v",
         "showlegend": true,
         "type": "scatter",
         "x": [
          67.39
         ],
         "xaxis": "x",
         "y": [
          0.554
         ],
         "yaxis": "y"
        },
        {
         "hovertemplate": "Country=Equatorial Guinea<br>LifeExp_2019=%{x}<br>HDI_2019=%{y}<extra></extra>",
         "legendgroup": "Equatorial Guinea",
         "marker": {
          "color": "#EF553B",
          "opacity": 0.6,
          "symbol": "circle"
         },
         "mode": "markers",
         "name": "Equatorial Guinea",
         "orientation": "v",
         "showlegend": true,
         "type": "scatter",
         "x": [
          62.19
         ],
         "xaxis": "x",
         "y": [
          0.592
         ],
         "yaxis": "y"
        },
        {
         "hovertemplate": "Country=Eritrea<br>LifeExp_2019=%{x}<br>HDI_2019=%{y}<extra></extra>",
         "legendgroup": "Eritrea",
         "marker": {
          "color": "#00cc96",
          "opacity": 0.6,
          "symbol": "circle"
         },
         "mode": "markers",
         "name": "Eritrea",
         "orientation": "v",
         "showlegend": true,
         "type": "scatter",
         "x": [
          64.08
         ],
         "xaxis": "x",
         "y": [
          0.459
         ],
         "yaxis": "y"
        },
        {
         "hovertemplate": "Country=Ethiopia<br>LifeExp_2019=%{x}<br>HDI_2019=%{y}<extra></extra>",
         "legendgroup": "Ethiopia",
         "marker": {
          "color": "#ab63fa",
          "opacity": 0.6,
          "symbol": "circle"
         },
         "mode": "markers",
         "name": "Ethiopia",
         "orientation": "v",
         "showlegend": true,
         "type": "scatter",
         "x": [
          68.7
         ],
         "xaxis": "x",
         "y": [
          0.485
         ],
         "yaxis": "y"
        },
        {
         "hovertemplate": "Country=Gabon<br>LifeExp_2019=%{x}<br>HDI_2019=%{y}<extra></extra>",
         "legendgroup": "Gabon",
         "marker": {
          "color": "#FFA15A",
          "opacity": 0.6,
          "symbol": "circle"
         },
         "mode": "markers",
         "name": "Gabon",
         "orientation": "v",
         "showlegend": true,
         "type": "scatter",
         "x": [
          66.47
         ],
         "xaxis": "x",
         "y": [
          0.703
         ],
         "yaxis": "y"
        },
        {
         "hovertemplate": "Country=Ghana<br>LifeExp_2019=%{x}<br>HDI_2019=%{y}<extra></extra>",
         "legendgroup": "Ghana",
         "marker": {
          "color": "#19d3f3",
          "opacity": 0.6,
          "symbol": "circle"
         },
         "mode": "markers",
         "name": "Ghana",
         "orientation": "v",
         "showlegend": true,
         "type": "scatter",
         "x": [
          66.28
         ],
         "xaxis": "x",
         "y": [
          0.611
         ],
         "yaxis": "y"
        },
        {
         "hovertemplate": "Country=Guinea<br>LifeExp_2019=%{x}<br>HDI_2019=%{y}<extra></extra>",
         "legendgroup": "Guinea",
         "marker": {
          "color": "#FF6692",
          "opacity": 0.6,
          "symbol": "circle"
         },
         "mode": "markers",
         "name": "Guinea",
         "orientation": "v",
         "showlegend": true,
         "type": "scatter",
         "x": [
          61.01
         ],
         "xaxis": "x",
         "y": [
          0.477
         ],
         "yaxis": "y"
        },
        {
         "hovertemplate": "Country=Guinea-Bissau<br>LifeExp_2019=%{x}<br>HDI_2019=%{y}<extra></extra>",
         "legendgroup": "Guinea-Bissau",
         "marker": {
          "color": "#B6E880",
          "opacity": 0.6,
          "symbol": "circle"
         },
         "mode": "markers",
         "name": "Guinea-Bissau",
         "orientation": "v",
         "showlegend": true,
         "type": "scatter",
         "x": [
          60.22
         ],
         "xaxis": "x",
         "y": [
          0.48
         ],
         "yaxis": "y"
        },
        {
         "hovertemplate": "Country=Kenya<br>LifeExp_2019=%{x}<br>HDI_2019=%{y}<extra></extra>",
         "legendgroup": "Kenya",
         "marker": {
          "color": "#FF97FF",
          "opacity": 0.6,
          "symbol": "circle"
         },
         "mode": "markers",
         "name": "Kenya",
         "orientation": "v",
         "showlegend": true,
         "type": "scatter",
         "x": [
          66.09
         ],
         "xaxis": "x",
         "y": [
          0.601
         ],
         "yaxis": "y"
        },
        {
         "hovertemplate": "Country=Lesotho<br>LifeExp_2019=%{x}<br>HDI_2019=%{y}<extra></extra>",
         "legendgroup": "Lesotho",
         "marker": {
          "color": "#FECB52",
          "opacity": 0.6,
          "symbol": "circle"
         },
         "mode": "markers",
         "name": "Lesotho",
         "orientation": "v",
         "showlegend": true,
         "type": "scatter",
         "x": [
          50.75
         ],
         "xaxis": "x",
         "y": [
          0.527
         ],
         "yaxis": "y"
        },
        {
         "hovertemplate": "Country=Liberia<br>LifeExp_2019=%{x}<br>HDI_2019=%{y}<extra></extra>",
         "legendgroup": "Liberia",
         "marker": {
          "color": "#636efa",
          "opacity": 0.6,
          "symbol": "circle"
         },
         "mode": "markers",
         "name": "Liberia",
         "orientation": "v",
         "showlegend": true,
         "type": "scatter",
         "x": [
          64.08
         ],
         "xaxis": "x",
         "y": [
          0.48
         ],
         "yaxis": "y"
        },
        {
         "hovertemplate": "Country=Madagascar<br>LifeExp_2019=%{x}<br>HDI_2019=%{y}<extra></extra>",
         "legendgroup": "Madagascar",
         "marker": {
          "color": "#EF553B",
          "opacity": 0.6,
          "symbol": "circle"
         },
         "mode": "markers",
         "name": "Madagascar",
         "orientation": "v",
         "showlegend": true,
         "type": "scatter",
         "x": [
          65.35
         ],
         "xaxis": "x",
         "y": [
          0.528
         ],
         "yaxis": "y"
        },
        {
         "hovertemplate": "Country=Malawi<br>LifeExp_2019=%{x}<br>HDI_2019=%{y}<extra></extra>",
         "legendgroup": "Malawi",
         "marker": {
          "color": "#00cc96",
          "opacity": 0.6,
          "symbol": "circle"
         },
         "mode": "markers",
         "name": "Malawi",
         "orientation": "v",
         "showlegend": true,
         "type": "scatter",
         "x": [
          65.62
         ],
         "xaxis": "x",
         "y": [
          0.483
         ],
         "yaxis": "y"
        },
        {
         "hovertemplate": "Country=Mali<br>LifeExp_2019=%{x}<br>HDI_2019=%{y}<extra></extra>",
         "legendgroup": "Mali",
         "marker": {
          "color": "#ab63fa",
          "opacity": 0.6,
          "symbol": "circle"
         },
         "mode": "markers",
         "name": "Mali",
         "orientation": "v",
         "showlegend": true,
         "type": "scatter",
         "x": [
          62.8
         ],
         "xaxis": "x",
         "y": [
          0.434
         ],
         "yaxis": "y"
        },
        {
         "hovertemplate": "Country=Mauritania<br>LifeExp_2019=%{x}<br>HDI_2019=%{y}<extra></extra>",
         "legendgroup": "Mauritania",
         "marker": {
          "color": "#FFA15A",
          "opacity": 0.6,
          "symbol": "circle"
         },
         "mode": "markers",
         "name": "Mauritania",
         "orientation": "v",
         "showlegend": true,
         "type": "scatter",
         "x": [
          68.38
         ],
         "xaxis": "x",
         "y": [
          0.546
         ],
         "yaxis": "y"
        },
        {
         "hovertemplate": "Country=Mauritius<br>LifeExp_2019=%{x}<br>HDI_2019=%{y}<extra></extra>",
         "legendgroup": "Mauritius",
         "marker": {
          "color": "#19d3f3",
          "opacity": 0.6,
          "symbol": "circle"
         },
         "mode": "markers",
         "name": "Mauritius",
         "orientation": "v",
         "showlegend": true,
         "type": "scatter",
         "x": [
          74.07
         ],
         "xaxis": "x",
         "y": [
          0.804
         ],
         "yaxis": "y"
        },
        {
         "hovertemplate": "Country=Mozambique<br>LifeExp_2019=%{x}<br>HDI_2019=%{y}<extra></extra>",
         "legendgroup": "Mozambique",
         "marker": {
          "color": "#FF6692",
          "opacity": 0.6,
          "symbol": "circle"
         },
         "mode": "markers",
         "name": "Mozambique",
         "orientation": "v",
         "showlegend": true,
         "type": "scatter",
         "x": [
          58.14
         ],
         "xaxis": "x",
         "y": [
          0.456
         ],
         "yaxis": "y"
        },
        {
         "hovertemplate": "Country=Namibia<br>LifeExp_2019=%{x}<br>HDI_2019=%{y}<extra></extra>",
         "legendgroup": "Namibia",
         "marker": {
          "color": "#B6E880",
          "opacity": 0.6,
          "symbol": "circle"
         },
         "mode": "markers",
         "name": "Namibia",
         "orientation": "v",
         "showlegend": true,
         "type": "scatter",
         "x": [
          64.58
         ],
         "xaxis": "x",
         "y": [
          0.646
         ],
         "yaxis": "y"
        },
        {
         "hovertemplate": "Country=Niger<br>LifeExp_2019=%{x}<br>HDI_2019=%{y}<extra></extra>",
         "legendgroup": "Niger",
         "marker": {
          "color": "#FF97FF",
          "opacity": 0.6,
          "symbol": "circle"
         },
         "mode": "markers",
         "name": "Niger",
         "orientation": "v",
         "showlegend": true,
         "type": "scatter",
         "x": [
          63.29
         ],
         "xaxis": "x",
         "y": [
          0.394
         ],
         "yaxis": "y"
        },
        {
         "hovertemplate": "Country=Nigeria<br>LifeExp_2019=%{x}<br>HDI_2019=%{y}<extra></extra>",
         "legendgroup": "Nigeria",
         "marker": {
          "color": "#FECB52",
          "opacity": 0.6,
          "symbol": "circle"
         },
         "mode": "markers",
         "name": "Nigeria",
         "orientation": "v",
         "showlegend": true,
         "type": "scatter",
         "x": [
          62.62
         ],
         "xaxis": "x",
         "y": [
          0.539
         ],
         "yaxis": "y"
        },
        {
         "hovertemplate": "Country=Rwanda<br>LifeExp_2019=%{x}<br>HDI_2019=%{y}<extra></extra>",
         "legendgroup": "Rwanda",
         "marker": {
          "color": "#636efa",
          "opacity": 0.6,
          "symbol": "circle"
         },
         "mode": "markers",
         "name": "Rwanda",
         "orientation": "v",
         "showlegend": true,
         "type": "scatter",
         "x": [
          69.1
         ],
         "xaxis": "x",
         "y": [
          0.543
         ],
         "yaxis": "y"
        },
        {
         "hovertemplate": "Country=Sao Tome and Principe<br>LifeExp_2019=%{x}<br>HDI_2019=%{y}<extra></extra>",
         "legendgroup": "Sao Tome and Principe",
         "marker": {
          "color": "#EF553B",
          "opacity": 0.6,
          "symbol": "circle"
         },
         "mode": "markers",
         "name": "Sao Tome and Principe",
         "orientation": "v",
         "showlegend": true,
         "type": "scatter",
         "x": [
          70.42
         ],
         "xaxis": "x",
         "y": [
          0.625
         ],
         "yaxis": "y"
        },
        {
         "hovertemplate": "Country=Senegal<br>LifeExp_2019=%{x}<br>HDI_2019=%{y}<extra></extra>",
         "legendgroup": "Senegal",
         "marker": {
          "color": "#00cc96",
          "opacity": 0.6,
          "symbol": "circle"
         },
         "mode": "markers",
         "name": "Senegal",
         "orientation": "v",
         "showlegend": true,
         "type": "scatter",
         "x": [
          68.58
         ],
         "xaxis": "x",
         "y": [
          0.512
         ],
         "yaxis": "y"
        },
        {
         "hovertemplate": "Country=Sierra Leone<br>LifeExp_2019=%{x}<br>HDI_2019=%{y}<extra></extra>",
         "legendgroup": "Sierra Leone",
         "marker": {
          "color": "#ab63fa",
          "opacity": 0.6,
          "symbol": "circle"
         },
         "mode": "markers",
         "name": "Sierra Leone",
         "orientation": "v",
         "showlegend": true,
         "type": "scatter",
         "x": [
          60.77
         ],
         "xaxis": "x",
         "y": [
          0.452
         ],
         "yaxis": "y"
        },
        {
         "hovertemplate": "Country=South Africa<br>LifeExp_2019=%{x}<br>HDI_2019=%{y}<extra></extra>",
         "legendgroup": "South Africa",
         "marker": {
          "color": "#FFA15A",
          "opacity": 0.6,
          "symbol": "circle"
         },
         "mode": "markers",
         "name": "South Africa",
         "orientation": "v",
         "showlegend": true,
         "type": "scatter",
         "x": [
          65.25
         ],
         "xaxis": "x",
         "y": [
          0.709
         ],
         "yaxis": "y"
        },
        {
         "hovertemplate": "Country=South Sudan<br>LifeExp_2019=%{x}<br>HDI_2019=%{y}<extra></extra>",
         "legendgroup": "South Sudan",
         "marker": {
          "color": "#19d3f3",
          "opacity": 0.6,
          "symbol": "circle"
         },
         "mode": "markers",
         "name": "South Sudan",
         "orientation": "v",
         "showlegend": true,
         "type": "scatter",
         "x": [
          62.79
         ],
         "xaxis": "x",
         "y": [
          0.433
         ],
         "yaxis": "y"
        },
        {
         "hovertemplate": "Country=Togo<br>LifeExp_2019=%{x}<br>HDI_2019=%{y}<extra></extra>",
         "legendgroup": "Togo",
         "marker": {
          "color": "#FF6692",
          "opacity": 0.6,
          "symbol": "circle"
         },
         "mode": "markers",
         "name": "Togo",
         "orientation": "v",
         "showlegend": true,
         "type": "scatter",
         "x": [
          64.27
         ],
         "xaxis": "x",
         "y": [
          0.515
         ],
         "yaxis": "y"
        },
        {
         "hovertemplate": "Country=Uganda<br>LifeExp_2019=%{x}<br>HDI_2019=%{y}<extra></extra>",
         "legendgroup": "Uganda",
         "marker": {
          "color": "#B6E880",
          "opacity": 0.6,
          "symbol": "circle"
         },
         "mode": "markers",
         "name": "Uganda",
         "orientation": "v",
         "showlegend": true,
         "type": "scatter",
         "x": [
          66.69
         ],
         "xaxis": "x",
         "y": [
          0.544
         ],
         "yaxis": "y"
        },
        {
         "hovertemplate": "Country=Zambia<br>LifeExp_2019=%{x}<br>HDI_2019=%{y}<extra></extra>",
         "legendgroup": "Zambia",
         "marker": {
          "color": "#FF97FF",
          "opacity": 0.6,
          "symbol": "circle"
         },
         "mode": "markers",
         "name": "Zambia",
         "orientation": "v",
         "showlegend": true,
         "type": "scatter",
         "x": [
          62.45
         ],
         "xaxis": "x",
         "y": [
          0.584
         ],
         "yaxis": "y"
        },
        {
         "hovertemplate": "Country=Zimbabwe<br>LifeExp_2019=%{x}<br>HDI_2019=%{y}<extra></extra>",
         "legendgroup": "Zimbabwe",
         "marker": {
          "color": "#FECB52",
          "opacity": 0.6,
          "symbol": "circle"
         },
         "mode": "markers",
         "name": "Zimbabwe",
         "orientation": "v",
         "showlegend": true,
         "type": "scatter",
         "x": [
          60.68
         ],
         "xaxis": "x",
         "y": [
          0.571
         ],
         "yaxis": "y"
        },
        {
         "hovertemplate": "Country=Argentina<br>LifeExp_2019=%{x}<br>HDI_2019=%{y}<extra></extra>",
         "legendgroup": "Argentina",
         "marker": {
          "color": "#636efa",
          "opacity": 0.6,
          "symbol": "circle"
         },
         "mode": "markers",
         "name": "Argentina",
         "orientation": "v",
         "showlegend": true,
         "type": "scatter",
         "x": [
          76.58
         ],
         "xaxis": "x",
         "y": [
          0.845
         ],
         "yaxis": "y"
        },
        {
         "hovertemplate": "Country=Barbados<br>LifeExp_2019=%{x}<br>HDI_2019=%{y}<extra></extra>",
         "legendgroup": "Barbados",
         "marker": {
          "color": "#EF553B",
          "opacity": 0.6,
          "symbol": "circle"
         },
         "mode": "markers",
         "name": "Barbados",
         "orientation": "v",
         "showlegend": true,
         "type": "scatter",
         "x": [
          76.03
         ],
         "xaxis": "x",
         "y": [
          0.814
         ],
         "yaxis": "y"
        },
        {
         "hovertemplate": "Country=Belize<br>LifeExp_2019=%{x}<br>HDI_2019=%{y}<extra></extra>",
         "legendgroup": "Belize",
         "marker": {
          "color": "#00cc96",
          "opacity": 0.6,
          "symbol": "circle"
         },
         "mode": "markers",
         "name": "Belize",
         "orientation": "v",
         "showlegend": true,
         "type": "scatter",
         "x": [
          74.41
         ],
         "xaxis": "x",
         "y": [
          0.716
         ],
         "yaxis": "y"
        },
        {
         "hovertemplate": "Country=Brazil<br>LifeExp_2019=%{x}<br>HDI_2019=%{y}<extra></extra>",
         "legendgroup": "Brazil",
         "marker": {
          "color": "#ab63fa",
          "opacity": 0.6,
          "symbol": "circle"
         },
         "mode": "markers",
         "name": "Brazil",
         "orientation": "v",
         "showlegend": true,
         "type": "scatter",
         "x": [
          75.9
         ],
         "xaxis": "x",
         "y": [
          0.765
         ],
         "yaxis": "y"
        },
        {
         "hovertemplate": "Country=Canada<br>LifeExp_2019=%{x}<br>HDI_2019=%{y}<extra></extra>",
         "legendgroup": "Canada",
         "marker": {
          "color": "#FFA15A",
          "opacity": 0.6,
          "symbol": "circle"
         },
         "mode": "markers",
         "name": "Canada",
         "orientation": "v",
         "showlegend": true,
         "type": "scatter",
         "x": [
          82.24
         ],
         "xaxis": "x",
         "y": [
          0.929
         ],
         "yaxis": "y"
        },
        {
         "hovertemplate": "Country=Chile<br>LifeExp_2019=%{x}<br>HDI_2019=%{y}<extra></extra>",
         "legendgroup": "Chile",
         "marker": {
          "color": "#19d3f3",
          "opacity": 0.6,
          "symbol": "circle"
         },
         "mode": "markers",
         "name": "Chile",
         "orientation": "v",
         "showlegend": true,
         "type": "scatter",
         "x": [
          80.74
         ],
         "xaxis": "x",
         "y": [
          0.851
         ],
         "yaxis": "y"
        },
        {
         "hovertemplate": "Country=Colombia<br>LifeExp_2019=%{x}<br>HDI_2019=%{y}<extra></extra>",
         "legendgroup": "Colombia",
         "marker": {
          "color": "#FF6692",
          "opacity": 0.6,
          "symbol": "circle"
         },
         "mode": "markers",
         "name": "Colombia",
         "orientation": "v",
         "showlegend": true,
         "type": "scatter",
         "x": [
          79.31
         ],
         "xaxis": "x",
         "y": [
          0.767
         ],
         "yaxis": "y"
        },
        {
         "hovertemplate": "Country=Costa Rica<br>LifeExp_2019=%{x}<br>HDI_2019=%{y}<extra></extra>",
         "legendgroup": "Costa Rica",
         "marker": {
          "color": "#B6E880",
          "opacity": 0.6,
          "symbol": "circle"
         },
         "mode": "markers",
         "name": "Costa Rica",
         "orientation": "v",
         "showlegend": true,
         "type": "scatter",
         "x": [
          80.85
         ],
         "xaxis": "x",
         "y": [
          0.81
         ],
         "yaxis": "y"
        },
        {
         "hovertemplate": "Country=Cuba<br>LifeExp_2019=%{x}<br>HDI_2019=%{y}<extra></extra>",
         "legendgroup": "Cuba",
         "marker": {
          "color": "#FF97FF",
          "opacity": 0.6,
          "symbol": "circle"
         },
         "mode": "markers",
         "name": "Cuba",
         "orientation": "v",
         "showlegend": true,
         "type": "scatter",
         "x": [
          77.76
         ],
         "xaxis": "x",
         "y": [
          0.783
         ],
         "yaxis": "y"
        },
        {
         "hovertemplate": "Country=Dominican Republic<br>LifeExp_2019=%{x}<br>HDI_2019=%{y}<extra></extra>",
         "legendgroup": "Dominican Republic",
         "marker": {
          "color": "#FECB52",
          "opacity": 0.6,
          "symbol": "circle"
         },
         "mode": "markers",
         "name": "Dominican Republic",
         "orientation": "v",
         "showlegend": true,
         "type": "scatter",
         "x": [
          72.84
         ],
         "xaxis": "x",
         "y": [
          0.756
         ],
         "yaxis": "y"
        },
        {
         "hovertemplate": "Country=Ecuador<br>LifeExp_2019=%{x}<br>HDI_2019=%{y}<extra></extra>",
         "legendgroup": "Ecuador",
         "marker": {
          "color": "#636efa",
          "opacity": 0.6,
          "symbol": "circle"
         },
         "mode": "markers",
         "name": "Ecuador",
         "orientation": "v",
         "showlegend": true,
         "type": "scatter",
         "x": [
          78.45
         ],
         "xaxis": "x",
         "y": [
          0.759
         ],
         "yaxis": "y"
        },
        {
         "hovertemplate": "Country=El Salvador<br>LifeExp_2019=%{x}<br>HDI_2019=%{y}<extra></extra>",
         "legendgroup": "El Salvador",
         "marker": {
          "color": "#EF553B",
          "opacity": 0.6,
          "symbol": "circle"
         },
         "mode": "markers",
         "name": "El Salvador",
         "orientation": "v",
         "showlegend": true,
         "type": "scatter",
         "x": [
          75.03
         ],
         "xaxis": "x",
         "y": [
          0.673
         ],
         "yaxis": "y"
        },
        {
         "hovertemplate": "Country=Guatemala<br>LifeExp_2019=%{x}<br>HDI_2019=%{y}<extra></extra>",
         "legendgroup": "Guatemala",
         "marker": {
          "color": "#00cc96",
          "opacity": 0.6,
          "symbol": "circle"
         },
         "mode": "markers",
         "name": "Guatemala",
         "orientation": "v",
         "showlegend": true,
         "type": "scatter",
         "x": [
          72.02
         ],
         "xaxis": "x",
         "y": [
          0.663
         ],
         "yaxis": "y"
        },
        {
         "hovertemplate": "Country=Guyana<br>LifeExp_2019=%{x}<br>HDI_2019=%{y}<extra></extra>",
         "legendgroup": "Guyana",
         "marker": {
          "color": "#ab63fa",
          "opacity": 0.6,
          "symbol": "circle"
         },
         "mode": "markers",
         "name": "Guyana",
         "orientation": "v",
         "showlegend": true,
         "type": "scatter",
         "x": [
          65.69
         ],
         "xaxis": "x",
         "y": [
          0.682
         ],
         "yaxis": "y"
        },
        {
         "hovertemplate": "Country=Haiti<br>LifeExp_2019=%{x}<br>HDI_2019=%{y}<extra></extra>",
         "legendgroup": "Haiti",
         "marker": {
          "color": "#FFA15A",
          "opacity": 0.6,
          "symbol": "circle"
         },
         "mode": "markers",
         "name": "Haiti",
         "orientation": "v",
         "showlegend": true,
         "type": "scatter",
         "x": [
          64.05
         ],
         "xaxis": "x",
         "y": [
          0.51
         ],
         "yaxis": "y"
        },
        {
         "hovertemplate": "Country=Honduras<br>LifeExp_2019=%{x}<br>HDI_2019=%{y}<extra></extra>",
         "legendgroup": "Honduras",
         "marker": {
          "color": "#19d3f3",
          "opacity": 0.6,
          "symbol": "circle"
         },
         "mode": "markers",
         "name": "Honduras",
         "orientation": "v",
         "showlegend": true,
         "type": "scatter",
         "x": [
          71.94
         ],
         "xaxis": "x",
         "y": [
          0.634
         ],
         "yaxis": "y"
        },
        {
         "hovertemplate": "Country=Jamaica<br>LifeExp_2019=%{x}<br>HDI_2019=%{y}<extra></extra>",
         "legendgroup": "Jamaica",
         "marker": {
          "color": "#FF6692",
          "opacity": 0.6,
          "symbol": "circle"
         },
         "mode": "markers",
         "name": "Jamaica",
         "orientation": "v",
         "showlegend": true,
         "type": "scatter",
         "x": [
          75.98
         ],
         "xaxis": "x",
         "y": [
          0.734
         ],
         "yaxis": "y"
        },
        {
         "hovertemplate": "Country=Mexico<br>LifeExp_2019=%{x}<br>HDI_2019=%{y}<extra></extra>",
         "legendgroup": "Mexico",
         "marker": {
          "color": "#B6E880",
          "opacity": 0.6,
          "symbol": "circle"
         },
         "mode": "markers",
         "name": "Mexico",
         "orientation": "v",
         "showlegend": true,
         "type": "scatter",
         "x": [
          76.01
         ],
         "xaxis": "x",
         "y": [
          0.779
         ],
         "yaxis": "y"
        },
        {
         "hovertemplate": "Country=Nicaragua<br>LifeExp_2019=%{x}<br>HDI_2019=%{y}<extra></extra>",
         "legendgroup": "Nicaragua",
         "marker": {
          "color": "#FF97FF",
          "opacity": 0.6,
          "symbol": "circle"
         },
         "mode": "markers",
         "name": "Nicaragua",
         "orientation": "v",
         "showlegend": true,
         "type": "scatter",
         "x": [
          75.04
         ],
         "xaxis": "x",
         "y": [
          0.66
         ],
         "yaxis": "y"
        },
        {
         "hovertemplate": "Country=Panama<br>LifeExp_2019=%{x}<br>HDI_2019=%{y}<extra></extra>",
         "legendgroup": "Panama",
         "marker": {
          "color": "#FECB52",
          "opacity": 0.6,
          "symbol": "circle"
         },
         "mode": "markers",
         "name": "Panama",
         "orientation": "v",
         "showlegend": true,
         "type": "scatter",
         "x": [
          79.29
         ],
         "xaxis": "x",
         "y": [
          0.815
         ],
         "yaxis": "y"
        },
        {
         "hovertemplate": "Country=Paraguay<br>LifeExp_2019=%{x}<br>HDI_2019=%{y}<extra></extra>",
         "legendgroup": "Paraguay",
         "marker": {
          "color": "#636efa",
          "opacity": 0.6,
          "symbol": "circle"
         },
         "mode": "markers",
         "name": "Paraguay",
         "orientation": "v",
         "showlegend": true,
         "type": "scatter",
         "x": [
          75.81
         ],
         "xaxis": "x",
         "y": [
          0.728
         ],
         "yaxis": "y"
        },
        {
         "hovertemplate": "Country=Peru<br>LifeExp_2019=%{x}<br>HDI_2019=%{y}<extra></extra>",
         "legendgroup": "Peru",
         "marker": {
          "color": "#EF553B",
          "opacity": 0.6,
          "symbol": "circle"
         },
         "mode": "markers",
         "name": "Peru",
         "orientation": "v",
         "showlegend": true,
         "type": "scatter",
         "x": [
          79.9
         ],
         "xaxis": "x",
         "y": [
          0.777
         ],
         "yaxis": "y"
        },
        {
         "hovertemplate": "Country=Suriname<br>LifeExp_2019=%{x}<br>HDI_2019=%{y}<extra></extra>",
         "legendgroup": "Suriname",
         "marker": {
          "color": "#00cc96",
          "opacity": 0.6,
          "symbol": "circle"
         },
         "mode": "markers",
         "name": "Suriname",
         "orientation": "v",
         "showlegend": true,
         "type": "scatter",
         "x": [
          71.48
         ],
         "xaxis": "x",
         "y": [
          0.738
         ],
         "yaxis": "y"
        },
        {
         "hovertemplate": "Country=Trinidad and Tobago<br>LifeExp_2019=%{x}<br>HDI_2019=%{y}<extra></extra>",
         "legendgroup": "Trinidad and Tobago",
         "marker": {
          "color": "#ab63fa",
          "opacity": 0.6,
          "symbol": "circle"
         },
         "mode": "markers",
         "name": "Trinidad and Tobago",
         "orientation": "v",
         "showlegend": true,
         "type": "scatter",
         "x": [
          76.13
         ],
         "xaxis": "x",
         "y": [
          0.796
         ],
         "yaxis": "y"
        },
        {
         "hovertemplate": "Country=Uruguay<br>LifeExp_2019=%{x}<br>HDI_2019=%{y}<extra></extra>",
         "legendgroup": "Uruguay",
         "marker": {
          "color": "#FFA15A",
          "opacity": 0.6,
          "symbol": "circle"
         },
         "mode": "markers",
         "name": "Uruguay",
         "orientation": "v",
         "showlegend": true,
         "type": "scatter",
         "x": [
          77.1
         ],
         "xaxis": "x",
         "y": [
          0.817
         ],
         "yaxis": "y"
        },
        {
         "hovertemplate": "Country=Afghanistan<br>LifeExp_2019=%{x}<br>HDI_2019=%{y}<extra></extra>",
         "legendgroup": "Afghanistan",
         "marker": {
          "color": "#19d3f3",
          "opacity": 0.6,
          "symbol": "circle"
         },
         "mode": "markers",
         "name": "Afghanistan",
         "orientation": "v",
         "showlegend": true,
         "type": "scatter",
         "x": [
          63.21
         ],
         "xaxis": "x",
         "y": [
          0.511
         ],
         "yaxis": "y"
        },
        {
         "hovertemplate": "Country=Bahrain<br>LifeExp_2019=%{x}<br>HDI_2019=%{y}<extra></extra>",
         "legendgroup": "Bahrain",
         "marker": {
          "color": "#FF6692",
          "opacity": 0.6,
          "symbol": "circle"
         },
         "mode": "markers",
         "name": "Bahrain",
         "orientation": "v",
         "showlegend": true,
         "type": "scatter",
         "x": [
          75.81
         ],
         "xaxis": "x",
         "y": [
          0.852
         ],
         "yaxis": "y"
        },
        {
         "hovertemplate": "Country=Djibouti<br>LifeExp_2019=%{x}<br>HDI_2019=%{y}<extra></extra>",
         "legendgroup": "Djibouti",
         "marker": {
          "color": "#B6E880",
          "opacity": 0.6,
          "symbol": "circle"
         },
         "mode": "markers",
         "name": "Djibouti",
         "orientation": "v",
         "showlegend": true,
         "type": "scatter",
         "x": [
          65.81
         ],
         "xaxis": "x",
         "y": [
          0.524
         ],
         "yaxis": "y"
        },
        {
         "hovertemplate": "Country=Iraq<br>LifeExp_2019=%{x}<br>HDI_2019=%{y}<extra></extra>",
         "legendgroup": "Iraq",
         "marker": {
          "color": "#FF97FF",
          "opacity": 0.6,
          "symbol": "circle"
         },
         "mode": "markers",
         "name": "Iraq",
         "orientation": "v",
         "showlegend": true,
         "type": "scatter",
         "x": [
          72.42
         ],
         "xaxis": "x",
         "y": [
          0.674
         ],
         "yaxis": "y"
        },
        {
         "hovertemplate": "Country=Jordan<br>LifeExp_2019=%{x}<br>HDI_2019=%{y}<extra></extra>",
         "legendgroup": "Jordan",
         "marker": {
          "color": "#FECB52",
          "opacity": 0.6,
          "symbol": "circle"
         },
         "mode": "markers",
         "name": "Jordan",
         "orientation": "v",
         "showlegend": true,
         "type": "scatter",
         "x": [
          77.87
         ],
         "xaxis": "x",
         "y": [
          0.729
         ],
         "yaxis": "y"
        },
        {
         "hovertemplate": "Country=Kuwait<br>LifeExp_2019=%{x}<br>HDI_2019=%{y}<extra></extra>",
         "legendgroup": "Kuwait",
         "marker": {
          "color": "#636efa",
          "opacity": 0.6,
          "symbol": "circle"
         },
         "mode": "markers",
         "name": "Kuwait",
         "orientation": "v",
         "showlegend": true,
         "type": "scatter",
         "x": [
          80.97
         ],
         "xaxis": "x",
         "y": [
          0.806
         ],
         "yaxis": "y"
        },
        {
         "hovertemplate": "Country=Lebanon<br>LifeExp_2019=%{x}<br>HDI_2019=%{y}<extra></extra>",
         "legendgroup": "Lebanon",
         "marker": {
          "color": "#EF553B",
          "opacity": 0.6,
          "symbol": "circle"
         },
         "mode": "markers",
         "name": "Lebanon",
         "orientation": "v",
         "showlegend": true,
         "type": "scatter",
         "x": [
          76.44
         ],
         "xaxis": "x",
         "y": [
          0.744
         ],
         "yaxis": "y"
        },
        {
         "hovertemplate": "Country=Libya<br>LifeExp_2019=%{x}<br>HDI_2019=%{y}<extra></extra>",
         "legendgroup": "Libya",
         "marker": {
          "color": "#00cc96",
          "opacity": 0.6,
          "symbol": "circle"
         },
         "mode": "markers",
         "name": "Libya",
         "orientation": "v",
         "showlegend": true,
         "type": "scatter",
         "x": [
          75.78
         ],
         "xaxis": "x",
         "y": [
          0.724
         ],
         "yaxis": "y"
        },
        {
         "hovertemplate": "Country=Morocco<br>LifeExp_2019=%{x}<br>HDI_2019=%{y}<extra></extra>",
         "legendgroup": "Morocco",
         "marker": {
          "color": "#ab63fa",
          "opacity": 0.6,
          "symbol": "circle"
         },
         "mode": "markers",
         "name": "Morocco",
         "orientation": "v",
         "showlegend": true,
         "type": "scatter",
         "x": [
          72.99
         ],
         "xaxis": "x",
         "y": [
          0.686
         ],
         "yaxis": "y"
        },
        {
         "hovertemplate": "Country=Oman<br>LifeExp_2019=%{x}<br>HDI_2019=%{y}<extra></extra>",
         "legendgroup": "Oman",
         "marker": {
          "color": "#FFA15A",
          "opacity": 0.6,
          "symbol": "circle"
         },
         "mode": "markers",
         "name": "Oman",
         "orientation": "v",
         "showlegend": true,
         "type": "scatter",
         "x": [
          73.9
         ],
         "xaxis": "x",
         "y": [
          0.813
         ],
         "yaxis": "y"
        },
        {
         "hovertemplate": "Country=Pakistan<br>LifeExp_2019=%{x}<br>HDI_2019=%{y}<extra></extra>",
         "legendgroup": "Pakistan",
         "marker": {
          "color": "#19d3f3",
          "opacity": 0.6,
          "symbol": "circle"
         },
         "mode": "markers",
         "name": "Pakistan",
         "orientation": "v",
         "showlegend": true,
         "type": "scatter",
         "x": [
          65.61
         ],
         "xaxis": "x",
         "y": [
          0.557
         ],
         "yaxis": "y"
        },
        {
         "hovertemplate": "Country=Qatar<br>LifeExp_2019=%{x}<br>HDI_2019=%{y}<extra></extra>",
         "legendgroup": "Qatar",
         "marker": {
          "color": "#FF6692",
          "opacity": 0.6,
          "symbol": "circle"
         },
         "mode": "markers",
         "name": "Qatar",
         "orientation": "v",
         "showlegend": true,
         "type": "scatter",
         "x": [
          77.17
         ],
         "xaxis": "x",
         "y": [
          0.848
         ],
         "yaxis": "y"
        },
        {
         "hovertemplate": "Country=Saudi Arabia<br>LifeExp_2019=%{x}<br>HDI_2019=%{y}<extra></extra>",
         "legendgroup": "Saudi Arabia",
         "marker": {
          "color": "#B6E880",
          "opacity": 0.6,
          "symbol": "circle"
         },
         "mode": "markers",
         "name": "Saudi Arabia",
         "orientation": "v",
         "showlegend": true,
         "type": "scatter",
         "x": [
          74.31
         ],
         "xaxis": "x",
         "y": [
          0.854
         ],
         "yaxis": "y"
        },
        {
         "hovertemplate": "Country=Sudan<br>LifeExp_2019=%{x}<br>HDI_2019=%{y}<extra></extra>",
         "legendgroup": "Sudan",
         "marker": {
          "color": "#FF97FF",
          "opacity": 0.6,
          "symbol": "circle"
         },
         "mode": "markers",
         "name": "Sudan",
         "orientation": "v",
         "showlegend": true,
         "type": "scatter",
         "x": [
          69.15
         ],
         "xaxis": "x",
         "y": [
          0.51
         ],
         "yaxis": "y"
        },
        {
         "hovertemplate": "Country=Syrian Arab Republic<br>LifeExp_2019=%{x}<br>HDI_2019=%{y}<extra></extra>",
         "legendgroup": "Syrian Arab Republic",
         "marker": {
          "color": "#FECB52",
          "opacity": 0.6,
          "symbol": "circle"
         },
         "mode": "markers",
         "name": "Syrian Arab Republic",
         "orientation": "v",
         "showlegend": true,
         "type": "scatter",
         "x": [
          72.67
         ],
         "xaxis": "x",
         "y": [
          0.567
         ],
         "yaxis": "y"
        },
        {
         "hovertemplate": "Country=Tunisia<br>LifeExp_2019=%{x}<br>HDI_2019=%{y}<extra></extra>",
         "legendgroup": "Tunisia",
         "marker": {
          "color": "#636efa",
          "opacity": 0.6,
          "symbol": "circle"
         },
         "mode": "markers",
         "name": "Tunisia",
         "orientation": "v",
         "showlegend": true,
         "type": "scatter",
         "x": [
          77.04
         ],
         "xaxis": "x",
         "y": [
          0.74
         ],
         "yaxis": "y"
        },
        {
         "hovertemplate": "Country=United Arab Emirates<br>LifeExp_2019=%{x}<br>HDI_2019=%{y}<extra></extra>",
         "legendgroup": "United Arab Emirates",
         "marker": {
          "color": "#EF553B",
          "opacity": 0.6,
          "symbol": "circle"
         },
         "mode": "markers",
         "name": "United Arab Emirates",
         "orientation": "v",
         "showlegend": true,
         "type": "scatter",
         "x": [
          76.08
         ],
         "xaxis": "x",
         "y": [
          0.89
         ],
         "yaxis": "y"
        },
        {
         "hovertemplate": "Country=Albania<br>LifeExp_2019=%{x}<br>HDI_2019=%{y}<extra></extra>",
         "legendgroup": "Albania",
         "marker": {
          "color": "#00cc96",
          "opacity": 0.6,
          "symbol": "circle"
         },
         "mode": "markers",
         "name": "Albania",
         "orientation": "v",
         "showlegend": true,
         "type": "scatter",
         "x": [
          78
         ],
         "xaxis": "x",
         "y": [
          0.795
         ],
         "yaxis": "y"
        },
        {
         "hovertemplate": "Country=Armenia<br>LifeExp_2019=%{x}<br>HDI_2019=%{y}<extra></extra>",
         "legendgroup": "Armenia",
         "marker": {
          "color": "#ab63fa",
          "opacity": 0.6,
          "symbol": "circle"
         },
         "mode": "markers",
         "name": "Armenia",
         "orientation": "v",
         "showlegend": true,
         "type": "scatter",
         "x": [
          76.03
         ],
         "xaxis": "x",
         "y": [
          0.776
         ],
         "yaxis": "y"
        },
        {
         "hovertemplate": "Country=Austria<br>LifeExp_2019=%{x}<br>HDI_2019=%{y}<extra></extra>",
         "legendgroup": "Austria",
         "marker": {
          "color": "#FFA15A",
          "opacity": 0.6,
          "symbol": "circle"
         },
         "mode": "markers",
         "name": "Austria",
         "orientation": "v",
         "showlegend": true,
         "type": "scatter",
         "x": [
          81.65
         ],
         "xaxis": "x",
         "y": [
          0.922
         ],
         "yaxis": "y"
        },
        {
         "hovertemplate": "Country=Azerbaijan<br>LifeExp_2019=%{x}<br>HDI_2019=%{y}<extra></extra>",
         "legendgroup": "Azerbaijan",
         "marker": {
          "color": "#19d3f3",
          "opacity": 0.6,
          "symbol": "circle"
         },
         "mode": "markers",
         "name": "Azerbaijan",
         "orientation": "v",
         "showlegend": true,
         "type": "scatter",
         "x": [
          71.43
         ],
         "xaxis": "x",
         "y": [
          0.756
         ],
         "yaxis": "y"
        },
        {
         "hovertemplate": "Country=Belarus<br>LifeExp_2019=%{x}<br>HDI_2019=%{y}<extra></extra>",
         "legendgroup": "Belarus",
         "marker": {
          "color": "#FF6692",
          "opacity": 0.6,
          "symbol": "circle"
         },
         "mode": "markers",
         "name": "Belarus",
         "orientation": "v",
         "showlegend": true,
         "type": "scatter",
         "x": [
          74.81
         ],
         "xaxis": "x",
         "y": [
          0.823
         ],
         "yaxis": "y"
        },
        {
         "hovertemplate": "Country=Belgium<br>LifeExp_2019=%{x}<br>HDI_2019=%{y}<extra></extra>",
         "legendgroup": "Belgium",
         "marker": {
          "color": "#B6E880",
          "opacity": 0.6,
          "symbol": "circle"
         },
         "mode": "markers",
         "name": "Belgium",
         "orientation": "v",
         "showlegend": true,
         "type": "scatter",
         "x": [
          81.42
         ],
         "xaxis": "x",
         "y": [
          0.931
         ],
         "yaxis": "y"
        },
        {
         "hovertemplate": "Country=Bosnia and Herzegovina<br>LifeExp_2019=%{x}<br>HDI_2019=%{y}<extra></extra>",
         "legendgroup": "Bosnia and Herzegovina",
         "marker": {
          "color": "#FF97FF",
          "opacity": 0.6,
          "symbol": "circle"
         },
         "mode": "markers",
         "name": "Bosnia and Herzegovina",
         "orientation": "v",
         "showlegend": true,
         "type": "scatter",
         "x": [
          76.75
         ],
         "xaxis": "x",
         "y": [
          0.78
         ],
         "yaxis": "y"
        },
        {
         "hovertemplate": "Country=Bulgaria<br>LifeExp_2019=%{x}<br>HDI_2019=%{y}<extra></extra>",
         "legendgroup": "Bulgaria",
         "marker": {
          "color": "#FECB52",
          "opacity": 0.6,
          "symbol": "circle"
         },
         "mode": "markers",
         "name": "Bulgaria",
         "orientation": "v",
         "showlegend": true,
         "type": "scatter",
         "x": [
          75.07
         ],
         "xaxis": "x",
         "y": [
          0.816
         ],
         "yaxis": "y"
        },
        {
         "hovertemplate": "Country=Croatia<br>LifeExp_2019=%{x}<br>HDI_2019=%{y}<extra></extra>",
         "legendgroup": "Croatia",
         "marker": {
          "color": "#636efa",
          "opacity": 0.6,
          "symbol": "circle"
         },
         "mode": "markers",
         "name": "Croatia",
         "orientation": "v",
         "showlegend": true,
         "type": "scatter",
         "x": [
          78.64
         ],
         "xaxis": "x",
         "y": [
          0.851
         ],
         "yaxis": "y"
        },
        {
         "hovertemplate": "Country=Cyprus<br>LifeExp_2019=%{x}<br>HDI_2019=%{y}<extra></extra>",
         "legendgroup": "Cyprus",
         "marker": {
          "color": "#EF553B",
          "opacity": 0.6,
          "symbol": "circle"
         },
         "mode": "markers",
         "name": "Cyprus",
         "orientation": "v",
         "showlegend": true,
         "type": "scatter",
         "x": [
          83.14
         ],
         "xaxis": "x",
         "y": [
          0.887
         ],
         "yaxis": "y"
        },
        {
         "hovertemplate": "Country=Denmark<br>LifeExp_2019=%{x}<br>HDI_2019=%{y}<extra></extra>",
         "legendgroup": "Denmark",
         "marker": {
          "color": "#00cc96",
          "opacity": 0.6,
          "symbol": "circle"
         },
         "mode": "markers",
         "name": "Denmark",
         "orientation": "v",
         "showlegend": true,
         "type": "scatter",
         "x": [
          81.32
         ],
         "xaxis": "x",
         "y": [
          0.94
         ],
         "yaxis": "y"
        },
        {
         "hovertemplate": "Country=Estonia<br>LifeExp_2019=%{x}<br>HDI_2019=%{y}<extra></extra>",
         "legendgroup": "Estonia",
         "marker": {
          "color": "#ab63fa",
          "opacity": 0.6,
          "symbol": "circle"
         },
         "mode": "markers",
         "name": "Estonia",
         "orientation": "v",
         "showlegend": true,
         "type": "scatter",
         "x": [
          78.88
         ],
         "xaxis": "x",
         "y": [
          0.892
         ],
         "yaxis": "y"
        },
        {
         "hovertemplate": "Country=Finland<br>LifeExp_2019=%{x}<br>HDI_2019=%{y}<extra></extra>",
         "legendgroup": "Finland",
         "marker": {
          "color": "#FFA15A",
          "opacity": 0.6,
          "symbol": "circle"
         },
         "mode": "markers",
         "name": "Finland",
         "orientation": "v",
         "showlegend": true,
         "type": "scatter",
         "x": [
          81.61
         ],
         "xaxis": "x",
         "y": [
          0.938
         ],
         "yaxis": "y"
        },
        {
         "hovertemplate": "Country=France<br>LifeExp_2019=%{x}<br>HDI_2019=%{y}<extra></extra>",
         "legendgroup": "France",
         "marker": {
          "color": "#19d3f3",
          "opacity": 0.6,
          "symbol": "circle"
         },
         "mode": "markers",
         "name": "France",
         "orientation": "v",
         "showlegend": true,
         "type": "scatter",
         "x": [
          82.48
         ],
         "xaxis": "x",
         "y": [
          0.901
         ],
         "yaxis": "y"
        },
        {
         "hovertemplate": "Country=Georgia<br>LifeExp_2019=%{x}<br>HDI_2019=%{y}<extra></extra>",
         "legendgroup": "Georgia",
         "marker": {
          "color": "#FF6692",
          "opacity": 0.6,
          "symbol": "circle"
         },
         "mode": "markers",
         "name": "Georgia",
         "orientation": "v",
         "showlegend": true,
         "type": "scatter",
         "x": [
          73.28
         ],
         "xaxis": "x",
         "y": [
          0.812
         ],
         "yaxis": "y"
        },
        {
         "hovertemplate": "Country=Germany<br>LifeExp_2019=%{x}<br>HDI_2019=%{y}<extra></extra>",
         "legendgroup": "Germany",
         "marker": {
          "color": "#B6E880",
          "opacity": 0.6,
          "symbol": "circle"
         },
         "mode": "markers",
         "name": "Germany",
         "orientation": "v",
         "showlegend": true,
         "type": "scatter",
         "x": [
          81.72
         ],
         "xaxis": "x",
         "y": [
          0.947
         ],
         "yaxis": "y"
        },
        {
         "hovertemplate": "Country=Greece<br>LifeExp_2019=%{x}<br>HDI_2019=%{y}<extra></extra>",
         "legendgroup": "Greece",
         "marker": {
          "color": "#FF97FF",
          "opacity": 0.6,
          "symbol": "circle"
         },
         "mode": "markers",
         "name": "Greece",
         "orientation": "v",
         "showlegend": true,
         "type": "scatter",
         "x": [
          81.1
         ],
         "xaxis": "x",
         "y": [
          0.888
         ],
         "yaxis": "y"
        },
        {
         "hovertemplate": "Country=Hungary<br>LifeExp_2019=%{x}<br>HDI_2019=%{y}<extra></extra>",
         "legendgroup": "Hungary",
         "marker": {
          "color": "#FECB52",
          "opacity": 0.6,
          "symbol": "circle"
         },
         "mode": "markers",
         "name": "Hungary",
         "orientation": "v",
         "showlegend": true,
         "type": "scatter",
         "x": [
          76.44
         ],
         "xaxis": "x",
         "y": [
          0.854
         ],
         "yaxis": "y"
        },
        {
         "hovertemplate": "Country=Iceland<br>LifeExp_2019=%{x}<br>HDI_2019=%{y}<extra></extra>",
         "legendgroup": "Iceland",
         "marker": {
          "color": "#636efa",
          "opacity": 0.6,
          "symbol": "circle"
         },
         "mode": "markers",
         "name": "Iceland",
         "orientation": "v",
         "showlegend": true,
         "type": "scatter",
         "x": [
          82.33
         ],
         "xaxis": "x",
         "y": [
          0.949
         ],
         "yaxis": "y"
        },
        {
         "hovertemplate": "Country=Ireland<br>LifeExp_2019=%{x}<br>HDI_2019=%{y}<extra></extra>",
         "legendgroup": "Ireland",
         "marker": {
          "color": "#EF553B",
          "opacity": 0.6,
          "symbol": "circle"
         },
         "mode": "markers",
         "name": "Ireland",
         "orientation": "v",
         "showlegend": true,
         "type": "scatter",
         "x": [
          81.84
         ],
         "xaxis": "x",
         "y": [
          0.955
         ],
         "yaxis": "y"
        },
        {
         "hovertemplate": "Country=Israel<br>LifeExp_2019=%{x}<br>HDI_2019=%{y}<extra></extra>",
         "legendgroup": "Israel",
         "marker": {
          "color": "#00cc96",
          "opacity": 0.6,
          "symbol": "circle"
         },
         "mode": "markers",
         "name": "Israel",
         "orientation": "v",
         "showlegend": true,
         "type": "scatter",
         "x": [
          82.62
         ],
         "xaxis": "x",
         "y": [
          0.919
         ],
         "yaxis": "y"
        },
        {
         "hovertemplate": "Country=Italy<br>LifeExp_2019=%{x}<br>HDI_2019=%{y}<extra></extra>",
         "legendgroup": "Italy",
         "marker": {
          "color": "#ab63fa",
          "opacity": 0.6,
          "symbol": "circle"
         },
         "mode": "markers",
         "name": "Italy",
         "orientation": "v",
         "showlegend": true,
         "type": "scatter",
         "x": [
          82.97
         ],
         "xaxis": "x",
         "y": [
          0.892
         ],
         "yaxis": "y"
        },
        {
         "hovertemplate": "Country=Kazakhstan<br>LifeExp_2019=%{x}<br>HDI_2019=%{y}<extra></extra>",
         "legendgroup": "Kazakhstan",
         "marker": {
          "color": "#FFA15A",
          "opacity": 0.6,
          "symbol": "circle"
         },
         "mode": "markers",
         "name": "Kazakhstan",
         "orientation": "v",
         "showlegend": true,
         "type": "scatter",
         "x": [
          73.95
         ],
         "xaxis": "x",
         "y": [
          0.825
         ],
         "yaxis": "y"
        },
        {
         "hovertemplate": "Country=Latvia<br>LifeExp_2019=%{x}<br>HDI_2019=%{y}<extra></extra>",
         "legendgroup": "Latvia",
         "marker": {
          "color": "#19d3f3",
          "opacity": 0.6,
          "symbol": "circle"
         },
         "mode": "markers",
         "name": "Latvia",
         "orientation": "v",
         "showlegend": true,
         "type": "scatter",
         "x": [
          75.38
         ],
         "xaxis": "x",
         "y": [
          0.866
         ],
         "yaxis": "y"
        },
        {
         "hovertemplate": "Country=Lithuania<br>LifeExp_2019=%{x}<br>HDI_2019=%{y}<extra></extra>",
         "legendgroup": "Lithuania",
         "marker": {
          "color": "#FF6692",
          "opacity": 0.6,
          "symbol": "circle"
         },
         "mode": "markers",
         "name": "Lithuania",
         "orientation": "v",
         "showlegend": true,
         "type": "scatter",
         "x": [
          75.99
         ],
         "xaxis": "x",
         "y": [
          0.882
         ],
         "yaxis": "y"
        },
        {
         "hovertemplate": "Country=Luxembourg<br>LifeExp_2019=%{x}<br>HDI_2019=%{y}<extra></extra>",
         "legendgroup": "Luxembourg",
         "marker": {
          "color": "#B6E880",
          "opacity": 0.6,
          "symbol": "circle"
         },
         "mode": "markers",
         "name": "Luxembourg",
         "orientation": "v",
         "showlegend": true,
         "type": "scatter",
         "x": [
          82.41
         ],
         "xaxis": "x",
         "y": [
          0.916
         ],
         "yaxis": "y"
        },
        {
         "hovertemplate": "Country=Malta<br>LifeExp_2019=%{x}<br>HDI_2019=%{y}<extra></extra>",
         "legendgroup": "Malta",
         "marker": {
          "color": "#FF97FF",
          "opacity": 0.6,
          "symbol": "circle"
         },
         "mode": "markers",
         "name": "Malta",
         "orientation": "v",
         "showlegend": true,
         "type": "scatter",
         "x": [
          81.89
         ],
         "xaxis": "x",
         "y": [
          0.895
         ],
         "yaxis": "y"
        },
        {
         "hovertemplate": "Country=Montenegro<br>LifeExp_2019=%{x}<br>HDI_2019=%{y}<extra></extra>",
         "legendgroup": "Montenegro",
         "marker": {
          "color": "#FECB52",
          "opacity": 0.6,
          "symbol": "circle"
         },
         "mode": "markers",
         "name": "Montenegro",
         "orientation": "v",
         "showlegend": true,
         "type": "scatter",
         "x": [
          75.88
         ],
         "xaxis": "x",
         "y": [
          0.829
         ],
         "yaxis": "y"
        },
        {
         "hovertemplate": "Country=Netherlands<br>LifeExp_2019=%{x}<br>HDI_2019=%{y}<extra></extra>",
         "legendgroup": "Netherlands",
         "marker": {
          "color": "#636efa",
          "opacity": 0.6,
          "symbol": "circle"
         },
         "mode": "markers",
         "name": "Netherlands",
         "orientation": "v",
         "showlegend": true,
         "type": "scatter",
         "x": [
          81.79
         ],
         "xaxis": "x",
         "y": [
          0.944
         ],
         "yaxis": "y"
        },
        {
         "hovertemplate": "Country=Norway<br>LifeExp_2019=%{x}<br>HDI_2019=%{y}<extra></extra>",
         "legendgroup": "Norway",
         "marker": {
          "color": "#EF553B",
          "opacity": 0.6,
          "symbol": "circle"
         },
         "mode": "markers",
         "name": "Norway",
         "orientation": "v",
         "showlegend": true,
         "type": "scatter",
         "x": [
          82.62
         ],
         "xaxis": "x",
         "y": [
          0.957
         ],
         "yaxis": "y"
        },
        {
         "hovertemplate": "Country=Poland<br>LifeExp_2019=%{x}<br>HDI_2019=%{y}<extra></extra>",
         "legendgroup": "Poland",
         "marker": {
          "color": "#00cc96",
          "opacity": 0.6,
          "symbol": "circle"
         },
         "mode": "markers",
         "name": "Poland",
         "orientation": "v",
         "showlegend": true,
         "type": "scatter",
         "x": [
          78.27
         ],
         "xaxis": "x",
         "y": [
          0.88
         ],
         "yaxis": "y"
        },
        {
         "hovertemplate": "Country=Portugal<br>LifeExp_2019=%{x}<br>HDI_2019=%{y}<extra></extra>",
         "legendgroup": "Portugal",
         "marker": {
          "color": "#ab63fa",
          "opacity": 0.6,
          "symbol": "circle"
         },
         "mode": "markers",
         "name": "Portugal",
         "orientation": "v",
         "showlegend": true,
         "type": "scatter",
         "x": [
          81.57
         ],
         "xaxis": "x",
         "y": [
          0.864
         ],
         "yaxis": "y"
        },
        {
         "hovertemplate": "Country=Romania<br>LifeExp_2019=%{x}<br>HDI_2019=%{y}<extra></extra>",
         "legendgroup": "Romania",
         "marker": {
          "color": "#FFA15A",
          "opacity": 0.6,
          "symbol": "circle"
         },
         "mode": "markers",
         "name": "Romania",
         "orientation": "v",
         "showlegend": true,
         "type": "scatter",
         "x": [
          75.57
         ],
         "xaxis": "x",
         "y": [
          0.828
         ],
         "yaxis": "y"
        },
        {
         "hovertemplate": "Country=Russian Federation<br>LifeExp_2019=%{x}<br>HDI_2019=%{y}<extra></extra>",
         "legendgroup": "Russian Federation",
         "marker": {
          "color": "#19d3f3",
          "opacity": 0.6,
          "symbol": "circle"
         },
         "mode": "markers",
         "name": "Russian Federation",
         "orientation": "v",
         "showlegend": true,
         "type": "scatter",
         "x": [
          73.23
         ],
         "xaxis": "x",
         "y": [
          0.824
         ],
         "yaxis": "y"
        },
        {
         "hovertemplate": "Country=Serbia<br>LifeExp_2019=%{x}<br>HDI_2019=%{y}<extra></extra>",
         "legendgroup": "Serbia",
         "marker": {
          "color": "#FF6692",
          "opacity": 0.6,
          "symbol": "circle"
         },
         "mode": "markers",
         "name": "Serbia",
         "orientation": "v",
         "showlegend": true,
         "type": "scatter",
         "x": [
          75.87
         ],
         "xaxis": "x",
         "y": [
          0.806
         ],
         "yaxis": "y"
        },
        {
         "hovertemplate": "Country=Slovenia<br>LifeExp_2019=%{x}<br>HDI_2019=%{y}<extra></extra>",
         "legendgroup": "Slovenia",
         "marker": {
          "color": "#B6E880",
          "opacity": 0.6,
          "symbol": "circle"
         },
         "mode": "markers",
         "name": "Slovenia",
         "orientation": "v",
         "showlegend": true,
         "type": "scatter",
         "x": [
          81.31
         ],
         "xaxis": "x",
         "y": [
          0.917
         ],
         "yaxis": "y"
        },
        {
         "hovertemplate": "Country=Spain<br>LifeExp_2019=%{x}<br>HDI_2019=%{y}<extra></extra>",
         "legendgroup": "Spain",
         "marker": {
          "color": "#FF97FF",
          "opacity": 0.6,
          "symbol": "circle"
         },
         "mode": "markers",
         "name": "Spain",
         "orientation": "v",
         "showlegend": true,
         "type": "scatter",
         "x": [
          83.22
         ],
         "xaxis": "x",
         "y": [
          0.904
         ],
         "yaxis": "y"
        },
        {
         "hovertemplate": "Country=Sweden<br>LifeExp_2019=%{x}<br>HDI_2019=%{y}<extra></extra>",
         "legendgroup": "Sweden",
         "marker": {
          "color": "#FECB52",
          "opacity": 0.6,
          "symbol": "circle"
         },
         "mode": "markers",
         "name": "Sweden",
         "orientation": "v",
         "showlegend": true,
         "type": "scatter",
         "x": [
          82.4
         ],
         "xaxis": "x",
         "y": [
          0.945
         ],
         "yaxis": "y"
        },
        {
         "hovertemplate": "Country=Switzerland<br>LifeExp_2019=%{x}<br>HDI_2019=%{y}<extra></extra>",
         "legendgroup": "Switzerland",
         "marker": {
          "color": "#636efa",
          "opacity": 0.6,
          "symbol": "circle"
         },
         "mode": "markers",
         "name": "Switzerland",
         "orientation": "v",
         "showlegend": true,
         "type": "scatter",
         "x": [
          83.45
         ],
         "xaxis": "x",
         "y": [
          0.955
         ],
         "yaxis": "y"
        },
        {
         "hovertemplate": "Country=Tajikistan<br>LifeExp_2019=%{x}<br>HDI_2019=%{y}<extra></extra>",
         "legendgroup": "Tajikistan",
         "marker": {
          "color": "#EF553B",
          "opacity": 0.6,
          "symbol": "circle"
         },
         "mode": "markers",
         "name": "Tajikistan",
         "orientation": "v",
         "showlegend": true,
         "type": "scatter",
         "x": [
          69.5
         ],
         "xaxis": "x",
         "y": [
          0.668
         ],
         "yaxis": "y"
        },
        {
         "hovertemplate": "Country=Turkmenistan<br>LifeExp_2019=%{x}<br>HDI_2019=%{y}<extra></extra>",
         "legendgroup": "Turkmenistan",
         "marker": {
          "color": "#00cc96",
          "opacity": 0.6,
          "symbol": "circle"
         },
         "mode": "markers",
         "name": "Turkmenistan",
         "orientation": "v",
         "showlegend": true,
         "type": "scatter",
         "x": [
          69.75
         ],
         "xaxis": "x",
         "y": [
          0.715
         ],
         "yaxis": "y"
        },
        {
         "hovertemplate": "Country=Ukraine<br>LifeExp_2019=%{x}<br>HDI_2019=%{y}<extra></extra>",
         "legendgroup": "Ukraine",
         "marker": {
          "color": "#ab63fa",
          "opacity": 0.6,
          "symbol": "circle"
         },
         "mode": "markers",
         "name": "Ukraine",
         "orientation": "v",
         "showlegend": true,
         "type": "scatter",
         "x": [
          73.02
         ],
         "xaxis": "x",
         "y": [
          0.779
         ],
         "yaxis": "y"
        },
        {
         "hovertemplate": "Country=Uzbekistan<br>LifeExp_2019=%{x}<br>HDI_2019=%{y}<extra></extra>",
         "legendgroup": "Uzbekistan",
         "marker": {
          "color": "#FFA15A",
          "opacity": 0.6,
          "symbol": "circle"
         },
         "mode": "markers",
         "name": "Uzbekistan",
         "orientation": "v",
         "showlegend": true,
         "type": "scatter",
         "x": [
          73.01
         ],
         "xaxis": "x",
         "y": [
          0.72
         ],
         "yaxis": "y"
        },
        {
         "hovertemplate": "Country=Bangladesh<br>LifeExp_2019=%{x}<br>HDI_2019=%{y}<extra></extra>",
         "legendgroup": "Bangladesh",
         "marker": {
          "color": "#19d3f3",
          "opacity": 0.6,
          "symbol": "circle"
         },
         "mode": "markers",
         "name": "Bangladesh",
         "orientation": "v",
         "showlegend": true,
         "type": "scatter",
         "x": [
          74.25
         ],
         "xaxis": "x",
         "y": [
          0.632
         ],
         "yaxis": "y"
        },
        {
         "hovertemplate": "Country=Bhutan<br>LifeExp_2019=%{x}<br>HDI_2019=%{y}<extra></extra>",
         "legendgroup": "Bhutan",
         "marker": {
          "color": "#FF6692",
          "opacity": 0.6,
          "symbol": "circle"
         },
         "mode": "markers",
         "name": "Bhutan",
         "orientation": "v",
         "showlegend": true,
         "type": "scatter",
         "x": [
          73.11
         ],
         "xaxis": "x",
         "y": [
          0.654
         ],
         "yaxis": "y"
        },
        {
         "hovertemplate": "Country=India<br>LifeExp_2019=%{x}<br>HDI_2019=%{y}<extra></extra>",
         "legendgroup": "India",
         "marker": {
          "color": "#B6E880",
          "opacity": 0.6,
          "symbol": "circle"
         },
         "mode": "markers",
         "name": "India",
         "orientation": "v",
         "showlegend": true,
         "type": "scatter",
         "x": [
          70.79
         ],
         "xaxis": "x",
         "y": [
          0.645
         ],
         "yaxis": "y"
        },
        {
         "hovertemplate": "Country=Indonesia<br>LifeExp_2019=%{x}<br>HDI_2019=%{y}<extra></extra>",
         "legendgroup": "Indonesia",
         "marker": {
          "color": "#FF97FF",
          "opacity": 0.6,
          "symbol": "circle"
         },
         "mode": "markers",
         "name": "Indonesia",
         "orientation": "v",
         "showlegend": true,
         "type": "scatter",
         "x": [
          71.31
         ],
         "xaxis": "x",
         "y": [
          0.718
         ],
         "yaxis": "y"
        },
        {
         "hovertemplate": "Country=Maldives<br>LifeExp_2019=%{x}<br>HDI_2019=%{y}<extra></extra>",
         "legendgroup": "Maldives",
         "marker": {
          "color": "#FECB52",
          "opacity": 0.6,
          "symbol": "circle"
         },
         "mode": "markers",
         "name": "Maldives",
         "orientation": "v",
         "showlegend": true,
         "type": "scatter",
         "x": [
          79.59
         ],
         "xaxis": "x",
         "y": [
          0.74
         ],
         "yaxis": "y"
        },
        {
         "hovertemplate": "Country=Myanmar<br>LifeExp_2019=%{x}<br>HDI_2019=%{y}<extra></extra>",
         "legendgroup": "Myanmar",
         "marker": {
          "color": "#636efa",
          "opacity": 0.6,
          "symbol": "circle"
         },
         "mode": "markers",
         "name": "Myanmar",
         "orientation": "v",
         "showlegend": true,
         "type": "scatter",
         "x": [
          69.13
         ],
         "xaxis": "x",
         "y": [
          0.583
         ],
         "yaxis": "y"
        },
        {
         "hovertemplate": "Country=Nepal<br>LifeExp_2019=%{x}<br>HDI_2019=%{y}<extra></extra>",
         "legendgroup": "Nepal",
         "marker": {
          "color": "#EF553B",
          "opacity": 0.6,
          "symbol": "circle"
         },
         "mode": "markers",
         "name": "Nepal",
         "orientation": "v",
         "showlegend": true,
         "type": "scatter",
         "x": [
          70.88
         ],
         "xaxis": "x",
         "y": [
          0.602
         ],
         "yaxis": "y"
        },
        {
         "hovertemplate": "Country=Sri Lanka<br>LifeExp_2019=%{x}<br>HDI_2019=%{y}<extra></extra>",
         "legendgroup": "Sri Lanka",
         "marker": {
          "color": "#00cc96",
          "opacity": 0.6,
          "symbol": "circle"
         },
         "mode": "markers",
         "name": "Sri Lanka",
         "orientation": "v",
         "showlegend": true,
         "type": "scatter",
         "x": [
          76.87
         ],
         "xaxis": "x",
         "y": [
          0.782
         ],
         "yaxis": "y"
        },
        {
         "hovertemplate": "Country=Thailand<br>LifeExp_2019=%{x}<br>HDI_2019=%{y}<extra></extra>",
         "legendgroup": "Thailand",
         "marker": {
          "color": "#ab63fa",
          "opacity": 0.6,
          "symbol": "circle"
         },
         "mode": "markers",
         "name": "Thailand",
         "orientation": "v",
         "showlegend": true,
         "type": "scatter",
         "x": [
          77.7
         ],
         "xaxis": "x",
         "y": [
          0.777
         ],
         "yaxis": "y"
        },
        {
         "hovertemplate": "Country=Timor-Leste<br>LifeExp_2019=%{x}<br>HDI_2019=%{y}<extra></extra>",
         "legendgroup": "Timor-Leste",
         "marker": {
          "color": "#FFA15A",
          "opacity": 0.6,
          "symbol": "circle"
         },
         "mode": "markers",
         "name": "Timor-Leste",
         "orientation": "v",
         "showlegend": true,
         "type": "scatter",
         "x": [
          69.62
         ],
         "xaxis": "x",
         "y": [
          0.606
         ],
         "yaxis": "y"
        },
        {
         "hovertemplate": "Country=Australia<br>LifeExp_2019=%{x}<br>HDI_2019=%{y}<extra></extra>",
         "legendgroup": "Australia",
         "marker": {
          "color": "#19d3f3",
          "opacity": 0.6,
          "symbol": "circle"
         },
         "mode": "markers",
         "name": "Australia",
         "orientation": "v",
         "showlegend": true,
         "type": "scatter",
         "x": [
          83.04
         ],
         "xaxis": "x",
         "y": [
          0.944
         ],
         "yaxis": "y"
        },
        {
         "hovertemplate": "Country=Brunei Darussalam<br>LifeExp_2019=%{x}<br>HDI_2019=%{y}<extra></extra>",
         "legendgroup": "Brunei Darussalam",
         "marker": {
          "color": "#FF6692",
          "opacity": 0.6,
          "symbol": "circle"
         },
         "mode": "markers",
         "name": "Brunei Darussalam",
         "orientation": "v",
         "showlegend": true,
         "type": "scatter",
         "x": [
          74.32
         ],
         "xaxis": "x",
         "y": [
          0.838
         ],
         "yaxis": "y"
        },
        {
         "hovertemplate": "Country=Cambodia<br>LifeExp_2019=%{x}<br>HDI_2019=%{y}<extra></extra>",
         "legendgroup": "Cambodia",
         "marker": {
          "color": "#B6E880",
          "opacity": 0.6,
          "symbol": "circle"
         },
         "mode": "markers",
         "name": "Cambodia",
         "orientation": "v",
         "showlegend": true,
         "type": "scatter",
         "x": [
          70.12
         ],
         "xaxis": "x",
         "y": [
          0.594
         ],
         "yaxis": "y"
        },
        {
         "hovertemplate": "Country=China<br>LifeExp_2019=%{x}<br>HDI_2019=%{y}<extra></extra>",
         "legendgroup": "China",
         "marker": {
          "color": "#FF97FF",
          "opacity": 0.6,
          "symbol": "circle"
         },
         "mode": "markers",
         "name": "China",
         "orientation": "v",
         "showlegend": true,
         "type": "scatter",
         "x": [
          77.43
         ],
         "xaxis": "x",
         "y": [
          0.761
         ],
         "yaxis": "y"
        },
        {
         "hovertemplate": "Country=Fiji<br>LifeExp_2019=%{x}<br>HDI_2019=%{y}<extra></extra>",
         "legendgroup": "Fiji",
         "marker": {
          "color": "#FECB52",
          "opacity": 0.6,
          "symbol": "circle"
         },
         "mode": "markers",
         "name": "Fiji",
         "orientation": "v",
         "showlegend": true,
         "type": "scatter",
         "x": [
          68.01
         ],
         "xaxis": "x",
         "y": [
          0.743
         ],
         "yaxis": "y"
        },
        {
         "hovertemplate": "Country=Japan<br>LifeExp_2019=%{x}<br>HDI_2019=%{y}<extra></extra>",
         "legendgroup": "Japan",
         "marker": {
          "color": "#636efa",
          "opacity": 0.6,
          "symbol": "circle"
         },
         "mode": "markers",
         "name": "Japan",
         "orientation": "v",
         "showlegend": true,
         "type": "scatter",
         "x": [
          84.26
         ],
         "xaxis": "x",
         "y": [
          0.919
         ],
         "yaxis": "y"
        },
        {
         "hovertemplate": "Country=Malaysia<br>LifeExp_2019=%{x}<br>HDI_2019=%{y}<extra></extra>",
         "legendgroup": "Malaysia",
         "marker": {
          "color": "#EF553B",
          "opacity": 0.6,
          "symbol": "circle"
         },
         "mode": "markers",
         "name": "Malaysia",
         "orientation": "v",
         "showlegend": true,
         "type": "scatter",
         "x": [
          74.72
         ],
         "xaxis": "x",
         "y": [
          0.81
         ],
         "yaxis": "y"
        },
        {
         "hovertemplate": "Country=Mongolia<br>LifeExp_2019=%{x}<br>HDI_2019=%{y}<extra></extra>",
         "legendgroup": "Mongolia",
         "marker": {
          "color": "#00cc96",
          "opacity": 0.6,
          "symbol": "circle"
         },
         "mode": "markers",
         "name": "Mongolia",
         "orientation": "v",
         "showlegend": true,
         "type": "scatter",
         "x": [
          68.1
         ],
         "xaxis": "x",
         "y": [
          0.737
         ],
         "yaxis": "y"
        },
        {
         "hovertemplate": "Country=New Zealand<br>LifeExp_2019=%{x}<br>HDI_2019=%{y}<extra></extra>",
         "legendgroup": "New Zealand",
         "marker": {
          "color": "#ab63fa",
          "opacity": 0.6,
          "symbol": "circle"
         },
         "mode": "markers",
         "name": "New Zealand",
         "orientation": "v",
         "showlegend": true,
         "type": "scatter",
         "x": [
          81.96
         ],
         "xaxis": "x",
         "y": [
          0.931
         ],
         "yaxis": "y"
        },
        {
         "hovertemplate": "Country=Papua New Guinea<br>LifeExp_2019=%{x}<br>HDI_2019=%{y}<extra></extra>",
         "legendgroup": "Papua New Guinea",
         "marker": {
          "color": "#FFA15A",
          "opacity": 0.6,
          "symbol": "circle"
         },
         "mode": "markers",
         "name": "Papua New Guinea",
         "orientation": "v",
         "showlegend": true,
         "type": "scatter",
         "x": [
          65.3
         ],
         "xaxis": "x",
         "y": [
          0.555
         ],
         "yaxis": "y"
        },
        {
         "hovertemplate": "Country=Philippines<br>LifeExp_2019=%{x}<br>HDI_2019=%{y}<extra></extra>",
         "legendgroup": "Philippines",
         "marker": {
          "color": "#19d3f3",
          "opacity": 0.6,
          "symbol": "circle"
         },
         "mode": "markers",
         "name": "Philippines",
         "orientation": "v",
         "showlegend": true,
         "type": "scatter",
         "x": [
          70.43
         ],
         "xaxis": "x",
         "y": [
          0.718
         ],
         "yaxis": "y"
        },
        {
         "hovertemplate": "Country=Samoa<br>LifeExp_2019=%{x}<br>HDI_2019=%{y}<extra></extra>",
         "legendgroup": "Samoa",
         "marker": {
          "color": "#FF6692",
          "opacity": 0.6,
          "symbol": "circle"
         },
         "mode": "markers",
         "name": "Samoa",
         "orientation": "v",
         "showlegend": true,
         "type": "scatter",
         "x": [
          70.45
         ],
         "xaxis": "x",
         "y": [
          0.715
         ],
         "yaxis": "y"
        },
        {
         "hovertemplate": "Country=Singapore<br>LifeExp_2019=%{x}<br>HDI_2019=%{y}<extra></extra>",
         "legendgroup": "Singapore",
         "marker": {
          "color": "#B6E880",
          "opacity": 0.6,
          "symbol": "circle"
         },
         "mode": "markers",
         "name": "Singapore",
         "orientation": "v",
         "showlegend": true,
         "type": "scatter",
         "x": [
          83.22
         ],
         "xaxis": "x",
         "y": [
          0.938
         ],
         "yaxis": "y"
        },
        {
         "hovertemplate": "Country=Solomon Islands<br>LifeExp_2019=%{x}<br>HDI_2019=%{y}<extra></extra>",
         "legendgroup": "Solomon Islands",
         "marker": {
          "color": "#FF97FF",
          "opacity": 0.6,
          "symbol": "circle"
         },
         "mode": "markers",
         "name": "Solomon Islands",
         "orientation": "v",
         "showlegend": true,
         "type": "scatter",
         "x": [
          65.25
         ],
         "xaxis": "x",
         "y": [
          0.567
         ],
         "yaxis": "y"
        },
        {
         "hovertemplate": "Country=Tonga<br>LifeExp_2019=%{x}<br>HDI_2019=%{y}<extra></extra>",
         "legendgroup": "Tonga",
         "marker": {
          "color": "#FECB52",
          "opacity": 0.6,
          "symbol": "circle"
         },
         "mode": "markers",
         "name": "Tonga",
         "orientation": "v",
         "showlegend": true,
         "type": "scatter",
         "x": [
          72.57
         ],
         "xaxis": "x",
         "y": [
          0.725
         ],
         "yaxis": "y"
        },
        {
         "hovertemplate": "Country=Vanuatu<br>LifeExp_2019=%{x}<br>HDI_2019=%{y}<extra></extra>",
         "legendgroup": "Vanuatu",
         "marker": {
          "color": "#636efa",
          "opacity": 0.6,
          "symbol": "circle"
         },
         "mode": "markers",
         "name": "Vanuatu",
         "orientation": "v",
         "showlegend": true,
         "type": "scatter",
         "x": [
          65.31
         ],
         "xaxis": "x",
         "y": [
          0.609
         ],
         "yaxis": "y"
        }
       ],
       "layout": {
        "legend": {
         "title": {
          "text": "Country"
         },
         "tracegroupgap": 0
        },
        "template": {
         "data": {
          "bar": [
           {
            "error_x": {
             "color": "#f2f5fa"
            },
            "error_y": {
             "color": "#f2f5fa"
            },
            "marker": {
             "line": {
              "color": "rgb(17,17,17)",
              "width": 0.5
             },
             "pattern": {
              "fillmode": "overlay",
              "size": 10,
              "solidity": 0.2
             }
            },
            "type": "bar"
           }
          ],
          "barpolar": [
           {
            "marker": {
             "line": {
              "color": "rgb(17,17,17)",
              "width": 0.5
             },
             "pattern": {
              "fillmode": "overlay",
              "size": 10,
              "solidity": 0.2
             }
            },
            "type": "barpolar"
           }
          ],
          "carpet": [
           {
            "aaxis": {
             "endlinecolor": "#A2B1C6",
             "gridcolor": "#506784",
             "linecolor": "#506784",
             "minorgridcolor": "#506784",
             "startlinecolor": "#A2B1C6"
            },
            "baxis": {
             "endlinecolor": "#A2B1C6",
             "gridcolor": "#506784",
             "linecolor": "#506784",
             "minorgridcolor": "#506784",
             "startlinecolor": "#A2B1C6"
            },
            "type": "carpet"
           }
          ],
          "choropleth": [
           {
            "colorbar": {
             "outlinewidth": 0,
             "ticks": ""
            },
            "type": "choropleth"
           }
          ],
          "contour": [
           {
            "colorbar": {
             "outlinewidth": 0,
             "ticks": ""
            },
            "colorscale": [
             [
              0,
              "#0d0887"
             ],
             [
              0.1111111111111111,
              "#46039f"
             ],
             [
              0.2222222222222222,
              "#7201a8"
             ],
             [
              0.3333333333333333,
              "#9c179e"
             ],
             [
              0.4444444444444444,
              "#bd3786"
             ],
             [
              0.5555555555555556,
              "#d8576b"
             ],
             [
              0.6666666666666666,
              "#ed7953"
             ],
             [
              0.7777777777777778,
              "#fb9f3a"
             ],
             [
              0.8888888888888888,
              "#fdca26"
             ],
             [
              1,
              "#f0f921"
             ]
            ],
            "type": "contour"
           }
          ],
          "contourcarpet": [
           {
            "colorbar": {
             "outlinewidth": 0,
             "ticks": ""
            },
            "type": "contourcarpet"
           }
          ],
          "heatmap": [
           {
            "colorbar": {
             "outlinewidth": 0,
             "ticks": ""
            },
            "colorscale": [
             [
              0,
              "#0d0887"
             ],
             [
              0.1111111111111111,
              "#46039f"
             ],
             [
              0.2222222222222222,
              "#7201a8"
             ],
             [
              0.3333333333333333,
              "#9c179e"
             ],
             [
              0.4444444444444444,
              "#bd3786"
             ],
             [
              0.5555555555555556,
              "#d8576b"
             ],
             [
              0.6666666666666666,
              "#ed7953"
             ],
             [
              0.7777777777777778,
              "#fb9f3a"
             ],
             [
              0.8888888888888888,
              "#fdca26"
             ],
             [
              1,
              "#f0f921"
             ]
            ],
            "type": "heatmap"
           }
          ],
          "heatmapgl": [
           {
            "colorbar": {
             "outlinewidth": 0,
             "ticks": ""
            },
            "colorscale": [
             [
              0,
              "#0d0887"
             ],
             [
              0.1111111111111111,
              "#46039f"
             ],
             [
              0.2222222222222222,
              "#7201a8"
             ],
             [
              0.3333333333333333,
              "#9c179e"
             ],
             [
              0.4444444444444444,
              "#bd3786"
             ],
             [
              0.5555555555555556,
              "#d8576b"
             ],
             [
              0.6666666666666666,
              "#ed7953"
             ],
             [
              0.7777777777777778,
              "#fb9f3a"
             ],
             [
              0.8888888888888888,
              "#fdca26"
             ],
             [
              1,
              "#f0f921"
             ]
            ],
            "type": "heatmapgl"
           }
          ],
          "histogram": [
           {
            "marker": {
             "pattern": {
              "fillmode": "overlay",
              "size": 10,
              "solidity": 0.2
             }
            },
            "type": "histogram"
           }
          ],
          "histogram2d": [
           {
            "colorbar": {
             "outlinewidth": 0,
             "ticks": ""
            },
            "colorscale": [
             [
              0,
              "#0d0887"
             ],
             [
              0.1111111111111111,
              "#46039f"
             ],
             [
              0.2222222222222222,
              "#7201a8"
             ],
             [
              0.3333333333333333,
              "#9c179e"
             ],
             [
              0.4444444444444444,
              "#bd3786"
             ],
             [
              0.5555555555555556,
              "#d8576b"
             ],
             [
              0.6666666666666666,
              "#ed7953"
             ],
             [
              0.7777777777777778,
              "#fb9f3a"
             ],
             [
              0.8888888888888888,
              "#fdca26"
             ],
             [
              1,
              "#f0f921"
             ]
            ],
            "type": "histogram2d"
           }
          ],
          "histogram2dcontour": [
           {
            "colorbar": {
             "outlinewidth": 0,
             "ticks": ""
            },
            "colorscale": [
             [
              0,
              "#0d0887"
             ],
             [
              0.1111111111111111,
              "#46039f"
             ],
             [
              0.2222222222222222,
              "#7201a8"
             ],
             [
              0.3333333333333333,
              "#9c179e"
             ],
             [
              0.4444444444444444,
              "#bd3786"
             ],
             [
              0.5555555555555556,
              "#d8576b"
             ],
             [
              0.6666666666666666,
              "#ed7953"
             ],
             [
              0.7777777777777778,
              "#fb9f3a"
             ],
             [
              0.8888888888888888,
              "#fdca26"
             ],
             [
              1,
              "#f0f921"
             ]
            ],
            "type": "histogram2dcontour"
           }
          ],
          "mesh3d": [
           {
            "colorbar": {
             "outlinewidth": 0,
             "ticks": ""
            },
            "type": "mesh3d"
           }
          ],
          "parcoords": [
           {
            "line": {
             "colorbar": {
              "outlinewidth": 0,
              "ticks": ""
             }
            },
            "type": "parcoords"
           }
          ],
          "pie": [
           {
            "automargin": true,
            "type": "pie"
           }
          ],
          "scatter": [
           {
            "marker": {
             "line": {
              "color": "#283442"
             }
            },
            "type": "scatter"
           }
          ],
          "scatter3d": [
           {
            "line": {
             "colorbar": {
              "outlinewidth": 0,
              "ticks": ""
             }
            },
            "marker": {
             "colorbar": {
              "outlinewidth": 0,
              "ticks": ""
             }
            },
            "type": "scatter3d"
           }
          ],
          "scattercarpet": [
           {
            "marker": {
             "colorbar": {
              "outlinewidth": 0,
              "ticks": ""
             }
            },
            "type": "scattercarpet"
           }
          ],
          "scattergeo": [
           {
            "marker": {
             "colorbar": {
              "outlinewidth": 0,
              "ticks": ""
             }
            },
            "type": "scattergeo"
           }
          ],
          "scattergl": [
           {
            "marker": {
             "line": {
              "color": "#283442"
             }
            },
            "type": "scattergl"
           }
          ],
          "scattermapbox": [
           {
            "marker": {
             "colorbar": {
              "outlinewidth": 0,
              "ticks": ""
             }
            },
            "type": "scattermapbox"
           }
          ],
          "scatterpolar": [
           {
            "marker": {
             "colorbar": {
              "outlinewidth": 0,
              "ticks": ""
             }
            },
            "type": "scatterpolar"
           }
          ],
          "scatterpolargl": [
           {
            "marker": {
             "colorbar": {
              "outlinewidth": 0,
              "ticks": ""
             }
            },
            "type": "scatterpolargl"
           }
          ],
          "scatterternary": [
           {
            "marker": {
             "colorbar": {
              "outlinewidth": 0,
              "ticks": ""
             }
            },
            "type": "scatterternary"
           }
          ],
          "surface": [
           {
            "colorbar": {
             "outlinewidth": 0,
             "ticks": ""
            },
            "colorscale": [
             [
              0,
              "#0d0887"
             ],
             [
              0.1111111111111111,
              "#46039f"
             ],
             [
              0.2222222222222222,
              "#7201a8"
             ],
             [
              0.3333333333333333,
              "#9c179e"
             ],
             [
              0.4444444444444444,
              "#bd3786"
             ],
             [
              0.5555555555555556,
              "#d8576b"
             ],
             [
              0.6666666666666666,
              "#ed7953"
             ],
             [
              0.7777777777777778,
              "#fb9f3a"
             ],
             [
              0.8888888888888888,
              "#fdca26"
             ],
             [
              1,
              "#f0f921"
             ]
            ],
            "type": "surface"
           }
          ],
          "table": [
           {
            "cells": {
             "fill": {
              "color": "#506784"
             },
             "line": {
              "color": "rgb(17,17,17)"
             }
            },
            "header": {
             "fill": {
              "color": "#2a3f5f"
             },
             "line": {
              "color": "rgb(17,17,17)"
             }
            },
            "type": "table"
           }
          ]
         },
         "layout": {
          "annotationdefaults": {
           "arrowcolor": "#f2f5fa",
           "arrowhead": 0,
           "arrowwidth": 1
          },
          "autotypenumbers": "strict",
          "coloraxis": {
           "colorbar": {
            "outlinewidth": 0,
            "ticks": ""
           }
          },
          "colorscale": {
           "diverging": [
            [
             0,
             "#8e0152"
            ],
            [
             0.1,
             "#c51b7d"
            ],
            [
             0.2,
             "#de77ae"
            ],
            [
             0.3,
             "#f1b6da"
            ],
            [
             0.4,
             "#fde0ef"
            ],
            [
             0.5,
             "#f7f7f7"
            ],
            [
             0.6,
             "#e6f5d0"
            ],
            [
             0.7,
             "#b8e186"
            ],
            [
             0.8,
             "#7fbc41"
            ],
            [
             0.9,
             "#4d9221"
            ],
            [
             1,
             "#276419"
            ]
           ],
           "sequential": [
            [
             0,
             "#0d0887"
            ],
            [
             0.1111111111111111,
             "#46039f"
            ],
            [
             0.2222222222222222,
             "#7201a8"
            ],
            [
             0.3333333333333333,
             "#9c179e"
            ],
            [
             0.4444444444444444,
             "#bd3786"
            ],
            [
             0.5555555555555556,
             "#d8576b"
            ],
            [
             0.6666666666666666,
             "#ed7953"
            ],
            [
             0.7777777777777778,
             "#fb9f3a"
            ],
            [
             0.8888888888888888,
             "#fdca26"
            ],
            [
             1,
             "#f0f921"
            ]
           ],
           "sequentialminus": [
            [
             0,
             "#0d0887"
            ],
            [
             0.1111111111111111,
             "#46039f"
            ],
            [
             0.2222222222222222,
             "#7201a8"
            ],
            [
             0.3333333333333333,
             "#9c179e"
            ],
            [
             0.4444444444444444,
             "#bd3786"
            ],
            [
             0.5555555555555556,
             "#d8576b"
            ],
            [
             0.6666666666666666,
             "#ed7953"
            ],
            [
             0.7777777777777778,
             "#fb9f3a"
            ],
            [
             0.8888888888888888,
             "#fdca26"
            ],
            [
             1,
             "#f0f921"
            ]
           ]
          },
          "colorway": [
           "#636efa",
           "#EF553B",
           "#00cc96",
           "#ab63fa",
           "#FFA15A",
           "#19d3f3",
           "#FF6692",
           "#B6E880",
           "#FF97FF",
           "#FECB52"
          ],
          "font": {
           "color": "#f2f5fa"
          },
          "geo": {
           "bgcolor": "rgb(17,17,17)",
           "lakecolor": "rgb(17,17,17)",
           "landcolor": "rgb(17,17,17)",
           "showlakes": true,
           "showland": true,
           "subunitcolor": "#506784"
          },
          "hoverlabel": {
           "align": "left"
          },
          "hovermode": "closest",
          "mapbox": {
           "style": "dark"
          },
          "paper_bgcolor": "rgb(17,17,17)",
          "plot_bgcolor": "rgb(17,17,17)",
          "polar": {
           "angularaxis": {
            "gridcolor": "#506784",
            "linecolor": "#506784",
            "ticks": ""
           },
           "bgcolor": "rgb(17,17,17)",
           "radialaxis": {
            "gridcolor": "#506784",
            "linecolor": "#506784",
            "ticks": ""
           }
          },
          "scene": {
           "xaxis": {
            "backgroundcolor": "rgb(17,17,17)",
            "gridcolor": "#506784",
            "gridwidth": 2,
            "linecolor": "#506784",
            "showbackground": true,
            "ticks": "",
            "zerolinecolor": "#C8D4E3"
           },
           "yaxis": {
            "backgroundcolor": "rgb(17,17,17)",
            "gridcolor": "#506784",
            "gridwidth": 2,
            "linecolor": "#506784",
            "showbackground": true,
            "ticks": "",
            "zerolinecolor": "#C8D4E3"
           },
           "zaxis": {
            "backgroundcolor": "rgb(17,17,17)",
            "gridcolor": "#506784",
            "gridwidth": 2,
            "linecolor": "#506784",
            "showbackground": true,
            "ticks": "",
            "zerolinecolor": "#C8D4E3"
           }
          },
          "shapedefaults": {
           "line": {
            "color": "#f2f5fa"
           }
          },
          "sliderdefaults": {
           "bgcolor": "#C8D4E3",
           "bordercolor": "rgb(17,17,17)",
           "borderwidth": 1,
           "tickwidth": 0
          },
          "ternary": {
           "aaxis": {
            "gridcolor": "#506784",
            "linecolor": "#506784",
            "ticks": ""
           },
           "baxis": {
            "gridcolor": "#506784",
            "linecolor": "#506784",
            "ticks": ""
           },
           "bgcolor": "rgb(17,17,17)",
           "caxis": {
            "gridcolor": "#506784",
            "linecolor": "#506784",
            "ticks": ""
           }
          },
          "title": {
           "x": 0.05
          },
          "updatemenudefaults": {
           "bgcolor": "#506784",
           "borderwidth": 0
          },
          "xaxis": {
           "automargin": true,
           "gridcolor": "#283442",
           "linecolor": "#506784",
           "ticks": "",
           "title": {
            "standoff": 15
           },
           "zerolinecolor": "#283442",
           "zerolinewidth": 2
          },
          "yaxis": {
           "automargin": true,
           "gridcolor": "#283442",
           "linecolor": "#506784",
           "ticks": "",
           "title": {
            "standoff": 15
           },
           "zerolinecolor": "#283442",
           "zerolinewidth": 2
          }
         }
        },
        "title": {
         "text": "<b> Life Expectancy Versus HDI in 2019 </b>"
        },
        "xaxis": {
         "anchor": "y",
         "domain": [
          0,
          1
         ],
         "title": {
          "text": "LifeExp_2019"
         }
        },
        "yaxis": {
         "anchor": "x",
         "domain": [
          0,
          1
         ],
         "title": {
          "text": "HDI_2019"
         }
        }
       }
      }
     },
     "metadata": {},
     "output_type": "display_data"
    }
   ],
   "source": [
    "px.scatter(df,y='HDI_2019',x='LifeExp_2019',color='Country',template='plotly_dark',opacity=0.6,title='<b> Life Expectancy Versus HDI in 2019 </b>')"
   ]
  },
  {
   "cell_type": "code",
   "execution_count": 16,
   "metadata": {},
   "outputs": [
    {
     "data": {
      "application/vnd.plotly.v1+json": {
       "config": {
        "plotlyServerURL": "https://plot.ly"
       },
       "data": [
        {
         "hovertemplate": "Country=Algeria<br>LifeExp_2000=%{x}<br>Unemployment_2000=%{y}<extra></extra>",
         "legendgroup": "Algeria",
         "marker": {
          "color": "#636efa",
          "opacity": 0.6,
          "symbol": "circle"
         },
         "mode": "markers",
         "name": "Algeria",
         "orientation": "v",
         "showlegend": true,
         "type": "scatter",
         "x": [
          72.21
         ],
         "xaxis": "x",
         "y": [
          29.77
         ],
         "yaxis": "y"
        },
        {
         "hovertemplate": "Country=Angola<br>LifeExp_2000=%{x}<br>Unemployment_2000=%{y}<extra></extra>",
         "legendgroup": "Angola",
         "marker": {
          "color": "#EF553B",
          "opacity": 0.6,
          "symbol": "circle"
         },
         "mode": "markers",
         "name": "Angola",
         "orientation": "v",
         "showlegend": true,
         "type": "scatter",
         "x": [
          49.3
         ],
         "xaxis": "x",
         "y": [
          4.03
         ],
         "yaxis": "y"
        },
        {
         "hovertemplate": "Country=Benin<br>LifeExp_2000=%{x}<br>Unemployment_2000=%{y}<extra></extra>",
         "legendgroup": "Benin",
         "marker": {
          "color": "#00cc96",
          "opacity": 0.6,
          "symbol": "circle"
         },
         "mode": "markers",
         "name": "Benin",
         "orientation": "v",
         "showlegend": true,
         "type": "scatter",
         "x": [
          56.59
         ],
         "xaxis": "x",
         "y": [
          0.85
         ],
         "yaxis": "y"
        },
        {
         "hovertemplate": "Country=Botswana<br>LifeExp_2000=%{x}<br>Unemployment_2000=%{y}<extra></extra>",
         "legendgroup": "Botswana",
         "marker": {
          "color": "#ab63fa",
          "opacity": 0.6,
          "symbol": "circle"
         },
         "mode": "markers",
         "name": "Botswana",
         "orientation": "v",
         "showlegend": true,
         "type": "scatter",
         "x": [
          45.59
         ],
         "xaxis": "x",
         "y": [
          15.88
         ],
         "yaxis": "y"
        },
        {
         "hovertemplate": "Country=Burkina Faso<br>LifeExp_2000=%{x}<br>Unemployment_2000=%{y}<extra></extra>",
         "legendgroup": "Burkina Faso",
         "marker": {
          "color": "#FFA15A",
          "opacity": 0.6,
          "symbol": "circle"
         },
         "mode": "markers",
         "name": "Burkina Faso",
         "orientation": "v",
         "showlegend": true,
         "type": "scatter",
         "x": [
          51.64
         ],
         "xaxis": "x",
         "y": [
          2.61
         ],
         "yaxis": "y"
        },
        {
         "hovertemplate": "Country=Burundi<br>LifeExp_2000=%{x}<br>Unemployment_2000=%{y}<extra></extra>",
         "legendgroup": "Burundi",
         "marker": {
          "color": "#19d3f3",
          "opacity": 0.6,
          "symbol": "circle"
         },
         "mode": "markers",
         "name": "Burundi",
         "orientation": "v",
         "showlegend": true,
         "type": "scatter",
         "x": [
          43.78
         ],
         "xaxis": "x",
         "y": [
          1.59
         ],
         "yaxis": "y"
        },
        {
         "hovertemplate": "Country=Cabo Verde<br>LifeExp_2000=%{x}<br>Unemployment_2000=%{y}<extra></extra>",
         "legendgroup": "Cabo Verde",
         "marker": {
          "color": "#FF6692",
          "opacity": 0.6,
          "symbol": "circle"
         },
         "mode": "markers",
         "name": "Cabo Verde",
         "orientation": "v",
         "showlegend": true,
         "type": "scatter",
         "x": [
          70.97
         ],
         "xaxis": "x",
         "y": [
          10.98
         ],
         "yaxis": "y"
        },
        {
         "hovertemplate": "Country=Cameroon<br>LifeExp_2000=%{x}<br>Unemployment_2000=%{y}<extra></extra>",
         "legendgroup": "Cameroon",
         "marker": {
          "color": "#B6E880",
          "opacity": 0.6,
          "symbol": "circle"
         },
         "mode": "markers",
         "name": "Cameroon",
         "orientation": "v",
         "showlegend": true,
         "type": "scatter",
         "x": [
          52.82
         ],
         "xaxis": "x",
         "y": [
          7.59
         ],
         "yaxis": "y"
        },
        {
         "hovertemplate": "Country=Central African Republic<br>LifeExp_2000=%{x}<br>Unemployment_2000=%{y}<extra></extra>",
         "legendgroup": "Central African Republic",
         "marker": {
          "color": "#FF97FF",
          "opacity": 0.6,
          "symbol": "circle"
         },
         "mode": "markers",
         "name": "Central African Republic",
         "orientation": "v",
         "showlegend": true,
         "type": "scatter",
         "x": [
          44.34
         ],
         "xaxis": "x",
         "y": [
          5.61
         ],
         "yaxis": "y"
        },
        {
         "hovertemplate": "Country=Chad<br>LifeExp_2000=%{x}<br>Unemployment_2000=%{y}<extra></extra>",
         "legendgroup": "Chad",
         "marker": {
          "color": "#FECB52",
          "opacity": 0.6,
          "symbol": "circle"
         },
         "mode": "markers",
         "name": "Chad",
         "orientation": "v",
         "showlegend": true,
         "type": "scatter",
         "x": [
          51.08
         ],
         "xaxis": "x",
         "y": [
          0.81
         ],
         "yaxis": "y"
        },
        {
         "hovertemplate": "Country=Comoros<br>LifeExp_2000=%{x}<br>Unemployment_2000=%{y}<extra></extra>",
         "legendgroup": "Comoros",
         "marker": {
          "color": "#636efa",
          "opacity": 0.6,
          "symbol": "circle"
         },
         "mode": "markers",
         "name": "Comoros",
         "orientation": "v",
         "showlegend": true,
         "type": "scatter",
         "x": [
          61.51
         ],
         "xaxis": "x",
         "y": [
          4.68
         ],
         "yaxis": "y"
        },
        {
         "hovertemplate": "Country=Equatorial Guinea<br>LifeExp_2000=%{x}<br>Unemployment_2000=%{y}<extra></extra>",
         "legendgroup": "Equatorial Guinea",
         "marker": {
          "color": "#EF553B",
          "opacity": 0.6,
          "symbol": "circle"
         },
         "mode": "markers",
         "name": "Equatorial Guinea",
         "orientation": "v",
         "showlegend": true,
         "type": "scatter",
         "x": [
          54.31
         ],
         "xaxis": "x",
         "y": [
          8.45
         ],
         "yaxis": "y"
        },
        {
         "hovertemplate": "Country=Eritrea<br>LifeExp_2000=%{x}<br>Unemployment_2000=%{y}<extra></extra>",
         "legendgroup": "Eritrea",
         "marker": {
          "color": "#00cc96",
          "opacity": 0.6,
          "symbol": "circle"
         },
         "mode": "markers",
         "name": "Eritrea",
         "orientation": "v",
         "showlegend": true,
         "type": "scatter",
         "x": [
          54.51
         ],
         "xaxis": "x",
         "y": [
          5.88
         ],
         "yaxis": "y"
        },
        {
         "hovertemplate": "Country=Ethiopia<br>LifeExp_2000=%{x}<br>Unemployment_2000=%{y}<extra></extra>",
         "legendgroup": "Ethiopia",
         "marker": {
          "color": "#ab63fa",
          "opacity": 0.6,
          "symbol": "circle"
         },
         "mode": "markers",
         "name": "Ethiopia",
         "orientation": "v",
         "showlegend": true,
         "type": "scatter",
         "x": [
          50.58
         ],
         "xaxis": "x",
         "y": [
          3.51
         ],
         "yaxis": "y"
        },
        {
         "hovertemplate": "Country=Gabon<br>LifeExp_2000=%{x}<br>Unemployment_2000=%{y}<extra></extra>",
         "legendgroup": "Gabon",
         "marker": {
          "color": "#FFA15A",
          "opacity": 0.6,
          "symbol": "circle"
         },
         "mode": "markers",
         "name": "Gabon",
         "orientation": "v",
         "showlegend": true,
         "type": "scatter",
         "x": [
          58.1
         ],
         "xaxis": "x",
         "y": [
          17.34
         ],
         "yaxis": "y"
        },
        {
         "hovertemplate": "Country=Ghana<br>LifeExp_2000=%{x}<br>Unemployment_2000=%{y}<extra></extra>",
         "legendgroup": "Ghana",
         "marker": {
          "color": "#19d3f3",
          "opacity": 0.6,
          "symbol": "circle"
         },
         "mode": "markers",
         "name": "Ghana",
         "orientation": "v",
         "showlegend": true,
         "type": "scatter",
         "x": [
          59.24
         ],
         "xaxis": "x",
         "y": [
          10.46
         ],
         "yaxis": "y"
        },
        {
         "hovertemplate": "Country=Guinea<br>LifeExp_2000=%{x}<br>Unemployment_2000=%{y}<extra></extra>",
         "legendgroup": "Guinea",
         "marker": {
          "color": "#FF6692",
          "opacity": 0.6,
          "symbol": "circle"
         },
         "mode": "markers",
         "name": "Guinea",
         "orientation": "v",
         "showlegend": true,
         "type": "scatter",
         "x": [
          54.26
         ],
         "xaxis": "x",
         "y": [
          4.55
         ],
         "yaxis": "y"
        },
        {
         "hovertemplate": "Country=Guinea-Bissau<br>LifeExp_2000=%{x}<br>Unemployment_2000=%{y}<extra></extra>",
         "legendgroup": "Guinea-Bissau",
         "marker": {
          "color": "#B6E880",
          "opacity": 0.6,
          "symbol": "circle"
         },
         "mode": "markers",
         "name": "Guinea-Bissau",
         "orientation": "v",
         "showlegend": true,
         "type": "scatter",
         "x": [
          50.28
         ],
         "xaxis": "x",
         "y": [
          6.25
         ],
         "yaxis": "y"
        },
        {
         "hovertemplate": "Country=Kenya<br>LifeExp_2000=%{x}<br>Unemployment_2000=%{y}<extra></extra>",
         "legendgroup": "Kenya",
         "marker": {
          "color": "#FF97FF",
          "opacity": 0.6,
          "symbol": "circle"
         },
         "mode": "markers",
         "name": "Kenya",
         "orientation": "v",
         "showlegend": true,
         "type": "scatter",
         "x": [
          53.87
         ],
         "xaxis": "x",
         "y": [
          3.02
         ],
         "yaxis": "y"
        },
        {
         "hovertemplate": "Country=Lesotho<br>LifeExp_2000=%{x}<br>Unemployment_2000=%{y}<extra></extra>",
         "legendgroup": "Lesotho",
         "marker": {
          "color": "#FECB52",
          "opacity": 0.6,
          "symbol": "circle"
         },
         "mode": "markers",
         "name": "Lesotho",
         "orientation": "v",
         "showlegend": true,
         "type": "scatter",
         "x": [
          47.82
         ],
         "xaxis": "x",
         "y": [
          35.46
         ],
         "yaxis": "y"
        },
        {
         "hovertemplate": "Country=Liberia<br>LifeExp_2000=%{x}<br>Unemployment_2000=%{y}<extra></extra>",
         "legendgroup": "Liberia",
         "marker": {
          "color": "#636efa",
          "opacity": 0.6,
          "symbol": "circle"
         },
         "mode": "markers",
         "name": "Liberia",
         "orientation": "v",
         "showlegend": true,
         "type": "scatter",
         "x": [
          53.77
         ],
         "xaxis": "x",
         "y": [
          2.08
         ],
         "yaxis": "y"
        },
        {
         "hovertemplate": "Country=Madagascar<br>LifeExp_2000=%{x}<br>Unemployment_2000=%{y}<extra></extra>",
         "legendgroup": "Madagascar",
         "marker": {
          "color": "#EF553B",
          "opacity": 0.6,
          "symbol": "circle"
         },
         "mode": "markers",
         "name": "Madagascar",
         "orientation": "v",
         "showlegend": true,
         "type": "scatter",
         "x": [
          58.82
         ],
         "xaxis": "x",
         "y": [
          5.8
         ],
         "yaxis": "y"
        },
        {
         "hovertemplate": "Country=Malawi<br>LifeExp_2000=%{x}<br>Unemployment_2000=%{y}<extra></extra>",
         "legendgroup": "Malawi",
         "marker": {
          "color": "#00cc96",
          "opacity": 0.6,
          "symbol": "circle"
         },
         "mode": "markers",
         "name": "Malawi",
         "orientation": "v",
         "showlegend": true,
         "type": "scatter",
         "x": [
          44.73
         ],
         "xaxis": "x",
         "y": [
          5.79
         ],
         "yaxis": "y"
        },
        {
         "hovertemplate": "Country=Mali<br>LifeExp_2000=%{x}<br>Unemployment_2000=%{y}<extra></extra>",
         "legendgroup": "Mali",
         "marker": {
          "color": "#ab63fa",
          "opacity": 0.6,
          "symbol": "circle"
         },
         "mode": "markers",
         "name": "Mali",
         "orientation": "v",
         "showlegend": true,
         "type": "scatter",
         "x": [
          52.64
         ],
         "xaxis": "x",
         "y": [
          5.63
         ],
         "yaxis": "y"
        },
        {
         "hovertemplate": "Country=Mauritania<br>LifeExp_2000=%{x}<br>Unemployment_2000=%{y}<extra></extra>",
         "legendgroup": "Mauritania",
         "marker": {
          "color": "#FFA15A",
          "opacity": 0.6,
          "symbol": "circle"
         },
         "mode": "markers",
         "name": "Mauritania",
         "orientation": "v",
         "showlegend": true,
         "type": "scatter",
         "x": [
          61.96
         ],
         "xaxis": "x",
         "y": [
          9.85
         ],
         "yaxis": "y"
        },
        {
         "hovertemplate": "Country=Mauritius<br>LifeExp_2000=%{x}<br>Unemployment_2000=%{y}<extra></extra>",
         "legendgroup": "Mauritius",
         "marker": {
          "color": "#19d3f3",
          "opacity": 0.6,
          "symbol": "circle"
         },
         "mode": "markers",
         "name": "Mauritius",
         "orientation": "v",
         "showlegend": true,
         "type": "scatter",
         "x": [
          71.17
         ],
         "xaxis": "x",
         "y": [
          9.18
         ],
         "yaxis": "y"
        },
        {
         "hovertemplate": "Country=Mozambique<br>LifeExp_2000=%{x}<br>Unemployment_2000=%{y}<extra></extra>",
         "legendgroup": "Mozambique",
         "marker": {
          "color": "#FF6692",
          "opacity": 0.6,
          "symbol": "circle"
         },
         "mode": "markers",
         "name": "Mozambique",
         "orientation": "v",
         "showlegend": true,
         "type": "scatter",
         "x": [
          50.69
         ],
         "xaxis": "x",
         "y": [
          2.85
         ],
         "yaxis": "y"
        },
        {
         "hovertemplate": "Country=Namibia<br>LifeExp_2000=%{x}<br>Unemployment_2000=%{y}<extra></extra>",
         "legendgroup": "Namibia",
         "marker": {
          "color": "#B6E880",
          "opacity": 0.6,
          "symbol": "circle"
         },
         "mode": "markers",
         "name": "Namibia",
         "orientation": "v",
         "showlegend": true,
         "type": "scatter",
         "x": [
          53.32
         ],
         "xaxis": "x",
         "y": [
          20.3
         ],
         "yaxis": "y"
        },
        {
         "hovertemplate": "Country=Niger<br>LifeExp_2000=%{x}<br>Unemployment_2000=%{y}<extra></extra>",
         "legendgroup": "Niger",
         "marker": {
          "color": "#FF97FF",
          "opacity": 0.6,
          "symbol": "circle"
         },
         "mode": "markers",
         "name": "Niger",
         "orientation": "v",
         "showlegend": true,
         "type": "scatter",
         "x": [
          50.35
         ],
         "xaxis": "x",
         "y": [
          1.49
         ],
         "yaxis": "y"
        },
        {
         "hovertemplate": "Country=Nigeria<br>LifeExp_2000=%{x}<br>Unemployment_2000=%{y}<extra></extra>",
         "legendgroup": "Nigeria",
         "marker": {
          "color": "#FECB52",
          "opacity": 0.6,
          "symbol": "circle"
         },
         "mode": "markers",
         "name": "Nigeria",
         "orientation": "v",
         "showlegend": true,
         "type": "scatter",
         "x": [
          53.63
         ],
         "xaxis": "x",
         "y": [
          3.95
         ],
         "yaxis": "y"
        },
        {
         "hovertemplate": "Country=Rwanda<br>LifeExp_2000=%{x}<br>Unemployment_2000=%{y}<extra></extra>",
         "legendgroup": "Rwanda",
         "marker": {
          "color": "#636efa",
          "opacity": 0.6,
          "symbol": "circle"
         },
         "mode": "markers",
         "name": "Rwanda",
         "orientation": "v",
         "showlegend": true,
         "type": "scatter",
         "x": [
          47.51
         ],
         "xaxis": "x",
         "y": [
          0.79
         ],
         "yaxis": "y"
        },
        {
         "hovertemplate": "Country=Sao Tome and Principe<br>LifeExp_2000=%{x}<br>Unemployment_2000=%{y}<extra></extra>",
         "legendgroup": "Sao Tome and Principe",
         "marker": {
          "color": "#EF553B",
          "opacity": 0.6,
          "symbol": "circle"
         },
         "mode": "markers",
         "name": "Sao Tome and Principe",
         "orientation": "v",
         "showlegend": true,
         "type": "scatter",
         "x": [
          63.45
         ],
         "xaxis": "x",
         "y": [
          14.4
         ],
         "yaxis": "y"
        },
        {
         "hovertemplate": "Country=Senegal<br>LifeExp_2000=%{x}<br>Unemployment_2000=%{y}<extra></extra>",
         "legendgroup": "Senegal",
         "marker": {
          "color": "#00cc96",
          "opacity": 0.6,
          "symbol": "circle"
         },
         "mode": "markers",
         "name": "Senegal",
         "orientation": "v",
         "showlegend": true,
         "type": "scatter",
         "x": [
          58.6
         ],
         "xaxis": "x",
         "y": [
          5.61
         ],
         "yaxis": "y"
        },
        {
         "hovertemplate": "Country=Sierra Leone<br>LifeExp_2000=%{x}<br>Unemployment_2000=%{y}<extra></extra>",
         "legendgroup": "Sierra Leone",
         "marker": {
          "color": "#ab63fa",
          "opacity": 0.6,
          "symbol": "circle"
         },
         "mode": "markers",
         "name": "Sierra Leone",
         "orientation": "v",
         "showlegend": true,
         "type": "scatter",
         "x": [
          48.73
         ],
         "xaxis": "x",
         "y": [
          3.43
         ],
         "yaxis": "y"
        },
        {
         "hovertemplate": "Country=South Africa<br>LifeExp_2000=%{x}<br>Unemployment_2000=%{y}<extra></extra>",
         "legendgroup": "South Africa",
         "marker": {
          "color": "#FFA15A",
          "opacity": 0.6,
          "symbol": "circle"
         },
         "mode": "markers",
         "name": "South Africa",
         "orientation": "v",
         "showlegend": true,
         "type": "scatter",
         "x": [
          55.75
         ],
         "xaxis": "x",
         "y": [
          29.88
         ],
         "yaxis": "y"
        },
        {
         "hovertemplate": "Country=South Sudan<br>LifeExp_2000=%{x}<br>Unemployment_2000=%{y}<extra></extra>",
         "legendgroup": "South Sudan",
         "marker": {
          "color": "#19d3f3",
          "opacity": 0.6,
          "symbol": "circle"
         },
         "mode": "markers",
         "name": "South Sudan",
         "orientation": "v",
         "showlegend": true,
         "type": "scatter",
         "x": [
          54.15
         ],
         "xaxis": "x",
         "y": [
          12.06
         ],
         "yaxis": "y"
        },
        {
         "hovertemplate": "Country=Togo<br>LifeExp_2000=%{x}<br>Unemployment_2000=%{y}<extra></extra>",
         "legendgroup": "Togo",
         "marker": {
          "color": "#FF6692",
          "opacity": 0.6,
          "symbol": "circle"
         },
         "mode": "markers",
         "name": "Togo",
         "orientation": "v",
         "showlegend": true,
         "type": "scatter",
         "x": [
          55.95
         ],
         "xaxis": "x",
         "y": [
          3.98
         ],
         "yaxis": "y"
        },
        {
         "hovertemplate": "Country=Uganda<br>LifeExp_2000=%{x}<br>Unemployment_2000=%{y}<extra></extra>",
         "legendgroup": "Uganda",
         "marker": {
          "color": "#B6E880",
          "opacity": 0.6,
          "symbol": "circle"
         },
         "mode": "markers",
         "name": "Uganda",
         "orientation": "v",
         "showlegend": true,
         "type": "scatter",
         "x": [
          48.76
         ],
         "xaxis": "x",
         "y": [
          3.03
         ],
         "yaxis": "y"
        },
        {
         "hovertemplate": "Country=Zambia<br>LifeExp_2000=%{x}<br>Unemployment_2000=%{y}<extra></extra>",
         "legendgroup": "Zambia",
         "marker": {
          "color": "#FF97FF",
          "opacity": 0.6,
          "symbol": "circle"
         },
         "mode": "markers",
         "name": "Zambia",
         "orientation": "v",
         "showlegend": true,
         "type": "scatter",
         "x": [
          44.46
         ],
         "xaxis": "x",
         "y": [
          12.93
         ],
         "yaxis": "y"
        },
        {
         "hovertemplate": "Country=Zimbabwe<br>LifeExp_2000=%{x}<br>Unemployment_2000=%{y}<extra></extra>",
         "legendgroup": "Zimbabwe",
         "marker": {
          "color": "#FECB52",
          "opacity": 0.6,
          "symbol": "circle"
         },
         "mode": "markers",
         "name": "Zimbabwe",
         "orientation": "v",
         "showlegend": true,
         "type": "scatter",
         "x": [
          46.57
         ],
         "xaxis": "x",
         "y": [
          5.69
         ],
         "yaxis": "y"
        },
        {
         "hovertemplate": "Country=Argentina<br>LifeExp_2000=%{x}<br>Unemployment_2000=%{y}<extra></extra>",
         "legendgroup": "Argentina",
         "marker": {
          "color": "#636efa",
          "opacity": 0.6,
          "symbol": "circle"
         },
         "mode": "markers",
         "name": "Argentina",
         "orientation": "v",
         "showlegend": true,
         "type": "scatter",
         "x": [
          74.09
         ],
         "xaxis": "x",
         "y": [
          15
         ],
         "yaxis": "y"
        },
        {
         "hovertemplate": "Country=Barbados<br>LifeExp_2000=%{x}<br>Unemployment_2000=%{y}<extra></extra>",
         "legendgroup": "Barbados",
         "marker": {
          "color": "#EF553B",
          "opacity": 0.6,
          "symbol": "circle"
         },
         "mode": "markers",
         "name": "Barbados",
         "orientation": "v",
         "showlegend": true,
         "type": "scatter",
         "x": [
          74.5
         ],
         "xaxis": "x",
         "y": [
          9.35
         ],
         "yaxis": "y"
        },
        {
         "hovertemplate": "Country=Belize<br>LifeExp_2000=%{x}<br>Unemployment_2000=%{y}<extra></extra>",
         "legendgroup": "Belize",
         "marker": {
          "color": "#00cc96",
          "opacity": 0.6,
          "symbol": "circle"
         },
         "mode": "markers",
         "name": "Belize",
         "orientation": "v",
         "showlegend": true,
         "type": "scatter",
         "x": [
          70.34
         ],
         "xaxis": "x",
         "y": [
          10.85
         ],
         "yaxis": "y"
        },
        {
         "hovertemplate": "Country=Brazil<br>LifeExp_2000=%{x}<br>Unemployment_2000=%{y}<extra></extra>",
         "legendgroup": "Brazil",
         "marker": {
          "color": "#ab63fa",
          "opacity": 0.6,
          "symbol": "circle"
         },
         "mode": "markers",
         "name": "Brazil",
         "orientation": "v",
         "showlegend": true,
         "type": "scatter",
         "x": [
          71.47
         ],
         "xaxis": "x",
         "y": [
          9.56
         ],
         "yaxis": "y"
        },
        {
         "hovertemplate": "Country=Canada<br>LifeExp_2000=%{x}<br>Unemployment_2000=%{y}<extra></extra>",
         "legendgroup": "Canada",
         "marker": {
          "color": "#FFA15A",
          "opacity": 0.6,
          "symbol": "circle"
         },
         "mode": "markers",
         "name": "Canada",
         "orientation": "v",
         "showlegend": true,
         "type": "scatter",
         "x": [
          79.1
         ],
         "xaxis": "x",
         "y": [
          6.83
         ],
         "yaxis": "y"
        },
        {
         "hovertemplate": "Country=Chile<br>LifeExp_2000=%{x}<br>Unemployment_2000=%{y}<extra></extra>",
         "legendgroup": "Chile",
         "marker": {
          "color": "#19d3f3",
          "opacity": 0.6,
          "symbol": "circle"
         },
         "mode": "markers",
         "name": "Chile",
         "orientation": "v",
         "showlegend": true,
         "type": "scatter",
         "x": [
          76.77
         ],
         "xaxis": "x",
         "y": [
          10.49
         ],
         "yaxis": "y"
        },
        {
         "hovertemplate": "Country=Colombia<br>LifeExp_2000=%{x}<br>Unemployment_2000=%{y}<extra></extra>",
         "legendgroup": "Colombia",
         "marker": {
          "color": "#FF6692",
          "opacity": 0.6,
          "symbol": "circle"
         },
         "mode": "markers",
         "name": "Colombia",
         "orientation": "v",
         "showlegend": true,
         "type": "scatter",
         "x": [
          73.75
         ],
         "xaxis": "x",
         "y": [
          20.52
         ],
         "yaxis": "y"
        },
        {
         "hovertemplate": "Country=Costa Rica<br>LifeExp_2000=%{x}<br>Unemployment_2000=%{y}<extra></extra>",
         "legendgroup": "Costa Rica",
         "marker": {
          "color": "#B6E880",
          "opacity": 0.6,
          "symbol": "circle"
         },
         "mode": "markers",
         "name": "Costa Rica",
         "orientation": "v",
         "showlegend": true,
         "type": "scatter",
         "x": [
          78
         ],
         "xaxis": "x",
         "y": [
          5.08
         ],
         "yaxis": "y"
        },
        {
         "hovertemplate": "Country=Cuba<br>LifeExp_2000=%{x}<br>Unemployment_2000=%{y}<extra></extra>",
         "legendgroup": "Cuba",
         "marker": {
          "color": "#FF97FF",
          "opacity": 0.6,
          "symbol": "circle"
         },
         "mode": "markers",
         "name": "Cuba",
         "orientation": "v",
         "showlegend": true,
         "type": "scatter",
         "x": [
          76.76
         ],
         "xaxis": "x",
         "y": [
          5.45
         ],
         "yaxis": "y"
        },
        {
         "hovertemplate": "Country=Dominican Republic<br>LifeExp_2000=%{x}<br>Unemployment_2000=%{y}<extra></extra>",
         "legendgroup": "Dominican Republic",
         "marker": {
          "color": "#FECB52",
          "opacity": 0.6,
          "symbol": "circle"
         },
         "mode": "markers",
         "name": "Dominican Republic",
         "orientation": "v",
         "showlegend": true,
         "type": "scatter",
         "x": [
          73.22
         ],
         "xaxis": "x",
         "y": [
          6.43
         ],
         "yaxis": "y"
        },
        {
         "hovertemplate": "Country=Ecuador<br>LifeExp_2000=%{x}<br>Unemployment_2000=%{y}<extra></extra>",
         "legendgroup": "Ecuador",
         "marker": {
          "color": "#636efa",
          "opacity": 0.6,
          "symbol": "circle"
         },
         "mode": "markers",
         "name": "Ecuador",
         "orientation": "v",
         "showlegend": true,
         "type": "scatter",
         "x": [
          74.53
         ],
         "xaxis": "x",
         "y": [
          4.8
         ],
         "yaxis": "y"
        },
        {
         "hovertemplate": "Country=El Salvador<br>LifeExp_2000=%{x}<br>Unemployment_2000=%{y}<extra></extra>",
         "legendgroup": "El Salvador",
         "marker": {
          "color": "#EF553B",
          "opacity": 0.6,
          "symbol": "circle"
         },
         "mode": "markers",
         "name": "El Salvador",
         "orientation": "v",
         "showlegend": true,
         "type": "scatter",
         "x": [
          72.5
         ],
         "xaxis": "x",
         "y": [
          6.96
         ],
         "yaxis": "y"
        },
        {
         "hovertemplate": "Country=Guatemala<br>LifeExp_2000=%{x}<br>Unemployment_2000=%{y}<extra></extra>",
         "legendgroup": "Guatemala",
         "marker": {
          "color": "#00cc96",
          "opacity": 0.6,
          "symbol": "circle"
         },
         "mode": "markers",
         "name": "Guatemala",
         "orientation": "v",
         "showlegend": true,
         "type": "scatter",
         "x": [
          66.78
         ],
         "xaxis": "x",
         "y": [
          2.72
         ],
         "yaxis": "y"
        },
        {
         "hovertemplate": "Country=Guyana<br>LifeExp_2000=%{x}<br>Unemployment_2000=%{y}<extra></extra>",
         "legendgroup": "Guyana",
         "marker": {
          "color": "#ab63fa",
          "opacity": 0.6,
          "symbol": "circle"
         },
         "mode": "markers",
         "name": "Guyana",
         "orientation": "v",
         "showlegend": true,
         "type": "scatter",
         "x": [
          62.96
         ],
         "xaxis": "x",
         "y": [
          11.86
         ],
         "yaxis": "y"
        },
        {
         "hovertemplate": "Country=Haiti<br>LifeExp_2000=%{x}<br>Unemployment_2000=%{y}<extra></extra>",
         "legendgroup": "Haiti",
         "marker": {
          "color": "#FFA15A",
          "opacity": 0.6,
          "symbol": "circle"
         },
         "mode": "markers",
         "name": "Haiti",
         "orientation": "v",
         "showlegend": true,
         "type": "scatter",
         "x": [
          57.05
         ],
         "xaxis": "x",
         "y": [
          8.4
         ],
         "yaxis": "y"
        },
        {
         "hovertemplate": "Country=Honduras<br>LifeExp_2000=%{x}<br>Unemployment_2000=%{y}<extra></extra>",
         "legendgroup": "Honduras",
         "marker": {
          "color": "#19d3f3",
          "opacity": 0.6,
          "symbol": "circle"
         },
         "mode": "markers",
         "name": "Honduras",
         "orientation": "v",
         "showlegend": true,
         "type": "scatter",
         "x": [
          70.04
         ],
         "xaxis": "x",
         "y": [
          3.84
         ],
         "yaxis": "y"
        },
        {
         "hovertemplate": "Country=Jamaica<br>LifeExp_2000=%{x}<br>Unemployment_2000=%{y}<extra></extra>",
         "legendgroup": "Jamaica",
         "marker": {
          "color": "#FF6692",
          "opacity": 0.6,
          "symbol": "circle"
         },
         "mode": "markers",
         "name": "Jamaica",
         "orientation": "v",
         "showlegend": true,
         "type": "scatter",
         "x": [
          74.22
         ],
         "xaxis": "x",
         "y": [
          15.54
         ],
         "yaxis": "y"
        },
        {
         "hovertemplate": "Country=Mexico<br>LifeExp_2000=%{x}<br>Unemployment_2000=%{y}<extra></extra>",
         "legendgroup": "Mexico",
         "marker": {
          "color": "#B6E880",
          "opacity": 0.6,
          "symbol": "circle"
         },
         "mode": "markers",
         "name": "Mexico",
         "orientation": "v",
         "showlegend": true,
         "type": "scatter",
         "x": [
          74.41
         ],
         "xaxis": "x",
         "y": [
          2.65
         ],
         "yaxis": "y"
        },
        {
         "hovertemplate": "Country=Nicaragua<br>LifeExp_2000=%{x}<br>Unemployment_2000=%{y}<extra></extra>",
         "legendgroup": "Nicaragua",
         "marker": {
          "color": "#FF97FF",
          "opacity": 0.6,
          "symbol": "circle"
         },
         "mode": "markers",
         "name": "Nicaragua",
         "orientation": "v",
         "showlegend": true,
         "type": "scatter",
         "x": [
          73.26
         ],
         "xaxis": "x",
         "y": [
          7.35
         ],
         "yaxis": "y"
        },
        {
         "hovertemplate": "Country=Panama<br>LifeExp_2000=%{x}<br>Unemployment_2000=%{y}<extra></extra>",
         "legendgroup": "Panama",
         "marker": {
          "color": "#FECB52",
          "opacity": 0.6,
          "symbol": "circle"
         },
         "mode": "markers",
         "name": "Panama",
         "orientation": "v",
         "showlegend": true,
         "type": "scatter",
         "x": [
          77.23
         ],
         "xaxis": "x",
         "y": [
          3.81
         ],
         "yaxis": "y"
        },
        {
         "hovertemplate": "Country=Paraguay<br>LifeExp_2000=%{x}<br>Unemployment_2000=%{y}<extra></extra>",
         "legendgroup": "Paraguay",
         "marker": {
          "color": "#636efa",
          "opacity": 0.6,
          "symbol": "circle"
         },
         "mode": "markers",
         "name": "Paraguay",
         "orientation": "v",
         "showlegend": true,
         "type": "scatter",
         "x": [
          74.8
         ],
         "xaxis": "x",
         "y": [
          7.61
         ],
         "yaxis": "y"
        },
        {
         "hovertemplate": "Country=Peru<br>LifeExp_2000=%{x}<br>Unemployment_2000=%{y}<extra></extra>",
         "legendgroup": "Peru",
         "marker": {
          "color": "#EF553B",
          "opacity": 0.6,
          "symbol": "circle"
         },
         "mode": "markers",
         "name": "Peru",
         "orientation": "v",
         "showlegend": true,
         "type": "scatter",
         "x": [
          74.42
         ],
         "xaxis": "x",
         "y": [
          4.88
         ],
         "yaxis": "y"
        },
        {
         "hovertemplate": "Country=Suriname<br>LifeExp_2000=%{x}<br>Unemployment_2000=%{y}<extra></extra>",
         "legendgroup": "Suriname",
         "marker": {
          "color": "#00cc96",
          "opacity": 0.6,
          "symbol": "circle"
         },
         "mode": "markers",
         "name": "Suriname",
         "orientation": "v",
         "showlegend": true,
         "type": "scatter",
         "x": [
          69.94
         ],
         "xaxis": "x",
         "y": [
          12.74
         ],
         "yaxis": "y"
        },
        {
         "hovertemplate": "Country=Trinidad and Tobago<br>LifeExp_2000=%{x}<br>Unemployment_2000=%{y}<extra></extra>",
         "legendgroup": "Trinidad and Tobago",
         "marker": {
          "color": "#ab63fa",
          "opacity": 0.6,
          "symbol": "circle"
         },
         "mode": "markers",
         "name": "Trinidad and Tobago",
         "orientation": "v",
         "showlegend": true,
         "type": "scatter",
         "x": [
          69.7
         ],
         "xaxis": "x",
         "y": [
          12.1
         ],
         "yaxis": "y"
        },
        {
         "hovertemplate": "Country=Uruguay<br>LifeExp_2000=%{x}<br>Unemployment_2000=%{y}<extra></extra>",
         "legendgroup": "Uruguay",
         "marker": {
          "color": "#FFA15A",
          "opacity": 0.6,
          "symbol": "circle"
         },
         "mode": "markers",
         "name": "Uruguay",
         "orientation": "v",
         "showlegend": true,
         "type": "scatter",
         "x": [
          74.82
         ],
         "xaxis": "x",
         "y": [
          12.63
         ],
         "yaxis": "y"
        },
        {
         "hovertemplate": "Country=Afghanistan<br>LifeExp_2000=%{x}<br>Unemployment_2000=%{y}<extra></extra>",
         "legendgroup": "Afghanistan",
         "marker": {
          "color": "#19d3f3",
          "opacity": 0.6,
          "symbol": "circle"
         },
         "mode": "markers",
         "name": "Afghanistan",
         "orientation": "v",
         "showlegend": true,
         "type": "scatter",
         "x": [
          54.99
         ],
         "xaxis": "x",
         "y": [
          10.81
         ],
         "yaxis": "y"
        },
        {
         "hovertemplate": "Country=Bahrain<br>LifeExp_2000=%{x}<br>Unemployment_2000=%{y}<extra></extra>",
         "legendgroup": "Bahrain",
         "marker": {
          "color": "#FF6692",
          "opacity": 0.6,
          "symbol": "circle"
         },
         "mode": "markers",
         "name": "Bahrain",
         "orientation": "v",
         "showlegend": true,
         "type": "scatter",
         "x": [
          70.47
         ],
         "xaxis": "x",
         "y": [
          1.08
         ],
         "yaxis": "y"
        },
        {
         "hovertemplate": "Country=Djibouti<br>LifeExp_2000=%{x}<br>Unemployment_2000=%{y}<extra></extra>",
         "legendgroup": "Djibouti",
         "marker": {
          "color": "#B6E880",
          "opacity": 0.6,
          "symbol": "circle"
         },
         "mode": "markers",
         "name": "Djibouti",
         "orientation": "v",
         "showlegend": true,
         "type": "scatter",
         "x": [
          59.84
         ],
         "xaxis": "x",
         "y": [
          28.34
         ],
         "yaxis": "y"
        },
        {
         "hovertemplate": "Country=Iraq<br>LifeExp_2000=%{x}<br>Unemployment_2000=%{y}<extra></extra>",
         "legendgroup": "Iraq",
         "marker": {
          "color": "#FF97FF",
          "opacity": 0.6,
          "symbol": "circle"
         },
         "mode": "markers",
         "name": "Iraq",
         "orientation": "v",
         "showlegend": true,
         "type": "scatter",
         "x": [
          68.77
         ],
         "xaxis": "x",
         "y": [
          8.73
         ],
         "yaxis": "y"
        },
        {
         "hovertemplate": "Country=Jordan<br>LifeExp_2000=%{x}<br>Unemployment_2000=%{y}<extra></extra>",
         "legendgroup": "Jordan",
         "marker": {
          "color": "#FECB52",
          "opacity": 0.6,
          "symbol": "circle"
         },
         "mode": "markers",
         "name": "Jordan",
         "orientation": "v",
         "showlegend": true,
         "type": "scatter",
         "x": [
          72.65
         ],
         "xaxis": "x",
         "y": [
          13.7
         ],
         "yaxis": "y"
        },
        {
         "hovertemplate": "Country=Kuwait<br>LifeExp_2000=%{x}<br>Unemployment_2000=%{y}<extra></extra>",
         "legendgroup": "Kuwait",
         "marker": {
          "color": "#636efa",
          "opacity": 0.6,
          "symbol": "circle"
         },
         "mode": "markers",
         "name": "Kuwait",
         "orientation": "v",
         "showlegend": true,
         "type": "scatter",
         "x": [
          77.86
         ],
         "xaxis": "x",
         "y": [
          0.8
         ],
         "yaxis": "y"
        },
        {
         "hovertemplate": "Country=Lebanon<br>LifeExp_2000=%{x}<br>Unemployment_2000=%{y}<extra></extra>",
         "legendgroup": "Lebanon",
         "marker": {
          "color": "#EF553B",
          "opacity": 0.6,
          "symbol": "circle"
         },
         "mode": "markers",
         "name": "Lebanon",
         "orientation": "v",
         "showlegend": true,
         "type": "scatter",
         "x": [
          74.61
         ],
         "xaxis": "x",
         "y": [
          8.31
         ],
         "yaxis": "y"
        },
        {
         "hovertemplate": "Country=Libya<br>LifeExp_2000=%{x}<br>Unemployment_2000=%{y}<extra></extra>",
         "legendgroup": "Libya",
         "marker": {
          "color": "#00cc96",
          "opacity": 0.6,
          "symbol": "circle"
         },
         "mode": "markers",
         "name": "Libya",
         "orientation": "v",
         "showlegend": true,
         "type": "scatter",
         "x": [
          74.4
         ],
         "xaxis": "x",
         "y": [
          19.67
         ],
         "yaxis": "y"
        },
        {
         "hovertemplate": "Country=Morocco<br>LifeExp_2000=%{x}<br>Unemployment_2000=%{y}<extra></extra>",
         "legendgroup": "Morocco",
         "marker": {
          "color": "#ab63fa",
          "opacity": 0.6,
          "symbol": "circle"
         },
         "mode": "markers",
         "name": "Morocco",
         "orientation": "v",
         "showlegend": true,
         "type": "scatter",
         "x": [
          69.35
         ],
         "xaxis": "x",
         "y": [
          13.58
         ],
         "yaxis": "y"
        },
        {
         "hovertemplate": "Country=Oman<br>LifeExp_2000=%{x}<br>Unemployment_2000=%{y}<extra></extra>",
         "legendgroup": "Oman",
         "marker": {
          "color": "#FFA15A",
          "opacity": 0.6,
          "symbol": "circle"
         },
         "mode": "markers",
         "name": "Oman",
         "orientation": "v",
         "showlegend": true,
         "type": "scatter",
         "x": [
          69.07
         ],
         "xaxis": "x",
         "y": [
          4.09
         ],
         "yaxis": "y"
        },
        {
         "hovertemplate": "Country=Pakistan<br>LifeExp_2000=%{x}<br>Unemployment_2000=%{y}<extra></extra>",
         "legendgroup": "Pakistan",
         "marker": {
          "color": "#19d3f3",
          "opacity": 0.6,
          "symbol": "circle"
         },
         "mode": "markers",
         "name": "Pakistan",
         "orientation": "v",
         "showlegend": true,
         "type": "scatter",
         "x": [
          60.08
         ],
         "xaxis": "x",
         "y": [
          0.58
         ],
         "yaxis": "y"
        },
        {
         "hovertemplate": "Country=Qatar<br>LifeExp_2000=%{x}<br>Unemployment_2000=%{y}<extra></extra>",
         "legendgroup": "Qatar",
         "marker": {
          "color": "#FF6692",
          "opacity": 0.6,
          "symbol": "circle"
         },
         "mode": "markers",
         "name": "Qatar",
         "orientation": "v",
         "showlegend": true,
         "type": "scatter",
         "x": [
          71.29
         ],
         "xaxis": "x",
         "y": [
          0.84
         ],
         "yaxis": "y"
        },
        {
         "hovertemplate": "Country=Saudi Arabia<br>LifeExp_2000=%{x}<br>Unemployment_2000=%{y}<extra></extra>",
         "legendgroup": "Saudi Arabia",
         "marker": {
          "color": "#B6E880",
          "opacity": 0.6,
          "symbol": "circle"
         },
         "mode": "markers",
         "name": "Saudi Arabia",
         "orientation": "v",
         "showlegend": true,
         "type": "scatter",
         "x": [
          70.52
         ],
         "xaxis": "x",
         "y": [
          4.57
         ],
         "yaxis": "y"
        },
        {
         "hovertemplate": "Country=Sudan<br>LifeExp_2000=%{x}<br>Unemployment_2000=%{y}<extra></extra>",
         "legendgroup": "Sudan",
         "marker": {
          "color": "#FF97FF",
          "opacity": 0.6,
          "symbol": "circle"
         },
         "mode": "markers",
         "name": "Sudan",
         "orientation": "v",
         "showlegend": true,
         "type": "scatter",
         "x": [
          62.47
         ],
         "xaxis": "x",
         "y": [
          15.23
         ],
         "yaxis": "y"
        },
        {
         "hovertemplate": "Country=Syrian Arab Republic<br>LifeExp_2000=%{x}<br>Unemployment_2000=%{y}<extra></extra>",
         "legendgroup": "Syrian Arab Republic",
         "marker": {
          "color": "#FECB52",
          "opacity": 0.6,
          "symbol": "circle"
         },
         "mode": "markers",
         "name": "Syrian Arab Republic",
         "orientation": "v",
         "showlegend": true,
         "type": "scatter",
         "x": [
          71.46
         ],
         "xaxis": "x",
         "y": [
          9.6
         ],
         "yaxis": "y"
        },
        {
         "hovertemplate": "Country=Tunisia<br>LifeExp_2000=%{x}<br>Unemployment_2000=%{y}<extra></extra>",
         "legendgroup": "Tunisia",
         "marker": {
          "color": "#636efa",
          "opacity": 0.6,
          "symbol": "circle"
         },
         "mode": "markers",
         "name": "Tunisia",
         "orientation": "v",
         "showlegend": true,
         "type": "scatter",
         "x": [
          74.12
         ],
         "xaxis": "x",
         "y": [
          14.94
         ],
         "yaxis": "y"
        },
        {
         "hovertemplate": "Country=United Arab Emirates<br>LifeExp_2000=%{x}<br>Unemployment_2000=%{y}<extra></extra>",
         "legendgroup": "United Arab Emirates",
         "marker": {
          "color": "#EF553B",
          "opacity": 0.6,
          "symbol": "circle"
         },
         "mode": "markers",
         "name": "United Arab Emirates",
         "orientation": "v",
         "showlegend": true,
         "type": "scatter",
         "x": [
          73.18
         ],
         "xaxis": "x",
         "y": [
          2.25
         ],
         "yaxis": "y"
        },
        {
         "hovertemplate": "Country=Albania<br>LifeExp_2000=%{x}<br>Unemployment_2000=%{y}<extra></extra>",
         "legendgroup": "Albania",
         "marker": {
          "color": "#00cc96",
          "opacity": 0.6,
          "symbol": "circle"
         },
         "mode": "markers",
         "name": "Albania",
         "orientation": "v",
         "showlegend": true,
         "type": "scatter",
         "x": [
          73.55
         ],
         "xaxis": "x",
         "y": [
          19.03
         ],
         "yaxis": "y"
        },
        {
         "hovertemplate": "Country=Armenia<br>LifeExp_2000=%{x}<br>Unemployment_2000=%{y}<extra></extra>",
         "legendgroup": "Armenia",
         "marker": {
          "color": "#ab63fa",
          "opacity": 0.6,
          "symbol": "circle"
         },
         "mode": "markers",
         "name": "Armenia",
         "orientation": "v",
         "showlegend": true,
         "type": "scatter",
         "x": [
          71.88
         ],
         "xaxis": "x",
         "y": [
          11.05
         ],
         "yaxis": "y"
        },
        {
         "hovertemplate": "Country=Austria<br>LifeExp_2000=%{x}<br>Unemployment_2000=%{y}<extra></extra>",
         "legendgroup": "Austria",
         "marker": {
          "color": "#FFA15A",
          "opacity": 0.6,
          "symbol": "circle"
         },
         "mode": "markers",
         "name": "Austria",
         "orientation": "v",
         "showlegend": true,
         "type": "scatter",
         "x": [
          78.17
         ],
         "xaxis": "x",
         "y": [
          4.69
         ],
         "yaxis": "y"
        },
        {
         "hovertemplate": "Country=Azerbaijan<br>LifeExp_2000=%{x}<br>Unemployment_2000=%{y}<extra></extra>",
         "legendgroup": "Azerbaijan",
         "marker": {
          "color": "#19d3f3",
          "opacity": 0.6,
          "symbol": "circle"
         },
         "mode": "markers",
         "name": "Azerbaijan",
         "orientation": "v",
         "showlegend": true,
         "type": "scatter",
         "x": [
          65.52
         ],
         "xaxis": "x",
         "y": [
          11.78
         ],
         "yaxis": "y"
        },
        {
         "hovertemplate": "Country=Belarus<br>LifeExp_2000=%{x}<br>Unemployment_2000=%{y}<extra></extra>",
         "legendgroup": "Belarus",
         "marker": {
          "color": "#FF6692",
          "opacity": 0.6,
          "symbol": "circle"
         },
         "mode": "markers",
         "name": "Belarus",
         "orientation": "v",
         "showlegend": true,
         "type": "scatter",
         "x": [
          68.85
         ],
         "xaxis": "x",
         "y": [
          12.26
         ],
         "yaxis": "y"
        },
        {
         "hovertemplate": "Country=Belgium<br>LifeExp_2000=%{x}<br>Unemployment_2000=%{y}<extra></extra>",
         "legendgroup": "Belgium",
         "marker": {
          "color": "#B6E880",
          "opacity": 0.6,
          "symbol": "circle"
         },
         "mode": "markers",
         "name": "Belgium",
         "orientation": "v",
         "showlegend": true,
         "type": "scatter",
         "x": [
          77.66
         ],
         "xaxis": "x",
         "y": [
          6.59
         ],
         "yaxis": "y"
        },
        {
         "hovertemplate": "Country=Bosnia and Herzegovina<br>LifeExp_2000=%{x}<br>Unemployment_2000=%{y}<extra></extra>",
         "legendgroup": "Bosnia and Herzegovina",
         "marker": {
          "color": "#FF97FF",
          "opacity": 0.6,
          "symbol": "circle"
         },
         "mode": "markers",
         "name": "Bosnia and Herzegovina",
         "orientation": "v",
         "showlegend": true,
         "type": "scatter",
         "x": [
          75.42
         ],
         "xaxis": "x",
         "y": [
          25.78
         ],
         "yaxis": "y"
        },
        {
         "hovertemplate": "Country=Bulgaria<br>LifeExp_2000=%{x}<br>Unemployment_2000=%{y}<extra></extra>",
         "legendgroup": "Bulgaria",
         "marker": {
          "color": "#FECB52",
          "opacity": 0.6,
          "symbol": "circle"
         },
         "mode": "markers",
         "name": "Bulgaria",
         "orientation": "v",
         "showlegend": true,
         "type": "scatter",
         "x": [
          71.61
         ],
         "xaxis": "x",
         "y": [
          16.22
         ],
         "yaxis": "y"
        },
        {
         "hovertemplate": "Country=Croatia<br>LifeExp_2000=%{x}<br>Unemployment_2000=%{y}<extra></extra>",
         "legendgroup": "Croatia",
         "marker": {
          "color": "#636efa",
          "opacity": 0.6,
          "symbol": "circle"
         },
         "mode": "markers",
         "name": "Croatia",
         "orientation": "v",
         "showlegend": true,
         "type": "scatter",
         "x": [
          74.36
         ],
         "xaxis": "x",
         "y": [
          16.06
         ],
         "yaxis": "y"
        },
        {
         "hovertemplate": "Country=Cyprus<br>LifeExp_2000=%{x}<br>Unemployment_2000=%{y}<extra></extra>",
         "legendgroup": "Cyprus",
         "marker": {
          "color": "#EF553B",
          "opacity": 0.6,
          "symbol": "circle"
         },
         "mode": "markers",
         "name": "Cyprus",
         "orientation": "v",
         "showlegend": true,
         "type": "scatter",
         "x": [
          78.75
         ],
         "xaxis": "x",
         "y": [
          4.97
         ],
         "yaxis": "y"
        },
        {
         "hovertemplate": "Country=Denmark<br>LifeExp_2000=%{x}<br>Unemployment_2000=%{y}<extra></extra>",
         "legendgroup": "Denmark",
         "marker": {
          "color": "#00cc96",
          "opacity": 0.6,
          "symbol": "circle"
         },
         "mode": "markers",
         "name": "Denmark",
         "orientation": "v",
         "showlegend": true,
         "type": "scatter",
         "x": [
          76.93
         ],
         "xaxis": "x",
         "y": [
          4.48
         ],
         "yaxis": "y"
        },
        {
         "hovertemplate": "Country=Estonia<br>LifeExp_2000=%{x}<br>Unemployment_2000=%{y}<extra></extra>",
         "legendgroup": "Estonia",
         "marker": {
          "color": "#ab63fa",
          "opacity": 0.6,
          "symbol": "circle"
         },
         "mode": "markers",
         "name": "Estonia",
         "orientation": "v",
         "showlegend": true,
         "type": "scatter",
         "x": [
          70.94
         ],
         "xaxis": "x",
         "y": [
          13.36
         ],
         "yaxis": "y"
        },
        {
         "hovertemplate": "Country=Finland<br>LifeExp_2000=%{x}<br>Unemployment_2000=%{y}<extra></extra>",
         "legendgroup": "Finland",
         "marker": {
          "color": "#FFA15A",
          "opacity": 0.6,
          "symbol": "circle"
         },
         "mode": "markers",
         "name": "Finland",
         "orientation": "v",
         "showlegend": true,
         "type": "scatter",
         "x": [
          77.6
         ],
         "xaxis": "x",
         "y": [
          11.13
         ],
         "yaxis": "y"
        },
        {
         "hovertemplate": "Country=France<br>LifeExp_2000=%{x}<br>Unemployment_2000=%{y}<extra></extra>",
         "legendgroup": "France",
         "marker": {
          "color": "#19d3f3",
          "opacity": 0.6,
          "symbol": "circle"
         },
         "mode": "markers",
         "name": "France",
         "orientation": "v",
         "showlegend": true,
         "type": "scatter",
         "x": [
          78.91
         ],
         "xaxis": "x",
         "y": [
          10.22
         ],
         "yaxis": "y"
        },
        {
         "hovertemplate": "Country=Georgia<br>LifeExp_2000=%{x}<br>Unemployment_2000=%{y}<extra></extra>",
         "legendgroup": "Georgia",
         "marker": {
          "color": "#FF6692",
          "opacity": 0.6,
          "symbol": "circle"
         },
         "mode": "markers",
         "name": "Georgia",
         "orientation": "v",
         "showlegend": true,
         "type": "scatter",
         "x": [
          69.41
         ],
         "xaxis": "x",
         "y": [
          10.82
         ],
         "yaxis": "y"
        },
        {
         "hovertemplate": "Country=Germany<br>LifeExp_2000=%{x}<br>Unemployment_2000=%{y}<extra></extra>",
         "legendgroup": "Germany",
         "marker": {
          "color": "#B6E880",
          "opacity": 0.6,
          "symbol": "circle"
         },
         "mode": "markers",
         "name": "Germany",
         "orientation": "v",
         "showlegend": true,
         "type": "scatter",
         "x": [
          78.09
         ],
         "xaxis": "x",
         "y": [
          7.92
         ],
         "yaxis": "y"
        },
        {
         "hovertemplate": "Country=Greece<br>LifeExp_2000=%{x}<br>Unemployment_2000=%{y}<extra></extra>",
         "legendgroup": "Greece",
         "marker": {
          "color": "#FF97FF",
          "opacity": 0.6,
          "symbol": "circle"
         },
         "mode": "markers",
         "name": "Greece",
         "orientation": "v",
         "showlegend": true,
         "type": "scatter",
         "x": [
          78.17
         ],
         "xaxis": "x",
         "y": [
          11.25
         ],
         "yaxis": "y"
        },
        {
         "hovertemplate": "Country=Hungary<br>LifeExp_2000=%{x}<br>Unemployment_2000=%{y}<extra></extra>",
         "legendgroup": "Hungary",
         "marker": {
          "color": "#FECB52",
          "opacity": 0.6,
          "symbol": "circle"
         },
         "mode": "markers",
         "name": "Hungary",
         "orientation": "v",
         "showlegend": true,
         "type": "scatter",
         "x": [
          71.34
         ],
         "xaxis": "x",
         "y": [
          6.56
         ],
         "yaxis": "y"
        },
        {
         "hovertemplate": "Country=Iceland<br>LifeExp_2000=%{x}<br>Unemployment_2000=%{y}<extra></extra>",
         "legendgroup": "Iceland",
         "marker": {
          "color": "#636efa",
          "opacity": 0.6,
          "symbol": "circle"
         },
         "mode": "markers",
         "name": "Iceland",
         "orientation": "v",
         "showlegend": true,
         "type": "scatter",
         "x": [
          79.7
         ],
         "xaxis": "x",
         "y": [
          1.94
         ],
         "yaxis": "y"
        },
        {
         "hovertemplate": "Country=Ireland<br>LifeExp_2000=%{x}<br>Unemployment_2000=%{y}<extra></extra>",
         "legendgroup": "Ireland",
         "marker": {
          "color": "#EF553B",
          "opacity": 0.6,
          "symbol": "circle"
         },
         "mode": "markers",
         "name": "Ireland",
         "orientation": "v",
         "showlegend": true,
         "type": "scatter",
         "x": [
          76.41
         ],
         "xaxis": "x",
         "y": [
          4.32
         ],
         "yaxis": "y"
        },
        {
         "hovertemplate": "Country=Israel<br>LifeExp_2000=%{x}<br>Unemployment_2000=%{y}<extra></extra>",
         "legendgroup": "Israel",
         "marker": {
          "color": "#00cc96",
          "opacity": 0.6,
          "symbol": "circle"
         },
         "mode": "markers",
         "name": "Israel",
         "orientation": "v",
         "showlegend": true,
         "type": "scatter",
         "x": [
          78.57
         ],
         "xaxis": "x",
         "y": [
          11.1
         ],
         "yaxis": "y"
        },
        {
         "hovertemplate": "Country=Italy<br>LifeExp_2000=%{x}<br>Unemployment_2000=%{y}<extra></extra>",
         "legendgroup": "Italy",
         "marker": {
          "color": "#ab63fa",
          "opacity": 0.6,
          "symbol": "circle"
         },
         "mode": "markers",
         "name": "Italy",
         "orientation": "v",
         "showlegend": true,
         "type": "scatter",
         "x": [
          79.36
         ],
         "xaxis": "x",
         "y": [
          10.84
         ],
         "yaxis": "y"
        },
        {
         "hovertemplate": "Country=Kazakhstan<br>LifeExp_2000=%{x}<br>Unemployment_2000=%{y}<extra></extra>",
         "legendgroup": "Kazakhstan",
         "marker": {
          "color": "#FFA15A",
          "opacity": 0.6,
          "symbol": "circle"
         },
         "mode": "markers",
         "name": "Kazakhstan",
         "orientation": "v",
         "showlegend": true,
         "type": "scatter",
         "x": [
          63.15
         ],
         "xaxis": "x",
         "y": [
          12.75
         ],
         "yaxis": "y"
        },
        {
         "hovertemplate": "Country=Latvia<br>LifeExp_2000=%{x}<br>Unemployment_2000=%{y}<extra></extra>",
         "legendgroup": "Latvia",
         "marker": {
          "color": "#19d3f3",
          "opacity": 0.6,
          "symbol": "circle"
         },
         "mode": "markers",
         "name": "Latvia",
         "orientation": "v",
         "showlegend": true,
         "type": "scatter",
         "x": [
          70.18
         ],
         "xaxis": "x",
         "y": [
          14.21
         ],
         "yaxis": "y"
        },
        {
         "hovertemplate": "Country=Lithuania<br>LifeExp_2000=%{x}<br>Unemployment_2000=%{y}<extra></extra>",
         "legendgroup": "Lithuania",
         "marker": {
          "color": "#FF6692",
          "opacity": 0.6,
          "symbol": "circle"
         },
         "mode": "markers",
         "name": "Lithuania",
         "orientation": "v",
         "showlegend": true,
         "type": "scatter",
         "x": [
          72.04
         ],
         "xaxis": "x",
         "y": [
          15.93
         ],
         "yaxis": "y"
        },
        {
         "hovertemplate": "Country=Luxembourg<br>LifeExp_2000=%{x}<br>Unemployment_2000=%{y}<extra></extra>",
         "legendgroup": "Luxembourg",
         "marker": {
          "color": "#B6E880",
          "opacity": 0.6,
          "symbol": "circle"
         },
         "mode": "markers",
         "name": "Luxembourg",
         "orientation": "v",
         "showlegend": true,
         "type": "scatter",
         "x": [
          78.24
         ],
         "xaxis": "x",
         "y": [
          2.35
         ],
         "yaxis": "y"
        },
        {
         "hovertemplate": "Country=Malta<br>LifeExp_2000=%{x}<br>Unemployment_2000=%{y}<extra></extra>",
         "legendgroup": "Malta",
         "marker": {
          "color": "#FF97FF",
          "opacity": 0.6,
          "symbol": "circle"
         },
         "mode": "markers",
         "name": "Malta",
         "orientation": "v",
         "showlegend": true,
         "type": "scatter",
         "x": [
          77.87
         ],
         "xaxis": "x",
         "y": [
          6.32
         ],
         "yaxis": "y"
        },
        {
         "hovertemplate": "Country=Montenegro<br>LifeExp_2000=%{x}<br>Unemployment_2000=%{y}<extra></extra>",
         "legendgroup": "Montenegro",
         "marker": {
          "color": "#FECB52",
          "opacity": 0.6,
          "symbol": "circle"
         },
         "mode": "markers",
         "name": "Montenegro",
         "orientation": "v",
         "showlegend": true,
         "type": "scatter",
         "x": [
          73.56
         ],
         "xaxis": "x",
         "y": [
          28.59
         ],
         "yaxis": "y"
        },
        {
         "hovertemplate": "Country=Netherlands<br>LifeExp_2000=%{x}<br>Unemployment_2000=%{y}<extra></extra>",
         "legendgroup": "Netherlands",
         "marker": {
          "color": "#636efa",
          "opacity": 0.6,
          "symbol": "circle"
         },
         "mode": "markers",
         "name": "Netherlands",
         "orientation": "v",
         "showlegend": true,
         "type": "scatter",
         "x": [
          78.01
         ],
         "xaxis": "x",
         "y": [
          2.73
         ],
         "yaxis": "y"
        },
        {
         "hovertemplate": "Country=Norway<br>LifeExp_2000=%{x}<br>Unemployment_2000=%{y}<extra></extra>",
         "legendgroup": "Norway",
         "marker": {
          "color": "#EF553B",
          "opacity": 0.6,
          "symbol": "circle"
         },
         "mode": "markers",
         "name": "Norway",
         "orientation": "v",
         "showlegend": true,
         "type": "scatter",
         "x": [
          78.53
         ],
         "xaxis": "x",
         "y": [
          3.46
         ],
         "yaxis": "y"
        },
        {
         "hovertemplate": "Country=Poland<br>LifeExp_2000=%{x}<br>Unemployment_2000=%{y}<extra></extra>",
         "legendgroup": "Poland",
         "marker": {
          "color": "#00cc96",
          "opacity": 0.6,
          "symbol": "circle"
         },
         "mode": "markers",
         "name": "Poland",
         "orientation": "v",
         "showlegend": true,
         "type": "scatter",
         "x": [
          73.7
         ],
         "xaxis": "x",
         "y": [
          16.31
         ],
         "yaxis": "y"
        },
        {
         "hovertemplate": "Country=Portugal<br>LifeExp_2000=%{x}<br>Unemployment_2000=%{y}<extra></extra>",
         "legendgroup": "Portugal",
         "marker": {
          "color": "#ab63fa",
          "opacity": 0.6,
          "symbol": "circle"
         },
         "mode": "markers",
         "name": "Portugal",
         "orientation": "v",
         "showlegend": true,
         "type": "scatter",
         "x": [
          76.58
         ],
         "xaxis": "x",
         "y": [
          3.81
         ],
         "yaxis": "y"
        },
        {
         "hovertemplate": "Country=Romania<br>LifeExp_2000=%{x}<br>Unemployment_2000=%{y}<extra></extra>",
         "legendgroup": "Romania",
         "marker": {
          "color": "#FFA15A",
          "opacity": 0.6,
          "symbol": "circle"
         },
         "mode": "markers",
         "name": "Romania",
         "orientation": "v",
         "showlegend": true,
         "type": "scatter",
         "x": [
          71.39
         ],
         "xaxis": "x",
         "y": [
          6.97
         ],
         "yaxis": "y"
        },
        {
         "hovertemplate": "Country=Russian Federation<br>LifeExp_2000=%{x}<br>Unemployment_2000=%{y}<extra></extra>",
         "legendgroup": "Russian Federation",
         "marker": {
          "color": "#19d3f3",
          "opacity": 0.6,
          "symbol": "circle"
         },
         "mode": "markers",
         "name": "Russian Federation",
         "orientation": "v",
         "showlegend": true,
         "type": "scatter",
         "x": [
          65.29
         ],
         "xaxis": "x",
         "y": [
          10.58
         ],
         "yaxis": "y"
        },
        {
         "hovertemplate": "Country=Serbia<br>LifeExp_2000=%{x}<br>Unemployment_2000=%{y}<extra></extra>",
         "legendgroup": "Serbia",
         "marker": {
          "color": "#FF6692",
          "opacity": 0.6,
          "symbol": "circle"
         },
         "mode": "markers",
         "name": "Serbia",
         "orientation": "v",
         "showlegend": true,
         "type": "scatter",
         "x": [
          71.43
         ],
         "xaxis": "x",
         "y": [
          12.6
         ],
         "yaxis": "y"
        },
        {
         "hovertemplate": "Country=Slovenia<br>LifeExp_2000=%{x}<br>Unemployment_2000=%{y}<extra></extra>",
         "legendgroup": "Slovenia",
         "marker": {
          "color": "#B6E880",
          "opacity": 0.6,
          "symbol": "circle"
         },
         "mode": "markers",
         "name": "Slovenia",
         "orientation": "v",
         "showlegend": true,
         "type": "scatter",
         "x": [
          76.05
         ],
         "xaxis": "x",
         "y": [
          6.92
         ],
         "yaxis": "y"
        },
        {
         "hovertemplate": "Country=Spain<br>LifeExp_2000=%{x}<br>Unemployment_2000=%{y}<extra></extra>",
         "legendgroup": "Spain",
         "marker": {
          "color": "#FF97FF",
          "opacity": 0.6,
          "symbol": "circle"
         },
         "mode": "markers",
         "name": "Spain",
         "orientation": "v",
         "showlegend": true,
         "type": "scatter",
         "x": [
          79.08
         ],
         "xaxis": "x",
         "y": [
          13.79
         ],
         "yaxis": "y"
        },
        {
         "hovertemplate": "Country=Sweden<br>LifeExp_2000=%{x}<br>Unemployment_2000=%{y}<extra></extra>",
         "legendgroup": "Sweden",
         "marker": {
          "color": "#FECB52",
          "opacity": 0.6,
          "symbol": "circle"
         },
         "mode": "markers",
         "name": "Sweden",
         "orientation": "v",
         "showlegend": true,
         "type": "scatter",
         "x": [
          79.57
         ],
         "xaxis": "x",
         "y": [
          5.47
         ],
         "yaxis": "y"
        },
        {
         "hovertemplate": "Country=Switzerland<br>LifeExp_2000=%{x}<br>Unemployment_2000=%{y}<extra></extra>",
         "legendgroup": "Switzerland",
         "marker": {
          "color": "#636efa",
          "opacity": 0.6,
          "symbol": "circle"
         },
         "mode": "markers",
         "name": "Switzerland",
         "orientation": "v",
         "showlegend": true,
         "type": "scatter",
         "x": [
          79.72
         ],
         "xaxis": "x",
         "y": [
          2.67
         ],
         "yaxis": "y"
        },
        {
         "hovertemplate": "Country=Tajikistan<br>LifeExp_2000=%{x}<br>Unemployment_2000=%{y}<extra></extra>",
         "legendgroup": "Tajikistan",
         "marker": {
          "color": "#EF553B",
          "opacity": 0.6,
          "symbol": "circle"
         },
         "mode": "markers",
         "name": "Tajikistan",
         "orientation": "v",
         "showlegend": true,
         "type": "scatter",
         "x": [
          65.58
         ],
         "xaxis": "x",
         "y": [
          15.13
         ],
         "yaxis": "y"
        },
        {
         "hovertemplate": "Country=Turkmenistan<br>LifeExp_2000=%{x}<br>Unemployment_2000=%{y}<extra></extra>",
         "legendgroup": "Turkmenistan",
         "marker": {
          "color": "#00cc96",
          "opacity": 0.6,
          "symbol": "circle"
         },
         "mode": "markers",
         "name": "Turkmenistan",
         "orientation": "v",
         "showlegend": true,
         "type": "scatter",
         "x": [
          63.32
         ],
         "xaxis": "x",
         "y": [
          11.54
         ],
         "yaxis": "y"
        },
        {
         "hovertemplate": "Country=Ukraine<br>LifeExp_2000=%{x}<br>Unemployment_2000=%{y}<extra></extra>",
         "legendgroup": "Ukraine",
         "marker": {
          "color": "#ab63fa",
          "opacity": 0.6,
          "symbol": "circle"
         },
         "mode": "markers",
         "name": "Ukraine",
         "orientation": "v",
         "showlegend": true,
         "type": "scatter",
         "x": [
          67.53
         ],
         "xaxis": "x",
         "y": [
          11.71
         ],
         "yaxis": "y"
        },
        {
         "hovertemplate": "Country=Uzbekistan<br>LifeExp_2000=%{x}<br>Unemployment_2000=%{y}<extra></extra>",
         "legendgroup": "Uzbekistan",
         "marker": {
          "color": "#FFA15A",
          "opacity": 0.6,
          "symbol": "circle"
         },
         "mode": "markers",
         "name": "Uzbekistan",
         "orientation": "v",
         "showlegend": true,
         "type": "scatter",
         "x": [
          65.27
         ],
         "xaxis": "x",
         "y": [
          12.23
         ],
         "yaxis": "y"
        },
        {
         "hovertemplate": "Country=Bangladesh<br>LifeExp_2000=%{x}<br>Unemployment_2000=%{y}<extra></extra>",
         "legendgroup": "Bangladesh",
         "marker": {
          "color": "#19d3f3",
          "opacity": 0.6,
          "symbol": "circle"
         },
         "mode": "markers",
         "name": "Bangladesh",
         "orientation": "v",
         "showlegend": true,
         "type": "scatter",
         "x": [
          65.59
         ],
         "xaxis": "x",
         "y": [
          3.27
         ],
         "yaxis": "y"
        },
        {
         "hovertemplate": "Country=Bhutan<br>LifeExp_2000=%{x}<br>Unemployment_2000=%{y}<extra></extra>",
         "legendgroup": "Bhutan",
         "marker": {
          "color": "#FF6692",
          "opacity": 0.6,
          "symbol": "circle"
         },
         "mode": "markers",
         "name": "Bhutan",
         "orientation": "v",
         "showlegend": true,
         "type": "scatter",
         "x": [
          65.7
         ],
         "xaxis": "x",
         "y": [
          1.59
         ],
         "yaxis": "y"
        },
        {
         "hovertemplate": "Country=India<br>LifeExp_2000=%{x}<br>Unemployment_2000=%{y}<extra></extra>",
         "legendgroup": "India",
         "marker": {
          "color": "#B6E880",
          "opacity": 0.6,
          "symbol": "circle"
         },
         "mode": "markers",
         "name": "India",
         "orientation": "v",
         "showlegend": true,
         "type": "scatter",
         "x": [
          62.11
         ],
         "xaxis": "x",
         "y": [
          5.56
         ],
         "yaxis": "y"
        },
        {
         "hovertemplate": "Country=Indonesia<br>LifeExp_2000=%{x}<br>Unemployment_2000=%{y}<extra></extra>",
         "legendgroup": "Indonesia",
         "marker": {
          "color": "#FF97FF",
          "opacity": 0.6,
          "symbol": "circle"
         },
         "mode": "markers",
         "name": "Indonesia",
         "orientation": "v",
         "showlegend": true,
         "type": "scatter",
         "x": [
          67.17
         ],
         "xaxis": "x",
         "y": [
          6.08
         ],
         "yaxis": "y"
        },
        {
         "hovertemplate": "Country=Maldives<br>LifeExp_2000=%{x}<br>Unemployment_2000=%{y}<extra></extra>",
         "legendgroup": "Maldives",
         "marker": {
          "color": "#FECB52",
          "opacity": 0.6,
          "symbol": "circle"
         },
         "mode": "markers",
         "name": "Maldives",
         "orientation": "v",
         "showlegend": true,
         "type": "scatter",
         "x": [
          70.96
         ],
         "xaxis": "x",
         "y": [
          1.97
         ],
         "yaxis": "y"
        },
        {
         "hovertemplate": "Country=Myanmar<br>LifeExp_2000=%{x}<br>Unemployment_2000=%{y}<extra></extra>",
         "legendgroup": "Myanmar",
         "marker": {
          "color": "#636efa",
          "opacity": 0.6,
          "symbol": "circle"
         },
         "mode": "markers",
         "name": "Myanmar",
         "orientation": "v",
         "showlegend": true,
         "type": "scatter",
         "x": [
          59.99
         ],
         "xaxis": "x",
         "y": [
          0.65
         ],
         "yaxis": "y"
        },
        {
         "hovertemplate": "Country=Nepal<br>LifeExp_2000=%{x}<br>Unemployment_2000=%{y}<extra></extra>",
         "legendgroup": "Nepal",
         "marker": {
          "color": "#EF553B",
          "opacity": 0.6,
          "symbol": "circle"
         },
         "mode": "markers",
         "name": "Nepal",
         "orientation": "v",
         "showlegend": true,
         "type": "scatter",
         "x": [
          65.26
         ],
         "xaxis": "x",
         "y": [
          1.86
         ],
         "yaxis": "y"
        },
        {
         "hovertemplate": "Country=Sri Lanka<br>LifeExp_2000=%{x}<br>Unemployment_2000=%{y}<extra></extra>",
         "legendgroup": "Sri Lanka",
         "marker": {
          "color": "#00cc96",
          "opacity": 0.6,
          "symbol": "circle"
         },
         "mode": "markers",
         "name": "Sri Lanka",
         "orientation": "v",
         "showlegend": true,
         "type": "scatter",
         "x": [
          71.89
         ],
         "xaxis": "x",
         "y": [
          7.74
         ],
         "yaxis": "y"
        },
        {
         "hovertemplate": "Country=Thailand<br>LifeExp_2000=%{x}<br>Unemployment_2000=%{y}<extra></extra>",
         "legendgroup": "Thailand",
         "marker": {
          "color": "#ab63fa",
          "opacity": 0.6,
          "symbol": "circle"
         },
         "mode": "markers",
         "name": "Thailand",
         "orientation": "v",
         "showlegend": true,
         "type": "scatter",
         "x": [
          71.25
         ],
         "xaxis": "x",
         "y": [
          2.39
         ],
         "yaxis": "y"
        },
        {
         "hovertemplate": "Country=Timor-Leste<br>LifeExp_2000=%{x}<br>Unemployment_2000=%{y}<extra></extra>",
         "legendgroup": "Timor-Leste",
         "marker": {
          "color": "#FFA15A",
          "opacity": 0.6,
          "symbol": "circle"
         },
         "mode": "markers",
         "name": "Timor-Leste",
         "orientation": "v",
         "showlegend": true,
         "type": "scatter",
         "x": [
          62.67
         ],
         "xaxis": "x",
         "y": [
          3.41
         ],
         "yaxis": "y"
        },
        {
         "hovertemplate": "Country=Australia<br>LifeExp_2000=%{x}<br>Unemployment_2000=%{y}<extra></extra>",
         "legendgroup": "Australia",
         "marker": {
          "color": "#19d3f3",
          "opacity": 0.6,
          "symbol": "circle"
         },
         "mode": "markers",
         "name": "Australia",
         "orientation": "v",
         "showlegend": true,
         "type": "scatter",
         "x": [
          79.69
         ],
         "xaxis": "x",
         "y": [
          6.28
         ],
         "yaxis": "y"
        },
        {
         "hovertemplate": "Country=Brunei Darussalam<br>LifeExp_2000=%{x}<br>Unemployment_2000=%{y}<extra></extra>",
         "legendgroup": "Brunei Darussalam",
         "marker": {
          "color": "#FF6692",
          "opacity": 0.6,
          "symbol": "circle"
         },
         "mode": "markers",
         "name": "Brunei Darussalam",
         "orientation": "v",
         "showlegend": true,
         "type": "scatter",
         "x": [
          72.2
         ],
         "xaxis": "x",
         "y": [
          5.68
         ],
         "yaxis": "y"
        },
        {
         "hovertemplate": "Country=Cambodia<br>LifeExp_2000=%{x}<br>Unemployment_2000=%{y}<extra></extra>",
         "legendgroup": "Cambodia",
         "marker": {
          "color": "#B6E880",
          "opacity": 0.6,
          "symbol": "circle"
         },
         "mode": "markers",
         "name": "Cambodia",
         "orientation": "v",
         "showlegend": true,
         "type": "scatter",
         "x": [
          58.68
         ],
         "xaxis": "x",
         "y": [
          0.97
         ],
         "yaxis": "y"
        },
        {
         "hovertemplate": "Country=China<br>LifeExp_2000=%{x}<br>Unemployment_2000=%{y}<extra></extra>",
         "legendgroup": "China",
         "marker": {
          "color": "#FF97FF",
          "opacity": 0.6,
          "symbol": "circle"
         },
         "mode": "markers",
         "name": "China",
         "orientation": "v",
         "showlegend": true,
         "type": "scatter",
         "x": [
          71.58
         ],
         "xaxis": "x",
         "y": [
          3.26
         ],
         "yaxis": "y"
        },
        {
         "hovertemplate": "Country=Fiji<br>LifeExp_2000=%{x}<br>Unemployment_2000=%{y}<extra></extra>",
         "legendgroup": "Fiji",
         "marker": {
          "color": "#FECB52",
          "opacity": 0.6,
          "symbol": "circle"
         },
         "mode": "markers",
         "name": "Fiji",
         "orientation": "v",
         "showlegend": true,
         "type": "scatter",
         "x": [
          65.9
         ],
         "xaxis": "x",
         "y": [
          3.99
         ],
         "yaxis": "y"
        },
        {
         "hovertemplate": "Country=Japan<br>LifeExp_2000=%{x}<br>Unemployment_2000=%{y}<extra></extra>",
         "legendgroup": "Japan",
         "marker": {
          "color": "#636efa",
          "opacity": 0.6,
          "symbol": "circle"
         },
         "mode": "markers",
         "name": "Japan",
         "orientation": "v",
         "showlegend": true,
         "type": "scatter",
         "x": [
          81.12
         ],
         "xaxis": "x",
         "y": [
          4.75
         ],
         "yaxis": "y"
        },
        {
         "hovertemplate": "Country=Malaysia<br>LifeExp_2000=%{x}<br>Unemployment_2000=%{y}<extra></extra>",
         "legendgroup": "Malaysia",
         "marker": {
          "color": "#EF553B",
          "opacity": 0.6,
          "symbol": "circle"
         },
         "mode": "markers",
         "name": "Malaysia",
         "orientation": "v",
         "showlegend": true,
         "type": "scatter",
         "x": [
          72.8
         ],
         "xaxis": "x",
         "y": [
          3
         ],
         "yaxis": "y"
        },
        {
         "hovertemplate": "Country=Mongolia<br>LifeExp_2000=%{x}<br>Unemployment_2000=%{y}<extra></extra>",
         "legendgroup": "Mongolia",
         "marker": {
          "color": "#00cc96",
          "opacity": 0.6,
          "symbol": "circle"
         },
         "mode": "markers",
         "name": "Mongolia",
         "orientation": "v",
         "showlegend": true,
         "type": "scatter",
         "x": [
          60.52
         ],
         "xaxis": "x",
         "y": [
          6.23
         ],
         "yaxis": "y"
        },
        {
         "hovertemplate": "Country=New Zealand<br>LifeExp_2000=%{x}<br>Unemployment_2000=%{y}<extra></extra>",
         "legendgroup": "New Zealand",
         "marker": {
          "color": "#ab63fa",
          "opacity": 0.6,
          "symbol": "circle"
         },
         "mode": "markers",
         "name": "New Zealand",
         "orientation": "v",
         "showlegend": true,
         "type": "scatter",
         "x": [
          78.57
         ],
         "xaxis": "x",
         "y": [
          6.13
         ],
         "yaxis": "y"
        },
        {
         "hovertemplate": "Country=Papua New Guinea<br>LifeExp_2000=%{x}<br>Unemployment_2000=%{y}<extra></extra>",
         "legendgroup": "Papua New Guinea",
         "marker": {
          "color": "#FFA15A",
          "opacity": 0.6,
          "symbol": "circle"
         },
         "mode": "markers",
         "name": "Papua New Guinea",
         "orientation": "v",
         "showlegend": true,
         "type": "scatter",
         "x": [
          63.29
         ],
         "xaxis": "x",
         "y": [
          2.92
         ],
         "yaxis": "y"
        },
        {
         "hovertemplate": "Country=Philippines<br>LifeExp_2000=%{x}<br>Unemployment_2000=%{y}<extra></extra>",
         "legendgroup": "Philippines",
         "marker": {
          "color": "#19d3f3",
          "opacity": 0.6,
          "symbol": "circle"
         },
         "mode": "markers",
         "name": "Philippines",
         "orientation": "v",
         "showlegend": true,
         "type": "scatter",
         "x": [
          69.03
         ],
         "xaxis": "x",
         "y": [
          3.65
         ],
         "yaxis": "y"
        },
        {
         "hovertemplate": "Country=Samoa<br>LifeExp_2000=%{x}<br>Unemployment_2000=%{y}<extra></extra>",
         "legendgroup": "Samoa",
         "marker": {
          "color": "#FF6692",
          "opacity": 0.6,
          "symbol": "circle"
         },
         "mode": "markers",
         "name": "Samoa",
         "orientation": "v",
         "showlegend": true,
         "type": "scatter",
         "x": [
          68.51
         ],
         "xaxis": "x",
         "y": [
          4.66
         ],
         "yaxis": "y"
        },
        {
         "hovertemplate": "Country=Singapore<br>LifeExp_2000=%{x}<br>Unemployment_2000=%{y}<extra></extra>",
         "legendgroup": "Singapore",
         "marker": {
          "color": "#B6E880",
          "opacity": 0.6,
          "symbol": "circle"
         },
         "mode": "markers",
         "name": "Singapore",
         "orientation": "v",
         "showlegend": true,
         "type": "scatter",
         "x": [
          78.44
         ],
         "xaxis": "x",
         "y": [
          3.7
         ],
         "yaxis": "y"
        },
        {
         "hovertemplate": "Country=Solomon Islands<br>LifeExp_2000=%{x}<br>Unemployment_2000=%{y}<extra></extra>",
         "legendgroup": "Solomon Islands",
         "marker": {
          "color": "#FF97FF",
          "opacity": 0.6,
          "symbol": "circle"
         },
         "mode": "markers",
         "name": "Solomon Islands",
         "orientation": "v",
         "showlegend": true,
         "type": "scatter",
         "x": [
          62.51
         ],
         "xaxis": "x",
         "y": [
          2.03
         ],
         "yaxis": "y"
        },
        {
         "hovertemplate": "Country=Tonga<br>LifeExp_2000=%{x}<br>Unemployment_2000=%{y}<extra></extra>",
         "legendgroup": "Tonga",
         "marker": {
          "color": "#FECB52",
          "opacity": 0.6,
          "symbol": "circle"
         },
         "mode": "markers",
         "name": "Tonga",
         "orientation": "v",
         "showlegend": true,
         "type": "scatter",
         "x": [
          70.92
         ],
         "xaxis": "x",
         "y": [
          4.08
         ],
         "yaxis": "y"
        },
        {
         "hovertemplate": "Country=Vanuatu<br>LifeExp_2000=%{x}<br>Unemployment_2000=%{y}<extra></extra>",
         "legendgroup": "Vanuatu",
         "marker": {
          "color": "#636efa",
          "opacity": 0.6,
          "symbol": "circle"
         },
         "mode": "markers",
         "name": "Vanuatu",
         "orientation": "v",
         "showlegend": true,
         "type": "scatter",
         "x": [
          63.9
         ],
         "xaxis": "x",
         "y": [
          1.69
         ],
         "yaxis": "y"
        }
       ],
       "layout": {
        "legend": {
         "title": {
          "text": "Country"
         },
         "tracegroupgap": 0
        },
        "template": {
         "data": {
          "bar": [
           {
            "error_x": {
             "color": "#f2f5fa"
            },
            "error_y": {
             "color": "#f2f5fa"
            },
            "marker": {
             "line": {
              "color": "rgb(17,17,17)",
              "width": 0.5
             },
             "pattern": {
              "fillmode": "overlay",
              "size": 10,
              "solidity": 0.2
             }
            },
            "type": "bar"
           }
          ],
          "barpolar": [
           {
            "marker": {
             "line": {
              "color": "rgb(17,17,17)",
              "width": 0.5
             },
             "pattern": {
              "fillmode": "overlay",
              "size": 10,
              "solidity": 0.2
             }
            },
            "type": "barpolar"
           }
          ],
          "carpet": [
           {
            "aaxis": {
             "endlinecolor": "#A2B1C6",
             "gridcolor": "#506784",
             "linecolor": "#506784",
             "minorgridcolor": "#506784",
             "startlinecolor": "#A2B1C6"
            },
            "baxis": {
             "endlinecolor": "#A2B1C6",
             "gridcolor": "#506784",
             "linecolor": "#506784",
             "minorgridcolor": "#506784",
             "startlinecolor": "#A2B1C6"
            },
            "type": "carpet"
           }
          ],
          "choropleth": [
           {
            "colorbar": {
             "outlinewidth": 0,
             "ticks": ""
            },
            "type": "choropleth"
           }
          ],
          "contour": [
           {
            "colorbar": {
             "outlinewidth": 0,
             "ticks": ""
            },
            "colorscale": [
             [
              0,
              "#0d0887"
             ],
             [
              0.1111111111111111,
              "#46039f"
             ],
             [
              0.2222222222222222,
              "#7201a8"
             ],
             [
              0.3333333333333333,
              "#9c179e"
             ],
             [
              0.4444444444444444,
              "#bd3786"
             ],
             [
              0.5555555555555556,
              "#d8576b"
             ],
             [
              0.6666666666666666,
              "#ed7953"
             ],
             [
              0.7777777777777778,
              "#fb9f3a"
             ],
             [
              0.8888888888888888,
              "#fdca26"
             ],
             [
              1,
              "#f0f921"
             ]
            ],
            "type": "contour"
           }
          ],
          "contourcarpet": [
           {
            "colorbar": {
             "outlinewidth": 0,
             "ticks": ""
            },
            "type": "contourcarpet"
           }
          ],
          "heatmap": [
           {
            "colorbar": {
             "outlinewidth": 0,
             "ticks": ""
            },
            "colorscale": [
             [
              0,
              "#0d0887"
             ],
             [
              0.1111111111111111,
              "#46039f"
             ],
             [
              0.2222222222222222,
              "#7201a8"
             ],
             [
              0.3333333333333333,
              "#9c179e"
             ],
             [
              0.4444444444444444,
              "#bd3786"
             ],
             [
              0.5555555555555556,
              "#d8576b"
             ],
             [
              0.6666666666666666,
              "#ed7953"
             ],
             [
              0.7777777777777778,
              "#fb9f3a"
             ],
             [
              0.8888888888888888,
              "#fdca26"
             ],
             [
              1,
              "#f0f921"
             ]
            ],
            "type": "heatmap"
           }
          ],
          "heatmapgl": [
           {
            "colorbar": {
             "outlinewidth": 0,
             "ticks": ""
            },
            "colorscale": [
             [
              0,
              "#0d0887"
             ],
             [
              0.1111111111111111,
              "#46039f"
             ],
             [
              0.2222222222222222,
              "#7201a8"
             ],
             [
              0.3333333333333333,
              "#9c179e"
             ],
             [
              0.4444444444444444,
              "#bd3786"
             ],
             [
              0.5555555555555556,
              "#d8576b"
             ],
             [
              0.6666666666666666,
              "#ed7953"
             ],
             [
              0.7777777777777778,
              "#fb9f3a"
             ],
             [
              0.8888888888888888,
              "#fdca26"
             ],
             [
              1,
              "#f0f921"
             ]
            ],
            "type": "heatmapgl"
           }
          ],
          "histogram": [
           {
            "marker": {
             "pattern": {
              "fillmode": "overlay",
              "size": 10,
              "solidity": 0.2
             }
            },
            "type": "histogram"
           }
          ],
          "histogram2d": [
           {
            "colorbar": {
             "outlinewidth": 0,
             "ticks": ""
            },
            "colorscale": [
             [
              0,
              "#0d0887"
             ],
             [
              0.1111111111111111,
              "#46039f"
             ],
             [
              0.2222222222222222,
              "#7201a8"
             ],
             [
              0.3333333333333333,
              "#9c179e"
             ],
             [
              0.4444444444444444,
              "#bd3786"
             ],
             [
              0.5555555555555556,
              "#d8576b"
             ],
             [
              0.6666666666666666,
              "#ed7953"
             ],
             [
              0.7777777777777778,
              "#fb9f3a"
             ],
             [
              0.8888888888888888,
              "#fdca26"
             ],
             [
              1,
              "#f0f921"
             ]
            ],
            "type": "histogram2d"
           }
          ],
          "histogram2dcontour": [
           {
            "colorbar": {
             "outlinewidth": 0,
             "ticks": ""
            },
            "colorscale": [
             [
              0,
              "#0d0887"
             ],
             [
              0.1111111111111111,
              "#46039f"
             ],
             [
              0.2222222222222222,
              "#7201a8"
             ],
             [
              0.3333333333333333,
              "#9c179e"
             ],
             [
              0.4444444444444444,
              "#bd3786"
             ],
             [
              0.5555555555555556,
              "#d8576b"
             ],
             [
              0.6666666666666666,
              "#ed7953"
             ],
             [
              0.7777777777777778,
              "#fb9f3a"
             ],
             [
              0.8888888888888888,
              "#fdca26"
             ],
             [
              1,
              "#f0f921"
             ]
            ],
            "type": "histogram2dcontour"
           }
          ],
          "mesh3d": [
           {
            "colorbar": {
             "outlinewidth": 0,
             "ticks": ""
            },
            "type": "mesh3d"
           }
          ],
          "parcoords": [
           {
            "line": {
             "colorbar": {
              "outlinewidth": 0,
              "ticks": ""
             }
            },
            "type": "parcoords"
           }
          ],
          "pie": [
           {
            "automargin": true,
            "type": "pie"
           }
          ],
          "scatter": [
           {
            "marker": {
             "line": {
              "color": "#283442"
             }
            },
            "type": "scatter"
           }
          ],
          "scatter3d": [
           {
            "line": {
             "colorbar": {
              "outlinewidth": 0,
              "ticks": ""
             }
            },
            "marker": {
             "colorbar": {
              "outlinewidth": 0,
              "ticks": ""
             }
            },
            "type": "scatter3d"
           }
          ],
          "scattercarpet": [
           {
            "marker": {
             "colorbar": {
              "outlinewidth": 0,
              "ticks": ""
             }
            },
            "type": "scattercarpet"
           }
          ],
          "scattergeo": [
           {
            "marker": {
             "colorbar": {
              "outlinewidth": 0,
              "ticks": ""
             }
            },
            "type": "scattergeo"
           }
          ],
          "scattergl": [
           {
            "marker": {
             "line": {
              "color": "#283442"
             }
            },
            "type": "scattergl"
           }
          ],
          "scattermapbox": [
           {
            "marker": {
             "colorbar": {
              "outlinewidth": 0,
              "ticks": ""
             }
            },
            "type": "scattermapbox"
           }
          ],
          "scatterpolar": [
           {
            "marker": {
             "colorbar": {
              "outlinewidth": 0,
              "ticks": ""
             }
            },
            "type": "scatterpolar"
           }
          ],
          "scatterpolargl": [
           {
            "marker": {
             "colorbar": {
              "outlinewidth": 0,
              "ticks": ""
             }
            },
            "type": "scatterpolargl"
           }
          ],
          "scatterternary": [
           {
            "marker": {
             "colorbar": {
              "outlinewidth": 0,
              "ticks": ""
             }
            },
            "type": "scatterternary"
           }
          ],
          "surface": [
           {
            "colorbar": {
             "outlinewidth": 0,
             "ticks": ""
            },
            "colorscale": [
             [
              0,
              "#0d0887"
             ],
             [
              0.1111111111111111,
              "#46039f"
             ],
             [
              0.2222222222222222,
              "#7201a8"
             ],
             [
              0.3333333333333333,
              "#9c179e"
             ],
             [
              0.4444444444444444,
              "#bd3786"
             ],
             [
              0.5555555555555556,
              "#d8576b"
             ],
             [
              0.6666666666666666,
              "#ed7953"
             ],
             [
              0.7777777777777778,
              "#fb9f3a"
             ],
             [
              0.8888888888888888,
              "#fdca26"
             ],
             [
              1,
              "#f0f921"
             ]
            ],
            "type": "surface"
           }
          ],
          "table": [
           {
            "cells": {
             "fill": {
              "color": "#506784"
             },
             "line": {
              "color": "rgb(17,17,17)"
             }
            },
            "header": {
             "fill": {
              "color": "#2a3f5f"
             },
             "line": {
              "color": "rgb(17,17,17)"
             }
            },
            "type": "table"
           }
          ]
         },
         "layout": {
          "annotationdefaults": {
           "arrowcolor": "#f2f5fa",
           "arrowhead": 0,
           "arrowwidth": 1
          },
          "autotypenumbers": "strict",
          "coloraxis": {
           "colorbar": {
            "outlinewidth": 0,
            "ticks": ""
           }
          },
          "colorscale": {
           "diverging": [
            [
             0,
             "#8e0152"
            ],
            [
             0.1,
             "#c51b7d"
            ],
            [
             0.2,
             "#de77ae"
            ],
            [
             0.3,
             "#f1b6da"
            ],
            [
             0.4,
             "#fde0ef"
            ],
            [
             0.5,
             "#f7f7f7"
            ],
            [
             0.6,
             "#e6f5d0"
            ],
            [
             0.7,
             "#b8e186"
            ],
            [
             0.8,
             "#7fbc41"
            ],
            [
             0.9,
             "#4d9221"
            ],
            [
             1,
             "#276419"
            ]
           ],
           "sequential": [
            [
             0,
             "#0d0887"
            ],
            [
             0.1111111111111111,
             "#46039f"
            ],
            [
             0.2222222222222222,
             "#7201a8"
            ],
            [
             0.3333333333333333,
             "#9c179e"
            ],
            [
             0.4444444444444444,
             "#bd3786"
            ],
            [
             0.5555555555555556,
             "#d8576b"
            ],
            [
             0.6666666666666666,
             "#ed7953"
            ],
            [
             0.7777777777777778,
             "#fb9f3a"
            ],
            [
             0.8888888888888888,
             "#fdca26"
            ],
            [
             1,
             "#f0f921"
            ]
           ],
           "sequentialminus": [
            [
             0,
             "#0d0887"
            ],
            [
             0.1111111111111111,
             "#46039f"
            ],
            [
             0.2222222222222222,
             "#7201a8"
            ],
            [
             0.3333333333333333,
             "#9c179e"
            ],
            [
             0.4444444444444444,
             "#bd3786"
            ],
            [
             0.5555555555555556,
             "#d8576b"
            ],
            [
             0.6666666666666666,
             "#ed7953"
            ],
            [
             0.7777777777777778,
             "#fb9f3a"
            ],
            [
             0.8888888888888888,
             "#fdca26"
            ],
            [
             1,
             "#f0f921"
            ]
           ]
          },
          "colorway": [
           "#636efa",
           "#EF553B",
           "#00cc96",
           "#ab63fa",
           "#FFA15A",
           "#19d3f3",
           "#FF6692",
           "#B6E880",
           "#FF97FF",
           "#FECB52"
          ],
          "font": {
           "color": "#f2f5fa"
          },
          "geo": {
           "bgcolor": "rgb(17,17,17)",
           "lakecolor": "rgb(17,17,17)",
           "landcolor": "rgb(17,17,17)",
           "showlakes": true,
           "showland": true,
           "subunitcolor": "#506784"
          },
          "hoverlabel": {
           "align": "left"
          },
          "hovermode": "closest",
          "mapbox": {
           "style": "dark"
          },
          "paper_bgcolor": "rgb(17,17,17)",
          "plot_bgcolor": "rgb(17,17,17)",
          "polar": {
           "angularaxis": {
            "gridcolor": "#506784",
            "linecolor": "#506784",
            "ticks": ""
           },
           "bgcolor": "rgb(17,17,17)",
           "radialaxis": {
            "gridcolor": "#506784",
            "linecolor": "#506784",
            "ticks": ""
           }
          },
          "scene": {
           "xaxis": {
            "backgroundcolor": "rgb(17,17,17)",
            "gridcolor": "#506784",
            "gridwidth": 2,
            "linecolor": "#506784",
            "showbackground": true,
            "ticks": "",
            "zerolinecolor": "#C8D4E3"
           },
           "yaxis": {
            "backgroundcolor": "rgb(17,17,17)",
            "gridcolor": "#506784",
            "gridwidth": 2,
            "linecolor": "#506784",
            "showbackground": true,
            "ticks": "",
            "zerolinecolor": "#C8D4E3"
           },
           "zaxis": {
            "backgroundcolor": "rgb(17,17,17)",
            "gridcolor": "#506784",
            "gridwidth": 2,
            "linecolor": "#506784",
            "showbackground": true,
            "ticks": "",
            "zerolinecolor": "#C8D4E3"
           }
          },
          "shapedefaults": {
           "line": {
            "color": "#f2f5fa"
           }
          },
          "sliderdefaults": {
           "bgcolor": "#C8D4E3",
           "bordercolor": "rgb(17,17,17)",
           "borderwidth": 1,
           "tickwidth": 0
          },
          "ternary": {
           "aaxis": {
            "gridcolor": "#506784",
            "linecolor": "#506784",
            "ticks": ""
           },
           "baxis": {
            "gridcolor": "#506784",
            "linecolor": "#506784",
            "ticks": ""
           },
           "bgcolor": "rgb(17,17,17)",
           "caxis": {
            "gridcolor": "#506784",
            "linecolor": "#506784",
            "ticks": ""
           }
          },
          "title": {
           "x": 0.05
          },
          "updatemenudefaults": {
           "bgcolor": "#506784",
           "borderwidth": 0
          },
          "xaxis": {
           "automargin": true,
           "gridcolor": "#283442",
           "linecolor": "#506784",
           "ticks": "",
           "title": {
            "standoff": 15
           },
           "zerolinecolor": "#283442",
           "zerolinewidth": 2
          },
          "yaxis": {
           "automargin": true,
           "gridcolor": "#283442",
           "linecolor": "#506784",
           "ticks": "",
           "title": {
            "standoff": 15
           },
           "zerolinecolor": "#283442",
           "zerolinewidth": 2
          }
         }
        },
        "title": {
         "text": "<b> Life Expectancy Versus Unemployment in 2000 </b>"
        },
        "xaxis": {
         "anchor": "y",
         "domain": [
          0,
          1
         ],
         "title": {
          "text": "LifeExp_2000"
         }
        },
        "yaxis": {
         "anchor": "x",
         "domain": [
          0,
          1
         ],
         "title": {
          "text": "Unemployment_2000"
         }
        }
       }
      }
     },
     "metadata": {},
     "output_type": "display_data"
    }
   ],
   "source": [
    "px.scatter(df,y='Unemployment_2000',x='LifeExp_2000',color='Country',template='plotly_dark',opacity=0.6,title='<b> Life Expectancy Versus Unemployment in 2000 </b>')"
   ]
  },
  {
   "cell_type": "code",
   "execution_count": 17,
   "metadata": {},
   "outputs": [
    {
     "data": {
      "application/vnd.plotly.v1+json": {
       "config": {
        "plotlyServerURL": "https://plot.ly"
       },
       "data": [
        {
         "hovertemplate": "Country=Algeria<br>LifeExp_2010=%{x}<br>Unemployment_2010=%{y}<extra></extra>",
         "legendgroup": "Algeria",
         "marker": {
          "color": "#636efa",
          "opacity": 0.6,
          "symbol": "circle"
         },
         "mode": "markers",
         "name": "Algeria",
         "orientation": "v",
         "showlegend": true,
         "type": "scatter",
         "x": [
          75.85
         ],
         "xaxis": "x",
         "y": [
          9.96
         ],
         "yaxis": "y"
        },
        {
         "hovertemplate": "Country=Angola<br>LifeExp_2010=%{x}<br>Unemployment_2010=%{y}<extra></extra>",
         "legendgroup": "Angola",
         "marker": {
          "color": "#EF553B",
          "opacity": 0.6,
          "symbol": "circle"
         },
         "mode": "markers",
         "name": "Angola",
         "orientation": "v",
         "showlegend": true,
         "type": "scatter",
         "x": [
          58.07
         ],
         "xaxis": "x",
         "y": [
          9.43
         ],
         "yaxis": "y"
        },
        {
         "hovertemplate": "Country=Benin<br>LifeExp_2010=%{x}<br>Unemployment_2010=%{y}<extra></extra>",
         "legendgroup": "Benin",
         "marker": {
          "color": "#00cc96",
          "opacity": 0.6,
          "symbol": "circle"
         },
         "mode": "markers",
         "name": "Benin",
         "orientation": "v",
         "showlegend": true,
         "type": "scatter",
         "x": [
          60.47
         ],
         "xaxis": "x",
         "y": [
          1.04
         ],
         "yaxis": "y"
        },
        {
         "hovertemplate": "Country=Botswana<br>LifeExp_2010=%{x}<br>Unemployment_2010=%{y}<extra></extra>",
         "legendgroup": "Botswana",
         "marker": {
          "color": "#ab63fa",
          "opacity": 0.6,
          "symbol": "circle"
         },
         "mode": "markers",
         "name": "Botswana",
         "orientation": "v",
         "showlegend": true,
         "type": "scatter",
         "x": [
          58.14
         ],
         "xaxis": "x",
         "y": [
          17.86
         ],
         "yaxis": "y"
        },
        {
         "hovertemplate": "Country=Burkina Faso<br>LifeExp_2010=%{x}<br>Unemployment_2010=%{y}<extra></extra>",
         "legendgroup": "Burkina Faso",
         "marker": {
          "color": "#FFA15A",
          "opacity": 0.6,
          "symbol": "circle"
         },
         "mode": "markers",
         "name": "Burkina Faso",
         "orientation": "v",
         "showlegend": true,
         "type": "scatter",
         "x": [
          58.59
         ],
         "xaxis": "x",
         "y": [
          3.64
         ],
         "yaxis": "y"
        },
        {
         "hovertemplate": "Country=Burundi<br>LifeExp_2010=%{x}<br>Unemployment_2010=%{y}<extra></extra>",
         "legendgroup": "Burundi",
         "marker": {
          "color": "#19d3f3",
          "opacity": 0.6,
          "symbol": "circle"
         },
         "mode": "markers",
         "name": "Burundi",
         "orientation": "v",
         "showlegend": true,
         "type": "scatter",
         "x": [
          58.6
         ],
         "xaxis": "x",
         "y": [
          1.61
         ],
         "yaxis": "y"
        },
        {
         "hovertemplate": "Country=Cabo Verde<br>LifeExp_2010=%{x}<br>Unemployment_2010=%{y}<extra></extra>",
         "legendgroup": "Cabo Verde",
         "marker": {
          "color": "#FF6692",
          "opacity": 0.6,
          "symbol": "circle"
         },
         "mode": "markers",
         "name": "Cabo Verde",
         "orientation": "v",
         "showlegend": true,
         "type": "scatter",
         "x": [
          74.12
         ],
         "xaxis": "x",
         "y": [
          10.67
         ],
         "yaxis": "y"
        },
        {
         "hovertemplate": "Country=Cameroon<br>LifeExp_2010=%{x}<br>Unemployment_2010=%{y}<extra></extra>",
         "legendgroup": "Cameroon",
         "marker": {
          "color": "#B6E880",
          "opacity": 0.6,
          "symbol": "circle"
         },
         "mode": "markers",
         "name": "Cameroon",
         "orientation": "v",
         "showlegend": true,
         "type": "scatter",
         "x": [
          56.58
         ],
         "xaxis": "x",
         "y": [
          4.11
         ],
         "yaxis": "y"
        },
        {
         "hovertemplate": "Country=Central African Republic<br>LifeExp_2010=%{x}<br>Unemployment_2010=%{y}<extra></extra>",
         "legendgroup": "Central African Republic",
         "marker": {
          "color": "#FF97FF",
          "opacity": 0.6,
          "symbol": "circle"
         },
         "mode": "markers",
         "name": "Central African Republic",
         "orientation": "v",
         "showlegend": true,
         "type": "scatter",
         "x": [
          48.51
         ],
         "xaxis": "x",
         "y": [
          5.67
         ],
         "yaxis": "y"
        },
        {
         "hovertemplate": "Country=Chad<br>LifeExp_2010=%{x}<br>Unemployment_2010=%{y}<extra></extra>",
         "legendgroup": "Chad",
         "marker": {
          "color": "#FECB52",
          "opacity": 0.6,
          "symbol": "circle"
         },
         "mode": "markers",
         "name": "Chad",
         "orientation": "v",
         "showlegend": true,
         "type": "scatter",
         "x": [
          55.65
         ],
         "xaxis": "x",
         "y": [
          0.96
         ],
         "yaxis": "y"
        },
        {
         "hovertemplate": "Country=Comoros<br>LifeExp_2010=%{x}<br>Unemployment_2010=%{y}<extra></extra>",
         "legendgroup": "Comoros",
         "marker": {
          "color": "#636efa",
          "opacity": 0.6,
          "symbol": "circle"
         },
         "mode": "markers",
         "name": "Comoros",
         "orientation": "v",
         "showlegend": true,
         "type": "scatter",
         "x": [
          64.98
         ],
         "xaxis": "x",
         "y": [
          6.69
         ],
         "yaxis": "y"
        },
        {
         "hovertemplate": "Country=Equatorial Guinea<br>LifeExp_2010=%{x}<br>Unemployment_2010=%{y}<extra></extra>",
         "legendgroup": "Equatorial Guinea",
         "marker": {
          "color": "#EF553B",
          "opacity": 0.6,
          "symbol": "circle"
         },
         "mode": "markers",
         "name": "Equatorial Guinea",
         "orientation": "v",
         "showlegend": true,
         "type": "scatter",
         "x": [
          59.65
         ],
         "xaxis": "x",
         "y": [
          8.82
         ],
         "yaxis": "y"
        },
        {
         "hovertemplate": "Country=Eritrea<br>LifeExp_2010=%{x}<br>Unemployment_2010=%{y}<extra></extra>",
         "legendgroup": "Eritrea",
         "marker": {
          "color": "#00cc96",
          "opacity": 0.6,
          "symbol": "circle"
         },
         "mode": "markers",
         "name": "Eritrea",
         "orientation": "v",
         "showlegend": true,
         "type": "scatter",
         "x": [
          60.7
         ],
         "xaxis": "x",
         "y": [
          5.49
         ],
         "yaxis": "y"
        },
        {
         "hovertemplate": "Country=Ethiopia<br>LifeExp_2010=%{x}<br>Unemployment_2010=%{y}<extra></extra>",
         "legendgroup": "Ethiopia",
         "marker": {
          "color": "#ab63fa",
          "opacity": 0.6,
          "symbol": "circle"
         },
         "mode": "markers",
         "name": "Ethiopia",
         "orientation": "v",
         "showlegend": true,
         "type": "scatter",
         "x": [
          62.92
         ],
         "xaxis": "x",
         "y": [
          2.34
         ],
         "yaxis": "y"
        },
        {
         "hovertemplate": "Country=Gabon<br>LifeExp_2010=%{x}<br>Unemployment_2010=%{y}<extra></extra>",
         "legendgroup": "Gabon",
         "marker": {
          "color": "#FFA15A",
          "opacity": 0.6,
          "symbol": "circle"
         },
         "mode": "markers",
         "name": "Gabon",
         "orientation": "v",
         "showlegend": true,
         "type": "scatter",
         "x": [
          62.16
         ],
         "xaxis": "x",
         "y": [
          20.39
         ],
         "yaxis": "y"
        },
        {
         "hovertemplate": "Country=Ghana<br>LifeExp_2010=%{x}<br>Unemployment_2010=%{y}<extra></extra>",
         "legendgroup": "Ghana",
         "marker": {
          "color": "#19d3f3",
          "opacity": 0.6,
          "symbol": "circle"
         },
         "mode": "markers",
         "name": "Ghana",
         "orientation": "v",
         "showlegend": true,
         "type": "scatter",
         "x": [
          62
         ],
         "xaxis": "x",
         "y": [
          5.38
         ],
         "yaxis": "y"
        },
        {
         "hovertemplate": "Country=Guinea<br>LifeExp_2010=%{x}<br>Unemployment_2010=%{y}<extra></extra>",
         "legendgroup": "Guinea",
         "marker": {
          "color": "#FF6692",
          "opacity": 0.6,
          "symbol": "circle"
         },
         "mode": "markers",
         "name": "Guinea",
         "orientation": "v",
         "showlegend": true,
         "type": "scatter",
         "x": [
          58.07
         ],
         "xaxis": "x",
         "y": [
          4.77
         ],
         "yaxis": "y"
        },
        {
         "hovertemplate": "Country=Guinea-Bissau<br>LifeExp_2010=%{x}<br>Unemployment_2010=%{y}<extra></extra>",
         "legendgroup": "Guinea-Bissau",
         "marker": {
          "color": "#B6E880",
          "opacity": 0.6,
          "symbol": "circle"
         },
         "mode": "markers",
         "name": "Guinea-Bissau",
         "orientation": "v",
         "showlegend": true,
         "type": "scatter",
         "x": [
          55.43
         ],
         "xaxis": "x",
         "y": [
          6.08
         ],
         "yaxis": "y"
        },
        {
         "hovertemplate": "Country=Kenya<br>LifeExp_2010=%{x}<br>Unemployment_2010=%{y}<extra></extra>",
         "legendgroup": "Kenya",
         "marker": {
          "color": "#FF97FF",
          "opacity": 0.6,
          "symbol": "circle"
         },
         "mode": "markers",
         "name": "Kenya",
         "orientation": "v",
         "showlegend": true,
         "type": "scatter",
         "x": [
          61.18
         ],
         "xaxis": "x",
         "y": [
          2.84
         ],
         "yaxis": "y"
        },
        {
         "hovertemplate": "Country=Lesotho<br>LifeExp_2010=%{x}<br>Unemployment_2010=%{y}<extra></extra>",
         "legendgroup": "Lesotho",
         "marker": {
          "color": "#FECB52",
          "opacity": 0.6,
          "symbol": "circle"
         },
         "mode": "markers",
         "name": "Lesotho",
         "orientation": "v",
         "showlegend": true,
         "type": "scatter",
         "x": [
          47.38
         ],
         "xaxis": "x",
         "y": [
          27.08
         ],
         "yaxis": "y"
        },
        {
         "hovertemplate": "Country=Liberia<br>LifeExp_2010=%{x}<br>Unemployment_2010=%{y}<extra></extra>",
         "legendgroup": "Liberia",
         "marker": {
          "color": "#636efa",
          "opacity": 0.6,
          "symbol": "circle"
         },
         "mode": "markers",
         "name": "Liberia",
         "orientation": "v",
         "showlegend": true,
         "type": "scatter",
         "x": [
          60.7
         ],
         "xaxis": "x",
         "y": [
          2.27
         ],
         "yaxis": "y"
        },
        {
         "hovertemplate": "Country=Madagascar<br>LifeExp_2010=%{x}<br>Unemployment_2010=%{y}<extra></extra>",
         "legendgroup": "Madagascar",
         "marker": {
          "color": "#EF553B",
          "opacity": 0.6,
          "symbol": "circle"
         },
         "mode": "markers",
         "name": "Madagascar",
         "orientation": "v",
         "showlegend": true,
         "type": "scatter",
         "x": [
          62.79
         ],
         "xaxis": "x",
         "y": [
          4.28
         ],
         "yaxis": "y"
        },
        {
         "hovertemplate": "Country=Malawi<br>LifeExp_2010=%{x}<br>Unemployment_2010=%{y}<extra></extra>",
         "legendgroup": "Malawi",
         "marker": {
          "color": "#00cc96",
          "opacity": 0.6,
          "symbol": "circle"
         },
         "mode": "markers",
         "name": "Malawi",
         "orientation": "v",
         "showlegend": true,
         "type": "scatter",
         "x": [
          56.8
         ],
         "xaxis": "x",
         "y": [
          5.89
         ],
         "yaxis": "y"
        },
        {
         "hovertemplate": "Country=Mali<br>LifeExp_2010=%{x}<br>Unemployment_2010=%{y}<extra></extra>",
         "legendgroup": "Mali",
         "marker": {
          "color": "#ab63fa",
          "opacity": 0.6,
          "symbol": "circle"
         },
         "mode": "markers",
         "name": "Mali",
         "orientation": "v",
         "showlegend": true,
         "type": "scatter",
         "x": [
          59.05
         ],
         "xaxis": "x",
         "y": [
          8.07
         ],
         "yaxis": "y"
        },
        {
         "hovertemplate": "Country=Mauritania<br>LifeExp_2010=%{x}<br>Unemployment_2010=%{y}<extra></extra>",
         "legendgroup": "Mauritania",
         "marker": {
          "color": "#FFA15A",
          "opacity": 0.6,
          "symbol": "circle"
         },
         "mode": "markers",
         "name": "Mauritania",
         "orientation": "v",
         "showlegend": true,
         "type": "scatter",
         "x": [
          65.59
         ],
         "xaxis": "x",
         "y": [
          9.86
         ],
         "yaxis": "y"
        },
        {
         "hovertemplate": "Country=Mauritius<br>LifeExp_2010=%{x}<br>Unemployment_2010=%{y}<extra></extra>",
         "legendgroup": "Mauritius",
         "marker": {
          "color": "#19d3f3",
          "opacity": 0.6,
          "symbol": "circle"
         },
         "mode": "markers",
         "name": "Mauritius",
         "orientation": "v",
         "showlegend": true,
         "type": "scatter",
         "x": [
          73.24
         ],
         "xaxis": "x",
         "y": [
          7.65
         ],
         "yaxis": "y"
        },
        {
         "hovertemplate": "Country=Mozambique<br>LifeExp_2010=%{x}<br>Unemployment_2010=%{y}<extra></extra>",
         "legendgroup": "Mozambique",
         "marker": {
          "color": "#FF6692",
          "opacity": 0.6,
          "symbol": "circle"
         },
         "mode": "markers",
         "name": "Mozambique",
         "orientation": "v",
         "showlegend": true,
         "type": "scatter",
         "x": [
          53.48
         ],
         "xaxis": "x",
         "y": [
          3.22
         ],
         "yaxis": "y"
        },
        {
         "hovertemplate": "Country=Namibia<br>LifeExp_2010=%{x}<br>Unemployment_2010=%{y}<extra></extra>",
         "legendgroup": "Namibia",
         "marker": {
          "color": "#B6E880",
          "opacity": 0.6,
          "symbol": "circle"
         },
         "mode": "markers",
         "name": "Namibia",
         "orientation": "v",
         "showlegend": true,
         "type": "scatter",
         "x": [
          60.94
         ],
         "xaxis": "x",
         "y": [
          22.12
         ],
         "yaxis": "y"
        },
        {
         "hovertemplate": "Country=Niger<br>LifeExp_2010=%{x}<br>Unemployment_2010=%{y}<extra></extra>",
         "legendgroup": "Niger",
         "marker": {
          "color": "#FF97FF",
          "opacity": 0.6,
          "symbol": "circle"
         },
         "mode": "markers",
         "name": "Niger",
         "orientation": "v",
         "showlegend": true,
         "type": "scatter",
         "x": [
          58.95
         ],
         "xaxis": "x",
         "y": [
          0.78
         ],
         "yaxis": "y"
        },
        {
         "hovertemplate": "Country=Nigeria<br>LifeExp_2010=%{x}<br>Unemployment_2010=%{y}<extra></extra>",
         "legendgroup": "Nigeria",
         "marker": {
          "color": "#FECB52",
          "opacity": 0.6,
          "symbol": "circle"
         },
         "mode": "markers",
         "name": "Nigeria",
         "orientation": "v",
         "showlegend": true,
         "type": "scatter",
         "x": [
          59.24
         ],
         "xaxis": "x",
         "y": [
          3.78
         ],
         "yaxis": "y"
        },
        {
         "hovertemplate": "Country=Rwanda<br>LifeExp_2010=%{x}<br>Unemployment_2010=%{y}<extra></extra>",
         "legendgroup": "Rwanda",
         "marker": {
          "color": "#636efa",
          "opacity": 0.6,
          "symbol": "circle"
         },
         "mode": "markers",
         "name": "Rwanda",
         "orientation": "v",
         "showlegend": true,
         "type": "scatter",
         "x": [
          64.44
         ],
         "xaxis": "x",
         "y": [
          1.08
         ],
         "yaxis": "y"
        },
        {
         "hovertemplate": "Country=Sao Tome and Principe<br>LifeExp_2010=%{x}<br>Unemployment_2010=%{y}<extra></extra>",
         "legendgroup": "Sao Tome and Principe",
         "marker": {
          "color": "#EF553B",
          "opacity": 0.6,
          "symbol": "circle"
         },
         "mode": "markers",
         "name": "Sao Tome and Principe",
         "orientation": "v",
         "showlegend": true,
         "type": "scatter",
         "x": [
          68.24
         ],
         "xaxis": "x",
         "y": [
          14.6
         ],
         "yaxis": "y"
        },
        {
         "hovertemplate": "Country=Senegal<br>LifeExp_2010=%{x}<br>Unemployment_2010=%{y}<extra></extra>",
         "legendgroup": "Senegal",
         "marker": {
          "color": "#00cc96",
          "opacity": 0.6,
          "symbol": "circle"
         },
         "mode": "markers",
         "name": "Senegal",
         "orientation": "v",
         "showlegend": true,
         "type": "scatter",
         "x": [
          65.47
         ],
         "xaxis": "x",
         "y": [
          10.26
         ],
         "yaxis": "y"
        },
        {
         "hovertemplate": "Country=Sierra Leone<br>LifeExp_2010=%{x}<br>Unemployment_2010=%{y}<extra></extra>",
         "legendgroup": "Sierra Leone",
         "marker": {
          "color": "#ab63fa",
          "opacity": 0.6,
          "symbol": "circle"
         },
         "mode": "markers",
         "name": "Sierra Leone",
         "orientation": "v",
         "showlegend": true,
         "type": "scatter",
         "x": [
          54.74
         ],
         "xaxis": "x",
         "y": [
          4.17
         ],
         "yaxis": "y"
        },
        {
         "hovertemplate": "Country=South Africa<br>LifeExp_2010=%{x}<br>Unemployment_2010=%{y}<extra></extra>",
         "legendgroup": "South Africa",
         "marker": {
          "color": "#FFA15A",
          "opacity": 0.6,
          "symbol": "circle"
         },
         "mode": "markers",
         "name": "South Africa",
         "orientation": "v",
         "showlegend": true,
         "type": "scatter",
         "x": [
          57.14
         ],
         "xaxis": "x",
         "y": [
          24.68
         ],
         "yaxis": "y"
        },
        {
         "hovertemplate": "Country=South Sudan<br>LifeExp_2010=%{x}<br>Unemployment_2010=%{y}<extra></extra>",
         "legendgroup": "South Sudan",
         "marker": {
          "color": "#19d3f3",
          "opacity": 0.6,
          "symbol": "circle"
         },
         "mode": "markers",
         "name": "South Sudan",
         "orientation": "v",
         "showlegend": true,
         "type": "scatter",
         "x": [
          61.1
         ],
         "xaxis": "x",
         "y": [
          12.18
         ],
         "yaxis": "y"
        },
        {
         "hovertemplate": "Country=Togo<br>LifeExp_2010=%{x}<br>Unemployment_2010=%{y}<extra></extra>",
         "legendgroup": "Togo",
         "marker": {
          "color": "#FF6692",
          "opacity": 0.6,
          "symbol": "circle"
         },
         "mode": "markers",
         "name": "Togo",
         "orientation": "v",
         "showlegend": true,
         "type": "scatter",
         "x": [
          59.33
         ],
         "xaxis": "x",
         "y": [
          2.43
         ],
         "yaxis": "y"
        },
        {
         "hovertemplate": "Country=Uganda<br>LifeExp_2010=%{x}<br>Unemployment_2010=%{y}<extra></extra>",
         "legendgroup": "Uganda",
         "marker": {
          "color": "#B6E880",
          "opacity": 0.6,
          "symbol": "circle"
         },
         "mode": "markers",
         "name": "Uganda",
         "orientation": "v",
         "showlegend": true,
         "type": "scatter",
         "x": [
          59.67
         ],
         "xaxis": "x",
         "y": [
          3.59
         ],
         "yaxis": "y"
        },
        {
         "hovertemplate": "Country=Zambia<br>LifeExp_2010=%{x}<br>Unemployment_2010=%{y}<extra></extra>",
         "legendgroup": "Zambia",
         "marker": {
          "color": "#FF97FF",
          "opacity": 0.6,
          "symbol": "circle"
         },
         "mode": "markers",
         "name": "Zambia",
         "orientation": "v",
         "showlegend": true,
         "type": "scatter",
         "x": [
          56.67
         ],
         "xaxis": "x",
         "y": [
          13.19
         ],
         "yaxis": "y"
        },
        {
         "hovertemplate": "Country=Zimbabwe<br>LifeExp_2010=%{x}<br>Unemployment_2010=%{y}<extra></extra>",
         "legendgroup": "Zimbabwe",
         "marker": {
          "color": "#FECB52",
          "opacity": 0.6,
          "symbol": "circle"
         },
         "mode": "markers",
         "name": "Zimbabwe",
         "orientation": "v",
         "showlegend": true,
         "type": "scatter",
         "x": [
          51.49
         ],
         "xaxis": "x",
         "y": [
          5.21
         ],
         "yaxis": "y"
        },
        {
         "hovertemplate": "Country=Argentina<br>LifeExp_2010=%{x}<br>Unemployment_2010=%{y}<extra></extra>",
         "legendgroup": "Argentina",
         "marker": {
          "color": "#636efa",
          "opacity": 0.6,
          "symbol": "circle"
         },
         "mode": "markers",
         "name": "Argentina",
         "orientation": "v",
         "showlegend": true,
         "type": "scatter",
         "x": [
          75.44
         ],
         "xaxis": "x",
         "y": [
          7.71
         ],
         "yaxis": "y"
        },
        {
         "hovertemplate": "Country=Barbados<br>LifeExp_2010=%{x}<br>Unemployment_2010=%{y}<extra></extra>",
         "legendgroup": "Barbados",
         "marker": {
          "color": "#EF553B",
          "opacity": 0.6,
          "symbol": "circle"
         },
         "mode": "markers",
         "name": "Barbados",
         "orientation": "v",
         "showlegend": true,
         "type": "scatter",
         "x": [
          75.88
         ],
         "xaxis": "x",
         "y": [
          10.69
         ],
         "yaxis": "y"
        },
        {
         "hovertemplate": "Country=Belize<br>LifeExp_2010=%{x}<br>Unemployment_2010=%{y}<extra></extra>",
         "legendgroup": "Belize",
         "marker": {
          "color": "#00cc96",
          "opacity": 0.6,
          "symbol": "circle"
         },
         "mode": "markers",
         "name": "Belize",
         "orientation": "v",
         "showlegend": true,
         "type": "scatter",
         "x": [
          73.39
         ],
         "xaxis": "x",
         "y": [
          8.24
         ],
         "yaxis": "y"
        },
        {
         "hovertemplate": "Country=Brazil<br>LifeExp_2010=%{x}<br>Unemployment_2010=%{y}<extra></extra>",
         "legendgroup": "Brazil",
         "marker": {
          "color": "#ab63fa",
          "opacity": 0.6,
          "symbol": "circle"
         },
         "mode": "markers",
         "name": "Brazil",
         "orientation": "v",
         "showlegend": true,
         "type": "scatter",
         "x": [
          74.09
         ],
         "xaxis": "x",
         "y": [
          7.27
         ],
         "yaxis": "y"
        },
        {
         "hovertemplate": "Country=Canada<br>LifeExp_2010=%{x}<br>Unemployment_2010=%{y}<extra></extra>",
         "legendgroup": "Canada",
         "marker": {
          "color": "#FFA15A",
          "opacity": 0.6,
          "symbol": "circle"
         },
         "mode": "markers",
         "name": "Canada",
         "orientation": "v",
         "showlegend": true,
         "type": "scatter",
         "x": [
          81.31
         ],
         "xaxis": "x",
         "y": [
          8.06
         ],
         "yaxis": "y"
        },
        {
         "hovertemplate": "Country=Chile<br>LifeExp_2010=%{x}<br>Unemployment_2010=%{y}<extra></extra>",
         "legendgroup": "Chile",
         "marker": {
          "color": "#19d3f3",
          "opacity": 0.6,
          "symbol": "circle"
         },
         "mode": "markers",
         "name": "Chile",
         "orientation": "v",
         "showlegend": true,
         "type": "scatter",
         "x": [
          78.46
         ],
         "xaxis": "x",
         "y": [
          8.42
         ],
         "yaxis": "y"
        },
        {
         "hovertemplate": "Country=Colombia<br>LifeExp_2010=%{x}<br>Unemployment_2010=%{y}<extra></extra>",
         "legendgroup": "Colombia",
         "marker": {
          "color": "#FF6692",
          "opacity": 0.6,
          "symbol": "circle"
         },
         "mode": "markers",
         "name": "Colombia",
         "orientation": "v",
         "showlegend": true,
         "type": "scatter",
         "x": [
          77.09
         ],
         "xaxis": "x",
         "y": [
          10.98
         ],
         "yaxis": "y"
        },
        {
         "hovertemplate": "Country=Costa Rica<br>LifeExp_2010=%{x}<br>Unemployment_2010=%{y}<extra></extra>",
         "legendgroup": "Costa Rica",
         "marker": {
          "color": "#B6E880",
          "opacity": 0.6,
          "symbol": "circle"
         },
         "mode": "markers",
         "name": "Costa Rica",
         "orientation": "v",
         "showlegend": true,
         "type": "scatter",
         "x": [
          79.56
         ],
         "xaxis": "x",
         "y": [
          7.17
         ],
         "yaxis": "y"
        },
        {
         "hovertemplate": "Country=Cuba<br>LifeExp_2010=%{x}<br>Unemployment_2010=%{y}<extra></extra>",
         "legendgroup": "Cuba",
         "marker": {
          "color": "#FF97FF",
          "opacity": 0.6,
          "symbol": "circle"
         },
         "mode": "markers",
         "name": "Cuba",
         "orientation": "v",
         "showlegend": true,
         "type": "scatter",
         "x": [
          77.65
         ],
         "xaxis": "x",
         "y": [
          2.5
         ],
         "yaxis": "y"
        },
        {
         "hovertemplate": "Country=Dominican Republic<br>LifeExp_2010=%{x}<br>Unemployment_2010=%{y}<extra></extra>",
         "legendgroup": "Dominican Republic",
         "marker": {
          "color": "#FECB52",
          "opacity": 0.6,
          "symbol": "circle"
         },
         "mode": "markers",
         "name": "Dominican Republic",
         "orientation": "v",
         "showlegend": true,
         "type": "scatter",
         "x": [
          73.17
         ],
         "xaxis": "x",
         "y": [
          5.21
         ],
         "yaxis": "y"
        },
        {
         "hovertemplate": "Country=Ecuador<br>LifeExp_2010=%{x}<br>Unemployment_2010=%{y}<extra></extra>",
         "legendgroup": "Ecuador",
         "marker": {
          "color": "#636efa",
          "opacity": 0.6,
          "symbol": "circle"
         },
         "mode": "markers",
         "name": "Ecuador",
         "orientation": "v",
         "showlegend": true,
         "type": "scatter",
         "x": [
          75.02
         ],
         "xaxis": "x",
         "y": [
          4.09
         ],
         "yaxis": "y"
        },
        {
         "hovertemplate": "Country=El Salvador<br>LifeExp_2010=%{x}<br>Unemployment_2010=%{y}<extra></extra>",
         "legendgroup": "El Salvador",
         "marker": {
          "color": "#EF553B",
          "opacity": 0.6,
          "symbol": "circle"
         },
         "mode": "markers",
         "name": "El Salvador",
         "orientation": "v",
         "showlegend": true,
         "type": "scatter",
         "x": [
          74.5
         ],
         "xaxis": "x",
         "y": [
          4.89
         ],
         "yaxis": "y"
        },
        {
         "hovertemplate": "Country=Guatemala<br>LifeExp_2010=%{x}<br>Unemployment_2010=%{y}<extra></extra>",
         "legendgroup": "Guatemala",
         "marker": {
          "color": "#00cc96",
          "opacity": 0.6,
          "symbol": "circle"
         },
         "mode": "markers",
         "name": "Guatemala",
         "orientation": "v",
         "showlegend": true,
         "type": "scatter",
         "x": [
          69.3
         ],
         "xaxis": "x",
         "y": [
          3.5
         ],
         "yaxis": "y"
        },
        {
         "hovertemplate": "Country=Guyana<br>LifeExp_2010=%{x}<br>Unemployment_2010=%{y}<extra></extra>",
         "legendgroup": "Guyana",
         "marker": {
          "color": "#ab63fa",
          "opacity": 0.6,
          "symbol": "circle"
         },
         "mode": "markers",
         "name": "Guyana",
         "orientation": "v",
         "showlegend": true,
         "type": "scatter",
         "x": [
          64.77
         ],
         "xaxis": "x",
         "y": [
          11.8
         ],
         "yaxis": "y"
        },
        {
         "hovertemplate": "Country=Haiti<br>LifeExp_2010=%{x}<br>Unemployment_2010=%{y}<extra></extra>",
         "legendgroup": "Haiti",
         "marker": {
          "color": "#FFA15A",
          "opacity": 0.6,
          "symbol": "circle"
         },
         "mode": "markers",
         "name": "Haiti",
         "orientation": "v",
         "showlegend": true,
         "type": "scatter",
         "x": [
          31.28
         ],
         "xaxis": "x",
         "y": [
          15.38
         ],
         "yaxis": "y"
        },
        {
         "hovertemplate": "Country=Honduras<br>LifeExp_2010=%{x}<br>Unemployment_2010=%{y}<extra></extra>",
         "legendgroup": "Honduras",
         "marker": {
          "color": "#19d3f3",
          "opacity": 0.6,
          "symbol": "circle"
         },
         "mode": "markers",
         "name": "Honduras",
         "orientation": "v",
         "showlegend": true,
         "type": "scatter",
         "x": [
          71.15
         ],
         "xaxis": "x",
         "y": [
          4.12
         ],
         "yaxis": "y"
        },
        {
         "hovertemplate": "Country=Jamaica<br>LifeExp_2010=%{x}<br>Unemployment_2010=%{y}<extra></extra>",
         "legendgroup": "Jamaica",
         "marker": {
          "color": "#FF6692",
          "opacity": 0.6,
          "symbol": "circle"
         },
         "mode": "markers",
         "name": "Jamaica",
         "orientation": "v",
         "showlegend": true,
         "type": "scatter",
         "x": [
          75.77
         ],
         "xaxis": "x",
         "y": [
          12.37
         ],
         "yaxis": "y"
        },
        {
         "hovertemplate": "Country=Mexico<br>LifeExp_2010=%{x}<br>Unemployment_2010=%{y}<extra></extra>",
         "legendgroup": "Mexico",
         "marker": {
          "color": "#B6E880",
          "opacity": 0.6,
          "symbol": "circle"
         },
         "mode": "markers",
         "name": "Mexico",
         "orientation": "v",
         "showlegend": true,
         "type": "scatter",
         "x": [
          75.13
         ],
         "xaxis": "x",
         "y": [
          5.3
         ],
         "yaxis": "y"
        },
        {
         "hovertemplate": "Country=Nicaragua<br>LifeExp_2010=%{x}<br>Unemployment_2010=%{y}<extra></extra>",
         "legendgroup": "Nicaragua",
         "marker": {
          "color": "#FF97FF",
          "opacity": 0.6,
          "symbol": "circle"
         },
         "mode": "markers",
         "name": "Nicaragua",
         "orientation": "v",
         "showlegend": true,
         "type": "scatter",
         "x": [
          74.05
         ],
         "xaxis": "x",
         "y": [
          7.83
         ],
         "yaxis": "y"
        },
        {
         "hovertemplate": "Country=Panama<br>LifeExp_2010=%{x}<br>Unemployment_2010=%{y}<extra></extra>",
         "legendgroup": "Panama",
         "marker": {
          "color": "#FECB52",
          "opacity": 0.6,
          "symbol": "circle"
         },
         "mode": "markers",
         "name": "Panama",
         "orientation": "v",
         "showlegend": true,
         "type": "scatter",
         "x": [
          77.53
         ],
         "xaxis": "x",
         "y": [
          3.72
         ],
         "yaxis": "y"
        },
        {
         "hovertemplate": "Country=Paraguay<br>LifeExp_2010=%{x}<br>Unemployment_2010=%{y}<extra></extra>",
         "legendgroup": "Paraguay",
         "marker": {
          "color": "#636efa",
          "opacity": 0.6,
          "symbol": "circle"
         },
         "mode": "markers",
         "name": "Paraguay",
         "orientation": "v",
         "showlegend": true,
         "type": "scatter",
         "x": [
          74.99
         ],
         "xaxis": "x",
         "y": [
          4.57
         ],
         "yaxis": "y"
        },
        {
         "hovertemplate": "Country=Peru<br>LifeExp_2010=%{x}<br>Unemployment_2010=%{y}<extra></extra>",
         "legendgroup": "Peru",
         "marker": {
          "color": "#EF553B",
          "opacity": 0.6,
          "symbol": "circle"
         },
         "mode": "markers",
         "name": "Peru",
         "orientation": "v",
         "showlegend": true,
         "type": "scatter",
         "x": [
          77.28
         ],
         "xaxis": "x",
         "y": [
          3.58
         ],
         "yaxis": "y"
        },
        {
         "hovertemplate": "Country=Suriname<br>LifeExp_2010=%{x}<br>Unemployment_2010=%{y}<extra></extra>",
         "legendgroup": "Suriname",
         "marker": {
          "color": "#00cc96",
          "opacity": 0.6,
          "symbol": "circle"
         },
         "mode": "markers",
         "name": "Suriname",
         "orientation": "v",
         "showlegend": true,
         "type": "scatter",
         "x": [
          71.83
         ],
         "xaxis": "x",
         "y": [
          7.15
         ],
         "yaxis": "y"
        },
        {
         "hovertemplate": "Country=Trinidad and Tobago<br>LifeExp_2010=%{x}<br>Unemployment_2010=%{y}<extra></extra>",
         "legendgroup": "Trinidad and Tobago",
         "marker": {
          "color": "#ab63fa",
          "opacity": 0.6,
          "symbol": "circle"
         },
         "mode": "markers",
         "name": "Trinidad and Tobago",
         "orientation": "v",
         "showlegend": true,
         "type": "scatter",
         "x": [
          72.12
         ],
         "xaxis": "x",
         "y": [
          4.03
         ],
         "yaxis": "y"
        },
        {
         "hovertemplate": "Country=Uruguay<br>LifeExp_2010=%{x}<br>Unemployment_2010=%{y}<extra></extra>",
         "legendgroup": "Uruguay",
         "marker": {
          "color": "#FFA15A",
          "opacity": 0.6,
          "symbol": "circle"
         },
         "mode": "markers",
         "name": "Uruguay",
         "orientation": "v",
         "showlegend": true,
         "type": "scatter",
         "x": [
          76.36
         ],
         "xaxis": "x",
         "y": [
          7.16
         ],
         "yaxis": "y"
        },
        {
         "hovertemplate": "Country=Afghanistan<br>LifeExp_2010=%{x}<br>Unemployment_2010=%{y}<extra></extra>",
         "legendgroup": "Afghanistan",
         "marker": {
          "color": "#19d3f3",
          "opacity": 0.6,
          "symbol": "circle"
         },
         "mode": "markers",
         "name": "Afghanistan",
         "orientation": "v",
         "showlegend": true,
         "type": "scatter",
         "x": [
          59.94
         ],
         "xaxis": "x",
         "y": [
          11.35
         ],
         "yaxis": "y"
        },
        {
         "hovertemplate": "Country=Bahrain<br>LifeExp_2010=%{x}<br>Unemployment_2010=%{y}<extra></extra>",
         "legendgroup": "Bahrain",
         "marker": {
          "color": "#FF6692",
          "opacity": 0.6,
          "symbol": "circle"
         },
         "mode": "markers",
         "name": "Bahrain",
         "orientation": "v",
         "showlegend": true,
         "type": "scatter",
         "x": [
          74.52
         ],
         "xaxis": "x",
         "y": [
          1.13
         ],
         "yaxis": "y"
        },
        {
         "hovertemplate": "Country=Djibouti<br>LifeExp_2010=%{x}<br>Unemployment_2010=%{y}<extra></extra>",
         "legendgroup": "Djibouti",
         "marker": {
          "color": "#B6E880",
          "opacity": 0.6,
          "symbol": "circle"
         },
         "mode": "markers",
         "name": "Djibouti",
         "orientation": "v",
         "showlegend": true,
         "type": "scatter",
         "x": [
          61.87
         ],
         "xaxis": "x",
         "y": [
          27.06
         ],
         "yaxis": "y"
        },
        {
         "hovertemplate": "Country=Iraq<br>LifeExp_2010=%{x}<br>Unemployment_2010=%{y}<extra></extra>",
         "legendgroup": "Iraq",
         "marker": {
          "color": "#FF97FF",
          "opacity": 0.6,
          "symbol": "circle"
         },
         "mode": "markers",
         "name": "Iraq",
         "orientation": "v",
         "showlegend": true,
         "type": "scatter",
         "x": [
          70.24
         ],
         "xaxis": "x",
         "y": [
          8.25
         ],
         "yaxis": "y"
        },
        {
         "hovertemplate": "Country=Jordan<br>LifeExp_2010=%{x}<br>Unemployment_2010=%{y}<extra></extra>",
         "legendgroup": "Jordan",
         "marker": {
          "color": "#FECB52",
          "opacity": 0.6,
          "symbol": "circle"
         },
         "mode": "markers",
         "name": "Jordan",
         "orientation": "v",
         "showlegend": true,
         "type": "scatter",
         "x": [
          76.59
         ],
         "xaxis": "x",
         "y": [
          12.5
         ],
         "yaxis": "y"
        },
        {
         "hovertemplate": "Country=Kuwait<br>LifeExp_2010=%{x}<br>Unemployment_2010=%{y}<extra></extra>",
         "legendgroup": "Kuwait",
         "marker": {
          "color": "#636efa",
          "opacity": 0.6,
          "symbol": "circle"
         },
         "mode": "markers",
         "name": "Kuwait",
         "orientation": "v",
         "showlegend": true,
         "type": "scatter",
         "x": [
          79.83
         ],
         "xaxis": "x",
         "y": [
          1.82
         ],
         "yaxis": "y"
        },
        {
         "hovertemplate": "Country=Lebanon<br>LifeExp_2010=%{x}<br>Unemployment_2010=%{y}<extra></extra>",
         "legendgroup": "Lebanon",
         "marker": {
          "color": "#EF553B",
          "opacity": 0.6,
          "symbol": "circle"
         },
         "mode": "markers",
         "name": "Lebanon",
         "orientation": "v",
         "showlegend": true,
         "type": "scatter",
         "x": [
          75.53
         ],
         "xaxis": "x",
         "y": [
          6.84
         ],
         "yaxis": "y"
        },
        {
         "hovertemplate": "Country=Libya<br>LifeExp_2010=%{x}<br>Unemployment_2010=%{y}<extra></extra>",
         "legendgroup": "Libya",
         "marker": {
          "color": "#00cc96",
          "opacity": 0.6,
          "symbol": "circle"
         },
         "mode": "markers",
         "name": "Libya",
         "orientation": "v",
         "showlegend": true,
         "type": "scatter",
         "x": [
          76.04
         ],
         "xaxis": "x",
         "y": [
          19.27
         ],
         "yaxis": "y"
        },
        {
         "hovertemplate": "Country=Morocco<br>LifeExp_2010=%{x}<br>Unemployment_2010=%{y}<extra></extra>",
         "legendgroup": "Morocco",
         "marker": {
          "color": "#ab63fa",
          "opacity": 0.6,
          "symbol": "circle"
         },
         "mode": "markers",
         "name": "Morocco",
         "orientation": "v",
         "showlegend": true,
         "type": "scatter",
         "x": [
          71.6
         ],
         "xaxis": "x",
         "y": [
          9.09
         ],
         "yaxis": "y"
        },
        {
         "hovertemplate": "Country=Oman<br>LifeExp_2010=%{x}<br>Unemployment_2010=%{y}<extra></extra>",
         "legendgroup": "Oman",
         "marker": {
          "color": "#FFA15A",
          "opacity": 0.6,
          "symbol": "circle"
         },
         "mode": "markers",
         "name": "Oman",
         "orientation": "v",
         "showlegend": true,
         "type": "scatter",
         "x": [
          70.36
         ],
         "xaxis": "x",
         "y": [
          3.99
         ],
         "yaxis": "y"
        },
        {
         "hovertemplate": "Country=Pakistan<br>LifeExp_2010=%{x}<br>Unemployment_2010=%{y}<extra></extra>",
         "legendgroup": "Pakistan",
         "marker": {
          "color": "#19d3f3",
          "opacity": 0.6,
          "symbol": "circle"
         },
         "mode": "markers",
         "name": "Pakistan",
         "orientation": "v",
         "showlegend": true,
         "type": "scatter",
         "x": [
          62.64
         ],
         "xaxis": "x",
         "y": [
          0.65
         ],
         "yaxis": "y"
        },
        {
         "hovertemplate": "Country=Qatar<br>LifeExp_2010=%{x}<br>Unemployment_2010=%{y}<extra></extra>",
         "legendgroup": "Qatar",
         "marker": {
          "color": "#FF6692",
          "opacity": 0.6,
          "symbol": "circle"
         },
         "mode": "markers",
         "name": "Qatar",
         "orientation": "v",
         "showlegend": true,
         "type": "scatter",
         "x": [
          74.08
         ],
         "xaxis": "x",
         "y": [
          0.45
         ],
         "yaxis": "y"
        },
        {
         "hovertemplate": "Country=Saudi Arabia<br>LifeExp_2010=%{x}<br>Unemployment_2010=%{y}<extra></extra>",
         "legendgroup": "Saudi Arabia",
         "marker": {
          "color": "#B6E880",
          "opacity": 0.6,
          "symbol": "circle"
         },
         "mode": "markers",
         "name": "Saudi Arabia",
         "orientation": "v",
         "showlegend": true,
         "type": "scatter",
         "x": [
          71.76
         ],
         "xaxis": "x",
         "y": [
          5.55
         ],
         "yaxis": "y"
        },
        {
         "hovertemplate": "Country=Sudan<br>LifeExp_2010=%{x}<br>Unemployment_2010=%{y}<extra></extra>",
         "legendgroup": "Sudan",
         "marker": {
          "color": "#FF97FF",
          "opacity": 0.6,
          "symbol": "circle"
         },
         "mode": "markers",
         "name": "Sudan",
         "orientation": "v",
         "showlegend": true,
         "type": "scatter",
         "x": [
          66.56
         ],
         "xaxis": "x",
         "y": [
          15.2
         ],
         "yaxis": "y"
        },
        {
         "hovertemplate": "Country=Syrian Arab Republic<br>LifeExp_2010=%{x}<br>Unemployment_2010=%{y}<extra></extra>",
         "legendgroup": "Syrian Arab Republic",
         "marker": {
          "color": "#FECB52",
          "opacity": 0.6,
          "symbol": "circle"
         },
         "mode": "markers",
         "name": "Syrian Arab Republic",
         "orientation": "v",
         "showlegend": true,
         "type": "scatter",
         "x": [
          74.35
         ],
         "xaxis": "x",
         "y": [
          8.61
         ],
         "yaxis": "y"
        },
        {
         "hovertemplate": "Country=Tunisia<br>LifeExp_2010=%{x}<br>Unemployment_2010=%{y}<extra></extra>",
         "legendgroup": "Tunisia",
         "marker": {
          "color": "#636efa",
          "opacity": 0.6,
          "symbol": "circle"
         },
         "mode": "markers",
         "name": "Tunisia",
         "orientation": "v",
         "showlegend": true,
         "type": "scatter",
         "x": [
          76.05
         ],
         "xaxis": "x",
         "y": [
          13.05
         ],
         "yaxis": "y"
        },
        {
         "hovertemplate": "Country=United Arab Emirates<br>LifeExp_2010=%{x}<br>Unemployment_2010=%{y}<extra></extra>",
         "legendgroup": "United Arab Emirates",
         "marker": {
          "color": "#EF553B",
          "opacity": 0.6,
          "symbol": "circle"
         },
         "mode": "markers",
         "name": "United Arab Emirates",
         "orientation": "v",
         "showlegend": true,
         "type": "scatter",
         "x": [
          74.86
         ],
         "xaxis": "x",
         "y": [
          2.48
         ],
         "yaxis": "y"
        },
        {
         "hovertemplate": "Country=Albania<br>LifeExp_2010=%{x}<br>Unemployment_2010=%{y}<extra></extra>",
         "legendgroup": "Albania",
         "marker": {
          "color": "#00cc96",
          "opacity": 0.6,
          "symbol": "circle"
         },
         "mode": "markers",
         "name": "Albania",
         "orientation": "v",
         "showlegend": true,
         "type": "scatter",
         "x": [
          76.25
         ],
         "xaxis": "x",
         "y": [
          14.09
         ],
         "yaxis": "y"
        },
        {
         "hovertemplate": "Country=Armenia<br>LifeExp_2010=%{x}<br>Unemployment_2010=%{y}<extra></extra>",
         "legendgroup": "Armenia",
         "marker": {
          "color": "#ab63fa",
          "opacity": 0.6,
          "symbol": "circle"
         },
         "mode": "markers",
         "name": "Armenia",
         "orientation": "v",
         "showlegend": true,
         "type": "scatter",
         "x": [
          73.12
         ],
         "xaxis": "x",
         "y": [
          19.01
         ],
         "yaxis": "y"
        },
        {
         "hovertemplate": "Country=Austria<br>LifeExp_2010=%{x}<br>Unemployment_2010=%{y}<extra></extra>",
         "legendgroup": "Austria",
         "marker": {
          "color": "#FFA15A",
          "opacity": 0.6,
          "symbol": "circle"
         },
         "mode": "markers",
         "name": "Austria",
         "orientation": "v",
         "showlegend": true,
         "type": "scatter",
         "x": [
          80.39
         ],
         "xaxis": "x",
         "y": [
          4.82
         ],
         "yaxis": "y"
        },
        {
         "hovertemplate": "Country=Azerbaijan<br>LifeExp_2010=%{x}<br>Unemployment_2010=%{y}<extra></extra>",
         "legendgroup": "Azerbaijan",
         "marker": {
          "color": "#19d3f3",
          "opacity": 0.6,
          "symbol": "circle"
         },
         "mode": "markers",
         "name": "Azerbaijan",
         "orientation": "v",
         "showlegend": true,
         "type": "scatter",
         "x": [
          69.03
         ],
         "xaxis": "x",
         "y": [
          5.63
         ],
         "yaxis": "y"
        },
        {
         "hovertemplate": "Country=Belarus<br>LifeExp_2010=%{x}<br>Unemployment_2010=%{y}<extra></extra>",
         "legendgroup": "Belarus",
         "marker": {
          "color": "#FF6692",
          "opacity": 0.6,
          "symbol": "circle"
         },
         "mode": "markers",
         "name": "Belarus",
         "orientation": "v",
         "showlegend": true,
         "type": "scatter",
         "x": [
          70.39
         ],
         "xaxis": "x",
         "y": [
          6.25
         ],
         "yaxis": "y"
        },
        {
         "hovertemplate": "Country=Belgium<br>LifeExp_2010=%{x}<br>Unemployment_2010=%{y}<extra></extra>",
         "legendgroup": "Belgium",
         "marker": {
          "color": "#B6E880",
          "opacity": 0.6,
          "symbol": "circle"
         },
         "mode": "markers",
         "name": "Belgium",
         "orientation": "v",
         "showlegend": true,
         "type": "scatter",
         "x": [
          79.85
         ],
         "xaxis": "x",
         "y": [
          8.29
         ],
         "yaxis": "y"
        },
        {
         "hovertemplate": "Country=Bosnia and Herzegovina<br>LifeExp_2010=%{x}<br>Unemployment_2010=%{y}<extra></extra>",
         "legendgroup": "Bosnia and Herzegovina",
         "marker": {
          "color": "#FF97FF",
          "opacity": 0.6,
          "symbol": "circle"
         },
         "mode": "markers",
         "name": "Bosnia and Herzegovina",
         "orientation": "v",
         "showlegend": true,
         "type": "scatter",
         "x": [
          76.19
         ],
         "xaxis": "x",
         "y": [
          27.31
         ],
         "yaxis": "y"
        },
        {
         "hovertemplate": "Country=Bulgaria<br>LifeExp_2010=%{x}<br>Unemployment_2010=%{y}<extra></extra>",
         "legendgroup": "Bulgaria",
         "marker": {
          "color": "#FECB52",
          "opacity": 0.6,
          "symbol": "circle"
         },
         "mode": "markers",
         "name": "Bulgaria",
         "orientation": "v",
         "showlegend": true,
         "type": "scatter",
         "x": [
          73.64
         ],
         "xaxis": "x",
         "y": [
          10.28
         ],
         "yaxis": "y"
        },
        {
         "hovertemplate": "Country=Croatia<br>LifeExp_2010=%{x}<br>Unemployment_2010=%{y}<extra></extra>",
         "legendgroup": "Croatia",
         "marker": {
          "color": "#636efa",
          "opacity": 0.6,
          "symbol": "circle"
         },
         "mode": "markers",
         "name": "Croatia",
         "orientation": "v",
         "showlegend": true,
         "type": "scatter",
         "x": [
          76.72
         ],
         "xaxis": "x",
         "y": [
          11.62
         ],
         "yaxis": "y"
        },
        {
         "hovertemplate": "Country=Cyprus<br>LifeExp_2010=%{x}<br>Unemployment_2010=%{y}<extra></extra>",
         "legendgroup": "Cyprus",
         "marker": {
          "color": "#EF553B",
          "opacity": 0.6,
          "symbol": "circle"
         },
         "mode": "markers",
         "name": "Cyprus",
         "orientation": "v",
         "showlegend": true,
         "type": "scatter",
         "x": [
          81.02
         ],
         "xaxis": "x",
         "y": [
          6.26
         ],
         "yaxis": "y"
        },
        {
         "hovertemplate": "Country=Denmark<br>LifeExp_2010=%{x}<br>Unemployment_2010=%{y}<extra></extra>",
         "legendgroup": "Denmark",
         "marker": {
          "color": "#00cc96",
          "opacity": 0.6,
          "symbol": "circle"
         },
         "mode": "markers",
         "name": "Denmark",
         "orientation": "v",
         "showlegend": true,
         "type": "scatter",
         "x": [
          79.17
         ],
         "xaxis": "x",
         "y": [
          7.75
         ],
         "yaxis": "y"
        },
        {
         "hovertemplate": "Country=Estonia<br>LifeExp_2010=%{x}<br>Unemployment_2010=%{y}<extra></extra>",
         "legendgroup": "Estonia",
         "marker": {
          "color": "#ab63fa",
          "opacity": 0.6,
          "symbol": "circle"
         },
         "mode": "markers",
         "name": "Estonia",
         "orientation": "v",
         "showlegend": true,
         "type": "scatter",
         "x": [
          75.87
         ],
         "xaxis": "x",
         "y": [
          16.71
         ],
         "yaxis": "y"
        },
        {
         "hovertemplate": "Country=Finland<br>LifeExp_2010=%{x}<br>Unemployment_2010=%{y}<extra></extra>",
         "legendgroup": "Finland",
         "marker": {
          "color": "#FFA15A",
          "opacity": 0.6,
          "symbol": "circle"
         },
         "mode": "markers",
         "name": "Finland",
         "orientation": "v",
         "showlegend": true,
         "type": "scatter",
         "x": [
          79.88
         ],
         "xaxis": "x",
         "y": [
          8.39
         ],
         "yaxis": "y"
        },
        {
         "hovertemplate": "Country=France<br>LifeExp_2010=%{x}<br>Unemployment_2010=%{y}<extra></extra>",
         "legendgroup": "France",
         "marker": {
          "color": "#19d3f3",
          "opacity": 0.6,
          "symbol": "circle"
         },
         "mode": "markers",
         "name": "France",
         "orientation": "v",
         "showlegend": true,
         "type": "scatter",
         "x": [
          81.22
         ],
         "xaxis": "x",
         "y": [
          8.87
         ],
         "yaxis": "y"
        },
        {
         "hovertemplate": "Country=Georgia<br>LifeExp_2010=%{x}<br>Unemployment_2010=%{y}<extra></extra>",
         "legendgroup": "Georgia",
         "marker": {
          "color": "#FF6692",
          "opacity": 0.6,
          "symbol": "circle"
         },
         "mode": "markers",
         "name": "Georgia",
         "orientation": "v",
         "showlegend": true,
         "type": "scatter",
         "x": [
          71.87
         ],
         "xaxis": "x",
         "y": [
          20.2
         ],
         "yaxis": "y"
        },
        {
         "hovertemplate": "Country=Germany<br>LifeExp_2010=%{x}<br>Unemployment_2010=%{y}<extra></extra>",
         "legendgroup": "Germany",
         "marker": {
          "color": "#B6E880",
          "opacity": 0.6,
          "symbol": "circle"
         },
         "mode": "markers",
         "name": "Germany",
         "orientation": "v",
         "showlegend": true,
         "type": "scatter",
         "x": [
          80.17
         ],
         "xaxis": "x",
         "y": [
          6.97
         ],
         "yaxis": "y"
        },
        {
         "hovertemplate": "Country=Greece<br>LifeExp_2010=%{x}<br>Unemployment_2010=%{y}<extra></extra>",
         "legendgroup": "Greece",
         "marker": {
          "color": "#FF97FF",
          "opacity": 0.6,
          "symbol": "circle"
         },
         "mode": "markers",
         "name": "Greece",
         "orientation": "v",
         "showlegend": true,
         "type": "scatter",
         "x": [
          80.1
         ],
         "xaxis": "x",
         "y": [
          12.71
         ],
         "yaxis": "y"
        },
        {
         "hovertemplate": "Country=Hungary<br>LifeExp_2010=%{x}<br>Unemployment_2010=%{y}<extra></extra>",
         "legendgroup": "Hungary",
         "marker": {
          "color": "#FECB52",
          "opacity": 0.6,
          "symbol": "circle"
         },
         "mode": "markers",
         "name": "Hungary",
         "orientation": "v",
         "showlegend": true,
         "type": "scatter",
         "x": [
          74.58
         ],
         "xaxis": "x",
         "y": [
          11.17
         ],
         "yaxis": "y"
        },
        {
         "hovertemplate": "Country=Iceland<br>LifeExp_2010=%{x}<br>Unemployment_2010=%{y}<extra></extra>",
         "legendgroup": "Iceland",
         "marker": {
          "color": "#636efa",
          "opacity": 0.6,
          "symbol": "circle"
         },
         "mode": "markers",
         "name": "Iceland",
         "orientation": "v",
         "showlegend": true,
         "type": "scatter",
         "x": [
          81.68
         ],
         "xaxis": "x",
         "y": [
          7.56
         ],
         "yaxis": "y"
        },
        {
         "hovertemplate": "Country=Ireland<br>LifeExp_2010=%{x}<br>Unemployment_2010=%{y}<extra></extra>",
         "legendgroup": "Ireland",
         "marker": {
          "color": "#EF553B",
          "opacity": 0.6,
          "symbol": "circle"
         },
         "mode": "markers",
         "name": "Ireland",
         "orientation": "v",
         "showlegend": true,
         "type": "scatter",
         "x": [
          80.41
         ],
         "xaxis": "x",
         "y": [
          14.53
         ],
         "yaxis": "y"
        },
        {
         "hovertemplate": "Country=Israel<br>LifeExp_2010=%{x}<br>Unemployment_2010=%{y}<extra></extra>",
         "legendgroup": "Israel",
         "marker": {
          "color": "#00cc96",
          "opacity": 0.6,
          "symbol": "circle"
         },
         "mode": "markers",
         "name": "Israel",
         "orientation": "v",
         "showlegend": true,
         "type": "scatter",
         "x": [
          81.56
         ],
         "xaxis": "x",
         "y": [
          8.48
         ],
         "yaxis": "y"
        },
        {
         "hovertemplate": "Country=Italy<br>LifeExp_2010=%{x}<br>Unemployment_2010=%{y}<extra></extra>",
         "legendgroup": "Italy",
         "marker": {
          "color": "#ab63fa",
          "opacity": 0.6,
          "symbol": "circle"
         },
         "mode": "markers",
         "name": "Italy",
         "orientation": "v",
         "showlegend": true,
         "type": "scatter",
         "x": [
          81.9
         ],
         "xaxis": "x",
         "y": [
          8.36
         ],
         "yaxis": "y"
        },
        {
         "hovertemplate": "Country=Kazakhstan<br>LifeExp_2010=%{x}<br>Unemployment_2010=%{y}<extra></extra>",
         "legendgroup": "Kazakhstan",
         "marker": {
          "color": "#FFA15A",
          "opacity": 0.6,
          "symbol": "circle"
         },
         "mode": "markers",
         "name": "Kazakhstan",
         "orientation": "v",
         "showlegend": true,
         "type": "scatter",
         "x": [
          68.43
         ],
         "xaxis": "x",
         "y": [
          5.77
         ],
         "yaxis": "y"
        },
        {
         "hovertemplate": "Country=Latvia<br>LifeExp_2010=%{x}<br>Unemployment_2010=%{y}<extra></extra>",
         "legendgroup": "Latvia",
         "marker": {
          "color": "#19d3f3",
          "opacity": 0.6,
          "symbol": "circle"
         },
         "mode": "markers",
         "name": "Latvia",
         "orientation": "v",
         "showlegend": true,
         "type": "scatter",
         "x": [
          72.94
         ],
         "xaxis": "x",
         "y": [
          19.48
         ],
         "yaxis": "y"
        },
        {
         "hovertemplate": "Country=Lithuania<br>LifeExp_2010=%{x}<br>Unemployment_2010=%{y}<extra></extra>",
         "legendgroup": "Lithuania",
         "marker": {
          "color": "#FF6692",
          "opacity": 0.6,
          "symbol": "circle"
         },
         "mode": "markers",
         "name": "Lithuania",
         "orientation": "v",
         "showlegend": true,
         "type": "scatter",
         "x": [
          73.14
         ],
         "xaxis": "x",
         "y": [
          17.81
         ],
         "yaxis": "y"
        },
        {
         "hovertemplate": "Country=Luxembourg<br>LifeExp_2010=%{x}<br>Unemployment_2010=%{y}<extra></extra>",
         "legendgroup": "Luxembourg",
         "marker": {
          "color": "#B6E880",
          "opacity": 0.6,
          "symbol": "circle"
         },
         "mode": "markers",
         "name": "Luxembourg",
         "orientation": "v",
         "showlegend": true,
         "type": "scatter",
         "x": [
          80.94
         ],
         "xaxis": "x",
         "y": [
          4.36
         ],
         "yaxis": "y"
        },
        {
         "hovertemplate": "Country=Malta<br>LifeExp_2010=%{x}<br>Unemployment_2010=%{y}<extra></extra>",
         "legendgroup": "Malta",
         "marker": {
          "color": "#FF97FF",
          "opacity": 0.6,
          "symbol": "circle"
         },
         "mode": "markers",
         "name": "Malta",
         "orientation": "v",
         "showlegend": true,
         "type": "scatter",
         "x": [
          80.45
         ],
         "xaxis": "x",
         "y": [
          6.85
         ],
         "yaxis": "y"
        },
        {
         "hovertemplate": "Country=Montenegro<br>LifeExp_2010=%{x}<br>Unemployment_2010=%{y}<extra></extra>",
         "legendgroup": "Montenegro",
         "marker": {
          "color": "#FECB52",
          "opacity": 0.6,
          "symbol": "circle"
         },
         "mode": "markers",
         "name": "Montenegro",
         "orientation": "v",
         "showlegend": true,
         "type": "scatter",
         "x": [
          74.69
         ],
         "xaxis": "x",
         "y": [
          19.65
         ],
         "yaxis": "y"
        },
        {
         "hovertemplate": "Country=Netherlands<br>LifeExp_2010=%{x}<br>Unemployment_2010=%{y}<extra></extra>",
         "legendgroup": "Netherlands",
         "marker": {
          "color": "#636efa",
          "opacity": 0.6,
          "symbol": "circle"
         },
         "mode": "markers",
         "name": "Netherlands",
         "orientation": "v",
         "showlegend": true,
         "type": "scatter",
         "x": [
          80.68
         ],
         "xaxis": "x",
         "y": [
          4.99
         ],
         "yaxis": "y"
        },
        {
         "hovertemplate": "Country=Norway<br>LifeExp_2010=%{x}<br>Unemployment_2010=%{y}<extra></extra>",
         "legendgroup": "Norway",
         "marker": {
          "color": "#EF553B",
          "opacity": 0.6,
          "symbol": "circle"
         },
         "mode": "markers",
         "name": "Norway",
         "orientation": "v",
         "showlegend": true,
         "type": "scatter",
         "x": [
          80.87
         ],
         "xaxis": "x",
         "y": [
          3.52
         ],
         "yaxis": "y"
        },
        {
         "hovertemplate": "Country=Poland<br>LifeExp_2010=%{x}<br>Unemployment_2010=%{y}<extra></extra>",
         "legendgroup": "Poland",
         "marker": {
          "color": "#00cc96",
          "opacity": 0.6,
          "symbol": "circle"
         },
         "mode": "markers",
         "name": "Poland",
         "orientation": "v",
         "showlegend": true,
         "type": "scatter",
         "x": [
          76.25
         ],
         "xaxis": "x",
         "y": [
          9.64
         ],
         "yaxis": "y"
        },
        {
         "hovertemplate": "Country=Portugal<br>LifeExp_2010=%{x}<br>Unemployment_2010=%{y}<extra></extra>",
         "legendgroup": "Portugal",
         "marker": {
          "color": "#ab63fa",
          "opacity": 0.6,
          "symbol": "circle"
         },
         "mode": "markers",
         "name": "Portugal",
         "orientation": "v",
         "showlegend": true,
         "type": "scatter",
         "x": [
          79.73
         ],
         "xaxis": "x",
         "y": [
          10.77
         ],
         "yaxis": "y"
        },
        {
         "hovertemplate": "Country=Romania<br>LifeExp_2010=%{x}<br>Unemployment_2010=%{y}<extra></extra>",
         "legendgroup": "Romania",
         "marker": {
          "color": "#FFA15A",
          "opacity": 0.6,
          "symbol": "circle"
         },
         "mode": "markers",
         "name": "Romania",
         "orientation": "v",
         "showlegend": true,
         "type": "scatter",
         "x": [
          73.7
         ],
         "xaxis": "x",
         "y": [
          6.96
         ],
         "yaxis": "y"
        },
        {
         "hovertemplate": "Country=Russian Federation<br>LifeExp_2010=%{x}<br>Unemployment_2010=%{y}<extra></extra>",
         "legendgroup": "Russian Federation",
         "marker": {
          "color": "#19d3f3",
          "opacity": 0.6,
          "symbol": "circle"
         },
         "mode": "markers",
         "name": "Russian Federation",
         "orientation": "v",
         "showlegend": true,
         "type": "scatter",
         "x": [
          68.76
         ],
         "xaxis": "x",
         "y": [
          7.37
         ],
         "yaxis": "y"
        },
        {
         "hovertemplate": "Country=Serbia<br>LifeExp_2010=%{x}<br>Unemployment_2010=%{y}<extra></extra>",
         "legendgroup": "Serbia",
         "marker": {
          "color": "#FF6692",
          "opacity": 0.6,
          "symbol": "circle"
         },
         "mode": "markers",
         "name": "Serbia",
         "orientation": "v",
         "showlegend": true,
         "type": "scatter",
         "x": [
          74.2
         ],
         "xaxis": "x",
         "y": [
          19.22
         ],
         "yaxis": "y"
        },
        {
         "hovertemplate": "Country=Slovenia<br>LifeExp_2010=%{x}<br>Unemployment_2010=%{y}<extra></extra>",
         "legendgroup": "Slovenia",
         "marker": {
          "color": "#B6E880",
          "opacity": 0.6,
          "symbol": "circle"
         },
         "mode": "markers",
         "name": "Slovenia",
         "orientation": "v",
         "showlegend": true,
         "type": "scatter",
         "x": [
          79.55
         ],
         "xaxis": "x",
         "y": [
          7.24
         ],
         "yaxis": "y"
        },
        {
         "hovertemplate": "Country=Spain<br>LifeExp_2010=%{x}<br>Unemployment_2010=%{y}<extra></extra>",
         "legendgroup": "Spain",
         "marker": {
          "color": "#FF97FF",
          "opacity": 0.6,
          "symbol": "circle"
         },
         "mode": "markers",
         "name": "Spain",
         "orientation": "v",
         "showlegend": true,
         "type": "scatter",
         "x": [
          81.69
         ],
         "xaxis": "x",
         "y": [
          19.86
         ],
         "yaxis": "y"
        },
        {
         "hovertemplate": "Country=Sweden<br>LifeExp_2010=%{x}<br>Unemployment_2010=%{y}<extra></extra>",
         "legendgroup": "Sweden",
         "marker": {
          "color": "#FECB52",
          "opacity": 0.6,
          "symbol": "circle"
         },
         "mode": "markers",
         "name": "Sweden",
         "orientation": "v",
         "showlegend": true,
         "type": "scatter",
         "x": [
          81.3
         ],
         "xaxis": "x",
         "y": [
          8.61
         ],
         "yaxis": "y"
        },
        {
         "hovertemplate": "Country=Switzerland<br>LifeExp_2010=%{x}<br>Unemployment_2010=%{y}<extra></extra>",
         "legendgroup": "Switzerland",
         "marker": {
          "color": "#636efa",
          "opacity": 0.6,
          "symbol": "circle"
         },
         "mode": "markers",
         "name": "Switzerland",
         "orientation": "v",
         "showlegend": true,
         "type": "scatter",
         "x": [
          82.19
         ],
         "xaxis": "x",
         "y": [
          4.8
         ],
         "yaxis": "y"
        },
        {
         "hovertemplate": "Country=Tajikistan<br>LifeExp_2010=%{x}<br>Unemployment_2010=%{y}<extra></extra>",
         "legendgroup": "Tajikistan",
         "marker": {
          "color": "#EF553B",
          "opacity": 0.6,
          "symbol": "circle"
         },
         "mode": "markers",
         "name": "Tajikistan",
         "orientation": "v",
         "showlegend": true,
         "type": "scatter",
         "x": [
          68.01
         ],
         "xaxis": "x",
         "y": [
          10.89
         ],
         "yaxis": "y"
        },
        {
         "hovertemplate": "Country=Turkmenistan<br>LifeExp_2010=%{x}<br>Unemployment_2010=%{y}<extra></extra>",
         "legendgroup": "Turkmenistan",
         "marker": {
          "color": "#00cc96",
          "opacity": 0.6,
          "symbol": "circle"
         },
         "mode": "markers",
         "name": "Turkmenistan",
         "orientation": "v",
         "showlegend": true,
         "type": "scatter",
         "x": [
          67.31
         ],
         "xaxis": "x",
         "y": [
          4
         ],
         "yaxis": "y"
        },
        {
         "hovertemplate": "Country=Ukraine<br>LifeExp_2010=%{x}<br>Unemployment_2010=%{y}<extra></extra>",
         "legendgroup": "Ukraine",
         "marker": {
          "color": "#ab63fa",
          "opacity": 0.6,
          "symbol": "circle"
         },
         "mode": "markers",
         "name": "Ukraine",
         "orientation": "v",
         "showlegend": true,
         "type": "scatter",
         "x": [
          70.2
         ],
         "xaxis": "x",
         "y": [
          8.1
         ],
         "yaxis": "y"
        },
        {
         "hovertemplate": "Country=Uzbekistan<br>LifeExp_2010=%{x}<br>Unemployment_2010=%{y}<extra></extra>",
         "legendgroup": "Uzbekistan",
         "marker": {
          "color": "#FFA15A",
          "opacity": 0.6,
          "symbol": "circle"
         },
         "mode": "markers",
         "name": "Uzbekistan",
         "orientation": "v",
         "showlegend": true,
         "type": "scatter",
         "x": [
          70.19
         ],
         "xaxis": "x",
         "y": [
          5.4
         ],
         "yaxis": "y"
        },
        {
         "hovertemplate": "Country=Bangladesh<br>LifeExp_2010=%{x}<br>Unemployment_2010=%{y}<extra></extra>",
         "legendgroup": "Bangladesh",
         "marker": {
          "color": "#19d3f3",
          "opacity": 0.6,
          "symbol": "circle"
         },
         "mode": "markers",
         "name": "Bangladesh",
         "orientation": "v",
         "showlegend": true,
         "type": "scatter",
         "x": [
          70.29
         ],
         "xaxis": "x",
         "y": [
          3.38
         ],
         "yaxis": "y"
        },
        {
         "hovertemplate": "Country=Bhutan<br>LifeExp_2010=%{x}<br>Unemployment_2010=%{y}<extra></extra>",
         "legendgroup": "Bhutan",
         "marker": {
          "color": "#FF6692",
          "opacity": 0.6,
          "symbol": "circle"
         },
         "mode": "markers",
         "name": "Bhutan",
         "orientation": "v",
         "showlegend": true,
         "type": "scatter",
         "x": [
          71.01
         ],
         "xaxis": "x",
         "y": [
          3.32
         ],
         "yaxis": "y"
        },
        {
         "hovertemplate": "Country=India<br>LifeExp_2010=%{x}<br>Unemployment_2010=%{y}<extra></extra>",
         "legendgroup": "India",
         "marker": {
          "color": "#B6E880",
          "opacity": 0.6,
          "symbol": "circle"
         },
         "mode": "markers",
         "name": "India",
         "orientation": "v",
         "showlegend": true,
         "type": "scatter",
         "x": [
          67.23
         ],
         "xaxis": "x",
         "y": [
          5.55
         ],
         "yaxis": "y"
        },
        {
         "hovertemplate": "Country=Indonesia<br>LifeExp_2010=%{x}<br>Unemployment_2010=%{y}<extra></extra>",
         "legendgroup": "Indonesia",
         "marker": {
          "color": "#FF97FF",
          "opacity": 0.6,
          "symbol": "circle"
         },
         "mode": "markers",
         "name": "Indonesia",
         "orientation": "v",
         "showlegend": true,
         "type": "scatter",
         "x": [
          69.26
         ],
         "xaxis": "x",
         "y": [
          5.61
         ],
         "yaxis": "y"
        },
        {
         "hovertemplate": "Country=Maldives<br>LifeExp_2010=%{x}<br>Unemployment_2010=%{y}<extra></extra>",
         "legendgroup": "Maldives",
         "marker": {
          "color": "#FECB52",
          "opacity": 0.6,
          "symbol": "circle"
         },
         "mode": "markers",
         "name": "Maldives",
         "orientation": "v",
         "showlegend": true,
         "type": "scatter",
         "x": [
          76.99
         ],
         "xaxis": "x",
         "y": [
          11.29
         ],
         "yaxis": "y"
        },
        {
         "hovertemplate": "Country=Myanmar<br>LifeExp_2010=%{x}<br>Unemployment_2010=%{y}<extra></extra>",
         "legendgroup": "Myanmar",
         "marker": {
          "color": "#636efa",
          "opacity": 0.6,
          "symbol": "circle"
         },
         "mode": "markers",
         "name": "Myanmar",
         "orientation": "v",
         "showlegend": true,
         "type": "scatter",
         "x": [
          64.79
         ],
         "xaxis": "x",
         "y": [
          0.72
         ],
         "yaxis": "y"
        },
        {
         "hovertemplate": "Country=Nepal<br>LifeExp_2010=%{x}<br>Unemployment_2010=%{y}<extra></extra>",
         "legendgroup": "Nepal",
         "marker": {
          "color": "#EF553B",
          "opacity": 0.6,
          "symbol": "circle"
         },
         "mode": "markers",
         "name": "Nepal",
         "orientation": "v",
         "showlegend": true,
         "type": "scatter",
         "x": [
          69.18
         ],
         "xaxis": "x",
         "y": [
          1.82
         ],
         "yaxis": "y"
        },
        {
         "hovertemplate": "Country=Sri Lanka<br>LifeExp_2010=%{x}<br>Unemployment_2010=%{y}<extra></extra>",
         "legendgroup": "Sri Lanka",
         "marker": {
          "color": "#00cc96",
          "opacity": 0.6,
          "symbol": "circle"
         },
         "mode": "markers",
         "name": "Sri Lanka",
         "orientation": "v",
         "showlegend": true,
         "type": "scatter",
         "x": [
          73.3
         ],
         "xaxis": "x",
         "y": [
          4.78
         ],
         "yaxis": "y"
        },
        {
         "hovertemplate": "Country=Thailand<br>LifeExp_2010=%{x}<br>Unemployment_2010=%{y}<extra></extra>",
         "legendgroup": "Thailand",
         "marker": {
          "color": "#ab63fa",
          "opacity": 0.6,
          "symbol": "circle"
         },
         "mode": "markers",
         "name": "Thailand",
         "orientation": "v",
         "showlegend": true,
         "type": "scatter",
         "x": [
          76.25
         ],
         "xaxis": "x",
         "y": [
          0.62
         ],
         "yaxis": "y"
        },
        {
         "hovertemplate": "Country=Timor-Leste<br>LifeExp_2010=%{x}<br>Unemployment_2010=%{y}<extra></extra>",
         "legendgroup": "Timor-Leste",
         "marker": {
          "color": "#FFA15A",
          "opacity": 0.6,
          "symbol": "circle"
         },
         "mode": "markers",
         "name": "Timor-Leste",
         "orientation": "v",
         "showlegend": true,
         "type": "scatter",
         "x": [
          68.06
         ],
         "xaxis": "x",
         "y": [
          3.3
         ],
         "yaxis": "y"
        },
        {
         "hovertemplate": "Country=Australia<br>LifeExp_2010=%{x}<br>Unemployment_2010=%{y}<extra></extra>",
         "legendgroup": "Australia",
         "marker": {
          "color": "#19d3f3",
          "opacity": 0.6,
          "symbol": "circle"
         },
         "mode": "markers",
         "name": "Australia",
         "orientation": "v",
         "showlegend": true,
         "type": "scatter",
         "x": [
          81.9
         ],
         "xaxis": "x",
         "y": [
          5.21
         ],
         "yaxis": "y"
        },
        {
         "hovertemplate": "Country=Brunei Darussalam<br>LifeExp_2010=%{x}<br>Unemployment_2010=%{y}<extra></extra>",
         "legendgroup": "Brunei Darussalam",
         "marker": {
          "color": "#FF6692",
          "opacity": 0.6,
          "symbol": "circle"
         },
         "mode": "markers",
         "name": "Brunei Darussalam",
         "orientation": "v",
         "showlegend": true,
         "type": "scatter",
         "x": [
          74.57
         ],
         "xaxis": "x",
         "y": [
          6.77
         ],
         "yaxis": "y"
        },
        {
         "hovertemplate": "Country=Cambodia<br>LifeExp_2010=%{x}<br>Unemployment_2010=%{y}<extra></extra>",
         "legendgroup": "Cambodia",
         "marker": {
          "color": "#B6E880",
          "opacity": 0.6,
          "symbol": "circle"
         },
         "mode": "markers",
         "name": "Cambodia",
         "orientation": "v",
         "showlegend": true,
         "type": "scatter",
         "x": [
          67.22
         ],
         "xaxis": "x",
         "y": [
          0.77
         ],
         "yaxis": "y"
        },
        {
         "hovertemplate": "Country=China<br>LifeExp_2010=%{x}<br>Unemployment_2010=%{y}<extra></extra>",
         "legendgroup": "China",
         "marker": {
          "color": "#FF97FF",
          "opacity": 0.6,
          "symbol": "circle"
         },
         "mode": "markers",
         "name": "China",
         "orientation": "v",
         "showlegend": true,
         "type": "scatter",
         "x": [
          74.89
         ],
         "xaxis": "x",
         "y": [
          4.53
         ],
         "yaxis": "y"
        },
        {
         "hovertemplate": "Country=Fiji<br>LifeExp_2010=%{x}<br>Unemployment_2010=%{y}<extra></extra>",
         "legendgroup": "Fiji",
         "marker": {
          "color": "#FECB52",
          "opacity": 0.6,
          "symbol": "circle"
         },
         "mode": "markers",
         "name": "Fiji",
         "orientation": "v",
         "showlegend": true,
         "type": "scatter",
         "x": [
          67.6
         ],
         "xaxis": "x",
         "y": [
          4.31
         ],
         "yaxis": "y"
        },
        {
         "hovertemplate": "Country=Japan<br>LifeExp_2010=%{x}<br>Unemployment_2010=%{y}<extra></extra>",
         "legendgroup": "Japan",
         "marker": {
          "color": "#636efa",
          "opacity": 0.6,
          "symbol": "circle"
         },
         "mode": "markers",
         "name": "Japan",
         "orientation": "v",
         "showlegend": true,
         "type": "scatter",
         "x": [
          82.68
         ],
         "xaxis": "x",
         "y": [
          5.1
         ],
         "yaxis": "y"
        },
        {
         "hovertemplate": "Country=Malaysia<br>LifeExp_2010=%{x}<br>Unemployment_2010=%{y}<extra></extra>",
         "legendgroup": "Malaysia",
         "marker": {
          "color": "#EF553B",
          "opacity": 0.6,
          "symbol": "circle"
         },
         "mode": "markers",
         "name": "Malaysia",
         "orientation": "v",
         "showlegend": true,
         "type": "scatter",
         "x": [
          74.25
         ],
         "xaxis": "x",
         "y": [
          3.39
         ],
         "yaxis": "y"
        },
        {
         "hovertemplate": "Country=Mongolia<br>LifeExp_2010=%{x}<br>Unemployment_2010=%{y}<extra></extra>",
         "legendgroup": "Mongolia",
         "marker": {
          "color": "#00cc96",
          "opacity": 0.6,
          "symbol": "circle"
         },
         "mode": "markers",
         "name": "Mongolia",
         "orientation": "v",
         "showlegend": true,
         "type": "scatter",
         "x": [
          65.05
         ],
         "xaxis": "x",
         "y": [
          6.55
         ],
         "yaxis": "y"
        },
        {
         "hovertemplate": "Country=New Zealand<br>LifeExp_2010=%{x}<br>Unemployment_2010=%{y}<extra></extra>",
         "legendgroup": "New Zealand",
         "marker": {
          "color": "#ab63fa",
          "opacity": 0.6,
          "symbol": "circle"
         },
         "mode": "markers",
         "name": "New Zealand",
         "orientation": "v",
         "showlegend": true,
         "type": "scatter",
         "x": [
          80.94
         ],
         "xaxis": "x",
         "y": [
          6.56
         ],
         "yaxis": "y"
        },
        {
         "hovertemplate": "Country=Papua New Guinea<br>LifeExp_2010=%{x}<br>Unemployment_2010=%{y}<extra></extra>",
         "legendgroup": "Papua New Guinea",
         "marker": {
          "color": "#FFA15A",
          "opacity": 0.6,
          "symbol": "circle"
         },
         "mode": "markers",
         "name": "Papua New Guinea",
         "orientation": "v",
         "showlegend": true,
         "type": "scatter",
         "x": [
          63.42
         ],
         "xaxis": "x",
         "y": [
          2
         ],
         "yaxis": "y"
        },
        {
         "hovertemplate": "Country=Philippines<br>LifeExp_2010=%{x}<br>Unemployment_2010=%{y}<extra></extra>",
         "legendgroup": "Philippines",
         "marker": {
          "color": "#19d3f3",
          "opacity": 0.6,
          "symbol": "circle"
         },
         "mode": "markers",
         "name": "Philippines",
         "orientation": "v",
         "showlegend": true,
         "type": "scatter",
         "x": [
          69.96
         ],
         "xaxis": "x",
         "y": [
          3.61
         ],
         "yaxis": "y"
        },
        {
         "hovertemplate": "Country=Samoa<br>LifeExp_2010=%{x}<br>Unemployment_2010=%{y}<extra></extra>",
         "legendgroup": "Samoa",
         "marker": {
          "color": "#FF6692",
          "opacity": 0.6,
          "symbol": "circle"
         },
         "mode": "markers",
         "name": "Samoa",
         "orientation": "v",
         "showlegend": true,
         "type": "scatter",
         "x": [
          69.57
         ],
         "xaxis": "x",
         "y": [
          5.73
         ],
         "yaxis": "y"
        },
        {
         "hovertemplate": "Country=Singapore<br>LifeExp_2010=%{x}<br>Unemployment_2010=%{y}<extra></extra>",
         "legendgroup": "Singapore",
         "marker": {
          "color": "#B6E880",
          "opacity": 0.6,
          "symbol": "circle"
         },
         "mode": "markers",
         "name": "Singapore",
         "orientation": "v",
         "showlegend": true,
         "type": "scatter",
         "x": [
          81.7
         ],
         "xaxis": "x",
         "y": [
          4.12
         ],
         "yaxis": "y"
        },
        {
         "hovertemplate": "Country=Solomon Islands<br>LifeExp_2010=%{x}<br>Unemployment_2010=%{y}<extra></extra>",
         "legendgroup": "Solomon Islands",
         "marker": {
          "color": "#FF97FF",
          "opacity": 0.6,
          "symbol": "circle"
         },
         "mode": "markers",
         "name": "Solomon Islands",
         "orientation": "v",
         "showlegend": true,
         "type": "scatter",
         "x": [
          63.69
         ],
         "xaxis": "x",
         "y": [
          1.58
         ],
         "yaxis": "y"
        },
        {
         "hovertemplate": "Country=Tonga<br>LifeExp_2010=%{x}<br>Unemployment_2010=%{y}<extra></extra>",
         "legendgroup": "Tonga",
         "marker": {
          "color": "#FECB52",
          "opacity": 0.6,
          "symbol": "circle"
         },
         "mode": "markers",
         "name": "Tonga",
         "orientation": "v",
         "showlegend": true,
         "type": "scatter",
         "x": [
          72.22
         ],
         "xaxis": "x",
         "y": [
          1.74
         ],
         "yaxis": "y"
        },
        {
         "hovertemplate": "Country=Vanuatu<br>LifeExp_2010=%{x}<br>Unemployment_2010=%{y}<extra></extra>",
         "legendgroup": "Vanuatu",
         "marker": {
          "color": "#636efa",
          "opacity": 0.6,
          "symbol": "circle"
         },
         "mode": "markers",
         "name": "Vanuatu",
         "orientation": "v",
         "showlegend": true,
         "type": "scatter",
         "x": [
          64.52
         ],
         "xaxis": "x",
         "y": [
          1.85
         ],
         "yaxis": "y"
        }
       ],
       "layout": {
        "legend": {
         "title": {
          "text": "Country"
         },
         "tracegroupgap": 0
        },
        "template": {
         "data": {
          "bar": [
           {
            "error_x": {
             "color": "#f2f5fa"
            },
            "error_y": {
             "color": "#f2f5fa"
            },
            "marker": {
             "line": {
              "color": "rgb(17,17,17)",
              "width": 0.5
             },
             "pattern": {
              "fillmode": "overlay",
              "size": 10,
              "solidity": 0.2
             }
            },
            "type": "bar"
           }
          ],
          "barpolar": [
           {
            "marker": {
             "line": {
              "color": "rgb(17,17,17)",
              "width": 0.5
             },
             "pattern": {
              "fillmode": "overlay",
              "size": 10,
              "solidity": 0.2
             }
            },
            "type": "barpolar"
           }
          ],
          "carpet": [
           {
            "aaxis": {
             "endlinecolor": "#A2B1C6",
             "gridcolor": "#506784",
             "linecolor": "#506784",
             "minorgridcolor": "#506784",
             "startlinecolor": "#A2B1C6"
            },
            "baxis": {
             "endlinecolor": "#A2B1C6",
             "gridcolor": "#506784",
             "linecolor": "#506784",
             "minorgridcolor": "#506784",
             "startlinecolor": "#A2B1C6"
            },
            "type": "carpet"
           }
          ],
          "choropleth": [
           {
            "colorbar": {
             "outlinewidth": 0,
             "ticks": ""
            },
            "type": "choropleth"
           }
          ],
          "contour": [
           {
            "colorbar": {
             "outlinewidth": 0,
             "ticks": ""
            },
            "colorscale": [
             [
              0,
              "#0d0887"
             ],
             [
              0.1111111111111111,
              "#46039f"
             ],
             [
              0.2222222222222222,
              "#7201a8"
             ],
             [
              0.3333333333333333,
              "#9c179e"
             ],
             [
              0.4444444444444444,
              "#bd3786"
             ],
             [
              0.5555555555555556,
              "#d8576b"
             ],
             [
              0.6666666666666666,
              "#ed7953"
             ],
             [
              0.7777777777777778,
              "#fb9f3a"
             ],
             [
              0.8888888888888888,
              "#fdca26"
             ],
             [
              1,
              "#f0f921"
             ]
            ],
            "type": "contour"
           }
          ],
          "contourcarpet": [
           {
            "colorbar": {
             "outlinewidth": 0,
             "ticks": ""
            },
            "type": "contourcarpet"
           }
          ],
          "heatmap": [
           {
            "colorbar": {
             "outlinewidth": 0,
             "ticks": ""
            },
            "colorscale": [
             [
              0,
              "#0d0887"
             ],
             [
              0.1111111111111111,
              "#46039f"
             ],
             [
              0.2222222222222222,
              "#7201a8"
             ],
             [
              0.3333333333333333,
              "#9c179e"
             ],
             [
              0.4444444444444444,
              "#bd3786"
             ],
             [
              0.5555555555555556,
              "#d8576b"
             ],
             [
              0.6666666666666666,
              "#ed7953"
             ],
             [
              0.7777777777777778,
              "#fb9f3a"
             ],
             [
              0.8888888888888888,
              "#fdca26"
             ],
             [
              1,
              "#f0f921"
             ]
            ],
            "type": "heatmap"
           }
          ],
          "heatmapgl": [
           {
            "colorbar": {
             "outlinewidth": 0,
             "ticks": ""
            },
            "colorscale": [
             [
              0,
              "#0d0887"
             ],
             [
              0.1111111111111111,
              "#46039f"
             ],
             [
              0.2222222222222222,
              "#7201a8"
             ],
             [
              0.3333333333333333,
              "#9c179e"
             ],
             [
              0.4444444444444444,
              "#bd3786"
             ],
             [
              0.5555555555555556,
              "#d8576b"
             ],
             [
              0.6666666666666666,
              "#ed7953"
             ],
             [
              0.7777777777777778,
              "#fb9f3a"
             ],
             [
              0.8888888888888888,
              "#fdca26"
             ],
             [
              1,
              "#f0f921"
             ]
            ],
            "type": "heatmapgl"
           }
          ],
          "histogram": [
           {
            "marker": {
             "pattern": {
              "fillmode": "overlay",
              "size": 10,
              "solidity": 0.2
             }
            },
            "type": "histogram"
           }
          ],
          "histogram2d": [
           {
            "colorbar": {
             "outlinewidth": 0,
             "ticks": ""
            },
            "colorscale": [
             [
              0,
              "#0d0887"
             ],
             [
              0.1111111111111111,
              "#46039f"
             ],
             [
              0.2222222222222222,
              "#7201a8"
             ],
             [
              0.3333333333333333,
              "#9c179e"
             ],
             [
              0.4444444444444444,
              "#bd3786"
             ],
             [
              0.5555555555555556,
              "#d8576b"
             ],
             [
              0.6666666666666666,
              "#ed7953"
             ],
             [
              0.7777777777777778,
              "#fb9f3a"
             ],
             [
              0.8888888888888888,
              "#fdca26"
             ],
             [
              1,
              "#f0f921"
             ]
            ],
            "type": "histogram2d"
           }
          ],
          "histogram2dcontour": [
           {
            "colorbar": {
             "outlinewidth": 0,
             "ticks": ""
            },
            "colorscale": [
             [
              0,
              "#0d0887"
             ],
             [
              0.1111111111111111,
              "#46039f"
             ],
             [
              0.2222222222222222,
              "#7201a8"
             ],
             [
              0.3333333333333333,
              "#9c179e"
             ],
             [
              0.4444444444444444,
              "#bd3786"
             ],
             [
              0.5555555555555556,
              "#d8576b"
             ],
             [
              0.6666666666666666,
              "#ed7953"
             ],
             [
              0.7777777777777778,
              "#fb9f3a"
             ],
             [
              0.8888888888888888,
              "#fdca26"
             ],
             [
              1,
              "#f0f921"
             ]
            ],
            "type": "histogram2dcontour"
           }
          ],
          "mesh3d": [
           {
            "colorbar": {
             "outlinewidth": 0,
             "ticks": ""
            },
            "type": "mesh3d"
           }
          ],
          "parcoords": [
           {
            "line": {
             "colorbar": {
              "outlinewidth": 0,
              "ticks": ""
             }
            },
            "type": "parcoords"
           }
          ],
          "pie": [
           {
            "automargin": true,
            "type": "pie"
           }
          ],
          "scatter": [
           {
            "marker": {
             "line": {
              "color": "#283442"
             }
            },
            "type": "scatter"
           }
          ],
          "scatter3d": [
           {
            "line": {
             "colorbar": {
              "outlinewidth": 0,
              "ticks": ""
             }
            },
            "marker": {
             "colorbar": {
              "outlinewidth": 0,
              "ticks": ""
             }
            },
            "type": "scatter3d"
           }
          ],
          "scattercarpet": [
           {
            "marker": {
             "colorbar": {
              "outlinewidth": 0,
              "ticks": ""
             }
            },
            "type": "scattercarpet"
           }
          ],
          "scattergeo": [
           {
            "marker": {
             "colorbar": {
              "outlinewidth": 0,
              "ticks": ""
             }
            },
            "type": "scattergeo"
           }
          ],
          "scattergl": [
           {
            "marker": {
             "line": {
              "color": "#283442"
             }
            },
            "type": "scattergl"
           }
          ],
          "scattermapbox": [
           {
            "marker": {
             "colorbar": {
              "outlinewidth": 0,
              "ticks": ""
             }
            },
            "type": "scattermapbox"
           }
          ],
          "scatterpolar": [
           {
            "marker": {
             "colorbar": {
              "outlinewidth": 0,
              "ticks": ""
             }
            },
            "type": "scatterpolar"
           }
          ],
          "scatterpolargl": [
           {
            "marker": {
             "colorbar": {
              "outlinewidth": 0,
              "ticks": ""
             }
            },
            "type": "scatterpolargl"
           }
          ],
          "scatterternary": [
           {
            "marker": {
             "colorbar": {
              "outlinewidth": 0,
              "ticks": ""
             }
            },
            "type": "scatterternary"
           }
          ],
          "surface": [
           {
            "colorbar": {
             "outlinewidth": 0,
             "ticks": ""
            },
            "colorscale": [
             [
              0,
              "#0d0887"
             ],
             [
              0.1111111111111111,
              "#46039f"
             ],
             [
              0.2222222222222222,
              "#7201a8"
             ],
             [
              0.3333333333333333,
              "#9c179e"
             ],
             [
              0.4444444444444444,
              "#bd3786"
             ],
             [
              0.5555555555555556,
              "#d8576b"
             ],
             [
              0.6666666666666666,
              "#ed7953"
             ],
             [
              0.7777777777777778,
              "#fb9f3a"
             ],
             [
              0.8888888888888888,
              "#fdca26"
             ],
             [
              1,
              "#f0f921"
             ]
            ],
            "type": "surface"
           }
          ],
          "table": [
           {
            "cells": {
             "fill": {
              "color": "#506784"
             },
             "line": {
              "color": "rgb(17,17,17)"
             }
            },
            "header": {
             "fill": {
              "color": "#2a3f5f"
             },
             "line": {
              "color": "rgb(17,17,17)"
             }
            },
            "type": "table"
           }
          ]
         },
         "layout": {
          "annotationdefaults": {
           "arrowcolor": "#f2f5fa",
           "arrowhead": 0,
           "arrowwidth": 1
          },
          "autotypenumbers": "strict",
          "coloraxis": {
           "colorbar": {
            "outlinewidth": 0,
            "ticks": ""
           }
          },
          "colorscale": {
           "diverging": [
            [
             0,
             "#8e0152"
            ],
            [
             0.1,
             "#c51b7d"
            ],
            [
             0.2,
             "#de77ae"
            ],
            [
             0.3,
             "#f1b6da"
            ],
            [
             0.4,
             "#fde0ef"
            ],
            [
             0.5,
             "#f7f7f7"
            ],
            [
             0.6,
             "#e6f5d0"
            ],
            [
             0.7,
             "#b8e186"
            ],
            [
             0.8,
             "#7fbc41"
            ],
            [
             0.9,
             "#4d9221"
            ],
            [
             1,
             "#276419"
            ]
           ],
           "sequential": [
            [
             0,
             "#0d0887"
            ],
            [
             0.1111111111111111,
             "#46039f"
            ],
            [
             0.2222222222222222,
             "#7201a8"
            ],
            [
             0.3333333333333333,
             "#9c179e"
            ],
            [
             0.4444444444444444,
             "#bd3786"
            ],
            [
             0.5555555555555556,
             "#d8576b"
            ],
            [
             0.6666666666666666,
             "#ed7953"
            ],
            [
             0.7777777777777778,
             "#fb9f3a"
            ],
            [
             0.8888888888888888,
             "#fdca26"
            ],
            [
             1,
             "#f0f921"
            ]
           ],
           "sequentialminus": [
            [
             0,
             "#0d0887"
            ],
            [
             0.1111111111111111,
             "#46039f"
            ],
            [
             0.2222222222222222,
             "#7201a8"
            ],
            [
             0.3333333333333333,
             "#9c179e"
            ],
            [
             0.4444444444444444,
             "#bd3786"
            ],
            [
             0.5555555555555556,
             "#d8576b"
            ],
            [
             0.6666666666666666,
             "#ed7953"
            ],
            [
             0.7777777777777778,
             "#fb9f3a"
            ],
            [
             0.8888888888888888,
             "#fdca26"
            ],
            [
             1,
             "#f0f921"
            ]
           ]
          },
          "colorway": [
           "#636efa",
           "#EF553B",
           "#00cc96",
           "#ab63fa",
           "#FFA15A",
           "#19d3f3",
           "#FF6692",
           "#B6E880",
           "#FF97FF",
           "#FECB52"
          ],
          "font": {
           "color": "#f2f5fa"
          },
          "geo": {
           "bgcolor": "rgb(17,17,17)",
           "lakecolor": "rgb(17,17,17)",
           "landcolor": "rgb(17,17,17)",
           "showlakes": true,
           "showland": true,
           "subunitcolor": "#506784"
          },
          "hoverlabel": {
           "align": "left"
          },
          "hovermode": "closest",
          "mapbox": {
           "style": "dark"
          },
          "paper_bgcolor": "rgb(17,17,17)",
          "plot_bgcolor": "rgb(17,17,17)",
          "polar": {
           "angularaxis": {
            "gridcolor": "#506784",
            "linecolor": "#506784",
            "ticks": ""
           },
           "bgcolor": "rgb(17,17,17)",
           "radialaxis": {
            "gridcolor": "#506784",
            "linecolor": "#506784",
            "ticks": ""
           }
          },
          "scene": {
           "xaxis": {
            "backgroundcolor": "rgb(17,17,17)",
            "gridcolor": "#506784",
            "gridwidth": 2,
            "linecolor": "#506784",
            "showbackground": true,
            "ticks": "",
            "zerolinecolor": "#C8D4E3"
           },
           "yaxis": {
            "backgroundcolor": "rgb(17,17,17)",
            "gridcolor": "#506784",
            "gridwidth": 2,
            "linecolor": "#506784",
            "showbackground": true,
            "ticks": "",
            "zerolinecolor": "#C8D4E3"
           },
           "zaxis": {
            "backgroundcolor": "rgb(17,17,17)",
            "gridcolor": "#506784",
            "gridwidth": 2,
            "linecolor": "#506784",
            "showbackground": true,
            "ticks": "",
            "zerolinecolor": "#C8D4E3"
           }
          },
          "shapedefaults": {
           "line": {
            "color": "#f2f5fa"
           }
          },
          "sliderdefaults": {
           "bgcolor": "#C8D4E3",
           "bordercolor": "rgb(17,17,17)",
           "borderwidth": 1,
           "tickwidth": 0
          },
          "ternary": {
           "aaxis": {
            "gridcolor": "#506784",
            "linecolor": "#506784",
            "ticks": ""
           },
           "baxis": {
            "gridcolor": "#506784",
            "linecolor": "#506784",
            "ticks": ""
           },
           "bgcolor": "rgb(17,17,17)",
           "caxis": {
            "gridcolor": "#506784",
            "linecolor": "#506784",
            "ticks": ""
           }
          },
          "title": {
           "x": 0.05
          },
          "updatemenudefaults": {
           "bgcolor": "#506784",
           "borderwidth": 0
          },
          "xaxis": {
           "automargin": true,
           "gridcolor": "#283442",
           "linecolor": "#506784",
           "ticks": "",
           "title": {
            "standoff": 15
           },
           "zerolinecolor": "#283442",
           "zerolinewidth": 2
          },
          "yaxis": {
           "automargin": true,
           "gridcolor": "#283442",
           "linecolor": "#506784",
           "ticks": "",
           "title": {
            "standoff": 15
           },
           "zerolinecolor": "#283442",
           "zerolinewidth": 2
          }
         }
        },
        "title": {
         "text": "<b> Life Expectancy Versus Unemployment in 2000 </b>"
        },
        "xaxis": {
         "anchor": "y",
         "domain": [
          0,
          1
         ],
         "title": {
          "text": "LifeExp_2010"
         }
        },
        "yaxis": {
         "anchor": "x",
         "domain": [
          0,
          1
         ],
         "title": {
          "text": "Unemployment_2010"
         }
        }
       }
      }
     },
     "metadata": {},
     "output_type": "display_data"
    }
   ],
   "source": [
    "px.scatter(df,y='Unemployment_2010',x='LifeExp_2010',color='Country',template='plotly_dark',opacity=0.6,title='<b> Life Expectancy Versus Unemployment in 2000 </b>')"
   ]
  },
  {
   "cell_type": "code",
   "execution_count": 18,
   "metadata": {},
   "outputs": [
    {
     "data": {
      "application/vnd.plotly.v1+json": {
       "config": {
        "plotlyServerURL": "https://plot.ly"
       },
       "data": [
        {
         "hovertemplate": "Country=Algeria<br>LifeExp_2015=%{x}<br>Unemployment_2015=%{y}<extra></extra>",
         "legendgroup": "Algeria",
         "marker": {
          "color": "#636efa",
          "opacity": 0.6,
          "symbol": "circle"
         },
         "mode": "markers",
         "name": "Algeria",
         "orientation": "v",
         "showlegend": true,
         "type": "scatter",
         "x": [
          76.54
         ],
         "xaxis": "x",
         "y": [
          11.21
         ],
         "yaxis": "y"
        },
        {
         "hovertemplate": "Country=Angola<br>LifeExp_2015=%{x}<br>Unemployment_2015=%{y}<extra></extra>",
         "legendgroup": "Angola",
         "marker": {
          "color": "#EF553B",
          "opacity": 0.6,
          "symbol": "circle"
         },
         "mode": "markers",
         "name": "Angola",
         "orientation": "v",
         "showlegend": true,
         "type": "scatter",
         "x": [
          61.72
         ],
         "xaxis": "x",
         "y": [
          7.39
         ],
         "yaxis": "y"
        },
        {
         "hovertemplate": "Country=Benin<br>LifeExp_2015=%{x}<br>Unemployment_2015=%{y}<extra></extra>",
         "legendgroup": "Benin",
         "marker": {
          "color": "#00cc96",
          "opacity": 0.6,
          "symbol": "circle"
         },
         "mode": "markers",
         "name": "Benin",
         "orientation": "v",
         "showlegend": true,
         "type": "scatter",
         "x": [
          61.96
         ],
         "xaxis": "x",
         "y": [
          2.01
         ],
         "yaxis": "y"
        },
        {
         "hovertemplate": "Country=Botswana<br>LifeExp_2015=%{x}<br>Unemployment_2015=%{y}<extra></extra>",
         "legendgroup": "Botswana",
         "marker": {
          "color": "#ab63fa",
          "opacity": 0.6,
          "symbol": "circle"
         },
         "mode": "markers",
         "name": "Botswana",
         "orientation": "v",
         "showlegend": true,
         "type": "scatter",
         "x": [
          60.93
         ],
         "xaxis": "x",
         "y": [
          20.57
         ],
         "yaxis": "y"
        },
        {
         "hovertemplate": "Country=Burkina Faso<br>LifeExp_2015=%{x}<br>Unemployment_2015=%{y}<extra></extra>",
         "legendgroup": "Burkina Faso",
         "marker": {
          "color": "#FFA15A",
          "opacity": 0.6,
          "symbol": "circle"
         },
         "mode": "markers",
         "name": "Burkina Faso",
         "orientation": "v",
         "showlegend": true,
         "type": "scatter",
         "x": [
          60.92
         ],
         "xaxis": "x",
         "y": [
          4.32
         ],
         "yaxis": "y"
        },
        {
         "hovertemplate": "Country=Burundi<br>LifeExp_2015=%{x}<br>Unemployment_2015=%{y}<extra></extra>",
         "legendgroup": "Burundi",
         "marker": {
          "color": "#19d3f3",
          "opacity": 0.6,
          "symbol": "circle"
         },
         "mode": "markers",
         "name": "Burundi",
         "orientation": "v",
         "showlegend": true,
         "type": "scatter",
         "x": [
          62.05
         ],
         "xaxis": "x",
         "y": [
          1.6
         ],
         "yaxis": "y"
        },
        {
         "hovertemplate": "Country=Cabo Verde<br>LifeExp_2015=%{x}<br>Unemployment_2015=%{y}<extra></extra>",
         "legendgroup": "Cabo Verde",
         "marker": {
          "color": "#FF6692",
          "opacity": 0.6,
          "symbol": "circle"
         },
         "mode": "markers",
         "name": "Cabo Verde",
         "orientation": "v",
         "showlegend": true,
         "type": "scatter",
         "x": [
          74.88
         ],
         "xaxis": "x",
         "y": [
          11.8
         ],
         "yaxis": "y"
        },
        {
         "hovertemplate": "Country=Cameroon<br>LifeExp_2015=%{x}<br>Unemployment_2015=%{y}<extra></extra>",
         "legendgroup": "Cameroon",
         "marker": {
          "color": "#B6E880",
          "opacity": 0.6,
          "symbol": "circle"
         },
         "mode": "markers",
         "name": "Cameroon",
         "orientation": "v",
         "showlegend": true,
         "type": "scatter",
         "x": [
          59.11
         ],
         "xaxis": "x",
         "y": [
          3.55
         ],
         "yaxis": "y"
        },
        {
         "hovertemplate": "Country=Central African Republic<br>LifeExp_2015=%{x}<br>Unemployment_2015=%{y}<extra></extra>",
         "legendgroup": "Central African Republic",
         "marker": {
          "color": "#FF97FF",
          "opacity": 0.6,
          "symbol": "circle"
         },
         "mode": "markers",
         "name": "Central African Republic",
         "orientation": "v",
         "showlegend": true,
         "type": "scatter",
         "x": [
          50.53
         ],
         "xaxis": "x",
         "y": [
          5.61
         ],
         "yaxis": "y"
        },
        {
         "hovertemplate": "Country=Chad<br>LifeExp_2015=%{x}<br>Unemployment_2015=%{y}<extra></extra>",
         "legendgroup": "Chad",
         "marker": {
          "color": "#FECB52",
          "opacity": 0.6,
          "symbol": "circle"
         },
         "mode": "markers",
         "name": "Chad",
         "orientation": "v",
         "showlegend": true,
         "type": "scatter",
         "x": [
          57.91
         ],
         "xaxis": "x",
         "y": [
          1.07
         ],
         "yaxis": "y"
        },
        {
         "hovertemplate": "Country=Comoros<br>LifeExp_2015=%{x}<br>Unemployment_2015=%{y}<extra></extra>",
         "legendgroup": "Comoros",
         "marker": {
          "color": "#636efa",
          "opacity": 0.6,
          "symbol": "circle"
         },
         "mode": "markers",
         "name": "Comoros",
         "orientation": "v",
         "showlegend": true,
         "type": "scatter",
         "x": [
          66.45
         ],
         "xaxis": "x",
         "y": [
          8.14
         ],
         "yaxis": "y"
        },
        {
         "hovertemplate": "Country=Equatorial Guinea<br>LifeExp_2015=%{x}<br>Unemployment_2015=%{y}<extra></extra>",
         "legendgroup": "Equatorial Guinea",
         "marker": {
          "color": "#EF553B",
          "opacity": 0.6,
          "symbol": "circle"
         },
         "mode": "markers",
         "name": "Equatorial Guinea",
         "orientation": "v",
         "showlegend": true,
         "type": "scatter",
         "x": [
          61.13
         ],
         "xaxis": "x",
         "y": [
          8.54
         ],
         "yaxis": "y"
        },
        {
         "hovertemplate": "Country=Eritrea<br>LifeExp_2015=%{x}<br>Unemployment_2015=%{y}<extra></extra>",
         "legendgroup": "Eritrea",
         "marker": {
          "color": "#00cc96",
          "opacity": 0.6,
          "symbol": "circle"
         },
         "mode": "markers",
         "name": "Eritrea",
         "orientation": "v",
         "showlegend": true,
         "type": "scatter",
         "x": [
          62.29
         ],
         "xaxis": "x",
         "y": [
          5.83
         ],
         "yaxis": "y"
        },
        {
         "hovertemplate": "Country=Ethiopia<br>LifeExp_2015=%{x}<br>Unemployment_2015=%{y}<extra></extra>",
         "legendgroup": "Ethiopia",
         "marker": {
          "color": "#ab63fa",
          "opacity": 0.6,
          "symbol": "circle"
         },
         "mode": "markers",
         "name": "Ethiopia",
         "orientation": "v",
         "showlegend": true,
         "type": "scatter",
         "x": [
          66.82
         ],
         "xaxis": "x",
         "y": [
          2.27
         ],
         "yaxis": "y"
        },
        {
         "hovertemplate": "Country=Gabon<br>LifeExp_2015=%{x}<br>Unemployment_2015=%{y}<extra></extra>",
         "legendgroup": "Gabon",
         "marker": {
          "color": "#FFA15A",
          "opacity": 0.6,
          "symbol": "circle"
         },
         "mode": "markers",
         "name": "Gabon",
         "orientation": "v",
         "showlegend": true,
         "type": "scatter",
         "x": [
          64.93
         ],
         "xaxis": "x",
         "y": [
          20.61
         ],
         "yaxis": "y"
        },
        {
         "hovertemplate": "Country=Ghana<br>LifeExp_2015=%{x}<br>Unemployment_2015=%{y}<extra></extra>",
         "legendgroup": "Ghana",
         "marker": {
          "color": "#19d3f3",
          "opacity": 0.6,
          "symbol": "circle"
         },
         "mode": "markers",
         "name": "Ghana",
         "orientation": "v",
         "showlegend": true,
         "type": "scatter",
         "x": [
          64.55
         ],
         "xaxis": "x",
         "y": [
          6.81
         ],
         "yaxis": "y"
        },
        {
         "hovertemplate": "Country=Guinea<br>LifeExp_2015=%{x}<br>Unemployment_2015=%{y}<extra></extra>",
         "legendgroup": "Guinea",
         "marker": {
          "color": "#FF6692",
          "opacity": 0.6,
          "symbol": "circle"
         },
         "mode": "markers",
         "name": "Guinea",
         "orientation": "v",
         "showlegend": true,
         "type": "scatter",
         "x": [
          58.81
         ],
         "xaxis": "x",
         "y": [
          4.92
         ],
         "yaxis": "y"
        },
        {
         "hovertemplate": "Country=Guinea-Bissau<br>LifeExp_2015=%{x}<br>Unemployment_2015=%{y}<extra></extra>",
         "legendgroup": "Guinea-Bissau",
         "marker": {
          "color": "#B6E880",
          "opacity": 0.6,
          "symbol": "circle"
         },
         "mode": "markers",
         "name": "Guinea-Bissau",
         "orientation": "v",
         "showlegend": true,
         "type": "scatter",
         "x": [
          58.23
         ],
         "xaxis": "x",
         "y": [
          5.87
         ],
         "yaxis": "y"
        },
        {
         "hovertemplate": "Country=Kenya<br>LifeExp_2015=%{x}<br>Unemployment_2015=%{y}<extra></extra>",
         "legendgroup": "Kenya",
         "marker": {
          "color": "#FF97FF",
          "opacity": 0.6,
          "symbol": "circle"
         },
         "mode": "markers",
         "name": "Kenya",
         "orientation": "v",
         "showlegend": true,
         "type": "scatter",
         "x": [
          64.17
         ],
         "xaxis": "x",
         "y": [
          2.78
         ],
         "yaxis": "y"
        },
        {
         "hovertemplate": "Country=Lesotho<br>LifeExp_2015=%{x}<br>Unemployment_2015=%{y}<extra></extra>",
         "legendgroup": "Lesotho",
         "marker": {
          "color": "#FECB52",
          "opacity": 0.6,
          "symbol": "circle"
         },
         "mode": "markers",
         "name": "Lesotho",
         "orientation": "v",
         "showlegend": true,
         "type": "scatter",
         "x": [
          47.67
         ],
         "xaxis": "x",
         "y": [
          23.84
         ],
         "yaxis": "y"
        },
        {
         "hovertemplate": "Country=Liberia<br>LifeExp_2015=%{x}<br>Unemployment_2015=%{y}<extra></extra>",
         "legendgroup": "Liberia",
         "marker": {
          "color": "#636efa",
          "opacity": 0.6,
          "symbol": "circle"
         },
         "mode": "markers",
         "name": "Liberia",
         "orientation": "v",
         "showlegend": true,
         "type": "scatter",
         "x": [
          61.17
         ],
         "xaxis": "x",
         "y": [
          2.08
         ],
         "yaxis": "y"
        },
        {
         "hovertemplate": "Country=Madagascar<br>LifeExp_2015=%{x}<br>Unemployment_2015=%{y}<extra></extra>",
         "legendgroup": "Madagascar",
         "marker": {
          "color": "#EF553B",
          "opacity": 0.6,
          "symbol": "circle"
         },
         "mode": "markers",
         "name": "Madagascar",
         "orientation": "v",
         "showlegend": true,
         "type": "scatter",
         "x": [
          64.19
         ],
         "xaxis": "x",
         "y": [
          1.79
         ],
         "yaxis": "y"
        },
        {
         "hovertemplate": "Country=Malawi<br>LifeExp_2015=%{x}<br>Unemployment_2015=%{y}<extra></extra>",
         "legendgroup": "Malawi",
         "marker": {
          "color": "#00cc96",
          "opacity": 0.6,
          "symbol": "circle"
         },
         "mode": "markers",
         "name": "Malawi",
         "orientation": "v",
         "showlegend": true,
         "type": "scatter",
         "x": [
          63.04
         ],
         "xaxis": "x",
         "y": [
          5.86
         ],
         "yaxis": "y"
        },
        {
         "hovertemplate": "Country=Mali<br>LifeExp_2015=%{x}<br>Unemployment_2015=%{y}<extra></extra>",
         "legendgroup": "Mali",
         "marker": {
          "color": "#ab63fa",
          "opacity": 0.6,
          "symbol": "circle"
         },
         "mode": "markers",
         "name": "Mali",
         "orientation": "v",
         "showlegend": true,
         "type": "scatter",
         "x": [
          60.89
         ],
         "xaxis": "x",
         "y": [
          7.73
         ],
         "yaxis": "y"
        },
        {
         "hovertemplate": "Country=Mauritania<br>LifeExp_2015=%{x}<br>Unemployment_2015=%{y}<extra></extra>",
         "legendgroup": "Mauritania",
         "marker": {
          "color": "#FFA15A",
          "opacity": 0.6,
          "symbol": "circle"
         },
         "mode": "markers",
         "name": "Mauritania",
         "orientation": "v",
         "showlegend": true,
         "type": "scatter",
         "x": [
          67.41
         ],
         "xaxis": "x",
         "y": [
          10.14
         ],
         "yaxis": "y"
        },
        {
         "hovertemplate": "Country=Mauritius<br>LifeExp_2015=%{x}<br>Unemployment_2015=%{y}<extra></extra>",
         "legendgroup": "Mauritius",
         "marker": {
          "color": "#19d3f3",
          "opacity": 0.6,
          "symbol": "circle"
         },
         "mode": "markers",
         "name": "Mauritius",
         "orientation": "v",
         "showlegend": true,
         "type": "scatter",
         "x": [
          74.14
         ],
         "xaxis": "x",
         "y": [
          7.41
         ],
         "yaxis": "y"
        },
        {
         "hovertemplate": "Country=Mozambique<br>LifeExp_2015=%{x}<br>Unemployment_2015=%{y}<extra></extra>",
         "legendgroup": "Mozambique",
         "marker": {
          "color": "#FF6692",
          "opacity": 0.6,
          "symbol": "circle"
         },
         "mode": "markers",
         "name": "Mozambique",
         "orientation": "v",
         "showlegend": true,
         "type": "scatter",
         "x": [
          55.95
         ],
         "xaxis": "x",
         "y": [
          3.43
         ],
         "yaxis": "y"
        },
        {
         "hovertemplate": "Country=Namibia<br>LifeExp_2015=%{x}<br>Unemployment_2015=%{y}<extra></extra>",
         "legendgroup": "Namibia",
         "marker": {
          "color": "#B6E880",
          "opacity": 0.6,
          "symbol": "circle"
         },
         "mode": "markers",
         "name": "Namibia",
         "orientation": "v",
         "showlegend": true,
         "type": "scatter",
         "x": [
          62.87
         ],
         "xaxis": "x",
         "y": [
          20.91
         ],
         "yaxis": "y"
        },
        {
         "hovertemplate": "Country=Niger<br>LifeExp_2015=%{x}<br>Unemployment_2015=%{y}<extra></extra>",
         "legendgroup": "Niger",
         "marker": {
          "color": "#FF97FF",
          "opacity": 0.6,
          "symbol": "circle"
         },
         "mode": "markers",
         "name": "Niger",
         "orientation": "v",
         "showlegend": true,
         "type": "scatter",
         "x": [
          61.54
         ],
         "xaxis": "x",
         "y": [
          0.53
         ],
         "yaxis": "y"
        },
        {
         "hovertemplate": "Country=Nigeria<br>LifeExp_2015=%{x}<br>Unemployment_2015=%{y}<extra></extra>",
         "legendgroup": "Nigeria",
         "marker": {
          "color": "#FECB52",
          "opacity": 0.6,
          "symbol": "circle"
         },
         "mode": "markers",
         "name": "Nigeria",
         "orientation": "v",
         "showlegend": true,
         "type": "scatter",
         "x": [
          61.16
         ],
         "xaxis": "x",
         "y": [
          4.31
         ],
         "yaxis": "y"
        },
        {
         "hovertemplate": "Country=Rwanda<br>LifeExp_2015=%{x}<br>Unemployment_2015=%{y}<extra></extra>",
         "legendgroup": "Rwanda",
         "marker": {
          "color": "#636efa",
          "opacity": 0.6,
          "symbol": "circle"
         },
         "mode": "markers",
         "name": "Rwanda",
         "orientation": "v",
         "showlegend": true,
         "type": "scatter",
         "x": [
          67.69
         ],
         "xaxis": "x",
         "y": [
          1.15
         ],
         "yaxis": "y"
        },
        {
         "hovertemplate": "Country=Sao Tome and Principe<br>LifeExp_2015=%{x}<br>Unemployment_2015=%{y}<extra></extra>",
         "legendgroup": "Sao Tome and Principe",
         "marker": {
          "color": "#EF553B",
          "opacity": 0.6,
          "symbol": "circle"
         },
         "mode": "markers",
         "name": "Sao Tome and Principe",
         "orientation": "v",
         "showlegend": true,
         "type": "scatter",
         "x": [
          69.6
         ],
         "xaxis": "x",
         "y": [
          13.82
         ],
         "yaxis": "y"
        },
        {
         "hovertemplate": "Country=Senegal<br>LifeExp_2015=%{x}<br>Unemployment_2015=%{y}<extra></extra>",
         "legendgroup": "Senegal",
         "marker": {
          "color": "#00cc96",
          "opacity": 0.6,
          "symbol": "circle"
         },
         "mode": "markers",
         "name": "Senegal",
         "orientation": "v",
         "showlegend": true,
         "type": "scatter",
         "x": [
          67.2
         ],
         "xaxis": "x",
         "y": [
          6.76
         ],
         "yaxis": "y"
        },
        {
         "hovertemplate": "Country=Sierra Leone<br>LifeExp_2015=%{x}<br>Unemployment_2015=%{y}<extra></extra>",
         "legendgroup": "Sierra Leone",
         "marker": {
          "color": "#ab63fa",
          "opacity": 0.6,
          "symbol": "circle"
         },
         "mode": "markers",
         "name": "Sierra Leone",
         "orientation": "v",
         "showlegend": true,
         "type": "scatter",
         "x": [
          56.94
         ],
         "xaxis": "x",
         "y": [
          4.74
         ],
         "yaxis": "y"
        },
        {
         "hovertemplate": "Country=South Africa<br>LifeExp_2015=%{x}<br>Unemployment_2015=%{y}<extra></extra>",
         "legendgroup": "South Africa",
         "marker": {
          "color": "#FFA15A",
          "opacity": 0.6,
          "symbol": "circle"
         },
         "mode": "markers",
         "name": "South Africa",
         "orientation": "v",
         "showlegend": true,
         "type": "scatter",
         "x": [
          62.57
         ],
         "xaxis": "x",
         "y": [
          25.15
         ],
         "yaxis": "y"
        },
        {
         "hovertemplate": "Country=South Sudan<br>LifeExp_2015=%{x}<br>Unemployment_2015=%{y}<extra></extra>",
         "legendgroup": "South Sudan",
         "marker": {
          "color": "#19d3f3",
          "opacity": 0.6,
          "symbol": "circle"
         },
         "mode": "markers",
         "name": "South Sudan",
         "orientation": "v",
         "showlegend": true,
         "type": "scatter",
         "x": [
          61.99
         ],
         "xaxis": "x",
         "y": [
          12.27
         ],
         "yaxis": "y"
        },
        {
         "hovertemplate": "Country=Togo<br>LifeExp_2015=%{x}<br>Unemployment_2015=%{y}<extra></extra>",
         "legendgroup": "Togo",
         "marker": {
          "color": "#FF6692",
          "opacity": 0.6,
          "symbol": "circle"
         },
         "mode": "markers",
         "name": "Togo",
         "orientation": "v",
         "showlegend": true,
         "type": "scatter",
         "x": [
          61.92
         ],
         "xaxis": "x",
         "y": [
          2.2
         ],
         "yaxis": "y"
        },
        {
         "hovertemplate": "Country=Uganda<br>LifeExp_2015=%{x}<br>Unemployment_2015=%{y}<extra></extra>",
         "legendgroup": "Uganda",
         "marker": {
          "color": "#B6E880",
          "opacity": 0.6,
          "symbol": "circle"
         },
         "mode": "markers",
         "name": "Uganda",
         "orientation": "v",
         "showlegend": true,
         "type": "scatter",
         "x": [
          64.47
         ],
         "xaxis": "x",
         "y": [
          1.91
         ],
         "yaxis": "y"
        },
        {
         "hovertemplate": "Country=Zambia<br>LifeExp_2015=%{x}<br>Unemployment_2015=%{y}<extra></extra>",
         "legendgroup": "Zambia",
         "marker": {
          "color": "#FF97FF",
          "opacity": 0.6,
          "symbol": "circle"
         },
         "mode": "markers",
         "name": "Zambia",
         "orientation": "v",
         "showlegend": true,
         "type": "scatter",
         "x": [
          60.5
         ],
         "xaxis": "x",
         "y": [
          10.13
         ],
         "yaxis": "y"
        },
        {
         "hovertemplate": "Country=Zimbabwe<br>LifeExp_2015=%{x}<br>Unemployment_2015=%{y}<extra></extra>",
         "legendgroup": "Zimbabwe",
         "marker": {
          "color": "#FECB52",
          "opacity": 0.6,
          "symbol": "circle"
         },
         "mode": "markers",
         "name": "Zimbabwe",
         "orientation": "v",
         "showlegend": true,
         "type": "scatter",
         "x": [
          58.48
         ],
         "xaxis": "x",
         "y": [
          4.78
         ],
         "yaxis": "y"
        },
        {
         "hovertemplate": "Country=Argentina<br>LifeExp_2015=%{x}<br>Unemployment_2015=%{y}<extra></extra>",
         "legendgroup": "Argentina",
         "marker": {
          "color": "#636efa",
          "opacity": 0.6,
          "symbol": "circle"
         },
         "mode": "markers",
         "name": "Argentina",
         "orientation": "v",
         "showlegend": true,
         "type": "scatter",
         "x": [
          76.17
         ],
         "xaxis": "x",
         "y": [
          7.52
         ],
         "yaxis": "y"
        },
        {
         "hovertemplate": "Country=Barbados<br>LifeExp_2015=%{x}<br>Unemployment_2015=%{y}<extra></extra>",
         "legendgroup": "Barbados",
         "marker": {
          "color": "#EF553B",
          "opacity": 0.6,
          "symbol": "circle"
         },
         "mode": "markers",
         "name": "Barbados",
         "orientation": "v",
         "showlegend": true,
         "type": "scatter",
         "x": [
          76.22
         ],
         "xaxis": "x",
         "y": [
          9.8
         ],
         "yaxis": "y"
        },
        {
         "hovertemplate": "Country=Belize<br>LifeExp_2015=%{x}<br>Unemployment_2015=%{y}<extra></extra>",
         "legendgroup": "Belize",
         "marker": {
          "color": "#00cc96",
          "opacity": 0.6,
          "symbol": "circle"
         },
         "mode": "markers",
         "name": "Belize",
         "orientation": "v",
         "showlegend": true,
         "type": "scatter",
         "x": [
          74.05
         ],
         "xaxis": "x",
         "y": [
          7.58
         ],
         "yaxis": "y"
        },
        {
         "hovertemplate": "Country=Brazil<br>LifeExp_2015=%{x}<br>Unemployment_2015=%{y}<extra></extra>",
         "legendgroup": "Brazil",
         "marker": {
          "color": "#ab63fa",
          "opacity": 0.6,
          "symbol": "circle"
         },
         "mode": "markers",
         "name": "Brazil",
         "orientation": "v",
         "showlegend": true,
         "type": "scatter",
         "x": [
          75.13
         ],
         "xaxis": "x",
         "y": [
          8.43
         ],
         "yaxis": "y"
        },
        {
         "hovertemplate": "Country=Canada<br>LifeExp_2015=%{x}<br>Unemployment_2015=%{y}<extra></extra>",
         "legendgroup": "Canada",
         "marker": {
          "color": "#FFA15A",
          "opacity": 0.6,
          "symbol": "circle"
         },
         "mode": "markers",
         "name": "Canada",
         "orientation": "v",
         "showlegend": true,
         "type": "scatter",
         "x": [
          81.76
         ],
         "xaxis": "x",
         "y": [
          6.91
         ],
         "yaxis": "y"
        },
        {
         "hovertemplate": "Country=Chile<br>LifeExp_2015=%{x}<br>Unemployment_2015=%{y}<extra></extra>",
         "legendgroup": "Chile",
         "marker": {
          "color": "#19d3f3",
          "opacity": 0.6,
          "symbol": "circle"
         },
         "mode": "markers",
         "name": "Chile",
         "orientation": "v",
         "showlegend": true,
         "type": "scatter",
         "x": [
          79.82
         ],
         "xaxis": "x",
         "y": [
          6.51
         ],
         "yaxis": "y"
        },
        {
         "hovertemplate": "Country=Colombia<br>LifeExp_2015=%{x}<br>Unemployment_2015=%{y}<extra></extra>",
         "legendgroup": "Colombia",
         "marker": {
          "color": "#FF6692",
          "opacity": 0.6,
          "symbol": "circle"
         },
         "mode": "markers",
         "name": "Colombia",
         "orientation": "v",
         "showlegend": true,
         "type": "scatter",
         "x": [
          78.35
         ],
         "xaxis": "x",
         "y": [
          8.3
         ],
         "yaxis": "y"
        },
        {
         "hovertemplate": "Country=Costa Rica<br>LifeExp_2015=%{x}<br>Unemployment_2015=%{y}<extra></extra>",
         "legendgroup": "Costa Rica",
         "marker": {
          "color": "#B6E880",
          "opacity": 0.6,
          "symbol": "circle"
         },
         "mode": "markers",
         "name": "Costa Rica",
         "orientation": "v",
         "showlegend": true,
         "type": "scatter",
         "x": [
          80.78
         ],
         "xaxis": "x",
         "y": [
          9
         ],
         "yaxis": "y"
        },
        {
         "hovertemplate": "Country=Cuba<br>LifeExp_2015=%{x}<br>Unemployment_2015=%{y}<extra></extra>",
         "legendgroup": "Cuba",
         "marker": {
          "color": "#FF97FF",
          "opacity": 0.6,
          "symbol": "circle"
         },
         "mode": "markers",
         "name": "Cuba",
         "orientation": "v",
         "showlegend": true,
         "type": "scatter",
         "x": [
          77.91
         ],
         "xaxis": "x",
         "y": [
          2.4
         ],
         "yaxis": "y"
        },
        {
         "hovertemplate": "Country=Dominican Republic<br>LifeExp_2015=%{x}<br>Unemployment_2015=%{y}<extra></extra>",
         "legendgroup": "Dominican Republic",
         "marker": {
          "color": "#FECB52",
          "opacity": 0.6,
          "symbol": "circle"
         },
         "mode": "markers",
         "name": "Dominican Republic",
         "orientation": "v",
         "showlegend": true,
         "type": "scatter",
         "x": [
          71.75
         ],
         "xaxis": "x",
         "y": [
          7.61
         ],
         "yaxis": "y"
        },
        {
         "hovertemplate": "Country=Ecuador<br>LifeExp_2015=%{x}<br>Unemployment_2015=%{y}<extra></extra>",
         "legendgroup": "Ecuador",
         "marker": {
          "color": "#636efa",
          "opacity": 0.6,
          "symbol": "circle"
         },
         "mode": "markers",
         "name": "Ecuador",
         "orientation": "v",
         "showlegend": true,
         "type": "scatter",
         "x": [
          77.18
         ],
         "xaxis": "x",
         "y": [
          3.62
         ],
         "yaxis": "y"
        },
        {
         "hovertemplate": "Country=El Salvador<br>LifeExp_2015=%{x}<br>Unemployment_2015=%{y}<extra></extra>",
         "legendgroup": "El Salvador",
         "marker": {
          "color": "#EF553B",
          "opacity": 0.6,
          "symbol": "circle"
         },
         "mode": "markers",
         "name": "El Salvador",
         "orientation": "v",
         "showlegend": true,
         "type": "scatter",
         "x": [
          73.25
         ],
         "xaxis": "x",
         "y": [
          4
         ],
         "yaxis": "y"
        },
        {
         "hovertemplate": "Country=Guatemala<br>LifeExp_2015=%{x}<br>Unemployment_2015=%{y}<extra></extra>",
         "legendgroup": "Guatemala",
         "marker": {
          "color": "#00cc96",
          "opacity": 0.6,
          "symbol": "circle"
         },
         "mode": "markers",
         "name": "Guatemala",
         "orientation": "v",
         "showlegend": true,
         "type": "scatter",
         "x": [
          70.95
         ],
         "xaxis": "x",
         "y": [
          2.51
         ],
         "yaxis": "y"
        },
        {
         "hovertemplate": "Country=Guyana<br>LifeExp_2015=%{x}<br>Unemployment_2015=%{y}<extra></extra>",
         "legendgroup": "Guyana",
         "marker": {
          "color": "#ab63fa",
          "opacity": 0.6,
          "symbol": "circle"
         },
         "mode": "markers",
         "name": "Guyana",
         "orientation": "v",
         "showlegend": true,
         "type": "scatter",
         "x": [
          65.59
         ],
         "xaxis": "x",
         "y": [
          13.21
         ],
         "yaxis": "y"
        },
        {
         "hovertemplate": "Country=Haiti<br>LifeExp_2015=%{x}<br>Unemployment_2015=%{y}<extra></extra>",
         "legendgroup": "Haiti",
         "marker": {
          "color": "#FFA15A",
          "opacity": 0.6,
          "symbol": "circle"
         },
         "mode": "markers",
         "name": "Haiti",
         "orientation": "v",
         "showlegend": true,
         "type": "scatter",
         "x": [
          62.61
         ],
         "xaxis": "x",
         "y": [
          13.96
         ],
         "yaxis": "y"
        },
        {
         "hovertemplate": "Country=Honduras<br>LifeExp_2015=%{x}<br>Unemployment_2015=%{y}<extra></extra>",
         "legendgroup": "Honduras",
         "marker": {
          "color": "#19d3f3",
          "opacity": 0.6,
          "symbol": "circle"
         },
         "mode": "markers",
         "name": "Honduras",
         "orientation": "v",
         "showlegend": true,
         "type": "scatter",
         "x": [
          69.82
         ],
         "xaxis": "x",
         "y": [
          6.15
         ],
         "yaxis": "y"
        },
        {
         "hovertemplate": "Country=Jamaica<br>LifeExp_2015=%{x}<br>Unemployment_2015=%{y}<extra></extra>",
         "legendgroup": "Jamaica",
         "marker": {
          "color": "#FF6692",
          "opacity": 0.6,
          "symbol": "circle"
         },
         "mode": "markers",
         "name": "Jamaica",
         "orientation": "v",
         "showlegend": true,
         "type": "scatter",
         "x": [
          75.85
         ],
         "xaxis": "x",
         "y": [
          13.51
         ],
         "yaxis": "y"
        },
        {
         "hovertemplate": "Country=Mexico<br>LifeExp_2015=%{x}<br>Unemployment_2015=%{y}<extra></extra>",
         "legendgroup": "Mexico",
         "marker": {
          "color": "#B6E880",
          "opacity": 0.6,
          "symbol": "circle"
         },
         "mode": "markers",
         "name": "Mexico",
         "orientation": "v",
         "showlegend": true,
         "type": "scatter",
         "x": [
          75.87
         ],
         "xaxis": "x",
         "y": [
          4.31
         ],
         "yaxis": "y"
        },
        {
         "hovertemplate": "Country=Nicaragua<br>LifeExp_2015=%{x}<br>Unemployment_2015=%{y}<extra></extra>",
         "legendgroup": "Nicaragua",
         "marker": {
          "color": "#FF97FF",
          "opacity": 0.6,
          "symbol": "circle"
         },
         "mode": "markers",
         "name": "Nicaragua",
         "orientation": "v",
         "showlegend": true,
         "type": "scatter",
         "x": [
          74.62
         ],
         "xaxis": "x",
         "y": [
          4.7
         ],
         "yaxis": "y"
        },
        {
         "hovertemplate": "Country=Panama<br>LifeExp_2015=%{x}<br>Unemployment_2015=%{y}<extra></extra>",
         "legendgroup": "Panama",
         "marker": {
          "color": "#FECB52",
          "opacity": 0.6,
          "symbol": "circle"
         },
         "mode": "markers",
         "name": "Panama",
         "orientation": "v",
         "showlegend": true,
         "type": "scatter",
         "x": [
          78.72
         ],
         "xaxis": "x",
         "y": [
          2.98
         ],
         "yaxis": "y"
        },
        {
         "hovertemplate": "Country=Paraguay<br>LifeExp_2015=%{x}<br>Unemployment_2015=%{y}<extra></extra>",
         "legendgroup": "Paraguay",
         "marker": {
          "color": "#636efa",
          "opacity": 0.6,
          "symbol": "circle"
         },
         "mode": "markers",
         "name": "Paraguay",
         "orientation": "v",
         "showlegend": true,
         "type": "scatter",
         "x": [
          75.56
         ],
         "xaxis": "x",
         "y": [
          4.56
         ],
         "yaxis": "y"
        },
        {
         "hovertemplate": "Country=Peru<br>LifeExp_2015=%{x}<br>Unemployment_2015=%{y}<extra></extra>",
         "legendgroup": "Peru",
         "marker": {
          "color": "#EF553B",
          "opacity": 0.6,
          "symbol": "circle"
         },
         "mode": "markers",
         "name": "Peru",
         "orientation": "v",
         "showlegend": true,
         "type": "scatter",
         "x": [
          79.08
         ],
         "xaxis": "x",
         "y": [
          3.27
         ],
         "yaxis": "y"
        },
        {
         "hovertemplate": "Country=Suriname<br>LifeExp_2015=%{x}<br>Unemployment_2015=%{y}<extra></extra>",
         "legendgroup": "Suriname",
         "marker": {
          "color": "#00cc96",
          "opacity": 0.6,
          "symbol": "circle"
         },
         "mode": "markers",
         "name": "Suriname",
         "orientation": "v",
         "showlegend": true,
         "type": "scatter",
         "x": [
          72.6
         ],
         "xaxis": "x",
         "y": [
          7.22
         ],
         "yaxis": "y"
        },
        {
         "hovertemplate": "Country=Trinidad and Tobago<br>LifeExp_2015=%{x}<br>Unemployment_2015=%{y}<extra></extra>",
         "legendgroup": "Trinidad and Tobago",
         "marker": {
          "color": "#ab63fa",
          "opacity": 0.6,
          "symbol": "circle"
         },
         "mode": "markers",
         "name": "Trinidad and Tobago",
         "orientation": "v",
         "showlegend": true,
         "type": "scatter",
         "x": [
          74.61
         ],
         "xaxis": "x",
         "y": [
          2.43
         ],
         "yaxis": "y"
        },
        {
         "hovertemplate": "Country=Uruguay<br>LifeExp_2015=%{x}<br>Unemployment_2015=%{y}<extra></extra>",
         "legendgroup": "Uruguay",
         "marker": {
          "color": "#FFA15A",
          "opacity": 0.6,
          "symbol": "circle"
         },
         "mode": "markers",
         "name": "Uruguay",
         "orientation": "v",
         "showlegend": true,
         "type": "scatter",
         "x": [
          77.03
         ],
         "xaxis": "x",
         "y": [
          7.49
         ],
         "yaxis": "y"
        },
        {
         "hovertemplate": "Country=Afghanistan<br>LifeExp_2015=%{x}<br>Unemployment_2015=%{y}<extra></extra>",
         "legendgroup": "Afghanistan",
         "marker": {
          "color": "#19d3f3",
          "opacity": 0.6,
          "symbol": "circle"
         },
         "mode": "markers",
         "name": "Afghanistan",
         "orientation": "v",
         "showlegend": true,
         "type": "scatter",
         "x": [
          61.65
         ],
         "xaxis": "x",
         "y": [
          11.13
         ],
         "yaxis": "y"
        },
        {
         "hovertemplate": "Country=Bahrain<br>LifeExp_2015=%{x}<br>Unemployment_2015=%{y}<extra></extra>",
         "legendgroup": "Bahrain",
         "marker": {
          "color": "#FF6692",
          "opacity": 0.6,
          "symbol": "circle"
         },
         "mode": "markers",
         "name": "Bahrain",
         "orientation": "v",
         "showlegend": true,
         "type": "scatter",
         "x": [
          76.46
         ],
         "xaxis": "x",
         "y": [
          1.2
         ],
         "yaxis": "y"
        },
        {
         "hovertemplate": "Country=Djibouti<br>LifeExp_2015=%{x}<br>Unemployment_2015=%{y}<extra></extra>",
         "legendgroup": "Djibouti",
         "marker": {
          "color": "#B6E880",
          "opacity": 0.6,
          "symbol": "circle"
         },
         "mode": "markers",
         "name": "Djibouti",
         "orientation": "v",
         "showlegend": true,
         "type": "scatter",
         "x": [
          64.64
         ],
         "xaxis": "x",
         "y": [
          26.33
         ],
         "yaxis": "y"
        },
        {
         "hovertemplate": "Country=Iraq<br>LifeExp_2015=%{x}<br>Unemployment_2015=%{y}<extra></extra>",
         "legendgroup": "Iraq",
         "marker": {
          "color": "#FF97FF",
          "opacity": 0.6,
          "symbol": "circle"
         },
         "mode": "markers",
         "name": "Iraq",
         "orientation": "v",
         "showlegend": true,
         "type": "scatter",
         "x": [
          70.29
         ],
         "xaxis": "x",
         "y": [
          10.73
         ],
         "yaxis": "y"
        },
        {
         "hovertemplate": "Country=Jordan<br>LifeExp_2015=%{x}<br>Unemployment_2015=%{y}<extra></extra>",
         "legendgroup": "Jordan",
         "marker": {
          "color": "#FECB52",
          "opacity": 0.6,
          "symbol": "circle"
         },
         "mode": "markers",
         "name": "Jordan",
         "orientation": "v",
         "showlegend": true,
         "type": "scatter",
         "x": [
          77.82
         ],
         "xaxis": "x",
         "y": [
          13.08
         ],
         "yaxis": "y"
        },
        {
         "hovertemplate": "Country=Kuwait<br>LifeExp_2015=%{x}<br>Unemployment_2015=%{y}<extra></extra>",
         "legendgroup": "Kuwait",
         "marker": {
          "color": "#636efa",
          "opacity": 0.6,
          "symbol": "circle"
         },
         "mode": "markers",
         "name": "Kuwait",
         "orientation": "v",
         "showlegend": true,
         "type": "scatter",
         "x": [
          81.13
         ],
         "xaxis": "x",
         "y": [
          2.2
         ],
         "yaxis": "y"
        },
        {
         "hovertemplate": "Country=Lebanon<br>LifeExp_2015=%{x}<br>Unemployment_2015=%{y}<extra></extra>",
         "legendgroup": "Lebanon",
         "marker": {
          "color": "#EF553B",
          "opacity": 0.6,
          "symbol": "circle"
         },
         "mode": "markers",
         "name": "Lebanon",
         "orientation": "v",
         "showlegend": true,
         "type": "scatter",
         "x": [
          75.98
         ],
         "xaxis": "x",
         "y": [
          9.32
         ],
         "yaxis": "y"
        },
        {
         "hovertemplate": "Country=Libya<br>LifeExp_2015=%{x}<br>Unemployment_2015=%{y}<extra></extra>",
         "legendgroup": "Libya",
         "marker": {
          "color": "#00cc96",
          "opacity": 0.6,
          "symbol": "circle"
         },
         "mode": "markers",
         "name": "Libya",
         "orientation": "v",
         "showlegend": true,
         "type": "scatter",
         "x": [
          74.6
         ],
         "xaxis": "x",
         "y": [
          19.53
         ],
         "yaxis": "y"
        },
        {
         "hovertemplate": "Country=Morocco<br>LifeExp_2015=%{x}<br>Unemployment_2015=%{y}<extra></extra>",
         "legendgroup": "Morocco",
         "marker": {
          "color": "#ab63fa",
          "opacity": 0.6,
          "symbol": "circle"
         },
         "mode": "markers",
         "name": "Morocco",
         "orientation": "v",
         "showlegend": true,
         "type": "scatter",
         "x": [
          72.46
         ],
         "xaxis": "x",
         "y": [
          9.46
         ],
         "yaxis": "y"
        },
        {
         "hovertemplate": "Country=Oman<br>LifeExp_2015=%{x}<br>Unemployment_2015=%{y}<extra></extra>",
         "legendgroup": "Oman",
         "marker": {
          "color": "#FFA15A",
          "opacity": 0.6,
          "symbol": "circle"
         },
         "mode": "markers",
         "name": "Oman",
         "orientation": "v",
         "showlegend": true,
         "type": "scatter",
         "x": [
          72.52
         ],
         "xaxis": "x",
         "y": [
          3.39
         ],
         "yaxis": "y"
        },
        {
         "hovertemplate": "Country=Pakistan<br>LifeExp_2015=%{x}<br>Unemployment_2015=%{y}<extra></extra>",
         "legendgroup": "Pakistan",
         "marker": {
          "color": "#19d3f3",
          "opacity": 0.6,
          "symbol": "circle"
         },
         "mode": "markers",
         "name": "Pakistan",
         "orientation": "v",
         "showlegend": true,
         "type": "scatter",
         "x": [
          64.18
         ],
         "xaxis": "x",
         "y": [
          3.57
         ],
         "yaxis": "y"
        },
        {
         "hovertemplate": "Country=Qatar<br>LifeExp_2015=%{x}<br>Unemployment_2015=%{y}<extra></extra>",
         "legendgroup": "Qatar",
         "marker": {
          "color": "#FF6692",
          "opacity": 0.6,
          "symbol": "circle"
         },
         "mode": "markers",
         "name": "Qatar",
         "orientation": "v",
         "showlegend": true,
         "type": "scatter",
         "x": [
          76.41
         ],
         "xaxis": "x",
         "y": [
          0.17
         ],
         "yaxis": "y"
        },
        {
         "hovertemplate": "Country=Saudi Arabia<br>LifeExp_2015=%{x}<br>Unemployment_2015=%{y}<extra></extra>",
         "legendgroup": "Saudi Arabia",
         "marker": {
          "color": "#B6E880",
          "opacity": 0.6,
          "symbol": "circle"
         },
         "mode": "markers",
         "name": "Saudi Arabia",
         "orientation": "v",
         "showlegend": true,
         "type": "scatter",
         "x": [
          73.15
         ],
         "xaxis": "x",
         "y": [
          5.59
         ],
         "yaxis": "y"
        },
        {
         "hovertemplate": "Country=Sudan<br>LifeExp_2015=%{x}<br>Unemployment_2015=%{y}<extra></extra>",
         "legendgroup": "Sudan",
         "marker": {
          "color": "#FF97FF",
          "opacity": 0.6,
          "symbol": "circle"
         },
         "mode": "markers",
         "name": "Sudan",
         "orientation": "v",
         "showlegend": true,
         "type": "scatter",
         "x": [
          67.94
         ],
         "xaxis": "x",
         "y": [
          17.49
         ],
         "yaxis": "y"
        },
        {
         "hovertemplate": "Country=Syrian Arab Republic<br>LifeExp_2015=%{x}<br>Unemployment_2015=%{y}<extra></extra>",
         "legendgroup": "Syrian Arab Republic",
         "marker": {
          "color": "#FECB52",
          "opacity": 0.6,
          "symbol": "circle"
         },
         "mode": "markers",
         "name": "Syrian Arab Republic",
         "orientation": "v",
         "showlegend": true,
         "type": "scatter",
         "x": [
          64.4
         ],
         "xaxis": "x",
         "y": [
          8.71
         ],
         "yaxis": "y"
        },
        {
         "hovertemplate": "Country=Tunisia<br>LifeExp_2015=%{x}<br>Unemployment_2015=%{y}<extra></extra>",
         "legendgroup": "Tunisia",
         "marker": {
          "color": "#636efa",
          "opacity": 0.6,
          "symbol": "circle"
         },
         "mode": "markers",
         "name": "Tunisia",
         "orientation": "v",
         "showlegend": true,
         "type": "scatter",
         "x": [
          76.7
         ],
         "xaxis": "x",
         "y": [
          15.16
         ],
         "yaxis": "y"
        },
        {
         "hovertemplate": "Country=United Arab Emirates<br>LifeExp_2015=%{x}<br>Unemployment_2015=%{y}<extra></extra>",
         "legendgroup": "United Arab Emirates",
         "marker": {
          "color": "#EF553B",
          "opacity": 0.6,
          "symbol": "circle"
         },
         "mode": "markers",
         "name": "United Arab Emirates",
         "orientation": "v",
         "showlegend": true,
         "type": "scatter",
         "x": [
          75.31
         ],
         "xaxis": "x",
         "y": [
          1.77
         ],
         "yaxis": "y"
        },
        {
         "hovertemplate": "Country=Albania<br>LifeExp_2015=%{x}<br>Unemployment_2015=%{y}<extra></extra>",
         "legendgroup": "Albania",
         "marker": {
          "color": "#00cc96",
          "opacity": 0.6,
          "symbol": "circle"
         },
         "mode": "markers",
         "name": "Albania",
         "orientation": "v",
         "showlegend": true,
         "type": "scatter",
         "x": [
          77.84
         ],
         "xaxis": "x",
         "y": [
          17.19
         ],
         "yaxis": "y"
        },
        {
         "hovertemplate": "Country=Armenia<br>LifeExp_2015=%{x}<br>Unemployment_2015=%{y}<extra></extra>",
         "legendgroup": "Armenia",
         "marker": {
          "color": "#ab63fa",
          "opacity": 0.6,
          "symbol": "circle"
         },
         "mode": "markers",
         "name": "Armenia",
         "orientation": "v",
         "showlegend": true,
         "type": "scatter",
         "x": [
          74.51
         ],
         "xaxis": "x",
         "y": [
          18.26
         ],
         "yaxis": "y"
        },
        {
         "hovertemplate": "Country=Austria<br>LifeExp_2015=%{x}<br>Unemployment_2015=%{y}<extra></extra>",
         "legendgroup": "Austria",
         "marker": {
          "color": "#FFA15A",
          "opacity": 0.6,
          "symbol": "circle"
         },
         "mode": "markers",
         "name": "Austria",
         "orientation": "v",
         "showlegend": true,
         "type": "scatter",
         "x": [
          80.98
         ],
         "xaxis": "x",
         "y": [
          5.72
         ],
         "yaxis": "y"
        },
        {
         "hovertemplate": "Country=Azerbaijan<br>LifeExp_2015=%{x}<br>Unemployment_2015=%{y}<extra></extra>",
         "legendgroup": "Azerbaijan",
         "marker": {
          "color": "#19d3f3",
          "opacity": 0.6,
          "symbol": "circle"
         },
         "mode": "markers",
         "name": "Azerbaijan",
         "orientation": "v",
         "showlegend": true,
         "type": "scatter",
         "x": [
          70.67
         ],
         "xaxis": "x",
         "y": [
          4.96
         ],
         "yaxis": "y"
        },
        {
         "hovertemplate": "Country=Belarus<br>LifeExp_2015=%{x}<br>Unemployment_2015=%{y}<extra></extra>",
         "legendgroup": "Belarus",
         "marker": {
          "color": "#FF6692",
          "opacity": 0.6,
          "symbol": "circle"
         },
         "mode": "markers",
         "name": "Belarus",
         "orientation": "v",
         "showlegend": true,
         "type": "scatter",
         "x": [
          73.82
         ],
         "xaxis": "x",
         "y": [
          5.84
         ],
         "yaxis": "y"
        },
        {
         "hovertemplate": "Country=Belgium<br>LifeExp_2015=%{x}<br>Unemployment_2015=%{y}<extra></extra>",
         "legendgroup": "Belgium",
         "marker": {
          "color": "#B6E880",
          "opacity": 0.6,
          "symbol": "circle"
         },
         "mode": "markers",
         "name": "Belgium",
         "orientation": "v",
         "showlegend": true,
         "type": "scatter",
         "x": [
          80.71
         ],
         "xaxis": "x",
         "y": [
          8.48
         ],
         "yaxis": "y"
        },
        {
         "hovertemplate": "Country=Bosnia and Herzegovina<br>LifeExp_2015=%{x}<br>Unemployment_2015=%{y}<extra></extra>",
         "legendgroup": "Bosnia and Herzegovina",
         "marker": {
          "color": "#FF97FF",
          "opacity": 0.6,
          "symbol": "circle"
         },
         "mode": "markers",
         "name": "Bosnia and Herzegovina",
         "orientation": "v",
         "showlegend": true,
         "type": "scatter",
         "x": [
          76.32
         ],
         "xaxis": "x",
         "y": [
          27.69
         ],
         "yaxis": "y"
        },
        {
         "hovertemplate": "Country=Bulgaria<br>LifeExp_2015=%{x}<br>Unemployment_2015=%{y}<extra></extra>",
         "legendgroup": "Bulgaria",
         "marker": {
          "color": "#FECB52",
          "opacity": 0.6,
          "symbol": "circle"
         },
         "mode": "markers",
         "name": "Bulgaria",
         "orientation": "v",
         "showlegend": true,
         "type": "scatter",
         "x": [
          74.55
         ],
         "xaxis": "x",
         "y": [
          9.14
         ],
         "yaxis": "y"
        },
        {
         "hovertemplate": "Country=Croatia<br>LifeExp_2015=%{x}<br>Unemployment_2015=%{y}<extra></extra>",
         "legendgroup": "Croatia",
         "marker": {
          "color": "#636efa",
          "opacity": 0.6,
          "symbol": "circle"
         },
         "mode": "markers",
         "name": "Croatia",
         "orientation": "v",
         "showlegend": true,
         "type": "scatter",
         "x": [
          77.58
         ],
         "xaxis": "x",
         "y": [
          16.18
         ],
         "yaxis": "y"
        },
        {
         "hovertemplate": "Country=Cyprus<br>LifeExp_2015=%{x}<br>Unemployment_2015=%{y}<extra></extra>",
         "legendgroup": "Cyprus",
         "marker": {
          "color": "#EF553B",
          "opacity": 0.6,
          "symbol": "circle"
         },
         "mode": "markers",
         "name": "Cyprus",
         "orientation": "v",
         "showlegend": true,
         "type": "scatter",
         "x": [
          82.01
         ],
         "xaxis": "x",
         "y": [
          14.91
         ],
         "yaxis": "y"
        },
        {
         "hovertemplate": "Country=Denmark<br>LifeExp_2015=%{x}<br>Unemployment_2015=%{y}<extra></extra>",
         "legendgroup": "Denmark",
         "marker": {
          "color": "#00cc96",
          "opacity": 0.6,
          "symbol": "circle"
         },
         "mode": "markers",
         "name": "Denmark",
         "orientation": "v",
         "showlegend": true,
         "type": "scatter",
         "x": [
          80.59
         ],
         "xaxis": "x",
         "y": [
          6.28
         ],
         "yaxis": "y"
        },
        {
         "hovertemplate": "Country=Estonia<br>LifeExp_2015=%{x}<br>Unemployment_2015=%{y}<extra></extra>",
         "legendgroup": "Estonia",
         "marker": {
          "color": "#ab63fa",
          "opacity": 0.6,
          "symbol": "circle"
         },
         "mode": "markers",
         "name": "Estonia",
         "orientation": "v",
         "showlegend": true,
         "type": "scatter",
         "x": [
          77.6
         ],
         "xaxis": "x",
         "y": [
          6.19
         ],
         "yaxis": "y"
        },
        {
         "hovertemplate": "Country=Finland<br>LifeExp_2015=%{x}<br>Unemployment_2015=%{y}<extra></extra>",
         "legendgroup": "Finland",
         "marker": {
          "color": "#FFA15A",
          "opacity": 0.6,
          "symbol": "circle"
         },
         "mode": "markers",
         "name": "Finland",
         "orientation": "v",
         "showlegend": true,
         "type": "scatter",
         "x": [
          81.21
         ],
         "xaxis": "x",
         "y": [
          9.38
         ],
         "yaxis": "y"
        },
        {
         "hovertemplate": "Country=France<br>LifeExp_2015=%{x}<br>Unemployment_2015=%{y}<extra></extra>",
         "legendgroup": "France",
         "marker": {
          "color": "#19d3f3",
          "opacity": 0.6,
          "symbol": "circle"
         },
         "mode": "markers",
         "name": "France",
         "orientation": "v",
         "showlegend": true,
         "type": "scatter",
         "x": [
          81.91
         ],
         "xaxis": "x",
         "y": [
          10.35
         ],
         "yaxis": "y"
        },
        {
         "hovertemplate": "Country=Georgia<br>LifeExp_2015=%{x}<br>Unemployment_2015=%{y}<extra></extra>",
         "legendgroup": "Georgia",
         "marker": {
          "color": "#FF6692",
          "opacity": 0.6,
          "symbol": "circle"
         },
         "mode": "markers",
         "name": "Georgia",
         "orientation": "v",
         "showlegend": true,
         "type": "scatter",
         "x": [
          72.58
         ],
         "xaxis": "x",
         "y": [
          16.51
         ],
         "yaxis": "y"
        },
        {
         "hovertemplate": "Country=Germany<br>LifeExp_2015=%{x}<br>Unemployment_2015=%{y}<extra></extra>",
         "legendgroup": "Germany",
         "marker": {
          "color": "#B6E880",
          "opacity": 0.6,
          "symbol": "circle"
         },
         "mode": "markers",
         "name": "Germany",
         "orientation": "v",
         "showlegend": true,
         "type": "scatter",
         "x": [
          80.42
         ],
         "xaxis": "x",
         "y": [
          4.62
         ],
         "yaxis": "y"
        },
        {
         "hovertemplate": "Country=Greece<br>LifeExp_2015=%{x}<br>Unemployment_2015=%{y}<extra></extra>",
         "legendgroup": "Greece",
         "marker": {
          "color": "#FF97FF",
          "opacity": 0.6,
          "symbol": "circle"
         },
         "mode": "markers",
         "name": "Greece",
         "orientation": "v",
         "showlegend": true,
         "type": "scatter",
         "x": [
          80.38
         ],
         "xaxis": "x",
         "y": [
          24.9
         ],
         "yaxis": "y"
        },
        {
         "hovertemplate": "Country=Hungary<br>LifeExp_2015=%{x}<br>Unemployment_2015=%{y}<extra></extra>",
         "legendgroup": "Hungary",
         "marker": {
          "color": "#FECB52",
          "opacity": 0.6,
          "symbol": "circle"
         },
         "mode": "markers",
         "name": "Hungary",
         "orientation": "v",
         "showlegend": true,
         "type": "scatter",
         "x": [
          75.57
         ],
         "xaxis": "x",
         "y": [
          6.81
         ],
         "yaxis": "y"
        },
        {
         "hovertemplate": "Country=Iceland<br>LifeExp_2015=%{x}<br>Unemployment_2015=%{y}<extra></extra>",
         "legendgroup": "Iceland",
         "marker": {
          "color": "#636efa",
          "opacity": 0.6,
          "symbol": "circle"
         },
         "mode": "markers",
         "name": "Iceland",
         "orientation": "v",
         "showlegend": true,
         "type": "scatter",
         "x": [
          82.14
         ],
         "xaxis": "x",
         "y": [
          3.98
         ],
         "yaxis": "y"
        },
        {
         "hovertemplate": "Country=Ireland<br>LifeExp_2015=%{x}<br>Unemployment_2015=%{y}<extra></extra>",
         "legendgroup": "Ireland",
         "marker": {
          "color": "#EF553B",
          "opacity": 0.6,
          "symbol": "circle"
         },
         "mode": "markers",
         "name": "Ireland",
         "orientation": "v",
         "showlegend": true,
         "type": "scatter",
         "x": [
          81.14
         ],
         "xaxis": "x",
         "y": [
          9.91
         ],
         "yaxis": "y"
        },
        {
         "hovertemplate": "Country=Israel<br>LifeExp_2015=%{x}<br>Unemployment_2015=%{y}<extra></extra>",
         "legendgroup": "Israel",
         "marker": {
          "color": "#00cc96",
          "opacity": 0.6,
          "symbol": "circle"
         },
         "mode": "markers",
         "name": "Israel",
         "orientation": "v",
         "showlegend": true,
         "type": "scatter",
         "x": [
          81.93
         ],
         "xaxis": "x",
         "y": [
          5.25
         ],
         "yaxis": "y"
        },
        {
         "hovertemplate": "Country=Italy<br>LifeExp_2015=%{x}<br>Unemployment_2015=%{y}<extra></extra>",
         "legendgroup": "Italy",
         "marker": {
          "color": "#ab63fa",
          "opacity": 0.6,
          "symbol": "circle"
         },
         "mode": "markers",
         "name": "Italy",
         "orientation": "v",
         "showlegend": true,
         "type": "scatter",
         "x": [
          82.21
         ],
         "xaxis": "x",
         "y": [
          11.9
         ],
         "yaxis": "y"
        },
        {
         "hovertemplate": "Country=Kazakhstan<br>LifeExp_2015=%{x}<br>Unemployment_2015=%{y}<extra></extra>",
         "legendgroup": "Kazakhstan",
         "marker": {
          "color": "#FFA15A",
          "opacity": 0.6,
          "symbol": "circle"
         },
         "mode": "markers",
         "name": "Kazakhstan",
         "orientation": "v",
         "showlegend": true,
         "type": "scatter",
         "x": [
          71.91
         ],
         "xaxis": "x",
         "y": [
          4.93
         ],
         "yaxis": "y"
        },
        {
         "hovertemplate": "Country=Latvia<br>LifeExp_2015=%{x}<br>Unemployment_2015=%{y}<extra></extra>",
         "legendgroup": "Latvia",
         "marker": {
          "color": "#19d3f3",
          "opacity": 0.6,
          "symbol": "circle"
         },
         "mode": "markers",
         "name": "Latvia",
         "orientation": "v",
         "showlegend": true,
         "type": "scatter",
         "x": [
          74.8
         ],
         "xaxis": "x",
         "y": [
          9.87
         ],
         "yaxis": "y"
        },
        {
         "hovertemplate": "Country=Lithuania<br>LifeExp_2015=%{x}<br>Unemployment_2015=%{y}<extra></extra>",
         "legendgroup": "Lithuania",
         "marker": {
          "color": "#FF6692",
          "opacity": 0.6,
          "symbol": "circle"
         },
         "mode": "markers",
         "name": "Lithuania",
         "orientation": "v",
         "showlegend": true,
         "type": "scatter",
         "x": [
          74.38
         ],
         "xaxis": "x",
         "y": [
          9.12
         ],
         "yaxis": "y"
        },
        {
         "hovertemplate": "Country=Luxembourg<br>LifeExp_2015=%{x}<br>Unemployment_2015=%{y}<extra></extra>",
         "legendgroup": "Luxembourg",
         "marker": {
          "color": "#B6E880",
          "opacity": 0.6,
          "symbol": "circle"
         },
         "mode": "markers",
         "name": "Luxembourg",
         "orientation": "v",
         "showlegend": true,
         "type": "scatter",
         "x": [
          82.31
         ],
         "xaxis": "x",
         "y": [
          6.67
         ],
         "yaxis": "y"
        },
        {
         "hovertemplate": "Country=Malta<br>LifeExp_2015=%{x}<br>Unemployment_2015=%{y}<extra></extra>",
         "legendgroup": "Malta",
         "marker": {
          "color": "#FF97FF",
          "opacity": 0.6,
          "symbol": "circle"
         },
         "mode": "markers",
         "name": "Malta",
         "orientation": "v",
         "showlegend": true,
         "type": "scatter",
         "x": [
          81.65
         ],
         "xaxis": "x",
         "y": [
          5.38
         ],
         "yaxis": "y"
        },
        {
         "hovertemplate": "Country=Montenegro<br>LifeExp_2015=%{x}<br>Unemployment_2015=%{y}<extra></extra>",
         "legendgroup": "Montenegro",
         "marker": {
          "color": "#FECB52",
          "opacity": 0.6,
          "symbol": "circle"
         },
         "mode": "markers",
         "name": "Montenegro",
         "orientation": "v",
         "showlegend": true,
         "type": "scatter",
         "x": [
          75.27
         ],
         "xaxis": "x",
         "y": [
          17.54
         ],
         "yaxis": "y"
        },
        {
         "hovertemplate": "Country=Netherlands<br>LifeExp_2015=%{x}<br>Unemployment_2015=%{y}<extra></extra>",
         "legendgroup": "Netherlands",
         "marker": {
          "color": "#636efa",
          "opacity": 0.6,
          "symbol": "circle"
         },
         "mode": "markers",
         "name": "Netherlands",
         "orientation": "v",
         "showlegend": true,
         "type": "scatter",
         "x": [
          81.28
         ],
         "xaxis": "x",
         "y": [
          6.87
         ],
         "yaxis": "y"
        },
        {
         "hovertemplate": "Country=Norway<br>LifeExp_2015=%{x}<br>Unemployment_2015=%{y}<extra></extra>",
         "legendgroup": "Norway",
         "marker": {
          "color": "#EF553B",
          "opacity": 0.6,
          "symbol": "circle"
         },
         "mode": "markers",
         "name": "Norway",
         "orientation": "v",
         "showlegend": true,
         "type": "scatter",
         "x": [
          82.01
         ],
         "xaxis": "x",
         "y": [
          4.3
         ],
         "yaxis": "y"
        },
        {
         "hovertemplate": "Country=Poland<br>LifeExp_2015=%{x}<br>Unemployment_2015=%{y}<extra></extra>",
         "legendgroup": "Poland",
         "marker": {
          "color": "#00cc96",
          "opacity": 0.6,
          "symbol": "circle"
         },
         "mode": "markers",
         "name": "Poland",
         "orientation": "v",
         "showlegend": true,
         "type": "scatter",
         "x": [
          77.29
         ],
         "xaxis": "x",
         "y": [
          7.5
         ],
         "yaxis": "y"
        },
        {
         "hovertemplate": "Country=Portugal<br>LifeExp_2015=%{x}<br>Unemployment_2015=%{y}<extra></extra>",
         "legendgroup": "Portugal",
         "marker": {
          "color": "#ab63fa",
          "opacity": 0.6,
          "symbol": "circle"
         },
         "mode": "markers",
         "name": "Portugal",
         "orientation": "v",
         "showlegend": true,
         "type": "scatter",
         "x": [
          80.89
         ],
         "xaxis": "x",
         "y": [
          12.44
         ],
         "yaxis": "y"
        },
        {
         "hovertemplate": "Country=Romania<br>LifeExp_2015=%{x}<br>Unemployment_2015=%{y}<extra></extra>",
         "legendgroup": "Romania",
         "marker": {
          "color": "#FFA15A",
          "opacity": 0.6,
          "symbol": "circle"
         },
         "mode": "markers",
         "name": "Romania",
         "orientation": "v",
         "showlegend": true,
         "type": "scatter",
         "x": [
          74.82
         ],
         "xaxis": "x",
         "y": [
          6.81
         ],
         "yaxis": "y"
        },
        {
         "hovertemplate": "Country=Russian Federation<br>LifeExp_2015=%{x}<br>Unemployment_2015=%{y}<extra></extra>",
         "legendgroup": "Russian Federation",
         "marker": {
          "color": "#19d3f3",
          "opacity": 0.6,
          "symbol": "circle"
         },
         "mode": "markers",
         "name": "Russian Federation",
         "orientation": "v",
         "showlegend": true,
         "type": "scatter",
         "x": [
          71.3
         ],
         "xaxis": "x",
         "y": [
          5.57
         ],
         "yaxis": "y"
        },
        {
         "hovertemplate": "Country=Serbia<br>LifeExp_2015=%{x}<br>Unemployment_2015=%{y}<extra></extra>",
         "legendgroup": "Serbia",
         "marker": {
          "color": "#FF6692",
          "opacity": 0.6,
          "symbol": "circle"
         },
         "mode": "markers",
         "name": "Serbia",
         "orientation": "v",
         "showlegend": true,
         "type": "scatter",
         "x": [
          75.21
         ],
         "xaxis": "x",
         "y": [
          17.66
         ],
         "yaxis": "y"
        },
        {
         "hovertemplate": "Country=Slovenia<br>LifeExp_2015=%{x}<br>Unemployment_2015=%{y}<extra></extra>",
         "legendgroup": "Slovenia",
         "marker": {
          "color": "#B6E880",
          "opacity": 0.6,
          "symbol": "circle"
         },
         "mode": "markers",
         "name": "Slovenia",
         "orientation": "v",
         "showlegend": true,
         "type": "scatter",
         "x": [
          80.47
         ],
         "xaxis": "x",
         "y": [
          8.96
         ],
         "yaxis": "y"
        },
        {
         "hovertemplate": "Country=Spain<br>LifeExp_2015=%{x}<br>Unemployment_2015=%{y}<extra></extra>",
         "legendgroup": "Spain",
         "marker": {
          "color": "#FF97FF",
          "opacity": 0.6,
          "symbol": "circle"
         },
         "mode": "markers",
         "name": "Spain",
         "orientation": "v",
         "showlegend": true,
         "type": "scatter",
         "x": [
          82.33
         ],
         "xaxis": "x",
         "y": [
          22.06
         ],
         "yaxis": "y"
        },
        {
         "hovertemplate": "Country=Sweden<br>LifeExp_2015=%{x}<br>Unemployment_2015=%{y}<extra></extra>",
         "legendgroup": "Sweden",
         "marker": {
          "color": "#FECB52",
          "opacity": 0.6,
          "symbol": "circle"
         },
         "mode": "markers",
         "name": "Sweden",
         "orientation": "v",
         "showlegend": true,
         "type": "scatter",
         "x": [
          81.75
         ],
         "xaxis": "x",
         "y": [
          7.43
         ],
         "yaxis": "y"
        },
        {
         "hovertemplate": "Country=Switzerland<br>LifeExp_2015=%{x}<br>Unemployment_2015=%{y}<extra></extra>",
         "legendgroup": "Switzerland",
         "marker": {
          "color": "#636efa",
          "opacity": 0.6,
          "symbol": "circle"
         },
         "mode": "markers",
         "name": "Switzerland",
         "orientation": "v",
         "showlegend": true,
         "type": "scatter",
         "x": [
          82.61
         ],
         "xaxis": "x",
         "y": [
          4.8
         ],
         "yaxis": "y"
        },
        {
         "hovertemplate": "Country=Tajikistan<br>LifeExp_2015=%{x}<br>Unemployment_2015=%{y}<extra></extra>",
         "legendgroup": "Tajikistan",
         "marker": {
          "color": "#EF553B",
          "opacity": 0.6,
          "symbol": "circle"
         },
         "mode": "markers",
         "name": "Tajikistan",
         "orientation": "v",
         "showlegend": true,
         "type": "scatter",
         "x": [
          68.66
         ],
         "xaxis": "x",
         "y": [
          7.55
         ],
         "yaxis": "y"
        },
        {
         "hovertemplate": "Country=Turkmenistan<br>LifeExp_2015=%{x}<br>Unemployment_2015=%{y}<extra></extra>",
         "legendgroup": "Turkmenistan",
         "marker": {
          "color": "#00cc96",
          "opacity": 0.6,
          "symbol": "circle"
         },
         "mode": "markers",
         "name": "Turkmenistan",
         "orientation": "v",
         "showlegend": true,
         "type": "scatter",
         "x": [
          69.11
         ],
         "xaxis": "x",
         "y": [
          4.14
         ],
         "yaxis": "y"
        },
        {
         "hovertemplate": "Country=Ukraine<br>LifeExp_2015=%{x}<br>Unemployment_2015=%{y}<extra></extra>",
         "legendgroup": "Ukraine",
         "marker": {
          "color": "#ab63fa",
          "opacity": 0.6,
          "symbol": "circle"
         },
         "mode": "markers",
         "name": "Ukraine",
         "orientation": "v",
         "showlegend": true,
         "type": "scatter",
         "x": [
          72.2
         ],
         "xaxis": "x",
         "y": [
          9.14
         ],
         "yaxis": "y"
        },
        {
         "hovertemplate": "Country=Uzbekistan<br>LifeExp_2015=%{x}<br>Unemployment_2015=%{y}<extra></extra>",
         "legendgroup": "Uzbekistan",
         "marker": {
          "color": "#FFA15A",
          "opacity": 0.6,
          "symbol": "circle"
         },
         "mode": "markers",
         "name": "Uzbekistan",
         "orientation": "v",
         "showlegend": true,
         "type": "scatter",
         "x": [
          71.45
         ],
         "xaxis": "x",
         "y": [
          5.2
         ],
         "yaxis": "y"
        },
        {
         "hovertemplate": "Country=Bangladesh<br>LifeExp_2015=%{x}<br>Unemployment_2015=%{y}<extra></extra>",
         "legendgroup": "Bangladesh",
         "marker": {
          "color": "#19d3f3",
          "opacity": 0.6,
          "symbol": "circle"
         },
         "mode": "markers",
         "name": "Bangladesh",
         "orientation": "v",
         "showlegend": true,
         "type": "scatter",
         "x": [
          73.58
         ],
         "xaxis": "x",
         "y": [
          4.37
         ],
         "yaxis": "y"
        },
        {
         "hovertemplate": "Country=Bhutan<br>LifeExp_2015=%{x}<br>Unemployment_2015=%{y}<extra></extra>",
         "legendgroup": "Bhutan",
         "marker": {
          "color": "#FF6692",
          "opacity": 0.6,
          "symbol": "circle"
         },
         "mode": "markers",
         "name": "Bhutan",
         "orientation": "v",
         "showlegend": true,
         "type": "scatter",
         "x": [
          72.15
         ],
         "xaxis": "x",
         "y": [
          2.45
         ],
         "yaxis": "y"
        },
        {
         "hovertemplate": "Country=India<br>LifeExp_2015=%{x}<br>Unemployment_2015=%{y}<extra></extra>",
         "legendgroup": "India",
         "marker": {
          "color": "#B6E880",
          "opacity": 0.6,
          "symbol": "circle"
         },
         "mode": "markers",
         "name": "India",
         "orientation": "v",
         "showlegend": true,
         "type": "scatter",
         "x": [
          69.31
         ],
         "xaxis": "x",
         "y": [
          5.43
         ],
         "yaxis": "y"
        },
        {
         "hovertemplate": "Country=Indonesia<br>LifeExp_2015=%{x}<br>Unemployment_2015=%{y}<extra></extra>",
         "legendgroup": "Indonesia",
         "marker": {
          "color": "#FF97FF",
          "opacity": 0.6,
          "symbol": "circle"
         },
         "mode": "markers",
         "name": "Indonesia",
         "orientation": "v",
         "showlegend": true,
         "type": "scatter",
         "x": [
          70.61
         ],
         "xaxis": "x",
         "y": [
          4.51
         ],
         "yaxis": "y"
        },
        {
         "hovertemplate": "Country=Maldives<br>LifeExp_2015=%{x}<br>Unemployment_2015=%{y}<extra></extra>",
         "legendgroup": "Maldives",
         "marker": {
          "color": "#FECB52",
          "opacity": 0.6,
          "symbol": "circle"
         },
         "mode": "markers",
         "name": "Maldives",
         "orientation": "v",
         "showlegend": true,
         "type": "scatter",
         "x": [
          78.41
         ],
         "xaxis": "x",
         "y": [
          6.93
         ],
         "yaxis": "y"
        },
        {
         "hovertemplate": "Country=Myanmar<br>LifeExp_2015=%{x}<br>Unemployment_2015=%{y}<extra></extra>",
         "legendgroup": "Myanmar",
         "marker": {
          "color": "#636efa",
          "opacity": 0.6,
          "symbol": "circle"
         },
         "mode": "markers",
         "name": "Myanmar",
         "orientation": "v",
         "showlegend": true,
         "type": "scatter",
         "x": [
          67.58
         ],
         "xaxis": "x",
         "y": [
          0.77
         ],
         "yaxis": "y"
        },
        {
         "hovertemplate": "Country=Nepal<br>LifeExp_2015=%{x}<br>Unemployment_2015=%{y}<extra></extra>",
         "legendgroup": "Nepal",
         "marker": {
          "color": "#EF553B",
          "opacity": 0.6,
          "symbol": "circle"
         },
         "mode": "markers",
         "name": "Nepal",
         "orientation": "v",
         "showlegend": true,
         "type": "scatter",
         "x": [
          69.43
         ],
         "xaxis": "x",
         "y": [
          3.1
         ],
         "yaxis": "y"
        },
        {
         "hovertemplate": "Country=Sri Lanka<br>LifeExp_2015=%{x}<br>Unemployment_2015=%{y}<extra></extra>",
         "legendgroup": "Sri Lanka",
         "marker": {
          "color": "#00cc96",
          "opacity": 0.6,
          "symbol": "circle"
         },
         "mode": "markers",
         "name": "Sri Lanka",
         "orientation": "v",
         "showlegend": true,
         "type": "scatter",
         "x": [
          76.27
         ],
         "xaxis": "x",
         "y": [
          4.52
         ],
         "yaxis": "y"
        },
        {
         "hovertemplate": "Country=Thailand<br>LifeExp_2015=%{x}<br>Unemployment_2015=%{y}<extra></extra>",
         "legendgroup": "Thailand",
         "marker": {
          "color": "#ab63fa",
          "opacity": 0.6,
          "symbol": "circle"
         },
         "mode": "markers",
         "name": "Thailand",
         "orientation": "v",
         "showlegend": true,
         "type": "scatter",
         "x": [
          77.41
         ],
         "xaxis": "x",
         "y": [
          0.6
         ],
         "yaxis": "y"
        },
        {
         "hovertemplate": "Country=Timor-Leste<br>LifeExp_2015=%{x}<br>Unemployment_2015=%{y}<extra></extra>",
         "legendgroup": "Timor-Leste",
         "marker": {
          "color": "#FFA15A",
          "opacity": 0.6,
          "symbol": "circle"
         },
         "mode": "markers",
         "name": "Timor-Leste",
         "orientation": "v",
         "showlegend": true,
         "type": "scatter",
         "x": [
          68.87
         ],
         "xaxis": "x",
         "y": [
          4.45
         ],
         "yaxis": "y"
        },
        {
         "hovertemplate": "Country=Australia<br>LifeExp_2015=%{x}<br>Unemployment_2015=%{y}<extra></extra>",
         "legendgroup": "Australia",
         "marker": {
          "color": "#19d3f3",
          "opacity": 0.6,
          "symbol": "circle"
         },
         "mode": "markers",
         "name": "Australia",
         "orientation": "v",
         "showlegend": true,
         "type": "scatter",
         "x": [
          82.28
         ],
         "xaxis": "x",
         "y": [
          6.05
         ],
         "yaxis": "y"
        },
        {
         "hovertemplate": "Country=Brunei Darussalam<br>LifeExp_2015=%{x}<br>Unemployment_2015=%{y}<extra></extra>",
         "legendgroup": "Brunei Darussalam",
         "marker": {
          "color": "#FF6692",
          "opacity": 0.6,
          "symbol": "circle"
         },
         "mode": "markers",
         "name": "Brunei Darussalam",
         "orientation": "v",
         "showlegend": true,
         "type": "scatter",
         "x": [
          74.4
         ],
         "xaxis": "x",
         "y": [
          7.78
         ],
         "yaxis": "y"
        },
        {
         "hovertemplate": "Country=Cambodia<br>LifeExp_2015=%{x}<br>Unemployment_2015=%{y}<extra></extra>",
         "legendgroup": "Cambodia",
         "marker": {
          "color": "#B6E880",
          "opacity": 0.6,
          "symbol": "circle"
         },
         "mode": "markers",
         "name": "Cambodia",
         "orientation": "v",
         "showlegend": true,
         "type": "scatter",
         "x": [
          69.17
         ],
         "xaxis": "x",
         "y": [
          0.39
         ],
         "yaxis": "y"
        },
        {
         "hovertemplate": "Country=China<br>LifeExp_2015=%{x}<br>Unemployment_2015=%{y}<extra></extra>",
         "legendgroup": "China",
         "marker": {
          "color": "#FF97FF",
          "opacity": 0.6,
          "symbol": "circle"
         },
         "mode": "markers",
         "name": "China",
         "orientation": "v",
         "showlegend": true,
         "type": "scatter",
         "x": [
          76.64
         ],
         "xaxis": "x",
         "y": [
          4.63
         ],
         "yaxis": "y"
        },
        {
         "hovertemplate": "Country=Fiji<br>LifeExp_2015=%{x}<br>Unemployment_2015=%{y}<extra></extra>",
         "legendgroup": "Fiji",
         "marker": {
          "color": "#FECB52",
          "opacity": 0.6,
          "symbol": "circle"
         },
         "mode": "markers",
         "name": "Fiji",
         "orientation": "v",
         "showlegend": true,
         "type": "scatter",
         "x": [
          67.83
         ],
         "xaxis": "x",
         "y": [
          4.3
         ],
         "yaxis": "y"
        },
        {
         "hovertemplate": "Country=Japan<br>LifeExp_2015=%{x}<br>Unemployment_2015=%{y}<extra></extra>",
         "legendgroup": "Japan",
         "marker": {
          "color": "#636efa",
          "opacity": 0.6,
          "symbol": "circle"
         },
         "mode": "markers",
         "name": "Japan",
         "orientation": "v",
         "showlegend": true,
         "type": "scatter",
         "x": [
          83.62
         ],
         "xaxis": "x",
         "y": [
          3.4
         ],
         "yaxis": "y"
        },
        {
         "hovertemplate": "Country=Malaysia<br>LifeExp_2015=%{x}<br>Unemployment_2015=%{y}<extra></extra>",
         "legendgroup": "Malaysia",
         "marker": {
          "color": "#EF553B",
          "opacity": 0.6,
          "symbol": "circle"
         },
         "mode": "markers",
         "name": "Malaysia",
         "orientation": "v",
         "showlegend": true,
         "type": "scatter",
         "x": [
          74.95
         ],
         "xaxis": "x",
         "y": [
          3.1
         ],
         "yaxis": "y"
        },
        {
         "hovertemplate": "Country=Mongolia<br>LifeExp_2015=%{x}<br>Unemployment_2015=%{y}<extra></extra>",
         "legendgroup": "Mongolia",
         "marker": {
          "color": "#00cc96",
          "opacity": 0.6,
          "symbol": "circle"
         },
         "mode": "markers",
         "name": "Mongolia",
         "orientation": "v",
         "showlegend": true,
         "type": "scatter",
         "x": [
          67.61
         ],
         "xaxis": "x",
         "y": [
          4.86
         ],
         "yaxis": "y"
        },
        {
         "hovertemplate": "Country=New Zealand<br>LifeExp_2015=%{x}<br>Unemployment_2015=%{y}<extra></extra>",
         "legendgroup": "New Zealand",
         "marker": {
          "color": "#ab63fa",
          "opacity": 0.6,
          "symbol": "circle"
         },
         "mode": "markers",
         "name": "New Zealand",
         "orientation": "v",
         "showlegend": true,
         "type": "scatter",
         "x": [
          81.31
         ],
         "xaxis": "x",
         "y": [
          5.41
         ],
         "yaxis": "y"
        },
        {
         "hovertemplate": "Country=Papua New Guinea<br>LifeExp_2015=%{x}<br>Unemployment_2015=%{y}<extra></extra>",
         "legendgroup": "Papua New Guinea",
         "marker": {
          "color": "#FFA15A",
          "opacity": 0.6,
          "symbol": "circle"
         },
         "mode": "markers",
         "name": "Papua New Guinea",
         "orientation": "v",
         "showlegend": true,
         "type": "scatter",
         "x": [
          64.49
         ],
         "xaxis": "x",
         "y": [
          2.48
         ],
         "yaxis": "y"
        },
        {
         "hovertemplate": "Country=Philippines<br>LifeExp_2015=%{x}<br>Unemployment_2015=%{y}<extra></extra>",
         "legendgroup": "Philippines",
         "marker": {
          "color": "#19d3f3",
          "opacity": 0.6,
          "symbol": "circle"
         },
         "mode": "markers",
         "name": "Philippines",
         "orientation": "v",
         "showlegend": true,
         "type": "scatter",
         "x": [
          70.3
         ],
         "xaxis": "x",
         "y": [
          3.07
         ],
         "yaxis": "y"
        },
        {
         "hovertemplate": "Country=Samoa<br>LifeExp_2015=%{x}<br>Unemployment_2015=%{y}<extra></extra>",
         "legendgroup": "Samoa",
         "marker": {
          "color": "#FF6692",
          "opacity": 0.6,
          "symbol": "circle"
         },
         "mode": "markers",
         "name": "Samoa",
         "orientation": "v",
         "showlegend": true,
         "type": "scatter",
         "x": [
          70.04
         ],
         "xaxis": "x",
         "y": [
          8.5
         ],
         "yaxis": "y"
        },
        {
         "hovertemplate": "Country=Singapore<br>LifeExp_2015=%{x}<br>Unemployment_2015=%{y}<extra></extra>",
         "legendgroup": "Singapore",
         "marker": {
          "color": "#B6E880",
          "opacity": 0.6,
          "symbol": "circle"
         },
         "mode": "markers",
         "name": "Singapore",
         "orientation": "v",
         "showlegend": true,
         "type": "scatter",
         "x": [
          82.81
         ],
         "xaxis": "x",
         "y": [
          3.79
         ],
         "yaxis": "y"
        },
        {
         "hovertemplate": "Country=Solomon Islands<br>LifeExp_2015=%{x}<br>Unemployment_2015=%{y}<extra></extra>",
         "legendgroup": "Solomon Islands",
         "marker": {
          "color": "#FF97FF",
          "opacity": 0.6,
          "symbol": "circle"
         },
         "mode": "markers",
         "name": "Solomon Islands",
         "orientation": "v",
         "showlegend": true,
         "type": "scatter",
         "x": [
          64.74
         ],
         "xaxis": "x",
         "y": [
          0.73
         ],
         "yaxis": "y"
        },
        {
         "hovertemplate": "Country=Tonga<br>LifeExp_2015=%{x}<br>Unemployment_2015=%{y}<extra></extra>",
         "legendgroup": "Tonga",
         "marker": {
          "color": "#FECB52",
          "opacity": 0.6,
          "symbol": "circle"
         },
         "mode": "markers",
         "name": "Tonga",
         "orientation": "v",
         "showlegend": true,
         "type": "scatter",
         "x": [
          72.33
         ],
         "xaxis": "x",
         "y": [
          2.55
         ],
         "yaxis": "y"
        },
        {
         "hovertemplate": "Country=Vanuatu<br>LifeExp_2015=%{x}<br>Unemployment_2015=%{y}<extra></extra>",
         "legendgroup": "Vanuatu",
         "marker": {
          "color": "#636efa",
          "opacity": 0.6,
          "symbol": "circle"
         },
         "mode": "markers",
         "name": "Vanuatu",
         "orientation": "v",
         "showlegend": true,
         "type": "scatter",
         "x": [
          64.64
         ],
         "xaxis": "x",
         "y": [
          1.86
         ],
         "yaxis": "y"
        }
       ],
       "layout": {
        "legend": {
         "title": {
          "text": "Country"
         },
         "tracegroupgap": 0
        },
        "template": {
         "data": {
          "bar": [
           {
            "error_x": {
             "color": "#f2f5fa"
            },
            "error_y": {
             "color": "#f2f5fa"
            },
            "marker": {
             "line": {
              "color": "rgb(17,17,17)",
              "width": 0.5
             },
             "pattern": {
              "fillmode": "overlay",
              "size": 10,
              "solidity": 0.2
             }
            },
            "type": "bar"
           }
          ],
          "barpolar": [
           {
            "marker": {
             "line": {
              "color": "rgb(17,17,17)",
              "width": 0.5
             },
             "pattern": {
              "fillmode": "overlay",
              "size": 10,
              "solidity": 0.2
             }
            },
            "type": "barpolar"
           }
          ],
          "carpet": [
           {
            "aaxis": {
             "endlinecolor": "#A2B1C6",
             "gridcolor": "#506784",
             "linecolor": "#506784",
             "minorgridcolor": "#506784",
             "startlinecolor": "#A2B1C6"
            },
            "baxis": {
             "endlinecolor": "#A2B1C6",
             "gridcolor": "#506784",
             "linecolor": "#506784",
             "minorgridcolor": "#506784",
             "startlinecolor": "#A2B1C6"
            },
            "type": "carpet"
           }
          ],
          "choropleth": [
           {
            "colorbar": {
             "outlinewidth": 0,
             "ticks": ""
            },
            "type": "choropleth"
           }
          ],
          "contour": [
           {
            "colorbar": {
             "outlinewidth": 0,
             "ticks": ""
            },
            "colorscale": [
             [
              0,
              "#0d0887"
             ],
             [
              0.1111111111111111,
              "#46039f"
             ],
             [
              0.2222222222222222,
              "#7201a8"
             ],
             [
              0.3333333333333333,
              "#9c179e"
             ],
             [
              0.4444444444444444,
              "#bd3786"
             ],
             [
              0.5555555555555556,
              "#d8576b"
             ],
             [
              0.6666666666666666,
              "#ed7953"
             ],
             [
              0.7777777777777778,
              "#fb9f3a"
             ],
             [
              0.8888888888888888,
              "#fdca26"
             ],
             [
              1,
              "#f0f921"
             ]
            ],
            "type": "contour"
           }
          ],
          "contourcarpet": [
           {
            "colorbar": {
             "outlinewidth": 0,
             "ticks": ""
            },
            "type": "contourcarpet"
           }
          ],
          "heatmap": [
           {
            "colorbar": {
             "outlinewidth": 0,
             "ticks": ""
            },
            "colorscale": [
             [
              0,
              "#0d0887"
             ],
             [
              0.1111111111111111,
              "#46039f"
             ],
             [
              0.2222222222222222,
              "#7201a8"
             ],
             [
              0.3333333333333333,
              "#9c179e"
             ],
             [
              0.4444444444444444,
              "#bd3786"
             ],
             [
              0.5555555555555556,
              "#d8576b"
             ],
             [
              0.6666666666666666,
              "#ed7953"
             ],
             [
              0.7777777777777778,
              "#fb9f3a"
             ],
             [
              0.8888888888888888,
              "#fdca26"
             ],
             [
              1,
              "#f0f921"
             ]
            ],
            "type": "heatmap"
           }
          ],
          "heatmapgl": [
           {
            "colorbar": {
             "outlinewidth": 0,
             "ticks": ""
            },
            "colorscale": [
             [
              0,
              "#0d0887"
             ],
             [
              0.1111111111111111,
              "#46039f"
             ],
             [
              0.2222222222222222,
              "#7201a8"
             ],
             [
              0.3333333333333333,
              "#9c179e"
             ],
             [
              0.4444444444444444,
              "#bd3786"
             ],
             [
              0.5555555555555556,
              "#d8576b"
             ],
             [
              0.6666666666666666,
              "#ed7953"
             ],
             [
              0.7777777777777778,
              "#fb9f3a"
             ],
             [
              0.8888888888888888,
              "#fdca26"
             ],
             [
              1,
              "#f0f921"
             ]
            ],
            "type": "heatmapgl"
           }
          ],
          "histogram": [
           {
            "marker": {
             "pattern": {
              "fillmode": "overlay",
              "size": 10,
              "solidity": 0.2
             }
            },
            "type": "histogram"
           }
          ],
          "histogram2d": [
           {
            "colorbar": {
             "outlinewidth": 0,
             "ticks": ""
            },
            "colorscale": [
             [
              0,
              "#0d0887"
             ],
             [
              0.1111111111111111,
              "#46039f"
             ],
             [
              0.2222222222222222,
              "#7201a8"
             ],
             [
              0.3333333333333333,
              "#9c179e"
             ],
             [
              0.4444444444444444,
              "#bd3786"
             ],
             [
              0.5555555555555556,
              "#d8576b"
             ],
             [
              0.6666666666666666,
              "#ed7953"
             ],
             [
              0.7777777777777778,
              "#fb9f3a"
             ],
             [
              0.8888888888888888,
              "#fdca26"
             ],
             [
              1,
              "#f0f921"
             ]
            ],
            "type": "histogram2d"
           }
          ],
          "histogram2dcontour": [
           {
            "colorbar": {
             "outlinewidth": 0,
             "ticks": ""
            },
            "colorscale": [
             [
              0,
              "#0d0887"
             ],
             [
              0.1111111111111111,
              "#46039f"
             ],
             [
              0.2222222222222222,
              "#7201a8"
             ],
             [
              0.3333333333333333,
              "#9c179e"
             ],
             [
              0.4444444444444444,
              "#bd3786"
             ],
             [
              0.5555555555555556,
              "#d8576b"
             ],
             [
              0.6666666666666666,
              "#ed7953"
             ],
             [
              0.7777777777777778,
              "#fb9f3a"
             ],
             [
              0.8888888888888888,
              "#fdca26"
             ],
             [
              1,
              "#f0f921"
             ]
            ],
            "type": "histogram2dcontour"
           }
          ],
          "mesh3d": [
           {
            "colorbar": {
             "outlinewidth": 0,
             "ticks": ""
            },
            "type": "mesh3d"
           }
          ],
          "parcoords": [
           {
            "line": {
             "colorbar": {
              "outlinewidth": 0,
              "ticks": ""
             }
            },
            "type": "parcoords"
           }
          ],
          "pie": [
           {
            "automargin": true,
            "type": "pie"
           }
          ],
          "scatter": [
           {
            "marker": {
             "line": {
              "color": "#283442"
             }
            },
            "type": "scatter"
           }
          ],
          "scatter3d": [
           {
            "line": {
             "colorbar": {
              "outlinewidth": 0,
              "ticks": ""
             }
            },
            "marker": {
             "colorbar": {
              "outlinewidth": 0,
              "ticks": ""
             }
            },
            "type": "scatter3d"
           }
          ],
          "scattercarpet": [
           {
            "marker": {
             "colorbar": {
              "outlinewidth": 0,
              "ticks": ""
             }
            },
            "type": "scattercarpet"
           }
          ],
          "scattergeo": [
           {
            "marker": {
             "colorbar": {
              "outlinewidth": 0,
              "ticks": ""
             }
            },
            "type": "scattergeo"
           }
          ],
          "scattergl": [
           {
            "marker": {
             "line": {
              "color": "#283442"
             }
            },
            "type": "scattergl"
           }
          ],
          "scattermapbox": [
           {
            "marker": {
             "colorbar": {
              "outlinewidth": 0,
              "ticks": ""
             }
            },
            "type": "scattermapbox"
           }
          ],
          "scatterpolar": [
           {
            "marker": {
             "colorbar": {
              "outlinewidth": 0,
              "ticks": ""
             }
            },
            "type": "scatterpolar"
           }
          ],
          "scatterpolargl": [
           {
            "marker": {
             "colorbar": {
              "outlinewidth": 0,
              "ticks": ""
             }
            },
            "type": "scatterpolargl"
           }
          ],
          "scatterternary": [
           {
            "marker": {
             "colorbar": {
              "outlinewidth": 0,
              "ticks": ""
             }
            },
            "type": "scatterternary"
           }
          ],
          "surface": [
           {
            "colorbar": {
             "outlinewidth": 0,
             "ticks": ""
            },
            "colorscale": [
             [
              0,
              "#0d0887"
             ],
             [
              0.1111111111111111,
              "#46039f"
             ],
             [
              0.2222222222222222,
              "#7201a8"
             ],
             [
              0.3333333333333333,
              "#9c179e"
             ],
             [
              0.4444444444444444,
              "#bd3786"
             ],
             [
              0.5555555555555556,
              "#d8576b"
             ],
             [
              0.6666666666666666,
              "#ed7953"
             ],
             [
              0.7777777777777778,
              "#fb9f3a"
             ],
             [
              0.8888888888888888,
              "#fdca26"
             ],
             [
              1,
              "#f0f921"
             ]
            ],
            "type": "surface"
           }
          ],
          "table": [
           {
            "cells": {
             "fill": {
              "color": "#506784"
             },
             "line": {
              "color": "rgb(17,17,17)"
             }
            },
            "header": {
             "fill": {
              "color": "#2a3f5f"
             },
             "line": {
              "color": "rgb(17,17,17)"
             }
            },
            "type": "table"
           }
          ]
         },
         "layout": {
          "annotationdefaults": {
           "arrowcolor": "#f2f5fa",
           "arrowhead": 0,
           "arrowwidth": 1
          },
          "autotypenumbers": "strict",
          "coloraxis": {
           "colorbar": {
            "outlinewidth": 0,
            "ticks": ""
           }
          },
          "colorscale": {
           "diverging": [
            [
             0,
             "#8e0152"
            ],
            [
             0.1,
             "#c51b7d"
            ],
            [
             0.2,
             "#de77ae"
            ],
            [
             0.3,
             "#f1b6da"
            ],
            [
             0.4,
             "#fde0ef"
            ],
            [
             0.5,
             "#f7f7f7"
            ],
            [
             0.6,
             "#e6f5d0"
            ],
            [
             0.7,
             "#b8e186"
            ],
            [
             0.8,
             "#7fbc41"
            ],
            [
             0.9,
             "#4d9221"
            ],
            [
             1,
             "#276419"
            ]
           ],
           "sequential": [
            [
             0,
             "#0d0887"
            ],
            [
             0.1111111111111111,
             "#46039f"
            ],
            [
             0.2222222222222222,
             "#7201a8"
            ],
            [
             0.3333333333333333,
             "#9c179e"
            ],
            [
             0.4444444444444444,
             "#bd3786"
            ],
            [
             0.5555555555555556,
             "#d8576b"
            ],
            [
             0.6666666666666666,
             "#ed7953"
            ],
            [
             0.7777777777777778,
             "#fb9f3a"
            ],
            [
             0.8888888888888888,
             "#fdca26"
            ],
            [
             1,
             "#f0f921"
            ]
           ],
           "sequentialminus": [
            [
             0,
             "#0d0887"
            ],
            [
             0.1111111111111111,
             "#46039f"
            ],
            [
             0.2222222222222222,
             "#7201a8"
            ],
            [
             0.3333333333333333,
             "#9c179e"
            ],
            [
             0.4444444444444444,
             "#bd3786"
            ],
            [
             0.5555555555555556,
             "#d8576b"
            ],
            [
             0.6666666666666666,
             "#ed7953"
            ],
            [
             0.7777777777777778,
             "#fb9f3a"
            ],
            [
             0.8888888888888888,
             "#fdca26"
            ],
            [
             1,
             "#f0f921"
            ]
           ]
          },
          "colorway": [
           "#636efa",
           "#EF553B",
           "#00cc96",
           "#ab63fa",
           "#FFA15A",
           "#19d3f3",
           "#FF6692",
           "#B6E880",
           "#FF97FF",
           "#FECB52"
          ],
          "font": {
           "color": "#f2f5fa"
          },
          "geo": {
           "bgcolor": "rgb(17,17,17)",
           "lakecolor": "rgb(17,17,17)",
           "landcolor": "rgb(17,17,17)",
           "showlakes": true,
           "showland": true,
           "subunitcolor": "#506784"
          },
          "hoverlabel": {
           "align": "left"
          },
          "hovermode": "closest",
          "mapbox": {
           "style": "dark"
          },
          "paper_bgcolor": "rgb(17,17,17)",
          "plot_bgcolor": "rgb(17,17,17)",
          "polar": {
           "angularaxis": {
            "gridcolor": "#506784",
            "linecolor": "#506784",
            "ticks": ""
           },
           "bgcolor": "rgb(17,17,17)",
           "radialaxis": {
            "gridcolor": "#506784",
            "linecolor": "#506784",
            "ticks": ""
           }
          },
          "scene": {
           "xaxis": {
            "backgroundcolor": "rgb(17,17,17)",
            "gridcolor": "#506784",
            "gridwidth": 2,
            "linecolor": "#506784",
            "showbackground": true,
            "ticks": "",
            "zerolinecolor": "#C8D4E3"
           },
           "yaxis": {
            "backgroundcolor": "rgb(17,17,17)",
            "gridcolor": "#506784",
            "gridwidth": 2,
            "linecolor": "#506784",
            "showbackground": true,
            "ticks": "",
            "zerolinecolor": "#C8D4E3"
           },
           "zaxis": {
            "backgroundcolor": "rgb(17,17,17)",
            "gridcolor": "#506784",
            "gridwidth": 2,
            "linecolor": "#506784",
            "showbackground": true,
            "ticks": "",
            "zerolinecolor": "#C8D4E3"
           }
          },
          "shapedefaults": {
           "line": {
            "color": "#f2f5fa"
           }
          },
          "sliderdefaults": {
           "bgcolor": "#C8D4E3",
           "bordercolor": "rgb(17,17,17)",
           "borderwidth": 1,
           "tickwidth": 0
          },
          "ternary": {
           "aaxis": {
            "gridcolor": "#506784",
            "linecolor": "#506784",
            "ticks": ""
           },
           "baxis": {
            "gridcolor": "#506784",
            "linecolor": "#506784",
            "ticks": ""
           },
           "bgcolor": "rgb(17,17,17)",
           "caxis": {
            "gridcolor": "#506784",
            "linecolor": "#506784",
            "ticks": ""
           }
          },
          "title": {
           "x": 0.05
          },
          "updatemenudefaults": {
           "bgcolor": "#506784",
           "borderwidth": 0
          },
          "xaxis": {
           "automargin": true,
           "gridcolor": "#283442",
           "linecolor": "#506784",
           "ticks": "",
           "title": {
            "standoff": 15
           },
           "zerolinecolor": "#283442",
           "zerolinewidth": 2
          },
          "yaxis": {
           "automargin": true,
           "gridcolor": "#283442",
           "linecolor": "#506784",
           "ticks": "",
           "title": {
            "standoff": 15
           },
           "zerolinecolor": "#283442",
           "zerolinewidth": 2
          }
         }
        },
        "title": {
         "text": "<b> Life Expectancy Versus Unemployment in 2015 </b>"
        },
        "xaxis": {
         "anchor": "y",
         "domain": [
          0,
          1
         ],
         "title": {
          "text": "LifeExp_2015"
         }
        },
        "yaxis": {
         "anchor": "x",
         "domain": [
          0,
          1
         ],
         "title": {
          "text": "Unemployment_2015"
         }
        }
       }
      }
     },
     "metadata": {},
     "output_type": "display_data"
    }
   ],
   "source": [
    "px.scatter(df,y='Unemployment_2015',x='LifeExp_2015',color='Country',template='plotly_dark',opacity=0.6,title='<b> Life Expectancy Versus Unemployment in 2015 </b>')"
   ]
  },
  {
   "cell_type": "code",
   "execution_count": 19,
   "metadata": {},
   "outputs": [
    {
     "data": {
      "application/vnd.plotly.v1+json": {
       "config": {
        "plotlyServerURL": "https://plot.ly"
       },
       "data": [
        {
         "hovertemplate": "Country=Algeria<br>LifeExp_2019=%{x}<br>Unemployment_2019=%{y}<extra></extra>",
         "legendgroup": "Algeria",
         "marker": {
          "color": "#636efa",
          "opacity": 0.6,
          "symbol": "circle"
         },
         "mode": "markers",
         "name": "Algeria",
         "orientation": "v",
         "showlegend": true,
         "type": "scatter",
         "x": [
          77.13
         ],
         "xaxis": "x",
         "y": [
          10.51
         ],
         "yaxis": "y"
        },
        {
         "hovertemplate": "Country=Angola<br>LifeExp_2019=%{x}<br>Unemployment_2019=%{y}<extra></extra>",
         "legendgroup": "Angola",
         "marker": {
          "color": "#EF553B",
          "opacity": 0.6,
          "symbol": "circle"
         },
         "mode": "markers",
         "name": "Angola",
         "orientation": "v",
         "showlegend": true,
         "type": "scatter",
         "x": [
          63.06
         ],
         "xaxis": "x",
         "y": [
          7.42
         ],
         "yaxis": "y"
        },
        {
         "hovertemplate": "Country=Benin<br>LifeExp_2019=%{x}<br>Unemployment_2019=%{y}<extra></extra>",
         "legendgroup": "Benin",
         "marker": {
          "color": "#00cc96",
          "opacity": 0.6,
          "symbol": "circle"
         },
         "mode": "markers",
         "name": "Benin",
         "orientation": "v",
         "showlegend": true,
         "type": "scatter",
         "x": [
          63.43
         ],
         "xaxis": "x",
         "y": [
          1.47
         ],
         "yaxis": "y"
        },
        {
         "hovertemplate": "Country=Botswana<br>LifeExp_2019=%{x}<br>Unemployment_2019=%{y}<extra></extra>",
         "legendgroup": "Botswana",
         "marker": {
          "color": "#ab63fa",
          "opacity": 0.6,
          "symbol": "circle"
         },
         "mode": "markers",
         "name": "Botswana",
         "orientation": "v",
         "showlegend": true,
         "type": "scatter",
         "x": [
          62.25
         ],
         "xaxis": "x",
         "y": [
          22.61
         ],
         "yaxis": "y"
        },
        {
         "hovertemplate": "Country=Burkina Faso<br>LifeExp_2019=%{x}<br>Unemployment_2019=%{y}<extra></extra>",
         "legendgroup": "Burkina Faso",
         "marker": {
          "color": "#FFA15A",
          "opacity": 0.6,
          "symbol": "circle"
         },
         "mode": "markers",
         "name": "Burkina Faso",
         "orientation": "v",
         "showlegend": true,
         "type": "scatter",
         "x": [
          62.7
         ],
         "xaxis": "x",
         "y": [
          4.69
         ],
         "yaxis": "y"
        },
        {
         "hovertemplate": "Country=Burundi<br>LifeExp_2019=%{x}<br>Unemployment_2019=%{y}<extra></extra>",
         "legendgroup": "Burundi",
         "marker": {
          "color": "#19d3f3",
          "opacity": 0.6,
          "symbol": "circle"
         },
         "mode": "markers",
         "name": "Burundi",
         "orientation": "v",
         "showlegend": true,
         "type": "scatter",
         "x": [
          63.84
         ],
         "xaxis": "x",
         "y": [
          1.59
         ],
         "yaxis": "y"
        },
        {
         "hovertemplate": "Country=Cabo Verde<br>LifeExp_2019=%{x}<br>Unemployment_2019=%{y}<extra></extra>",
         "legendgroup": "Cabo Verde",
         "marker": {
          "color": "#FF6692",
          "opacity": 0.6,
          "symbol": "circle"
         },
         "mode": "markers",
         "name": "Cabo Verde",
         "orientation": "v",
         "showlegend": true,
         "type": "scatter",
         "x": [
          74.03
         ],
         "xaxis": "x",
         "y": [
          12.22
         ],
         "yaxis": "y"
        },
        {
         "hovertemplate": "Country=Cameroon<br>LifeExp_2019=%{x}<br>Unemployment_2019=%{y}<extra></extra>",
         "legendgroup": "Cameroon",
         "marker": {
          "color": "#B6E880",
          "opacity": 0.6,
          "symbol": "circle"
         },
         "mode": "markers",
         "name": "Cameroon",
         "orientation": "v",
         "showlegend": true,
         "type": "scatter",
         "x": [
          62.36
         ],
         "xaxis": "x",
         "y": [
          3.64
         ],
         "yaxis": "y"
        },
        {
         "hovertemplate": "Country=Central African Republic<br>LifeExp_2019=%{x}<br>Unemployment_2019=%{y}<extra></extra>",
         "legendgroup": "Central African Republic",
         "marker": {
          "color": "#FF97FF",
          "opacity": 0.6,
          "symbol": "circle"
         },
         "mode": "markers",
         "name": "Central African Republic",
         "orientation": "v",
         "showlegend": true,
         "type": "scatter",
         "x": [
          53.1
         ],
         "xaxis": "x",
         "y": [
          5.62
         ],
         "yaxis": "y"
        },
        {
         "hovertemplate": "Country=Chad<br>LifeExp_2019=%{x}<br>Unemployment_2019=%{y}<extra></extra>",
         "legendgroup": "Chad",
         "marker": {
          "color": "#FECB52",
          "opacity": 0.6,
          "symbol": "circle"
         },
         "mode": "markers",
         "name": "Chad",
         "orientation": "v",
         "showlegend": true,
         "type": "scatter",
         "x": [
          59.63
         ],
         "xaxis": "x",
         "y": [
          1.12
         ],
         "yaxis": "y"
        },
        {
         "hovertemplate": "Country=Comoros<br>LifeExp_2019=%{x}<br>Unemployment_2019=%{y}<extra></extra>",
         "legendgroup": "Comoros",
         "marker": {
          "color": "#636efa",
          "opacity": 0.6,
          "symbol": "circle"
         },
         "mode": "markers",
         "name": "Comoros",
         "orientation": "v",
         "showlegend": true,
         "type": "scatter",
         "x": [
          67.39
         ],
         "xaxis": "x",
         "y": [
          8.08
         ],
         "yaxis": "y"
        },
        {
         "hovertemplate": "Country=Equatorial Guinea<br>LifeExp_2019=%{x}<br>Unemployment_2019=%{y}<extra></extra>",
         "legendgroup": "Equatorial Guinea",
         "marker": {
          "color": "#EF553B",
          "opacity": 0.6,
          "symbol": "circle"
         },
         "mode": "markers",
         "name": "Equatorial Guinea",
         "orientation": "v",
         "showlegend": true,
         "type": "scatter",
         "x": [
          62.19
         ],
         "xaxis": "x",
         "y": [
          8.68
         ],
         "yaxis": "y"
        },
        {
         "hovertemplate": "Country=Eritrea<br>LifeExp_2019=%{x}<br>Unemployment_2019=%{y}<extra></extra>",
         "legendgroup": "Eritrea",
         "marker": {
          "color": "#00cc96",
          "opacity": 0.6,
          "symbol": "circle"
         },
         "mode": "markers",
         "name": "Eritrea",
         "orientation": "v",
         "showlegend": true,
         "type": "scatter",
         "x": [
          64.08
         ],
         "xaxis": "x",
         "y": [
          5.99
         ],
         "yaxis": "y"
        },
        {
         "hovertemplate": "Country=Ethiopia<br>LifeExp_2019=%{x}<br>Unemployment_2019=%{y}<extra></extra>",
         "legendgroup": "Ethiopia",
         "marker": {
          "color": "#ab63fa",
          "opacity": 0.6,
          "symbol": "circle"
         },
         "mode": "markers",
         "name": "Ethiopia",
         "orientation": "v",
         "showlegend": true,
         "type": "scatter",
         "x": [
          68.7
         ],
         "xaxis": "x",
         "y": [
          2.33
         ],
         "yaxis": "y"
        },
        {
         "hovertemplate": "Country=Gabon<br>LifeExp_2019=%{x}<br>Unemployment_2019=%{y}<extra></extra>",
         "legendgroup": "Gabon",
         "marker": {
          "color": "#FFA15A",
          "opacity": 0.6,
          "symbol": "circle"
         },
         "mode": "markers",
         "name": "Gabon",
         "orientation": "v",
         "showlegend": true,
         "type": "scatter",
         "x": [
          66.47
         ],
         "xaxis": "x",
         "y": [
          20.74
         ],
         "yaxis": "y"
        },
        {
         "hovertemplate": "Country=Ghana<br>LifeExp_2019=%{x}<br>Unemployment_2019=%{y}<extra></extra>",
         "legendgroup": "Ghana",
         "marker": {
          "color": "#19d3f3",
          "opacity": 0.6,
          "symbol": "circle"
         },
         "mode": "markers",
         "name": "Ghana",
         "orientation": "v",
         "showlegend": true,
         "type": "scatter",
         "x": [
          66.28
         ],
         "xaxis": "x",
         "y": [
          4.32
         ],
         "yaxis": "y"
        },
        {
         "hovertemplate": "Country=Guinea<br>LifeExp_2019=%{x}<br>Unemployment_2019=%{y}<extra></extra>",
         "legendgroup": "Guinea",
         "marker": {
          "color": "#FF6692",
          "opacity": 0.6,
          "symbol": "circle"
         },
         "mode": "markers",
         "name": "Guinea",
         "orientation": "v",
         "showlegend": true,
         "type": "scatter",
         "x": [
          61.01
         ],
         "xaxis": "x",
         "y": [
          5.02
         ],
         "yaxis": "y"
        },
        {
         "hovertemplate": "Country=Guinea-Bissau<br>LifeExp_2019=%{x}<br>Unemployment_2019=%{y}<extra></extra>",
         "legendgroup": "Guinea-Bissau",
         "marker": {
          "color": "#B6E880",
          "opacity": 0.6,
          "symbol": "circle"
         },
         "mode": "markers",
         "name": "Guinea-Bissau",
         "orientation": "v",
         "showlegend": true,
         "type": "scatter",
         "x": [
          60.22
         ],
         "xaxis": "x",
         "y": [
          6.04
         ],
         "yaxis": "y"
        },
        {
         "hovertemplate": "Country=Kenya<br>LifeExp_2019=%{x}<br>Unemployment_2019=%{y}<extra></extra>",
         "legendgroup": "Kenya",
         "marker": {
          "color": "#FF97FF",
          "opacity": 0.6,
          "symbol": "circle"
         },
         "mode": "markers",
         "name": "Kenya",
         "orientation": "v",
         "showlegend": true,
         "type": "scatter",
         "x": [
          66.09
         ],
         "xaxis": "x",
         "y": [
          5.01
         ],
         "yaxis": "y"
        },
        {
         "hovertemplate": "Country=Lesotho<br>LifeExp_2019=%{x}<br>Unemployment_2019=%{y}<extra></extra>",
         "legendgroup": "Lesotho",
         "marker": {
          "color": "#FECB52",
          "opacity": 0.6,
          "symbol": "circle"
         },
         "mode": "markers",
         "name": "Lesotho",
         "orientation": "v",
         "showlegend": true,
         "type": "scatter",
         "x": [
          50.75
         ],
         "xaxis": "x",
         "y": [
          22.44
         ],
         "yaxis": "y"
        },
        {
         "hovertemplate": "Country=Liberia<br>LifeExp_2019=%{x}<br>Unemployment_2019=%{y}<extra></extra>",
         "legendgroup": "Liberia",
         "marker": {
          "color": "#636efa",
          "opacity": 0.6,
          "symbol": "circle"
         },
         "mode": "markers",
         "name": "Liberia",
         "orientation": "v",
         "showlegend": true,
         "type": "scatter",
         "x": [
          64.08
         ],
         "xaxis": "x",
         "y": [
          3.02
         ],
         "yaxis": "y"
        },
        {
         "hovertemplate": "Country=Madagascar<br>LifeExp_2019=%{x}<br>Unemployment_2019=%{y}<extra></extra>",
         "legendgroup": "Madagascar",
         "marker": {
          "color": "#EF553B",
          "opacity": 0.6,
          "symbol": "circle"
         },
         "mode": "markers",
         "name": "Madagascar",
         "orientation": "v",
         "showlegend": true,
         "type": "scatter",
         "x": [
          65.35
         ],
         "xaxis": "x",
         "y": [
          1.86
         ],
         "yaxis": "y"
        },
        {
         "hovertemplate": "Country=Malawi<br>LifeExp_2019=%{x}<br>Unemployment_2019=%{y}<extra></extra>",
         "legendgroup": "Malawi",
         "marker": {
          "color": "#00cc96",
          "opacity": 0.6,
          "symbol": "circle"
         },
         "mode": "markers",
         "name": "Malawi",
         "orientation": "v",
         "showlegend": true,
         "type": "scatter",
         "x": [
          65.62
         ],
         "xaxis": "x",
         "y": [
          5.75
         ],
         "yaxis": "y"
        },
        {
         "hovertemplate": "Country=Mali<br>LifeExp_2019=%{x}<br>Unemployment_2019=%{y}<extra></extra>",
         "legendgroup": "Mali",
         "marker": {
          "color": "#ab63fa",
          "opacity": 0.6,
          "symbol": "circle"
         },
         "mode": "markers",
         "name": "Mali",
         "orientation": "v",
         "showlegend": true,
         "type": "scatter",
         "x": [
          62.8
         ],
         "xaxis": "x",
         "y": [
          7.44
         ],
         "yaxis": "y"
        },
        {
         "hovertemplate": "Country=Mauritania<br>LifeExp_2019=%{x}<br>Unemployment_2019=%{y}<extra></extra>",
         "legendgroup": "Mauritania",
         "marker": {
          "color": "#FFA15A",
          "opacity": 0.6,
          "symbol": "circle"
         },
         "mode": "markers",
         "name": "Mauritania",
         "orientation": "v",
         "showlegend": true,
         "type": "scatter",
         "x": [
          68.38
         ],
         "xaxis": "x",
         "y": [
          10.39
         ],
         "yaxis": "y"
        },
        {
         "hovertemplate": "Country=Mauritius<br>LifeExp_2019=%{x}<br>Unemployment_2019=%{y}<extra></extra>",
         "legendgroup": "Mauritius",
         "marker": {
          "color": "#19d3f3",
          "opacity": 0.6,
          "symbol": "circle"
         },
         "mode": "markers",
         "name": "Mauritius",
         "orientation": "v",
         "showlegend": true,
         "type": "scatter",
         "x": [
          74.07
         ],
         "xaxis": "x",
         "y": [
          6.33
         ],
         "yaxis": "y"
        },
        {
         "hovertemplate": "Country=Mozambique<br>LifeExp_2019=%{x}<br>Unemployment_2019=%{y}<extra></extra>",
         "legendgroup": "Mozambique",
         "marker": {
          "color": "#FF6692",
          "opacity": 0.6,
          "symbol": "circle"
         },
         "mode": "markers",
         "name": "Mozambique",
         "orientation": "v",
         "showlegend": true,
         "type": "scatter",
         "x": [
          58.14
         ],
         "xaxis": "x",
         "y": [
          3.47
         ],
         "yaxis": "y"
        },
        {
         "hovertemplate": "Country=Namibia<br>LifeExp_2019=%{x}<br>Unemployment_2019=%{y}<extra></extra>",
         "legendgroup": "Namibia",
         "marker": {
          "color": "#B6E880",
          "opacity": 0.6,
          "symbol": "circle"
         },
         "mode": "markers",
         "name": "Namibia",
         "orientation": "v",
         "showlegend": true,
         "type": "scatter",
         "x": [
          64.58
         ],
         "xaxis": "x",
         "y": [
          19.99
         ],
         "yaxis": "y"
        },
        {
         "hovertemplate": "Country=Niger<br>LifeExp_2019=%{x}<br>Unemployment_2019=%{y}<extra></extra>",
         "legendgroup": "Niger",
         "marker": {
          "color": "#FF97FF",
          "opacity": 0.6,
          "symbol": "circle"
         },
         "mode": "markers",
         "name": "Niger",
         "orientation": "v",
         "showlegend": true,
         "type": "scatter",
         "x": [
          63.29
         ],
         "xaxis": "x",
         "y": [
          0.55
         ],
         "yaxis": "y"
        },
        {
         "hovertemplate": "Country=Nigeria<br>LifeExp_2019=%{x}<br>Unemployment_2019=%{y}<extra></extra>",
         "legendgroup": "Nigeria",
         "marker": {
          "color": "#FECB52",
          "opacity": 0.6,
          "symbol": "circle"
         },
         "mode": "markers",
         "name": "Nigeria",
         "orientation": "v",
         "showlegend": true,
         "type": "scatter",
         "x": [
          62.62
         ],
         "xaxis": "x",
         "y": [
          8.53
         ],
         "yaxis": "y"
        },
        {
         "hovertemplate": "Country=Rwanda<br>LifeExp_2019=%{x}<br>Unemployment_2019=%{y}<extra></extra>",
         "legendgroup": "Rwanda",
         "marker": {
          "color": "#636efa",
          "opacity": 0.6,
          "symbol": "circle"
         },
         "mode": "markers",
         "name": "Rwanda",
         "orientation": "v",
         "showlegend": true,
         "type": "scatter",
         "x": [
          69.1
         ],
         "xaxis": "x",
         "y": [
          1.1
         ],
         "yaxis": "y"
        },
        {
         "hovertemplate": "Country=Sao Tome and Principe<br>LifeExp_2019=%{x}<br>Unemployment_2019=%{y}<extra></extra>",
         "legendgroup": "Sao Tome and Principe",
         "marker": {
          "color": "#EF553B",
          "opacity": 0.6,
          "symbol": "circle"
         },
         "mode": "markers",
         "name": "Sao Tome and Principe",
         "orientation": "v",
         "showlegend": true,
         "type": "scatter",
         "x": [
          70.42
         ],
         "xaxis": "x",
         "y": [
          14.14
         ],
         "yaxis": "y"
        },
        {
         "hovertemplate": "Country=Senegal<br>LifeExp_2019=%{x}<br>Unemployment_2019=%{y}<extra></extra>",
         "legendgroup": "Senegal",
         "marker": {
          "color": "#00cc96",
          "opacity": 0.6,
          "symbol": "circle"
         },
         "mode": "markers",
         "name": "Senegal",
         "orientation": "v",
         "showlegend": true,
         "type": "scatter",
         "x": [
          68.58
         ],
         "xaxis": "x",
         "y": [
          2.86
         ],
         "yaxis": "y"
        },
        {
         "hovertemplate": "Country=Sierra Leone<br>LifeExp_2019=%{x}<br>Unemployment_2019=%{y}<extra></extra>",
         "legendgroup": "Sierra Leone",
         "marker": {
          "color": "#ab63fa",
          "opacity": 0.6,
          "symbol": "circle"
         },
         "mode": "markers",
         "name": "Sierra Leone",
         "orientation": "v",
         "showlegend": true,
         "type": "scatter",
         "x": [
          60.77
         ],
         "xaxis": "x",
         "y": [
          4.65
         ],
         "yaxis": "y"
        },
        {
         "hovertemplate": "Country=South Africa<br>LifeExp_2019=%{x}<br>Unemployment_2019=%{y}<extra></extra>",
         "legendgroup": "South Africa",
         "marker": {
          "color": "#FFA15A",
          "opacity": 0.6,
          "symbol": "circle"
         },
         "mode": "markers",
         "name": "South Africa",
         "orientation": "v",
         "showlegend": true,
         "type": "scatter",
         "x": [
          65.25
         ],
         "xaxis": "x",
         "y": [
          28.47
         ],
         "yaxis": "y"
        },
        {
         "hovertemplate": "Country=South Sudan<br>LifeExp_2019=%{x}<br>Unemployment_2019=%{y}<extra></extra>",
         "legendgroup": "South Sudan",
         "marker": {
          "color": "#19d3f3",
          "opacity": 0.6,
          "symbol": "circle"
         },
         "mode": "markers",
         "name": "South Sudan",
         "orientation": "v",
         "showlegend": true,
         "type": "scatter",
         "x": [
          62.79
         ],
         "xaxis": "x",
         "y": [
          12.23
         ],
         "yaxis": "y"
        },
        {
         "hovertemplate": "Country=Togo<br>LifeExp_2019=%{x}<br>Unemployment_2019=%{y}<extra></extra>",
         "legendgroup": "Togo",
         "marker": {
          "color": "#FF6692",
          "opacity": 0.6,
          "symbol": "circle"
         },
         "mode": "markers",
         "name": "Togo",
         "orientation": "v",
         "showlegend": true,
         "type": "scatter",
         "x": [
          64.27
         ],
         "xaxis": "x",
         "y": [
          3.72
         ],
         "yaxis": "y"
        },
        {
         "hovertemplate": "Country=Uganda<br>LifeExp_2019=%{x}<br>Unemployment_2019=%{y}<extra></extra>",
         "legendgroup": "Uganda",
         "marker": {
          "color": "#B6E880",
          "opacity": 0.6,
          "symbol": "circle"
         },
         "mode": "markers",
         "name": "Uganda",
         "orientation": "v",
         "showlegend": true,
         "type": "scatter",
         "x": [
          66.69
         ],
         "xaxis": "x",
         "y": [
          1.92
         ],
         "yaxis": "y"
        },
        {
         "hovertemplate": "Country=Zambia<br>LifeExp_2019=%{x}<br>Unemployment_2019=%{y}<extra></extra>",
         "legendgroup": "Zambia",
         "marker": {
          "color": "#FF97FF",
          "opacity": 0.6,
          "symbol": "circle"
         },
         "mode": "markers",
         "name": "Zambia",
         "orientation": "v",
         "showlegend": true,
         "type": "scatter",
         "x": [
          62.45
         ],
         "xaxis": "x",
         "y": [
          12.52
         ],
         "yaxis": "y"
        },
        {
         "hovertemplate": "Country=Zimbabwe<br>LifeExp_2019=%{x}<br>Unemployment_2019=%{y}<extra></extra>",
         "legendgroup": "Zimbabwe",
         "marker": {
          "color": "#FECB52",
          "opacity": 0.6,
          "symbol": "circle"
         },
         "mode": "markers",
         "name": "Zimbabwe",
         "orientation": "v",
         "showlegend": true,
         "type": "scatter",
         "x": [
          60.68
         ],
         "xaxis": "x",
         "y": [
          4.83
         ],
         "yaxis": "y"
        },
        {
         "hovertemplate": "Country=Argentina<br>LifeExp_2019=%{x}<br>Unemployment_2019=%{y}<extra></extra>",
         "legendgroup": "Argentina",
         "marker": {
          "color": "#636efa",
          "opacity": 0.6,
          "symbol": "circle"
         },
         "mode": "markers",
         "name": "Argentina",
         "orientation": "v",
         "showlegend": true,
         "type": "scatter",
         "x": [
          76.58
         ],
         "xaxis": "x",
         "y": [
          9.84
         ],
         "yaxis": "y"
        },
        {
         "hovertemplate": "Country=Barbados<br>LifeExp_2019=%{x}<br>Unemployment_2019=%{y}<extra></extra>",
         "legendgroup": "Barbados",
         "marker": {
          "color": "#EF553B",
          "opacity": 0.6,
          "symbol": "circle"
         },
         "mode": "markers",
         "name": "Barbados",
         "orientation": "v",
         "showlegend": true,
         "type": "scatter",
         "x": [
          76.03
         ],
         "xaxis": "x",
         "y": [
          8.41
         ],
         "yaxis": "y"
        },
        {
         "hovertemplate": "Country=Belize<br>LifeExp_2019=%{x}<br>Unemployment_2019=%{y}<extra></extra>",
         "legendgroup": "Belize",
         "marker": {
          "color": "#00cc96",
          "opacity": 0.6,
          "symbol": "circle"
         },
         "mode": "markers",
         "name": "Belize",
         "orientation": "v",
         "showlegend": true,
         "type": "scatter",
         "x": [
          74.41
         ],
         "xaxis": "x",
         "y": [
          6.71
         ],
         "yaxis": "y"
        },
        {
         "hovertemplate": "Country=Brazil<br>LifeExp_2019=%{x}<br>Unemployment_2019=%{y}<extra></extra>",
         "legendgroup": "Brazil",
         "marker": {
          "color": "#ab63fa",
          "opacity": 0.6,
          "symbol": "circle"
         },
         "mode": "markers",
         "name": "Brazil",
         "orientation": "v",
         "showlegend": true,
         "type": "scatter",
         "x": [
          75.9
         ],
         "xaxis": "x",
         "y": [
          11.93
         ],
         "yaxis": "y"
        },
        {
         "hovertemplate": "Country=Canada<br>LifeExp_2019=%{x}<br>Unemployment_2019=%{y}<extra></extra>",
         "legendgroup": "Canada",
         "marker": {
          "color": "#FFA15A",
          "opacity": 0.6,
          "symbol": "circle"
         },
         "mode": "markers",
         "name": "Canada",
         "orientation": "v",
         "showlegend": true,
         "type": "scatter",
         "x": [
          82.24
         ],
         "xaxis": "x",
         "y": [
          5.66
         ],
         "yaxis": "y"
        },
        {
         "hovertemplate": "Country=Chile<br>LifeExp_2019=%{x}<br>Unemployment_2019=%{y}<extra></extra>",
         "legendgroup": "Chile",
         "marker": {
          "color": "#19d3f3",
          "opacity": 0.6,
          "symbol": "circle"
         },
         "mode": "markers",
         "name": "Chile",
         "orientation": "v",
         "showlegend": true,
         "type": "scatter",
         "x": [
          80.74
         ],
         "xaxis": "x",
         "y": [
          7.29
         ],
         "yaxis": "y"
        },
        {
         "hovertemplate": "Country=Colombia<br>LifeExp_2019=%{x}<br>Unemployment_2019=%{y}<extra></extra>",
         "legendgroup": "Colombia",
         "marker": {
          "color": "#FF6692",
          "opacity": 0.6,
          "symbol": "circle"
         },
         "mode": "markers",
         "name": "Colombia",
         "orientation": "v",
         "showlegend": true,
         "type": "scatter",
         "x": [
          79.31
         ],
         "xaxis": "x",
         "y": [
          9.96
         ],
         "yaxis": "y"
        },
        {
         "hovertemplate": "Country=Costa Rica<br>LifeExp_2019=%{x}<br>Unemployment_2019=%{y}<extra></extra>",
         "legendgroup": "Costa Rica",
         "marker": {
          "color": "#B6E880",
          "opacity": 0.6,
          "symbol": "circle"
         },
         "mode": "markers",
         "name": "Costa Rica",
         "orientation": "v",
         "showlegend": true,
         "type": "scatter",
         "x": [
          80.85
         ],
         "xaxis": "x",
         "y": [
          11.49
         ],
         "yaxis": "y"
        },
        {
         "hovertemplate": "Country=Cuba<br>LifeExp_2019=%{x}<br>Unemployment_2019=%{y}<extra></extra>",
         "legendgroup": "Cuba",
         "marker": {
          "color": "#FF97FF",
          "opacity": 0.6,
          "symbol": "circle"
         },
         "mode": "markers",
         "name": "Cuba",
         "orientation": "v",
         "showlegend": true,
         "type": "scatter",
         "x": [
          77.76
         ],
         "xaxis": "x",
         "y": [
          1.74
         ],
         "yaxis": "y"
        },
        {
         "hovertemplate": "Country=Dominican Republic<br>LifeExp_2019=%{x}<br>Unemployment_2019=%{y}<extra></extra>",
         "legendgroup": "Dominican Republic",
         "marker": {
          "color": "#FECB52",
          "opacity": 0.6,
          "symbol": "circle"
         },
         "mode": "markers",
         "name": "Dominican Republic",
         "orientation": "v",
         "showlegend": true,
         "type": "scatter",
         "x": [
          72.84
         ],
         "xaxis": "x",
         "y": [
          6.36
         ],
         "yaxis": "y"
        },
        {
         "hovertemplate": "Country=Ecuador<br>LifeExp_2019=%{x}<br>Unemployment_2019=%{y}<extra></extra>",
         "legendgroup": "Ecuador",
         "marker": {
          "color": "#636efa",
          "opacity": 0.6,
          "symbol": "circle"
         },
         "mode": "markers",
         "name": "Ecuador",
         "orientation": "v",
         "showlegend": true,
         "type": "scatter",
         "x": [
          78.45
         ],
         "xaxis": "x",
         "y": [
          3.81
         ],
         "yaxis": "y"
        },
        {
         "hovertemplate": "Country=El Salvador<br>LifeExp_2019=%{x}<br>Unemployment_2019=%{y}<extra></extra>",
         "legendgroup": "El Salvador",
         "marker": {
          "color": "#EF553B",
          "opacity": 0.6,
          "symbol": "circle"
         },
         "mode": "markers",
         "name": "El Salvador",
         "orientation": "v",
         "showlegend": true,
         "type": "scatter",
         "x": [
          75.03
         ],
         "xaxis": "x",
         "y": [
          4.17
         ],
         "yaxis": "y"
        },
        {
         "hovertemplate": "Country=Guatemala<br>LifeExp_2019=%{x}<br>Unemployment_2019=%{y}<extra></extra>",
         "legendgroup": "Guatemala",
         "marker": {
          "color": "#00cc96",
          "opacity": 0.6,
          "symbol": "circle"
         },
         "mode": "markers",
         "name": "Guatemala",
         "orientation": "v",
         "showlegend": true,
         "type": "scatter",
         "x": [
          72.02
         ],
         "xaxis": "x",
         "y": [
          2.19
         ],
         "yaxis": "y"
        },
        {
         "hovertemplate": "Country=Guyana<br>LifeExp_2019=%{x}<br>Unemployment_2019=%{y}<extra></extra>",
         "legendgroup": "Guyana",
         "marker": {
          "color": "#ab63fa",
          "opacity": 0.6,
          "symbol": "circle"
         },
         "mode": "markers",
         "name": "Guyana",
         "orientation": "v",
         "showlegend": true,
         "type": "scatter",
         "x": [
          65.69
         ],
         "xaxis": "x",
         "y": [
          13.99
         ],
         "yaxis": "y"
        },
        {
         "hovertemplate": "Country=Haiti<br>LifeExp_2019=%{x}<br>Unemployment_2019=%{y}<extra></extra>",
         "legendgroup": "Haiti",
         "marker": {
          "color": "#FFA15A",
          "opacity": 0.6,
          "symbol": "circle"
         },
         "mode": "markers",
         "name": "Haiti",
         "orientation": "v",
         "showlegend": true,
         "type": "scatter",
         "x": [
          64.05
         ],
         "xaxis": "x",
         "y": [
          13.91
         ],
         "yaxis": "y"
        },
        {
         "hovertemplate": "Country=Honduras<br>LifeExp_2019=%{x}<br>Unemployment_2019=%{y}<extra></extra>",
         "legendgroup": "Honduras",
         "marker": {
          "color": "#19d3f3",
          "opacity": 0.6,
          "symbol": "circle"
         },
         "mode": "markers",
         "name": "Honduras",
         "orientation": "v",
         "showlegend": true,
         "type": "scatter",
         "x": [
          71.94
         ],
         "xaxis": "x",
         "y": [
          5.7
         ],
         "yaxis": "y"
        },
        {
         "hovertemplate": "Country=Jamaica<br>LifeExp_2019=%{x}<br>Unemployment_2019=%{y}<extra></extra>",
         "legendgroup": "Jamaica",
         "marker": {
          "color": "#FF6692",
          "opacity": 0.6,
          "symbol": "circle"
         },
         "mode": "markers",
         "name": "Jamaica",
         "orientation": "v",
         "showlegend": true,
         "type": "scatter",
         "x": [
          75.98
         ],
         "xaxis": "x",
         "y": [
          7.69
         ],
         "yaxis": "y"
        },
        {
         "hovertemplate": "Country=Mexico<br>LifeExp_2019=%{x}<br>Unemployment_2019=%{y}<extra></extra>",
         "legendgroup": "Mexico",
         "marker": {
          "color": "#B6E880",
          "opacity": 0.6,
          "symbol": "circle"
         },
         "mode": "markers",
         "name": "Mexico",
         "orientation": "v",
         "showlegend": true,
         "type": "scatter",
         "x": [
          76.01
         ],
         "xaxis": "x",
         "y": [
          3.48
         ],
         "yaxis": "y"
        },
        {
         "hovertemplate": "Country=Nicaragua<br>LifeExp_2019=%{x}<br>Unemployment_2019=%{y}<extra></extra>",
         "legendgroup": "Nicaragua",
         "marker": {
          "color": "#FF97FF",
          "opacity": 0.6,
          "symbol": "circle"
         },
         "mode": "markers",
         "name": "Nicaragua",
         "orientation": "v",
         "showlegend": true,
         "type": "scatter",
         "x": [
          75.04
         ],
         "xaxis": "x",
         "y": [
          5.21
         ],
         "yaxis": "y"
        },
        {
         "hovertemplate": "Country=Panama<br>LifeExp_2019=%{x}<br>Unemployment_2019=%{y}<extra></extra>",
         "legendgroup": "Panama",
         "marker": {
          "color": "#FECB52",
          "opacity": 0.6,
          "symbol": "circle"
         },
         "mode": "markers",
         "name": "Panama",
         "orientation": "v",
         "showlegend": true,
         "type": "scatter",
         "x": [
          79.29
         ],
         "xaxis": "x",
         "y": [
          4.73
         ],
         "yaxis": "y"
        },
        {
         "hovertemplate": "Country=Paraguay<br>LifeExp_2019=%{x}<br>Unemployment_2019=%{y}<extra></extra>",
         "legendgroup": "Paraguay",
         "marker": {
          "color": "#636efa",
          "opacity": 0.6,
          "symbol": "circle"
         },
         "mode": "markers",
         "name": "Paraguay",
         "orientation": "v",
         "showlegend": true,
         "type": "scatter",
         "x": [
          75.81
         ],
         "xaxis": "x",
         "y": [
          6.59
         ],
         "yaxis": "y"
        },
        {
         "hovertemplate": "Country=Peru<br>LifeExp_2019=%{x}<br>Unemployment_2019=%{y}<extra></extra>",
         "legendgroup": "Peru",
         "marker": {
          "color": "#EF553B",
          "opacity": 0.6,
          "symbol": "circle"
         },
         "mode": "markers",
         "name": "Peru",
         "orientation": "v",
         "showlegend": true,
         "type": "scatter",
         "x": [
          79.9
         ],
         "xaxis": "x",
         "y": [
          3.38
         ],
         "yaxis": "y"
        },
        {
         "hovertemplate": "Country=Suriname<br>LifeExp_2019=%{x}<br>Unemployment_2019=%{y}<extra></extra>",
         "legendgroup": "Suriname",
         "marker": {
          "color": "#00cc96",
          "opacity": 0.6,
          "symbol": "circle"
         },
         "mode": "markers",
         "name": "Suriname",
         "orientation": "v",
         "showlegend": true,
         "type": "scatter",
         "x": [
          71.48
         ],
         "xaxis": "x",
         "y": [
          8.04
         ],
         "yaxis": "y"
        },
        {
         "hovertemplate": "Country=Trinidad and Tobago<br>LifeExp_2019=%{x}<br>Unemployment_2019=%{y}<extra></extra>",
         "legendgroup": "Trinidad and Tobago",
         "marker": {
          "color": "#ab63fa",
          "opacity": 0.6,
          "symbol": "circle"
         },
         "mode": "markers",
         "name": "Trinidad and Tobago",
         "orientation": "v",
         "showlegend": true,
         "type": "scatter",
         "x": [
          76.13
         ],
         "xaxis": "x",
         "y": [
          3.42
         ],
         "yaxis": "y"
        },
        {
         "hovertemplate": "Country=Uruguay<br>LifeExp_2019=%{x}<br>Unemployment_2019=%{y}<extra></extra>",
         "legendgroup": "Uruguay",
         "marker": {
          "color": "#FFA15A",
          "opacity": 0.6,
          "symbol": "circle"
         },
         "mode": "markers",
         "name": "Uruguay",
         "orientation": "v",
         "showlegend": true,
         "type": "scatter",
         "x": [
          77.1
         ],
         "xaxis": "x",
         "y": [
          8.88
         ],
         "yaxis": "y"
        },
        {
         "hovertemplate": "Country=Afghanistan<br>LifeExp_2019=%{x}<br>Unemployment_2019=%{y}<extra></extra>",
         "legendgroup": "Afghanistan",
         "marker": {
          "color": "#19d3f3",
          "opacity": 0.6,
          "symbol": "circle"
         },
         "mode": "markers",
         "name": "Afghanistan",
         "orientation": "v",
         "showlegend": true,
         "type": "scatter",
         "x": [
          63.21
         ],
         "xaxis": "x",
         "y": [
          11.22
         ],
         "yaxis": "y"
        },
        {
         "hovertemplate": "Country=Bahrain<br>LifeExp_2019=%{x}<br>Unemployment_2019=%{y}<extra></extra>",
         "legendgroup": "Bahrain",
         "marker": {
          "color": "#FF6692",
          "opacity": 0.6,
          "symbol": "circle"
         },
         "mode": "markers",
         "name": "Bahrain",
         "orientation": "v",
         "showlegend": true,
         "type": "scatter",
         "x": [
          75.81
         ],
         "xaxis": "x",
         "y": [
          1.2
         ],
         "yaxis": "y"
        },
        {
         "hovertemplate": "Country=Djibouti<br>LifeExp_2019=%{x}<br>Unemployment_2019=%{y}<extra></extra>",
         "legendgroup": "Djibouti",
         "marker": {
          "color": "#B6E880",
          "opacity": 0.6,
          "symbol": "circle"
         },
         "mode": "markers",
         "name": "Djibouti",
         "orientation": "v",
         "showlegend": true,
         "type": "scatter",
         "x": [
          65.81
         ],
         "xaxis": "x",
         "y": [
          26.36
         ],
         "yaxis": "y"
        },
        {
         "hovertemplate": "Country=Iraq<br>LifeExp_2019=%{x}<br>Unemployment_2019=%{y}<extra></extra>",
         "legendgroup": "Iraq",
         "marker": {
          "color": "#FF97FF",
          "opacity": 0.6,
          "symbol": "circle"
         },
         "mode": "markers",
         "name": "Iraq",
         "orientation": "v",
         "showlegend": true,
         "type": "scatter",
         "x": [
          72.42
         ],
         "xaxis": "x",
         "y": [
          12.86
         ],
         "yaxis": "y"
        },
        {
         "hovertemplate": "Country=Jordan<br>LifeExp_2019=%{x}<br>Unemployment_2019=%{y}<extra></extra>",
         "legendgroup": "Jordan",
         "marker": {
          "color": "#FECB52",
          "opacity": 0.6,
          "symbol": "circle"
         },
         "mode": "markers",
         "name": "Jordan",
         "orientation": "v",
         "showlegend": true,
         "type": "scatter",
         "x": [
          77.87
         ],
         "xaxis": "x",
         "y": [
          16.81
         ],
         "yaxis": "y"
        },
        {
         "hovertemplate": "Country=Kuwait<br>LifeExp_2019=%{x}<br>Unemployment_2019=%{y}<extra></extra>",
         "legendgroup": "Kuwait",
         "marker": {
          "color": "#636efa",
          "opacity": 0.6,
          "symbol": "circle"
         },
         "mode": "markers",
         "name": "Kuwait",
         "orientation": "v",
         "showlegend": true,
         "type": "scatter",
         "x": [
          80.97
         ],
         "xaxis": "x",
         "y": [
          2.17
         ],
         "yaxis": "y"
        },
        {
         "hovertemplate": "Country=Lebanon<br>LifeExp_2019=%{x}<br>Unemployment_2019=%{y}<extra></extra>",
         "legendgroup": "Lebanon",
         "marker": {
          "color": "#EF553B",
          "opacity": 0.6,
          "symbol": "circle"
         },
         "mode": "markers",
         "name": "Lebanon",
         "orientation": "v",
         "showlegend": true,
         "type": "scatter",
         "x": [
          76.44
         ],
         "xaxis": "x",
         "y": [
          11.35
         ],
         "yaxis": "y"
        },
        {
         "hovertemplate": "Country=Libya<br>LifeExp_2019=%{x}<br>Unemployment_2019=%{y}<extra></extra>",
         "legendgroup": "Libya",
         "marker": {
          "color": "#00cc96",
          "opacity": 0.6,
          "symbol": "circle"
         },
         "mode": "markers",
         "name": "Libya",
         "orientation": "v",
         "showlegend": true,
         "type": "scatter",
         "x": [
          75.78
         ],
         "xaxis": "x",
         "y": [
          19.66
         ],
         "yaxis": "y"
        },
        {
         "hovertemplate": "Country=Morocco<br>LifeExp_2019=%{x}<br>Unemployment_2019=%{y}<extra></extra>",
         "legendgroup": "Morocco",
         "marker": {
          "color": "#ab63fa",
          "opacity": 0.6,
          "symbol": "circle"
         },
         "mode": "markers",
         "name": "Morocco",
         "orientation": "v",
         "showlegend": true,
         "type": "scatter",
         "x": [
          72.99
         ],
         "xaxis": "x",
         "y": [
          9.28
         ],
         "yaxis": "y"
        },
        {
         "hovertemplate": "Country=Oman<br>LifeExp_2019=%{x}<br>Unemployment_2019=%{y}<extra></extra>",
         "legendgroup": "Oman",
         "marker": {
          "color": "#FFA15A",
          "opacity": 0.6,
          "symbol": "circle"
         },
         "mode": "markers",
         "name": "Oman",
         "orientation": "v",
         "showlegend": true,
         "type": "scatter",
         "x": [
          73.9
         ],
         "xaxis": "x",
         "y": [
          1.85
         ],
         "yaxis": "y"
        },
        {
         "hovertemplate": "Country=Pakistan<br>LifeExp_2019=%{x}<br>Unemployment_2019=%{y}<extra></extra>",
         "legendgroup": "Pakistan",
         "marker": {
          "color": "#19d3f3",
          "opacity": 0.6,
          "symbol": "circle"
         },
         "mode": "markers",
         "name": "Pakistan",
         "orientation": "v",
         "showlegend": true,
         "type": "scatter",
         "x": [
          65.61
         ],
         "xaxis": "x",
         "y": [
          3.54
         ],
         "yaxis": "y"
        },
        {
         "hovertemplate": "Country=Qatar<br>LifeExp_2019=%{x}<br>Unemployment_2019=%{y}<extra></extra>",
         "legendgroup": "Qatar",
         "marker": {
          "color": "#FF6692",
          "opacity": 0.6,
          "symbol": "circle"
         },
         "mode": "markers",
         "name": "Qatar",
         "orientation": "v",
         "showlegend": true,
         "type": "scatter",
         "x": [
          77.17
         ],
         "xaxis": "x",
         "y": [
          0.1
         ],
         "yaxis": "y"
        },
        {
         "hovertemplate": "Country=Saudi Arabia<br>LifeExp_2019=%{x}<br>Unemployment_2019=%{y}<extra></extra>",
         "legendgroup": "Saudi Arabia",
         "marker": {
          "color": "#B6E880",
          "opacity": 0.6,
          "symbol": "circle"
         },
         "mode": "markers",
         "name": "Saudi Arabia",
         "orientation": "v",
         "showlegend": true,
         "type": "scatter",
         "x": [
          74.31
         ],
         "xaxis": "x",
         "y": [
          5.67
         ],
         "yaxis": "y"
        },
        {
         "hovertemplate": "Country=Sudan<br>LifeExp_2019=%{x}<br>Unemployment_2019=%{y}<extra></extra>",
         "legendgroup": "Sudan",
         "marker": {
          "color": "#FF97FF",
          "opacity": 0.6,
          "symbol": "circle"
         },
         "mode": "markers",
         "name": "Sudan",
         "orientation": "v",
         "showlegend": true,
         "type": "scatter",
         "x": [
          69.15
         ],
         "xaxis": "x",
         "y": [
          17.65
         ],
         "yaxis": "y"
        },
        {
         "hovertemplate": "Country=Syrian Arab Republic<br>LifeExp_2019=%{x}<br>Unemployment_2019=%{y}<extra></extra>",
         "legendgroup": "Syrian Arab Republic",
         "marker": {
          "color": "#FECB52",
          "opacity": 0.6,
          "symbol": "circle"
         },
         "mode": "markers",
         "name": "Syrian Arab Republic",
         "orientation": "v",
         "showlegend": true,
         "type": "scatter",
         "x": [
          72.67
         ],
         "xaxis": "x",
         "y": [
          8.77
         ],
         "yaxis": "y"
        },
        {
         "hovertemplate": "Country=Tunisia<br>LifeExp_2019=%{x}<br>Unemployment_2019=%{y}<extra></extra>",
         "legendgroup": "Tunisia",
         "marker": {
          "color": "#636efa",
          "opacity": 0.6,
          "symbol": "circle"
         },
         "mode": "markers",
         "name": "Tunisia",
         "orientation": "v",
         "showlegend": true,
         "type": "scatter",
         "x": [
          77.04
         ],
         "xaxis": "x",
         "y": [
          15.13
         ],
         "yaxis": "y"
        },
        {
         "hovertemplate": "Country=United Arab Emirates<br>LifeExp_2019=%{x}<br>Unemployment_2019=%{y}<extra></extra>",
         "legendgroup": "United Arab Emirates",
         "marker": {
          "color": "#EF553B",
          "opacity": 0.6,
          "symbol": "circle"
         },
         "mode": "markers",
         "name": "United Arab Emirates",
         "orientation": "v",
         "showlegend": true,
         "type": "scatter",
         "x": [
          76.08
         ],
         "xaxis": "x",
         "y": [
          2.23
         ],
         "yaxis": "y"
        },
        {
         "hovertemplate": "Country=Albania<br>LifeExp_2019=%{x}<br>Unemployment_2019=%{y}<extra></extra>",
         "legendgroup": "Albania",
         "marker": {
          "color": "#00cc96",
          "opacity": 0.6,
          "symbol": "circle"
         },
         "mode": "markers",
         "name": "Albania",
         "orientation": "v",
         "showlegend": true,
         "type": "scatter",
         "x": [
          78
         ],
         "xaxis": "x",
         "y": [
          11.47
         ],
         "yaxis": "y"
        },
        {
         "hovertemplate": "Country=Armenia<br>LifeExp_2019=%{x}<br>Unemployment_2019=%{y}<extra></extra>",
         "legendgroup": "Armenia",
         "marker": {
          "color": "#ab63fa",
          "opacity": 0.6,
          "symbol": "circle"
         },
         "mode": "markers",
         "name": "Armenia",
         "orientation": "v",
         "showlegend": true,
         "type": "scatter",
         "x": [
          76.03
         ],
         "xaxis": "x",
         "y": [
          18.3
         ],
         "yaxis": "y"
        },
        {
         "hovertemplate": "Country=Austria<br>LifeExp_2019=%{x}<br>Unemployment_2019=%{y}<extra></extra>",
         "legendgroup": "Austria",
         "marker": {
          "color": "#FFA15A",
          "opacity": 0.6,
          "symbol": "circle"
         },
         "mode": "markers",
         "name": "Austria",
         "orientation": "v",
         "showlegend": true,
         "type": "scatter",
         "x": [
          81.65
         ],
         "xaxis": "x",
         "y": [
          4.49
         ],
         "yaxis": "y"
        },
        {
         "hovertemplate": "Country=Azerbaijan<br>LifeExp_2019=%{x}<br>Unemployment_2019=%{y}<extra></extra>",
         "legendgroup": "Azerbaijan",
         "marker": {
          "color": "#19d3f3",
          "opacity": 0.6,
          "symbol": "circle"
         },
         "mode": "markers",
         "name": "Azerbaijan",
         "orientation": "v",
         "showlegend": true,
         "type": "scatter",
         "x": [
          71.43
         ],
         "xaxis": "x",
         "y": [
          4.85
         ],
         "yaxis": "y"
        },
        {
         "hovertemplate": "Country=Belarus<br>LifeExp_2019=%{x}<br>Unemployment_2019=%{y}<extra></extra>",
         "legendgroup": "Belarus",
         "marker": {
          "color": "#FF6692",
          "opacity": 0.6,
          "symbol": "circle"
         },
         "mode": "markers",
         "name": "Belarus",
         "orientation": "v",
         "showlegend": true,
         "type": "scatter",
         "x": [
          74.81
         ],
         "xaxis": "x",
         "y": [
          4.16
         ],
         "yaxis": "y"
        },
        {
         "hovertemplate": "Country=Belgium<br>LifeExp_2019=%{x}<br>Unemployment_2019=%{y}<extra></extra>",
         "legendgroup": "Belgium",
         "marker": {
          "color": "#B6E880",
          "opacity": 0.6,
          "symbol": "circle"
         },
         "mode": "markers",
         "name": "Belgium",
         "orientation": "v",
         "showlegend": true,
         "type": "scatter",
         "x": [
          81.42
         ],
         "xaxis": "x",
         "y": [
          5.36
         ],
         "yaxis": "y"
        },
        {
         "hovertemplate": "Country=Bosnia and Herzegovina<br>LifeExp_2019=%{x}<br>Unemployment_2019=%{y}<extra></extra>",
         "legendgroup": "Bosnia and Herzegovina",
         "marker": {
          "color": "#FF97FF",
          "opacity": 0.6,
          "symbol": "circle"
         },
         "mode": "markers",
         "name": "Bosnia and Herzegovina",
         "orientation": "v",
         "showlegend": true,
         "type": "scatter",
         "x": [
          76.75
         ],
         "xaxis": "x",
         "y": [
          15.69
         ],
         "yaxis": "y"
        },
        {
         "hovertemplate": "Country=Bulgaria<br>LifeExp_2019=%{x}<br>Unemployment_2019=%{y}<extra></extra>",
         "legendgroup": "Bulgaria",
         "marker": {
          "color": "#FECB52",
          "opacity": 0.6,
          "symbol": "circle"
         },
         "mode": "markers",
         "name": "Bulgaria",
         "orientation": "v",
         "showlegend": true,
         "type": "scatter",
         "x": [
          75.07
         ],
         "xaxis": "x",
         "y": [
          4.23
         ],
         "yaxis": "y"
        },
        {
         "hovertemplate": "Country=Croatia<br>LifeExp_2019=%{x}<br>Unemployment_2019=%{y}<extra></extra>",
         "legendgroup": "Croatia",
         "marker": {
          "color": "#636efa",
          "opacity": 0.6,
          "symbol": "circle"
         },
         "mode": "markers",
         "name": "Croatia",
         "orientation": "v",
         "showlegend": true,
         "type": "scatter",
         "x": [
          78.64
         ],
         "xaxis": "x",
         "y": [
          6.62
         ],
         "yaxis": "y"
        },
        {
         "hovertemplate": "Country=Cyprus<br>LifeExp_2019=%{x}<br>Unemployment_2019=%{y}<extra></extra>",
         "legendgroup": "Cyprus",
         "marker": {
          "color": "#EF553B",
          "opacity": 0.6,
          "symbol": "circle"
         },
         "mode": "markers",
         "name": "Cyprus",
         "orientation": "v",
         "showlegend": true,
         "type": "scatter",
         "x": [
          83.14
         ],
         "xaxis": "x",
         "y": [
          7.07
         ],
         "yaxis": "y"
        },
        {
         "hovertemplate": "Country=Denmark<br>LifeExp_2019=%{x}<br>Unemployment_2019=%{y}<extra></extra>",
         "legendgroup": "Denmark",
         "marker": {
          "color": "#00cc96",
          "opacity": 0.6,
          "symbol": "circle"
         },
         "mode": "markers",
         "name": "Denmark",
         "orientation": "v",
         "showlegend": true,
         "type": "scatter",
         "x": [
          81.32
         ],
         "xaxis": "x",
         "y": [
          5.02
         ],
         "yaxis": "y"
        },
        {
         "hovertemplate": "Country=Estonia<br>LifeExp_2019=%{x}<br>Unemployment_2019=%{y}<extra></extra>",
         "legendgroup": "Estonia",
         "marker": {
          "color": "#ab63fa",
          "opacity": 0.6,
          "symbol": "circle"
         },
         "mode": "markers",
         "name": "Estonia",
         "orientation": "v",
         "showlegend": true,
         "type": "scatter",
         "x": [
          78.88
         ],
         "xaxis": "x",
         "y": [
          4.45
         ],
         "yaxis": "y"
        },
        {
         "hovertemplate": "Country=Finland<br>LifeExp_2019=%{x}<br>Unemployment_2019=%{y}<extra></extra>",
         "legendgroup": "Finland",
         "marker": {
          "color": "#FFA15A",
          "opacity": 0.6,
          "symbol": "circle"
         },
         "mode": "markers",
         "name": "Finland",
         "orientation": "v",
         "showlegend": true,
         "type": "scatter",
         "x": [
          81.61
         ],
         "xaxis": "x",
         "y": [
          6.69
         ],
         "yaxis": "y"
        },
        {
         "hovertemplate": "Country=France<br>LifeExp_2019=%{x}<br>Unemployment_2019=%{y}<extra></extra>",
         "legendgroup": "France",
         "marker": {
          "color": "#19d3f3",
          "opacity": 0.6,
          "symbol": "circle"
         },
         "mode": "markers",
         "name": "France",
         "orientation": "v",
         "showlegend": true,
         "type": "scatter",
         "x": [
          82.48
         ],
         "xaxis": "x",
         "y": [
          8.41
         ],
         "yaxis": "y"
        },
        {
         "hovertemplate": "Country=Georgia<br>LifeExp_2019=%{x}<br>Unemployment_2019=%{y}<extra></extra>",
         "legendgroup": "Georgia",
         "marker": {
          "color": "#FF6692",
          "opacity": 0.6,
          "symbol": "circle"
         },
         "mode": "markers",
         "name": "Georgia",
         "orientation": "v",
         "showlegend": true,
         "type": "scatter",
         "x": [
          73.28
         ],
         "xaxis": "x",
         "y": [
          11.57
         ],
         "yaxis": "y"
        },
        {
         "hovertemplate": "Country=Germany<br>LifeExp_2019=%{x}<br>Unemployment_2019=%{y}<extra></extra>",
         "legendgroup": "Germany",
         "marker": {
          "color": "#B6E880",
          "opacity": 0.6,
          "symbol": "circle"
         },
         "mode": "markers",
         "name": "Germany",
         "orientation": "v",
         "showlegend": true,
         "type": "scatter",
         "x": [
          81.72
         ],
         "xaxis": "x",
         "y": [
          3.14
         ],
         "yaxis": "y"
        },
        {
         "hovertemplate": "Country=Greece<br>LifeExp_2019=%{x}<br>Unemployment_2019=%{y}<extra></extra>",
         "legendgroup": "Greece",
         "marker": {
          "color": "#FF97FF",
          "opacity": 0.6,
          "symbol": "circle"
         },
         "mode": "markers",
         "name": "Greece",
         "orientation": "v",
         "showlegend": true,
         "type": "scatter",
         "x": [
          81.1
         ],
         "xaxis": "x",
         "y": [
          17.31
         ],
         "yaxis": "y"
        },
        {
         "hovertemplate": "Country=Hungary<br>LifeExp_2019=%{x}<br>Unemployment_2019=%{y}<extra></extra>",
         "legendgroup": "Hungary",
         "marker": {
          "color": "#FECB52",
          "opacity": 0.6,
          "symbol": "circle"
         },
         "mode": "markers",
         "name": "Hungary",
         "orientation": "v",
         "showlegend": true,
         "type": "scatter",
         "x": [
          76.44
         ],
         "xaxis": "x",
         "y": [
          3.42
         ],
         "yaxis": "y"
        },
        {
         "hovertemplate": "Country=Iceland<br>LifeExp_2019=%{x}<br>Unemployment_2019=%{y}<extra></extra>",
         "legendgroup": "Iceland",
         "marker": {
          "color": "#636efa",
          "opacity": 0.6,
          "symbol": "circle"
         },
         "mode": "markers",
         "name": "Iceland",
         "orientation": "v",
         "showlegend": true,
         "type": "scatter",
         "x": [
          82.33
         ],
         "xaxis": "x",
         "y": [
          3.51
         ],
         "yaxis": "y"
        },
        {
         "hovertemplate": "Country=Ireland<br>LifeExp_2019=%{x}<br>Unemployment_2019=%{y}<extra></extra>",
         "legendgroup": "Ireland",
         "marker": {
          "color": "#EF553B",
          "opacity": 0.6,
          "symbol": "circle"
         },
         "mode": "markers",
         "name": "Ireland",
         "orientation": "v",
         "showlegend": true,
         "type": "scatter",
         "x": [
          81.84
         ],
         "xaxis": "x",
         "y": [
          4.95
         ],
         "yaxis": "y"
        },
        {
         "hovertemplate": "Country=Israel<br>LifeExp_2019=%{x}<br>Unemployment_2019=%{y}<extra></extra>",
         "legendgroup": "Israel",
         "marker": {
          "color": "#00cc96",
          "opacity": 0.6,
          "symbol": "circle"
         },
         "mode": "markers",
         "name": "Israel",
         "orientation": "v",
         "showlegend": true,
         "type": "scatter",
         "x": [
          82.62
         ],
         "xaxis": "x",
         "y": [
          3.8
         ],
         "yaxis": "y"
        },
        {
         "hovertemplate": "Country=Italy<br>LifeExp_2019=%{x}<br>Unemployment_2019=%{y}<extra></extra>",
         "legendgroup": "Italy",
         "marker": {
          "color": "#ab63fa",
          "opacity": 0.6,
          "symbol": "circle"
         },
         "mode": "markers",
         "name": "Italy",
         "orientation": "v",
         "showlegend": true,
         "type": "scatter",
         "x": [
          82.97
         ],
         "xaxis": "x",
         "y": [
          9.95
         ],
         "yaxis": "y"
        },
        {
         "hovertemplate": "Country=Kazakhstan<br>LifeExp_2019=%{x}<br>Unemployment_2019=%{y}<extra></extra>",
         "legendgroup": "Kazakhstan",
         "marker": {
          "color": "#FFA15A",
          "opacity": 0.6,
          "symbol": "circle"
         },
         "mode": "markers",
         "name": "Kazakhstan",
         "orientation": "v",
         "showlegend": true,
         "type": "scatter",
         "x": [
          73.95
         ],
         "xaxis": "x",
         "y": [
          4.8
         ],
         "yaxis": "y"
        },
        {
         "hovertemplate": "Country=Latvia<br>LifeExp_2019=%{x}<br>Unemployment_2019=%{y}<extra></extra>",
         "legendgroup": "Latvia",
         "marker": {
          "color": "#19d3f3",
          "opacity": 0.6,
          "symbol": "circle"
         },
         "mode": "markers",
         "name": "Latvia",
         "orientation": "v",
         "showlegend": true,
         "type": "scatter",
         "x": [
          75.38
         ],
         "xaxis": "x",
         "y": [
          6.31
         ],
         "yaxis": "y"
        },
        {
         "hovertemplate": "Country=Lithuania<br>LifeExp_2019=%{x}<br>Unemployment_2019=%{y}<extra></extra>",
         "legendgroup": "Lithuania",
         "marker": {
          "color": "#FF6692",
          "opacity": 0.6,
          "symbol": "circle"
         },
         "mode": "markers",
         "name": "Lithuania",
         "orientation": "v",
         "showlegend": true,
         "type": "scatter",
         "x": [
          75.99
         ],
         "xaxis": "x",
         "y": [
          6.26
         ],
         "yaxis": "y"
        },
        {
         "hovertemplate": "Country=Luxembourg<br>LifeExp_2019=%{x}<br>Unemployment_2019=%{y}<extra></extra>",
         "legendgroup": "Luxembourg",
         "marker": {
          "color": "#B6E880",
          "opacity": 0.6,
          "symbol": "circle"
         },
         "mode": "markers",
         "name": "Luxembourg",
         "orientation": "v",
         "showlegend": true,
         "type": "scatter",
         "x": [
          82.41
         ],
         "xaxis": "x",
         "y": [
          5.59
         ],
         "yaxis": "y"
        },
        {
         "hovertemplate": "Country=Malta<br>LifeExp_2019=%{x}<br>Unemployment_2019=%{y}<extra></extra>",
         "legendgroup": "Malta",
         "marker": {
          "color": "#FF97FF",
          "opacity": 0.6,
          "symbol": "circle"
         },
         "mode": "markers",
         "name": "Malta",
         "orientation": "v",
         "showlegend": true,
         "type": "scatter",
         "x": [
          81.89
         ],
         "xaxis": "x",
         "y": [
          3.62
         ],
         "yaxis": "y"
        },
        {
         "hovertemplate": "Country=Montenegro<br>LifeExp_2019=%{x}<br>Unemployment_2019=%{y}<extra></extra>",
         "legendgroup": "Montenegro",
         "marker": {
          "color": "#FECB52",
          "opacity": 0.6,
          "symbol": "circle"
         },
         "mode": "markers",
         "name": "Montenegro",
         "orientation": "v",
         "showlegend": true,
         "type": "scatter",
         "x": [
          75.88
         ],
         "xaxis": "x",
         "y": [
          15.12
         ],
         "yaxis": "y"
        },
        {
         "hovertemplate": "Country=Netherlands<br>LifeExp_2019=%{x}<br>Unemployment_2019=%{y}<extra></extra>",
         "legendgroup": "Netherlands",
         "marker": {
          "color": "#636efa",
          "opacity": 0.6,
          "symbol": "circle"
         },
         "mode": "markers",
         "name": "Netherlands",
         "orientation": "v",
         "showlegend": true,
         "type": "scatter",
         "x": [
          81.79
         ],
         "xaxis": "x",
         "y": [
          3.38
         ],
         "yaxis": "y"
        },
        {
         "hovertemplate": "Country=Norway<br>LifeExp_2019=%{x}<br>Unemployment_2019=%{y}<extra></extra>",
         "legendgroup": "Norway",
         "marker": {
          "color": "#EF553B",
          "opacity": 0.6,
          "symbol": "circle"
         },
         "mode": "markers",
         "name": "Norway",
         "orientation": "v",
         "showlegend": true,
         "type": "scatter",
         "x": [
          82.62
         ],
         "xaxis": "x",
         "y": [
          3.69
         ],
         "yaxis": "y"
        },
        {
         "hovertemplate": "Country=Poland<br>LifeExp_2019=%{x}<br>Unemployment_2019=%{y}<extra></extra>",
         "legendgroup": "Poland",
         "marker": {
          "color": "#00cc96",
          "opacity": 0.6,
          "symbol": "circle"
         },
         "mode": "markers",
         "name": "Poland",
         "orientation": "v",
         "showlegend": true,
         "type": "scatter",
         "x": [
          78.27
         ],
         "xaxis": "x",
         "y": [
          3.28
         ],
         "yaxis": "y"
        },
        {
         "hovertemplate": "Country=Portugal<br>LifeExp_2019=%{x}<br>Unemployment_2019=%{y}<extra></extra>",
         "legendgroup": "Portugal",
         "marker": {
          "color": "#ab63fa",
          "opacity": 0.6,
          "symbol": "circle"
         },
         "mode": "markers",
         "name": "Portugal",
         "orientation": "v",
         "showlegend": true,
         "type": "scatter",
         "x": [
          81.57
         ],
         "xaxis": "x",
         "y": [
          6.46
         ],
         "yaxis": "y"
        },
        {
         "hovertemplate": "Country=Romania<br>LifeExp_2019=%{x}<br>Unemployment_2019=%{y}<extra></extra>",
         "legendgroup": "Romania",
         "marker": {
          "color": "#FFA15A",
          "opacity": 0.6,
          "symbol": "circle"
         },
         "mode": "markers",
         "name": "Romania",
         "orientation": "v",
         "showlegend": true,
         "type": "scatter",
         "x": [
          75.57
         ],
         "xaxis": "x",
         "y": [
          3.91
         ],
         "yaxis": "y"
        },
        {
         "hovertemplate": "Country=Russian Federation<br>LifeExp_2019=%{x}<br>Unemployment_2019=%{y}<extra></extra>",
         "legendgroup": "Russian Federation",
         "marker": {
          "color": "#19d3f3",
          "opacity": 0.6,
          "symbol": "circle"
         },
         "mode": "markers",
         "name": "Russian Federation",
         "orientation": "v",
         "showlegend": true,
         "type": "scatter",
         "x": [
          73.23
         ],
         "xaxis": "x",
         "y": [
          4.5
         ],
         "yaxis": "y"
        },
        {
         "hovertemplate": "Country=Serbia<br>LifeExp_2019=%{x}<br>Unemployment_2019=%{y}<extra></extra>",
         "legendgroup": "Serbia",
         "marker": {
          "color": "#FF6692",
          "opacity": 0.6,
          "symbol": "circle"
         },
         "mode": "markers",
         "name": "Serbia",
         "orientation": "v",
         "showlegend": true,
         "type": "scatter",
         "x": [
          75.87
         ],
         "xaxis": "x",
         "y": [
          10.39
         ],
         "yaxis": "y"
        },
        {
         "hovertemplate": "Country=Slovenia<br>LifeExp_2019=%{x}<br>Unemployment_2019=%{y}<extra></extra>",
         "legendgroup": "Slovenia",
         "marker": {
          "color": "#B6E880",
          "opacity": 0.6,
          "symbol": "circle"
         },
         "mode": "markers",
         "name": "Slovenia",
         "orientation": "v",
         "showlegend": true,
         "type": "scatter",
         "x": [
          81.31
         ],
         "xaxis": "x",
         "y": [
          4.45
         ],
         "yaxis": "y"
        },
        {
         "hovertemplate": "Country=Spain<br>LifeExp_2019=%{x}<br>Unemployment_2019=%{y}<extra></extra>",
         "legendgroup": "Spain",
         "marker": {
          "color": "#FF97FF",
          "opacity": 0.6,
          "symbol": "circle"
         },
         "mode": "markers",
         "name": "Spain",
         "orientation": "v",
         "showlegend": true,
         "type": "scatter",
         "x": [
          83.22
         ],
         "xaxis": "x",
         "y": [
          14.1
         ],
         "yaxis": "y"
        },
        {
         "hovertemplate": "Country=Sweden<br>LifeExp_2019=%{x}<br>Unemployment_2019=%{y}<extra></extra>",
         "legendgroup": "Sweden",
         "marker": {
          "color": "#FECB52",
          "opacity": 0.6,
          "symbol": "circle"
         },
         "mode": "markers",
         "name": "Sweden",
         "orientation": "v",
         "showlegend": true,
         "type": "scatter",
         "x": [
          82.4
         ],
         "xaxis": "x",
         "y": [
          6.83
         ],
         "yaxis": "y"
        },
        {
         "hovertemplate": "Country=Switzerland<br>LifeExp_2019=%{x}<br>Unemployment_2019=%{y}<extra></extra>",
         "legendgroup": "Switzerland",
         "marker": {
          "color": "#636efa",
          "opacity": 0.6,
          "symbol": "circle"
         },
         "mode": "markers",
         "name": "Switzerland",
         "orientation": "v",
         "showlegend": true,
         "type": "scatter",
         "x": [
          83.45
         ],
         "xaxis": "x",
         "y": [
          4.39
         ],
         "yaxis": "y"
        },
        {
         "hovertemplate": "Country=Tajikistan<br>LifeExp_2019=%{x}<br>Unemployment_2019=%{y}<extra></extra>",
         "legendgroup": "Tajikistan",
         "marker": {
          "color": "#EF553B",
          "opacity": 0.6,
          "symbol": "circle"
         },
         "mode": "markers",
         "name": "Tajikistan",
         "orientation": "v",
         "showlegend": true,
         "type": "scatter",
         "x": [
          69.5
         ],
         "xaxis": "x",
         "y": [
          7.06
         ],
         "yaxis": "y"
        },
        {
         "hovertemplate": "Country=Turkmenistan<br>LifeExp_2019=%{x}<br>Unemployment_2019=%{y}<extra></extra>",
         "legendgroup": "Turkmenistan",
         "marker": {
          "color": "#00cc96",
          "opacity": 0.6,
          "symbol": "circle"
         },
         "mode": "markers",
         "name": "Turkmenistan",
         "orientation": "v",
         "showlegend": true,
         "type": "scatter",
         "x": [
          69.75
         ],
         "xaxis": "x",
         "y": [
          4.27
         ],
         "yaxis": "y"
        },
        {
         "hovertemplate": "Country=Ukraine<br>LifeExp_2019=%{x}<br>Unemployment_2019=%{y}<extra></extra>",
         "legendgroup": "Ukraine",
         "marker": {
          "color": "#ab63fa",
          "opacity": 0.6,
          "symbol": "circle"
         },
         "mode": "markers",
         "name": "Ukraine",
         "orientation": "v",
         "showlegend": true,
         "type": "scatter",
         "x": [
          73.02
         ],
         "xaxis": "x",
         "y": [
          8.19
         ],
         "yaxis": "y"
        },
        {
         "hovertemplate": "Country=Uzbekistan<br>LifeExp_2019=%{x}<br>Unemployment_2019=%{y}<extra></extra>",
         "legendgroup": "Uzbekistan",
         "marker": {
          "color": "#FFA15A",
          "opacity": 0.6,
          "symbol": "circle"
         },
         "mode": "markers",
         "name": "Uzbekistan",
         "orientation": "v",
         "showlegend": true,
         "type": "scatter",
         "x": [
          73.01
         ],
         "xaxis": "x",
         "y": [
          5.85
         ],
         "yaxis": "y"
        },
        {
         "hovertemplate": "Country=Bangladesh<br>LifeExp_2019=%{x}<br>Unemployment_2019=%{y}<extra></extra>",
         "legendgroup": "Bangladesh",
         "marker": {
          "color": "#19d3f3",
          "opacity": 0.6,
          "symbol": "circle"
         },
         "mode": "markers",
         "name": "Bangladesh",
         "orientation": "v",
         "showlegend": true,
         "type": "scatter",
         "x": [
          74.25
         ],
         "xaxis": "x",
         "y": [
          4.44
         ],
         "yaxis": "y"
        },
        {
         "hovertemplate": "Country=Bhutan<br>LifeExp_2019=%{x}<br>Unemployment_2019=%{y}<extra></extra>",
         "legendgroup": "Bhutan",
         "marker": {
          "color": "#FF6692",
          "opacity": 0.6,
          "symbol": "circle"
         },
         "mode": "markers",
         "name": "Bhutan",
         "orientation": "v",
         "showlegend": true,
         "type": "scatter",
         "x": [
          73.11
         ],
         "xaxis": "x",
         "y": [
          2.5
         ],
         "yaxis": "y"
        },
        {
         "hovertemplate": "Country=India<br>LifeExp_2019=%{x}<br>Unemployment_2019=%{y}<extra></extra>",
         "legendgroup": "India",
         "marker": {
          "color": "#B6E880",
          "opacity": 0.6,
          "symbol": "circle"
         },
         "mode": "markers",
         "name": "India",
         "orientation": "v",
         "showlegend": true,
         "type": "scatter",
         "x": [
          70.79
         ],
         "xaxis": "x",
         "y": [
          5.27
         ],
         "yaxis": "y"
        },
        {
         "hovertemplate": "Country=Indonesia<br>LifeExp_2019=%{x}<br>Unemployment_2019=%{y}<extra></extra>",
         "legendgroup": "Indonesia",
         "marker": {
          "color": "#FF97FF",
          "opacity": 0.6,
          "symbol": "circle"
         },
         "mode": "markers",
         "name": "Indonesia",
         "orientation": "v",
         "showlegend": true,
         "type": "scatter",
         "x": [
          71.31
         ],
         "xaxis": "x",
         "y": [
          3.62
         ],
         "yaxis": "y"
        },
        {
         "hovertemplate": "Country=Maldives<br>LifeExp_2019=%{x}<br>Unemployment_2019=%{y}<extra></extra>",
         "legendgroup": "Maldives",
         "marker": {
          "color": "#FECB52",
          "opacity": 0.6,
          "symbol": "circle"
         },
         "mode": "markers",
         "name": "Maldives",
         "orientation": "v",
         "showlegend": true,
         "type": "scatter",
         "x": [
          79.59
         ],
         "xaxis": "x",
         "y": [
          5.34
         ],
         "yaxis": "y"
        },
        {
         "hovertemplate": "Country=Myanmar<br>LifeExp_2019=%{x}<br>Unemployment_2019=%{y}<extra></extra>",
         "legendgroup": "Myanmar",
         "marker": {
          "color": "#636efa",
          "opacity": 0.6,
          "symbol": "circle"
         },
         "mode": "markers",
         "name": "Myanmar",
         "orientation": "v",
         "showlegend": true,
         "type": "scatter",
         "x": [
          69.13
         ],
         "xaxis": "x",
         "y": [
          0.5
         ],
         "yaxis": "y"
        },
        {
         "hovertemplate": "Country=Nepal<br>LifeExp_2019=%{x}<br>Unemployment_2019=%{y}<extra></extra>",
         "legendgroup": "Nepal",
         "marker": {
          "color": "#EF553B",
          "opacity": 0.6,
          "symbol": "circle"
         },
         "mode": "markers",
         "name": "Nepal",
         "orientation": "v",
         "showlegend": true,
         "type": "scatter",
         "x": [
          70.88
         ],
         "xaxis": "x",
         "y": [
          3.1
         ],
         "yaxis": "y"
        },
        {
         "hovertemplate": "Country=Sri Lanka<br>LifeExp_2019=%{x}<br>Unemployment_2019=%{y}<extra></extra>",
         "legendgroup": "Sri Lanka",
         "marker": {
          "color": "#00cc96",
          "opacity": 0.6,
          "symbol": "circle"
         },
         "mode": "markers",
         "name": "Sri Lanka",
         "orientation": "v",
         "showlegend": true,
         "type": "scatter",
         "x": [
          76.87
         ],
         "xaxis": "x",
         "y": [
          4.35
         ],
         "yaxis": "y"
        },
        {
         "hovertemplate": "Country=Thailand<br>LifeExp_2019=%{x}<br>Unemployment_2019=%{y}<extra></extra>",
         "legendgroup": "Thailand",
         "marker": {
          "color": "#ab63fa",
          "opacity": 0.6,
          "symbol": "circle"
         },
         "mode": "markers",
         "name": "Thailand",
         "orientation": "v",
         "showlegend": true,
         "type": "scatter",
         "x": [
          77.7
         ],
         "xaxis": "x",
         "y": [
          0.72
         ],
         "yaxis": "y"
        },
        {
         "hovertemplate": "Country=Timor-Leste<br>LifeExp_2019=%{x}<br>Unemployment_2019=%{y}<extra></extra>",
         "legendgroup": "Timor-Leste",
         "marker": {
          "color": "#FFA15A",
          "opacity": 0.6,
          "symbol": "circle"
         },
         "mode": "markers",
         "name": "Timor-Leste",
         "orientation": "v",
         "showlegend": true,
         "type": "scatter",
         "x": [
          69.62
         ],
         "xaxis": "x",
         "y": [
          4.51
         ],
         "yaxis": "y"
        },
        {
         "hovertemplate": "Country=Australia<br>LifeExp_2019=%{x}<br>Unemployment_2019=%{y}<extra></extra>",
         "legendgroup": "Australia",
         "marker": {
          "color": "#19d3f3",
          "opacity": 0.6,
          "symbol": "circle"
         },
         "mode": "markers",
         "name": "Australia",
         "orientation": "v",
         "showlegend": true,
         "type": "scatter",
         "x": [
          83.04
         ],
         "xaxis": "x",
         "y": [
          5.16
         ],
         "yaxis": "y"
        },
        {
         "hovertemplate": "Country=Brunei Darussalam<br>LifeExp_2019=%{x}<br>Unemployment_2019=%{y}<extra></extra>",
         "legendgroup": "Brunei Darussalam",
         "marker": {
          "color": "#FF6692",
          "opacity": 0.6,
          "symbol": "circle"
         },
         "mode": "markers",
         "name": "Brunei Darussalam",
         "orientation": "v",
         "showlegend": true,
         "type": "scatter",
         "x": [
          74.32
         ],
         "xaxis": "x",
         "y": [
          6.92
         ],
         "yaxis": "y"
        },
        {
         "hovertemplate": "Country=Cambodia<br>LifeExp_2019=%{x}<br>Unemployment_2019=%{y}<extra></extra>",
         "legendgroup": "Cambodia",
         "marker": {
          "color": "#B6E880",
          "opacity": 0.6,
          "symbol": "circle"
         },
         "mode": "markers",
         "name": "Cambodia",
         "orientation": "v",
         "showlegend": true,
         "type": "scatter",
         "x": [
          70.12
         ],
         "xaxis": "x",
         "y": [
          0.15
         ],
         "yaxis": "y"
        },
        {
         "hovertemplate": "Country=China<br>LifeExp_2019=%{x}<br>Unemployment_2019=%{y}<extra></extra>",
         "legendgroup": "China",
         "marker": {
          "color": "#FF97FF",
          "opacity": 0.6,
          "symbol": "circle"
         },
         "mode": "markers",
         "name": "China",
         "orientation": "v",
         "showlegend": true,
         "type": "scatter",
         "x": [
          77.43
         ],
         "xaxis": "x",
         "y": [
          4.52
         ],
         "yaxis": "y"
        },
        {
         "hovertemplate": "Country=Fiji<br>LifeExp_2019=%{x}<br>Unemployment_2019=%{y}<extra></extra>",
         "legendgroup": "Fiji",
         "marker": {
          "color": "#FECB52",
          "opacity": 0.6,
          "symbol": "circle"
         },
         "mode": "markers",
         "name": "Fiji",
         "orientation": "v",
         "showlegend": true,
         "type": "scatter",
         "x": [
          68.01
         ],
         "xaxis": "x",
         "y": [
          4.45
         ],
         "yaxis": "y"
        },
        {
         "hovertemplate": "Country=Japan<br>LifeExp_2019=%{x}<br>Unemployment_2019=%{y}<extra></extra>",
         "legendgroup": "Japan",
         "marker": {
          "color": "#636efa",
          "opacity": 0.6,
          "symbol": "circle"
         },
         "mode": "markers",
         "name": "Japan",
         "orientation": "v",
         "showlegend": true,
         "type": "scatter",
         "x": [
          84.26
         ],
         "xaxis": "x",
         "y": [
          2.4
         ],
         "yaxis": "y"
        },
        {
         "hovertemplate": "Country=Malaysia<br>LifeExp_2019=%{x}<br>Unemployment_2019=%{y}<extra></extra>",
         "legendgroup": "Malaysia",
         "marker": {
          "color": "#EF553B",
          "opacity": 0.6,
          "symbol": "circle"
         },
         "mode": "markers",
         "name": "Malaysia",
         "orientation": "v",
         "showlegend": true,
         "type": "scatter",
         "x": [
          74.72
         ],
         "xaxis": "x",
         "y": [
          3.26
         ],
         "yaxis": "y"
        },
        {
         "hovertemplate": "Country=Mongolia<br>LifeExp_2019=%{x}<br>Unemployment_2019=%{y}<extra></extra>",
         "legendgroup": "Mongolia",
         "marker": {
          "color": "#00cc96",
          "opacity": 0.6,
          "symbol": "circle"
         },
         "mode": "markers",
         "name": "Mongolia",
         "orientation": "v",
         "showlegend": true,
         "type": "scatter",
         "x": [
          68.1
         ],
         "xaxis": "x",
         "y": [
          5.44
         ],
         "yaxis": "y"
        },
        {
         "hovertemplate": "Country=New Zealand<br>LifeExp_2019=%{x}<br>Unemployment_2019=%{y}<extra></extra>",
         "legendgroup": "New Zealand",
         "marker": {
          "color": "#ab63fa",
          "opacity": 0.6,
          "symbol": "circle"
         },
         "mode": "markers",
         "name": "New Zealand",
         "orientation": "v",
         "showlegend": true,
         "type": "scatter",
         "x": [
          81.96
         ],
         "xaxis": "x",
         "y": [
          4.11
         ],
         "yaxis": "y"
        },
        {
         "hovertemplate": "Country=Papua New Guinea<br>LifeExp_2019=%{x}<br>Unemployment_2019=%{y}<extra></extra>",
         "legendgroup": "Papua New Guinea",
         "marker": {
          "color": "#FFA15A",
          "opacity": 0.6,
          "symbol": "circle"
         },
         "mode": "markers",
         "name": "Papua New Guinea",
         "orientation": "v",
         "showlegend": true,
         "type": "scatter",
         "x": [
          65.3
         ],
         "xaxis": "x",
         "y": [
          2.45
         ],
         "yaxis": "y"
        },
        {
         "hovertemplate": "Country=Philippines<br>LifeExp_2019=%{x}<br>Unemployment_2019=%{y}<extra></extra>",
         "legendgroup": "Philippines",
         "marker": {
          "color": "#19d3f3",
          "opacity": 0.6,
          "symbol": "circle"
         },
         "mode": "markers",
         "name": "Philippines",
         "orientation": "v",
         "showlegend": true,
         "type": "scatter",
         "x": [
          70.43
         ],
         "xaxis": "x",
         "y": [
          2.24
         ],
         "yaxis": "y"
        },
        {
         "hovertemplate": "Country=Samoa<br>LifeExp_2019=%{x}<br>Unemployment_2019=%{y}<extra></extra>",
         "legendgroup": "Samoa",
         "marker": {
          "color": "#FF6692",
          "opacity": 0.6,
          "symbol": "circle"
         },
         "mode": "markers",
         "name": "Samoa",
         "orientation": "v",
         "showlegend": true,
         "type": "scatter",
         "x": [
          70.45
         ],
         "xaxis": "x",
         "y": [
          8.41
         ],
         "yaxis": "y"
        },
        {
         "hovertemplate": "Country=Singapore<br>LifeExp_2019=%{x}<br>Unemployment_2019=%{y}<extra></extra>",
         "legendgroup": "Singapore",
         "marker": {
          "color": "#B6E880",
          "opacity": 0.6,
          "symbol": "circle"
         },
         "mode": "markers",
         "name": "Singapore",
         "orientation": "v",
         "showlegend": true,
         "type": "scatter",
         "x": [
          83.22
         ],
         "xaxis": "x",
         "y": [
          3.1
         ],
         "yaxis": "y"
        },
        {
         "hovertemplate": "Country=Solomon Islands<br>LifeExp_2019=%{x}<br>Unemployment_2019=%{y}<extra></extra>",
         "legendgroup": "Solomon Islands",
         "marker": {
          "color": "#FF97FF",
          "opacity": 0.6,
          "symbol": "circle"
         },
         "mode": "markers",
         "name": "Solomon Islands",
         "orientation": "v",
         "showlegend": true,
         "type": "scatter",
         "x": [
          65.25
         ],
         "xaxis": "x",
         "y": [
          0.75
         ],
         "yaxis": "y"
        },
        {
         "hovertemplate": "Country=Tonga<br>LifeExp_2019=%{x}<br>Unemployment_2019=%{y}<extra></extra>",
         "legendgroup": "Tonga",
         "marker": {
          "color": "#FECB52",
          "opacity": 0.6,
          "symbol": "circle"
         },
         "mode": "markers",
         "name": "Tonga",
         "orientation": "v",
         "showlegend": true,
         "type": "scatter",
         "x": [
          72.57
         ],
         "xaxis": "x",
         "y": [
          3.06
         ],
         "yaxis": "y"
        },
        {
         "hovertemplate": "Country=Vanuatu<br>LifeExp_2019=%{x}<br>Unemployment_2019=%{y}<extra></extra>",
         "legendgroup": "Vanuatu",
         "marker": {
          "color": "#636efa",
          "opacity": 0.6,
          "symbol": "circle"
         },
         "mode": "markers",
         "name": "Vanuatu",
         "orientation": "v",
         "showlegend": true,
         "type": "scatter",
         "x": [
          65.31
         ],
         "xaxis": "x",
         "y": [
          1.8
         ],
         "yaxis": "y"
        }
       ],
       "layout": {
        "legend": {
         "title": {
          "text": "Country"
         },
         "tracegroupgap": 0
        },
        "template": {
         "data": {
          "bar": [
           {
            "error_x": {
             "color": "#f2f5fa"
            },
            "error_y": {
             "color": "#f2f5fa"
            },
            "marker": {
             "line": {
              "color": "rgb(17,17,17)",
              "width": 0.5
             },
             "pattern": {
              "fillmode": "overlay",
              "size": 10,
              "solidity": 0.2
             }
            },
            "type": "bar"
           }
          ],
          "barpolar": [
           {
            "marker": {
             "line": {
              "color": "rgb(17,17,17)",
              "width": 0.5
             },
             "pattern": {
              "fillmode": "overlay",
              "size": 10,
              "solidity": 0.2
             }
            },
            "type": "barpolar"
           }
          ],
          "carpet": [
           {
            "aaxis": {
             "endlinecolor": "#A2B1C6",
             "gridcolor": "#506784",
             "linecolor": "#506784",
             "minorgridcolor": "#506784",
             "startlinecolor": "#A2B1C6"
            },
            "baxis": {
             "endlinecolor": "#A2B1C6",
             "gridcolor": "#506784",
             "linecolor": "#506784",
             "minorgridcolor": "#506784",
             "startlinecolor": "#A2B1C6"
            },
            "type": "carpet"
           }
          ],
          "choropleth": [
           {
            "colorbar": {
             "outlinewidth": 0,
             "ticks": ""
            },
            "type": "choropleth"
           }
          ],
          "contour": [
           {
            "colorbar": {
             "outlinewidth": 0,
             "ticks": ""
            },
            "colorscale": [
             [
              0,
              "#0d0887"
             ],
             [
              0.1111111111111111,
              "#46039f"
             ],
             [
              0.2222222222222222,
              "#7201a8"
             ],
             [
              0.3333333333333333,
              "#9c179e"
             ],
             [
              0.4444444444444444,
              "#bd3786"
             ],
             [
              0.5555555555555556,
              "#d8576b"
             ],
             [
              0.6666666666666666,
              "#ed7953"
             ],
             [
              0.7777777777777778,
              "#fb9f3a"
             ],
             [
              0.8888888888888888,
              "#fdca26"
             ],
             [
              1,
              "#f0f921"
             ]
            ],
            "type": "contour"
           }
          ],
          "contourcarpet": [
           {
            "colorbar": {
             "outlinewidth": 0,
             "ticks": ""
            },
            "type": "contourcarpet"
           }
          ],
          "heatmap": [
           {
            "colorbar": {
             "outlinewidth": 0,
             "ticks": ""
            },
            "colorscale": [
             [
              0,
              "#0d0887"
             ],
             [
              0.1111111111111111,
              "#46039f"
             ],
             [
              0.2222222222222222,
              "#7201a8"
             ],
             [
              0.3333333333333333,
              "#9c179e"
             ],
             [
              0.4444444444444444,
              "#bd3786"
             ],
             [
              0.5555555555555556,
              "#d8576b"
             ],
             [
              0.6666666666666666,
              "#ed7953"
             ],
             [
              0.7777777777777778,
              "#fb9f3a"
             ],
             [
              0.8888888888888888,
              "#fdca26"
             ],
             [
              1,
              "#f0f921"
             ]
            ],
            "type": "heatmap"
           }
          ],
          "heatmapgl": [
           {
            "colorbar": {
             "outlinewidth": 0,
             "ticks": ""
            },
            "colorscale": [
             [
              0,
              "#0d0887"
             ],
             [
              0.1111111111111111,
              "#46039f"
             ],
             [
              0.2222222222222222,
              "#7201a8"
             ],
             [
              0.3333333333333333,
              "#9c179e"
             ],
             [
              0.4444444444444444,
              "#bd3786"
             ],
             [
              0.5555555555555556,
              "#d8576b"
             ],
             [
              0.6666666666666666,
              "#ed7953"
             ],
             [
              0.7777777777777778,
              "#fb9f3a"
             ],
             [
              0.8888888888888888,
              "#fdca26"
             ],
             [
              1,
              "#f0f921"
             ]
            ],
            "type": "heatmapgl"
           }
          ],
          "histogram": [
           {
            "marker": {
             "pattern": {
              "fillmode": "overlay",
              "size": 10,
              "solidity": 0.2
             }
            },
            "type": "histogram"
           }
          ],
          "histogram2d": [
           {
            "colorbar": {
             "outlinewidth": 0,
             "ticks": ""
            },
            "colorscale": [
             [
              0,
              "#0d0887"
             ],
             [
              0.1111111111111111,
              "#46039f"
             ],
             [
              0.2222222222222222,
              "#7201a8"
             ],
             [
              0.3333333333333333,
              "#9c179e"
             ],
             [
              0.4444444444444444,
              "#bd3786"
             ],
             [
              0.5555555555555556,
              "#d8576b"
             ],
             [
              0.6666666666666666,
              "#ed7953"
             ],
             [
              0.7777777777777778,
              "#fb9f3a"
             ],
             [
              0.8888888888888888,
              "#fdca26"
             ],
             [
              1,
              "#f0f921"
             ]
            ],
            "type": "histogram2d"
           }
          ],
          "histogram2dcontour": [
           {
            "colorbar": {
             "outlinewidth": 0,
             "ticks": ""
            },
            "colorscale": [
             [
              0,
              "#0d0887"
             ],
             [
              0.1111111111111111,
              "#46039f"
             ],
             [
              0.2222222222222222,
              "#7201a8"
             ],
             [
              0.3333333333333333,
              "#9c179e"
             ],
             [
              0.4444444444444444,
              "#bd3786"
             ],
             [
              0.5555555555555556,
              "#d8576b"
             ],
             [
              0.6666666666666666,
              "#ed7953"
             ],
             [
              0.7777777777777778,
              "#fb9f3a"
             ],
             [
              0.8888888888888888,
              "#fdca26"
             ],
             [
              1,
              "#f0f921"
             ]
            ],
            "type": "histogram2dcontour"
           }
          ],
          "mesh3d": [
           {
            "colorbar": {
             "outlinewidth": 0,
             "ticks": ""
            },
            "type": "mesh3d"
           }
          ],
          "parcoords": [
           {
            "line": {
             "colorbar": {
              "outlinewidth": 0,
              "ticks": ""
             }
            },
            "type": "parcoords"
           }
          ],
          "pie": [
           {
            "automargin": true,
            "type": "pie"
           }
          ],
          "scatter": [
           {
            "marker": {
             "line": {
              "color": "#283442"
             }
            },
            "type": "scatter"
           }
          ],
          "scatter3d": [
           {
            "line": {
             "colorbar": {
              "outlinewidth": 0,
              "ticks": ""
             }
            },
            "marker": {
             "colorbar": {
              "outlinewidth": 0,
              "ticks": ""
             }
            },
            "type": "scatter3d"
           }
          ],
          "scattercarpet": [
           {
            "marker": {
             "colorbar": {
              "outlinewidth": 0,
              "ticks": ""
             }
            },
            "type": "scattercarpet"
           }
          ],
          "scattergeo": [
           {
            "marker": {
             "colorbar": {
              "outlinewidth": 0,
              "ticks": ""
             }
            },
            "type": "scattergeo"
           }
          ],
          "scattergl": [
           {
            "marker": {
             "line": {
              "color": "#283442"
             }
            },
            "type": "scattergl"
           }
          ],
          "scattermapbox": [
           {
            "marker": {
             "colorbar": {
              "outlinewidth": 0,
              "ticks": ""
             }
            },
            "type": "scattermapbox"
           }
          ],
          "scatterpolar": [
           {
            "marker": {
             "colorbar": {
              "outlinewidth": 0,
              "ticks": ""
             }
            },
            "type": "scatterpolar"
           }
          ],
          "scatterpolargl": [
           {
            "marker": {
             "colorbar": {
              "outlinewidth": 0,
              "ticks": ""
             }
            },
            "type": "scatterpolargl"
           }
          ],
          "scatterternary": [
           {
            "marker": {
             "colorbar": {
              "outlinewidth": 0,
              "ticks": ""
             }
            },
            "type": "scatterternary"
           }
          ],
          "surface": [
           {
            "colorbar": {
             "outlinewidth": 0,
             "ticks": ""
            },
            "colorscale": [
             [
              0,
              "#0d0887"
             ],
             [
              0.1111111111111111,
              "#46039f"
             ],
             [
              0.2222222222222222,
              "#7201a8"
             ],
             [
              0.3333333333333333,
              "#9c179e"
             ],
             [
              0.4444444444444444,
              "#bd3786"
             ],
             [
              0.5555555555555556,
              "#d8576b"
             ],
             [
              0.6666666666666666,
              "#ed7953"
             ],
             [
              0.7777777777777778,
              "#fb9f3a"
             ],
             [
              0.8888888888888888,
              "#fdca26"
             ],
             [
              1,
              "#f0f921"
             ]
            ],
            "type": "surface"
           }
          ],
          "table": [
           {
            "cells": {
             "fill": {
              "color": "#506784"
             },
             "line": {
              "color": "rgb(17,17,17)"
             }
            },
            "header": {
             "fill": {
              "color": "#2a3f5f"
             },
             "line": {
              "color": "rgb(17,17,17)"
             }
            },
            "type": "table"
           }
          ]
         },
         "layout": {
          "annotationdefaults": {
           "arrowcolor": "#f2f5fa",
           "arrowhead": 0,
           "arrowwidth": 1
          },
          "autotypenumbers": "strict",
          "coloraxis": {
           "colorbar": {
            "outlinewidth": 0,
            "ticks": ""
           }
          },
          "colorscale": {
           "diverging": [
            [
             0,
             "#8e0152"
            ],
            [
             0.1,
             "#c51b7d"
            ],
            [
             0.2,
             "#de77ae"
            ],
            [
             0.3,
             "#f1b6da"
            ],
            [
             0.4,
             "#fde0ef"
            ],
            [
             0.5,
             "#f7f7f7"
            ],
            [
             0.6,
             "#e6f5d0"
            ],
            [
             0.7,
             "#b8e186"
            ],
            [
             0.8,
             "#7fbc41"
            ],
            [
             0.9,
             "#4d9221"
            ],
            [
             1,
             "#276419"
            ]
           ],
           "sequential": [
            [
             0,
             "#0d0887"
            ],
            [
             0.1111111111111111,
             "#46039f"
            ],
            [
             0.2222222222222222,
             "#7201a8"
            ],
            [
             0.3333333333333333,
             "#9c179e"
            ],
            [
             0.4444444444444444,
             "#bd3786"
            ],
            [
             0.5555555555555556,
             "#d8576b"
            ],
            [
             0.6666666666666666,
             "#ed7953"
            ],
            [
             0.7777777777777778,
             "#fb9f3a"
            ],
            [
             0.8888888888888888,
             "#fdca26"
            ],
            [
             1,
             "#f0f921"
            ]
           ],
           "sequentialminus": [
            [
             0,
             "#0d0887"
            ],
            [
             0.1111111111111111,
             "#46039f"
            ],
            [
             0.2222222222222222,
             "#7201a8"
            ],
            [
             0.3333333333333333,
             "#9c179e"
            ],
            [
             0.4444444444444444,
             "#bd3786"
            ],
            [
             0.5555555555555556,
             "#d8576b"
            ],
            [
             0.6666666666666666,
             "#ed7953"
            ],
            [
             0.7777777777777778,
             "#fb9f3a"
            ],
            [
             0.8888888888888888,
             "#fdca26"
            ],
            [
             1,
             "#f0f921"
            ]
           ]
          },
          "colorway": [
           "#636efa",
           "#EF553B",
           "#00cc96",
           "#ab63fa",
           "#FFA15A",
           "#19d3f3",
           "#FF6692",
           "#B6E880",
           "#FF97FF",
           "#FECB52"
          ],
          "font": {
           "color": "#f2f5fa"
          },
          "geo": {
           "bgcolor": "rgb(17,17,17)",
           "lakecolor": "rgb(17,17,17)",
           "landcolor": "rgb(17,17,17)",
           "showlakes": true,
           "showland": true,
           "subunitcolor": "#506784"
          },
          "hoverlabel": {
           "align": "left"
          },
          "hovermode": "closest",
          "mapbox": {
           "style": "dark"
          },
          "paper_bgcolor": "rgb(17,17,17)",
          "plot_bgcolor": "rgb(17,17,17)",
          "polar": {
           "angularaxis": {
            "gridcolor": "#506784",
            "linecolor": "#506784",
            "ticks": ""
           },
           "bgcolor": "rgb(17,17,17)",
           "radialaxis": {
            "gridcolor": "#506784",
            "linecolor": "#506784",
            "ticks": ""
           }
          },
          "scene": {
           "xaxis": {
            "backgroundcolor": "rgb(17,17,17)",
            "gridcolor": "#506784",
            "gridwidth": 2,
            "linecolor": "#506784",
            "showbackground": true,
            "ticks": "",
            "zerolinecolor": "#C8D4E3"
           },
           "yaxis": {
            "backgroundcolor": "rgb(17,17,17)",
            "gridcolor": "#506784",
            "gridwidth": 2,
            "linecolor": "#506784",
            "showbackground": true,
            "ticks": "",
            "zerolinecolor": "#C8D4E3"
           },
           "zaxis": {
            "backgroundcolor": "rgb(17,17,17)",
            "gridcolor": "#506784",
            "gridwidth": 2,
            "linecolor": "#506784",
            "showbackground": true,
            "ticks": "",
            "zerolinecolor": "#C8D4E3"
           }
          },
          "shapedefaults": {
           "line": {
            "color": "#f2f5fa"
           }
          },
          "sliderdefaults": {
           "bgcolor": "#C8D4E3",
           "bordercolor": "rgb(17,17,17)",
           "borderwidth": 1,
           "tickwidth": 0
          },
          "ternary": {
           "aaxis": {
            "gridcolor": "#506784",
            "linecolor": "#506784",
            "ticks": ""
           },
           "baxis": {
            "gridcolor": "#506784",
            "linecolor": "#506784",
            "ticks": ""
           },
           "bgcolor": "rgb(17,17,17)",
           "caxis": {
            "gridcolor": "#506784",
            "linecolor": "#506784",
            "ticks": ""
           }
          },
          "title": {
           "x": 0.05
          },
          "updatemenudefaults": {
           "bgcolor": "#506784",
           "borderwidth": 0
          },
          "xaxis": {
           "automargin": true,
           "gridcolor": "#283442",
           "linecolor": "#506784",
           "ticks": "",
           "title": {
            "standoff": 15
           },
           "zerolinecolor": "#283442",
           "zerolinewidth": 2
          },
          "yaxis": {
           "automargin": true,
           "gridcolor": "#283442",
           "linecolor": "#506784",
           "ticks": "",
           "title": {
            "standoff": 15
           },
           "zerolinecolor": "#283442",
           "zerolinewidth": 2
          }
         }
        },
        "title": {
         "text": "<b> Life Expectancy Versus Unemployment in 2019 </b>"
        },
        "xaxis": {
         "anchor": "y",
         "domain": [
          0,
          1
         ],
         "title": {
          "text": "LifeExp_2019"
         }
        },
        "yaxis": {
         "anchor": "x",
         "domain": [
          0,
          1
         ],
         "title": {
          "text": "Unemployment_2019"
         }
        }
       }
      }
     },
     "metadata": {},
     "output_type": "display_data"
    }
   ],
   "source": [
    "px.scatter(df,y='Unemployment_2019',x='LifeExp_2019',color='Country',template='plotly_dark',opacity=0.6,title='<b> Life Expectancy Versus Unemployment in 2019 </b>')"
   ]
  },
  {
   "cell_type": "markdown",
   "metadata": {},
   "source": [
    "### Testes de Hipóteses e ICS"
   ]
  },
  {
   "cell_type": "code",
   "execution_count": 20,
   "metadata": {},
   "outputs": [
    {
     "name": "stdout",
     "output_type": "stream",
     "text": [
      "Stat = -5.88\n",
      "P-valor = 0.00\n",
      "Rejeitamos a hipótese nula de que as médias globais em 2000 e 2019 são iguais.\n"
     ]
    }
   ],
   "source": [
    "# Teste t para amostras relacionadas (mesmos países, anos diferentes)\n",
    "stat, p = stats.ttest_ind(df[\"LifeExp_2000\"], df[\"LifeExp_2019\"])\n",
    "\n",
    "print(f\"Stat = {stat:.2f}\")\n",
    "print(f\"P-valor = {p:.2f}\")\n",
    "\n",
    "if p < 0.05:\n",
    "    print(\"Rejeitamos a hipótese nula de que as médias globais em 2000 e 2019 são iguais.\")\n",
    "else:\n",
    "    print(\"Não rejeitamos a hipótese nula.\")\n"
   ]
  },
  {
   "cell_type": "code",
   "execution_count": 21,
   "metadata": {},
   "outputs": [
    {
     "name": "stdout",
     "output_type": "stream",
     "text": [
      "Intervalo de Confiança para Expectativa de Vida Global em 2000: (65.31645384226839, 68.52646006501637)\n"
     ]
    }
   ],
   "source": [
    "confidence_level = 0.95\n",
    "degrees_freedom = df[\"LifeExp_2000\"].shape[0] - 1\n",
    "sample_mean = df[\"LifeExp_2000\"].mean()\n",
    "sample_standard_error = stats.sem(df[\"LifeExp_2000\"])\n",
    "\n",
    "confidence_interval = stats.t.interval(confidence_level, degrees_freedom, sample_mean, sample_standard_error)\n",
    "\n",
    "print(f\"Intervalo de Confiança para Expectativa de Vida Global em 2000: {confidence_interval}\")\n"
   ]
  },
  {
   "cell_type": "code",
   "execution_count": 22,
   "metadata": {},
   "outputs": [
    {
     "name": "stdout",
     "output_type": "stream",
     "text": [
      "\n",
      "Africa - Teste t entre 2000 e 2019:\n",
      "Stat = -13.61\n",
      "P-valor = 0.00\n",
      "Rejeitamos a hipótese nula de que as médias em 2000 e 2019 são iguais.\n",
      "Intervalo de Confiança para Expectativa de Vida em 2000 (Africa): (51.6825881418726, 56.2079118581274)\n",
      "\n",
      "Americas - Teste t entre 2000 e 2019:\n",
      "Stat = -8.20\n",
      "P-valor = 0.00\n",
      "Rejeitamos a hipótese nula de que as médias em 2000 e 2019 são iguais.\n",
      "Intervalo de Confiança para Expectativa de Vida em 2000 (Americas): (70.60095215370997, 74.57184784629003)\n",
      "\n",
      "Eastern Mediterranean - Teste t entre 2000 e 2019:\n",
      "Stat = -8.99\n",
      "P-valor = 0.00\n",
      "Rejeitamos a hipótese nula de que as médias em 2000 e 2019 são iguais.\n",
      "Intervalo de Confiança para Expectativa de Vida em 2000 (Eastern Mediterranean): (65.9396884612347, 72.31089977405942)\n",
      "\n",
      "Europe - Teste t entre 2000 e 2019:\n",
      "Stat = -17.92\n",
      "P-valor = 0.00\n",
      "Rejeitamos a hipótese nula de que as médias em 2000 e 2019 são iguais.\n",
      "Intervalo de Confiança para Expectativa de Vida em 2000 (Europe): (72.33875732575298, 75.44217290680517)\n",
      "\n",
      "South-East Asia - Teste t entre 2000 e 2019:\n",
      "Stat = -12.80\n",
      "P-valor = 0.00\n",
      "Rejeitamos a hipótese nula de que as médias em 2000 e 2019 são iguais.\n",
      "Intervalo de Confiança para Expectativa de Vida em 2000 (South-East Asia): (63.33175066396551, 69.18624933603449)\n",
      "\n",
      "Western Pacific - Teste t entre 2000 e 2019:\n",
      "Stat = -5.23\n",
      "P-valor = 0.00\n",
      "Rejeitamos a hipótese nula de que as médias em 2000 e 2019 são iguais.\n",
      "Intervalo de Confiança para Expectativa de Vida em 2000 (Western Pacific): (66.07523945052654, 73.63226054947344)\n"
     ]
    }
   ],
   "source": [
    "continents = df[\"ParentLocation\"].unique()\n",
    "\n",
    "for continent in continents:\n",
    "    subset = df[df[\"ParentLocation\"] == continent]\n",
    "    \n",
    "    # Teste t\n",
    "    stat, p = stats.ttest_rel(subset[\"LifeExp_2000\"], subset[\"LifeExp_2019\"])\n",
    "    print(f\"\\n{continent} - Teste t entre 2000 e 2019:\")\n",
    "    print(f\"Stat = {stat:.2f}\")\n",
    "    print(f\"P-valor = {p:.2f}\")\n",
    "    \n",
    "    if p < 0.05:\n",
    "        print(\"Rejeitamos a hipótese nula de que as médias em 2000 e 2019 são iguais.\")\n",
    "    else:\n",
    "        print(\"Não rejeitamos a hipótese nula.\")\n",
    "    \n",
    "    # IC para 2000\n",
    "    degrees_freedom = subset[\"LifeExp_2000\"].shape[0] - 1\n",
    "    sample_mean = subset[\"LifeExp_2000\"].mean()\n",
    "    sample_standard_error = stats.sem(subset[\"LifeExp_2000\"])\n",
    "    confidence_interval = stats.t.interval(confidence_level, degrees_freedom, sample_mean, sample_standard_error)\n",
    "    \n",
    "    print(f\"Intervalo de Confiança para Expectativa de Vida em 2000 ({continent}): {confidence_interval}\")\n"
   ]
  },
  {
   "cell_type": "code",
   "execution_count": 23,
   "metadata": {},
   "outputs": [],
   "source": [
    "df['Average_HDI'] = df[['HDI_2000', 'HDI_2010', 'HDI_2015', 'HDI_2019']].mean(axis=1)\n",
    "df['Average_LifeExp'] = df[['LifeExp_2000', 'LifeExp_2010', 'LifeExp_2015', 'LifeExp_2019']].mean(axis=1)\n",
    "df['Average_Unemployment'] = df[['Unemployment_2000', 'Unemployment_2010', 'Unemployment_2015', 'Unemployment_2019']].mean(axis=1) "
   ]
  },
  {
   "cell_type": "code",
   "execution_count": 24,
   "metadata": {},
   "outputs": [
    {
     "name": "stdout",
     "output_type": "stream",
     "text": [
      "Teste t Média IDH-Média Expectativa de Vida: Stat = -14.35, P-valor = 0.00\n",
      "IC Média Expectativa de Vida (baixo IDH): (62.68819128942917, 65.71082186846556)\n",
      "IC Média Expectativa de Vida (alto IDH): (75.88366255014796, 77.58640411651871)\n"
     ]
    }
   ],
   "source": [
    "#Relacionando a média do IDH com a media da expectativa de vida\n",
    "median_hdi = df['Average_HDI'].median()\n",
    "low_hdi = df[df['Average_HDI'] <= median_hdi]\n",
    "high_hdi = df[df['Average_HDI'] > median_hdi]\n",
    "\n",
    "stat, p = stats.ttest_ind(low_hdi['Average_LifeExp'], high_hdi['Average_LifeExp'])\n",
    "print(f\"Teste t Média IDH-Média Expectativa de Vida: Stat = {stat:.2f}, P-valor = {p:.2f}\")\n",
    "\n",
    "# ICs\n",
    "sample_standard_error = stats.sem(low_hdi['Average_LifeExp'])\n",
    "confidence_interval_low = stats.t.interval(confidence_level, len(low_hdi['Average_LifeExp'])-1, loc=low_hdi['Average_LifeExp'].mean(), scale=sample_standard_error)\n",
    "print(f\"IC Média Expectativa de Vida (baixo IDH): {confidence_interval_low}\")\n",
    "\n",
    "sample_standard_error = stats.sem(high_hdi['Average_LifeExp'])\n",
    "confidence_interval_high = stats.t.interval(confidence_level, len(high_hdi['Average_LifeExp'])-1, loc=high_hdi['Average_LifeExp'].mean(), scale=sample_standard_error)\n",
    "print(f\"IC Média Expectativa de Vida (alto IDH): {confidence_interval_high}\")"
   ]
  },
  {
   "cell_type": "code",
   "execution_count": 25,
   "metadata": {},
   "outputs": [
    {
     "name": "stdout",
     "output_type": "stream",
     "text": [
      "\n",
      "Teste t Média Desemprego-Média Expectativa de Vida: Stat = -1.77, P-valor = 0.08\n",
      "IC Média Expectativa de Vida (baixo desemprego): (67.26173206218992, 71.24734688517849)\n",
      "IC Média Expectativa de Vida (alto desemprego): (69.85634708987105, 73.36885291012895)\n"
     ]
    }
   ],
   "source": [
    "#Relacionando a meid do desemprego com a média da expectativa de vida\n",
    "\n",
    "median_unemployment = df['Average_Unemployment'].median()\n",
    "low_unemployment = df[df['Average_Unemployment'] <= median_unemployment]\n",
    "high_unemployment = df[df['Average_Unemployment'] > median_unemployment]\n",
    "\n",
    "stat, p = stats.ttest_ind(low_unemployment['Average_LifeExp'], high_unemployment['Average_LifeExp'])\n",
    "print(f\"\\nTeste t Média Desemprego-Média Expectativa de Vida: Stat = {stat:.2f}, P-valor = {p:.2f}\")\n",
    "\n",
    "# ICs\n",
    "sample_standard_error = stats.sem(low_unemployment['Average_LifeExp'])\n",
    "confidence_interval_low = stats.t.interval(confidence_level, len(low_unemployment['Average_LifeExp'])-1, loc=low_unemployment['Average_LifeExp'].mean(), scale=sample_standard_error)\n",
    "print(f\"IC Média Expectativa de Vida (baixo desemprego): {confidence_interval_low}\")\n",
    "\n",
    "sample_standard_error = stats.sem(high_unemployment['Average_LifeExp'])\n",
    "confidence_interval_high = stats.t.interval(confidence_level, len(high_unemployment['Average_LifeExp'])-1, loc=high_unemployment['Average_LifeExp'].mean(), scale=sample_standard_error)\n",
    "print(f\"IC Média Expectativa de Vida (alto desemprego): {confidence_interval_high}\")\n"
   ]
  }
 ],
 "metadata": {
  "kernelspec": {
   "display_name": "Python 3",
   "language": "python",
   "name": "python3"
  },
  "language_info": {
   "codemirror_mode": {
    "name": "ipython",
    "version": 3
   },
   "file_extension": ".py",
   "mimetype": "text/x-python",
   "name": "python",
   "nbconvert_exporter": "python",
   "pygments_lexer": "ipython3",
   "version": "3.11.1"
  }
 },
 "nbformat": 4,
 "nbformat_minor": 2
}
